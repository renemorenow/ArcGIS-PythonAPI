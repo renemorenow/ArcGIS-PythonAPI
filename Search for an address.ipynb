{
 "cells": [
  {
   "cell_type": "code",
   "execution_count": 57,
   "metadata": {},
   "outputs": [],
   "source": [
    "#import the ArcGIS API for Python\n",
    "from arcgis.gis import GIS\n",
    "from arcgis.geocoding import geocode, reverse_geocode\n",
    "from arcgis.geometry import Point"
   ]
  },
  {
   "cell_type": "code",
   "execution_count": 58,
   "metadata": {},
   "outputs": [
    {
     "data": {
      "text/html": [
       "GIS @ <a href=\"https://www.arcgis.com\">https://www.arcgis.com</a>"
      ],
      "text/plain": [
       "GIS @ https://www.arcgis.com version:7.4"
      ]
     },
     "execution_count": 58,
     "metadata": {},
     "output_type": "execute_result"
    }
   ],
   "source": [
    "#Log into ArcGIS Online as an anonymous user\n",
    "gis = GIS()\n",
    "gis"
   ]
  },
  {
   "cell_type": "code",
   "execution_count": 59,
   "metadata": {},
   "outputs": [
    {
     "data": {
      "text/plain": [
       "3"
      ]
     },
     "execution_count": 59,
     "metadata": {},
     "output_type": "execute_result"
    }
   ],
   "source": [
    "#Geocode by query to locate the Hollywood sign.\n",
    "geocode_result = geocode(address=\"Calle 152, Mazuren, Suba, Bogotá, D.C.\", as_featureset=True)\n",
    "\n",
    "# A list of features\n",
    "len(geocode_result.features)"
   ]
  },
  {
   "cell_type": "code",
   "execution_count": 60,
   "metadata": {},
   "outputs": [
    {
     "data": {
      "application/vnd.jupyter.widget-view+json": {
       "model_id": "ae12edbb809042a2b65888172ab0daf6",
       "version_major": 2,
       "version_minor": 0
      },
      "text/plain": [
       "MapView(layout=Layout(height='400px', width='100%'), zoom=14.0)"
      ]
     },
     "metadata": {},
     "output_type": "display_data"
    },
    {
     "data": {
      "text/html": [
       "<div class=\"map-static-img-preview-eda6c849-555c-403d-b945-16964f47671d\"><img src=\"\"></img></div>"
      ],
      "text/plain": [
       "<IPython.core.display.HTML object>"
      ]
     },
     "metadata": {},
     "output_type": "display_data"
    }
   ],
   "source": [
    "#Display a map to display the geocode result.\n",
    "m = gis.map(\"Bogotá\", zoomlevel=14)\n",
    "m"
   ]
  },
  {
   "cell_type": "code",
   "execution_count": 61,
   "metadata": {},
   "outputs": [],
   "source": [
    "#Draw the geocode result on the map.\n",
    "m.draw(geocode_result)"
   ]
  },
  {
   "cell_type": "code",
   "execution_count": 62,
   "metadata": {},
   "outputs": [],
   "source": [
    "m.clear_graphics()"
   ]
  },
  {
   "cell_type": "code",
   "execution_count": 63,
   "metadata": {},
   "outputs": [],
   "source": [
    "location = {\n",
    "     'Y': 4.735268706434325,                 # 'Y' is latitude\n",
    "     'X': -74.05270454531392,               # 'X' is longitude\n",
    "     'spatialReference': {\n",
    "         'wkid':4326\n",
    "     }\n",
    "}\n",
    "unknown_pt = Point(location)"
   ]
  },
  {
   "cell_type": "code",
   "execution_count": 64,
   "metadata": {},
   "outputs": [
    {
     "data": {
      "text/plain": [
       "{'address': {'Match_addr': 'Calle 152, Mazuren, Suba, Bogotá, D.C.',\n",
       "  'LongLabel': 'Calle 152, Mazuren, Suba, Bogotá, D.C., COL',\n",
       "  'ShortLabel': 'Calle 152',\n",
       "  'Addr_type': 'StreetName',\n",
       "  'Type': '',\n",
       "  'PlaceName': '',\n",
       "  'AddNum': '',\n",
       "  'Address': 'Calle 152',\n",
       "  'Block': '',\n",
       "  'Sector': '',\n",
       "  'Neighborhood': 'Mazuren',\n",
       "  'District': 'Suba',\n",
       "  'City': 'Bogotá, D.C.',\n",
       "  'MetroArea': '',\n",
       "  'Subregion': 'Bogotá, D.C.',\n",
       "  'Region': 'Bogotá, D.C.',\n",
       "  'Territory': '',\n",
       "  'Postal': '111156',\n",
       "  'PostalExt': '',\n",
       "  'CountryCode': 'COL'},\n",
       " 'location': {'x': -74.05269912365365,\n",
       "  'y': 4.7352989773708,\n",
       "  'spatialReference': {'wkid': 4326, 'latestWkid': 4326}}}"
      ]
     },
     "execution_count": 64,
     "metadata": {},
     "output_type": "execute_result"
    }
   ],
   "source": [
    "address = reverse_geocode(location=unknown_pt)\n",
    "address"
   ]
  },
  {
   "cell_type": "code",
   "execution_count": 65,
   "metadata": {},
   "outputs": [],
   "source": [
    "m.draw(address)"
   ]
  }
 ],
 "metadata": {
  "kernelspec": {
   "display_name": "Python 3",
   "language": "python",
   "name": "python3"
  },
  "language_info": {
   "codemirror_mode": {
    "name": "ipython",
    "version": 3
   },
   "file_extension": ".py",
   "mimetype": "text/x-python",
   "name": "python",
   "nbconvert_exporter": "python",
   "pygments_lexer": "ipython3",
   "version": "3.6.8"
  }
 },
 "nbformat": 4,
 "nbformat_minor": 2
}
