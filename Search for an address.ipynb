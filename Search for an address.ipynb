{
 "cells": [
  {
   "cell_type": "code",
   "execution_count": 4,
   "metadata": {},
   "outputs": [],
   "source": [
    "#import the ArcGIS API for Python\n",
    "from arcgis.gis import GIS\n",
    "from arcgis.geocoding import geocode, reverse_geocode, Geocoder\n",
    "from arcgis.geometry import Point"
   ]
  },
  {
   "cell_type": "code",
   "execution_count": 152,
   "metadata": {},
   "outputs": [
    {
     "name": "stdout",
     "output_type": "stream",
     "text": [
      "Enter password: ········\n"
     ]
    },
    {
     "data": {
      "text/plain": [
       "'https://renemorenow.maps.arcgis.com'"
      ]
     },
     "execution_count": 152,
     "metadata": {},
     "output_type": "execute_result"
    }
   ],
   "source": [
    "#Log into ArcGIS Online as an anonymous user\n",
    "gis = GIS('https://www.arcgis.com','renemorenow')\n",
    "gis.url"
   ]
  },
  {
   "cell_type": "code",
   "execution_count": 60,
   "metadata": {},
   "outputs": [
    {
     "name": "stdout",
     "output_type": "stream",
     "text": [
      "4\n"
     ]
    },
    {
     "data": {
      "text/plain": [
       "{\"geometry\": {\"x\": -74.11398999999994, \"y\": 4.743660000000034, \"spatialReference\": {\"wkid\": 4326, \"latestWkid\": 4326}}, \"attributes\": {\"Loc_name\": \"World\", \"Status\": \"M\", \"Score\": 90.4, \"Match_addr\": \"Toscana, Suba, Bogot\\u00e1, D.C.\", \"LongLabel\": \"Toscana, Suba, Bogot\\u00e1, D.C., COL\", \"ShortLabel\": \"Toscana\", \"Addr_type\": \"Locality\", \"Type\": \"Neighborhood\", \"PlaceName\": \"Toscana\", \"Place_addr\": \"Toscana, Suba, Bogot\\u00e1, D.C.\", \"Phone\": \"\", \"URL\": \"\", \"Rank\": 15, \"AddBldg\": \"\", \"AddNum\": \"\", \"AddNumFrom\": \"\", \"AddNumTo\": \"\", \"AddRange\": \"\", \"Side\": \"\", \"StPreDir\": \"\", \"StPreType\": \"\", \"StName\": \"\", \"StType\": \"\", \"StDir\": \"\", \"BldgType\": \"\", \"BldgName\": \"\", \"LevelType\": \"\", \"LevelName\": \"\", \"UnitType\": \"\", \"UnitName\": \"\", \"SubAddr\": \"\", \"StAddr\": \"\", \"Block\": \"\", \"Sector\": \"\", \"Nbrhd\": \"Toscana\", \"District\": \"Suba\", \"City\": \"Bogot\\u00e1, D.C.\", \"MetroArea\": \"\", \"Subregion\": \"Bogot\\u00e1, D.C.\", \"Region\": \"Bogot\\u00e1, D.C.\", \"RegionAbbr\": \"DC\", \"Territory\": \"\", \"Zone\": \"\", \"Postal\": \"\", \"PostalExt\": \"\", \"Country\": \"COL\", \"CntryName\": \"Colombia\", \"LangCode\": \"SPA\", \"Distance\": 0, \"X\": -74.11398999999994, \"Y\": 4.743660000000034, \"DisplayX\": -74.11398999999994, \"DisplayY\": 4.743660000000034, \"Xmin\": -74.12398999999995, \"Xmax\": -74.10398999999994, \"Ymin\": 4.733660000000034, \"Ymax\": 4.753660000000034, \"ExInfo\": \"PARQUE\", \"OBJECTID\": 1}}"
      ]
     },
     "execution_count": 60,
     "metadata": {},
     "output_type": "execute_result"
    }
   ],
   "source": [
    "#Geocode by query to locate the Hollywood sign.\n",
    "geocode_result = geocode({\"address\":\"Cai Gaitana, Suba, Bogotá, D.C.\",\"address\":\"Parque Toscana, Suba, Bogotá, D.C.\"}, as_featureset=True)\n",
    "\n",
    "# A list of features\n",
    "print(len(geocode_result.features))\n",
    "geocode_result.features[0]"
   ]
  },
  {
   "cell_type": "code",
   "execution_count": 8,
   "metadata": {},
   "outputs": [
    {
     "data": {
      "application/vnd.jupyter.widget-view+json": {
       "model_id": "f40a4815eff54725841f9351574ba866",
       "version_major": 2,
       "version_minor": 0
      },
      "text/plain": [
       "MapView(layout=Layout(height='400px', width='100%'))"
      ]
     },
     "metadata": {},
     "output_type": "display_data"
    },
    {
     "data": {
      "text/html": [
       "<div class=\"map-static-img-preview-8d222121-2837-4a71-8c92-b4a3a0885ba1\"><img src=\"\"></img></div>"
      ],
      "text/plain": [
       "<IPython.core.display.HTML object>"
      ]
     },
     "metadata": {},
     "output_type": "display_data"
    },
    {
     "data": {
      "text/html": [
       "<div class=\"map-html-embed-preview-8d222121-2837-4a71-8c92-b4a3a0885ba1\"></div>"
      ],
      "text/plain": [
       "<IPython.core.display.HTML object>"
      ]
     },
     "metadata": {},
     "output_type": "display_data"
    }
   ],
   "source": [
    "#Display a map to display the geocode result.\n",
    "m = gis.map(\"Bogotá\", zoomlevel=14)\n",
    "m"
   ]
  },
  {
   "cell_type": "code",
   "execution_count": 66,
   "metadata": {},
   "outputs": [],
   "source": [
    "#Draw the geocode result on the map.\n",
    "m.draw(geocode_result)"
   ]
  },
  {
   "cell_type": "code",
   "execution_count": 73,
   "metadata": {},
   "outputs": [],
   "source": [
    "m.clear_graphics()"
   ]
  },
  {
   "cell_type": "code",
   "execution_count": 162,
   "metadata": {},
   "outputs": [
    {
     "name": "stdout",
     "output_type": "stream",
     "text": [
      "{'x': -74.11398999999994, 'y': 4.743660000000034, 'spatialReference': {'wkid': 4326, 'latestWkid': 4326}, 'type': 'point'}\n"
     ]
    }
   ],
   "source": [
    "location = {\n",
    "     'Y': 4.735268706434325,                 # 'Y' is latitude\n",
    "     'X': -74.05270454531392,               # 'X' is longitude\n",
    "     'spatialReference': {\n",
    "         'wkid':4326\n",
    "     }\n",
    "}\n",
    "print(geocode_result.features[0].geometry)\n",
    "location = geocode_result.features[2].geometry\n",
    "unknown_pt = Point(location)"
   ]
  },
  {
   "cell_type": "code",
   "execution_count": 83,
   "metadata": {},
   "outputs": [
    {
     "data": {
      "text/plain": [
       "{'address': {'Match_addr': 'La Toscana',\n",
       "  'LongLabel': 'La Toscana, Carrera 129, Toscana, Suba, Bogotá, D.C., COL',\n",
       "  'ShortLabel': 'La Toscana',\n",
       "  'Addr_type': 'POI',\n",
       "  'Type': 'Park',\n",
       "  'PlaceName': 'La Toscana',\n",
       "  'AddNum': '',\n",
       "  'Address': 'Carrera 129',\n",
       "  'Block': '',\n",
       "  'Sector': '',\n",
       "  'Neighborhood': 'Toscana',\n",
       "  'District': 'Suba',\n",
       "  'City': 'Bogotá, D.C.',\n",
       "  'MetroArea': '',\n",
       "  'Subregion': 'Bogotá, D.C.',\n",
       "  'Region': 'Bogotá, D.C.',\n",
       "  'RegionAbbr': 'DC',\n",
       "  'Territory': '',\n",
       "  'Postal': '111151',\n",
       "  'PostalExt': '',\n",
       "  'CntryName': 'Colombia',\n",
       "  'CountryCode': 'COL'},\n",
       " 'location': {'x': -74.11228999999997,\n",
       "  'y': 4.743280000000027,\n",
       "  'spatialReference': {'wkid': 4326, 'latestWkid': 4326}}}"
      ]
     },
     "execution_count": 83,
     "metadata": {},
     "output_type": "execute_result"
    }
   ],
   "source": [
    "address = reverse_geocode(location=unknown_pt)\n",
    "address"
   ]
  },
  {
   "cell_type": "code",
   "execution_count": 77,
   "metadata": {},
   "outputs": [
    {
     "name": "stdout",
     "output_type": "stream",
     "text": [
      "<class 'arcgis.features.feature.Feature'>\n",
      "<class 'arcgis.features.feature.FeatureSet'>\n"
     ]
    }
   ],
   "source": [
    "m.draw(geocode_result, symbol={\n",
    "\"type\": \"esriSMS\",\n",
    " \"style\": \"esriSMSSquare\",\n",
    " \"color\": [76,115,0,255],\n",
    " \"size\": 8,\n",
    " \"angle\": 0,\n",
    " \"xoffset\": 0,\n",
    " \"yoffset\": 0,\n",
    " \"outline\": \n",
    "  {\n",
    "  \"color\": [152,230,0,255],\n",
    "   \"width\": 1\n",
    "  }\n",
    "})\n",
    "print(type(geocode_result.features[0]))\n",
    "print(type(geocode_result))"
   ]
  },
  {
   "cell_type": "code",
   "execution_count": 86,
   "metadata": {},
   "outputs": [
    {
     "data": {
      "text/plain": [
       "[<Geocoder url:\"https://geocode.arcgis.com/arcgis/rest/services/World/GeocodeServer\">]"
      ]
     },
     "execution_count": 86,
     "metadata": {},
     "output_type": "execute_result"
    }
   ],
   "source": [
    "from arcgis.geocoding import get_geocoders\n",
    "geocoder = get_geocoders(gis)\n",
    "geocoder"
   ]
  },
  {
   "cell_type": "code",
   "execution_count": 87,
   "metadata": {},
   "outputs": [],
   "source": [
    "from arcgis.geocoding import analyze_geocode_input"
   ]
  },
  {
   "cell_type": "code",
   "execution_count": 118,
   "metadata": {},
   "outputs": [
    {
     "data": {
      "text/plain": [
       "[<Item title:\"Hawaii Emergency Shelters CSV\" type:CSV owner:Learn_ArcGIS>,\n",
       " <Item title:\"NATGEO_Battlefields_Addresses\" type:CSV owner:mladerach>,\n",
       " <Item title:\"Employee Addresses (Whitehouse Post)\" type:CSV owner:Matt.Kaufman@am.jll.com_JLL>,\n",
       " <Item title:\"points_and_events_address_sample (1)\" type:CSV owner:pempey1>,\n",
       " <Item title:\"addresses 110920\" type:CSV owner:jsimingt_umich>,\n",
       " <Item title:\"Santa_Ana_VoteCenter_Addresses\" type:CSV owner:annjl_ucirvine>,\n",
       " <Item title:\"Home_Healthcare_Agencies\" type:CSV Collection owner:DarionGibson1>,\n",
       " <Item title:\"2020 Columbia County Real Estate Tax Roll\" type:CSV Collection owner:ArcGISOnlineadmin>,\n",
       " <Item title:\"SUNYs_new\" type:CSV owner:RobinEsriOnline>,\n",
       " <Item title:\"Florida_COVID19_05192021_ByZip_CSV\" type:CSV Collection owner:USFDHHC.GIS>]"
      ]
     },
     "execution_count": 118,
     "metadata": {},
     "output_type": "execute_result"
    }
   ],
   "source": [
    "address = gis.content.search(\"address\",item_type=\"csv\")\n",
    "address"
   ]
  },
  {
   "cell_type": "code",
   "execution_count": null,
   "metadata": {},
   "outputs": [],
   "source": [
    "from arcgis.features import Table\n",
    "url = \"https://www.arcgis.com/sharing/rest/content/items/def43952c3d04c91b21e9a06f2438200/data\"\n",
    "table_lyr = Table(url)\n",
    "print(type(table_lyr))\n",
    "analize_gi = analyze_geocode_input(input_table_or_item=table_lyr)\n",
    "analize_gi"
   ]
  },
  {
   "cell_type": "code",
   "execution_count": null,
   "metadata": {},
   "outputs": [],
   "source": [
    "from arcgis.geocoding import suggest"
   ]
  },
  {
   "cell_type": "code",
   "execution_count": 137,
   "metadata": {},
   "outputs": [
    {
     "data": {
      "text/plain": [
       "{'suggestions': [{'text': 'Disney Park and Resort-Bargarchumbak, Shyampur-I, Haora, West Bengal, 711312, IND',\n",
       "   'magicKey': 'dHA9MCNsb2M9NDMwNDg3MjQjbG5nPTM0I3BsPTM3OTE0NDQ2I2xicz0xNDoxMzY0NjA4Mg==',\n",
       "   'isCollection': False},\n",
       "  {'text': 'Disney Park, Elk Grove Village, IL, USA',\n",
       "   'magicKey': 'dHA9MCNsb2M9MTQ3Njc4MzQjbG5nPTM0I3BsPTc2NDY4MDYjbGJzPTE0OjEzNjQ2MDgx',\n",
       "   'isCollection': False},\n",
       "  {'text': 'Disney Park, Wanowrie, Pune, Maharashtra, 411022, IND',\n",
       "   'magicKey': 'dHA9MCNsb2M9NDI3NDE1MTYjbG5nPTM0I3BsPTM1MDMxMjA3I2xicz0xNDoxMzY0NjA4MQ==',\n",
       "   'isCollection': False},\n",
       "  {'text': 'Disney Park, Keytesville, MO, 65261, USA',\n",
       "   'magicKey': 'dHA9MCNsb2M9NjM1NDYwOCNsbmc9MzQjbGJzPTEwOTo1MzAzMzU2Ng==',\n",
       "   'isCollection': False},\n",
       "  {'text': 'Disney Store, 1645 Parkway, Sevierville, TN, 37862, USA',\n",
       "   'magicKey': 'dHA9MCNsb2M9MTE2NzYzODQjbG5nPTM0I3BsPTM4NDM5MTgjbGJzPTE0OjEzNjQ2MTMwOzEwOTo1NjQ0ODc5Ng==',\n",
       "   'isCollection': False}]}"
      ]
     },
     "execution_count": 137,
     "metadata": {},
     "output_type": "execute_result"
    }
   ],
   "source": [
    "suggest(text=\"Disney Park\")"
   ]
  },
  {
   "cell_type": "code",
   "execution_count": 154,
   "metadata": {},
   "outputs": [],
   "source": [
    "from arcgis.geocoding import batch_geocode"
   ]
  },
  {
   "cell_type": "code",
   "execution_count": 155,
   "metadata": {},
   "outputs": [
    {
     "name": "stdout",
     "output_type": "stream",
     "text": [
      "For current geocoder:\n",
      " - MaxBatchSize: 1000\n",
      " - SuggestedBatchSize: 150\n"
     ]
    }
   ],
   "source": [
    "# use the first of GIS's configured geocoders\n",
    "geocoder = get_geocoders(gis)[0]\n",
    "print(\"For current geocoder:\")\n",
    "print(\" - MaxBatchSize: \" + str(geocoder.properties.locatorProperties.MaxBatchSize))\n",
    "print(\" - SuggestedBatchSize: \" + str(geocoder.properties.locatorProperties.SuggestedBatchSize))"
   ]
  },
  {
   "cell_type": "code",
   "execution_count": null,
   "metadata": {},
   "outputs": [],
   "source": [
    "addresses= [\n",
    "    {\"Address\": \"380 New York St.\", \"City\": \"Redlands\", \"Region\": \"CA\", \"Postal\": \"92373\"},\n",
    "    {\"Address\": \"1 World Way\", \"City\": \"Los Angeles\", \"Region\": \"CA\", \"Postal\": \"90045\"}]\n",
    "print(addresses)\n",
    "for address in batch_geocode(\"La Toscana, Carrera 129, Toscana, Suba, Bogotá, D.C., COL\"):\n",
    "    print(address['score'])"
   ]
  },
  {
   "cell_type": "code",
   "execution_count": 169,
   "metadata": {},
   "outputs": [
    {
     "name": "stdout",
     "output_type": "stream",
     "text": [
      "<class 'arcgis.geometry._types.Point'>\n"
     ]
    },
    {
     "ename": "AttributeError",
     "evalue": "'Point' object has no attribute 'dtype'",
     "output_type": "error",
     "traceback": [
      "\u001b[1;31m---------------------------------------------------------------------------\u001b[0m",
      "\u001b[1;31mKeyError\u001b[0m                                  Traceback (most recent call last)",
      "\u001b[1;32mC:\\Program Files\\ArcGIS\\Pro\\bin\\Python\\envs\\arcgispro-py3\\lib\\site-packages\\arcgis\\geometry\\_types.py\u001b[0m in \u001b[0;36m__getattr__\u001b[1;34m(self, name)\u001b[0m\n\u001b[0;32m    182\u001b[0m                 \u001b[1;32mreturn\u001b[0m \u001b[0msuper\u001b[0m\u001b[1;33m(\u001b[0m\u001b[0mBaseGeometry\u001b[0m\u001b[1;33m,\u001b[0m \u001b[0mself\u001b[0m\u001b[1;33m)\u001b[0m\u001b[1;33m.\u001b[0m\u001b[0m__getattr__\u001b[0m\u001b[1;33m(\u001b[0m\u001b[0mname\u001b[0m\u001b[1;33m)\u001b[0m\u001b[1;33m\u001b[0m\u001b[1;33m\u001b[0m\u001b[0m\n\u001b[1;32m--> 183\u001b[1;33m             \u001b[1;32mreturn\u001b[0m \u001b[0mself\u001b[0m\u001b[1;33m.\u001b[0m\u001b[0m__getitem__\u001b[0m\u001b[1;33m(\u001b[0m\u001b[0mname\u001b[0m\u001b[1;33m)\u001b[0m\u001b[1;33m\u001b[0m\u001b[1;33m\u001b[0m\u001b[0m\n\u001b[0m\u001b[0;32m    184\u001b[0m         \u001b[1;32mexcept\u001b[0m\u001b[1;33m:\u001b[0m\u001b[1;33m\u001b[0m\u001b[1;33m\u001b[0m\u001b[0m\n",
      "\u001b[1;32mC:\\Program Files\\ArcGIS\\Pro\\bin\\Python\\envs\\arcgispro-py3\\lib\\site-packages\\arcgis\\geometry\\_types.py\u001b[0m in \u001b[0;36m__getitem__\u001b[1;34m(self, k)\u001b[0m\n\u001b[0;32m    189\u001b[0m     \u001b[1;32mdef\u001b[0m \u001b[0m__getitem__\u001b[0m\u001b[1;33m(\u001b[0m\u001b[0mself\u001b[0m\u001b[1;33m,\u001b[0m \u001b[0mk\u001b[0m\u001b[1;33m)\u001b[0m\u001b[1;33m:\u001b[0m\u001b[1;33m\u001b[0m\u001b[1;33m\u001b[0m\u001b[0m\n\u001b[1;32m--> 190\u001b[1;33m         \u001b[1;32mreturn\u001b[0m \u001b[0mdict\u001b[0m\u001b[1;33m.\u001b[0m\u001b[0m__getitem__\u001b[0m\u001b[1;33m(\u001b[0m\u001b[0mself\u001b[0m\u001b[1;33m,\u001b[0m \u001b[0mk\u001b[0m\u001b[1;33m)\u001b[0m\u001b[1;33m\u001b[0m\u001b[1;33m\u001b[0m\u001b[0m\n\u001b[0m\u001b[0;32m    191\u001b[0m \u001b[1;33m\u001b[0m\u001b[0m\n",
      "\u001b[1;31mKeyError\u001b[0m: 'dtype'",
      "\nDuring handling of the above exception, another exception occurred:\n",
      "\u001b[1;31mAttributeError\u001b[0m                            Traceback (most recent call last)",
      "\u001b[1;32m<ipython-input-169-589f4974bb56>\u001b[0m in \u001b[0;36m<module>\u001b[1;34m\u001b[0m\n\u001b[0;32m      3\u001b[0m \u001b[0mgeom\u001b[0m \u001b[1;33m=\u001b[0m \u001b[0mGeometry\u001b[0m\u001b[1;33m(\u001b[0m\u001b[0mgeocode_result\u001b[0m\u001b[1;33m.\u001b[0m\u001b[0mfeatures\u001b[0m\u001b[1;33m[\u001b[0m\u001b[1;36m0\u001b[0m\u001b[1;33m]\u001b[0m\u001b[1;33m.\u001b[0m\u001b[0mgeometry\u001b[0m\u001b[1;33m)\u001b[0m\u001b[1;33m\u001b[0m\u001b[1;33m\u001b[0m\u001b[0m\n\u001b[0;32m      4\u001b[0m \u001b[0mprint\u001b[0m\u001b[1;33m(\u001b[0m\u001b[0mtype\u001b[0m\u001b[1;33m(\u001b[0m\u001b[0mgeom\u001b[0m\u001b[1;33m)\u001b[0m\u001b[1;33m)\u001b[0m\u001b[1;33m\u001b[0m\u001b[1;33m\u001b[0m\u001b[0m\n\u001b[1;32m----> 5\u001b[1;33m \u001b[0mGeoSeriesAccessor\u001b[0m\u001b[1;33m(\u001b[0m\u001b[0mgeom\u001b[0m\u001b[1;33m)\u001b[0m\u001b[1;33m\u001b[0m\u001b[1;33m\u001b[0m\u001b[0m\n\u001b[0m",
      "\u001b[1;32mC:\\Program Files\\ArcGIS\\Pro\\bin\\Python\\envs\\arcgispro-py3\\lib\\site-packages\\arcgis\\features\\geo\\_accessor.py\u001b[0m in \u001b[0;36m__init__\u001b[1;34m(self, obj)\u001b[0m\n\u001b[0;32m     60\u001b[0m     \u001b[1;32mdef\u001b[0m \u001b[0m__init__\u001b[0m\u001b[1;33m(\u001b[0m\u001b[0mself\u001b[0m\u001b[1;33m,\u001b[0m \u001b[0mobj\u001b[0m\u001b[1;33m)\u001b[0m\u001b[1;33m:\u001b[0m\u001b[1;33m\u001b[0m\u001b[1;33m\u001b[0m\u001b[0m\n\u001b[0;32m     61\u001b[0m         \u001b[1;34m\"\"\"initializer\"\"\"\u001b[0m\u001b[1;33m\u001b[0m\u001b[1;33m\u001b[0m\u001b[0m\n\u001b[1;32m---> 62\u001b[1;33m         \u001b[0mself\u001b[0m\u001b[1;33m.\u001b[0m\u001b[0m_validate\u001b[0m\u001b[1;33m(\u001b[0m\u001b[0mobj\u001b[0m\u001b[1;33m)\u001b[0m\u001b[1;33m\u001b[0m\u001b[1;33m\u001b[0m\u001b[0m\n\u001b[0m\u001b[0;32m     63\u001b[0m         \u001b[0mself\u001b[0m\u001b[1;33m.\u001b[0m\u001b[0m_data\u001b[0m \u001b[1;33m=\u001b[0m \u001b[0mobj\u001b[0m\u001b[1;33m.\u001b[0m\u001b[0mvalues\u001b[0m\u001b[1;33m\u001b[0m\u001b[1;33m\u001b[0m\u001b[0m\n\u001b[0;32m     64\u001b[0m         \u001b[0mself\u001b[0m\u001b[1;33m.\u001b[0m\u001b[0m_index\u001b[0m \u001b[1;33m=\u001b[0m \u001b[0mobj\u001b[0m\u001b[1;33m.\u001b[0m\u001b[0mindex\u001b[0m\u001b[1;33m\u001b[0m\u001b[1;33m\u001b[0m\u001b[0m\n",
      "\u001b[1;32mC:\\Program Files\\ArcGIS\\Pro\\bin\\Python\\envs\\arcgispro-py3\\lib\\site-packages\\arcgis\\features\\geo\\_accessor.py\u001b[0m in \u001b[0;36m_validate\u001b[1;34m(obj)\u001b[0m\n\u001b[0;32m     71\u001b[0m             raise AttributeError(\n\u001b[0;32m     72\u001b[0m                 \u001b[1;34m\"Cannot use 'geom' accessor on objects of \"\u001b[0m\u001b[1;33m\u001b[0m\u001b[1;33m\u001b[0m\u001b[0m\n\u001b[1;32m---> 73\u001b[1;33m                 \u001b[1;34m\"dtype '{}'.\"\u001b[0m\u001b[1;33m.\u001b[0m\u001b[0mformat\u001b[0m\u001b[1;33m(\u001b[0m\u001b[0mobj\u001b[0m\u001b[1;33m.\u001b[0m\u001b[0mdtype\u001b[0m\u001b[1;33m)\u001b[0m\u001b[1;33m\u001b[0m\u001b[1;33m\u001b[0m\u001b[0m\n\u001b[0m\u001b[0;32m     74\u001b[0m             )\n\u001b[0;32m     75\u001b[0m \u001b[1;33m\u001b[0m\u001b[0m\n",
      "\u001b[1;32mC:\\Program Files\\ArcGIS\\Pro\\bin\\Python\\envs\\arcgispro-py3\\lib\\site-packages\\arcgis\\geometry\\_types.py\u001b[0m in \u001b[0;36m__getattr__\u001b[1;34m(self, name)\u001b[0m\n\u001b[0;32m    184\u001b[0m         \u001b[1;32mexcept\u001b[0m\u001b[1;33m:\u001b[0m\u001b[1;33m\u001b[0m\u001b[1;33m\u001b[0m\u001b[0m\n\u001b[0;32m    185\u001b[0m             raise AttributeError(\n\u001b[1;32m--> 186\u001b[1;33m                 \u001b[1;34m\"'%s' object has no attribute '%s'\"\u001b[0m \u001b[1;33m%\u001b[0m \u001b[1;33m(\u001b[0m\u001b[0mtype\u001b[0m\u001b[1;33m(\u001b[0m\u001b[0mself\u001b[0m\u001b[1;33m)\u001b[0m\u001b[1;33m.\u001b[0m\u001b[0m__name__\u001b[0m\u001b[1;33m,\u001b[0m \u001b[0mname\u001b[0m\u001b[1;33m)\u001b[0m\u001b[1;33m\u001b[0m\u001b[1;33m\u001b[0m\u001b[0m\n\u001b[0m\u001b[0;32m    187\u001b[0m             )\n\u001b[0;32m    188\u001b[0m \u001b[1;33m\u001b[0m\u001b[0m\n",
      "\u001b[1;31mAttributeError\u001b[0m: 'Point' object has no attribute 'dtype'"
     ]
    }
   ],
   "source": [
    "from arcgis.features import GeoSeriesAccessor\n",
    "from arcgis.geometry import Geometry\n",
    "geom = Geometry(geocode_result.features[0].geometry)\n",
    "print(type(geom))\n",
    "GeoSeriesAccessor(geom)"
   ]
  }
 ],
 "metadata": {
  "kernelspec": {
   "display_name": "Python 3",
   "language": "python",
   "name": "python3"
  },
  "language_info": {
   "codemirror_mode": {
    "name": "ipython",
    "version": 3
   },
   "file_extension": ".py",
   "mimetype": "text/x-python",
   "name": "python",
   "nbconvert_exporter": "python",
   "pygments_lexer": "ipython3",
   "version": "3.7.11"
  }
 },
 "nbformat": 4,
 "nbformat_minor": 2
}
