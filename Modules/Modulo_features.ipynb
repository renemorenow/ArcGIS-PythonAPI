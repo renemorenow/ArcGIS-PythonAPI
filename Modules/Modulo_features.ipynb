{
 "cells": [
  {
   "cell_type": "markdown",
   "metadata": {},
   "source": [
    "## arcgis.env module\n",
    "https://developers.arcgis.com/python/api-reference/arcgis.env.html"
   ]
  },
  {
   "cell_type": "code",
   "execution_count": 1,
   "metadata": {},
   "outputs": [
    {
     "name": "stdout",
     "output_type": "stream",
     "text": [
      "https://arcgis.catasig.com.co/portal/\n"
     ]
    }
   ],
   "source": [
    "from arcgis.gis import GIS\n",
    "from sgc import sgccat20lib\n",
    "sgccat20lib.profile_storaged = \"sgc20_sabanalarga\"\n",
    "gis = sgccat20lib.gisLogin()\n",
    "print(gis.url)"
   ]
  },
  {
   "cell_type": "code",
   "execution_count": null,
   "metadata": {},
   "outputs": [],
   "source": [
    "from arcgis.env import *\n",
    "print(active_gis.org_settings)"
   ]
  },
  {
   "cell_type": "markdown",
   "metadata": {},
   "source": [
    "## arcgis.features module\n",
    "https://developers.arcgis.com/python/api-reference/arcgis.features.toc.html"
   ]
  },
  {
   "cell_type": "code",
   "execution_count": null,
   "metadata": {},
   "outputs": [],
   "source": [
    "from arcgis.features import *\n",
    "dictParams = sgccat20lib.ObtenerParametros()\n",
    "parcel_service = dictParams[\"PARCEL_SERVICE_NAME\"]\n",
    "gis = sgccat20lib.gisLogin(\"profile\")\n",
    "ParcelService = gis.content.get(parcel_service)\n",
    "urlParcelService = ParcelService.url\n",
    "urlParcelService"
   ]
  },
  {
   "cell_type": "code",
   "execution_count": null,
   "metadata": {},
   "outputs": [],
   "source": [
    "url_layer_table = \"{0}/{1}\".format(urlParcelService, sgccat20lib.getLayers()[\"TERRENO\"][\"ID\"])\n",
    "table = FeatureLayer(url_layer_table, gis=gis)\n",
    "feature_set = table.query(\n",
    "    where=\"1=1\", out_fields=\"*\", return_geometry=True,\n",
    "    result_record_count=3, return_all_records=False, out_sr=True)"
   ]
  },
  {
   "cell_type": "code",
   "execution_count": null,
   "metadata": {},
   "outputs": [],
   "source": [
    "if feature_set.features[0].get_value(\"retiredbyrecord\"):\n",
    "    print(feature_set.features[0].get_value(\"retiredbyrecord\"))\n",
    "else:\n",
    "    print(\"No tiene valor el campo\")"
   ]
  },
  {
   "cell_type": "code",
   "execution_count": null,
   "metadata": {},
   "outputs": [],
   "source": [
    "if feature_set:\n",
    "    feature = Feature(feature_set.features[0])\n",
    "    print(type(feature))"
   ]
  },
  {
   "cell_type": "code",
   "execution_count": null,
   "metadata": {},
   "outputs": [],
   "source": [
    "type(table)"
   ]
  },
  {
   "cell_type": "code",
   "execution_count": null,
   "metadata": {},
   "outputs": [],
   "source": [
    "table.query(return_extent_only=True)"
   ]
  },
  {
   "cell_type": "code",
   "execution_count": null,
   "metadata": {},
   "outputs": [],
   "source": [
    "flParcelService = FeatureLayerCollection.fromitem(ParcelService)\n",
    "print(ParcelService.title, \"es: \", type(flParcelService))\n",
    "predio_table = next(iter(filter(lambda x: x.properties.name.upper()==\"PREDIO\".upper(), ParcelService.tables)), None)\n",
    "table = next(iter(filter(lambda x: x.properties.name.upper()==\"TERRENO\".upper(), ParcelService.layers)), None)\n",
    "print(table.properties.name, \"es: \", type(table))\n",
    "print(type(feature))\n",
    "print(\"feature_set: \",type(feature_set))\n",
    "print(feature_set.geometry_type)\n",
    "feat_collect = FeatureCollection.from_featureset(feature_set)\n",
    "print(\"FeatureCollection: \",type(feat_collect))"
   ]
  },
  {
   "cell_type": "code",
   "execution_count": null,
   "metadata": {},
   "outputs": [],
   "source": [
    "feature_set.sdf"
   ]
  },
  {
   "cell_type": "markdown",
   "metadata": {},
   "source": [
    "## arcgis.features.analysis:\n",
    "https://developers.arcgis.com/python/api-reference/arcgis.features.analysis.html"
   ]
  },
  {
   "cell_type": "code",
   "execution_count": null,
   "metadata": {},
   "outputs": [],
   "source": [
    "kwargs = { \"return_geometry\": True, \"result_record_count\": 3 }\n",
    "datosPredio = sgccat20lib.get_features_layertable_where(\n",
    "    gis,\n",
    "    predio_table.url,\n",
    "    \"condicion_predio='NPH'\",\n",
    "    \"*\",\n",
    "    None,\n",
    "    [\"LC_Terreno\"],\n",
    "    [\"*\"],\n",
    "    **kwargs)"
   ]
  },
  {
   "cell_type": "code",
   "execution_count": null,
   "metadata": {},
   "outputs": [],
   "source": [
    "rel_terreno = next(iter(filter(lambda x: x[\"name\"].upper()==\"LC_Terreno\".upper(), datosPredio[\"Relationships\"])), None)\n",
    "if rel_terreno and len(rel_terreno[\"features\"]) > 0:\n",
    "    featuresTerreno = list(filter(lambda x: x[\"attributes\"].get(\"retiredbyrecord\") is None, rel_terreno[\"features\"]))\n",
    "    globalids = [f[\"attributes\"][\"globalid\"] for f in featuresTerreno]\n",
    "    GIDs_predio = tuple(globalids) if len(globalids) > 1 else \"('{}')\".format(globalids[0])\n",
    "    where = \"globalid in {0}\".format(GIDs_predio)\n",
    "    datosTerreno = table.query(where,return_geometry=True)"
   ]
  },
  {
   "cell_type": "code",
   "execution_count": null,
   "metadata": {},
   "outputs": [],
   "source": [
    "import copy\n",
    "fts_terreno = copy.deepcopy(datosTerreno)\n",
    "feat_collect = FeatureCollection.from_featureset(fts_terreno)\n",
    "print(type(feat_collect))\n",
    "# create = analysis.aggregate_points()"
   ]
  },
  {
   "cell_type": "code",
   "execution_count": null,
   "metadata": {},
   "outputs": [],
   "source": [
    "from arcgis.geometry import Geometry, Polygon"
   ]
  },
  {
   "cell_type": "code",
   "execution_count": null,
   "metadata": {},
   "outputs": [],
   "source": [
    "polygon = Polygon(fts_terreno.features[0].geometry)\n",
    "polygon"
   ]
  }
 ],
 "metadata": {
  "kernelspec": {
   "display_name": "Python 3 (ipykernel)",
   "language": "python",
   "name": "python3"
  },
  "language_info": {
   "codemirror_mode": {
    "name": "ipython",
    "version": 3
   },
   "file_extension": ".py",
   "mimetype": "text/x-python",
   "name": "python",
   "nbconvert_exporter": "python",
   "pygments_lexer": "ipython3",
   "version": "3.9.16"
  },
  "vscode": {
   "interpreter": {
    "hash": "6085f8b8ffd688a54e732bb2d8a1e7f06b731569fbfa9e59aa638e5a28281238"
   }
  }
 },
 "nbformat": 4,
 "nbformat_minor": 2
}
