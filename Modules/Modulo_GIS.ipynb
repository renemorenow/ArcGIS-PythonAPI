{
 "cells": [
  {
   "cell_type": "markdown",
   "metadata": {},
   "source": [
    "# GIS Class:"
   ]
  },
  {
   "cell_type": "markdown",
   "metadata": {},
   "source": [
    "## Imports..."
   ]
  },
  {
   "cell_type": "code",
   "execution_count": 1,
   "metadata": {},
   "outputs": [],
   "source": [
    "from arcgis.gis import GIS"
   ]
  },
  {
   "cell_type": "markdown",
   "metadata": {},
   "source": [
    "## Ejercicios:"
   ]
  },
  {
   "cell_type": "code",
   "execution_count": 2,
   "metadata": {},
   "outputs": [
    {
     "data": {
      "text/plain": [
       "'https://arcgis.catasig.com.co/portal/'"
      ]
     },
     "execution_count": 2,
     "metadata": {},
     "output_type": "execute_result"
    }
   ],
   "source": [
    "# gis = GIS(\"http://arcgis.com\", \"renemorenow\")\n",
    "# gis = GIS(profile=\"sgc20_desarrollo\")\n",
    "gis = GIS(profile=\"sgc20_sabanalarga\")\n",
    "gis.url"
   ]
  },
  {
   "cell_type": "code",
   "execution_count": 6,
   "metadata": {},
   "outputs": [
    {
     "data": {
      "application/vnd.jupyter.widget-view+json": {
       "model_id": "5e12b82ae2704aec8706eb5c8126a39a",
       "version_major": 2,
       "version_minor": 0
      },
      "text/plain": [
       "MapView(layout=Layout(height='400px', width='100%'))"
      ]
     },
     "metadata": {},
     "output_type": "display_data"
    },
    {
     "data": {
      "text/html": [
       "<div class=\"map-static-img-preview-4ad9765f-8265-4925-90f3-637a2dec0bbc\"><img src=\"\"></img></div>"
      ],
      "text/plain": [
       "<IPython.core.display.HTML object>"
      ]
     },
     "metadata": {},
     "output_type": "display_data"
    },
    {
     "data": {
      "text/html": [
       "<div class=\"map-html-embed-preview-4ad9765f-8265-4925-90f3-637a2dec0bbc\"></div>"
      ],
      "text/plain": [
       "<IPython.core.display.HTML object>"
      ]
     },
     "metadata": {},
     "output_type": "display_data"
    }
   ],
   "source": [
    "map1 = gis.map('USA',3)\n",
    "map1"
   ]
  },
  {
   "cell_type": "code",
   "execution_count": 25,
   "metadata": {},
   "outputs": [
    {
     "ename": "AttributeError",
     "evalue": "'GIS' object has no attribute 'ProfileManager'",
     "output_type": "error",
     "traceback": [
      "\u001b[1;31m---------------------------------------------------------------------------\u001b[0m",
      "\u001b[1;31mAttributeError\u001b[0m                            Traceback (most recent call last)",
      "\u001b[1;32m~\\AppData\\Local\\Temp\\ipykernel_15152\\1196541386.py\u001b[0m in \u001b[0;36m<module>\u001b[1;34m\u001b[0m\n\u001b[0;32m      1\u001b[0m \u001b[1;32mfrom\u001b[0m \u001b[0marcgis\u001b[0m\u001b[1;33m.\u001b[0m\u001b[0mgis\u001b[0m\u001b[1;33m.\u001b[0m\u001b[0m_impl\u001b[0m\u001b[1;33m.\u001b[0m\u001b[0m_profile\u001b[0m \u001b[1;32mimport\u001b[0m \u001b[0mProfileManager\u001b[0m\u001b[1;33m\u001b[0m\u001b[1;33m\u001b[0m\u001b[0m\n\u001b[1;32m----> 2\u001b[1;33m \u001b[0mgis\u001b[0m\u001b[1;33m.\u001b[0m\u001b[0mProfileManager\u001b[0m\u001b[1;33m.\u001b[0m\u001b[0mlist\u001b[0m\u001b[1;33m(\u001b[0m\u001b[0mself\u001b[0m\u001b[1;33m,\u001b[0m \u001b[0mas_df\u001b[0m\u001b[1;33m=\u001b[0m\u001b[1;32mFalse\u001b[0m\u001b[1;33m)\u001b[0m\u001b[1;33m\u001b[0m\u001b[1;33m\u001b[0m\u001b[0m\n\u001b[0m\u001b[0;32m      3\u001b[0m \u001b[1;31m# ProfileManager.get\u001b[0m\u001b[1;33m\u001b[0m\u001b[1;33m\u001b[0m\u001b[1;33m\u001b[0m\u001b[0m\n\u001b[0;32m      4\u001b[0m \u001b[1;31m# test = ProfileManager.list(self, as_df=False)\u001b[0m\u001b[1;33m\u001b[0m\u001b[1;33m\u001b[0m\u001b[1;33m\u001b[0m\u001b[0m\n\u001b[0;32m      5\u001b[0m \u001b[1;31m#test\u001b[0m\u001b[1;33m\u001b[0m\u001b[1;33m\u001b[0m\u001b[1;33m\u001b[0m\u001b[0m\n",
      "\u001b[1;31mAttributeError\u001b[0m: 'GIS' object has no attribute 'ProfileManager'"
     ]
    }
   ],
   "source": [
    "from arcgis.gis._impl._profile import ProfileManager\n",
    "gis.po\n",
    "# ProfileManager.get\n",
    "# test = ProfileManager.list(self, as_df=False)\n",
    "#test"
   ]
  },
  {
   "cell_type": "code",
   "execution_count": 10,
   "metadata": {},
   "outputs": [
    {
     "data": {
      "text/plain": [
       "<API Key apiKey_desde_PythonApi>"
      ]
     },
     "execution_count": 10,
     "metadata": {},
     "output_type": "execute_result"
    }
   ],
   "source": [
    "apiKey = gis.api_keys\n",
    "akCreate = apiKey.create(\"apiKey_desde_PythonApi\", \"apiKey,PythonApi\", \"apiKey desde PythonApi\", [\"https://foo.com\", \"https://bar.com\"])\n",
    "akCreate"
   ]
  },
  {
   "cell_type": "code",
   "execution_count": 28,
   "metadata": {},
   "outputs": [],
   "source": [
    "apiCreada = gis.api_keys.get(\"apiKey_desde_PythonApi\")\n",
    "apiCreada"
   ]
  },
  {
   "cell_type": "code",
   "execution_count": 3,
   "metadata": {},
   "outputs": [
    {
     "ename": "AttributeError",
     "evalue": "'NoneType' object has no attribute 'keys'",
     "output_type": "error",
     "traceback": [
      "\u001b[1;31m---------------------------------------------------------------------------\u001b[0m",
      "\u001b[1;31mAttributeError\u001b[0m                            Traceback (most recent call last)",
      "\u001b[1;32m~\\AppData\\Local\\Temp\\ipykernel_2752\\1871290455.py\u001b[0m in \u001b[0;36m<module>\u001b[1;34m\u001b[0m\n\u001b[1;32m----> 1\u001b[1;33m \u001b[0mapiKeys\u001b[0m \u001b[1;33m=\u001b[0m \u001b[0mgis\u001b[0m\u001b[1;33m.\u001b[0m\u001b[0mapi_keys\u001b[0m\u001b[1;33m.\u001b[0m\u001b[0mkeys\u001b[0m\u001b[1;33m\u001b[0m\u001b[1;33m\u001b[0m\u001b[0m\n\u001b[0m\u001b[0;32m      2\u001b[0m \u001b[0mapiKeys\u001b[0m\u001b[1;33m\u001b[0m\u001b[1;33m\u001b[0m\u001b[0m\n",
      "\u001b[1;31mAttributeError\u001b[0m: 'NoneType' object has no attribute 'keys'"
     ]
    }
   ],
   "source": [
    "apiKeys = gis.api_keys.keys\n",
    "apiKeys"
   ]
  },
  {
   "cell_type": "code",
   "execution_count": 9,
   "metadata": {},
   "outputs": [],
   "source": [
    "gis.api_keys"
   ]
  },
  {
   "cell_type": "code",
   "execution_count": 40,
   "metadata": {},
   "outputs": [
    {
     "data": {
      "text/plain": [
       "<API Key apiKey_desde_PythonApi>"
      ]
     },
     "execution_count": 40,
     "metadata": {},
     "output_type": "execute_result"
    }
   ],
   "source": [
    "key1 = gis.api_keys.keys[0]\n",
    "key1"
   ]
  },
  {
   "cell_type": "code",
   "execution_count": 46,
   "metadata": {},
   "outputs": [
    {
     "data": {
      "text/plain": [
       "{'itemId': '459530a5235044aaa95c19c425992fca', 'client_id': 'KLmtBOa3UfJ0DqzC', 'client_secret': '2dc49cb306414b88b9230f99a1ecf749', 'appType': 'apikey', 'redirect_uris': [], 'registered': 1660020771000, 'modified': 1660020771000, 'apnsProdCert': None, 'apnsSandboxCert': None, 'gcmApiKey': None, 'httpReferrers': ['https://bar.com', 'https://foo.com'], 'privileges': [], 'isBeta': False, 'apiKey': 'AAPK06b31e97ed0045efafecf9fccc640e05PBaj8MlCRhYNDhmPn-ov2lpLhE386MQIKXMZ5BNu4L-DXAmnaNajZrv3dRMbyTQ9'}"
      ]
     },
     "execution_count": 46,
     "metadata": {},
     "output_type": "execute_result"
    }
   ],
   "source": [
    "key1.properties"
   ]
  },
  {
   "cell_type": "markdown",
   "metadata": {},
   "source": [
    "## update_properties"
   ]
  },
  {
   "cell_type": "code",
   "execution_count": null,
   "metadata": {},
   "outputs": [],
   "source": [
    "upd = {\"description\":\"uso de gis.update_properties\",\"access\":\"public\"}\n",
    "gis.update_properties(upd)"
   ]
  },
  {
   "cell_type": "markdown",
   "metadata": {},
   "source": [
    "## Groups:"
   ]
  },
  {
   "cell_type": "code",
   "execution_count": 52,
   "metadata": {},
   "outputs": [
    {
     "data": {
      "text/plain": [
       "[]"
      ]
     },
     "execution_count": 52,
     "metadata": {},
     "output_type": "execute_result"
    }
   ],
   "source": [
    "gM = gis.groups\n",
    "gM.search()"
   ]
  },
  {
   "cell_type": "code",
   "execution_count": 10,
   "metadata": {},
   "outputs": [
    {
     "name": "stdout",
     "output_type": "stream",
     "text": [
      "1660192070701.638\n",
      "unix_timestamp =>  1660192070000.0\n"
     ]
    }
   ],
   "source": [
    "#https://www.geeksforgeeks.org/how-to-convert-datetime-to-unix-timestamp-in-python/\n",
    "\n",
    "import time\n",
    "import datetime\n",
    " \n",
    "presentDate = datetime.datetime.now()\n",
    "unix_timestamp = datetime.datetime.timestamp(presentDate)*1000\n",
    "print(unix_timestamp)\n",
    "\n",
    "date_time = presentDate\n",
    "print(\"unix_timestamp => \",\n",
    "      (time.mktime(date_time.timetuple())*1000))"
   ]
  },
  {
   "cell_type": "code",
   "execution_count": 18,
   "metadata": {},
   "outputs": [
    {
     "data": {
      "text/plain": [
       "{'servers': [{'id': 'qr2qoxsfVCN5a2Id',\n",
       "   'name': 'https://arcgis.catasig.com.co:6443',\n",
       "   'adminUrl': 'https://enterprise.local:6443/arcgis',\n",
       "   'url': 'https://arcgis.catasig.com.co/server',\n",
       "   'isHosted': True,\n",
       "   'serverType': 'ArcGIS',\n",
       "   'serverRole': 'HOSTING_SERVER',\n",
       "   'serverFunction': ''}]}"
      ]
     },
     "execution_count": 18,
     "metadata": {},
     "output_type": "execute_result"
    }
   ],
   "source": [
    "#gis.datastore\n",
    "gis.servers"
   ]
  },
  {
   "cell_type": "code",
   "execution_count": 1,
   "metadata": {},
   "outputs": [],
   "source": [
    "from sgc import sgccat20lib"
   ]
  },
  {
   "cell_type": "code",
   "execution_count": 3,
   "metadata": {},
   "outputs": [
    {
     "data": {
      "text/plain": [
       "datetime.datetime(2022, 6, 14, 23, 27, tzinfo=<UTC>)"
      ]
     },
     "execution_count": 3,
     "metadata": {},
     "output_type": "execute_result"
    }
   ],
   "source": [
    "fecha = sgccat20lib.transformarFechaGdb(1655249220000)\n",
    "fecha"
   ]
  },
  {
   "cell_type": "code",
   "execution_count": 6,
   "metadata": {},
   "outputs": [
    {
     "name": "stdout",
     "output_type": "stream",
     "text": [
      "1655249220000.0\n"
     ]
    }
   ],
   "source": [
    "#https://www.geeksforgeeks.org/how-to-convert-datetime-to-unix-timestamp-in-python/\n",
    "\n",
    "import time\n",
    "import datetime\n",
    " \n",
    "presentDate = fecha\n",
    "unix_timestamp = datetime.datetime.timestamp(presentDate)*1000\n",
    "print(unix_timestamp)"
   ]
  },
  {
   "cell_type": "code",
   "execution_count": null,
   "metadata": {},
   "outputs": [],
   "source": [
    "map1 = gis.map(\"Garzon\",1000,\"2D\")\n",
    "map1"
   ]
  },
  {
   "cell_type": "markdown",
   "metadata": {},
   "source": [
    "## gis.Item.resources (ResourceManager)..."
   ]
  },
  {
   "cell_type": "code",
   "execution_count": 53,
   "metadata": {},
   "outputs": [
    {
     "name": "stdout",
     "output_type": "stream",
     "text": [
      "https://desarrollocatastro12.esri.co/portal/\n",
      "Title                              Id                                 url\n",
      "---------------------------------  ---------------------------------  --------------------------------------------------------------------------------\n",
      "WM_TEMPLATE_OC                     e40e4b86f02340c3a2dc1aa370a6d667                                                                                                      \n"
     ]
    }
   ],
   "source": [
    "print(gis.url)\n",
    "print(f\"{'Title':35}{'Id':35}{'url'}\")\n",
    "print(f\"{'-'*33}{' '*2}{'-'*33}{' '*2}{'-'*80}\")\n",
    "contenido = gis.content.search(\"FS_*\",max_items=100,outside_org=False)\n",
    "for item in contenido:\n",
    "    print(f\"{item.title if item.title else '':35}{item.id:35}{item.url if item.url else '':99}\")"
   ]
  },
  {
   "cell_type": "code",
   "execution_count": 11,
   "metadata": {},
   "outputs": [
    {
     "data": {
      "text/plain": [
       "<arcgis.gis.ResourceManager at 0x2653b006b48>"
      ]
     },
     "execution_count": 11,
     "metadata": {},
     "output_type": "execute_result"
    }
   ],
   "source": [
    "item = gis.content.get(\"5b0bdaf33a9544fe98d1d059f3ecdddc\")\n",
    "item.resources"
   ]
  },
  {
   "cell_type": "code",
   "execution_count": 3,
   "metadata": {},
   "outputs": [],
   "source": [
    "from arcgis.gis import Item\n",
    "resMan = Item(gis, \"5b0bdaf33a9544fe98d1d059f3ecdddc\")"
   ]
  },
  {
   "cell_type": "code",
   "execution_count": 4,
   "metadata": {},
   "outputs": [
    {
     "data": {
      "text/plain": [
       "'https://desarrollocatastro12.esri.co/portal//home/item.html?id=5b0bdaf33a9544fe98d1d059f3ecdddc'"
      ]
     },
     "execution_count": 4,
     "metadata": {},
     "output_type": "execute_result"
    }
   ],
   "source": [
    "result = resMan.homepage\n",
    "result"
   ]
  },
  {
   "cell_type": "code",
   "execution_count": 5,
   "metadata": {},
   "outputs": [
    {
     "data": {
      "text/plain": [
       "{'everyone': False,\n",
       " 'org': False,\n",
       " 'groups': [<Group title:\"SUPERVISORES\" owner:adminsgcv2>,\n",
       "  <Group title:\"Avaluos\" owner:adminsgcv2>,\n",
       "  <Group title:\"EJECUTORES\" owner:adminsgcv2>]}"
      ]
     },
     "execution_count": 5,
     "metadata": {},
     "output_type": "execute_result"
    }
   ],
   "source": [
    "resMan.shared_with"
   ]
  },
  {
   "cell_type": "markdown",
   "metadata": {},
   "source": [
    "## User:"
   ]
  },
  {
   "cell_type": "code",
   "execution_count": 9,
   "metadata": {},
   "outputs": [
    {
     "data": {
      "text/html": [
       "<div class=\"9item_container\" style=\"height: auto; overflow: hidden; border: 1px solid #cfcfcf; border-radius: 2px; background: #f6fafa; line-height: 1.21429em; padding: 10px;\">\n",
       "                    <div class=\"item_left\" style=\"width: 210px; float: left;\">\n",
       "                       <a href='https://desarrollocatastro12.esri.co/portal//home/user.html?user=ejecutor1' target='_blank'>\n",
       "                        <img src='https://desarrollocatastro12.esri.co/portal//home/js/arcgisonline/css/images/no-user-thumb.jpg' class=\"itemThumbnail\">\n",
       "                       </a>\n",
       "                    </div>\n",
       "\n",
       "                    <div class=\"item_right\" style=\"float: none; width: auto; overflow: hidden;\">\n",
       "                        <a href='https://desarrollocatastro12.esri.co/portal//home/user.html?user=ejecutor1' target='_blank'><b>ejecutor1 esrico</b>\n",
       "                        </a>\n",
       "                        <br/><br/><b>Bio</b>: usuario ejecutor\n",
       "                        <br/><b>First Name</b>: ejecutor1\n",
       "                        <br/><b>Last Name</b>: esrico\n",
       "                        <br/><b>Username</b>: ejecutor1\n",
       "                        <br/><b>Joined</b>: abril 21, 2022\n",
       "\n",
       "                    </div>\n",
       "                </div>\n",
       "                "
      ],
      "text/plain": [
       "<User username:ejecutor1>"
      ]
     },
     "execution_count": 9,
     "metadata": {},
     "output_type": "execute_result"
    }
   ],
   "source": [
    "from arcgis.gis import User\n",
    "usuario = User(gis,\"ejecutor1\")\n",
    "usuario"
   ]
  },
  {
   "cell_type": "code",
   "execution_count": 4,
   "metadata": {},
   "outputs": [
    {
     "data": {
      "text/plain": [
       "datetime.datetime(2022, 8, 18, 4, 6, 43, tzinfo=<UTC>)"
      ]
     },
     "execution_count": 4,
     "metadata": {},
     "output_type": "execute_result"
    }
   ],
   "source": [
    "from sgc import sgccat20lib\n",
    "usuario2 = gis.users.get(\"renemorenow\")\n",
    "fecha = sgccat20lib.transformarFechaGdb(usuario2.lastLogin)\n",
    "fecha"
   ]
  },
  {
   "cell_type": "code",
   "execution_count": 12,
   "metadata": {},
   "outputs": [
    {
     "name": "stdout",
     "output_type": "stream",
     "text": [
      "renemorenow using 222433108 bytes\n"
     ]
    }
   ],
   "source": [
    "user = usuario2\n",
    "storage = 0\n",
    "for item in user.items():\n",
    "    storage += item.size\n",
    "try:\n",
    "    for f in user.folders:\n",
    "        for f_item in user.folders(folder=f):\n",
    "            storage += f_item.size\n",
    "    print(f\"{user.username} using {storage} bytes\")\n",
    "except Exception as e:\n",
    "    print(f\"{user.username} using {storage} bytes\")"
   ]
  },
  {
   "cell_type": "code",
   "execution_count": 14,
   "metadata": {},
   "outputs": [
    {
     "name": "stdout",
     "output_type": "stream",
     "text": [
      "<Item title:\"Wetlands\" type:Shapefile owner:renemorenow> {'username': 'renemorenow', 'id': '3ed2818f05df498799fd23187038b839', 'title': 'PublishAGOL', 'created': 1582919281000}\n",
      "<Item title:\"Wetlands\" type:Feature Layer Collection owner:renemorenow> {'username': 'renemorenow', 'id': '3ed2818f05df498799fd23187038b839', 'title': 'PublishAGOL', 'created': 1582919281000}\n",
      "<Item title:\"Hydrologic soil groups\" type:Tile Package owner:renemorenow> {'username': 'renemorenow', 'id': '3ed2818f05df498799fd23187038b839', 'title': 'PublishAGOL', 'created': 1582919281000}\n",
      "<Item title:\"Hydrologic soil groups\" type:Map Image Layer owner:renemorenow> {'username': 'renemorenow', 'id': '3ed2818f05df498799fd23187038b839', 'title': 'PublishAGOL', 'created': 1582919281000}\n",
      "<Item title:\"McCall impact assessment\" type:Web Map owner:renemorenow> {'username': 'renemorenow', 'id': '3ed2818f05df498799fd23187038b839', 'title': 'PublishAGOL', 'created': 1582919281000}\n",
      "<Item title:\"McCall impact assessment app\" type:Web Mapping Application owner:renemorenow> {'username': 'renemorenow', 'id': '3ed2818f05df498799fd23187038b839', 'title': 'PublishAGOL', 'created': 1582919281000}\n",
      "<Item title:\"Abastecimiento de Agua\" type:Feature Layer Collection owner:renemorenow> {'username': 'renemorenow', 'id': 'a5569accaed843ed82857349f0ecdb2d', 'title': 'Survey-Abastecimiento de Agua', 'created': 1615516624000}\n",
      "<Item title:\"Abastecimiento de Agua\" type:Form owner:renemorenow> {'username': 'renemorenow', 'id': 'a5569accaed843ed82857349f0ecdb2d', 'title': 'Survey-Abastecimiento de Agua', 'created': 1615516624000}\n",
      "<Item title:\"Abastecimiento de Agua\" type:Web Map owner:renemorenow> {'username': 'renemorenow', 'id': 'a5569accaed843ed82857349f0ecdb2d', 'title': 'Survey-Abastecimiento de Agua', 'created': 1615516624000}\n",
      "<Item title:\"Angiospermas Brasil\" type:Feature Layer Collection owner:renemorenow> {'username': 'renemorenow', 'id': 'c2d0ec759e6c4a5e97cb3cb3d1158a16', 'title': 'Survey-Angiospermas Brasil', 'created': 1615656905000}\n",
      "<Item title:\"Angiospermas Brasil\" type:Form owner:renemorenow> {'username': 'renemorenow', 'id': 'c2d0ec759e6c4a5e97cb3cb3d1158a16', 'title': 'Survey-Angiospermas Brasil', 'created': 1615656905000}\n",
      "<Item title:\"Angiospermas Brasil\" type:Web Map owner:renemorenow> {'username': 'renemorenow', 'id': 'c2d0ec759e6c4a5e97cb3cb3d1158a16', 'title': 'Survey-Angiospermas Brasil', 'created': 1615656905000}\n",
      "<Item title:\"Calidad Datos Espaciales\" type:Feature Layer Collection owner:renemorenow> {'username': 'renemorenow', 'id': '2fadca7356944653920e9fc0f1ce4351', 'title': 'Survey-Calidad Datos Espaciales', 'created': 1615658708000}\n",
      "<Item title:\"Calidad Datos Espaciales\" type:Form owner:renemorenow> {'username': 'renemorenow', 'id': '2fadca7356944653920e9fc0f1ce4351', 'title': 'Survey-Calidad Datos Espaciales', 'created': 1615658708000}\n",
      "<Item title:\"Calidad Datos Espaciales\" type:Web Map owner:renemorenow> {'username': 'renemorenow', 'id': '2fadca7356944653920e9fc0f1ce4351', 'title': 'Survey-Calidad Datos Espaciales', 'created': 1615658708000}\n",
      "<Item title:\"Inspección con histórico\" type:Feature Layer Collection owner:renemorenow> {'username': 'renemorenow', 'id': 'c1f2f547341945d3807deccbea26c365', 'title': 'Survey-Inspección con histórico', 'created': 1615805798000}\n",
      "<Item title:\"Inspección con histórico\" type:Form owner:renemorenow> {'username': 'renemorenow', 'id': 'c1f2f547341945d3807deccbea26c365', 'title': 'Survey-Inspección con histórico', 'created': 1615805798000}\n",
      "<Item title:\"Inspección con histórico\" type:Web Map owner:renemorenow> {'username': 'renemorenow', 'id': 'c1f2f547341945d3807deccbea26c365', 'title': 'Survey-Inspección con histórico', 'created': 1615805798000}\n",
      "<Item title:\"Inspección sin histórico\" type:Feature Layer Collection owner:renemorenow> {'username': 'renemorenow', 'id': '9ceb9c49b36e4d7499503b7e136367f8', 'title': 'Survey-Inspección sin histórico', 'created': 1615802090000}\n",
      "<Item title:\"Inspección sin histórico\" type:Form owner:renemorenow> {'username': 'renemorenow', 'id': '9ceb9c49b36e4d7499503b7e136367f8', 'title': 'Survey-Inspección sin histórico', 'created': 1615802090000}\n",
      "<Item title:\"Inspección sin histórico\" type:Web Map owner:renemorenow> {'username': 'renemorenow', 'id': '9ceb9c49b36e4d7499503b7e136367f8', 'title': 'Survey-Inspección sin histórico', 'created': 1615802090000}\n",
      "<Item title:\"NovedadesEventos\" type:Form owner:renemorenow> {'username': 'renemorenow', 'id': '36d81662fe7e4016ab14e25367009c13', 'title': 'Survey-NovedadesEventos', 'created': 1581696627000}\n",
      "<Item title:\"NovedadesEventos\" type:Feature Layer Collection owner:renemorenow> {'username': 'renemorenow', 'id': '36d81662fe7e4016ab14e25367009c13', 'title': 'Survey-NovedadesEventos', 'created': 1581696627000}\n",
      "<Item title:\"NovedadesEventos_fieldworker\" type:Feature Layer Collection owner:renemorenow> {'username': 'renemorenow', 'id': '36d81662fe7e4016ab14e25367009c13', 'title': 'Survey-NovedadesEventos', 'created': 1581696627000}\n",
      "<Item title:\"ConterminousUSA\" type:Web Mapping Application owner:renemorenow> {'username': 'renemorenow', 'id': '36d81662fe7e4016ab14e25367009c13', 'title': 'Survey-NovedadesEventos', 'created': 1581696627000}\n",
      "<Item title:\"ConterminousUSA\" type:Code Attachment owner:renemorenow> {'username': 'renemorenow', 'id': '36d81662fe7e4016ab14e25367009c13', 'title': 'Survey-NovedadesEventos', 'created': 1581696627000}\n",
      "<Item title:\"ConterminousUSA\" type:Web Mapping Application owner:renemorenow> {'username': 'renemorenow', 'id': '36d81662fe7e4016ab14e25367009c13', 'title': 'Survey-NovedadesEventos', 'created': 1581696627000}\n",
      "<Item title:\"ConterminousUSA\" type:Code Attachment owner:renemorenow> {'username': 'renemorenow', 'id': '36d81662fe7e4016ab14e25367009c13', 'title': 'Survey-NovedadesEventos', 'created': 1581696627000}\n",
      "<Item title:\"Zona A con histórico\" type:Form owner:renemorenow> {'username': 'renemorenow', 'id': 'd1dcd801d0ae4f06af92dc6cb1f123ec', 'title': 'Survey-Zona A con histórico', 'created': 1615812547000}\n",
      "<Item title:\"Zona A con histórico\" type:Web Map owner:renemorenow> {'username': 'renemorenow', 'id': 'd1dcd801d0ae4f06af92dc6cb1f123ec', 'title': 'Survey-Zona A con histórico', 'created': 1615812547000}\n",
      "<Item title:\"Zona A sin histórico\" type:Form owner:renemorenow> {'username': 'renemorenow', 'id': 'cbb47ab378bf4d4fb3db86032560cdd7', 'title': 'Survey-Zona A sin histórico', 'created': 1615812354000}\n",
      "<Item title:\"Zona A sin histórico\" type:Web Map owner:renemorenow> {'username': 'renemorenow', 'id': 'cbb47ab378bf4d4fb3db86032560cdd7', 'title': 'Survey-Zona A sin histórico', 'created': 1615812354000}\n"
     ]
    }
   ],
   "source": [
    "folders = user.folders\n",
    "for folder in folders:\n",
    "    items = user.items(folder=folder[\"title\"])\n",
    "    for item in items:\n",
    "        print(item, folder)"
   ]
  },
  {
   "cell_type": "code",
   "execution_count": 17,
   "metadata": {},
   "outputs": [
    {
     "data": {
      "text/plain": [
       "{'id': 'creatorUT',\n",
       " 'name': 'Creator',\n",
       " 'apps': [{'id': 'ad0dfcde7b8944959942454ebff40712',\n",
       "   'title': 'Office Apps',\n",
       "   'type': 'App Bundle',\n",
       "   'isAppBundle': True,\n",
       "   'apps': [{'id': '34749713220240289318231d1eea9820',\n",
       "     'title': 'ArcGIS for SharePoint',\n",
       "     'thumbnail': 'thumbnail/ago_downloaded.png',\n",
       "     'type': 'Web Mapping Application',\n",
       "     'entitlements': ['mapsforSharepoint']},\n",
       "    {'id': '87f501f12caa4f908fbcaf0ec8affa40',\n",
       "     'title': 'ArcGIS for Office',\n",
       "     'thumbnail': 'thumbnail/ago_downloaded.png',\n",
       "     'type': 'Web Mapping Application',\n",
       "     'entitlements': ['mapsforOffice']}]},\n",
       "  {'id': 'edd0fd8d475146a18ca6330ab7c59be1',\n",
       "   'title': 'Essential Apps',\n",
       "   'type': 'App Bundle',\n",
       "   'isAppBundle': True,\n",
       "   'apps': [{'id': '78829826509c47eaa4e172824852bfd7',\n",
       "     'title': 'Classic Story Maps',\n",
       "     'thumbnail': 'thumbnail/ago_downloaded.png',\n",
       "     'type': 'Web Mapping Application',\n",
       "     'entitlements': ['storymaps']},\n",
       "    {'id': '898ad4783d2e4729938b732147018629',\n",
       "     'title': 'ArcGIS Experience Builder',\n",
       "     'thumbnail': 'thumbnail/ago_downloaded.png',\n",
       "     'type': 'Web Mapping Application',\n",
       "     'entitlements': ['experienceBuilder']},\n",
       "    {'id': 'e654ca8dd19e4628b09de925b43894cf',\n",
       "     'title': 'ArcGIS QuickCapture Web Designer',\n",
       "     'thumbnail': 'thumbnail/ago_downloaded.png',\n",
       "     'type': 'Web Mapping Application',\n",
       "     'entitlements': ['QuickCaptureWebDesigner']},\n",
       "    {'id': '861f5002601e4a0ba22711b29d04756c',\n",
       "     'title': 'ArcGIS Dashboards',\n",
       "     'thumbnail': 'thumbnail/ago_downloaded.png',\n",
       "     'type': 'Web Mapping Application',\n",
       "     'entitlements': ['opsdashboard']},\n",
       "    {'id': '5fbb024d37de4b8080c6c80284dcb8f0',\n",
       "     'title': 'ArcGIS Web AppBuilder',\n",
       "     'thumbnail': 'thumbnail/ago_downloaded.png',\n",
       "     'type': 'Web Mapping Application',\n",
       "     'entitlements': ['webappbuilder']},\n",
       "    {'id': 'c6305f81bbd44705a8769d1dcc58da60',\n",
       "     'title': 'ArcGIS Hub',\n",
       "     'thumbnail': 'thumbnail/ago_downloaded.png',\n",
       "     'type': 'Web Mapping Application',\n",
       "     'entitlements': ['HubforArcGIS']},\n",
       "    {'id': '52b1bf8f295f4985abb4373fc3954862',\n",
       "     'title': 'ArcGIS for Power BI',\n",
       "     'thumbnail': 'thumbnail/ago_downloaded.png',\n",
       "     'type': 'Web Mapping Application',\n",
       "     'entitlements': ['mapsforPowerBI']},\n",
       "    {'id': 'e6e9ad3be636472892dff914178f24c5',\n",
       "     'title': 'ArcGIS StoryMaps',\n",
       "     'thumbnail': 'thumbnail/ago_downloaded.png',\n",
       "     'type': 'Web Mapping Application',\n",
       "     'entitlements': ['arcgisstorymaps']},\n",
       "    {'id': '829116005aad4b3c8238d1d41944ef74',\n",
       "     'title': 'ArcGIS Online',\n",
       "     'thumbnail': 'thumbnail/ago_downloaded.png',\n",
       "     'type': 'Application',\n",
       "     'entitlements': ['orgwebsite']},\n",
       "    {'id': 'fef27821a62b4b98a19f5d9ec129166e',\n",
       "     'title': 'ArcGIS AppStudio',\n",
       "     'thumbnail': 'thumbnail/ago_downloaded.png',\n",
       "     'type': 'Web Mapping Application',\n",
       "     'entitlements': ['appstudio']},\n",
       "    {'id': 'cd577e662881460e8577bc6cc0ea0016',\n",
       "     'title': 'ArcGIS Online Web App',\n",
       "     'thumbnail': 'thumbnail/ago_downloaded.png',\n",
       "     'type': 'Web Mapping Application',\n",
       "     'entitlements': ['mapViewer',\n",
       "      'presentationApp',\n",
       "      'activityDashboard',\n",
       "      'templates',\n",
       "      'instantapps',\n",
       "      'sceneViewer']},\n",
       "    {'id': 'c6590e85fdb24637a3434a5b50694dac',\n",
       "     'title': 'ArcGIS Dashboards',\n",
       "     'thumbnail': 'thumbnail/ago_downloaded.png',\n",
       "     'type': 'Web Mapping Application',\n",
       "     'entitlements': ['dashboards']}]},\n",
       "  {'id': 'dcc340a7baa845fb9c151f2c587047db',\n",
       "   'title': 'Field Apps',\n",
       "   'type': 'App Bundle',\n",
       "   'isAppBundle': True,\n",
       "   'apps': [{'id': 'c5da57b3f002452abbb23917a8af6e00',\n",
       "     'title': 'ArcGIS Field Maps',\n",
       "     'thumbnail': 'thumbnail/ago_downloaded.png',\n",
       "     'type': 'Mobile Application',\n",
       "     'entitlements': ['fieldmaps']},\n",
       "    {'id': 'c659bd3be7644719a62fadc2259e0f44',\n",
       "     'title': 'ArcGIS Collector',\n",
       "     'thumbnail': 'thumbnail/collector-S-new.jpg',\n",
       "     'type': 'Mobile Application',\n",
       "     'entitlements': ['collector']},\n",
       "    {'id': '17193cebdac649ed82b2d6b27c6e585e',\n",
       "     'title': 'ArcGIS Survey123',\n",
       "     'thumbnail': 'thumbnail/Survey123_Sm.jpg',\n",
       "     'type': 'Web Mapping Application',\n",
       "     'entitlements': ['survey123']},\n",
       "    {'id': '7a3f688062974b2b90326039e348f4d6',\n",
       "     'title': 'ArcGIS Workforce',\n",
       "     'thumbnail': 'thumbnail/Workforce-S.jpg',\n",
       "     'type': 'Web Mapping Application',\n",
       "     'entitlements': ['workforce']},\n",
       "    {'id': 'fd9fdc037e7448ada4ebd9da10fdba58',\n",
       "     'title': 'ArcGIS QuickCapture',\n",
       "     'thumbnail': 'thumbnail/ago_downloaded.png',\n",
       "     'type': 'Mobile Application',\n",
       "     'entitlements': ['QuickCapture']}]},\n",
       "  {'id': 'bcec212331b241719bc99050e1e2d77a',\n",
       "   'title': 'ArcGIS Runtime Standard',\n",
       "   'type': 'Application SDK',\n",
       "   'isAppBundle': False,\n",
       "   'isViewOnly': False,\n",
       "   'entitlements': ['runtimestandard']}],\n",
       " 'extensions': []}"
      ]
     },
     "execution_count": 17,
     "metadata": {},
     "output_type": "execute_result"
    }
   ],
   "source": [
    "usuario2.user_types()"
   ]
  },
  {
   "cell_type": "markdown",
   "metadata": {},
   "source": [
    "## Group:\n",
    "https://developers.arcgis.com/python/api-reference/arcgis.gis.toc.html#group"
   ]
  },
  {
   "cell_type": "code",
   "execution_count": 26,
   "metadata": {},
   "outputs": [
    {
     "data": {
      "text/plain": [
       "[]"
      ]
     },
     "execution_count": 26,
     "metadata": {},
     "output_type": "execute_result"
    }
   ],
   "source": [
    "grupos = gis.groups\n",
    "grupos.search(\"*\")"
   ]
  },
  {
   "cell_type": "markdown",
   "metadata": {},
   "source": [
    "## datastore:\n",
    "https://developers.arcgis.com/python/api-reference/arcgis.gis.toc.html#datastore"
   ]
  },
  {
   "cell_type": "code",
   "execution_count": 7,
   "metadata": {},
   "outputs": [
    {
     "data": {
      "text/plain": [
       "<bound method PortalDataStore.layers of < PortalDataStore @ https://desarrollocatastro12.esri.co/portal/sharing/rest/portals/self/datastores >>"
      ]
     },
     "execution_count": 7,
     "metadata": {},
     "output_type": "execute_result"
    }
   ],
   "source": [
    "from arcgis.gis import Datastore"
   ]
  },
  {
   "cell_type": "code",
   "execution_count": 13,
   "metadata": {},
   "outputs": [],
   "source": [
    "from arcgis.gis import Role"
   ]
  },
  {
   "cell_type": "code",
   "execution_count": 33,
   "metadata": {},
   "outputs": [
    {
     "name": "stdout",
     "output_type": "stream",
     "text": [
      "Permite trabajar con las versiones\n"
     ]
    }
   ],
   "source": [
    "role_mgr = gis.users.roles\n",
    "for rol in role_mgr.all():\n",
    "    if rol.name == \"Ejecutor\":\n",
    "        print(rol.description)\n",
    "# if role_mgr.exists(\"Ejecutor\"):\n",
    "#     print(\"No Crear\")\n",
    "# else:\n",
    "#     print(\"crear\")"
   ]
  },
  {
   "cell_type": "markdown",
   "metadata": {},
   "source": [
    "## Layer:\n",
    "https://developers.arcgis.com/python/api-reference/arcgis.gis.toc.html#layer"
   ]
  },
  {
   "cell_type": "code",
   "execution_count": 10,
   "metadata": {},
   "outputs": [
    {
     "data": {
      "text/plain": [
       "[<Group title:\"EJECUTORES\" owner:adminsgcv2>]"
      ]
     },
     "execution_count": 10,
     "metadata": {},
     "output_type": "execute_result"
    }
   ],
   "source": [
    "group = gis.groups.search(\"title:EJECUTORES\")\n",
    "group"
   ]
  },
  {
   "cell_type": "code",
   "execution_count": 11,
   "metadata": {},
   "outputs": [],
   "source": [
    "key1 = gis.api_keys\n",
    "key1"
   ]
  }
 ],
 "metadata": {
  "kernelspec": {
   "display_name": "Python 3",
   "language": "python",
   "name": "python3"
  },
  "language_info": {
   "codemirror_mode": {
    "name": "ipython",
    "version": 3
   },
   "file_extension": ".py",
   "mimetype": "text/x-python",
   "name": "python",
   "nbconvert_exporter": "python",
   "pygments_lexer": "ipython3",
   "version": "3.7.11"
  },
  "vscode": {
   "interpreter": {
    "hash": "6085f8b8ffd688a54e732bb2d8a1e7f06b731569fbfa9e59aa638e5a28281238"
   }
  }
 },
 "nbformat": 4,
 "nbformat_minor": 2
}
