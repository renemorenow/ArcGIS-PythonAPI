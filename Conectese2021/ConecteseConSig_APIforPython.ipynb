{
 "cells": [
  {
   "cell_type": "markdown",
   "metadata": {},
   "source": [
    "# Imports"
   ]
  },
  {
   "cell_type": "code",
   "execution_count": 5,
   "metadata": {},
   "outputs": [],
   "source": [
    "from arcgis.gis import GIS"
   ]
  },
  {
   "cell_type": "markdown",
   "metadata": {},
   "source": [
    "# Login"
   ]
  },
  {
   "cell_type": "code",
   "execution_count": 6,
   "metadata": {},
   "outputs": [
    {
     "name": "stdout",
     "output_type": "stream",
     "text": [
      "Enter password: ········\n"
     ]
    }
   ],
   "source": [
    "gis = GIS(\"http://arcgis.com\", \"williamrenem\")"
   ]
  },
  {
   "cell_type": "markdown",
   "metadata": {},
   "source": [
    "# Demos"
   ]
  },
  {
   "cell_type": "code",
   "execution_count": 37,
   "metadata": {},
   "outputs": [
    {
     "name": "stdout",
     "output_type": "stream",
     "text": [
      "Comparendos 2019 Bogota D_C\n"
     ]
    }
   ],
   "source": [
    "search_results = gis.content.search(\"title:Bogota\", item_type=\"Feature Layer\")\n",
    "#search_results = gis.content.search(\"title:Bogota\")\n",
    "contador = 0\n",
    "for i in search_results:    \n",
    "    #print(\"Titulo FL: \" + i.title + \"; ID: \" + str(i.id))\n",
    "    if i.title == \"Comparendos 2019 Bogota D_C\":\n",
    "        print(i.title)\n",
    "        break\n",
    "    contador +=1\n",
    "        \n",
    "        "
   ]
  },
  {
   "cell_type": "code",
   "execution_count": 38,
   "metadata": {},
   "outputs": [
    {
     "name": "stdout",
     "output_type": "stream",
     "text": [
      "4\n"
     ]
    },
    {
     "data": {
      "text/html": [
       "<div class=\"item_container\" style=\"height: auto; overflow: hidden; border: 1px solid #cfcfcf; border-radius: 2px; background: #f6fafa; line-height: 1.21429em; padding: 10px;\">\n",
       "                    <div class=\"item_left\" style=\"width: 210px; float: left;\">\n",
       "                       <a href='http://arcgis.com/home/item.html?id=af4ffa29806c4a14a20252a6029152b9' target='_blank'>\n",
       "                        <img src='data:image/png;base64,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' width='200' height='133' class=\"itemThumbnail\">\n",
       "                       </a>\n",
       "                    </div>\n",
       "\n",
       "                    <div class=\"item_right\"     style=\"float: none; width: auto; overflow: hidden;\">\n",
       "                        <a href='http://arcgis.com/home/item.html?id=af4ffa29806c4a14a20252a6029152b9' target='_blank'><b>Comparendos 2019 Bogota D_C</b>\n",
       "                        </a>\n",
       "                        <br/>Infracciones al Código Nacional de Tránsito, impuestas por la autoridad policial, generadas en el año 2019 en la ciudad de Bogotá D.C.<img src='http://arcgis.com/home/js/jsapi/esri/css/images/item_type_icons/featureshosted16.png' style=\"vertical-align:middle;\">Feature Layer Collection by SecretariaMovilidad\n",
       "                        <br/>Last Modified: noviembre 20, 2020\n",
       "                        <br/>0 comments, 32 views\n",
       "                    </div>\n",
       "                </div>\n",
       "                "
      ],
      "text/plain": [
       "<Item title:\"Comparendos 2019 Bogota D_C\" type:Feature Layer Collection owner:SecretariaMovilidad>"
      ]
     },
     "execution_count": 38,
     "metadata": {},
     "output_type": "execute_result"
    }
   ],
   "source": [
    "print(contador)\n",
    "search_results[contador]"
   ]
  }
 ],
 "metadata": {
  "kernelspec": {
   "display_name": "Python 3",
   "language": "python",
   "name": "python3"
  },
  "language_info": {
   "codemirror_mode": {
    "name": "ipython",
    "version": 3
   },
   "file_extension": ".py",
   "mimetype": "text/x-python",
   "name": "python",
   "nbconvert_exporter": "python",
   "pygments_lexer": "ipython3",
   "version": "3.8.5"
  }
 },
 "nbformat": 4,
 "nbformat_minor": 4
}
