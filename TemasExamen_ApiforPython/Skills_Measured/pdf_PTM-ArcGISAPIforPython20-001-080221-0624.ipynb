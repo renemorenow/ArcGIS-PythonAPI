{
 "cells": [
  {
   "cell_type": "markdown",
   "id": "b91acbc8",
   "metadata": {},
   "source": [
    "## Imports:"
   ]
  },
  {
   "cell_type": "code",
   "execution_count": 1,
   "id": "b0bbcd6f",
   "metadata": {},
   "outputs": [],
   "source": [
    "from arcgis.gis import GIS\n",
    "from arcgis.gis import *\n",
    "from IPython.display import display\n",
    "from arcgis.features import FeatureLayer"
   ]
  },
  {
   "cell_type": "markdown",
   "id": "08f65b6d",
   "metadata": {},
   "source": [
    "## Conexion:"
   ]
  },
  {
   "cell_type": "markdown",
   "id": "74263d50",
   "metadata": {},
   "source": [
    "### AGOL"
   ]
  },
  {
   "cell_type": "code",
   "execution_count": 85,
   "id": "99536eaf",
   "metadata": {},
   "outputs": [
    {
     "name": "stdout",
     "output_type": "stream",
     "text": [
      "Enter password: ········\n"
     ]
    }
   ],
   "source": [
    "gis = GIS(url=\"http://www.arcgis.com\", username=\"renemorenow\")\n",
    "#gis = GIS(url=\"http://www.arcgis.com\", username=\"williamrenem\")\n",
    "#gis = GIS(url=\"http://www.arcgis.com\", username=\"wmoreno_project_esri_co\")"
   ]
  },
  {
   "cell_type": "code",
   "execution_count": 91,
   "id": "e23bdede",
   "metadata": {},
   "outputs": [],
   "source": [
    "gis = GIS(url='https://pythonapi.playground.esri.com/portal', username='arcgis_python', password='amazing_arcgis_123')"
   ]
  },
  {
   "cell_type": "markdown",
   "id": "9f54e0e1",
   "metadata": {
    "heading_collapsed": true
   },
   "source": [
    "### SGC"
   ]
  },
  {
   "cell_type": "code",
   "execution_count": 2,
   "id": "a0fa7b2a",
   "metadata": {
    "hidden": true
   },
   "outputs": [],
   "source": [
    "gis = GIS(profile=\"sgc20_desarrollo\")\n",
    "from sgc import sgccat20lib\n",
    "sgccat20lib.gisConnection = gis"
   ]
  },
  {
   "cell_type": "code",
   "execution_count": 6,
   "id": "068d5f14",
   "metadata": {
    "hidden": true
   },
   "outputs": [],
   "source": [
    "gisContentParcelService = gis.content.get(\"2bb0fcf269ae42249a77fcd65af91ab6\")"
   ]
  },
  {
   "cell_type": "code",
   "execution_count": 7,
   "id": "87e72e85",
   "metadata": {
    "hidden": true
   },
   "outputs": [
    {
     "data": {
      "text/plain": [
       "<FeatureLayer url:\"https://multiproposito.catastroamco.gov.co/server/rest/services/SERVICIOS/FS_Conservacion_Consulta/FeatureServer/58\">"
      ]
     },
     "execution_count": 7,
     "metadata": {},
     "output_type": "execute_result"
    }
   ],
   "source": [
    "lyr_terreno = next(iter(filter(lambda x: x.properties.name.upper()==\"Terreno\".upper(), gisContentParcelService.layers)), None)\n",
    "lyr_terreno"
   ]
  },
  {
   "cell_type": "code",
   "execution_count": 11,
   "id": "1b4f7567",
   "metadata": {
    "hidden": true
   },
   "outputs": [
    {
     "data": {
      "text/plain": [
       "[{\n",
       "   \"name\": \"uuid_105\",\n",
       "   \"fields\": \"globalid\",\n",
       "   \"isAscending\": true,\n",
       "   \"isUnique\": true,\n",
       "   \"description\": \"\"\n",
       " },\n",
       " {\n",
       "   \"name\": \"a46_ix1\",\n",
       "   \"fields\": \"shape\",\n",
       "   \"isAscending\": true,\n",
       "   \"isUnique\": true,\n",
       "   \"description\": \"\"\n",
       " }]"
      ]
     },
     "execution_count": 11,
     "metadata": {},
     "output_type": "execute_result"
    }
   ],
   "source": [
    "ui = [f for f in lyr_terreno.properties.indexes if f.isUnique]\n",
    "ui"
   ]
  },
  {
   "cell_type": "markdown",
   "id": "a80b2b85",
   "metadata": {},
   "source": [
    "### ver conexion"
   ]
  },
  {
   "cell_type": "code",
   "execution_count": 3,
   "id": "9a3193bf",
   "metadata": {},
   "outputs": [
    {
     "name": "stdout",
     "output_type": "stream",
     "text": [
      "http://renemorenow.maps.arcgis.com  ==>  renemorenow\n"
     ]
    }
   ],
   "source": [
    "print(gis.url, \" ==> \", gis.users.me.username)"
   ]
  },
  {
   "cell_type": "markdown",
   "id": "4f503701",
   "metadata": {
    "heading_collapsed": true
   },
   "source": [
    "## ObtenerParametros SGC:"
   ]
  },
  {
   "cell_type": "code",
   "execution_count": null,
   "id": "ca5da9b6",
   "metadata": {
    "hidden": true
   },
   "outputs": [],
   "source": [
    "id_municipio = \"54001\"\n",
    "dictParams = sgccat20lib.ObtenerParametros(id_municipio=id_municipio)\n",
    "parcel_service = dictParams[\"PARCEL_SERVICE_NAME\"]\n",
    "ParcelService = gis.content.get(parcel_service)\n",
    "ParcelService"
   ]
  },
  {
   "cell_type": "markdown",
   "id": "6d524152",
   "metadata": {},
   "source": [
    "# Topics\n",
    "### Symbology/ Visualization\n",
    "### Access feature attributes\n",
    "### Recognize and interpret JSON"
   ]
  },
  {
   "cell_type": "code",
   "execution_count": null,
   "id": "73919084",
   "metadata": {},
   "outputs": [],
   "source": [
    "path = os.getcwd()\n",
    "data_path = \"data\"\n",
    "data_path = os.path.join(path[:path.find(\"TemasExamen_ApiforPython\")], \"TemasExamen_ApiforPython\", data_path)\n",
    "data_path"
   ]
  },
  {
   "cell_type": "markdown",
   "id": "b3f2acae",
   "metadata": {
    "heading_collapsed": true
   },
   "source": [
    "## https://developers.arcgis.com/python/guide/smart-mapping/"
   ]
  },
  {
   "cell_type": "code",
   "execution_count": 9,
   "id": "f76d7456",
   "metadata": {
    "hidden": true
   },
   "outputs": [
    {
     "data": {
      "application/vnd.jupyter.widget-view+json": {
       "model_id": "adeaab492474424b8d5cc9ee74fb4a7c",
       "version_major": 2,
       "version_minor": 0
      },
      "text/plain": [
       "MapView(layout=Layout(height='400px', width='100%'))"
      ]
     },
     "metadata": {},
     "output_type": "display_data"
    },
    {
     "data": {
      "text/html": [
       "<div class=\"map-static-img-preview-f37fcf04-17c1-4829-ba32-4b60e3c4ae42\"><img src=\"\"></img></div>"
      ],
      "text/plain": [
       "<IPython.core.display.HTML object>"
      ]
     },
     "metadata": {},
     "output_type": "display_data"
    },
    {
     "data": {
      "text/html": [
       "<div class=\"map-html-embed-preview-f37fcf04-17c1-4829-ba32-4b60e3c4ae42\"></div>"
      ],
      "text/plain": [
       "<IPython.core.display.HTML object>"
      ]
     },
     "metadata": {},
     "output_type": "display_data"
    }
   ],
   "source": [
    "map1 = gis.map('USA',3)\n",
    "map1"
   ]
  },
  {
   "cell_type": "code",
   "execution_count": 41,
   "id": "d5b0ab20",
   "metadata": {
    "hidden": true
   },
   "outputs": [
    {
     "data": {
      "text/plain": [
       "[]"
      ]
     },
     "execution_count": 41,
     "metadata": {},
     "output_type": "execute_result"
    }
   ],
   "source": [
    "search_result = gis.content.search(query='freeway',\n",
    "                                  item_type = 'Feature Layer' )\n",
    "search_result"
   ]
  },
  {
   "cell_type": "code",
   "execution_count": 12,
   "id": "04caf3f8",
   "metadata": {
    "hidden": true
   },
   "outputs": [
    {
     "ename": "IndexError",
     "evalue": "list index out of range",
     "output_type": "error",
     "traceback": [
      "\u001b[1;31m---------------------------------------------------------------------------\u001b[0m",
      "\u001b[1;31mIndexError\u001b[0m                                Traceback (most recent call last)",
      "\u001b[1;32m~\\AppData\\Local\\Temp\\ipykernel_18144\\343867971.py\u001b[0m in \u001b[0;36m<cell line: 1>\u001b[1;34m()\u001b[0m\n\u001b[1;32m----> 1\u001b[1;33m \u001b[0mfreeway_item\u001b[0m \u001b[1;33m=\u001b[0m \u001b[0msearch_result\u001b[0m\u001b[1;33m[\u001b[0m\u001b[1;36m0\u001b[0m\u001b[1;33m]\u001b[0m\u001b[1;33m\u001b[0m\u001b[1;33m\u001b[0m\u001b[0m\n\u001b[0m\u001b[0;32m      2\u001b[0m \u001b[0mmap1\u001b[0m\u001b[1;33m.\u001b[0m\u001b[0madd_layer\u001b[0m\u001b[1;33m(\u001b[0m\u001b[0mfreeway_item\u001b[0m\u001b[1;33m)\u001b[0m\u001b[1;33m\u001b[0m\u001b[1;33m\u001b[0m\u001b[0m\n\u001b[0;32m      3\u001b[0m \u001b[0mmap1\u001b[0m\u001b[1;33m\u001b[0m\u001b[1;33m\u001b[0m\u001b[0m\n",
      "\u001b[1;31mIndexError\u001b[0m: list index out of range"
     ]
    }
   ],
   "source": [
    "freeway_item = search_result[0]\n",
    "map1.add_layer(freeway_item)\n",
    "map1"
   ]
  },
  {
   "cell_type": "code",
   "execution_count": 8,
   "id": "637fc144",
   "metadata": {
    "hidden": true
   },
   "outputs": [
    {
     "name": "stdout",
     "output_type": "stream",
     "text": [
      "https://services.arcgis.com/P3ePLMYs2RVChkJx/arcgis/rest/services/USA_Freeway_System/FeatureServer/1\n",
      "OBJECTID\n",
      "ROUTE_NUM\n",
      "CLASS\n",
      "NUMBER\n",
      "SUFFIX\n",
      "DIST_MILES\n",
      "DIST_KM\n"
     ]
    }
   ],
   "source": [
    "# Use the first layer available on the service.\n",
    "freeway_feature_layer = freeway_item.layers[0]\n",
    "\n",
    "# Print the layer's url and field names.\n",
    "print(freeway_feature_layer.url)\n",
    "for field in freeway_feature_layer.properties['fields']:\n",
    "    print(field['name'])"
   ]
  },
  {
   "cell_type": "code",
   "execution_count": 10,
   "id": "293fc8ce",
   "metadata": {
    "hidden": true
   },
   "outputs": [
    {
     "data": {
      "application/vnd.jupyter.widget-view+json": {
       "model_id": "4efa3453ab934797898d31bdb85b7699",
       "version_major": 2,
       "version_minor": 0
      },
      "text/plain": [
       "MapView(jupyter_target='notebook', layout=Layout(height='400px', width='100%'), ready=True)"
      ]
     },
     "metadata": {},
     "output_type": "display_data"
    },
    {
     "data": {
      "text/html": [
       "<div class=\"map-static-img-preview-b0191099-8a94-42ef-8457-051096b1780e\"><img src=\"\"></img></div>"
      ],
      "text/plain": [
       "<IPython.core.display.HTML object>"
      ]
     },
     "metadata": {},
     "output_type": "display_data"
    },
    {
     "data": {
      "text/html": [
       "<div class=\"map-html-embed-preview-b0191099-8a94-42ef-8457-051096b1780e\"></div>"
      ],
      "text/plain": [
       "<IPython.core.display.HTML object>"
      ]
     },
     "metadata": {},
     "output_type": "display_data"
    }
   ],
   "source": [
    "map1.add_layer(freeway_feature_layer, {\"renderer\":\"ClassedSizeRenderer\", \"field_name\": \"DIST_MILES\"})\n",
    "# Change map's extent to Los Angeles city\n",
    "map1.center = [34, -118]\n",
    "map1.zoom = 10\n",
    "map1"
   ]
  },
  {
   "cell_type": "code",
   "execution_count": 13,
   "id": "2a62cdfa",
   "metadata": {
    "hidden": true
   },
   "outputs": [
    {
     "data": {
      "application/vnd.jupyter.widget-view+json": {
       "model_id": "d69229dca79b4a11a682c14d7525476b",
       "version_major": 2,
       "version_minor": 0
      },
      "text/plain": [
       "MapView(layout=Layout(height='400px', width='100%'))"
      ]
     },
     "metadata": {},
     "output_type": "display_data"
    },
    {
     "data": {
      "text/html": [
       "<div class=\"map-static-img-preview-fb4b99f3-7420-4b3f-b30c-6a23758090f2\"><img src=\"\"></img></div>"
      ],
      "text/plain": [
       "<IPython.core.display.HTML object>"
      ]
     },
     "metadata": {},
     "output_type": "display_data"
    },
    {
     "data": {
      "text/html": [
       "<div class=\"map-html-embed-preview-fb4b99f3-7420-4b3f-b30c-6a23758090f2\"></div>"
      ],
      "text/plain": [
       "<IPython.core.display.HTML object>"
      ]
     },
     "metadata": {},
     "output_type": "display_data"
    }
   ],
   "source": [
    "map2 = gis.map('Seattle, WA', 6)\n",
    "map2"
   ]
  },
  {
   "cell_type": "code",
   "execution_count": 22,
   "id": "7b1d4af7",
   "metadata": {
    "hidden": true
   },
   "outputs": [
    {
     "data": {
      "application/vnd.jupyter.widget-view+json": {
       "model_id": "d69229dca79b4a11a682c14d7525476b",
       "version_major": 2,
       "version_minor": 0
      },
      "text/plain": [
       "MapView(jupyter_target='notebook', layout=Layout(height='400px', width='100%'), ready=True)"
      ]
     },
     "metadata": {},
     "output_type": "display_data"
    },
    {
     "data": {
      "text/html": [
       "<div class=\"map-static-img-preview-fb4b99f3-7420-4b3f-b30c-6a23758090f2\"><img src=\"\"></img></div>"
      ],
      "text/plain": [
       "<IPython.core.display.HTML object>"
      ]
     },
     "metadata": {},
     "output_type": "display_data"
    },
    {
     "data": {
      "text/html": [
       "<div class=\"map-html-embed-preview-fb4b99f3-7420-4b3f-b30c-6a23758090f2\"></div>"
      ],
      "text/plain": [
       "<IPython.core.display.HTML object>"
      ]
     },
     "metadata": {},
     "output_type": "display_data"
    }
   ],
   "source": [
    "map2.add_layer({\"type\":\"FeatureLayer\", \n",
    "               \"url\":\"http://sampleserver6.arcgisonline.com/arcgis/rest/services/Census/MapServer/2\",\n",
    "               \"definition_expression\" : \"STATE_NAME='Washington'\",\n",
    "               \"renderer\":\"ClassedColorRenderer\",\n",
    "               \"field_name\":\"POP2007\",\n",
    "               \"opacity\":0.7\n",
    "              })\n",
    "map2"
   ]
  },
  {
   "cell_type": "markdown",
   "id": "b248e49a",
   "metadata": {
    "hidden": true
   },
   "source": [
    "### Mapas de calor:"
   ]
  },
  {
   "cell_type": "code",
   "execution_count": 31,
   "id": "d976bc6d",
   "metadata": {
    "hidden": true
   },
   "outputs": [
    {
     "data": {
      "application/vnd.jupyter.widget-view+json": {
       "model_id": "744e3ca8611a4ac4b88dd03358f54705",
       "version_major": 2,
       "version_minor": 0
      },
      "text/plain": [
       "MapView(layout=Layout(height='400px', width='100%'))"
      ]
     },
     "metadata": {},
     "output_type": "display_data"
    },
    {
     "data": {
      "text/html": [
       "<div class=\"map-static-img-preview-472d80f4-5c5e-4f79-aa82-36cf16cb5475\"><img src=\"\"></img></div>"
      ],
      "text/plain": [
       "<IPython.core.display.HTML object>"
      ]
     },
     "metadata": {},
     "output_type": "display_data"
    },
    {
     "data": {
      "text/html": [
       "<div class=\"map-html-embed-preview-472d80f4-5c5e-4f79-aa82-36cf16cb5475\"></div>"
      ],
      "text/plain": [
       "<IPython.core.display.HTML object>"
      ]
     },
     "metadata": {},
     "output_type": "display_data"
    }
   ],
   "source": [
    "map3 = gis.map('Los Angeles', 8)\n",
    "map3.add_layer({\"type\":\"FeatureLayer\",\n",
    "                \"url\":\"http://services1.arcgis.com/hLJbHVT9ZrDIzK0I/arcgis/rest/services/EQMagGt4/FeatureServer/0\",\n",
    "                \"renderer\":\"HeatmapRenderer\",\n",
    "                \"opacity\":0.75})\n",
    "map3"
   ]
  },
  {
   "cell_type": "code",
   "execution_count": 32,
   "id": "98433c28",
   "metadata": {
    "hidden": true
   },
   "outputs": [
    {
     "name": "stdout",
     "output_type": "stream",
     "text": [
      "https://arcgis.catasig.com.co/portal/\n"
     ]
    }
   ],
   "source": [
    "from arcgis.gis import GIS\n",
    "from sgc import sgccat20lib\n",
    "sgccat20lib.profile_storaged = \"sgc20_sabanalarga\"\n",
    "gis = sgccat20lib.gisLogin()\n",
    "print(gis.url)"
   ]
  },
  {
   "cell_type": "code",
   "execution_count": 51,
   "id": "b74c88c0",
   "metadata": {
    "hidden": true
   },
   "outputs": [
    {
     "data": {
      "application/vnd.jupyter.widget-view+json": {
       "model_id": "96dfa92fe9d24571839b6a8ffa6a7a6a",
       "version_major": 2,
       "version_minor": 0
      },
      "text/plain": [
       "MapView(layout=Layout(height='400px', width='100%'))"
      ]
     },
     "metadata": {},
     "output_type": "display_data"
    },
    {
     "data": {
      "text/html": [
       "<div class=\"map-static-img-preview-17fa4a6d-1579-4e6d-9b66-333075eee577\"><img src=\"\"></img></div>"
      ],
      "text/plain": [
       "<IPython.core.display.HTML object>"
      ]
     },
     "metadata": {},
     "output_type": "display_data"
    },
    {
     "data": {
      "text/html": [
       "<div class=\"map-html-embed-preview-17fa4a6d-1579-4e6d-9b66-333075eee577\"></div>"
      ],
      "text/plain": [
       "<IPython.core.display.HTML object>"
      ]
     },
     "metadata": {},
     "output_type": "display_data"
    }
   ],
   "source": [
    "map4 = gis.map(\"Sabanalarga\",12)\n",
    "map4"
   ]
  },
  {
   "cell_type": "code",
   "execution_count": 38,
   "id": "02e5b1cf",
   "metadata": {
    "hidden": true
   },
   "outputs": [],
   "source": [
    "from arcgis.features import *\n",
    "dictParams = sgccat20lib.ObtenerParametros()\n",
    "parcel_service = dictParams[\"PARCEL_SERVICE_NAME\"]\n",
    "gis = sgccat20lib.gisLogin(\"profile\")\n",
    "ParcelService = gis.content.get(parcel_service)\n",
    "urlParcelService = ParcelService.url"
   ]
  },
  {
   "cell_type": "code",
   "execution_count": 41,
   "id": "d30d41e8",
   "metadata": {
    "hidden": true
   },
   "outputs": [],
   "source": [
    "predio_table = next(iter(filter(lambda x: x.properties.name.upper()==\"PREDIO\".upper(), ParcelService.tables)), None)\n",
    "terreno_table = next(iter(filter(lambda x: x.properties.name.upper()==\"TERRENO\".upper(), ParcelService.layers)), None)"
   ]
  },
  {
   "cell_type": "code",
   "execution_count": 40,
   "id": "f95bf60c",
   "metadata": {
    "hidden": true
   },
   "outputs": [],
   "source": [
    "kwargs = { \"return_geometry\": True, \"result_record_count\": 3 }\n",
    "datosPredio = sgccat20lib.get_features_layertable_where(\n",
    "    gis,\n",
    "    predio_table.url,\n",
    "    \"condicion_predio='NPH'\",\n",
    "    \"*\",\n",
    "    None,\n",
    "    [\"LC_Terreno\"],\n",
    "    [\"*\"],\n",
    "    **kwargs)"
   ]
  },
  {
   "cell_type": "code",
   "execution_count": 45,
   "id": "f7842032",
   "metadata": {
    "hidden": true
   },
   "outputs": [],
   "source": [
    "rel_terreno = next(iter(filter(lambda x: x[\"name\"].upper()==\"LC_Terreno\".upper(), datosPredio[\"Relationships\"])), None)\n",
    "#if rel_terreno and len(rel_terreno[\"features\"]) > 0:\n",
    "featuresTerreno = list(filter(lambda x: x[\"attributes\"].get(\"retiredbyrecord\") is None, rel_terreno[\"features\"]))\n",
    "globalids = [f[\"attributes\"][\"globalid\"] for f in featuresTerreno]\n",
    "GIDs_predio = tuple(globalids) if len(globalids) > 1 else \"('{}')\".format(globalids[0])\n",
    "where = \"globalid in {0}\".format(GIDs_predio)\n",
    "datosTerreno = terreno_table.query(\"1=1\",return_geometry=True)"
   ]
  },
  {
   "cell_type": "code",
   "execution_count": 44,
   "id": "191968c1",
   "metadata": {
    "hidden": true
   },
   "outputs": [
    {
     "data": {
      "image/svg+xml": [
       "<svg xmlns=\"http://www.w3.org/2000/svg\" xmlns:xlink=\"http://www.w3.org/1999/xlink\" width=\"264.5894400002435\" height=\"283.3304400006309\" viewBox=\"4794945.81848 2743555.590079999 264.5894400002435 283.3304400006309\" preserveAspectRatio=\"xMinYMin meet\"><g transform=\"matrix(1,0,0,-1,0,5487394.510599999)\"><path fill-rule=\"evenodd\" fill=\"#66cc99\" stroke=\"#555555\" stroke-width=\"2.0\" opacity=\"0.6\" d=\"M 4795199.9142,2743566.083799999 L 4795189.9384,2743568.1727000014 L 4795160.124600001,2743579.0493000005 L 4795114.290600001,2743593.5725000002 L 4795076.6035,2743604.3215999994 L 4795076.2219,2743653.4902000003 L 4795000.578900001,2743680.5463999994 L 4794956.3122000005,2743697.5730000013 L 4794970.089000001,2743714.7664000005 L 4794981.475900001,2743739.307499999 L 4794994.87,2743767.494999999 L 4795013.918300001,2743796.6596000013 L 4795038.6094,2743823.4791 L 4795048.597800001,2743828.4267999995 L 4795049.213900001,2743814.4739 L 4795052.1353,2743794.2014000015 L 4795058.015000001,2743780.157299999 L 4795071.2033,2743763.6066000005 L 4795082.2849,2743752.620200001 L 4795098.1737,2743742.5337000005 L 4795128.8649,2743727.8836000003 L 4795146.487400001,2743717.0373000004 L 4795169.348300001,2743698.2807000005 L 4795179.959100001,2743683.0216 L 4795187.5235,2743669.0116000012 L 4795192.410800001,2743638.0473 L 4795196.9351,2743606.7975999992 L 4795198.7362,2743585.1574000013 L 4795199.853700001,2743566.7939000004 L 4795199.9142,2743566.083799999 z\" /></g></svg>"
      ],
      "text/plain": [
       "{'rings': [[[4795199.9142, 2743566.083799999],\n",
       "   [4795189.9384, 2743568.1727000014],\n",
       "   [4795160.124600001, 2743579.0493000005],\n",
       "   [4795114.290600001, 2743593.5725000002],\n",
       "   [4795076.6035, 2743604.3215999994],\n",
       "   [4795076.2219, 2743653.4902000003],\n",
       "   [4795000.578900001, 2743680.5463999994],\n",
       "   [4794956.3122000005, 2743697.5730000013],\n",
       "   [4794970.089000001, 2743714.7664000005],\n",
       "   [4794981.475900001, 2743739.307499999],\n",
       "   [4794994.87, 2743767.494999999],\n",
       "   [4795013.918300001, 2743796.6596000013],\n",
       "   [4795038.6094, 2743823.4791],\n",
       "   [4795048.597800001, 2743828.4267999995],\n",
       "   [4795049.213900001, 2743814.4739],\n",
       "   [4795052.1353, 2743794.2014000015],\n",
       "   [4795058.015000001, 2743780.157299999],\n",
       "   [4795071.2033, 2743763.6066000005],\n",
       "   [4795082.2849, 2743752.620200001],\n",
       "   [4795098.1737, 2743742.5337000005],\n",
       "   [4795128.8649, 2743727.8836000003],\n",
       "   [4795146.487400001, 2743717.0373000004],\n",
       "   [4795169.348300001, 2743698.2807000005],\n",
       "   [4795179.959100001, 2743683.0216],\n",
       "   [4795187.5235, 2743669.0116000012],\n",
       "   [4795192.410800001, 2743638.0473],\n",
       "   [4795196.9351, 2743606.7975999992],\n",
       "   [4795198.7362, 2743585.1574000013],\n",
       "   [4795199.853700001, 2743566.7939000004],\n",
       "   [4795199.9142, 2743566.083799999]]],\n",
       " 'spatialReference': {'wkid': 9377, 'latestWkid': 9377}}"
      ]
     },
     "execution_count": 44,
     "metadata": {},
     "output_type": "execute_result"
    }
   ],
   "source": [
    "import copy\n",
    "from arcgis.geometry import Geometry, Polygon\n",
    "fts_terreno = copy.deepcopy(datosTerreno)\n",
    "feat_collect = FeatureCollection.from_featureset(fts_terreno)\n",
    "\n",
    "# create = analysis.aggregate_points()\n",
    "polygon = Geometry(fts_terreno.features[0].geometry)\n",
    "polygon"
   ]
  },
  {
   "cell_type": "code",
   "execution_count": 77,
   "id": "9c40e9c2",
   "metadata": {
    "hidden": true
   },
   "outputs": [
    {
     "name": "stdout",
     "output_type": "stream",
     "text": [
      "objectid\n",
      "globalid\n",
      "name\n",
      "createdbyrecord\n",
      "retiredbyrecord\n",
      "statedarea\n",
      "statedareaunit\n",
      "calculatedarea\n",
      "miscloseratio\n",
      "misclosedistance\n",
      "isseed\n",
      "created_user\n",
      "created_date\n",
      "last_edited_user\n",
      "last_edited_date\n",
      "Shape__Area\n",
      "Shape__Length\n",
      "area_terreno\n",
      "avaluo_terreno\n",
      "dimension\n",
      "etiqueta\n",
      "relacion_superficie\n",
      "manzana_vereda_codigo\n",
      "validationstatus\n"
     ]
    }
   ],
   "source": [
    "for field in terreno_table.properties[\"fields\"]:\n",
    "    print(field['name'])"
   ]
  },
  {
   "cell_type": "code",
   "execution_count": 83,
   "id": "b10d1dfe",
   "metadata": {
    "hidden": true
   },
   "outputs": [
    {
     "data": {
      "application/vnd.jupyter.widget-view+json": {
       "model_id": "96dfa92fe9d24571839b6a8ffa6a7a6a",
       "version_major": 2,
       "version_minor": 0
      },
      "text/plain": [
       "MapView(jupyter_target='notebook', layout=Layout(height='400px', width='100%'), ready=True)"
      ]
     },
     "metadata": {},
     "output_type": "display_data"
    },
    {
     "data": {
      "text/html": [
       "<div class=\"map-static-img-preview-17fa4a6d-1579-4e6d-9b66-333075eee577\"><img src=\"\"></img></div>"
      ],
      "text/plain": [
       "<IPython.core.display.HTML object>"
      ]
     },
     "metadata": {},
     "output_type": "display_data"
    },
    {
     "data": {
      "text/html": [
       "<div class=\"map-html-embed-preview-17fa4a6d-1579-4e6d-9b66-333075eee577\"></div>"
      ],
      "text/plain": [
       "<IPython.core.display.HTML object>"
      ]
     },
     "metadata": {},
     "output_type": "display_data"
    }
   ],
   "source": [
    "map4.add_layer(terreno_table,{\"renderer\":\"SimpleRenderer\",\"field\":\"manzana_vereda_codigo\"})\n",
    "map4"
   ]
  },
  {
   "cell_type": "markdown",
   "id": "389b907f",
   "metadata": {
    "heading_collapsed": true
   },
   "source": [
    "## https://developers.arcgis.com/python/guide/advanced-cartography-part1/"
   ]
  },
  {
   "cell_type": "code",
   "execution_count": 47,
   "id": "a5ac754b",
   "metadata": {
    "hidden": true
   },
   "outputs": [
    {
     "data": {
      "application/vnd.jupyter.widget-view+json": {
       "model_id": "9b90b07afb7646268ca8fd1ba6ec1550",
       "version_major": 2,
       "version_minor": 0
      },
      "text/plain": [
       "MapView(layout=Layout(height='400px', width='100%'))"
      ]
     },
     "metadata": {},
     "output_type": "display_data"
    },
    {
     "data": {
      "text/html": [
       "<div class=\"map-static-img-preview-969c8006-3b77-4364-b83b-65ae2e4b93e4\"><img src=\"\"></img></div>"
      ],
      "text/plain": [
       "<IPython.core.display.HTML object>"
      ]
     },
     "metadata": {},
     "output_type": "display_data"
    },
    {
     "data": {
      "text/html": [
       "<div class=\"map-html-embed-preview-969c8006-3b77-4364-b83b-65ae2e4b93e4\"></div>"
      ],
      "text/plain": [
       "<IPython.core.display.HTML object>"
      ]
     },
     "metadata": {},
     "output_type": "display_data"
    }
   ],
   "source": [
    "map1 = gis.map(\"USA\", 4)\n",
    "map1"
   ]
  },
  {
   "cell_type": "code",
   "execution_count": 44,
   "id": "b90c3209",
   "metadata": {
    "hidden": true
   },
   "outputs": [
    {
     "name": "stdout",
     "output_type": "stream",
     "text": [
      "<class 'arcgis.features.layer.FeatureLayer'>\n"
     ]
    }
   ],
   "source": [
    "from arcgis.features import FeatureLayer\n",
    "usa_flayer = FeatureLayer(\"https://services.arcgis.com/V6ZHFr6zdgNZuVG0/arcgis/rest/services/USA_County_Crops_2007/FeatureServer/0\")\n",
    "print(type(usa_flayer))\n",
    "map1.add_layer(usa_flayer, { \"type\": \"FeatureLayer\",\n",
    "                             \"renderer\":\"ClassedColorRenderer\",\n",
    "                             \"field_name\":\"M086_07\"})"
   ]
  },
  {
   "cell_type": "code",
   "execution_count": 45,
   "id": "f82ae37d",
   "metadata": {
    "hidden": true,
    "scrolled": true
   },
   "outputs": [
    {
     "data": {
      "text/html": [
       "<div>\n",
       "<style scoped>\n",
       "    .dataframe tbody tr th:only-of-type {\n",
       "        vertical-align: middle;\n",
       "    }\n",
       "\n",
       "    .dataframe tbody tr th {\n",
       "        vertical-align: top;\n",
       "    }\n",
       "\n",
       "    .dataframe thead th {\n",
       "        text-align: right;\n",
       "    }\n",
       "</style>\n",
       "<table border=\"1\" class=\"dataframe\">\n",
       "  <thead>\n",
       "    <tr style=\"text-align: right;\">\n",
       "      <th></th>\n",
       "      <th>FID</th>\n",
       "      <th>AREA</th>\n",
       "      <th>PERIMETER</th>\n",
       "      <th>AGCENSP020</th>\n",
       "      <th>STATE</th>\n",
       "      <th>COUNTY</th>\n",
       "      <th>FIPS</th>\n",
       "      <th>ST</th>\n",
       "      <th>M003_07</th>\n",
       "      <th>M009_07</th>\n",
       "      <th>...</th>\n",
       "      <th>M099_07</th>\n",
       "      <th>M090_07</th>\n",
       "      <th>M172_07</th>\n",
       "      <th>M188_07</th>\n",
       "      <th>M193_07</th>\n",
       "      <th>M217_07</th>\n",
       "      <th>M233_07</th>\n",
       "      <th>M234_07</th>\n",
       "      <th>TotalFarmedAcres</th>\n",
       "      <th>SHAPE</th>\n",
       "    </tr>\n",
       "  </thead>\n",
       "  <tbody>\n",
       "    <tr>\n",
       "      <th>0</th>\n",
       "      <td>1</td>\n",
       "      <td>0.00003</td>\n",
       "      <td>0.02149</td>\n",
       "      <td>502.0</td>\n",
       "      <td>AK</td>\n",
       "      <td>Juneau Area</td>\n",
       "      <td>02110</td>\n",
       "      <td>02</td>\n",
       "      <td>14.0</td>\n",
       "      <td>29.73</td>\n",
       "      <td>...</td>\n",
       "      <td>216319.0</td>\n",
       "      <td>0.0</td>\n",
       "      <td>0.0</td>\n",
       "      <td>0.0</td>\n",
       "      <td>0.0</td>\n",
       "      <td>0.0</td>\n",
       "      <td>0.0</td>\n",
       "      <td>0.0</td>\n",
       "      <td>0</td>\n",
       "      <td>{\"rings\": [[[-15176096.5064839, 7921583.613428...</td>\n",
       "    </tr>\n",
       "    <tr>\n",
       "      <th>1</th>\n",
       "      <td>2</td>\n",
       "      <td>0.00017</td>\n",
       "      <td>0.06661</td>\n",
       "      <td>503.0</td>\n",
       "      <td>AK</td>\n",
       "      <td>Aleutian Islands Area</td>\n",
       "      <td>02010</td>\n",
       "      <td>02</td>\n",
       "      <td>19817.0</td>\n",
       "      <td>68.57</td>\n",
       "      <td>...</td>\n",
       "      <td>110557.0</td>\n",
       "      <td>0.0</td>\n",
       "      <td>0.0</td>\n",
       "      <td>0.0</td>\n",
       "      <td>0.0</td>\n",
       "      <td>10.0</td>\n",
       "      <td>0.0</td>\n",
       "      <td>0.0</td>\n",
       "      <td>10</td>\n",
       "      <td>{\"rings\": [[[-16966971.5634053, 7919854.606389...</td>\n",
       "    </tr>\n",
       "    <tr>\n",
       "      <th>2</th>\n",
       "      <td>3</td>\n",
       "      <td>0.00003</td>\n",
       "      <td>0.02353</td>\n",
       "      <td>504.0</td>\n",
       "      <td>AK</td>\n",
       "      <td>Aleutian Islands Area</td>\n",
       "      <td>02010</td>\n",
       "      <td>02</td>\n",
       "      <td>19817.0</td>\n",
       "      <td>68.57</td>\n",
       "      <td>...</td>\n",
       "      <td>110557.0</td>\n",
       "      <td>0.0</td>\n",
       "      <td>0.0</td>\n",
       "      <td>0.0</td>\n",
       "      <td>0.0</td>\n",
       "      <td>10.0</td>\n",
       "      <td>0.0</td>\n",
       "      <td>0.0</td>\n",
       "      <td>10</td>\n",
       "      <td>{\"rings\": [[[-17284074.9856888, 7918871.408648...</td>\n",
       "    </tr>\n",
       "    <tr>\n",
       "      <th>3</th>\n",
       "      <td>4</td>\n",
       "      <td>0.00021</td>\n",
       "      <td>0.06889</td>\n",
       "      <td>505.0</td>\n",
       "      <td>AK</td>\n",
       "      <td>Juneau Area</td>\n",
       "      <td>02110</td>\n",
       "      <td>02</td>\n",
       "      <td>14.0</td>\n",
       "      <td>29.73</td>\n",
       "      <td>...</td>\n",
       "      <td>216319.0</td>\n",
       "      <td>0.0</td>\n",
       "      <td>0.0</td>\n",
       "      <td>0.0</td>\n",
       "      <td>0.0</td>\n",
       "      <td>0.0</td>\n",
       "      <td>0.0</td>\n",
       "      <td>0.0</td>\n",
       "      <td>0</td>\n",
       "      <td>{\"rings\": [[[-14874869.8715385, 7915589.101788...</td>\n",
       "    </tr>\n",
       "    <tr>\n",
       "      <th>4</th>\n",
       "      <td>5</td>\n",
       "      <td>0.00135</td>\n",
       "      <td>0.17978</td>\n",
       "      <td>506.0</td>\n",
       "      <td>AK</td>\n",
       "      <td>Juneau Area</td>\n",
       "      <td>02110</td>\n",
       "      <td>02</td>\n",
       "      <td>14.0</td>\n",
       "      <td>29.73</td>\n",
       "      <td>...</td>\n",
       "      <td>216319.0</td>\n",
       "      <td>0.0</td>\n",
       "      <td>0.0</td>\n",
       "      <td>0.0</td>\n",
       "      <td>0.0</td>\n",
       "      <td>0.0</td>\n",
       "      <td>0.0</td>\n",
       "      <td>0.0</td>\n",
       "      <td>0</td>\n",
       "      <td>{\"rings\": [[[-15170248.0871, 7910023.20022296]...</td>\n",
       "    </tr>\n",
       "  </tbody>\n",
       "</table>\n",
       "<p>5 rows × 36 columns</p>\n",
       "</div>"
      ],
      "text/plain": [
       "   FID     AREA  PERIMETER  AGCENSP020 STATE                 COUNTY   FIPS  \\\n",
       "0    1  0.00003    0.02149       502.0    AK            Juneau Area  02110   \n",
       "1    2  0.00017    0.06661       503.0    AK  Aleutian Islands Area  02010   \n",
       "2    3  0.00003    0.02353       504.0    AK  Aleutian Islands Area  02010   \n",
       "3    4  0.00021    0.06889       505.0    AK            Juneau Area  02110   \n",
       "4    5  0.00135    0.17978       506.0    AK            Juneau Area  02110   \n",
       "\n",
       "   ST  M003_07  M009_07  ...   M099_07  M090_07  M172_07  M188_07  M193_07  \\\n",
       "0  02     14.0    29.73  ...  216319.0      0.0      0.0      0.0      0.0   \n",
       "1  02  19817.0    68.57  ...  110557.0      0.0      0.0      0.0      0.0   \n",
       "2  02  19817.0    68.57  ...  110557.0      0.0      0.0      0.0      0.0   \n",
       "3  02     14.0    29.73  ...  216319.0      0.0      0.0      0.0      0.0   \n",
       "4  02     14.0    29.73  ...  216319.0      0.0      0.0      0.0      0.0   \n",
       "\n",
       "   M217_07  M233_07  M234_07  TotalFarmedAcres  \\\n",
       "0      0.0      0.0      0.0                 0   \n",
       "1     10.0      0.0      0.0                10   \n",
       "2     10.0      0.0      0.0                10   \n",
       "3      0.0      0.0      0.0                 0   \n",
       "4      0.0      0.0      0.0                 0   \n",
       "\n",
       "                                               SHAPE  \n",
       "0  {\"rings\": [[[-15176096.5064839, 7921583.613428...  \n",
       "1  {\"rings\": [[[-16966971.5634053, 7919854.606389...  \n",
       "2  {\"rings\": [[[-17284074.9856888, 7918871.408648...  \n",
       "3  {\"rings\": [[[-14874869.8715385, 7915589.101788...  \n",
       "4  {\"rings\": [[[-15170248.0871, 7910023.20022296]...  \n",
       "\n",
       "[5 rows x 36 columns]"
      ]
     },
     "execution_count": 45,
     "metadata": {},
     "output_type": "execute_result"
    }
   ],
   "source": [
    "feature_set = usa_flayer.query(\"FID<=100\")\n",
    "feature_set.sdf.head()"
   ]
  },
  {
   "cell_type": "code",
   "execution_count": 48,
   "id": "f7ac9ed8",
   "metadata": {
    "hidden": true
   },
   "outputs": [
    {
     "data": {
      "application/vnd.jupyter.widget-view+json": {
       "model_id": "5b6edbe10d6a413a8b21409c2057a0f0",
       "version_major": 2,
       "version_minor": 0
      },
      "text/plain": [
       "MapView(layout=Layout(height='400px', width='100%'))"
      ]
     },
     "metadata": {},
     "output_type": "display_data"
    },
    {
     "data": {
      "text/html": [
       "<div class=\"map-static-img-preview-c2fa506e-645c-4091-bca2-9d96f28e27a4\"><img src=\"\"></img></div>"
      ],
      "text/plain": [
       "<IPython.core.display.HTML object>"
      ]
     },
     "metadata": {},
     "output_type": "display_data"
    },
    {
     "data": {
      "text/html": [
       "<div class=\"map-html-embed-preview-c2fa506e-645c-4091-bca2-9d96f28e27a4\"></div>"
      ],
      "text/plain": [
       "<IPython.core.display.HTML object>"
      ]
     },
     "metadata": {},
     "output_type": "display_data"
    }
   ],
   "source": [
    "map2 = gis.map(\"USA\", 4)\n",
    "map2_renderer = {\"renderer\": \"autocast\", #This tells python to use JS autocasting\n",
    "                 \"type\": \"classBreaks\",  \n",
    "                 \"field\":\"M086_07\",\n",
    "                 \"minValue\":-9007199254740991}\n",
    "map2_renderer[\"visualVariables\"] = [{   \"type\": \"colorInfo\",\n",
    "                                        \"field\": \"M086_07\",\n",
    "                                        \"stops\": [  {\n",
    "                                                        \"value\": 10,\n",
    "                                                        \"color\": [237,248,251,204],\n",
    "                                                        \"label\": \"< 10\"\n",
    "                                                    },\n",
    "                                                    {\n",
    "                                                        \"value\": 25,\n",
    "                                                        \"color\": [178,226,226,204],\n",
    "                                                        \"label\": \"10~39.5\"\n",
    "                                                    },\n",
    "                                                    {\n",
    "                                                        \"value\": 39.5,\n",
    "                                                        \"color\": [102,194,164,204],\n",
    "                                                        \"label\": \"39.5\"\n",
    "                                                    },\n",
    "                                                    {\n",
    "                                                        \"value\": 54,\n",
    "                                                        \"color\": [44,162,95,204],\n",
    "                                                        \"label\": \"39.5~68\"\n",
    "                                                    },\n",
    "                                                    {\n",
    "                                                        \"value\": 68,\n",
    "                                                        \"color\": [0,109,44,204],\n",
    "                                                        \"label\": \"> 68\"\n",
    "                                                    }]\n",
    "                                    }]\n",
    "\n",
    "map2_renderer[\"classBreakInfos\"] = [{   \"symbol\": {\n",
    "                                            \"color\": [170,170,170,204],\n",
    "                                            \"outline\": {\n",
    "                                                \"color\": [153,153,153,255],\n",
    "                                                \"width\": 0.375,\n",
    "                                                \"type\": \"esriSLS\",\n",
    "                                                \"style\": \"esriSLSSolid\"\n",
    "                                            },\n",
    "                                            \"type\": \"esriSFS\",\n",
    "                                            \"style\": \"esriSFSSolid\"\n",
    "                                        },\n",
    "                                        \"classMaxValue\": 9007199254740991\n",
    "                                    }]\n",
    "\n",
    "map2.add_layer(usa_flayer,\n",
    "               { \"type\": \"FeatureLayer\",\n",
    "                 \"renderer\": map2_renderer,\n",
    "                 \"field_name\":\"M086_07\",\n",
    "                 \"minValue\":-9007199254740991,\n",
    "                 \"definitionExpression\": \"AREA > 0.001\"})\n",
    "\n",
    "map2"
   ]
  },
  {
   "cell_type": "code",
   "execution_count": 102,
   "id": "2396e853",
   "metadata": {
    "hidden": true
   },
   "outputs": [
    {
     "data": {
      "application/vnd.jupyter.widget-view+json": {
       "model_id": "c7270c2a3e864f799d680ab3935c0772",
       "version_major": 2,
       "version_minor": 0
      },
      "text/plain": [
       "MapView(layout=Layout(height='400px', width='100%'))"
      ]
     },
     "metadata": {},
     "output_type": "display_data"
    },
    {
     "data": {
      "text/html": [
       "<div class=\"map-static-img-preview-cd2bee2c-9753-4465-b5aa-8da5414d6d21\"><img src=\"\"></img></div>"
      ],
      "text/plain": [
       "<IPython.core.display.HTML object>"
      ]
     },
     "metadata": {},
     "output_type": "display_data"
    },
    {
     "data": {
      "text/html": [
       "<div class=\"map-html-embed-preview-cd2bee2c-9753-4465-b5aa-8da5414d6d21\"></div>"
      ],
      "text/plain": [
       "<IPython.core.display.HTML object>"
      ]
     },
     "metadata": {},
     "output_type": "display_data"
    }
   ],
   "source": [
    "map3 = gis.map(\"USA\", 4)\n",
    "\n",
    "map3_renderer = {\"renderer\": \"autocast\", #This tells python to use JS autocasting\n",
    "                 \"type\": \"classBreaks\",  \n",
    "                 \"field\":\"M188_07\",\n",
    "                 \"transparency\":20,\n",
    "                 \"minValue\":-9007199254740991}\n",
    "\n",
    "map3_renderer[\"visualVariables\"] = [{   \"type\": \"sizeInfo\",\n",
    "                                        \"field\": \"M188_07\",\n",
    "                                        \"valueUnit\": \"unknown\",\n",
    "                                        \"minSize\": {\n",
    "                                            \"type\": \"sizeInfo\",\n",
    "                                            \"expression\": \"view.scale\",\n",
    "                                            \"stops\": [{     \"value\": 1128,\n",
    "                                                            \"size\": 16\n",
    "                                                        },\n",
    "                                                        {   \"value\": 144447,\n",
    "                                                            \"size\": 16\n",
    "                                                        },\n",
    "                                                        {   \"value\": 18489298,\n",
    "                                                            \"size\": 4\n",
    "                                                        },\n",
    "                                                        {   \"value\": 147914382,\n",
    "                                                            \"size\": 4\n",
    "                                                        },\n",
    "                                                        {   \"value\": 591657528,\n",
    "                                                            \"size\": 2\n",
    "                                                        }]\n",
    "                                        },\n",
    "                                        \"maxSize\": {\n",
    "                                            \"type\": \"sizeInfo\",\n",
    "                                            \"expression\": \"view.scale\",\n",
    "                                            \"stops\": [{     \"value\": 1128,\n",
    "                                                            \"size\": 80\n",
    "                                                        },\n",
    "                                                        {   \"value\": 144447,\n",
    "                                                            \"size\": 80\n",
    "                                                        },\n",
    "                                                        {   \"value\": 18489298,\n",
    "                                                            \"size\": 50\n",
    "                                                        },\n",
    "                                                        {   \"value\": 147914382,\n",
    "                                                            \"size\": 50\n",
    "                                                        },\n",
    "                                                        {   \"value\": 591657528,\n",
    "                                                            \"size\": 25\n",
    "                                                        }]\n",
    "                                        },\n",
    "                                        \"minDataValue\": 0,\n",
    "                                        \"maxDataValue\": 150000\n",
    "                                    },\n",
    "                                    {   \"type\": \"sizeInfo\",\n",
    "                                        \"target\": \"outline\",\n",
    "                                        \"expression\": \"view.scale\",\n",
    "                                        \"stops\": [{     \"size\": 2,\n",
    "                                                        \"value\": 1080478\n",
    "                                                    },\n",
    "                                                    {   \"size\": 1,\n",
    "                                                        \"value\": 6752990\n",
    "                                                    },\n",
    "                                                    {   \"size\": 1,\n",
    "                                                        \"value\": 27011958\n",
    "                                                    },\n",
    "                                                    {   \"size\": 0,\n",
    "                                                        \"value\": 54023916\n",
    "                                                    }]\n",
    "                                    }]\n",
    "\n",
    "map3_renderer[\"classBreakInfos\"] =     [{   \"symbol\": {\n",
    "                                                \"color\": [227,139,79,255],\n",
    "                                                \"size\": 9,\n",
    "                                                \"angle\": 0,\n",
    "                                                \"xoffset\": 0,\n",
    "                                                \"yoffset\": 0,\n",
    "                                                \"type\": \"esriSMS\",\n",
    "                                                \"style\": \"esriSMSCircle\",\n",
    "                                                \"outline\": {\n",
    "                                                    \"color\": [51,51,51,255],\n",
    "                                                    \"width\": 0.75,\n",
    "                                                    \"type\": \"esriSLS\",\n",
    "                                                    \"style\": \"esriSLSSolid\"\n",
    "                                                }\n",
    "                                            },\n",
    "                                            \"classMaxValue\": 9007199254740991\n",
    "                                        }]\n",
    "\n",
    "map3.add_layer(usa_flayer,\n",
    "               { \"type\": \"FeatureLayer\",\n",
    "                 \"renderer\":map3_renderer,\n",
    "                 \"field_name\":\"M188_07\"})\n",
    "\n",
    "map3"
   ]
  },
  {
   "cell_type": "code",
   "execution_count": 104,
   "id": "b6785f77",
   "metadata": {
    "hidden": true
   },
   "outputs": [
    {
     "data": {
      "application/vnd.jupyter.widget-view+json": {
       "model_id": "0ead3d8d1e1d4921bf27e4315859f75e",
       "version_major": 2,
       "version_minor": 0
      },
      "text/plain": [
       "MapView(layout=Layout(height='400px', width='100%'))"
      ]
     },
     "metadata": {},
     "output_type": "display_data"
    },
    {
     "data": {
      "text/html": [
       "<div class=\"map-static-img-preview-8cf9468b-4569-41d9-af74-79f888e08761\"><img src=\"\"></img></div>"
      ],
      "text/plain": [
       "<IPython.core.display.HTML object>"
      ]
     },
     "metadata": {},
     "output_type": "display_data"
    },
    {
     "data": {
      "text/html": [
       "<div class=\"map-html-embed-preview-8cf9468b-4569-41d9-af74-79f888e08761\"></div>"
      ],
      "text/plain": [
       "<IPython.core.display.HTML object>"
      ]
     },
     "metadata": {},
     "output_type": "display_data"
    }
   ],
   "source": [
    "map4 = gis.map(\"France\", 2)\n",
    "\n",
    "map4_renderer = {\"renderer\": \"autocast\", #This tells python to use JS autocasting\n",
    "                 \"type\": \"classBreaks\",  \n",
    "                 \"field\":\"POP2025\",\n",
    "                 \"transparency\":80,\n",
    "                 \"minValue\":-9007199254740991}\n",
    "\n",
    "map4_renderer[\"visualVariables\"] = [{   \"type\": \"colorInfo\",\n",
    "                                        \"field\": \"POP2025\",\n",
    "                                        \"normalizationField\": \"POP2015\",\n",
    "                                        \"stops\": [\n",
    "                                            {   \"value\": 1.12,\n",
    "                                                \"color\": [230,97,1,255],\n",
    "                                                \"label\": \"< 112%\"\n",
    "                                            },\n",
    "                                            {   \"value\": 1.1800000000000002,\n",
    "                                                \"color\": [253,184,99,255],\n",
    "                                                \"label\": \"112% ~ 124%\"\n",
    "                                            },\n",
    "                                            {   \"value\": 1.24,\n",
    "                                                \"color\": [247,247,247,255],\n",
    "                                                \"label\": \"124%\"\n",
    "                                            },\n",
    "                                            {   \"value\": 1.3,\n",
    "                                                \"color\": [178,171,210,255],\n",
    "                                                \"label\": \"124% ~ 136%\"\n",
    "                                            },\n",
    "                                            {   \"value\": 1.36,\n",
    "                                                \"color\": [94,60,153,255],\n",
    "                                                \"label\": \"> 136%\"\n",
    "                                            }]\n",
    "                                    }]\n",
    "\n",
    "map4_renderer[\"classBreakInfos\"] = [{   \"symbol\": {\n",
    "                                            \"color\": [170,170,170,255],\n",
    "                                            \"size\": 10.5,\n",
    "                                            \"angle\": 0,\n",
    "                                            \"xoffset\": 0,\n",
    "                                            \"yoffset\": 0,\n",
    "                                            \"type\": \"esriSMS\",\n",
    "                                            \"style\": \"esriSMSCircle\",\n",
    "                                            \"outline\": {\n",
    "                                                \"color\": [153,153,153,255],\n",
    "                                                \"width\": 0.375,\n",
    "                                                \"type\": \"esriSLS\",\n",
    "                                                \"style\": \"esriSLSSolid\"\n",
    "                                            }\n",
    "                                        },\n",
    "                                        \"classMaxValue\": 9007199254740991\n",
    "                                    }]\n",
    "\n",
    "world_flayer = FeatureLayer(\"http://services.arcgis.com/nGt4QxSblgDfeJn9/arcgis/rest/services/World_LargestUrbanAreas_fs/FeatureServer/0\")\n",
    "\n",
    "map4.add_layer(world_flayer,\n",
    "               { \"type\": \"FeatureLayer\",\n",
    "                 \"renderer\": map4_renderer,\n",
    "                 \"field_name\":\"POP2025\",\n",
    "                 \"normalizationType\": \"esriNormalizeByField\",\n",
    "                 \"normalizationField\": \"POP2015\"})\n",
    "\n",
    "map4"
   ]
  },
  {
   "cell_type": "code",
   "execution_count": 105,
   "id": "34c41a89",
   "metadata": {
    "hidden": true,
    "scrolled": true
   },
   "outputs": [
    {
     "data": {
      "application/vnd.jupyter.widget-view+json": {
       "model_id": "707bad3cc6524d42b58cef782834384e",
       "version_major": 2,
       "version_minor": 0
      },
      "text/plain": [
       "MapView(layout=Layout(height='400px', width='100%'))"
      ]
     },
     "metadata": {},
     "output_type": "display_data"
    },
    {
     "data": {
      "text/html": [
       "<div class=\"map-static-img-preview-8d54d7af-1926-456f-bb51-9051d2e4d535\"><img src=\"\"></img></div>"
      ],
      "text/plain": [
       "<IPython.core.display.HTML object>"
      ]
     },
     "metadata": {},
     "output_type": "display_data"
    },
    {
     "data": {
      "text/html": [
       "<div class=\"map-html-embed-preview-8d54d7af-1926-456f-bb51-9051d2e4d535\"></div>"
      ],
      "text/plain": [
       "<IPython.core.display.HTML object>"
      ]
     },
     "metadata": {},
     "output_type": "display_data"
    }
   ],
   "source": [
    "map5 = gis.map(\"USA\", 4)\n",
    "\n",
    "map5_renderer = {\"renderer\": \"autocast\", #This tells python to use JS autocasting\n",
    "                 \"type\": \"uniqueValue\"}\n",
    "\n",
    "map5_renderer[\"valueExpression\"] = \"var fieldNames = [ \\\"M163_07\\\", \\\"M172_07\\\", \\\"M193_07\\\", \\\"M188_07\\\", \\\"M217_07\\\" ];\\\n",
    "                                    var numFields = 5;\\\n",
    "                                    var maxValueField = null;\\\n",
    "                                    var maxValue = -Infinity;\\\n",
    "                                    var value, i, totalValue = null;\\\n",
    "                                    for(i = 0; i < numFields; i++) {\\\n",
    "                                        value = $feature[fieldNames[i]];\\\n",
    "                                        if(value > 0) {\\\n",
    "                                            if(value > maxValue) {\\\n",
    "                                                maxValue = value;\\\n",
    "                                                maxValueField = fieldNames[i];\\\n",
    "                                            }\\\n",
    "                                            else if (value == maxValue) {\\\n",
    "                                                maxValueField = null;\\\n",
    "                                            }\\\n",
    "                                        }\\\n",
    "                                    }\\\n",
    "                                    return maxValueField;\"\n",
    "\n",
    "transparencyInfo_valueExpression = \"var fieldNames = [ \\\"M163_07\\\", \\\"M172_07\\\", \\\"M193_07\\\", \\\"M188_07\\\", \\\"M217_07\\\" ];\\\n",
    "                                    var numFields = 5;\\\n",
    "                                    var maxValueField = null;\\\n",
    "                                    var maxValue = -Infinity;\\\n",
    "                                    var value, i, totalValue = null;\\\n",
    "                                    for(i = 0; i < numFields; i++) {\\\n",
    "                                        value = $feature[fieldNames[i]];\\\n",
    "                                        if(value > 0) {\\\n",
    "                                            if(value > maxValue) {\\\n",
    "                                                maxValue = value;\\\n",
    "                                                maxValueField = fieldNames[i];\\\n",
    "                                            }\\\n",
    "                                            else if (value == maxValue) {\\\n",
    "                                                maxValueField = null;\\\n",
    "                                            }\\\n",
    "                                        }\\\n",
    "                                        if(value != null && value >= 0) {\\\n",
    "                                            if (totalValue == null) { totalValue = 0; }\\\n",
    "                                            totalValue = totalValue + value;\\\n",
    "                                        }\\\n",
    "                                    }\\\n",
    "                                    var strength = null;\\\n",
    "                                    if (maxValueField != null && totalValue > 0) {\\\n",
    "                                        strength = (maxValue / totalValue) * 100;\\\n",
    "                                    }\\\n",
    "                                    return strength;\"\n",
    "\n",
    "sizeInfo_valueExpression = \"var fieldNames = [ \\\"M163_07\\\", \\\"M172_07\\\", \\\"M193_07\\\", \\\"M188_07\\\", \\\"M217_07\\\" ];\\\n",
    "                            var numFields = 5;\\\n",
    "                            var value, i, totalValue = null;\\\n",
    "                            for(i = 0; i < numFields; i++) {\\\n",
    "                                value = $feature[fieldNames[i]];\\\n",
    "                                if(value != null && value >= 0) {\\\n",
    "                                    if (totalValue == null) { totalValue = 0; }\\\n",
    "                                    totalValue = totalValue + value;\\\n",
    "                                }\\\n",
    "                            }\\\n",
    "                            return totalValue;\"\n",
    "\n",
    "map5_renderer[\"visualVariables\"] = [{   \"type\": \"transparencyInfo\",\n",
    "                                        \"valueExpression\": transparencyInfo_valueExpression,\n",
    "                                        \"stops\": [{ \"value\": 20,\n",
    "                                                    \"transparency\": 85\n",
    "                                                  },\n",
    "                                                  { \"value\": 95,\n",
    "                                                    \"transparency\": 0\n",
    "                                                  }],\n",
    "                                        \"legendOptions\": {\"title\": \"Strength of predominance\"}\n",
    "                                    },\n",
    "                                    {   \"type\": \"sizeInfo\",\n",
    "                                        \"valueExpression\": sizeInfo_valueExpression,\n",
    "                                        \"valueUnit\": \"unknown\",\n",
    "                                        \"minSize\": {\n",
    "                                            \"type\": \"sizeInfo\",\n",
    "                                            \"expression\": \"view.scale\",\n",
    "                                            \"stops\": [{ \"value\": 1128,\n",
    "                                                        \"size\": 16\n",
    "                                                      },\n",
    "                                                      { \"value\": 72223,\n",
    "                                                        \"size\": 16\n",
    "                                                      },\n",
    "                                                      { \"value\": 9244649,\n",
    "                                                        \"size\": 6\n",
    "                                                      },\n",
    "                                                      { \"value\": 147914382,\n",
    "                                                        \"size\": 4\n",
    "                                                      },\n",
    "                                                      { \"value\": 591657528,\n",
    "                                                        \"size\": 2\n",
    "                                                      }]\n",
    "                                        },\n",
    "                                        \"maxSize\": {\n",
    "                                            \"type\": \"sizeInfo\",\n",
    "                                            \"expression\": \"view.scale\",\n",
    "                                            \"stops\": [{ \"value\": 1128,\n",
    "                                                        \"size\": 80\n",
    "                                                      },\n",
    "                                                      { \"value\": 72223,\n",
    "                                                        \"size\": 80\n",
    "                                                      },\n",
    "                                                      { \"value\": 9244649,\n",
    "                                                        \"size\": 50\n",
    "                                                      },\n",
    "                                                      { \"value\": 147914382,\n",
    "                                                        \"size\": 50\n",
    "                                                      },\n",
    "                                                      { \"value\": 591657528,\n",
    "                                                        \"size\": 25\n",
    "                                                      }]\n",
    "                                        },\n",
    "                                        \"minDataValue\": 50000,\n",
    "                                        \"maxDataValue\": 800000,\n",
    "                                        \"legendOptions\": { \"title\": \"Sum of categories\"}\n",
    "                                    }]\n",
    "\n",
    "map5_renderer[\"uniqueValueInfos\"] = [{  \"value\": \"M163_07\",\n",
    "                                        \"symbol\": {\n",
    "                                            \"color\": [255,255,0,255],\n",
    "                                            \"size\": 6,\n",
    "                                            \"angle\": 0,\n",
    "                                            \"xoffset\": 0,\n",
    "                                            \"yoffset\": 0,\n",
    "                                            \"type\": \"esriSMS\",\n",
    "                                            \"style\": \"esriSMSCircle\",\n",
    "                                            \"outline\": {\n",
    "                                                \"color\": \"White\",\n",
    "                                                \"width\": 0.75,\n",
    "                                                \"type\": \"esriSLS\",\n",
    "                                                \"style\": \"esriSLSNull\"\n",
    "                                            }\n",
    "                                        },\n",
    "                                        \"label\": \"Corn for grain, harvested acres.\"\n",
    "                                    },\n",
    "                                    {   \"value\": \"M172_07\",\n",
    "                                        \"symbol\": {\n",
    "                                            \"color\": [255,170,0,255],\n",
    "                                            \"size\": 6,\n",
    "                                            \"angle\": 0,\n",
    "                                            \"xoffset\": 0,\n",
    "                                            \"yoffset\": 0,\n",
    "                                            \"type\": \"esriSMS\",\n",
    "                                            \"style\": \"esriSMSCircle\",\n",
    "                                            \"outline\": {\n",
    "                                                \"color\": \"White\",\n",
    "                                                \"width\": 0.75,\n",
    "                                                \"type\": \"esriSLS\",\n",
    "                                                \"style\": \"esriSLSNull\"\n",
    "                                            }\n",
    "                                        },\n",
    "                                        \"label\": \"All wheat for grain, harvested acres.\"\n",
    "                                    },\n",
    "                                    {   \"value\": \"M193_07\",\n",
    "                                        \"symbol\": {\n",
    "                                            \"color\": [152,230,0,255],\n",
    "                                            \"size\": 6,\n",
    "                                            \"angle\": 0,\n",
    "                                            \"xoffset\": 0,\n",
    "                                            \"yoffset\": 0,\n",
    "                                            \"type\": \"esriSMS\",\n",
    "                                            \"style\": \"esriSMSCircle\",\n",
    "                                            \"outline\": {\n",
    "                                                \"color\": \"White\",\n",
    "                                                \"width\": 0.75,\n",
    "                                                \"type\": \"esriSLS\",\n",
    "                                                \"style\": \"esriSLSNull\"\n",
    "                                            }\n",
    "                                        },\n",
    "                                        \"label\": \"Soybeans for beans, harvested acres.\"\n",
    "                                    },\n",
    "                                    {   \"value\": \"M188_07\",\n",
    "                                        \"symbol\": {\n",
    "                                            \"color\": [255,255,255,255],\n",
    "                                            \"size\": 6,\n",
    "                                            \"angle\": 0,\n",
    "                                            \"xoffset\": 0,\n",
    "                                            \"yoffset\": 0,\n",
    "                                            \"type\": \"esriSMS\",\n",
    "                                            \"style\": \"esriSMSCircle\",\n",
    "                                            \"outline\": {\n",
    "                                                \"color\": \"White\",\n",
    "                                                \"width\": 0.75,\n",
    "                                                \"type\": \"esriSLS\",\n",
    "                                                \"style\": \"esriSLSNull\"\n",
    "                                            }\n",
    "                                        },\n",
    "                                        \"label\": \"Upland cotton, harvested acres.\"\n",
    "                                    },\n",
    "                                    {   \"value\": \"M217_07\",\n",
    "                                        \"symbol\": {\n",
    "                                            \"color\": [255,0,0,255],\n",
    "                                            \"size\": 6,\n",
    "                                            \"angle\": 0,\n",
    "                                            \"xoffset\": 0,\n",
    "                                            \"yoffset\": 0,\n",
    "                                            \"type\": \"esriSMS\",\n",
    "                                            \"style\": \"esriSMSCircle\",\n",
    "                                            \"outline\": {\n",
    "                                                \"color\": \"White\",\n",
    "                                                \"width\": 0.75,\n",
    "                                                \"type\": \"esriSLS\",\n",
    "                                                \"style\": \"esriSLSNull\"\n",
    "                                            }\n",
    "                                        },\n",
    "                                        \"label\": \"Vegetables, acres harvested for sale.\"\n",
    "                                    }]\n",
    "\n",
    "\n",
    "map5.add_layer(usa_flayer,\n",
    "               { \"type\": \"FeatureLayer\",\n",
    "                 \"renderer\": map5_renderer})\n",
    "\n",
    "map5"
   ]
  },
  {
   "cell_type": "code",
   "execution_count": 108,
   "id": "08e4cc61",
   "metadata": {
    "hidden": true,
    "scrolled": true
   },
   "outputs": [
    {
     "data": {
      "application/vnd.jupyter.widget-view+json": {
       "model_id": "f9a7f327f3ee4474b6320f11e91c7048",
       "version_major": 2,
       "version_minor": 0
      },
      "text/plain": [
       "MapView(layout=Layout(height='400px', width='100%'))"
      ]
     },
     "metadata": {},
     "output_type": "display_data"
    },
    {
     "data": {
      "text/html": [
       "<div class=\"map-static-img-preview-9ac6d61b-a07a-4542-809a-b83cd6c18ff3\"><img src=\"\"></img></div>"
      ],
      "text/plain": [
       "<IPython.core.display.HTML object>"
      ]
     },
     "metadata": {},
     "output_type": "display_data"
    },
    {
     "data": {
      "text/html": [
       "<div class=\"map-html-embed-preview-9ac6d61b-a07a-4542-809a-b83cd6c18ff3\"></div>"
      ],
      "text/plain": [
       "<IPython.core.display.HTML object>"
      ]
     },
     "metadata": {},
     "output_type": "display_data"
    }
   ],
   "source": [
    "map6 = gis.map(\"D. C., USA\", 11)\n",
    "\n",
    "map_url = \"https://maps2.dcgis.dc.gov/dcgis/rest/services/DCGIS_DATA/Transportation_WebMercator/MapServer/\"\n",
    "map6_flayer = FeatureLayer(map_url+str(58))    \n",
    "map6.add_layer(map6_flayer)    \n",
    "\n",
    "map6_flayer = FeatureLayer(map_url+str(51))    \n",
    "map6.add_layer(map6_flayer)    \n",
    "\n",
    "map6"
   ]
  },
  {
   "cell_type": "code",
   "execution_count": 112,
   "id": "8e43f184",
   "metadata": {
    "hidden": true
   },
   "outputs": [
    {
     "name": "stdout",
     "output_type": "stream",
     "text": [
      "91\n"
     ]
    },
    {
     "data": {
      "text/html": [
       "<div>\n",
       "<style scoped>\n",
       "    .dataframe tbody tr th:only-of-type {\n",
       "        vertical-align: middle;\n",
       "    }\n",
       "\n",
       "    .dataframe tbody tr th {\n",
       "        vertical-align: top;\n",
       "    }\n",
       "\n",
       "    .dataframe thead th {\n",
       "        text-align: right;\n",
       "    }\n",
       "</style>\n",
       "<table border=\"1\" class=\"dataframe\">\n",
       "  <thead>\n",
       "    <tr style=\"text-align: right;\">\n",
       "      <th></th>\n",
       "      <th>NAME</th>\n",
       "      <th>WEB_URL</th>\n",
       "      <th>ADDRESS</th>\n",
       "      <th>LINE</th>\n",
       "      <th>TRAININFO_URL</th>\n",
       "      <th>SE_ANNO_CAD_DATA</th>\n",
       "      <th>GLOBALID</th>\n",
       "      <th>GIS_ID</th>\n",
       "      <th>OBJECTID</th>\n",
       "      <th>CREATOR</th>\n",
       "      <th>CREATED</th>\n",
       "      <th>EDITOR</th>\n",
       "      <th>EDITED</th>\n",
       "      <th>SHAPE</th>\n",
       "    </tr>\n",
       "  </thead>\n",
       "  <tbody>\n",
       "    <tr>\n",
       "      <th>0</th>\n",
       "      <td>Shady Grove</td>\n",
       "      <td>https://www.wmata.com/rider-guide/stations/sha...</td>\n",
       "      <td>15903 SOMERVILLE DRIVE, DERWOOD, MD</td>\n",
       "      <td>red</td>\n",
       "      <td>https://www.wmata.com/js/nexttrain/nexttrain.h...</td>\n",
       "      <td>None</td>\n",
       "      <td>{4A7BBA5F-D492-4A0F-A81C-50152E80FADF}</td>\n",
       "      <td>MetroStnFullPt_1</td>\n",
       "      <td>1</td>\n",
       "      <td>None</td>\n",
       "      <td>NaT</td>\n",
       "      <td>None</td>\n",
       "      <td>NaT</td>\n",
       "      <td>{\"x\": -8589927.282891212, \"y\": 4738865.8433874...</td>\n",
       "    </tr>\n",
       "    <tr>\n",
       "      <th>1</th>\n",
       "      <td>Rockville</td>\n",
       "      <td>https://www.wmata.com/rider-guide/stations/roc...</td>\n",
       "      <td>251 HUNGERFORD DRIVE, ROCKVILLE, MD</td>\n",
       "      <td>red</td>\n",
       "      <td>https://www.wmata.com/js/nexttrain/nexttrain.h...</td>\n",
       "      <td>None</td>\n",
       "      <td>{CC804700-B42E-4F50-BC43-EFEB771B7F92}</td>\n",
       "      <td>MetroStnFullPt_2</td>\n",
       "      <td>2</td>\n",
       "      <td>None</td>\n",
       "      <td>NaT</td>\n",
       "      <td>None</td>\n",
       "      <td>NaT</td>\n",
       "      <td>{\"x\": -8587867.649331242, \"y\": 4733758.2479591...</td>\n",
       "    </tr>\n",
       "    <tr>\n",
       "      <th>2</th>\n",
       "      <td>Twinbrook</td>\n",
       "      <td>https://www.wmata.com/rider-guide/stations/twi...</td>\n",
       "      <td>1600 CHAPMAN AVENUE, ROCKVILLE, MD</td>\n",
       "      <td>red</td>\n",
       "      <td>https://www.wmata.com/js/nexttrain/nexttrain.h...</td>\n",
       "      <td>None</td>\n",
       "      <td>{BEBD5C27-B4A4-4085-B5DD-404E32B2D283}</td>\n",
       "      <td>MetroStnFullPt_3</td>\n",
       "      <td>3</td>\n",
       "      <td>None</td>\n",
       "      <td>NaT</td>\n",
       "      <td>None</td>\n",
       "      <td>NaT</td>\n",
       "      <td>{\"x\": -8585050.442811435, \"y\": 4730624.6022652...</td>\n",
       "    </tr>\n",
       "    <tr>\n",
       "      <th>3</th>\n",
       "      <td>Glenmont</td>\n",
       "      <td>https://www.wmata.com/rider-guide/stations/gle...</td>\n",
       "      <td>12501 GEORGIA AVENUE, SILVER SPRING, MD</td>\n",
       "      <td>red</td>\n",
       "      <td>https://www.wmata.com/js/nexttrain/nexttrain.h...</td>\n",
       "      <td>None</td>\n",
       "      <td>{511DB3B0-0EAD-4EF9-A949-84EF64F3DE97}</td>\n",
       "      <td>MetroStnFullPt_4</td>\n",
       "      <td>4</td>\n",
       "      <td>None</td>\n",
       "      <td>NaT</td>\n",
       "      <td>None</td>\n",
       "      <td>NaT</td>\n",
       "      <td>{\"x\": -8577563.025576085, \"y\": 4730526.5556229...</td>\n",
       "    </tr>\n",
       "    <tr>\n",
       "      <th>4</th>\n",
       "      <td>White Flint</td>\n",
       "      <td>https://www.wmata.com/rider-guide/stations/whi...</td>\n",
       "      <td>5500 MARINELLI ROAD, ROCKVILLE, MD</td>\n",
       "      <td>red</td>\n",
       "      <td>https://www.wmata.com/js/nexttrain/nexttrain.h...</td>\n",
       "      <td>None</td>\n",
       "      <td>{14C07EA2-75C0-4AB0-B6F7-CB297C34D4EE}</td>\n",
       "      <td>MetroStnFullPt_5</td>\n",
       "      <td>5</td>\n",
       "      <td>None</td>\n",
       "      <td>NaT</td>\n",
       "      <td>None</td>\n",
       "      <td>NaT</td>\n",
       "      <td>{\"x\": -8584161.21202061, \"y\": 4728572.31007085...</td>\n",
       "    </tr>\n",
       "  </tbody>\n",
       "</table>\n",
       "</div>"
      ],
      "text/plain": [
       "          NAME                                            WEB_URL  \\\n",
       "0  Shady Grove  https://www.wmata.com/rider-guide/stations/sha...   \n",
       "1    Rockville  https://www.wmata.com/rider-guide/stations/roc...   \n",
       "2    Twinbrook  https://www.wmata.com/rider-guide/stations/twi...   \n",
       "3     Glenmont  https://www.wmata.com/rider-guide/stations/gle...   \n",
       "4  White Flint  https://www.wmata.com/rider-guide/stations/whi...   \n",
       "\n",
       "                                   ADDRESS LINE  \\\n",
       "0      15903 SOMERVILLE DRIVE, DERWOOD, MD  red   \n",
       "1      251 HUNGERFORD DRIVE, ROCKVILLE, MD  red   \n",
       "2       1600 CHAPMAN AVENUE, ROCKVILLE, MD  red   \n",
       "3  12501 GEORGIA AVENUE, SILVER SPRING, MD  red   \n",
       "4       5500 MARINELLI ROAD, ROCKVILLE, MD  red   \n",
       "\n",
       "                                       TRAININFO_URL SE_ANNO_CAD_DATA  \\\n",
       "0  https://www.wmata.com/js/nexttrain/nexttrain.h...             None   \n",
       "1  https://www.wmata.com/js/nexttrain/nexttrain.h...             None   \n",
       "2  https://www.wmata.com/js/nexttrain/nexttrain.h...             None   \n",
       "3  https://www.wmata.com/js/nexttrain/nexttrain.h...             None   \n",
       "4  https://www.wmata.com/js/nexttrain/nexttrain.h...             None   \n",
       "\n",
       "                                 GLOBALID            GIS_ID  OBJECTID CREATOR  \\\n",
       "0  {4A7BBA5F-D492-4A0F-A81C-50152E80FADF}  MetroStnFullPt_1         1    None   \n",
       "1  {CC804700-B42E-4F50-BC43-EFEB771B7F92}  MetroStnFullPt_2         2    None   \n",
       "2  {BEBD5C27-B4A4-4085-B5DD-404E32B2D283}  MetroStnFullPt_3         3    None   \n",
       "3  {511DB3B0-0EAD-4EF9-A949-84EF64F3DE97}  MetroStnFullPt_4         4    None   \n",
       "4  {14C07EA2-75C0-4AB0-B6F7-CB297C34D4EE}  MetroStnFullPt_5         5    None   \n",
       "\n",
       "  CREATED EDITOR EDITED                                              SHAPE  \n",
       "0     NaT   None    NaT  {\"x\": -8589927.282891212, \"y\": 4738865.8433874...  \n",
       "1     NaT   None    NaT  {\"x\": -8587867.649331242, \"y\": 4733758.2479591...  \n",
       "2     NaT   None    NaT  {\"x\": -8585050.442811435, \"y\": 4730624.6022652...  \n",
       "3     NaT   None    NaT  {\"x\": -8577563.025576085, \"y\": 4730526.5556229...  \n",
       "4     NaT   None    NaT  {\"x\": -8584161.21202061, \"y\": 4728572.31007085...  "
      ]
     },
     "execution_count": 112,
     "metadata": {},
     "output_type": "execute_result"
    }
   ],
   "source": [
    "map6_flayer_query = map6_flayer.query(\"1=1\")\n",
    "print(len(map6_flayer_query.features))\n",
    "map6_flayer_query.sdf.head()"
   ]
  },
  {
   "cell_type": "code",
   "execution_count": 52,
   "id": "6d7711fc",
   "metadata": {
    "hidden": true
   },
   "outputs": [
    {
     "data": {
      "application/vnd.jupyter.widget-view+json": {
       "model_id": "9d45500b7c4f4f9c9b5b74fd8894dff8",
       "version_major": 2,
       "version_minor": 0
      },
      "text/plain": [
       "MapView(layout=Layout(height='400px', width='100%'))"
      ]
     },
     "metadata": {},
     "output_type": "display_data"
    },
    {
     "data": {
      "text/html": [
       "<div class=\"map-static-img-preview-4cc86ed8-178c-40f8-91cf-8a178bde7665\"><img src=\"\"></img></div>"
      ],
      "text/plain": [
       "<IPython.core.display.HTML object>"
      ]
     },
     "metadata": {},
     "output_type": "display_data"
    },
    {
     "data": {
      "text/html": [
       "<div class=\"map-html-embed-preview-4cc86ed8-178c-40f8-91cf-8a178bde7665\"></div>"
      ],
      "text/plain": [
       "<IPython.core.display.HTML object>"
      ]
     },
     "metadata": {},
     "output_type": "display_data"
    }
   ],
   "source": [
    "map7 = gis.map(\"New York City, USA\", 11)\n",
    "\n",
    "map7_renderer = {\"renderer\": \"autocast\", #This tells python to use JS autocasting\n",
    "                 \"type\": \"simple\"}\n",
    "\n",
    "map7_renderer[\"symbol\"] = {     \"color\": \"None\",\n",
    "                                \"outline\": {\n",
    "                                    \"color\": \"None\",\n",
    "                                    \"width\": 0.75,\n",
    "                                    \"type\": \"esriSLS\",\n",
    "                                    \"style\": \"esriSLSNull\"\n",
    "                                },\n",
    "                                \"type\": \"esriSFS\",\n",
    "                                \"style\": \"esriSFSSolid\"\n",
    "                            }\n",
    "\n",
    "map7_f1_layer = FeatureLayer(\"http://services.arcgis.com/V6ZHFr6zdgNZuVG0/arcgis/rest/services/Census_Counties_20m/FeatureServer/0\")\n",
    "map7.add_layer(map7_f1_layer,\n",
    "               { \"type\": \"FeatureLayer\",\n",
    "                 \"renderer\": map7_renderer\n",
    "                })\n",
    "\n",
    "map7_f2_layer = FeatureLayer(\"http://services.arcgis.com/V6ZHFr6zdgNZuVG0/arcgis/rest/services/NY Educational Attainment/FeatureServer/0\")\n",
    "map7.add_layer(map7_f2_layer,\n",
    "               { \"type\": \"FeatureLayer\",\n",
    "                 \"transparency\": 75\n",
    "                })\n",
    "\n",
    "map7"
   ]
  },
  {
   "cell_type": "markdown",
   "id": "0dc95b5d",
   "metadata": {
    "heading_collapsed": true
   },
   "source": [
    "## https://developers.arcgis.com/python/guide/advanced-cartography-part2/"
   ]
  },
  {
   "cell_type": "code",
   "execution_count": 7,
   "id": "f78b1c3b",
   "metadata": {
    "hidden": true
   },
   "outputs": [
    {
     "name": "stdout",
     "output_type": "stream",
     "text": [
      "GIS @ http://renemorenow.maps.arcgis.com version:2023.3\n"
     ]
    },
    {
     "data": {
      "application/vnd.jupyter.widget-view+json": {
       "model_id": "d9fd7d695c3047659263086901bd8a58",
       "version_major": 2,
       "version_minor": 0
      },
      "text/plain": [
       "MapView(layout=Layout(height='400px', width='100%'))"
      ]
     },
     "metadata": {},
     "output_type": "display_data"
    },
    {
     "data": {
      "text/html": [
       "<div class=\"map-static-img-preview-5059344f-8419-4147-b3e4-e0ed65d4de84\"><img src=\"\"></img></div>"
      ],
      "text/plain": [
       "<IPython.core.display.HTML object>"
      ]
     },
     "metadata": {},
     "output_type": "display_data"
    },
    {
     "data": {
      "text/html": [
       "<div class=\"map-html-embed-preview-5059344f-8419-4147-b3e4-e0ed65d4de84\"></div>"
      ],
      "text/plain": [
       "<IPython.core.display.HTML object>"
      ]
     },
     "metadata": {},
     "output_type": "display_data"
    }
   ],
   "source": [
    "\"\"\"\n",
    "    # with category\n",
    "    # Unique symbols\n",
    "    # .../MapServer/58 points to the Map Service REST endpoint of different rail lines in the D. C.\n",
    "    # .../MapServer/51 points to the Map Service REST endpoint of the metro stops\n",
    "\"\"\"\n",
    "print(gis)\n",
    "map6 = gis.map(\"D. C., USA\", 11)\n",
    "\n",
    "map_url = \"http://maps2.dcgis.dc.gov/dcgis/rest/services/DCGIS_DATA/Transportation_WebMercator/MapServer/\"\n",
    "map6_flayer = FeatureLayer(map_url+str(61))    \n",
    "map6.add_layer(map6_flayer)    \n",
    "\n",
    "map6_flayer = FeatureLayer(map_url+str(47))    \n",
    "map6.add_layer(map6_flayer)\n",
    "map6.zoom_to_layer(map6_flayer)\n",
    "map6"
   ]
  },
  {
   "cell_type": "code",
   "execution_count": 8,
   "id": "175ff8fc",
   "metadata": {
    "hidden": true
   },
   "outputs": [
    {
     "data": {
      "application/vnd.jupyter.widget-view+json": {
       "model_id": "71937c6c54d5417da259008fbb73694a",
       "version_major": 2,
       "version_minor": 0
      },
      "text/plain": [
       "MapView(layout=Layout(height='400px', width='100%'))"
      ]
     },
     "metadata": {},
     "output_type": "display_data"
    },
    {
     "data": {
      "text/html": [
       "<div class=\"map-static-img-preview-f67ff268-fd03-465c-ad4b-80ce0ede8c68\"><img src=\"\"></img></div>"
      ],
      "text/plain": [
       "<IPython.core.display.HTML object>"
      ]
     },
     "metadata": {},
     "output_type": "display_data"
    },
    {
     "data": {
      "text/html": [
       "<div class=\"map-html-embed-preview-f67ff268-fd03-465c-ad4b-80ce0ede8c68\"></div>"
      ],
      "text/plain": [
       "<IPython.core.display.HTML object>"
      ]
     },
     "metadata": {},
     "output_type": "display_data"
    }
   ],
   "source": [
    "\"\"\"\n",
    "    # with category and 1 numeric attribute\n",
    "    # types and sizes\n",
    "    # The field used here represent a count attribute such as the number of people who have a graduate degree, and use a unique color for each value found in another field such as a county name.\n",
    "\"\"\"\n",
    "map7 = gis.map(\"New York City, USA\", 11)\n",
    "\n",
    "map7_renderer = {\"renderer\": \"autocast\", #This tells python to use JS autocasting\n",
    "                 \"type\": \"simple\"}\n",
    "\n",
    "map7_renderer[\"symbol\"] = {     \"color\": \"None\",\n",
    "                                \"outline\": {\n",
    "                                    \"color\": \"None\",\n",
    "                                    \"width\": 0.75,\n",
    "                                    \"type\": \"esriSLS\",\n",
    "                                    \"style\": \"esriSLSNull\"\n",
    "                                },\n",
    "                                \"type\": \"esriSFS\",\n",
    "                                \"style\": \"esriSFSSolid\"\n",
    "                            }\n",
    "\n",
    "map7_f1_layer = FeatureLayer(\"http://services.arcgis.com/V6ZHFr6zdgNZuVG0/arcgis/rest/services/Census_Counties_20m/FeatureServer/0\")\n",
    "map7.add_layer(map7_f1_layer,\n",
    "               { \"type\": \"FeatureLayer\",\n",
    "                 \"renderer\": map7_renderer\n",
    "                })\n",
    "\n",
    "map7_f2_layer = FeatureLayer(\"http://services.arcgis.com/V6ZHFr6zdgNZuVG0/arcgis/rest/services/NY Educational Attainment/FeatureServer/0\")\n",
    "map7.add_layer(map7_f2_layer,\n",
    "               { \"type\": \"FeatureLayer\",\n",
    "                 \"transparency\": 75\n",
    "                })\n",
    "\n",
    "map7"
   ]
  },
  {
   "cell_type": "code",
   "execution_count": 10,
   "id": "5df23808",
   "metadata": {
    "hidden": true
   },
   "outputs": [
    {
     "data": {
      "application/vnd.jupyter.widget-view+json": {
       "model_id": "9ce0ff49619649b7b141a7b3103547b1",
       "version_major": 2,
       "version_minor": 0
      },
      "text/plain": [
       "MapView(layout=Layout(height='400px', width='100%'))"
      ]
     },
     "metadata": {},
     "output_type": "display_data"
    },
    {
     "data": {
      "text/html": [
       "<div class=\"map-static-img-preview-ef222d83-785f-4dd7-b82b-1ec023bb47e3\"><img src=\"\"></img></div>"
      ],
      "text/plain": [
       "<IPython.core.display.HTML object>"
      ]
     },
     "metadata": {},
     "output_type": "display_data"
    },
    {
     "data": {
      "text/html": [
       "<div class=\"map-html-embed-preview-ef222d83-785f-4dd7-b82b-1ec023bb47e3\"></div>"
      ],
      "text/plain": [
       "<IPython.core.display.HTML object>"
      ]
     },
     "metadata": {},
     "output_type": "display_data"
    }
   ],
   "source": [
    "\"\"\"\n",
    "    # 1 date/time attribute\n",
    "    # (a) Age (Color)\n",
    "    # The field used here represent which homes in a neighborhood were sold more than 15 years ago and which were sold more recently\n",
    "\"\"\"\n",
    "mapA = gis.map(\"Boulder, CO, USA\", 10)\n",
    "\n",
    "mapA_renderer = {\"renderer\": \"autocast\", #This tells python to use JS autocasting\n",
    "                 \"type\": \"classBreaks\",  \n",
    "                 \"minValue\":-9007199254740991}\n",
    "\n",
    "mapA_valueExpression = \"var startTime = $feature.SALEDATE;\\\n",
    "                        var endTime = 1464917820000;\\\n",
    "                        var retVal = null;\\\n",
    "                        if (startTime != null && endTime != null) {\\\n",
    "                            startTime = Date(startTime);\\\n",
    "                            endTime = Date(endTime);\\\n",
    "                            retVal = DateDiff(endTime, startTime, 'years');\\\n",
    "                        }\\\n",
    "                        return retVal;\"\n",
    "\n",
    "mapA_renderer[\"valueExpression\"] = mapA_valueExpression\n",
    "\n",
    "mapA_renderer[\"visualVariables\"] = [    {   \"type\": \"colorInfo\",\n",
    "                                            \"valueExpression\": mapA_valueExpression,\n",
    "                                            \"stops\": [  {   \"value\": 1,\n",
    "                                                            \"color\": [255,196,174,255],\n",
    "                                                            \"label\": \"< 1\"\n",
    "                                                        },\n",
    "                                                        {   \"value\": 4.5,\n",
    "                                                            \"color\": [249,129,108,255],\n",
    "                                                            \"label\": \"1 <= value < 4.5\"\n",
    "                                                        },  \n",
    "                                                        {   \"value\": 8,\n",
    "                                                            \"color\": [236,82,68,255],\n",
    "                                                            \"label\": \"4.5 <= value < 11.5\"\n",
    "                                                        },\n",
    "                                                        {   \"value\": 11.5,\n",
    "                                                            \"color\": [194,61,51,255],\n",
    "                                                            \"label\": \"11.5 <= value < 15\"\n",
    "                                                        },\n",
    "                                                        {   \"value\": 15,\n",
    "                                                            \"color\": [123,66,56,255],\n",
    "                                                            \"label\": \"> 15\"\n",
    "                                                        }],\n",
    "                                            \"legendOptions\": {\n",
    "                                                \"title\": \"Age, in years, from Sale Date to 6/2/2016\"\n",
    "                                            }\n",
    "                                        },\n",
    "                                        {\n",
    "                                            \"type\": \"sizeInfo\",\n",
    "                                            \"target\": \"outline\",\n",
    "                                            \"expression\": \"view.scale\",\n",
    "                                            \"stops\": [  {   \"size\": 1.5,\n",
    "                                                            \"value\": 713\n",
    "                                                        },\n",
    "                                                        {   \"size\": 0.75,\n",
    "                                                            \"value\": 2228\n",
    "                                                        },\n",
    "                                                        {   \"size\": 0.375,\n",
    "                                                            \"value\": 8911\n",
    "                                                        },\n",
    "                                                        {   \"size\": 0,\n",
    "                                                            \"value\": 17822\n",
    "                                                        }]\n",
    "                                        }]\n",
    "\n",
    "mapA_renderer[\"classBreakInfos\"] = [    {   \"symbol\": {\n",
    "                                                \"color\": [170,170,170,255],\n",
    "                                                \"outline\": {\n",
    "                                                    \"color\": [128,128,128,128],\n",
    "                                                    \"width\": 0.75,\n",
    "                                                    \"type\": \"esriSLS\",\n",
    "                                                    \"style\": \"esriSLSSolid\"\n",
    "                                                },\n",
    "                                                \"type\": \"esriSFS\",\n",
    "                                                \"style\": \"esriSFSSolid\"\n",
    "                                            },\n",
    "                                            \"classMaxValue\": 9007199254740991\n",
    "                                        }]\n",
    "\n",
    "mapA_flayer = FeatureLayer(\"https://services1.arcgis.com/vXSRPZbyyOmH9pek/arcgis/rest/services/Parcels/FeatureServer/0\")\n",
    "\n",
    "mapA.add_layer(mapA_flayer,\n",
    "               { \"type\": \"FeatureLayer\",\n",
    "                 \"renderer\": mapA_renderer})\n",
    "\n",
    "mapA"
   ]
  },
  {
   "cell_type": "code",
   "execution_count": 14,
   "id": "94b4bf2d",
   "metadata": {
    "hidden": true
   },
   "outputs": [
    {
     "data": {
      "application/vnd.jupyter.widget-view+json": {
       "model_id": "b39f103d7d934df5965afba7972a3b6c",
       "version_major": 2,
       "version_minor": 0
      },
      "text/plain": [
       "MapView(layout=Layout(height='400px', width='100%'))"
      ]
     },
     "metadata": {},
     "output_type": "display_data"
    },
    {
     "data": {
      "text/html": [
       "<div class=\"map-static-img-preview-3cee43d8-e67c-48bf-860f-47a5ae08a6e1\"><img src=\"\"></img></div>"
      ],
      "text/plain": [
       "<IPython.core.display.HTML object>"
      ]
     },
     "metadata": {},
     "output_type": "display_data"
    },
    {
     "data": {
      "text/html": [
       "<div class=\"map-html-embed-preview-3cee43d8-e67c-48bf-860f-47a5ae08a6e1\"></div>"
      ],
      "text/plain": [
       "<IPython.core.display.HTML object>"
      ]
     },
     "metadata": {},
     "output_type": "display_data"
    }
   ],
   "source": [
    "\"\"\"\n",
    "    # 1 date/time attribute and and 1 numeric attribute\n",
    "    # (b) Color (Age) and Size\n",
    "    # The field used here represent when migrants went missing based on the date the incident was reported, and use proportional symbols to show how many migrants were found dead\n",
    "\"\"\"\n",
    "mapB = gis.map(\"Mediterranean Sea\", 6)\n",
    "mapB.basemap = mapB.basemaps[0]\n",
    "\n",
    "mapB_renderer = {\"renderer\": \"autocast\", #This tells python to use JS autocasting\n",
    "                 \"type\": \"classBreaks\",\n",
    "                 \"field\": \"DEAD\",  \n",
    "                 \"minValue\":-9007199254740991}\n",
    "\n",
    "mapB_valueExpression = \"var startTime = $feature.DATEREPORTED;\\\n",
    "                        var endTime = 1466053210029;\\\n",
    "                        var retVal = null;\\\n",
    "                        if (startTime != null && endTime != null) {\\\n",
    "                            startTime = Date(startTime);\\\n",
    "                            endTime = Date(endTime);\\\n",
    "                            retVal = DateDiff(endTime, startTime, 'months');\\\n",
    "                        }\\\n",
    "                        return retVal;\"\n",
    "\n",
    "mapB_renderer[\"visualVariables\"] = [    {   \"type\": \"colorInfo\",\n",
    "                                            \"valueExpression\": mapB_valueExpression,\n",
    "                                            \"stops\": [  {   \"value\": 6,\n",
    "                                                            \"color\": [188,230,249,255],\n",
    "                                                            \"label\": \"< 6\"\n",
    "                                                        },\n",
    "                                                        {   \"value\": 10.5,\n",
    "                                                            \"color\": [116,187,237,255],\n",
    "                                                            \"label\": \"6 ~ 10.5\"\n",
    "                                                        },\n",
    "                                                        {   \"value\": 15,\n",
    "                                                            \"color\": [77,150,206,255],\n",
    "                                                            \"label\": \"10.5 ~ 19.5\"\n",
    "                                                        },\n",
    "                                                        {   \"value\": 19.5,\n",
    "                                                            \"color\": [72,121,157,255],\n",
    "                                                            \"label\": \"19.5 ~ 24\"\n",
    "                                                        },\n",
    "                                                        {   \"value\": 24,\n",
    "                                                            \"color\": [64,77,84,255],\n",
    "                                                            \"label\": \"> 24\"\n",
    "                                                        }],\n",
    "                                            \"legendOptions\": {\"title\": \"Age, in months, from DATEREPORTED to 6/15/2016\"}\n",
    "                                        },\n",
    "                                        {   \"type\": \"transparencyInfo\",\n",
    "                                            \"field\": \"DATEREPORTED\",\n",
    "                                            \"stops\": [  {   \"value\": 1388563200000,\n",
    "                                                            \"transparency\": 70\n",
    "                                                        },\n",
    "                                                        {   \"value\": 1451635200000,\n",
    "                                                            \"transparency\": 0\n",
    "                                                        }]\n",
    "                                        },\n",
    "                                        {   \"type\": \"sizeInfo\",\n",
    "                                            \"field\": \"DEAD\",\n",
    "                                            \"valueUnit\": \"unknown\",\n",
    "                                            \"minSize\": 3,\n",
    "                                            \"maxSize\": 33.75,\n",
    "                                            \"minDataValue\": 0,\n",
    "                                            \"maxDataValue\": 200\n",
    "                                        }]\n",
    "\n",
    "mapB_renderer[\"classBreakInfos\"] = [    {   \"symbol\": {\n",
    "                                                \"color\": [227,139,79,255],\n",
    "                                                \"size\": 9,\n",
    "                                                \"angle\": 0,\n",
    "                                                \"xoffset\": 0,\n",
    "                                                \"yoffset\": 0,\n",
    "                                                \"type\": \"esriSMS\",\n",
    "                                                \"style\": \"esriSMSCircle\",\n",
    "                                                \"outline\": {\n",
    "                                                    \"color\": \"White\",\n",
    "                                                    \"width\": 0.75,\n",
    "                                                    \"type\": \"esriSLS\",\n",
    "                                                    \"style\": \"esriSLSNull\"\n",
    "                                                }\n",
    "                                            },\n",
    "                                            \"classMaxValue\": 9007199254740991\n",
    "                                        }]\n",
    "\n",
    "mapB_flayer = FeatureLayer(\"https://services1.arcgis.com/4yjifSiIG17X0gW4/arcgis/rest/services/Missing Migrants - Incident Reports/FeatureServer/0\")\n",
    "\n",
    "mapB.add_layer(mapB_flayer,\n",
    "               { \"type\": \"FeatureLayer\",\n",
    "                 \"renderer\": mapB_renderer})\n",
    "\n",
    "mapB.zoom_to_layer(mapB_flayer)\n",
    "mapB"
   ]
  },
  {
   "cell_type": "code",
   "execution_count": 13,
   "id": "b1350ae2",
   "metadata": {
    "hidden": true
   },
   "outputs": [
    {
     "data": {
      "application/vnd.jupyter.widget-view+json": {
       "model_id": "a4e05dea234f46c49a6c991c1b910067",
       "version_major": 2,
       "version_minor": 0
      },
      "text/plain": [
       "MapView(layout=Layout(height='400px', width='100%'))"
      ]
     },
     "metadata": {},
     "output_type": "display_data"
    },
    {
     "data": {
      "text/html": [
       "<div class=\"map-static-img-preview-4a50aab2-b8f0-4276-af01-762ea1f0ad3c\"><img src=\"\"></img></div>"
      ],
      "text/plain": [
       "<IPython.core.display.HTML object>"
      ]
     },
     "metadata": {},
     "output_type": "display_data"
    },
    {
     "data": {
      "text/html": [
       "<div class=\"map-html-embed-preview-4a50aab2-b8f0-4276-af01-762ea1f0ad3c\"></div>"
      ],
      "text/plain": [
       "<IPython.core.display.HTML object>"
      ]
     },
     "metadata": {},
     "output_type": "display_data"
    }
   ],
   "source": [
    "\"\"\"\n",
    "    # 1 date/time attribute and 1 category/type attribute\n",
    "    # (c) Types and Size (Age)\n",
    "    # The field used here represent if using Visa or American express for payment method\n",
    "\"\"\"\n",
    "mapC = gis.map(\"Beverley Hills, CA, USA\", 12)\n",
    "\n",
    "mapC_renderer = {\"renderer\": \"autocast\", #This tells python to use JS autocasting\n",
    "                 \"type\": \"uniqueValue\",  \n",
    "                 \"field1\":\"PAYMENT\",\n",
    "                 \"transparency\":20,\n",
    "                 \"minValue\":-9007199254740991}\n",
    "\n",
    "mapC_valueExpression = \"var startTime = $feature.Date;\\\n",
    "                        var endTime = 1466106730360;\\\n",
    "                        var retVal = null;\\\n",
    "                        if (startTime != null && endTime != null) {\\\n",
    "                          startTime = Date(startTime);\\\n",
    "                          endTime = Date(endTime);\\\n",
    "                          retVal = DateDiff(endTime, startTime, 'years');\\\n",
    "                        }\\\n",
    "                        return retVal;\"\n",
    "\n",
    "mapC_renderer[\"visualVariables\"] = [{   \"type\": \"transparencyInfo\",\n",
    "                                        \"field\": \"Date\",\n",
    "                                        \"stops\": [\n",
    "                                            {   \"value\": 1383597165692,\n",
    "                                                \"transparency\": 9.999999999999998\n",
    "                                            },\n",
    "                                            {   \"value\": 1383917219586,\n",
    "                                                \"transparency\": 85\n",
    "                                            }]\n",
    "                                    },\n",
    "                                    {   \"type\": \"sizeInfo\",\n",
    "                                        \"valueExpression\": mapC_valueExpression,\n",
    "                                        \"valueUnit\": \"unknown\",\n",
    "                                        \"legendOptions\": {\"title\": \"Age, in years, from Date to 6/16/2016\"},\n",
    "                                        \"minSize\": 6,\n",
    "                                        \"maxSize\": 30,\n",
    "                                        \"minDataValue\": 2.605007927448,\n",
    "                                        \"maxDataValue\": 2.62144628361238\n",
    "                                    }]\n",
    "\n",
    "mapC_renderer[\"uniqueValueInfos\"] = [{  \"value\": \"VI\",\n",
    "                                        \"symbol\": {\n",
    "                                            \"color\": [0,77,168,255],\n",
    "                                            \"size\": 6,\n",
    "                                            \"angle\": 0,\n",
    "                                            \"xoffset\": 0,\n",
    "                                            \"yoffset\": 0,\n",
    "                                            \"type\": \"esriSMS\",\n",
    "                                            \"style\": \"esriSMSCircle\",\n",
    "                                            \"outline\": {\n",
    "                                                \"color\": [190,210,255,88],\n",
    "                                                \"width\": 0.75,\n",
    "                                                \"type\": \"esriSLS\",\n",
    "                                                \"style\": \"esriSLSSolid\"\n",
    "                                            }\n",
    "                                        },\n",
    "                                        \"label\": \"Visa\"\n",
    "                                    },\n",
    "                                    {   \"value\": \"AX\",\n",
    "                                        \"symbol\": {\n",
    "                                            \"color\": [56,168,0,255],\n",
    "                                            \"size\": 6,\n",
    "                                            \"angle\": 0,\n",
    "                                            \"xoffset\": 0,\n",
    "                                            \"yoffset\": 0,\n",
    "                                            \"type\": \"esriSMS\",\n",
    "                                            \"style\": \"esriSMSCircle\",\n",
    "                                            \"outline\": {\n",
    "                                                \"color\": [163,255,115,82],\n",
    "                                                \"width\": 0.75,\n",
    "                                                \"type\": \"esriSLS\",\n",
    "                                                \"style\": \"esriSLSSolid\"\n",
    "                                            }\n",
    "                                        },\n",
    "                                        \"label\": \"Amex\"\n",
    "                                    }]\n",
    "\n",
    "mapC_flayer = FeatureLayer(\"http://services.arcgis.com/V6ZHFr6zdgNZuVG0/arcgis/rest/services/Visa versus Amex/FeatureServer/0\")\n",
    "\n",
    "mapC.add_layer(mapC_flayer,\n",
    "               { \"type\": \"FeatureLayer\",\n",
    "                 \"renderer\": mapC_renderer,\n",
    "                 \"field_name\":\"PAYMENT\"})\n",
    "mapC.zoom_to_layer(mapC_flayer)\n",
    "mapC"
   ]
  },
  {
   "cell_type": "markdown",
   "id": "4d112e7f",
   "metadata": {
    "heading_collapsed": true
   },
   "source": [
    "## https://developers.arcgis.com/python/guide/working-with-feature-layers-and-features/"
   ]
  },
  {
   "cell_type": "code",
   "execution_count": 21,
   "id": "11131ff5",
   "metadata": {
    "hidden": true
   },
   "outputs": [],
   "source": [
    "from arcgis.features import FeatureLayerCollection"
   ]
  },
  {
   "cell_type": "code",
   "execution_count": 15,
   "id": "beb66a1e",
   "metadata": {
    "hidden": true
   },
   "outputs": [
    {
     "data": {
      "text/html": [
       "<div class=\"item_container\" style=\"height: auto; overflow: hidden; border: 1px solid #cfcfcf; border-radius: 2px; background: #f6fafa; line-height: 1.21429em; padding: 10px;\">\n",
       "                    <div class=\"item_left\" style=\"width: 210px; float: left;\">\n",
       "                       <a href='http://renemorenow.maps.arcgis.com/home/item.html?id=c3cbe698438c430790f466e648511285' target='_blank'>\n",
       "                        <img src='data:image/png;base64,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' width='200' height='133' class=\"itemThumbnail\">\n",
       "                       </a>\n",
       "                    </div>\n",
       "\n",
       "                    <div class=\"item_right\"     style=\"float: none; width: auto; overflow: hidden;\">\n",
       "                        <a href='http://renemorenow.maps.arcgis.com/home/item.html?id=c3cbe698438c430790f466e648511285' target='_blank'><b>ConterminousUSA</b>\n",
       "                        </a>\n",
       "                        <br/>Cartographic map template<img src='http://renemorenow.maps.arcgis.com/home/js/jsapi/esri/css/images/item_type_icons/featureshosted16.png' style=\"vertical-align:middle;\">Feature Layer Collection by renemorenow\n",
       "                        <br/>Last Modified: February 27, 2020\n",
       "                        <br/>0 comments, 2 views\n",
       "                    </div>\n",
       "                </div>\n",
       "                "
      ],
      "text/plain": [
       "<Item title:\"ConterminousUSA\" type:Feature Layer Collection owner:renemorenow>"
      ]
     },
     "execution_count": 15,
     "metadata": {},
     "output_type": "execute_result"
    }
   ],
   "source": [
    "# Search for 'USA major cities' feature layer collection\n",
    "search_results = gis.content.search('title: USA Major Cities',\n",
    "                                    'Feature Layer')\n",
    "\n",
    "# Access the first Item that's returned\n",
    "major_cities_item = search_results[0]\n",
    "\n",
    "major_cities_item"
   ]
  },
  {
   "cell_type": "code",
   "execution_count": 16,
   "id": "21782cdc",
   "metadata": {
    "hidden": true
   },
   "outputs": [
    {
     "data": {
      "text/plain": [
       "[<FeatureLayer url:\"https://services3.arcgis.com/Bd3GqULNdzgCeQfi/arcgis/rest/services/ConterminousUSA/FeatureServer/0\">,\n",
       " <FeatureLayer url:\"https://services3.arcgis.com/Bd3GqULNdzgCeQfi/arcgis/rest/services/ConterminousUSA/FeatureServer/1\">,\n",
       " <FeatureLayer url:\"https://services3.arcgis.com/Bd3GqULNdzgCeQfi/arcgis/rest/services/ConterminousUSA/FeatureServer/2\">,\n",
       " <FeatureLayer url:\"https://services3.arcgis.com/Bd3GqULNdzgCeQfi/arcgis/rest/services/ConterminousUSA/FeatureServer/3\">,\n",
       " <FeatureLayer url:\"https://services3.arcgis.com/Bd3GqULNdzgCeQfi/arcgis/rest/services/ConterminousUSA/FeatureServer/4\">,\n",
       " <FeatureLayer url:\"https://services3.arcgis.com/Bd3GqULNdzgCeQfi/arcgis/rest/services/ConterminousUSA/FeatureServer/5\">,\n",
       " <FeatureLayer url:\"https://services3.arcgis.com/Bd3GqULNdzgCeQfi/arcgis/rest/services/ConterminousUSA/FeatureServer/6\">,\n",
       " <FeatureLayer url:\"https://services3.arcgis.com/Bd3GqULNdzgCeQfi/arcgis/rest/services/ConterminousUSA/FeatureServer/7\">]"
      ]
     },
     "execution_count": 16,
     "metadata": {},
     "output_type": "execute_result"
    }
   ],
   "source": [
    "major_cities_layers = major_cities_item.layers\n",
    "major_cities_layers"
   ]
  },
  {
   "cell_type": "code",
   "execution_count": 17,
   "id": "8e22d67d",
   "metadata": {
    "hidden": true
   },
   "outputs": [
    {
     "data": {
      "text/html": [
       "<div class=\"item_container\" style=\"height: auto; overflow: hidden; border: 1px solid #cfcfcf; border-radius: 2px; background: #f6fafa; line-height: 1.21429em; padding: 10px;\">\n",
       "                    <div class=\"item_left\" style=\"width: 210px; float: left;\">\n",
       "                       <a href='http://renemorenow.maps.arcgis.com/home/item.html?id=91c6a5f6410b4991ab0db1d7c26daacb' target='_blank'>\n",
       "                        <img src='data:image/png;base64,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' width='200' height='133' class=\"itemThumbnail\">\n",
       "                       </a>\n",
       "                    </div>\n",
       "\n",
       "                    <div class=\"item_right\"     style=\"float: none; width: auto; overflow: hidden;\">\n",
       "                        <a href='http://renemorenow.maps.arcgis.com/home/item.html?id=91c6a5f6410b4991ab0db1d7c26daacb' target='_blank'><b>USA Freeway System</b>\n",
       "                        </a>\n",
       "                        <br/>This layer presents rural and urban interstate highways.<img src='http://renemorenow.maps.arcgis.com/home/js/jsapi/esri/css/images/item_type_icons/featureshosted16.png' style=\"vertical-align:middle;\">Feature Layer Collection by esri_dm\n",
       "                        <br/>Last Modified: February 06, 2023\n",
       "                        <br/>5 comments, 4,852,725 views\n",
       "                    </div>\n",
       "                </div>\n",
       "                "
      ],
      "text/plain": [
       "<Item title:\"USA Freeway System\" type:Feature Layer Collection owner:esri_dm>"
      ]
     },
     "execution_count": 17,
     "metadata": {},
     "output_type": "execute_result"
    }
   ],
   "source": [
    "freeways = gis.content.get('91c6a5f6410b4991ab0db1d7c26daacb')\n",
    "freeways"
   ]
  },
  {
   "cell_type": "code",
   "execution_count": 18,
   "id": "5c061c79",
   "metadata": {
    "hidden": true
   },
   "outputs": [
    {
     "data": {
      "text/plain": [
       "[<FeatureLayer url:\"https://services.arcgis.com/P3ePLMYs2RVChkJx/arcgis/rest/services/USA_Freeway_System/FeatureServer/1\">,\n",
       " <FeatureLayer url:\"https://services.arcgis.com/P3ePLMYs2RVChkJx/arcgis/rest/services/USA_Freeway_System/FeatureServer/2\">]"
      ]
     },
     "execution_count": 18,
     "metadata": {},
     "output_type": "execute_result"
    }
   ],
   "source": [
    "freeways.layers "
   ]
  },
  {
   "cell_type": "code",
   "execution_count": 19,
   "id": "acf41ec6",
   "metadata": {
    "hidden": true
   },
   "outputs": [
    {
     "name": "stdout",
     "output_type": "stream",
     "text": [
      "USA Freeway System (over 1:500k)\n",
      "USA Freeway System (below 1:500k)\n"
     ]
    }
   ],
   "source": [
    "for lyr in freeways.layers:\n",
    "    print(lyr.properties.name)"
   ]
  },
  {
   "cell_type": "code",
   "execution_count": 24,
   "id": "870875a7",
   "metadata": {
    "hidden": true
   },
   "outputs": [
    {
     "data": {
      "text/plain": [
       "<FeatureLayerCollection url:\"https://services2.arcgis.com/ZQgQTuoyBrtmoGdP/arcgis/rest/services/SF_311_Incidents/FeatureServer\">"
      ]
     },
     "execution_count": 24,
     "metadata": {},
     "output_type": "execute_result"
    }
   ],
   "source": [
    "fs_url = 'https://services2.arcgis.com/ZQgQTuoyBrtmoGdP/arcgis/rest/services/SF_311_Incidents/FeatureServer'\n",
    "sanfran = FeatureLayerCollection(fs_url)\n",
    "sanfran"
   ]
  },
  {
   "cell_type": "code",
   "execution_count": 23,
   "id": "d43240b1",
   "metadata": {
    "hidden": true
   },
   "outputs": [
    {
     "data": {
      "text/plain": [
       "[<FeatureLayer url:\"https://services2.arcgis.com/ZQgQTuoyBrtmoGdP/arcgis/rest/services/SF_311_Incidents/FeatureServer/0\">]"
      ]
     },
     "execution_count": 23,
     "metadata": {},
     "output_type": "execute_result"
    }
   ],
   "source": [
    "sanfran.layers"
   ]
  },
  {
   "cell_type": "code",
   "execution_count": 25,
   "id": "aab7a421",
   "metadata": {
    "hidden": true
   },
   "outputs": [
    {
     "data": {
      "text/plain": [
       "[<Table url:\"https://services2.arcgis.com/ZQgQTuoyBrtmoGdP/arcgis/rest/services/SF_311_Incidents/FeatureServer/1\">]"
      ]
     },
     "execution_count": 25,
     "metadata": {},
     "output_type": "execute_result"
    }
   ],
   "source": [
    "sanfran.tables"
   ]
  },
  {
   "cell_type": "code",
   "execution_count": 27,
   "id": "387b1cae",
   "metadata": {
    "hidden": true
   },
   "outputs": [
    {
     "data": {
      "text/plain": [
       "<FeatureLayer url:\"https://services3.arcgis.com/Bd3GqULNdzgCeQfi/arcgis/rest/services/ConterminousUSA/FeatureServer/0\">"
      ]
     },
     "execution_count": 27,
     "metadata": {},
     "output_type": "execute_result"
    }
   ],
   "source": [
    "feature_layer = major_cities_item.layers[0]\n",
    "feature_layer"
   ]
  },
  {
   "cell_type": "code",
   "execution_count": 28,
   "id": "d92b8da9",
   "metadata": {
    "hidden": true
   },
   "outputs": [
    {
     "data": {
      "text/plain": [
       "'Create,Delete,Query,Update,Editing,Sync'"
      ]
     },
     "execution_count": 28,
     "metadata": {},
     "output_type": "execute_result"
    }
   ],
   "source": [
    "feature_layer.properties.capabilities"
   ]
  },
  {
   "cell_type": "code",
   "execution_count": 29,
   "id": "521c57ae",
   "metadata": {
    "hidden": true
   },
   "outputs": [
    {
     "data": {
      "text/plain": [
       "'simple'"
      ]
     },
     "execution_count": 29,
     "metadata": {},
     "output_type": "execute_result"
    }
   ],
   "source": [
    "feature_layer.properties.drawingInfo.renderer.type"
   ]
  },
  {
   "cell_type": "code",
   "execution_count": 33,
   "id": "bee79794",
   "metadata": {
    "hidden": true
   },
   "outputs": [
    {
     "data": {
      "text/plain": [
       "'https://services3.arcgis.com/Bd3GqULNdzgCeQfi/arcgis/rest/services/ConterminousUSA/FeatureServer/0'"
      ]
     },
     "execution_count": 33,
     "metadata": {},
     "output_type": "execute_result"
    }
   ],
   "source": [
    "feature_layer.url"
   ]
  },
  {
   "cell_type": "code",
   "execution_count": 35,
   "id": "b4fa4821",
   "metadata": {
    "hidden": true
   },
   "outputs": [
    {
     "data": {
      "text/plain": [
       "48"
      ]
     },
     "execution_count": 35,
     "metadata": {},
     "output_type": "execute_result"
    }
   ],
   "source": [
    "query_result1 = feature_layer.query(where='1=1', \n",
    "                                    out_fields='*')\n",
    "len(query_result1.features)"
   ]
  },
  {
   "cell_type": "code",
   "execution_count": 36,
   "id": "dac41923",
   "metadata": {
    "hidden": true
   },
   "outputs": [
    {
     "data": {
      "text/plain": [
       "{'x': -1900084.5836696355,\n",
       " 'y': 1103178.0265023652,\n",
       " 'spatialReference': {'wkid': 102008, 'latestWkid': 102008}}"
      ]
     },
     "execution_count": 36,
     "metadata": {},
     "output_type": "execute_result"
    }
   ],
   "source": [
    "query_result1.features[0].geometry"
   ]
  },
  {
   "cell_type": "code",
   "execution_count": 37,
   "id": "c3a88635",
   "metadata": {
    "hidden": true
   },
   "outputs": [
    {
     "data": {
      "text/plain": [
       "[{'name': 'OBJECTID',\n",
       "  'type': 'esriFieldTypeOID',\n",
       "  'alias': 'OBJECTID',\n",
       "  'sqlType': 'sqlTypeOther',\n",
       "  'domain': None,\n",
       "  'defaultValue': None},\n",
       " {'name': 'CITY_FIPS',\n",
       "  'type': 'esriFieldTypeString',\n",
       "  'alias': 'CITY_FIPS',\n",
       "  'sqlType': 'sqlTypeOther',\n",
       "  'length': 5,\n",
       "  'domain': None,\n",
       "  'defaultValue': None},\n",
       " {'name': 'CITY_NAME',\n",
       "  'type': 'esriFieldTypeString',\n",
       "  'alias': 'CITY_NAME',\n",
       "  'sqlType': 'sqlTypeOther',\n",
       "  'length': 40,\n",
       "  'domain': None,\n",
       "  'defaultValue': None},\n",
       " {'name': 'STATE_FIPS',\n",
       "  'type': 'esriFieldTypeString',\n",
       "  'alias': 'STATE_FIPS',\n",
       "  'sqlType': 'sqlTypeOther',\n",
       "  'length': 2,\n",
       "  'domain': None,\n",
       "  'defaultValue': None},\n",
       " {'name': 'STATE_NAME',\n",
       "  'type': 'esriFieldTypeString',\n",
       "  'alias': 'STATE_NAME',\n",
       "  'sqlType': 'sqlTypeOther',\n",
       "  'length': 25,\n",
       "  'domain': None,\n",
       "  'defaultValue': None},\n",
       " {'name': 'STATE_CITY',\n",
       "  'type': 'esriFieldTypeString',\n",
       "  'alias': 'STATE_CITY',\n",
       "  'sqlType': 'sqlTypeOther',\n",
       "  'length': 7,\n",
       "  'domain': None,\n",
       "  'defaultValue': None},\n",
       " {'name': 'TYPE',\n",
       "  'type': 'esriFieldTypeString',\n",
       "  'alias': 'TYPE',\n",
       "  'sqlType': 'sqlTypeOther',\n",
       "  'length': 25,\n",
       "  'domain': None,\n",
       "  'defaultValue': None},\n",
       " {'name': 'CAPITAL',\n",
       "  'type': 'esriFieldTypeString',\n",
       "  'alias': 'CAPITAL',\n",
       "  'sqlType': 'sqlTypeOther',\n",
       "  'length': 1,\n",
       "  'domain': None,\n",
       "  'defaultValue': None},\n",
       " {'name': 'ELEVATION',\n",
       "  'type': 'esriFieldTypeSmallInteger',\n",
       "  'alias': 'ELEVATION',\n",
       "  'sqlType': 'sqlTypeOther',\n",
       "  'domain': None,\n",
       "  'defaultValue': None},\n",
       " {'name': 'POP1990',\n",
       "  'type': 'esriFieldTypeInteger',\n",
       "  'alias': 'POP1990',\n",
       "  'sqlType': 'sqlTypeOther',\n",
       "  'domain': None,\n",
       "  'defaultValue': None},\n",
       " {'name': 'GlobalID',\n",
       "  'type': 'esriFieldTypeGlobalID',\n",
       "  'alias': 'GlobalID',\n",
       "  'sqlType': 'sqlTypeOther',\n",
       "  'length': 38,\n",
       "  'domain': None,\n",
       "  'defaultValue': None}]"
      ]
     },
     "execution_count": 37,
     "metadata": {},
     "output_type": "execute_result"
    }
   ],
   "source": [
    "query_result1.fields"
   ]
  },
  {
   "cell_type": "markdown",
   "id": "72922ff1",
   "metadata": {
    "heading_collapsed": true
   },
   "source": [
    "## https://community.esri.com/t5/arcgis-api-for-python-blog/methods-for-updating-layer-symbology-with-the/ba-p/902923"
   ]
  },
  {
   "cell_type": "code",
   "execution_count": 43,
   "id": "c0ab030b",
   "metadata": {
    "hidden": true
   },
   "outputs": [],
   "source": [
    "from arcgis import GIS\n",
    "from arcgis.features import FeatureLayerCollection\n",
    "import json, sys"
   ]
  },
  {
   "cell_type": "code",
   "execution_count": 40,
   "id": "42413b68",
   "metadata": {
    "hidden": true
   },
   "outputs": [],
   "source": [
    "def search_item(conn,layer_name):\n",
    "    search_results = conn.content.search(layer_name, item_type='Web Map')\n",
    "    proper_index = [i for i, s in enumerate(search_results) if \n",
    "                    '\"'+layer_name+'\"' in str(s)]\n",
    "    found_item = search_results[proper_index[0]]\n",
    "    get_item = conn.content.get(found_item.id)\n",
    "    return get_item\n",
    "\n",
    "\n",
    "def update_wm_layerdef(item):\n",
    "    item_data = item.get_data()\n",
    "\n",
    "    print(\"*******************ORIGINAL DEFINITION*********************\")\n",
    "    print(json.dumps(item_data, indent=4, sort_keys=True))\n",
    "    # Open JSON file containing symbology update\n",
    "    with open('/path/to/webmaplyr.json') as json_data:\n",
    "        data = json.load(json_data)\n",
    "\n",
    "    # Set the item_properties to include the desired update\n",
    "    item_properties = {\"text\": json.dumps(data)}\n",
    "\n",
    "    # 'Commit' the updates to the Item\n",
    "    item.update(item_properties=item_properties)\n",
    "\n",
    "    # Print item_data to see that changes are reflected\n",
    "    new_item_data = item.get_data()\n",
    "    print(\"***********************NEW DEFINITION**********************\")\n",
    "    print(json.dumps(new_item_data, indent=4, sort_keys=True))\n",
    "\n",
    "    \n",
    "def main():\n",
    "    conn = gis\n",
    "    \n",
    "    # Search for item, get item data)\n",
    "    item = search_item(conn, 'wm_lyrsym')\n",
    "    update_wm_layerdef(item)\n",
    "\n",
    "if __name__ == '__main__':\n",
    "    #sys.exit(main())\n",
    "    pass"
   ]
  },
  {
   "cell_type": "code",
   "execution_count": 42,
   "id": "936b33c3",
   "metadata": {
    "hidden": true
   },
   "outputs": [],
   "source": [
    "def search_layer(conn,layer_name):\n",
    "    search_results = conn.content.search(layer_name, item_type='*')\n",
    "    proper_index = [i for i, s in enumerate(search_results) if \n",
    "                    '\"'+layer_name+'\"' in str(s)]\n",
    "    found_item = search_results[proper_index[0]]\n",
    "    get_item = conn.content.get(found_item.id)\n",
    "    return get_item\n",
    "\n",
    "def update_layer_def(item):\n",
    "    item_data = item.get_data()\n",
    "    if item_data is not None:\n",
    "        # Here note we are changing a specific part of the Layer Definition\n",
    "        layer_def = item_data['layers'][3]['layerDefinition']\n",
    "        print(\"*******************ORIGINAL DEFINITION*********************\")\n",
    "        print(json.dumps(item_data, indent=4, sort_keys=True))\n",
    "\n",
    "        # Open JSON file containing symbology update\n",
    "        with open('/path/to/drawingInfo.json') as json_data:\n",
    "            data = json.load(json_data)\n",
    "\n",
    "        # Set the drawingInfo equal to what is in JSON file\n",
    "        layer_def['drawingInfo'] = data\n",
    "\n",
    "        # Set the item_properties to include the desired update\n",
    "        item_properties = {\"text\": json.dumps(item_data)}\n",
    "\n",
    "        # 'Commit' the updates to the Item\n",
    "        item.update(item_properties=item_properties)\n",
    "\n",
    "        # Print item_data to see that changes are reflected\n",
    "        new_item_data = item.get_data()\n",
    "        print(\"***********************NEW DEFINITION**********************\")\n",
    "        print(json.dumps(new_item_data, indent=4, sort_keys=True))\n",
    "    \n",
    "    else:\n",
    "        print(\"There is no Layer Definition at the moment..creating one...\")\n",
    "        create_layer_def(item)\n",
    "\n",
    "def create_layer_def(item):   \n",
    "    with open('/path/to/complete.json') as json_data:\n",
    "        data = json.load(json_data)\n",
    "\n",
    "    # Set the item_properties to include the desired update\n",
    "    item_properties = {\"text\": json.dumps(data)}\n",
    "\n",
    "    # 'Commit' the updates to the Item\n",
    "    item.update(item_properties=item_properties)\n",
    "\n",
    "    # Print item_data to see that changes are reflected\n",
    "    item_data = item.get_data()\n",
    "    print(\"*********************CREATED DEFINITION************************\")\n",
    "    print(json.dumps(item_data, indent=4, sort_keys=True))   \n",
    "    \n",
    "def main():\n",
    "    conn = gis\n",
    "    \n",
    "    # Search for item, get item data)\n",
    "    item = search_layer(conn, 'earl_api_usalyraw')\n",
    "    # Attempt to update Layer Definition\n",
    "    update_layer_def(item)\n",
    "\n",
    "if __name__ == '__main__':\n",
    "    #sys.exit(main())‍‍‍‍‍‍‍‍‍‍‍‍‍‍‍‍‍‍‍‍‍‍‍‍‍‍‍‍‍‍‍‍‍‍‍‍‍‍‍‍‍‍‍‍‍‍‍‍‍‍‍‍‍‍‍‍‍‍‍‍‍‍‍‍‍‍‍‍‍‍‍‍‍‍‍‍‍‍‍‍‍‍‍‍‍‍‍‍‍‍‍‍‍‍‍‍‍‍‍‍‍‍‍‍‍‍‍‍‍‍‍‍‍‍‍‍‍‍‍‍‍‍‍‍‍‍‍‍‍‍‍‍‍‍‍‍‍‍‍‍‍‍‍‍‍‍‍‍‍‍‍‍‍‍‍‍‍‍‍‍‍‍‍‍‍‍‍‍‍‍‍‍‍‍‍‍‍‍‍‍‍‍‍‍‍‍‍‍‍‍‍‍‍‍‍‍‍‍‍‍‍‍‍‍‍‍‍‍‍‍‍‍‍‍‍‍‍‍‍‍‍‍‍‍‍‍‍‍‍‍‍‍‍‍‍‍‍‍‍‍‍‍‍‍‍‍‍‍‍‍‍‍‍‍‍‍‍‍‍‍‍‍‍‍‍‍‍‍‍‍‍‍‍‍‍‍‍‍‍‍‍‍‍‍‍‍‍‍‍‍‍‍‍‍‍‍‍‍‍‍‍‍‍‍‍‍‍‍‍‍‍‍‍‍‍‍‍‍‍‍‍‍‍‍‍‍‍‍‍‍‍‍‍‍‍‍‍‍‍‍‍‍‍‍‍‍‍‍‍‍‍‍‍‍‍‍‍‍‍‍‍‍‍‍‍‍‍‍‍‍‍‍‍‍‍‍‍‍‍‍‍‍‍‍‍‍‍‍‍‍‍‍‍‍‍‍‍‍‍‍‍‍‍‍‍‍‍‍‍‍‍‍‍‍‍‍‍‍‍‍‍‍‍‍‍‍‍‍‍‍‍‍‍‍‍‍‍‍‍‍‍‍‍‍‍‍‍‍‍‍‍‍‍‍‍‍‍‍‍‍‍‍‍‍‍‍‍‍‍‍‍‍‍‍‍‍‍‍‍‍‍‍‍‍‍‍‍‍‍‍‍‍‍‍‍‍‍‍‍‍‍‍‍‍‍‍‍‍‍‍‍‍‍‍‍‍‍‍‍‍‍‍‍‍‍‍‍‍‍‍‍‍‍‍‍‍‍‍‍‍‍‍‍‍‍‍‍‍‍‍‍‍‍‍‍‍‍‍‍‍‍‍‍‍‍‍‍‍‍‍‍‍‍‍‍‍‍‍‍‍‍‍‍‍‍‍‍‍‍‍‍‍‍‍‍‍‍‍‍‍‍‍‍‍‍‍‍‍‍‍‍‍‍‍‍‍‍‍‍‍‍‍‍‍‍‍‍‍‍‍‍‍‍‍‍‍‍‍‍‍‍‍‍‍‍‍‍‍‍‍‍‍‍‍‍‍‍‍‍‍‍‍‍‍‍‍‍‍‍‍‍‍‍‍‍‍‍‍‍‍‍‍‍‍‍‍‍‍‍‍‍‍‍‍‍‍‍‍‍‍‍‍‍‍‍‍‍‍‍‍‍‍‍‍‍‍‍‍‍‍‍‍‍‍‍‍‍‍‍‍‍‍‍‍‍‍‍‍‍‍‍‍‍‍‍‍‍‍‍‍‍‍‍‍‍‍‍‍‍‍‍‍‍‍‍‍‍‍‍‍‍‍‍‍‍‍‍‍‍‍‍‍‍‍‍‍‍‍‍‍‍‍‍‍‍‍‍‍‍‍‍‍‍‍‍‍‍‍‍‍‍‍‍‍‍‍‍‍‍‍‍‍‍‍‍‍‍‍‍‍‍‍‍‍‍‍‍‍‍‍‍‍‍‍‍‍‍‍‍‍‍‍‍‍‍‍‍‍‍‍‍‍‍‍‍‍‍‍‍‍‍‍‍‍‍‍‍‍‍‍‍‍‍‍‍‍‍‍‍‍‍‍‍‍‍‍‍‍‍‍‍‍‍‍‍‍‍‍‍‍‍‍‍‍‍‍‍‍‍‍‍‍‍‍‍‍‍‍‍‍‍‍‍‍‍‍‍‍‍‍‍‍‍‍‍‍‍‍‍‍‍‍‍‍‍‍‍‍‍‍‍‍‍‍‍‍‍‍‍‍‍‍‍‍‍‍‍‍‍‍‍‍‍‍‍‍‍‍‍‍‍‍‍‍‍‍‍‍‍‍‍‍‍‍‍‍‍‍‍‍‍‍‍‍‍‍‍‍‍‍‍‍‍‍‍‍‍‍‍‍‍‍‍‍‍‍‍‍‍‍‍‍‍‍‍‍‍‍‍‍‍‍‍‍‍‍‍‍‍‍‍‍‍‍‍‍‍‍‍‍‍‍‍‍‍‍‍‍‍‍‍‍‍‍‍‍‍‍‍‍‍‍‍‍‍‍‍‍‍‍‍‍‍‍‍‍‍‍‍‍‍‍‍‍‍‍‍‍‍‍‍‍‍‍‍‍‍‍‍‍‍‍‍‍‍‍‍‍‍‍‍‍‍‍‍‍‍‍‍‍‍‍‍‍‍‍‍‍‍‍‍‍‍‍‍‍‍‍‍‍‍‍‍‍‍‍‍‍‍‍‍‍‍‍‍‍‍‍‍‍‍‍‍‍‍‍‍‍‍‍‍‍‍‍‍‍‍‍‍‍‍‍‍‍‍‍‍‍‍‍‍‍‍‍‍‍‍‍‍‍‍‍‍‍‍‍‍‍‍‍‍‍‍‍‍‍‍‍‍‍‍‍‍‍‍‍‍‍‍‍‍‍‍‍‍‍‍‍‍‍‍‍‍‍‍‍‍‍‍‍‍‍‍‍‍‍‍‍‍‍‍‍‍‍‍‍‍‍‍‍‍‍‍‍‍‍‍‍‍‍‍‍‍‍\n",
    "    pass"
   ]
  },
  {
   "cell_type": "code",
   "execution_count": 50,
   "id": "920b05e5",
   "metadata": {
    "hidden": true
   },
   "outputs": [
    {
     "ename": "SyntaxError",
     "evalue": "invalid non-printable character U+200D (1072904979.py, line 31)",
     "output_type": "error",
     "traceback": [
      "\u001b[1;36m  File \u001b[1;32m\"C:\\Users\\wmoreno\\AppData\\Local\\Temp\\ipykernel_28612\\1072904979.py\"\u001b[1;36m, line \u001b[1;32m31\u001b[0m\n\u001b[1;33m    }‍‍‍‍‍‍‍‍‍‍‍‍‍‍‍‍‍‍‍‍‍‍‍‍‍‍‍‍‍‍‍‍‍‍‍‍‍‍‍‍‍‍‍‍‍‍‍‍‍‍‍‍‍‍‍‍‍‍‍‍‍‍‍‍‍‍‍‍‍‍‍‍‍‍‍‍‍‍‍‍‍‍‍‍‍‍‍‍‍‍‍‍‍‍‍‍‍‍‍‍‍‍‍‍‍‍‍‍‍‍‍‍‍‍‍‍‍‍‍‍‍‍‍‍‍‍‍‍‍‍‍‍‍‍‍‍‍‍‍‍‍‍‍‍‍‍‍‍‍‍‍‍‍‍‍‍‍‍‍‍‍‍‍‍‍‍‍‍‍‍‍‍‍‍‍‍‍‍‍‍‍‍‍‍‍‍‍‍‍‍‍‍‍‍‍‍‍‍‍‍‍‍‍‍‍‍‍‍‍‍‍‍‍‍‍‍‍‍‍‍‍‍‍‍‍‍‍‍‍‍‍‍‍‍‍‍‍‍‍‍‍‍‍‍‍‍‍‍‍‍‍‍‍‍‍‍‍‍‍‍‍‍‍‍‍‍‍‍‍‍‍‍‍‍‍‍‍‍‍‍‍‍‍‍‍‍‍‍‍‍‍‍‍‍‍‍‍‍‍‍‍‍‍‍‍‍‍‍‍‍‍‍‍‍‍‍‍‍‍‍‍‍‍‍‍‍‍‍‍‍‍‍‍‍‍‍‍‍‍‍‍‍‍‍‍‍‍‍‍‍‍‍‍‍‍‍‍‍‍‍‍‍‍‍‍‍‍‍‍‍‍‍‍‍‍‍‍‍‍‍‍‍‍‍‍‍‍‍‍‍‍‍‍‍‍‍‍‍‍‍‍‍‍‍‍‍‍‍‍‍‍‍‍‍‍‍‍‍‍‍‍‍‍‍‍‍‍‍‍‍‍‍‍‍‍‍‍‍‍‍‍‍‍‍‍‍‍‍‍‍‍‍‍‍‍‍‍‍‍‍‍‍‍‍‍‍‍‍‍‍‍‍‍‍‍‍‍‍‍‍‍‍‍‍‍‍‍‍‍‍‍‍‍‍‍‍‍‍‍‍‍‍‍‍‍‍‍‍‍‍‍‍‍‍‍‍‍‍‍‍‍‍‍‍‍‍‍‍‍‍‍‍‍‍‍‍‍‍‍‍‍‍‍‍‍‍‍‍‍‍‍‍‍‍‍‍‍‍\u001b[0m\n\u001b[1;37m     ^\u001b[0m\n\u001b[1;31mSyntaxError\u001b[0m\u001b[1;31m:\u001b[0m invalid non-printable character U+200D\n"
     ]
    }
   ],
   "source": [
    "test = {\n",
    "  \"drawingInfo\": {\n",
    "    \"renderer\": {\n",
    "      \"type\": \"simple\",\n",
    "      \"symbol\": {\n",
    "        \"type\": \"esriSFS\",\n",
    "        \"style\": \"esriSFSSolid\",\n",
    "        \"color\": [\n",
    "          202,\n",
    "          46,\n",
    "          204,\n",
    "          105\n",
    "        ],\n",
    "        \"outline\": {\n",
    "          \"type\": \"esriSLS\",\n",
    "          \"style\": \"esriSLSSolid\",\n",
    "          \"color\": [\n",
    "            10,\n",
    "            10,\n",
    "            210,\n",
    "            55\n",
    "          ],\n",
    "          \"width\": 0.5\n",
    "        }\n",
    "      }\n",
    "    },\n",
    "    \"scaleSymbols\": true,\n",
    "    \"transparency\": 0,\n",
    "    \"labelingInfo\": null\n",
    "  }\n",
    "}‍‍‍‍‍‍‍‍‍‍‍‍‍‍‍‍‍‍‍‍‍‍‍‍‍‍‍‍‍‍‍‍‍‍‍‍‍‍‍‍‍‍‍‍‍‍‍‍‍‍‍‍‍‍‍‍‍‍‍‍‍‍‍‍‍‍‍‍‍‍‍‍‍‍‍‍‍‍‍‍‍‍‍‍‍‍‍‍‍‍‍‍‍‍‍‍‍‍‍‍‍‍‍‍‍‍‍‍‍‍‍‍‍‍‍‍‍‍‍‍‍‍‍‍‍‍‍‍‍‍‍‍‍‍‍‍‍‍‍‍‍‍‍‍‍‍‍‍‍‍‍‍‍‍‍‍‍‍‍‍‍‍‍‍‍‍‍‍‍‍‍‍‍‍‍‍‍‍‍‍‍‍‍‍‍‍‍‍‍‍‍‍‍‍‍‍‍‍‍‍‍‍‍‍‍‍‍‍‍‍‍‍‍‍‍‍‍‍‍‍‍‍‍‍‍‍‍‍‍‍‍‍‍‍‍‍‍‍‍‍‍‍‍‍‍‍‍‍‍‍‍‍‍‍‍‍‍‍‍‍‍‍‍‍‍‍‍‍‍‍‍‍‍‍‍‍‍‍‍‍‍‍‍‍‍‍‍‍‍‍‍‍‍‍‍‍‍‍‍‍‍‍‍‍‍‍‍‍‍‍‍‍‍‍‍‍‍‍‍‍‍‍‍‍‍‍‍‍‍‍‍‍‍‍‍‍‍‍‍‍‍‍‍‍‍‍‍‍‍‍‍‍‍‍‍‍‍‍‍‍‍‍‍‍‍‍‍‍‍‍‍‍‍‍‍‍‍‍‍‍‍‍‍‍‍‍‍‍‍‍‍‍‍‍‍‍‍‍‍‍‍‍‍‍‍‍‍‍‍‍‍‍‍‍‍‍‍‍‍‍‍‍‍‍‍‍‍‍‍‍‍‍‍‍‍‍‍‍‍‍‍‍‍‍‍‍‍‍‍‍‍‍‍‍‍‍‍‍‍‍‍‍‍‍‍‍‍‍‍‍‍‍‍‍‍‍‍‍‍‍‍‍‍‍‍‍‍‍‍‍‍‍‍‍‍‍‍‍‍‍‍‍‍‍‍‍‍‍‍‍‍‍‍‍‍‍‍‍‍‍‍‍‍‍‍‍‍‍‍‍‍‍‍‍‍‍‍‍‍‍‍‍‍‍‍‍‍‍‍‍‍‍‍‍‍‍‍‍"
   ]
  },
  {
   "cell_type": "code",
   "execution_count": 47,
   "id": "f0897473",
   "metadata": {
    "hidden": true
   },
   "outputs": [],
   "source": [
    "def search_layer(conn,layer_name):\n",
    "    search_results = conn.content.search(layer_name, item_type='Feature Layer')\n",
    "    proper_index = [i for i, s in enumerate(search_results) if \n",
    "                    '\"'+layer_name+'\"' in str(s)]\n",
    "    found_item = search_results[proper_index[0]]\n",
    "    flc = FeatureLayerCollection.fromitem(found_item)\n",
    "    return flc\n",
    "\n",
    "\n",
    "def update_layer_def(layer):\n",
    "    # Open JSON file containing symbology update\n",
    "    with open('/path/to/hosted_drawinfo_lyr.json') as json_data:\n",
    "        data = json.load(json_data)\n",
    "    \n",
    "    layer.manager.update_definition(data)\n",
    "    print(\"*******************UPDATED DEFINITION**********************\")\n",
    "    print(layer.properties)\n",
    "\n",
    "    \n",
    "def main():\n",
    "    conn = gis\n",
    "    \n",
    "    # Search for item, get item data)\n",
    "    flc = search_layer(conn, 'layerdef')\n",
    "    layer = flc.layers[1]\n",
    "    print(layer.properties)\n",
    "    update_layer_def(layer)\n",
    "\n",
    "if __name__ == '__main__':\n",
    "    #sys.exit(main())\n",
    "    pass"
   ]
  },
  {
   "cell_type": "code",
   "execution_count": 52,
   "id": "3d7a0626",
   "metadata": {
    "hidden": true
   },
   "outputs": [],
   "source": [
    "import os\n",
    "import datetime as dt\n",
    "import pandas "
   ]
  },
  {
   "cell_type": "code",
   "execution_count": 54,
   "id": "d3e2899d",
   "metadata": {
    "hidden": true
   },
   "outputs": [],
   "source": [
    "day_start = dt.datetime(2019, 5, 30, 0, 0, 0, 0)\n",
    "day_end = dt.datetime(2019, 5, 30, 23, 59, 59, 999999)\n",
    "\n",
    "start_timestamp = int(day_start.timestamp() * 1000)\n",
    "end_timestamp = int(day_end.timestamp() * 1000)"
   ]
  },
  {
   "cell_type": "code",
   "execution_count": 55,
   "id": "53bfcaae",
   "metadata": {
    "hidden": true
   },
   "outputs": [
    {
     "data": {
      "text/plain": [
       "1559192400000"
      ]
     },
     "execution_count": 55,
     "metadata": {},
     "output_type": "execute_result"
    }
   ],
   "source": [
    "start_timestamp"
   ]
  },
  {
   "cell_type": "markdown",
   "id": "fe1ac7a1",
   "metadata": {
    "heading_collapsed": true
   },
   "source": [
    "# Query content and layers"
   ]
  },
  {
   "cell_type": "markdown",
   "id": "e65c852b",
   "metadata": {
    "heading_collapsed": true,
    "hidden": true
   },
   "source": [
    "## https://developers.arcgis.com/python/guide/accessing-and-creating-content/"
   ]
  },
  {
   "cell_type": "code",
   "execution_count": 58,
   "id": "7d46ca09",
   "metadata": {
    "hidden": true
   },
   "outputs": [
    {
     "data": {
      "text/html": [
       "<div class=\"item_container\" style=\"height: auto; overflow: hidden; border: 1px solid #cfcfcf; border-radius: 2px; background: #f6fafa; line-height: 1.21429em; padding: 10px;\">\n",
       "                    <div class=\"item_left\" style=\"width: 210px; float: left;\">\n",
       "                       <a href='http://renemorenow.maps.arcgis.com/home/item.html?id=943b933043f14fdea241731e17e1c66a' target='_blank'>\n",
       "                        <img src='data:image/png;base64,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' width='200' height='133' class=\"itemThumbnail\">\n",
       "                       </a>\n",
       "                    </div>\n",
       "\n",
       "                    <div class=\"item_right\"     style=\"float: none; width: auto; overflow: hidden;\">\n",
       "                        <a href='http://renemorenow.maps.arcgis.com/home/item.html?id=943b933043f14fdea241731e17e1c66a' target='_blank'><b>Earthquakes around the world from 1800s to early 1900s</b>\n",
       "                        </a>\n",
       "                        <br/><img src='http://renemorenow.maps.arcgis.com/home/js/jsapi/esri/css/images/item_type_icons/layers16.png' style=\"vertical-align:middle;\">CSV by renemorenow\n",
       "                        <br/>Last Modified: November 26, 2023\n",
       "                        <br/>0 comments, 2 views\n",
       "                    </div>\n",
       "                </div>\n",
       "                "
      ],
      "text/plain": [
       "<Item title:\"Earthquakes around the world from 1800s to early 1900s\" type:CSV owner:renemorenow>"
      ]
     },
     "metadata": {},
     "output_type": "display_data"
    },
    {
     "data": {
      "text/html": [
       "<div class=\"item_container\" style=\"height: auto; overflow: hidden; border: 1px solid #cfcfcf; border-radius: 2px; background: #f6fafa; line-height: 1.21429em; padding: 10px;\">\n",
       "                    <div class=\"item_left\" style=\"width: 210px; float: left;\">\n",
       "                       <a href='http://renemorenow.maps.arcgis.com/home/item.html?id=83479a61b7434069876758e67be54d55' target='_blank'>\n",
       "                        <img src='data:image/png;base64,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' width='200' height='133' class=\"itemThumbnail\">\n",
       "                       </a>\n",
       "                    </div>\n",
       "\n",
       "                    <div class=\"item_right\"     style=\"float: none; width: auto; overflow: hidden;\">\n",
       "                        <a href='http://renemorenow.maps.arcgis.com/home/item.html?id=83479a61b7434069876758e67be54d55' target='_blank'><b>Earthquakes around the world from 1800s to early 1900s</b>\n",
       "                        </a>\n",
       "                        <br/><img src='http://renemorenow.maps.arcgis.com/home/js/jsapi/esri/css/images/item_type_icons/featureshosted16.png' style=\"vertical-align:middle;\">Feature Layer Collection by renemorenow\n",
       "                        <br/>Last Modified: November 26, 2023\n",
       "                        <br/>0 comments, 5 views\n",
       "                    </div>\n",
       "                </div>\n",
       "                "
      ],
      "text/plain": [
       "<Item title:\"Earthquakes around the world from 1800s to early 1900s\" type:Feature Layer Collection owner:renemorenow>"
      ]
     },
     "metadata": {},
     "output_type": "display_data"
    }
   ],
   "source": [
    "username = gis.users.me.username\n",
    "for earthquakes_csv_item in gis.content.search(query=\"title:Earthquakes around the world from 1800s to early 1900s AND owner:\"+username):\n",
    "    display(earthquakes_csv_item)"
   ]
  },
  {
   "cell_type": "code",
   "execution_count": null,
   "id": "acbd8815",
   "metadata": {
    "hidden": true
   },
   "outputs": [],
   "source": [
    "csv_path = os.path.join(data_path, \"earthquakes.csv\")\n",
    "csv_properties={'title':'Earthquakes around the world from 1800s to early 1900s',\n",
    "                'description':'Measurements from globally distributed seismometers',\n",
    "                'tags':'arcgis, python, earthquake, natural disaster, emergency'}\n",
    "thumbnail_path = os.path.join(data_path, \"earthquake.png\")\n",
    "\n",
    "earthquake_csv_item = gis.content.add(item_properties=csv_properties, data=csv_path,\n",
    "                                     thumbnail = thumbnail_path)"
   ]
  },
  {
   "cell_type": "code",
   "execution_count": null,
   "id": "733edc9b",
   "metadata": {
    "hidden": true
   },
   "outputs": [],
   "source": [
    "earthquake_feature_layer_item = earthquake_csv_item.publish()\n",
    "earthquake_feature_layer_item"
   ]
  },
  {
   "cell_type": "code",
   "execution_count": null,
   "id": "bf60ba5e",
   "metadata": {
    "hidden": true
   },
   "outputs": [],
   "source": [
    "# check if service name is available\n",
    "gis.content.is_service_name_available(service_name= \"awesome_python\", service_type = 'featureService')"
   ]
  },
  {
   "cell_type": "code",
   "execution_count": null,
   "id": "16b4c954",
   "metadata": {
    "hidden": true
   },
   "outputs": [],
   "source": [
    "# let us publish an empty service\n",
    "empty_service_item = gis.content.create_service(name='awesome_python', service_type='featureService')\n",
    "empty_service_item"
   ]
  },
  {
   "cell_type": "markdown",
   "id": "86dd7848",
   "metadata": {
    "hidden": true
   },
   "source": [
    "## https://support.esri.com/en/Technical-Article/000024383"
   ]
  },
  {
   "cell_type": "markdown",
   "id": "1bc7c7e0",
   "metadata": {
    "heading_collapsed": true
   },
   "source": [
    "# Display webmaps, Add content to webmaps and webscenes, Build webmaps"
   ]
  },
  {
   "cell_type": "code",
   "execution_count": 44,
   "id": "dc4cf450",
   "metadata": {
    "hidden": true
   },
   "outputs": [],
   "source": [
    "from IPython.display import display\n",
    "from arcgis.mapping import WebMap, WebScene"
   ]
  },
  {
   "cell_type": "code",
   "execution_count": 45,
   "id": "c14b0f78",
   "metadata": {
    "hidden": true
   },
   "outputs": [
    {
     "data": {
      "text/plain": [
       "[<Item title:\"Global COVID Country Confirmed Cases May 2020\" type:Web Map owner:bdasc1>,\n",
       " <Item title:\"Confirmed Covid19 cases in UK - last updated on 17.04.2020 (Please visit https://coronavstats.co.uk/)\" type:Web Map owner:chonglappan>,\n",
       " <Item title:\"COVID-19 Community Resource Map [Live]\" type:Web Map owner:rarareines>,\n",
       " <Item title:\"Spread of confirmed cases of COVID-19 in counties in TN, December 15-22, 2020 as reported by TN Department of Health at https://www.tn.gov/health/cedep/ncov.html\" type:Web Map owner:antipovaangela1>,\n",
       " <Item title:\"COVID-19 SPREAD AW\" type:Web Map owner:amandawestman>,\n",
       " <Item title:\"Peta Sebaran Risiko Covid-19 Kabupaten Kebumen\" type:Web Map owner:FajarAniqSafira>,\n",
       " <Item title:\"Spread of confirmed cases of COVID-19 in counties in TN, November 14-21, 2020 as reported by TN Department of Health at https://www.tn.gov/health/cedep/ncov.html\" type:Web Map owner:antipovaangela1>,\n",
       " <Item title:\"Bivariate Covid-19 Deaths and Poverty\" type:Web Map owner:kibrown_pdxedu>,\n",
       " <Item title:\"Spread of confirmed cases of COVID-19 in counties in TN, November 30-December 6, 2020 as reported by TN Department of Health at https://www.tn.gov/health/cedep/ncov.html\" type:Web Map owner:antipovaangela1>,\n",
       " <Item title:\"Spread of confirmed cases of COVID-19 in counties in TN, December 7-14, 2020 as reported by TN Department of Health at https://www.tn.gov/health/cedep/ncov.html\" type:Web Map owner:antipovaangela1>]"
      ]
     },
     "execution_count": 45,
     "metadata": {},
     "output_type": "execute_result"
    }
   ],
   "source": [
    "webmap_search = gis.content.search(\"COVID 19\", item_type=\"Web Map\")\n",
    "webmap_search"
   ]
  },
  {
   "cell_type": "code",
   "execution_count": 47,
   "id": "132f1368",
   "metadata": {
    "hidden": true
   },
   "outputs": [
    {
     "data": {
      "text/html": [
       "<div class=\"item_container\" style=\"height: auto; overflow: hidden; border: 1px solid #cfcfcf; border-radius: 2px; background: #f6fafa; line-height: 1.21429em; padding: 10px;\">\n",
       "                    <div class=\"item_left\" style=\"width: 210px; float: left;\">\n",
       "                       <a href='https://www.arcgis.com/home/item.html?id=c47d81de6b9e4e6a84f494a2f8572f99' target='_blank'>\n",
       "                        <img src='https://www.arcgis.com/sharing/rest//content/items/c47d81de6b9e4e6a84f494a2f8572f99/info/thumbnail/ago_downloaded.png' class=\"itemThumbnail\">\n",
       "                       </a>\n",
       "                    </div>\n",
       "\n",
       "                    <div class=\"item_right\"     style=\"float: none; width: auto; overflow: hidden;\">\n",
       "                        <a href='https://www.arcgis.com/home/item.html?id=c47d81de6b9e4e6a84f494a2f8572f99' target='_blank'><b>Global COVID Country Confirmed Cases May 2020</b>\n",
       "                        </a>\n",
       "                        <br/><img src='https://www.arcgis.com/home/js/jsapi/esri/css/images/item_type_icons/maps16.png' style=\"vertical-align:middle;\">Web Map by bdasc1\n",
       "                        <br/>Last Modified: mayo 24, 2020\n",
       "                        <br/>0 comments, 389 views\n",
       "                    </div>\n",
       "                </div>\n",
       "                "
      ],
      "text/plain": [
       "<Item title:\"Global COVID Country Confirmed Cases May 2020\" type:Web Map owner:bdasc1>"
      ]
     },
     "execution_count": 47,
     "metadata": {},
     "output_type": "execute_result"
    }
   ],
   "source": [
    "ebola_map_item = webmap_search[0]\n",
    "ebola_map_item"
   ]
  },
  {
   "cell_type": "code",
   "execution_count": 7,
   "id": "55b4f2af",
   "metadata": {
    "hidden": true
   },
   "outputs": [
    {
     "data": {
      "text/plain": [
       "[]"
      ]
     },
     "execution_count": 7,
     "metadata": {},
     "output_type": "execute_result"
    }
   ],
   "source": [
    "empty_webmap = WebMap()\n",
    "empty_webmap.layers"
   ]
  },
  {
   "cell_type": "code",
   "execution_count": 17,
   "id": "19b32171",
   "metadata": {
    "hidden": true
   },
   "outputs": [
    {
     "name": "stdout",
     "output_type": "stream",
     "text": [
      "Ebola Treatment Centers Status\n",
      "Country Boundaries\n",
      "OSMAfrica\n",
      "dict_keys(['operationalLayers', 'baseMap', 'spatialReference', 'version', 'applicationProperties'])\n",
      "{\n",
      "  \"baseMapLayers\": [\n",
      "    {\n",
      "      \"id\": \"baseLayer_001\",\n",
      "      \"layerType\": \"ArcGISTiledMapServiceLayer\",\n",
      "      \"opacity\": 1,\n",
      "      \"visibility\": true,\n",
      "      \"url\": \"http://ebolamaps.who.int/arcgis/rest/services/BASEMAPS/WHO_West_Africa_background_7/MapServer\"\n",
      "    },\n",
      "    {\n",
      "      \"id\": \"WHO_West_Africa_reference_7_3888\",\n",
      "      \"layerType\": \"ArcGISTiledMapServiceLayer\",\n",
      "      \"isReference\": true,\n",
      "      \"opacity\": 1,\n",
      "      \"visibility\": true,\n",
      "      \"url\": \"http://ebolamaps.who.int/arcgis/rest/services/BASEMAPS/WHO_West_Africa_reference_7/MapServer\"\n",
      "    },\n",
      "    {\n",
      "      \"id\": \"WHO_West_Africa_reference_7_4287\",\n",
      "      \"layerType\": \"ArcGISTiledMapServiceLayer\",\n",
      "      \"isReference\": true,\n",
      "      \"opacity\": 1,\n",
      "      \"visibility\": true,\n",
      "      \"url\": \"http://ebolamaps.who.int/arcgis/rest/services/BASEMAPS/WHO_West_Africa_reference_7/MapServer\"\n",
      "    }\n",
      "  ],\n",
      "  \"title\": \"WHOBASEMAP_2\"\n",
      "}\n",
      "{\n",
      "  \"wkid\": 102100,\n",
      "  \"latestWkid\": 3857\n",
      "}\n"
     ]
    }
   ],
   "source": [
    "ebola_map = WebMap(ebola_map_item)\n",
    "for layer in ebola_map.layers:\n",
    "    print(layer.title)\n",
    "print(dict(ebola_map.definition).keys())\n",
    "print(ebola_map.basemap)\n",
    "print(ebola_map.definition.spatialReference)"
   ]
  },
  {
   "cell_type": "code",
   "execution_count": 18,
   "id": "d3805c2e",
   "metadata": {
    "hidden": true
   },
   "outputs": [
    {
     "data": {
      "application/vnd.jupyter.widget-view+json": {
       "model_id": "35697501d46b436e96ee3401909ae907",
       "version_major": 2,
       "version_minor": 0
      },
      "text/plain": [
       "MapView(hide_mode_switch=True, layout=Layout(height='400px', width='100%'))"
      ]
     },
     "metadata": {},
     "output_type": "display_data"
    },
    {
     "data": {
      "text/html": [
       "<div class=\"map-static-img-preview-531bd00d-d467-48de-8b10-620ab41dd8cf\"><img src=\"\"></img></div>"
      ],
      "text/plain": [
       "<IPython.core.display.HTML object>"
      ]
     },
     "metadata": {},
     "output_type": "display_data"
    },
    {
     "data": {
      "text/html": [
       "<div class=\"map-html-embed-preview-531bd00d-d467-48de-8b10-620ab41dd8cf\"></div>"
      ],
      "text/plain": [
       "<IPython.core.display.HTML object>"
      ]
     },
     "metadata": {},
     "output_type": "display_data"
    }
   ],
   "source": [
    "ebola_map"
   ]
  },
  {
   "cell_type": "code",
   "execution_count": 19,
   "id": "0d386b10",
   "metadata": {
    "hidden": true
   },
   "outputs": [
    {
     "data": {
      "text/plain": [
       "{'title': 'Ebola incidents and facilities',\n",
       " 'snippet': 'Map created using Python API showing locations of Ebola treatment centers',\n",
       " 'tags': ['automation', 'ebola', 'world health', 'python']}"
      ]
     },
     "execution_count": 19,
     "metadata": {},
     "output_type": "execute_result"
    }
   ],
   "source": [
    "webmap_item_properties = {'title':'Ebola incidents and facilities',\n",
    "                         'snippet':'Map created using Python API showing locations of Ebola treatment centers',\n",
    "                         'tags':['automation', 'ebola', 'world health', 'python']}\n",
    "webmap_item_properties"
   ]
  },
  {
   "cell_type": "code",
   "execution_count": 20,
   "id": "f5c19efd",
   "metadata": {
    "hidden": true
   },
   "outputs": [
    {
     "data": {
      "text/plain": [
       "[<Item title:\"Britten Wilder-Autobiography of Author Britten Wilder\" type:Web Scene owner:brittenwilder>,\n",
       " <Item title:\"Santa Maria Volcano Data\" type:Web Scene owner:RossDonihue>,\n",
       " <Item title:\"Interesting Places\" type:Web Scene owner:dkensok>,\n",
       " <Item title:\"BAG 3D - Nederland\" type:Web Scene owner:Esri_NL_Content>,\n",
       " <Item title:\"Visualize New Developments\" type:Web Scene owner:esri_3d>,\n",
       " <Item title:\"Berlin, Germany Scene\" type:Web Scene owner:esri_3d>,\n",
       " <Item title:\"Dorchester Avenue Plan Area Boundary\" type:Web Scene owner:Learn_ArcGIS>,\n",
       " <Item title:\"Linz, Austria Scene\" type:Web Scene owner:esri_3d>,\n",
       " <Item title:\"Airflow Globe\" type:Web Scene owner:cartogeek>,\n",
       " <Item title:\"Brest, France Scene\" type:Web Scene owner:esri_3d>]"
      ]
     },
     "execution_count": 20,
     "metadata": {},
     "output_type": "execute_result"
    }
   ],
   "source": [
    "webscene_search = gis.content.search(\"\", item_type=\"Web Scene\")\n",
    "webscene_search"
   ]
  },
  {
   "cell_type": "code",
   "execution_count": 34,
   "id": "31cfd224",
   "metadata": {
    "hidden": true
   },
   "outputs": [
    {
     "data": {
      "text/html": [
       "<div class=\"item_container\" style=\"height: auto; overflow: hidden; border: 1px solid #cfcfcf; border-radius: 2px; background: #f6fafa; line-height: 1.21429em; padding: 10px;\">\n",
       "                    <div class=\"item_left\" style=\"width: 210px; float: left;\">\n",
       "                       <a href='https://www.arcgis.com/home/item.html?id=91b46c2b162c48dba264b2190e1dbcff' target='_blank'>\n",
       "                        <img src='https://www.arcgis.com/sharing/rest//content/items/91b46c2b162c48dba264b2190e1dbcff/info/thumbnail/ago_downloaded.jpg' class=\"itemThumbnail\">\n",
       "                       </a>\n",
       "                    </div>\n",
       "\n",
       "                    <div class=\"item_right\"     style=\"float: none; width: auto; overflow: hidden;\">\n",
       "                        <a href='https://www.arcgis.com/home/item.html?id=91b46c2b162c48dba264b2190e1dbcff' target='_blank'><b>Interesting Places</b>\n",
       "                        </a>\n",
       "                        <br/>This scene presents a collection of interesting places on our planet using the ArcGIS Online Imagery basemap and World Elevation layer. Click on the slides to explore them, navigating the scene along the way.<img src='https://www.arcgis.com/home/js/jsapi/esri/css/images/item_type_icons/websceneglobal16.png' style=\"vertical-align:middle;\">Web Scene by dkensok\n",
       "                        <br/>Last Modified: mayo 05, 2020\n",
       "                        <br/>1 comments, 85.218 views\n",
       "                    </div>\n",
       "                </div>\n",
       "                "
      ],
      "text/plain": [
       "<Item title:\"Interesting Places\" type:Web Scene owner:dkensok>"
      ]
     },
     "execution_count": 34,
     "metadata": {},
     "output_type": "execute_result"
    }
   ],
   "source": [
    "webscene_item = webscene_search[2]\n",
    "webscene_item"
   ]
  },
  {
   "cell_type": "code",
   "execution_count": 35,
   "id": "e6c5c6e1",
   "metadata": {
    "hidden": true
   },
   "outputs": [
    {
     "data": {
      "application/vnd.jupyter.widget-view+json": {
       "model_id": "66776783954b4e8a95d7fbf06a12558b",
       "version_major": 2,
       "version_minor": 0
      },
      "text/plain": [
       "MapView(hide_mode_switch=True, layout=Layout(height='400px', width='100%'), mode='3D')"
      ]
     },
     "metadata": {},
     "output_type": "display_data"
    },
    {
     "data": {
      "text/html": [
       "<div class=\"map-static-img-preview-b2540b5a-d759-41f0-a5c3-ff259a4f0aff\"><img src=\"\"></img></div>"
      ],
      "text/plain": [
       "<IPython.core.display.HTML object>"
      ]
     },
     "metadata": {},
     "output_type": "display_data"
    },
    {
     "data": {
      "text/html": [
       "<div class=\"map-html-embed-preview-b2540b5a-d759-41f0-a5c3-ff259a4f0aff\"></div>"
      ],
      "text/plain": [
       "<IPython.core.display.HTML object>"
      ]
     },
     "metadata": {},
     "output_type": "display_data"
    }
   ],
   "source": [
    "from arcgis.mapping import WebScene\n",
    "webscene_obj = WebScene(webscene_item)\n",
    "webscene_obj"
   ]
  },
  {
   "cell_type": "code",
   "execution_count": 36,
   "id": "84b024d0",
   "metadata": {
    "hidden": true
   },
   "outputs": [
    {
     "data": {
      "text/plain": [
       "odict_keys(['operationalLayers', 'baseMap', 'ground', 'heightModelInfo', 'version', 'authoringApp', 'authoringAppVersion', 'presentation', 'initialState', 'spatialReference', 'viewingMode'])"
      ]
     },
     "execution_count": 36,
     "metadata": {},
     "output_type": "execute_result"
    }
   ],
   "source": [
    "webscene_obj.keys()"
   ]
  },
  {
   "cell_type": "code",
   "execution_count": 37,
   "id": "7bef99fb",
   "metadata": {
    "hidden": true
   },
   "outputs": [
    {
     "data": {
      "text/plain": [
       "{'environment': {'lighting': {'datetime': 1426450124000,\n",
       "   'displayUTCOffset': -8},\n",
       "  'atmosphereEnabled': True,\n",
       "  'starsEnabled': True},\n",
       " 'viewpoint': {'camera': {'position': {'spatialReference': {'latestWkid': 3857,\n",
       "     'wkid': 102100},\n",
       "    'x': -13601480.90077368,\n",
       "    'y': 5820719.675047723,\n",
       "    'z': 2423.2742257490754},\n",
       "   'heading': 182.49906564751697,\n",
       "   'tilt': 83.73152384316909}}}"
      ]
     },
     "execution_count": 37,
     "metadata": {},
     "output_type": "execute_result"
    }
   ],
   "source": [
    "webscene_obj[\"initialState\"]"
   ]
  },
  {
   "cell_type": "code",
   "execution_count": 62,
   "id": "117e6e8e",
   "metadata": {
    "hidden": true
   },
   "outputs": [
    {
     "data": {
      "text/plain": [
       "[<Item title:\"Britten Wilder-Autobiography of Author Britten Wilder\" type:Web Scene owner:brittenwilder>,\n",
       " <Item title:\"Dorchester Avenue Plan Area Boundary\" type:Web Scene owner:Learn_ArcGIS>,\n",
       " <Item title:\"Interesting Places\" type:Web Scene owner:dkensok>,\n",
       " <Item title:\"BAG 3D - Nederland\" type:Web Scene owner:Esri_NL_Content>,\n",
       " <Item title:\"Visualize New Developments\" type:Web Scene owner:esri_3d>,\n",
       " <Item title:\"Berlin, Germany Scene\" type:Web Scene owner:esri_3d>,\n",
       " <Item title:\"Santa Maria Volcano \" type:Web Scene owner:EsriTrainingSvc>,\n",
       " <Item title:\"Santa Maria Volcano Data\" type:Web Scene owner:RossDonihue>,\n",
       " <Item title:\"Airflow Globe\" type:Web Scene owner:cartogeek>,\n",
       " <Item title:\"Linz, Austria Scene\" type:Web Scene owner:esri_3d>]"
      ]
     },
     "execution_count": 62,
     "metadata": {},
     "output_type": "execute_result"
    }
   ],
   "source": [
    "webscene_search = gis.content.search(\"\", item_type=\"Web Scene\", outside_org=True)\n",
    "webscene_search"
   ]
  },
  {
   "cell_type": "code",
   "execution_count": 67,
   "id": "c39d6a98",
   "metadata": {
    "hidden": true
   },
   "outputs": [
    {
     "data": {
      "text/html": [
       "<div class=\"item_container\" style=\"height: auto; overflow: hidden; border: 1px solid #cfcfcf; border-radius: 2px; background: #f6fafa; line-height: 1.21429em; padding: 10px;\">\n",
       "                    <div class=\"item_left\" style=\"width: 210px; float: left;\">\n",
       "                       <a href='http://renemorenow.maps.arcgis.com/home/item.html?id=19dcff93eeb64f208d09d328656dd492' target='_blank'>\n",
       "                        <img src='data:image/png;base64,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' width='200' height='133' class=\"itemThumbnail\">\n",
       "                       </a>\n",
       "                    </div>\n",
       "\n",
       "                    <div class=\"item_right\"     style=\"float: none; width: auto; overflow: hidden;\">\n",
       "                        <a href='http://renemorenow.maps.arcgis.com/home/item.html?id=19dcff93eeb64f208d09d328656dd492' target='_blank'><b>Visualize New Developments</b>\n",
       "                        </a>\n",
       "                        <br/>Understand proposed changes in the context of your 3D City. Communicate changes with stakeholders and solicit public feedback.<img src='http://renemorenow.maps.arcgis.com/home/js/jsapi/esri/css/images/item_type_icons/websceneglobal16.png' style=\"vertical-align:middle;\">Web Scene by esri_3d\n",
       "                        <br/>Last Modified: July 20, 2022\n",
       "                        <br/>8 comments, 527,636 views\n",
       "                    </div>\n",
       "                </div>\n",
       "                "
      ],
      "text/plain": [
       "<Item title:\"Visualize New Developments\" type:Web Scene owner:esri_3d>"
      ]
     },
     "execution_count": 67,
     "metadata": {},
     "output_type": "execute_result"
    }
   ],
   "source": [
    "webscene_item = webscene_search[4]\n",
    "webscene_item"
   ]
  },
  {
   "cell_type": "code",
   "execution_count": 69,
   "id": "186d4f69",
   "metadata": {
    "hidden": true
   },
   "outputs": [
    {
     "data": {
      "text/plain": [
       "{'id': '15f2fe08c8d-layer-0',\n",
       " 'showLegend': True,\n",
       " 'opacity': 1,\n",
       " 'disablePopup': True,\n",
       " 'title': 'Non-Project Buildings',\n",
       " 'url': 'https://tiles.arcgis.com/tiles/P3ePLMYs2RVChkJx/arcgis/rest/services/BuildingShells_Existing/SceneServer/layers/0',\n",
       " 'visibility': True,\n",
       " 'itemId': '01f432dabdc845bb899cdd27143e1ea6',\n",
       " 'layerType': 'ArcGISSceneServiceLayer',\n",
       " 'layerDefinition': {'elevationInfo': {'mode': 'absoluteHeight'},\n",
       "  'drawingInfo': {'renderer': {'authoringInfo': {},\n",
       "    'type': 'simple',\n",
       "    'symbol': {'type': 'MeshSymbol3D',\n",
       "     'symbolLayers': [{'type': 'Fill',\n",
       "       'material': {'color': [255, 255, 255], 'colorMixMode': 'replace'},\n",
       "       'edges': {'type': 'solid',\n",
       "        'color': [0, 0, 0],\n",
       "        'transparency': 60,\n",
       "        'size': 1}}]}}}},\n",
       " 'showLabels': False,\n",
       " 'screenSizePerspective': True}"
      ]
     },
     "execution_count": 69,
     "metadata": {},
     "output_type": "execute_result"
    }
   ],
   "source": [
    "from arcgis.mapping import WebScene\n",
    "webscene_obj = WebScene(webscene_item)\n",
    "webscene_obj['operationalLayers'][0]"
   ]
  },
  {
   "cell_type": "code",
   "execution_count": 70,
   "id": "a9d5518e",
   "metadata": {
    "hidden": true
   },
   "outputs": [
    {
     "data": {
      "application/vnd.jupyter.widget-view+json": {
       "model_id": "ccc271ddd47e412bacb7808fc25295c9",
       "version_major": 2,
       "version_minor": 0
      },
      "text/plain": [
       "MapView(hide_mode_switch=True, layout=Layout(height='400px', width='100%'), mode='3D')"
      ]
     },
     "metadata": {},
     "output_type": "display_data"
    },
    {
     "data": {
      "text/html": [
       "<div class=\"map-static-img-preview-289f23f8-ac9f-4b9e-8756-4aa8d30ca196\"><img src=\"\"></img></div>"
      ],
      "text/plain": [
       "<IPython.core.display.HTML object>"
      ]
     },
     "metadata": {},
     "output_type": "display_data"
    },
    {
     "data": {
      "text/html": [
       "<div class=\"map-html-embed-preview-289f23f8-ac9f-4b9e-8756-4aa8d30ca196\"></div>"
      ],
      "text/plain": [
       "<IPython.core.display.HTML object>"
      ]
     },
     "metadata": {},
     "output_type": "display_data"
    }
   ],
   "source": [
    "webscene_obj"
   ]
  },
  {
   "cell_type": "markdown",
   "id": "71213f12",
   "metadata": {
    "heading_collapsed": true
   },
   "source": [
    "# Publish and overwrite"
   ]
  },
  {
   "cell_type": "markdown",
   "id": "701f1d32",
   "metadata": {
    "heading_collapsed": true,
    "hidden": true
   },
   "source": [
    "### Publishing packages as web layers\n",
    "https://developers.arcgis.com/python/sample-notebooks/publishing-packages-as-web-layers/"
   ]
  },
  {
   "cell_type": "code",
   "execution_count": null,
   "id": "164bd846",
   "metadata": {
    "hidden": true
   },
   "outputs": [],
   "source": [
    "tpk_item = gis.content.add({}, data=r'D:\\EsriTraining\\APIforPython\\api_lyr_sym.zip', folder='packages')\n",
    "tpk_item"
   ]
  },
  {
   "cell_type": "code",
   "execution_count": 42,
   "id": "0d71fdc7",
   "metadata": {
    "hidden": true
   },
   "outputs": [
    {
     "data": {
      "text/plain": [
       "{'snippet': 'This dataset was collected from Utah DOT open data portal.\\n                            Source URL: <a href=\"http://udot.uplan.opendata.arcgis.com/\\n                            datasets/a627bb128ac44767832402f7f9bde909_10\">http://udot.uplan.opendata.arcgis.com/\\n                            datasets/a627bb128ac44767832402f7f9bde909_10</a>',\n",
       " 'title': 'Locations of power pedestals collected in 2012',\n",
       " 'tags': 'opendata'}"
      ]
     },
     "execution_count": 42,
     "metadata": {},
     "output_type": "execute_result"
    }
   ],
   "source": [
    "item_properties = {\"snippet\":\"\"\"This dataset was collected from Utah DOT open data portal.\n",
    "                            Source URL: <a href=\"http://udot.uplan.opendata.arcgis.com/\n",
    "                            datasets/a627bb128ac44767832402f7f9bde909_10\">http://udot.uplan.opendata.arcgis.com/\n",
    "                            datasets/a627bb128ac44767832402f7f9bde909_10</a>\"\"\",\n",
    "                   \"title\":\"Locations of power pedestals collected in 2012\",\n",
    "                   \"tags\":\"opendata\"}\n",
    "item_properties"
   ]
  },
  {
   "cell_type": "code",
   "execution_count": 72,
   "id": "06431042",
   "metadata": {
    "hidden": true
   },
   "outputs": [
    {
     "data": {
      "text/plain": [
       "[<Item title:\"Buildings_Montreal_2016\" type:Scene Layer owner:esri_3d>,\n",
       " <Item title:\"Buildings_Montreal\" type:Scene Layer owner:esri_3d>,\n",
       " <Item title:\"Montreal, Canada Buildings\" type:Scene Layer owner:esri_3d>]"
      ]
     },
     "metadata": {},
     "output_type": "display_data"
    }
   ],
   "source": [
    "search_result = gis.content.search(\"title:Montreal, Canada Buildings AND owner:esri_3d\", \n",
    "                                   item_type=\"scene service\", outside_org = True)\n",
    "display(search_result)"
   ]
  },
  {
   "cell_type": "code",
   "execution_count": 73,
   "id": "def68b38",
   "metadata": {
    "hidden": true
   },
   "outputs": [
    {
     "data": {
      "text/html": [
       "<div class=\"item_container\" style=\"height: auto; overflow: hidden; border: 1px solid #cfcfcf; border-radius: 2px; background: #f6fafa; line-height: 1.21429em; padding: 10px;\">\n",
       "                    <div class=\"item_left\" style=\"width: 210px; float: left;\">\n",
       "                       <a href='http://renemorenow.maps.arcgis.com/home/item.html?id=48e3923ce6a347bd86ba5a08c5d6dffd' target='_blank'>\n",
       "                        <img src='data:image/png;base64,iVBORw0KGgoAAAANSUhEUgAAAMgAAACFCAYAAAAenrcsAAAAAXNSR0IArs4c6QAAAARnQU1BAACxjwv8YQUAAAAJcEhZcwAADsQAAA7EAZUrDhsAAKDiSURBVHhe7b0FoCTlsTYc1nEIyZd8N3bvTS437kY8gRAXCETwIAESIDjBNbgT3HWxddfjbnNszri76/Gzz19P9fQ5s8tJboBls9z/26Tonp6enjnd9bxVT1W99b5D/mH3ljmz7u9RkXfsYb5nyBzz9byFWLjnf2LBfl/CAR88Hd8+eS3Ov7cOZ//lCpx00lG44MI/44obb8Kd9z2IR554HE+/9CqeX78Vr9Q2YXWzBWs7LKjtc6HR5UN3IAlLrITNvlGs9m/DuhCwMTSFtSHZD06KbMOGgOyHp7ApOIW6BNCamoQ1B/hKU3CXxuHIj8FTGIMjN4GBwiSGMsPw5EfhLIzDlh2BL5OHPVWAX6Q4MgxvOoP+9DiihWHkSiMojA4DmMI2EfkPRsfHkMlkEAlFkUwnMDw6Iu9MyjnGWdvknG1TE8iXh9Hlj2EwloFNvq8nuw19aaAnA1hk25LahvoYsCEMLHOPYLVnGA1RoC8zie6YG+5UDxwFBx6rieLbJ67GXh84We7pN7Bg7//AO+buNXPvK/ddn4nKnKr9t7XMenC3kT322KNqf+4s++aDEPDwmDyoeXPfjUX7fgILD/gRPvSVO/D7mztw8W1P4Kjjj8Gxpx2PS6++HDfcfTfufvRpPP38C3hh2Wq8uKkGqxo7Udveic6BIVi9HvjDMfgjcfTFsxjITGBDZAqrguN4yVbAWu+UAAIKEgWHAKVW3u/NAwMCAltxG4ZyJXjzZYRla8tNqoLa81Ow5sf1HAWNvE+Q9BEk2WEEMwUkskV4ZF++Bv3ZCfQk8ojlBSjlUSSLw8iMTSFfKGFktKCA2SZoICBMcEyoCEAqx8cmxpHIZGGPxmBLldGbHUd3ZgrtWaBLANKVAroFLBuDY1jjGccKZwnrZRDolGP9qSIGQm2wxbegKxHDBY948cFD7saiA3+Ihft8EnPnv1Pu+Xx5BtUDmQGU/weQf6kQEMb+XBF9GHsswJ57fRB77vdF7Pu+k3H42Ztx2SMNOO7MP+Pwo4/D6RddhStuvQM3PvQI7n7yGTz20jI8u3INXt5ag+UtXWjo6sSQrR/+oE9G5RTKw3lMTEzAy5G/vE1HVlqL1b4JLHeXsNpVVqWSwRUtiW2wFiGj7SRC5SkMZccwKGAYSI4hkCsiViwjUR5DsDCCgXQJQ8kSPAKcIbES3Dozsi/iEiD4srLP9/LbMChAsxYEbIUp9OXGYS9BvmcCnvIEomKZxqbEatBaCDSmpsSG0MAoWCbkf5NqRfh6atsY4vkSegJxONN5ODIjAkoBiYCgS6wJ9wcE3LQsbSKbxKpsDFYsoQCoI+RDR6BVwDyIJb1RfO+0DWJNzsSi/b+OBXu+H/P2WGQ8lzkc0OTZzDGf09teZj24G4lYiCrLYR4zRPYJEpE95u2LBXt9GPMP/C4+8MUb8PubLDj7+kfw46N/g5+eeDb+eMWNuO7u+3DHY0/jvudewRMr1uCljXXYWteMuvYe1LR3o3OwFh5PHyKRCAqi0GPbxnUULgtI/GWxADKiN4vitIgL1SJKVB8dR3N8ChZxpZwCjuDwJErj46qo+WEq/riAZFJB4yxNqHLzPKd4S76iKHtuFN7ciLpe8dIwwoVRBVGmOCZul4z08tkhOd8q38vRfGtgFFsCZXQkR43juSkMZspIixuGbYZ7pfZDfrPhZhlbw5oIWERKo2NiUUaRLhbRlxpTcBDI/Nts8pscci3Dok0p6Btj29Ajf99QWd6X39Tud4pVsaInlcP5Dzvw3s/fhIUHHo75+3xUrMmBFctReT6VAextLrMe3G1k2kxXgKCAece8ykOQ1zJS0cwv3PdzWPh/jsAXj3wZFzzYht+e/kcc+svf4Td/vBQX3HgHbrr/Adz/1At49NXVeGbNZiypbcHS2nq0ddahx9qMIW87hvzNGAzWI5DoQyIXQTabRjoVE7BkkBCXxlkUPiGK4hCwcOsa2QZx2UVZt8ElLhNdmZGxYUTF7x8en1KlJ+foJ0hE+fwCBloDu1gRn7hbA6lRREdGBExj4kqNyzXGhB/QkkzCnh6GW84ZlM9bBVjdwh02h8fwojUtblAJnUkZ8em2yXdb5Dq2eA7uZAq5sVGiRMGhhkT3JxUok9vEvMhvHBM+40uk1H3jNfibCNyBZBGRXB4j8pv4+6wlsVy0YGKxaL0IIqv8Lc3BuPw9o3CVSniuJYvP/eJ57PmuX2PB/p/FvAXvnnle5jN6e8usB3cb2Q4gpvk235szD/MX/JuQxi9gvw+dhp+eV4+L7nwVPzrqtzj016fimHMvxyU33IpbH3oU9z/3Ep5YthYvrtuM5VvrsK6pFZs7a9DYtwkbu9ah1VkDZ6oV3lQ3Quk+BNI9wh36EEvbkcyHRWnKwh/KsKbLsGXGRHlFiXPDyid0NJfXfrpiMgJ7cgWMTwyLJQEKI+MI5UeEP4whIoo2JOcQbCOiyP1JcbtE0QICPIJjeFIsTryg/CIipL07nIQjnsJQvIhekmbhDE2JKdQK99kaMfb7c3TDDF7THsnLCB9XHrONvhadLGJC9ia3yX/ViohFGSNYi2o57GIdBsR9sxGE0YyQ8qwCJF8uqYWjdaQFI5i4tcvfakkXDYso77vLZWxyZHHkpc3yDE4Xl+sQzF/0f2eemfn83r4y68HdX+Yuwrw9PyBE/Ot418cvxu9v6cUfr7wd3/jBT/Dzk87CiRffgLOuuhU33/84Hli8FE8t3YDl67ZgQ/0KbO1Yh6beDegcWocO10p0+jeiP9gGV7JbyHEPPOluBPNd8Kbb4c50iuszgOJwWriBQ95LCJ8Qy1KOoTwyrErOiJRVlKyXboqQ+ahYikR5BCNEiIzdE5PbMD45AffwlLpX5ChBed+aGoFL3Ja+4qRwkzFMTInLlSqgNFwWCzQhnKGIXKkMXzKPziAjaQVY5Lvo/rSKy1UXnURrUkZ54SoDouD2knCfeBptoTRsCQEoxvX7Gd2iNdGt7BA0o2JFXNlh5R1DpUkMilslhkm4kyi+WK+IfHe/8JQ24R8tInTFCBJyIoKJAYYe+a0u2Y+MjyI4XsI59w3hgIMvxYJ3GlGuOe/Yu+Iev60tyawHdzMxbrDh39JyLMD8vf4de+7/bfzH1+/G2Xd14ug/nIPv/OiXOOr0i3HMRdfg8lvvwc0PPoEHXlqCp5atxtJ1W1HfVof6ztVotqxBt3ML+v1b4Un2ICiWIlRsh08siCcjoEhb4E+3CVi6RFF6RFHt8Gcs8Ga6EBWwhArdCBf7MDySVbeKRD5VEvKdHdXQLd2c4qiQZBJoUUtVUiHLkTLDugICARJH4OGRMZRlNLcLONyipAEBC8k8j5UnxjA6NiF8ZFiJ+KS8TgnJdkWT6AnFNQjQL6N7a9KIRPWJdSHHcQlQac1qfWnYEwUyEgOkslVOIqCdEkuVzudgESBpIEE+SxAQDIMCGIKdrhVDwuQ+TXEoF2Hky8LIl4BlKFcWaxcTqxtClz8hg0sO0dEcbl3qwQe+fh8WHPB9LNjnYMyds3AWDvm2klkP7jLZLjxYMckmEAxgmOCQrbw/h5Zjnw/LKHUY/vt7D+PiR3vw8+NPwvd+ejR+feYlOPmyG3HFrffhrieexqNLVmDx2i1YuqkOdS0NaOupQ/vABvQ6tsDqaYYn1oNMPoZsIYlkxgmPAMSZ6IBDjsfzLkTzNgFDr1iEXvHNu8WCCEhynYiULOIaWVEYF19H1U+AIDggMGy5kvrvo3KoLDwkITwkIqSbYGCew5oRgMi+UxTMKwSbrldfPC8jsYzMwlN6U2X5rgKGEjnhKMPoFpfLJhYkWxoVxR5VoASTGTT4YgoEWgAqLC1Kr1gSchLviJD6aA6b7CG4s0UDFAoUg5uQiySzBXTFimoN6Ka1xqZQJ24bAccoFq0UI1oECI/Vy/sNAhR+F4HSxYhXckTA6sXatia0DNo04ODLhfFYTRgHf/9JLDroR1i4z8cwZ85eFfeYEceqsHzl2e7mMuvBf4lsn+eQbUWMGyo3d499sHDvj2LPd/4IX/71ElxwfwMO/cnPcPivjsWvz7oEv7/8dlx+x8O475nFCo4X1tXghQ1bsKlpC7r7GtFrb8SgQ4i4zwJbrBHxjEMU3YNoxiVK1y/Wo018/la4E51I5P0CmiBiGR/iBb8o+SCc8R4Z5fvF5bKJD+9EsBhDrFQQIJQwKS4R3aKIWBJGr/pTOXSI4lNBrYk87ELCbXKcVsaVNnIePclhJMXVyo6OKAhCQv6ZH8kIaWeCzy58hpbCKoDrSWZhEY5RFE6jCcBhuZ58xhJNo1MU3ZIWhRaL0pcWkIiF8o6KyxcX9y+SVM6h/IMAIVRkf3RsCn3yOQYQSNKbE+KyidRHtqnF6CLgMtsUEIxmERy1InTpaLnITciL+J1d4tbV9HWiP+AVLiV/f9KB9dYMPvXLl7HgwCM0J8WBTQFRGQTfJuCgzHrwXyiVG2cCpHJsj3l7Cjg+gr0POgJf+s1SnHffWnz3Jz/F4UcfI+C4DKddeRMuvPVB3Pv0i3hs6UosFmAsr2vFqw1taOlqw5CjB902Ee8g2nzdsAZdSIjyh7MDiKSdyjcIDpe4ViFxrXzxTgQS/YhFg0gmYkjLyOhKWOASkITybgwkw+gIy+ieywlfCSE/GhOXiiFeIcPiEmXFSjT54urz81hG3KXEyBRiouCedEE+n0e6NI5JcXcmJycxPj6uORCnWBUS7OLIKHxieTwjYhGEo8QY0RJAMQhA9430hp/NFwtiCROw+GMYiOXRLxZEeQJBMizbVBH+ZFrDu2bo17QkSXHnaEWo8M2i/AqQGAwwyLaLlqICkPqoAZDG+KS6WQNidfrkOwgsfr7DF0Sn04PQSBnBUgaZkRA2DyVwyLErsde7BCRiSebO3Xf75zv9zHdrmfXgrpPX3CjewO1HF3IOWo4FB/0Y3zx+Nc69czk+/81v4wdHHYeTzrkEZ1x1Gy674zHc9dRiPLV8uVqNZbUt2NTei7b+AVgGu9Hm8qHBG0RP0CFbHxo9SQRjA/DHBxBNeOHLdIjidsKV6hVS3AZ3UvhIQqxM0icgCSCdiQtXkfMzA4iVQ7AmA7ClXQjkrGpRorl+5EfiGJ0SRRTtVV4yLG4RlVJV0shPqC8mI7gnlVWuwZdGhAkojo2J9RiV7ygJORfFFm7iLQM+cZk8Qux9Y9vgF8uSG2UJyigKwyPyO0vquoViUQyEU8odSNo1skZOIq4bpVfeI5CMbAn/yRdPjKI7GENbYgxt8W0KALpStCIECd0uAqRDuAkBQvDwfUbPlI8IMMhh6qLjmo33yWARKOQRL+WQFLe1MBlCUyCGL/92BRYdeBQW7iWWhO6W+Vx3eM67qcx6cJfJa6McBkBYU0XXas4ee2IB3ap3/RTfOHEVzvjr8/j8dw7Fd3/1e/zm7Mvw52uvx2V33o+bHn0O9zzzEu5/aSWeF96xoqYVm7sGsKrdgo19LgymRJFE4eijMyxqictDzETFMsSRSEbE7x9CsNAvHKQL/lSnAKZLlK8dsawX8XgUqZwf3myHEvpYsV/cqx5xz2wa7cqM+jAmbtbEeFm2ZQHHmLoxVEKCQkOuU8ZWwSIvKXxFKQjRZy6EloSJwn4h130JIeQCDJ9YHc/IpPIKEvn4sJHTGN02jvHJMRSHJ+DIltAbLcApbhyBYWbde9KjsBQMN4hEnGUmiYJYKALVQK2AekRDy3TRCApKXXSbhpEbBRAk7ixDIUk3AAJsjkwaIFHeM6lbgovXiJbSch/TcGUKcOeGkZ8IYKsjhq8cKyB5z5FYuO9/V0DytgAHZdaDu0xmCJt5bGZ/zh4LMH9vIeQHHIovHP0qLrpvDb70ncPwnSOOxc/PuBQnXXQzzrv5IVz7t2fx4MtiOdZsxgsbG7C2pRs1A3asH7BhS78HvcIB6Ge3JyexmTkEcRMY++8XIsx6q2Tah1DaAl+6B95Eu/KRYKYbfgFLKDakycJEwa3uV6DQjUi+F6mSW7hJv+yLGyb8pDyWxNikAGRiWPz7EqYmJtXlYiRrG8T1qoCBIBCsyD+DOCuQBCB0m0jEQ8ItCBKvZrW3aYkLk5HkKrQccQE5OcrEhJBvIe1KwOW7ovmCcIKSkm5akN70GGpDBdSFRpVkt4hCt5M/ZBlNE0AKMOj6jYoVimfyRg6FLpZYis1iQViLtSU6pcDoFF6jPETeo2xVkGxDh1yX7xEgTXKcgQKGfR1ZgpUcSixcPifunRdbBCRfOPJVLHrnzzB/n4M1h/U2AcmsB3eZECBqRSqu1kyGfCHm7fkhLNr/UHzqJ0/j/Hs34AviVn3n58fiiD9cgmMv+StOv/4hnHXXM7jo4RX464ub8ej6Vrzc3IsVXU6s6g9gvS2NTf5RbPZPYvFgFivdU1gXBNYEoCFMJv7cUS+iSRfCaRsciSZ44i1GNCveJGAhD+lTEq8RLAEIw7wM8aZKLlFat+6HixYBkAOl4ThGxosKlInxYVVc6j/5Aq0H8xwTkyOYnBKZGEFJLMPkpAEckm9ah4AoLP8xfMyQL8tUWK7iFtCQkzChyJwFa7rGx43wb6RUkt8iChlLa2bcIW4ZyXe7uE4soKRF0CiUKDGTjEq0kyOaULTHsrBF4tjqCgkxF8tACyLWgzVnBAE/o5EtsSSmFSE/YTUz95vkGEtv2sR68DUjX7TSrDdjeQ4TozH5falsH9YNpvGJn72A+e/8ERbs9V/yrOdvpwu7qcx6cNcKwUGXquJWsYJ3zqL3Ys8DvoGDv/M3XPxgOw75/vdxyE+Oxs//cD5OuOBmnHrDfbj4nmdw1ePLcNPirbh9WQPuXG/BQzUuPNUewAuWOF6xDhvl6cFJPNuXwsOdUbxkz2mxIUOZ3tworIEAhpwOeKMWWGNbBRxtGIhsxUB0A4biG+BMEzRtGuFiHoT5kHDBimRpUPhHEJaoH/Z0H2ziig3EA+J/B7UwkCO7ulcirLolMDhi04IQLNwvjbKMXaxGcRSOnOFKBYoTmn2PlKbgLTH7PqYlH7asWLyMsW/PT4j/PyWj9Kh83ziyxWGEskXYM0VN4GlBo1hIKqsqNYEhik8F3hTehrUCks0sRBRLyhwKw7ztkYIMGuOq6HXy/obghJbAE1x0uwiQBuEp6obRigiIWN3MrVHiv02LNml5aFEGxa3TpOgo4BeLF0okEEha8FJnAh/8xt+w54Hfw/xF75tdH3YvmfXgLhWzpH3OO2QrIJm7gOXqX8J7P3M1zn+wG9/9xZH48mG/wM9OvgDHnnstTr32Ppx/57O46tEl+OvzG3HH8kY8sNGCxxsceK7dj5d6E1qyvco7imd6k3jVWcYWediswH2qL43l4rM0irvVFs5jdb8N3fZ+2KPNWmbiT7VjKLEF/ZH16I9vRG9oLazxzUJAO4VvWFR8QtTd+bC4blm0BaIyqofgzw/AJ3wkUhzCuLg/YhQ03zA2lle3i4DhaybpCBq1KgKSaFlIuSi5/FTlGWLwtFI3IMLSFCYUmR+huxIuTsIn59O3Z2EjQ8KDcg7rvbwCGgKHc0g4apOL0I0kj6Bi04JQmWkZaEXXihU19sXtFEvBaBRdrGaxLpvCtLRGGT/f42dZlGm6WbQgvJ+b5LObBBDGnBheR0Ajn1kbIGCM6Jd9eBuCo1OawLTHI0iOu/FATdooctzva5i38L2GDpi6ML1PF2x7PfkXyawHd5kQHIZbJbKHkPP5+2HPfT+Ld37kHJx2Wx9+ctyp+My3DsWPTjwbR59zHU656i6cc8eTuOKhJbjhuQ24Y0k9/rauC4/X2fFsmw8viuVYZs9jnX9cH/LzAzk80hHHi4MFrBFXi4rBB9kkirDW5cVqmxUWR49aCbpQzkgjrKFauBIt6IttVHB4Mi0Cinb4SdKzwkNyPeLiOAUkg0Jwu+FOCTAKwl0EPHS3UmUfciNRlMbCKI6llYuQdhAQBIoR0TJqtwgA35gRkiUh94qbxRwGy1Jc4qIoURdr4ZPzsmPyuTHD+rBehFzELyTdJsAhULSwUBSRCUSGefmaib4asSIECZVZJ3mFJnS7NjhemfRFUBjukwGiSawRq8DjvFc8zjAwrQhdMFqKLSL8DMHG89cGJvR8WhATMCyXp/vFCWKadBSrQk6Smszjsud82P8/z8Oe+38Bc+YdYAyO1IlKLmzOO3ab7PusB3epmDeHEauF+/4XFr3ntzjqsg4cc84l+ORXvo7Df3c6fnX2FZoI/OMtj+LC+1/EDU+tx+2v1uG+te14tGYQz7R6sbgnhqU2sQqeEX1Y+sDC41juHcMj4l4t94zqg2UYsysxjhqvAy0eK1weCzzRTriTLbCGN6PPV4Ng1ApntA7udLMovlgWca0CYkUIknDOIoBgvRbB0SE+vFiXQhtC8j7fIy9hlCskBD5V8op7ZVgQda0UKixilJFfCDgtB8O4FFoQ1lMxLMvjmgOpWBbfqPCQ3EjF+jAsbFgiISFIj4xptTABxc8MJMqwxfPwiYvjl+9gkSNHflqDtSFjBqRaEFVmY8Q3lJtbeV+swzRw5JzNcpxchpErWhi6bQSJzqqUz+q58hmez2MGSEzwmKAxvpNumzObhmOkiOP+OoiF7z1BeOYnMZeRLTNRzKy7ctLdgsTPenCXCa2HIfOxYO8PYcH+h+O7p2zBmdc/ho9/7iv43q9OwRFnXIyTLr4Nf/zrQ7jgvhdx5eOrcePL9bhrVRse3tKPp1s8eKE7iletWXWrZh44felJ3VLoK3M05KhmSREgLjTaOuHytsMdaxbr0QxXtAUdznVwhtrEJdgMW2K9goIWxJVugDfbKtKuXCWQ69K6LXfWLu8F4Uj1aS0XuQrDv6EsQTKEeNGB8mja4B+i1KLTWrCooFCATAk5N17TTRoqiFXIjWvuI0iQ0LoIr3CLRUgOswBR8FFx4Qi8UeEu/uKIAstJYOVHEU6EhEsl9LMEDfMZ5CK0EFRiVWT/VGU2JMUY9Y19Q0yQ8FwCglaIrhaFrhsJ/3Ygmb6Osc97b1xHLAxFzqNl2iznWpMusW7DOPQP67HwwJ9i/r4fwdx3LBQ9EL1QcOw2MuvBXSam7zlv0buwcP9v4mPfewzn3rsOnznk6/jaz3+Hn516Pn534V9x+nUP4rx7n8blj67ETc/X4Naljbh/Ux+eaHTiuc4wXhnMYLn4I+bDMYURq7X0ueWhcATlg9ZZdPE0Ntj6sGWoE1Z/gyjTWvRF1gg53wiLb7NYjxpYEwKUTK2QeeEnmSY4k83CM8QdIwhoScSdcuet8OQcQrQ9CAgP8QhgAgUCxLAwAXG7WM+VLDpRHE9gbLKI8pi4TmXyjhmQ+EcNIPSJ0nQni7p158eVkzBZSAJvFDhOarKPADH/cTecz2oJuz09Ki5ZGiPDeaTTSa3pGsyXZcQGeoSQK8EW5d5Asq5KXRndZd90q0zhMeMcUXY5f4sISTrdLG75moMOgcJ9gsO4hgE2/byAgq4WnwGvQ4u03i/3PxFBYSyKVVbgP791L+Yf+HXMXyB8RKzI/+Mg1cLI1bx9xbX6DP7Px/6ilbnf/OGP8dnv/VR4x1n4zXnX4aSr78O5dzyOvwjvuPa5jbjllWbcu7YTj9Xb8Ux7EC/2JbFMSDk5RvUDrhaOlFs1rg/0CantTRVR64+h1tqG3sB6WALL0R8WgERWo8O9Bh2eFRiMtWIg2C3uSo2WojBP4suJZYk2iFvVgP7AJjjCDQhlWJ7So8AIlcRqCCCChQ4FEV2xUIHHhLcIYKICqNxwCr5sAR6xBgFxg9SNoiXhvigy8xnW7LBGgPi+ulpjAijhJyPiaomnJv/I8ishZEHL+ERZAOsQgAsYy26xVqwynkK5lIUtFtMkqbpfuUpOQ6wBXSodPCoWl8ptKjItrgkOA0QVBRcgbBRrYADM4B50W3lvOQAZbpq8J+evkWusCU4Y1+L3yPVWC/+hO9YdCyNXciMxNozrlqdw0EcvEe/hy9hDOKhOoa7qRfAvllkP7jqZM1enyi541xH43RVdOPbsy/HJL33L4B1nXoITL78FZ978GP7yt5dwzeObcP1Ltbh1dRfurxnCE80+LO5NGLzDN0MSq8U083zAfJCsJWqPBmHNZNAVDcHi3IC+wCoh45vQH12N3vBytAtYukOrEMiKomc8iBXDiJWd04pOMu+INWm5fJ97C6zeRvS56tDnrTMAkxNCL9bEnooYVoR8pVgRcb2YQxmfGhaFHjbcJyHptCR0pyhqTSqAoQWhC2YQeeEhQsoLwjVoNViiwiQk/zGDz8BAqNipicvsSACjY3mt8Yqm42h0h5TMk6cMikVieJfEWyNckUnUhCeNEHBFkU1XyQSPuTX31TrwvLDhNvF83l9aaF7HjGZxS1eOQOL5BBetem1QBgBxP1MZHwZkMDjh+l4sePevsWDfjykXnVVX/jUy68FdJjSrdK0+97On8acbnsV/feGL+DYz5addhGMvvBmnXi+u1d3P47JHVuDaxZtx04o23L1hCI82uLG4M4IlQzmsrCblMoKZo5iOXPJQ1ogQKOoiyEjXFhFlET99g7UXPe5G2BO1YiU2Yyi5HoPxtQKSlWi0viruUrMqWmbYrzzCJ/zDnWlUHuLJNonrJftCzD3ZBuEgdXpsKC7EXraDsUE4WPErloRkndl3gotgcWe6kSz4xF1LysieFd5RVMWftiQClmoxy0w4oYnvMwE3Oj6iIWMmJpksHJ0oaTafrhwtWbTQp5akPJpVoORLafhSCbFMRocVFkDahONo1KvAzibbNOehAKDyU6GrQEEA8L7ScpBo89gMf6HQWkwJOMjzptSirBfQ8T0TTDyfstrL5zKJ5mgK4ZQD+UIKDf4xfOpnz2hieMGiD/z/h6TTnzR5hv7RdKk0pPsOre5ctN/n8c6PXoCz7+nCVw/9vuY7fnLiGepanXz1PTjr9qdxyYNLcfWzm3DzkhbcudaCB2qceKotjBd708o7ql0r03KYrzeQg1RGLz40KgHnXAwWhMwPWjDkbRFQrEd/Yq0AZQucKQFLdKu4Vpthja1WDkLF1/eTm9Q6+PItYh1qFBQEjDMjliOzRYFCAs+SFEeyzeAueaM6OJzrFh7TI+BrR2+wA7akEP9K1IthY3d2EK68uF5iNViUqMJ9uljjLDgUkh1I69xxWpJwMYLSSERDytkRH0rjGaTLHi2YLIpEsn2IlhwaZi6VjQBBvhyCKzmAeC4u20xlXvk2uAV0vC6rCxitMiNSdI/0Hgo4pl2vSjjXjIbNJrQgDAZoxr1ikQzQGREuWhCCief0xuMCXj9ykwXcvz6jrtZCulridk/rCnVIAVPRIdWnXQaeWQ/uXJnDXAf/yAoBq4TzGLVadNBP8OvLuvHbsy7Bx778bfzgN6fiiD9dhhP/cjv+dNNjuFBcqyueXIO/vtSA21Z14b7NNjza6MPTXTG8MmTkNmZ7SKaY5n+jPFgSVLoUTrbTyU7ild4+nYtOIAwkmDlfhyEh6cyo9wlRJ8ewC3icqXqNWCVLXhmFfapkfK2S57TcRrhoWcSiMNLlzG7VrS8rpD4nQBBAWTMbheQ36mdoScIMAwtX4Wsl9GJp/LleeDJ+zRVoPoTWQ4h8UFwiWhgC281olrxPly9ZsouIm1J2qJVLlJwCEjeGx1MClLRaqWTRpdNraUUSBScSxQH5jrRYuIAA2yGDg1us2DDs8h3W4oSWyzNKRUvB+2cCwXC9jIigcW95/LX3XkEg95quFAHAAYn7M+eQyE9gpbhdy9x8DbR7BlEYjmko+7jrurBQXC1Obagm6tv1R6tsd5HMenCnifGHzVHixa2Z85i78CAs3O+rOPg79+PcO1fiE1/6Mr7xs9/gZ6eci2MuuhF/uOZBnHvPc/jLo+JaPb8Ftyxtw13rB/BAvRdPtEfx4kBWXKuxqhv/90QejoyItCR8WI0JY154f7aIGmszBjwNcMRrVVHtqa2wCkBskXrNhVBoHWhF3HEnwtkMYvmM8JIEHFE3XIledWXoehFEpuvlSteqNaKL5hcA+TMNsCbr4U4RNK3wF1rVogQysp/vVF7Cqb0UcghGytw5Nzw5AaP46DodVzgIR3xHNqG+O+fJM99Cq5Edjog75VKLYSQpw6JwUZQnBBQCGr4XL1mRGJG/Qb63O8RgQz+i5V5ESv3ojwkoK0lGziWh0JrwftGtokUgAee9rOYo27tg1SIkXoSfY86E1+HnzfAy31slz+NVD/CycxKvdvpRLOdQGM1gk2MEH/neIxrVWrjgXa8h6zrQ6r7hhVS/9xbJrAd3qphmstqSkIzt84FTcPJNXfjeT3+Oz3zzcPz4uD9qQvDkK+/E2bc8iQsfXIIrn96Am15txh1renD/VhceaQ7imW5GrYZneTCzCcFhhBf5oBjBYZSoOexD/VAjBobqhXC36GjPUd8aW4s+v4hvCxyBdgyF69QFy5RiOsdDq2+FIbOxQroYV4Wk8nnSBgD82U6NXtHFciYtcKf7NVdiTXSLhWiT7xDApQU8GbEqqS2aX6EFMQMADB1zq8eK7QKidjhKReUiBIpTrhcrsaLYOD9etFXAYZ22TvqaAMjbEJTfQitngLBff58nW6/fw9fRAuffD2mHErpZg8zAC1AovZkKiRdXibxClVtd1plo146yo4vLzzIkrIlFsSjMzG8MGOBa7heADA3jydYQup1BZMtJpCa2ibcQxqL3n4JF+3wGe8xZaOgQgVIBhKlDu8jNmvXgThNNAlYhnX8cCxEX7v8tfP3YpTjj+odw8Ge+iu8ceRx+cepFOP7iW3HmjQ/h/HsX47LHV+HaF2px68oO3LtpCA81+vFER0zLRsyo1d8fxQyhq0A/mORRR7ME0BpMoNGxFisGW4SMCzBCXRiK1AjHaNBQb5d3GSyeLRj0NmMoJm5TqkULELVUpBJanRSfnhW3nG6bE/cgP5KUByyAKYXFmsi1RDE5Mg+l/doqqC9uV4viztSLddmqHMaerdVztZSFlkUAZIBlBjDM3luzcS0pYS7EkY2psrOq2KwsptWhu8Z9AofTiBPifrH0xS18iIlORuT8WeFBcj1yIr/wHlohb1pcrlwBPXEXXJXyFFYPsx0Q581wYhTzHmYZvBY/ypYhXLXOs9xzU/hsWObC0DorhAkQEnwNE8tnV3q3YZkPWOoewwZH2pivn8+LxZ7EIScsxcIDfoAFC9lCqAKEXWMxdpRZD+5ckT+MrhXra+bssRB77vdJHPDhc/GnO5vxxe98B58/7OdCzP+IX597NU654m6cc8czuPjhZbjmuc1KzO9a14sHa114vC2E52VYW+76Z1wrQzR0KQ+lJjapD4ojYbcvhfrWrajva8XWfoZoN6LTuRz90bXTAOn3blKQDARqkBE/3ijxYIUuS9QntZUPQaNNo2lUBDQT20a0tMSdFgCI0g+mQmI5POhOlNEWcgrYmuFI12AguQ42cdtssQ2wpzcqwbenNyuXYQTKAIgR9WIepS8+iP6MEGvhCCxa5CxGgkTdNHIXsQp0lWgNGOJNDXsMcFS4kTvLQIFcT4RJTlo75TzpFjhyJP5TAljrTHM4sSQ6I1G+j+XzrMEi4a4VbkLXi3PVuW/WX1XLjgOWGTkksAw3zRAl68IPl3qBVQKSlWJNWIrSmeK8lzQe3ZzFfh8+Hwv3/RTmzd1TB1bqES3JNHGv1rG3TmY9uPNE/yiz8GyeNhVbeOBh+O6pa/G7c67Gf332i/jur07EL06/ACdceiv+eOOjuOCel3DZkytxg0nMNw3isWYvnu9O4FVb8R8S82rzTmHFKc07RzAt+ZaHpD1o4xG0uevQ3Nuv4OjyviIKuw7W8EZ0+VZiMFiLmrYV6BhYo+FTZq5pOUzrMSWuAK0J8xEEjwEchl2zSBX9qugsp7DGutET9KMjHJGtgIblLOLiDAlpt8ZXyjmr1NUaTG4UayMgybaocjMsTADQInhl25+JatKQHR3dGdd0AtLI1BtZe1oEAkSBI5aCUTc2nbYm1mjZzGB0FWypTfodfnHBPGkbbCVxrUpjYiX7YIk50RlLyTlJnYdCsLB0nverMz2pk6OM9kJTWinMvEf1vZ5N+Dzo2uo8E9nSTTOTjkaiEVghXGSFz+AlLKG3+OOIFybws7NrMZdzR/b8N8PFEh0yOKzBP/53AETE+EPE1ZqzQHsl/Z9P/gVn39OBzx7yVXzp+0fhhyf8Cb8953qccs29OPv2p3Dpw0tx9XNblXvQejxc58TTHaHX1Fr9T8LzOIOQwDA6dkzqPudS20MxNLhatH3OoH8LOryvamn7YGgDml1LYA2uh1XcLs4NGRnNKUAUCJNTmnzjPlt4JpNpTdTxfc1eTw5rboLcIZgPoCcWRlB4gjMVkNG7V10qKulgfLVuWetFBR6Ir9A8DF+7M3XiNtF14mQscZsEAIyE9aWCsKSTovgCHrEgBAEz+wQjiyMZYmbUjC4VM//kOiyXYXVAT7RBPt8vliog1i2veSBGrtgpUbskJobkOszRiAuWH9TwKzspat5F+A/rwghOo9PiNs3J0H36n54FCT1BYXARI9RugMR4j59fKRZkuYDEyGGJKxee0IHmpeYc3vnff8Gi/T5b6Ypi6FI1H9kFMuvBnSv6x8zR2v/5+38HP/jDBhxz1mX46Be+gu8edTKOOF24xyU348y/PqLcg2FdLUZc3Y2Ha6xqPZ7uiWOpoyw3lGbdsCC8wdsnqyoPhZEWufF8EOw+qHMiNMRrbNmVo89rw9ota9Bh7Uanbxk29i1Hh7tJrMcqtHnWoN+3Bhbveu2hNTklWqL/2CVxROec03yMjY1ovVNclIn/aEWmto1q21EWJzLkyhqpzGhWwCJKmbCoi0VRkKTW6lYVObYag4mV6n4RKMypkJOYXITRscE4k5rt6lKxNsyW3KKkXzmGgMWTbhQA1sr1xX2jpRC+Q/BZEr2q7JyOyxqvwWwE/QJs9hgmQAbyY+hn84piF+JifVJlm1i3MDrDLHac1Oy+ZvsrFowchdNtjRC6cc+p2Dtab1PIN2jBaUWUz1QiWmYCl1yELha5CbkiLQl7huXHJvDDs7doEzpOrtKBVi0Hi1tNvXrLZdaDO02m/yh2Jtnnk3jXR8/DGbdsxae+8lV85ftHivU4C7/9s3CPq+4R6/H0NPe4ZWkr7l7fh8ca3Wo9Fvdn/smwrgEcbunzEhQECEV5iFiSfvrYaSsaXY3odNVh08ASDAbs8Md84mbVoS+8Dl3BlejxrUXbwGoNQY6MjGn2ujxS0LIOc6ose07FInEUCqKBYDdFAQjLdflKzsuPlMUCjStISMZdyUblAK5UkyoyuYcjKYRdLEtvokFH/KGsuFxpsS4CAEdK3C6SewEIw80EhGbwhdQrxxB3je/RivC1PblBP8PzaF0YTetKJkW8sMTr0BXvUwvAkC7BoQDJTQgnsos7x7ByQNzBELoiSQGq8KlC2agoFiuimX0BSld2QktTtGR+h3tfLaZ1IXCYE2G5POfGEyTkNOb7qwVoq2VQW+UliefngLbYOMrDGTy+OYkD/utC5SKchm2668ZCSf8LoljqWolJZN6D1uPrJyzHcRf/FQd/RrjHkSfjl6dfotbjjBseFush3OOJtTPcY4sVjzcHsNiSwgrHsNb06I2v+LCm9ZiJzc8IRyhyDz4IEnNaDu5zfjWbt/VFW+FKNAthXw6Lj00XWL4xpo3iBsPr0e5/RVv/DEbXaV6BJbR0odhqJ50vYXh4VBse0Ipks1n4gwGMjo4qNxkfndDjw2MFAcuIEvjyhIzYiS1ax0WAOJJbVeEJEkdmE/pjLbAkQxiMrZDRf4OO/IMpcb+Uo2xSfmJyCuZcCDZaGadch3kXR6rRyObnjFwM59czgtWfEsuVHMJQXCyJcJDuWJe6R1R6x7AxYYs1WgPmIj+yz4Z22nCBUinDp6vFknw2kKCiG/f5f45imUTecLMMgDDUzhmMNWFOahNLpJZnUrkIJ3Nx/gmnSrsEqDH5vm/9fo027piZovu/kKQv3Ptg7PPBP+Dkm1twyKGH4bPf+QV+fMKZ+PW516r1OOu2p9R6sKTkxqUtuHN9L+6vc2mM/EVhiSs9r42YVLtaOwKEppujFiMo5B+MupB/MGw5kHSiP1ov4FgKa3QLUrk8ItkM3NEcXDEHOoOvoNW7WAHSYn0Fyawfk+NTagkCyQTc8SjC2Zy2AM0U8hrRIkh8Po9GujiDsDQiVme0oF3h2eVkdKwo7pZTFLpFE4TuNC1AvYLElhaXLrFWeEKLuGGNQpaFC4m75UhsEsuyVV2uoeRadc1oeZiRp7UgEAgU8hq1NKk6A4RiXSzCn7rCPUL+reKWrUVvdD06Iw3yHXYN5+o0WM5vJ/8Q949knJErs5SFlcRisDWTrwWVoqhBAkVcLAKECrzjPZ9dZmYnsoyFAxRnObLDCrvMkBcSPAQTI1or5Dw+txXyvLdaA2Kji3hwfQb7fuhPWLjXx7DH3BmrMT0L8a2VWQ/uVJmzYH/suc+XdB2JM697Cgd/+nP41i+Pwy9OOx/HXnwTTr/hAZx3zwu4/PG1uP7FerUezHs83OTDCz1JvDxUwnLv309O7Sjmg6M/a1oOAoWjFv1tztlgf6vu8CYk8gmMlEeRK2e1g0kk5cGAWJAu30sYjGzQal9nqAeRjBX5ctQo/hPXqTxSMhpXj0M4xxRKY2UkcymkBWjGPzEb/FeJfgm71zopP3MRAhJnvFmU2cjic3TvibWLW5HWXlbWbErcrVXTxJ3vk9STs/A1XTLmTUjIleCLlRlIr1WQDcRkX4TWpzcyCEtArFBYrE9iq0bNBhM1GEildEk5V2kUTD52hW3CSbLKL9hsblAsxbRLJaKNFyr7tDxcZq5a8f8n0Tk58kxI0BkyZjSsNTqmTSPYYWVrlIWRBlFnXoQu2VrvBJbbk8gU0/J3Ap/8yRPayV+XfKNeVXr97gKZ9eBOE5pBrbn6P0fj2Gua8YOjjsGnv3kYDj/mNPzmrCtx4hV34k+3PoGLH1iCq57ZqJErsyDx8bYIXuhL4xXHKJZ4tmGFT/xV7VJSbTWqzfyMReGWVoRNzmjaa+SmsxPIYMoFzt2whlZoOHZ4tIhMOaijuivWiIGQjLyBl9DlXYKh2Gbt8h7KueR9qyYChzkzUEn7hLpOOhejsqoU2/CUykLitau7/BMiz+OcIssoF+ulmGXXEhTyA3GNBmJNouReXYewLWo0lO5LkEhnBCRd4notE6siwEhsNgCQXCM8plZIrFHzpeUx8U3oI5hSBjh4Tm+4DR2hZvSHVymXYaHkgFgZumHOZDc6Il4MJKLiuiVQ4xsSYGYVCAQGyTt7crHPb6eM+Ox6oqtijU0hNEJgMWTLe/2PXawdhSSc1ocAoRAsZhkK3WXWZxEkDP8yf8Wo1kBCUCv3+ry/WbHgvcfowqxGLd/2Cei3UGY9uPNk7gItGXj/l27Cmbcsx3996rM45CesuToPx55/jXYoOfcuo+bqOmbNl7Xjno1WzZo/2clmCyW86p7Sup0lIryBmlSahXfsCBCabppr+rSbxJL0ZYvaqaQnuFSz5rlCGOFMr4zi9QiydY8oVWdwCTr9LwlBX60uVjAmpNbVjXjegZGxjE5MYvGf0cLHAIa55b+xkVGkZITWxCLX4+DjFcCQi3BBHm2QTTer0CFK3wlrMQ+/KF5PNInNDgc6YjmDAzCTnUmgO7pERvdlsKY3GLkSEZbm2xLcXy8kXyxKZoPyFrphdMEIZrVU4n7Zk3X6nkO2zIUw0jUYt6A1MKQRMZ4zmIwr16D7xLkozNizRxbzHBzNeR9JrNmLl+BhfoQh2+3v/YwY3MOwLmZFMIXXIiDoXmk7Uxm4OIiZ0a/l8pklbiHrAhaWyrMColmsDOe91Nkn8L4v3YIF+30e7NNsAMTMr72lMuvBnSYk54sO+C4OO2UNjj7zQnz0c1/F9379e50Mdfxlt+P0Gx8xKnafWIe/vtyI21d34/6tDjzWGsYzPRksttF6GOCoFloTfRDbAWX7EY2jEN0rmnatwYrWwRJ+FT2RpYgWnRqO1bKMrBOFQg6xbFSn3tIlYePqdD4Ab7QPWzpexmCwBvGcR8h5SSzFqJaUcw4Gm8MRMIxqqas1XEYgFNT9SZ2DzqTipEa+SqMJsLRde2yJZbKnOkV5LTLi98Ipro9NCLcj0yecwCnWRUb8xCD6ogNiUcQSCIhtceEcnHuS2SxKvlbcp41o7tmMuta1aLc0ossi5NxnFUsV1eRhX2ATen0bBDQ1mrHvDdfCItbKkkrLvbCIa9WhIDTmoJCMszeXjOyi/Ouns97iStHlkXtNC6D5DAWO3PvXDFCGMJFrJnPpXk0HU+R85k4IED4PusDGNYwS+OXiVvHZMrNufi9LXLgYEW32EefXYP4BP9Tyk10EDsqsB9+AVGLTGmEw49RzMW+v/8R+HzgZJ93Ygq997zB87ns/xo+PPwu/OecqIef3aWj3Lw+RnG/BTcuMit0HG3x4vD2O5/rzeMUlo0oFFCyPXiFEzrQi1Rl1IytrVJ4yG8tjNXLzaUH4ULoSGbT5XtWGcFTGVFmeiAz6dIsYcSqVhrX40BbaKpyjCbGUW9cO4XJsJNYDga3I5iPIFVPahlTDvaPCQ0TxdXkBulMCBBoSfyCkq0+payXelumCMYeSLyWRHg7qJCp/rkXIujHfhEKewPBsf8Im3CADa8oLF61eehybXH40B8Jw5kOaee9Nr1L3iQsBca0Ttkj1J+xwB+3KpRh8qO97BY2Dr2j1sDXeJu6XS1sCMZLF6ByLNhmVMriFQcDZ9I1N47bnezPKPnO8ejDa/lxyE7rCOu9DpPo9WhASdfJBPhseNydg8fnSUzCShkaehaDk9IQpjOG+FVHs+b7TtJE5AWLo21susx58QzL9g03fcO5eOiHq44c+iAvvXY3//szn8I2fHotfnHKOUdJ+/f3GbMHHV+H6xXW4dWWnknNW7D7VlcKLQ2Vxr7ZtBxDePAqTSdUPZF3ltZFs4k03SKE+FOY+Ej60eZ6HJ96BaN6uQsUeGS6oRSgNF1GQ0T8jIMiKEpbLZQHOhPAV8dVDtcJZGlAsJ1TpE1mbWggqfaxgR0EsA4HB2iyGirP5nILOqEMxSlAMHjKpFcH8Ln/SJ0S7UobOwsJCm9ZGcZouyTLXU2e3FGe2HfW+ALrE7WqJJNETH4Yt7dHkIrPuTAhygpY/41C3kVlzcpQe73rU9i5W/mJPClmP5zRCRSvRm/QIZxlSy0GAcFovOUab8APeO95HDjam66OvZbBZ6WVSz7jf5nu0JOY50+cKYLS+Ss7dEWh8JmwdRJeNAKH7RjeLW4JqiQyAfNYk7fxO/g7yFfKQATnnP755N/ba/xDRrX3eTgAxamOmX1eSOPMW/h8s2v/7+PHZW/Hr0/+MT3z5azjsqFNw9J8uxbHiXrHH1UX3v4qrntqAG19pmibnjwk5f7Yvh5cc4xr6MwFiioYDxcVSUy43Us29Pgh5IJWmaPRfedNZatKZmkBnYDW6PC/DHqtDcsSPXC4iippHsZTVfAZDsQzPMpQ7Osm2oKLoxbCc3yKjdA3cIS65lse4HOdW54MLz0gWQ2JlumlAtJkCrxFPJuD3y4+s/JtUV4sPWf7xPHkdSUfQ6e5CVMDG7h7pYSdKk1m0BbnwTlEjUIF8q7hHm9AZscMaK2AgnhKXSUATdiE/HECk5BQ+NYRWV1DetykH6YksR5d7vSY4OfnLlmY1cEkJOJd3ZjjXdKW4ZR9dknAqLe8Zld/MXfCemlaAwkjiMs+kKj9fU6Epq3xTxjkCGlp25jOYHecxw4WaEYKC4KAwT6UcUdw58sQ1/pnnzevwfP6ehtiEDkjjcu+OuLhZl8GYu+vals568HXKDEDMojIWJrIZw4EfPBUn3VSPL37jW/jK93+OHx1/Bn795+txsrhX53I67SPLdULUreJe3b2xX9wrj5LzFwaL4l5NbgeKarAoQOQB6IMQQsdRSB+CAMLc15srD8KSDKAn9IrOF2eiLVvwK+colIooFoua4BsrD6NYyGi4N5dPolxIKzH3xdvFKmSRKQivmBxTa0O+QeJNq8FkIMtK9PiU0W19TNy2SDReaaogoBGroY2sSdz5ITnIyl9Owur2dyFc7kVarJM7kkZPLG1YCn8L+iIsIfEKUEoY8vph8wXhsA/C6bLCFgiiM5pBUzCD5lAKLf5WAVWNzqdvta1Gr3+zFjBabF3oHbBjYNCOriGbrqvuEJAw18ElEcg3OKrraF0ZZHj/uM+QK6OHlOp7z30tU+dWSLVx3DiHQjd4NnDQGhAImpuqFC7yNYMBFHISgpBuFq+vnwmOozY8gmjJuH/3rkljnw+eoc2vd1God9aDb0BmEjhGcpBdEj+D//ja7Tjt+sX42Kc/h2/+/Lf4+ann4ZgL/4o/sM/VXYtx6eNrNPdB94rTaR9uCuBpcYRftI7oTTdke3BwX90sGbk4mq0OmC00aZoN82/6sLUyGnbH3GIJtoj/HxfXYg2ShYC6UMPDw5rIo5TLRW2RUy4JWc9nEMpkkcy4URzOGk0RhIgz70HXidaGU0RZk8Ulk8dpfcaFqI8z1Duq78cScV39aUQ/M6YAUVARHOqeTQiw8ujw9aibxuuHM0Ud7S1pUeKoT35nAiPjeZRGMvAkYhjwR5HLphGOeYXksz9vEkn5zfy7kmUHAsludPZu0gAAo3UMJ/cOtYmVSWCQy74JMNjVhOBgkpCjOCcw8V7x/lGpqZQECKtrXxGXlveabi73qbimmM+CUSduq48TNGplqiJYppi9tUz31xRarxo5zmfK7+J16CEQROsDo7BnGTqfgkX45X9+427Rrc+pC7+9Dr4lMuvBNy1M6CzY79v47ikbcew5V2iXxMN/fQp+debFOPHSW7Uw8YIHXsUVT62fdq/+VmvkPp7rzeEVu2lujZvFLTmIOVJxy9FG/Vx5sKzlYbSEcz82OrJo6ndhfXAYDZ48Gtvq4fC2yWif0XILEnBajJJYC1oShmbZ9SOfS2JceEhYlL47GkIyZ1cFT6VEQT0u9ZBoAZgVJ6gYBaPyk1vQg+IIZ+xvg9U6gEQiJZ+f1ACAWg8IQMR8cJ9WhKBxRcUqhKMVazMm5H0EVm9IAZZORZFMJ5QX9Q30oL27F01WNzo8YbhyeeEwFp3yy6UXuEJWm3WjuGDrhJM0gMWMnE04FLKI2xaCLVnQcDIbNNDd6i9x9KbSVpNtw4osE+u8HQj0GZjPYcfXxj5D8ebAZQxeBth2FFoKAsRoNCffR8tFkYGNDe14zAQlwULgcMuwM4TjiSHBj/+0EfP3/542OZ9N93ayzHrwdckeOx4TCzJ30fux53t+jWOubsZ3fvpTfOmbP8SPjj0dvxGwnHzl3VpacuFDRrcSda82DBrzzTsS6l4tcU5OA4FblkTTL+XNNx8Uj/OBskmAUThHDiKjjm8EtX0ubGxoRfugE/2uIURzbnGR8hiMbEYi5VHFJukmSEqlgu4XSyk9PjxaFm7ggzdlQSDWjWjSIefldJQPpUTxC06MiJWgNSGfYG2iknT5j3pQAoB8vqghYcGBWhkl6rosgsFd6KbRnLBkPprKiltmFD4OiOvUMeCEy+OEwyXkPeQRoBbFNcyjNzWCulBE3EUh3ZF16Aot17/HlWpFl6MWVr/hQg76xWr0N6Hf1ot+vxD8Pit6bG4FBktGOK+EZR4G3zBJNgeaKXWPTGtAvvFaQOz42tw3BjAOWgSH8Ty2BweFnIOhYg3xyrPjbzAJPwMrDBKs5G+Qaxk8xOCZzJmMCsnj2HLVU27toTVv7w9ur3dvjcx68HXJHtWvyUXmzNVVhN793+fhggfb8Nmvfg3f+uGR+MUpZ+F3F9yA0659QJODlz62Ete9sBW3rzCm1Fa7V0tdxohkgsS88dyaD4rvcbTjTaZ7ZcbbWUbNhmY81ujNodvhQCSZUXdlKLZJSLVNeUemEFJuUSpmkMkFEE+7MCJKTYuSyFl1hSnuF8oZdalSxaB2fbfHarRRAkk5V7c1llwjFPgAja3XI1YgJtog/zjrkNEt/uP5BJJaGoyjKCBjgaO+JyCKp3MoynXVwnBLEE2MIjzMGrI8uvw22MM96BeXkVn0vsRy1He9ArvfmL/OOe5Ngx1odwpxT5QhLjzE04F4KgjID2bJO5N0W1QpOaDwnokVkdfmvWaE0OQCM6Aw399e9By6WSJ8X8Pv8nnjmWxvnSgECGuyTJ7DY4ZbbACVFma1XMP8Ps2RyLUInMSYcW+XdRSw/0cuwMJ9Pr6dHr5FMuvB1ycVgj4t8/bS2qtP/PAhnHXdI5XK3WNw1BkX4PhLblT3Smuvntyglbv3ru/BQ7V2PNYaxLOWLF62j0y7U8ox5IaRjPOhVVsQPhRNGFZu9IwYD4YPin5tfyyuFoH8gFEsX6xffPkEysM55IoBFIpJ4R0eIexxOWdcE3qx9JC4XxGkCx7Eck4M+ZvRYl+BNU1Po2lgCSx9PSjIyE4uw0JFkn3uG8pvKDz/S+FCOTo1V5TUXMdwdKKgZS6Mmhn/DEJf/U+TjPIhumb8NyLnk28EMjaj/IWdWAQo/YEGpPM+eS8oLpkP7oQAuTClTawtgQi6nX60Dwyi0+HUcv/14oZWWw5V1or1MN0jyvR93kFmgLJNI1YmmednGdWaufaMEIhUcrpXJOYGMHcU+S3628hjxG0Tr5bgYKMI5rZ84hbyJg0JwD/ynfvEhf+ShnurdW8Pbs2AUdXxNyGzHnx9skM0Yc4C8o9v4rBTVuHnvz8Xn/jiITj8tydr76uTr7gDZ938OC66/2Vc+fQm/HVJM+5d14tH6l14qjOKF/pzWO6eVFDoHAHxP81wIoUjlN488Xn5kAicfwQQ+rBdybSue86by/UHA1GLrjs4MjaK4bKQYHGtsoWohnVLw0mE04NIy35IRmxXxCnk1wF7pB293s3ocm+ALViHfnsPEvGozgPxer0IR0URLT0Ih8Po7u7WcnhyD6eTWfoSbA4BXCmPeIL8wotI1A9/yC3WSb47k6oAgXVdowowwxBVol7yDv9lhr2aIfcke5EcDqPHuQ4N/cs0RMzGEaFMRLiWHe09HcK7OtEksqm2ETWtPajvd2PLUETD3uboTkU2XCE5JveW90vvMfMdvM8y+FDxTcuyPTgMYDDvxM/wmRBUhrtkfIfxPcYzMQEy7V7NAhATWOb1+B0ErRF0mYIjT6s6gayMKYefvlp4yGFaqWFETo0gUTVAdpLMevANiPzAClDmLfw3LHrXz3HMFY343i+Oxhe//X385Pgzlaz/4RpjYhS7JV7z3FbcvLwd920a0D67bAbHjiUEhXmzprdyQ3nDefP4Pi0Hha/NG7yj8DP0azvibMnpUcWjq+QN9qn7wyhWqZgXK5LQfATPYbsca9gCW8AvQAgLWALaHidWGBIF7BSgdCKQ6kVuNK7Zcloc8hAqMzlEqVBEKsn10ScNLhMLYrg0Ar8/iHA8JbxgAB6vkOrAENo6muGPezA42K8VxfzHSmFasNEpubaQm3A6K1ZsFLmRHPx5sRhJzixcj8FQAza0PadThEnSGTIeiCbhKeR0GTYfp9SKJrXIaNsgsllGbt4L3i/NG5G3VZSUx4wBx1BKimlJeI8JFipq9fvGvlxL++4aPIJ5DEaeOLjNgGXmeZgAIahmAwiFx/l7+P0KRvESVlfaBLFEhUs+sK7tnLv6tMGcMUeE4Ng+ijqjl29aZj34xoQ/TIQVl/v9xx9wwjVb8LmvfwOHHP5zzZ6fcOG1OP26+/Fn4R+XP7oa171Yg1uEfzywdQhPtwXxnCWJV2zl7UYevWkVkEy/lptIq2GSvOr3qsUAiJEoTBYjRuZ8PIugWJBsUgi6kPOC8I88OUg2jnjGAW9sEINeH0KizLQqeflcIN2FLttG9Puaxd2ywZ/qlhG7JLwmC2/CWH88lpNrDZOEi5bL6M+56zP/xDrIMWbqRyaN0vpMKYLMiFw761Gg6QnyEeZM2A+Y2fV0KYT+SB8Ggh50eOoFAC2wxmrRG1yFLtcadDiW6bJxVlcfGpub0N7Vp5Gulq4u1De1o9Md1ioCKqZxD6lolSSgvOa9061YDg46BAItsqng5jGCRHmJKC3Js2lFCCojpGtcm9elcpsDl8kJze/j7zDzH9UAMX8LP2N+nt9lgFKuX7kOI1+FMqsSykbZyYfOwPy9/0t0r2I9zBzc7gaQ6sIxnRy118fwgS9ehz/etAof/ezn8d1f/BZHnHYOfn/JDTjzRs79eBFXPbEON7xcp8WJD2+14dmOEF4azAk5H9YRw7x5puw4Gm0vrz2fwoewxVfSMgt/NgCf1wmrvQ+JjNdIFOazAoIk8vm81lklc3EMyDmJTFrfZ9ac022DGQvW1L+Axv7VyA8XxMoM6ujO7O7o2BRSwkUYiQrL54qMjgmxJ+9gRp6uEt0CWhmS+eGxDNhUOpgd0jCtN201eAhJu4CK57B0heu2c25KQVwpFlQyyWlPNGu9Vq3lVXQKQOzxep2n4gr2i8vXhdYhh4gLjoT8HYkRNEaNUK7pRlERdVDR17QMDJOb97YSJRSeR3fLBJIqrGdCAWMqrAGOGZeLYgZRTHmt22tYEOY/FCBV7/N3mcAwwUEXywCkwY30t8vfEsyNYVys6caBEbz7s9diwT6fxJy5Vc3lKnq4E2XWg69TZhCsCcK9P4tP/fgRnHnt4zj4U1/A9391Ao4+83ycesXNOOuWR3H+/a/gyifXT8/9eLTWoYvgsKXPCu+YjibVgODNqd6vfm3I3wdIrTuNhtYO1DdsRf9AJyLi8ujswEpyMJcThc2JFRCuESbBTdlV+RnxYvSK1oUJQoZ2A+keIcgBcWcakCn4NSHIDutUauYxmAgkr6EbwH2DmMv+thEtVBwTkl0c8WlLHy6FoJW5qSbEc0bz6fxYSixLQaxRUCNt+dGYEPoC4qUBY/ZhogEtfSvF9TMmWnG9EjaBi49YhZAPoikQ047tnDfemmZewbg3Wo0rbo3eE7l35r2lghMg3KcVoMtEXkFlNe6pWBxRZLUkwkuovNUcxBDD1TKthgZU9BozSm0+DyYlGcWaKQ0St7lSLsTPEmTV1zd5CI/xWjyH678z6shZkZ/40ZOYt++Xsce8vXfQx4rsHEsy68E3LHvM3R8L9j0EXzt+KX552sX42Be/hsN/cyKOOetinHLl7Tj71sdw0UNLcdUz63HzklZt6/NYoweLe+JYYi9hld9YcMW8qW9WmDjsSI6jJxBHQ1cPBh39OoprZrxcQjEr7lUxJcdyKI2IgpaD6uYw250rhbWsnRGmfDkiwGCeoUlbepIrMFRMEBAUBJHyEQ37GvH6shD14ihdr5i+RwLOpg7ZUeE2xT7hE0L4E2sRL7i1NsuXsonbFUBq2K3ncL0PLjnNORuc0NXSu1YsXJ0C1Z+t6oMl12Jf3oGYF4OiQJwiy2pZjtSaPFUlNZTdjFjRSnCEptVgeQ4txirvuIJhtbpMlfsnn6EF4nHTiphWw1Rkfe2eUAWmO0TF5nVnA8h0glABUvktev1K8EWuZ2bSq7+D5/BcLr46IpSP06gOO2015u77Lcydf+Br9XCH129CZj34OqSKHInMZ4HiAd/FLy5uwk9P+CM+fsh38JPjTsGxZ1+KU6++V+uvOPf82ueZIOzUyVEKkN6E9ts1W4qawhtcfZNfvxhVqkNyRzsz47B4PMjkfSIJVVijxy5LTLI6pZYTqDjakxDkh7NIlvxaEkIu4kkNioVpEsuSwIR81kgUGpEms96KAGGLUn5+ZGxYXCBx54ajChLmURIll1oQtg3lhCy28BmeGEFSgMrCR3Zx5PcRsHEuiSDf50s1op/rmAS64Iy1K0DYuT2V8ypY6bJlh0PiWrmx0RXRchIu6cxckKHgRt5B80OyZU9cI8chI78ooY7+ch63ykOo3BUF5v3jM9HnIPt8z7QahshrKnJFmY1CRSOyteOzm7EgM9fn+zyXlozXMwAyAxLzdyqQ5Xy6aaG8kVM6/pp6zD/gcC2K3ZGo70YAEakyZYwqLHrXL3HGHb348dG/wae+9UMcceIZ+N2fLsKpV92Bc+58VhOERs/dTvxtsxVPtvjxSn8aq9zDrxl13qxw9GtKTGIwT6AY64hHc05ks1Ed+elmMSRLlyudDQkB79TyDVblUvkZPi2USNYzStpZmMjGcBNj28QVMzPjQiHkPyyPZ92WUd4OtT60ANlCXNw4h3IXf7pNmyqwJWic6xaOCTCFAzEnQ/CwQRytGLlHqDigJSNdQ1th9cjn4t06j52AYDM7rlTF5Q24LjutIueRNAYC6M9PqAWh9eQ9MBfr5H2tLiMxCw3JJwgUVWrefxHj/hlKqSN8Rap5yIwCUwz3y3S1Xhs8MdZjpxjAM46b1qP6ui87GFWrAMYlxxgIIC8lsOS3Wdzyw4SzXfjQAOa/62gZlD9YAcT2g/VOklkPvj5RgBg/bt6eH8C+7ztOF8T5xuE/xBe//wscfcpZOOn8q3DsRTfi3Lue1fkfN7xYq80Z/rbFrhEsLsJZvXzzzEN6c0KA0KxzPjr7ynJ9Qnd8UEh4QsO86WLe4BAy8o8KWWadljfRrlNUw3m7WJWQLkLj8jthsXSrtaAoCEQIDO7rjEKdGFUpJRFXqjTKIkK3kuxQ1gNPcki4A7PdRqf10mhUZyVmckkUxul2sat7F3JlP7IlnzZlYH1Vj2MzLH4h5ZH1St5jJY/+LiYK2QiCAOHaJXUeuzZiYPm6ucA/76OO2FRuUV5zlDaVkUJXi5xh+/s2AxQqPD9rkmd+xnR/ZgMI3bG/BxDmQLYDiJxnJoD5eVqOlwUU5nV5jESdFo7nb3Dl0OmJgZVtdy51Y6/3nYT5nKe+o07uPJn14BsQYxL9/L0/jIM+chbOvG0TPv2lr+NrPzkavzr1HJx08fX4/RV3aQ7kqidWaedELmnA+R9PtxtLqa3xjk7fuJ0FEAqThW1CWrnMGMUnbk8+HxfFNKJVGl4dM5Sb1btc6sCftGh3k3BG3Blxr/LFnIaCx8ZLCgBaDX7GzHYzSkWAaOdFEe2uOJbUxW3oTrFptCtjLLHgz/RpA4iy8Axal1QhpEu8UfnJR7Li6gVSLWjsW2q4VtEGnQYcy1vlt3CND+EcWQFKwaEg5KI4A0m/thPluuhch5Hk1+RyHKU5QldHnqjQhhgjOM+j+2KWfFQLwWMqsPHZ2YXnTANEvnP7Z/j3AUL3SYEgnyc4KLye+Xt5XRNwG3rdur7hlNzjZ2oj2P/DZ2H+Xv+t+je7Xr5pmfXgG5M5e2D+Ph/F+z9zBU68+gV89LNfwDd/8TscedoFOOEvN+EPf31YS0yuenqdVvDesbZPu7YTIFwt6jX8YyeARK8hD4vkjjPTOlJT8KVDWl6SKA1jpCyKLG6WcgfRepZ/kG9wIhVLTOhysfUMj8cLQ8oPmOcwiLzRQZEg4T5BY1oSzhPhnHa6ZAVGrgrG+iDMhGs39gLdo4heOz3sV2JO5Wc7osSIG7ZAGywOIeS5HuEdnWhoakRzcyuWr1yCmvpNCCRtyI0HlINYZd+WH0ZYXHPWWlEROUeGf7s5QlPZqIAzCm68ZtSKfICEnvyAIOF9M8E1Y3mMz20PEsMVMl9zSyAScK8FiMFBzOubwpA+XTd+1rAexm/ltfm9S+W3LxHAmXxmo6ckfGoCsUwIKy0JHPTxv8ig/AnxYt6yOeqzHnzdoi1Y9pgvAPkYPvy1m3HcXx7X/lffPuJ4HHnGxTj+L7fgjJse0xITAkRDvOv6BSAePNkRw0uDBSV31TdvZwizx/SlWf/DRgFsNeNJpZBIBuHKDsNfGBM3ZQTDAhKjwVtJOQYVnI2oS+M5cWeG1Q1jvRMLBxUgU8b8Dv5Tgq6ul8FF2PmEq9jGUzKq26waYu7t64I/PqDLFDAjzslMQQEqeQyTgrQgsZxdF7uhq9XjqhXL0SxuVSusjjb4Yr1akGj3twnxHxL+4UZUzhtke9CiEFf5WQ6xHuw7rCvPitLx768mvyaR5msqpOHGGBaGFdG8R5qjEMVWhZStaT3M0bxaqoFhHKtExuQ7/1mAEMBmBGvm2kbI1/gNBtjIoTTxyN8qnCqaiaLeHsX7vngj5u/7uelciCE71ZrMevANCVcDmr/3p3Dwd+7A8Rffj4OZJPzViTjqj3/BiZfdpv2vCJBrnt2gvXfvWT+oDRqe6oxj8UARy1xGqJA3hjdvZ4R7Gb6k28AoTkOMbWSgZRiMYjHawzY2cbEk5BH5nABHlJbJwbxwlGK+oAWIuUJWiTxJOEvYCYZR2ScYFBiCE1oR/iMfID8QmIB1WdFoHJb+TvQOdMAZsGhIlhOadBXaQlI5CMO1uhaIuFgEjhHlsiiQzAVAdc2QMpdNMxbJYTd3Z1o4TXFc55ZzSYLBvOFGmi1zqFjTRLwiVD5TEc3XpotlhIANK87PUqjsMwCYXarfN90sk/BXPwuCgwCsPkYA6Heo5TByMbwG3bTqc7QpBy0IPy8DgC0WRas3jA9/8x4ByBenu7+/BTLrwdcle5hbAciCfT6LT/7gARx34d34789/GYce/XsFyEmX364A+ctDSyrNqdtw70ajgwkbNCweHNZRhP7obKPPGxWDoBoAYeKMc69tOfbYLcOZHdWmBZGiEY3i3Ay29kllI0ilBChC4MfHjP675CC0FJwvMiFuFDmHZr/pVwmJMSJXxozCsUlW6bLhdRmTOsknjNSIcIbioC5pwG7snIcezUSUV3A5NJJzrgIVK9v1vPRwUMGiK+GWBjViRZBw4U6Cqyfi0cYO7EZiK09o9/b+/CSa5G+sl5GaSsTRf0aRX2sBTFEfX+559X3ja7UedHFm+SzBZYZiTSFQKNU8pPqaswHEDADwO6ZdK7nGzGcJDJGKG1grf/AWdwEdwTBa3R58/PCHMU8AMnfubMnCnWJJZj34umS6R6qgeMHen8MXf/GEAOR2fPQLh+DQX5+KX/3xsgpBf0qThNc8b9Rg3bvBqnNAtIMJ54BUbq45+uwskPA6xvLFokBiQXrTEzrvwpnOa2dz9l0iQKjcbOlDV4ckmG1GtVP7lHCTkTGNNtEloutFcPAf8aGRKxHyDy2mE/eKsw4JHIZrqdDGirY92u6HS0mTd3BtQB6jVdEVn4Sb0GoQMCT3BEokN6ihXC7ISTcsXuoD11lnQSJnCNJyDOW3wZ7bhnZxr1jrNBPB2l55p5VZrIrx2lBwLeeo3HfzfpmKS/BsDxBDkckVKDPHDXm9AOF5xnfwdxjfowMl3TTTCul1jBxIrS2AzfYkWuxONLuD+MxPnsD8/b6CefP2maXUZDcBiCFzMGfOXpi3zxfwxV89i5MuulWz6N//zWk46k+X6izCP99mJgm34Lbl5iQp33Zz0JnEohWh2Veg0A+tSPWN/WeFFsTMAVBhOCGHvaG8pTGtlG0M5TGYEu4xajRj4MSpoChgX2QNwtmBaX7BOqn8cA79noCWlevMQwENLYdRli5AEjAxJMzoFa0IcynpEa/yDloD5j+46m2k1Csk3SFcyFjXg+/ROqi10EU8uzVHwlVfC6MpjIwZmX7mVELFVgyl7Gr52CaUyxgYYgQhGNI2u6Uzb6AZc7UCpks1I6ZCqvslCknCbt57KjkJcjU3oMUww7AvOSfBnmXc5zETcNUA4f3e7jnIb6Ml198mx/h8TSDye0w3y/ydnNGoIBHroYCX7QZHEmt9o2jzp9EWiOPLRz6PBft/DXPm7zeLTu4UmfXgGxADIPQHv3TUczjuvBvw8S99HYf/9g846pzLtYM71x5kFxNjFuFMkwZ2UHxpyOi/yxts+rGMblCxzRDfGxPDd1WLJFuOQv25UXWzEoUyXOkSeqJF5MZGlTcUy1G4ky3aeM2fbjKm5Y6kMDHGueUFeOJhuIRXeCIx2IJxOPxRpMUC0eXi+uTZkrhoQqBZdzU6Ja7ZuBeOQAd6nA3wRNvlc90ivXIdoyqYrhXXDqQl8WbkeM4Bb1KsTEYsR9mNTNGLdN6meRMCjInCoZRb2/YYSzebwlVp6V4Zfy8jPcbfbww0Oyb4theCwFBS3nvK9hbGIPkEw4uOKZWXnNumpdqSKEBEZotkkQvSgpihZL5P4bPmd5pg5HfxOryGPjcRAkw5qRAu8qRGXwb98ZLo2gtvF4CIq0WA7PNlfPXo53HsudfiE1/+Bg7/3ekCkCtx8tUGQNiD9/rFNdNdTHRZZwHIy7ax6RvMB2OCxLxB5k1+vUJlMUcsLZKTm9ucGIczU9ZykUCqjF6xKO5cSSxCFvG8S9ffsCdqVXFZIsK8CMtGxkbGkc2njIYKyZQChlW8Fi8z8E4Z/Y0OJXSrygKq4fGkRsQ6LG3o7begd9AK66ADlu4e9Fo6jKXOYlY0+ZzoT2cwKC5fd1z863gRQ/J7+hMBzZ1wEU9bqh/xsnCUbLfRJG54UpdF40q0XLqZlQIM8bJbOhXUzIKbikVF3JFPmPeaW1NBqy0GhcpqgAB4wTmlstgJlRcctB6GBTGtkXktPjsCk/mYmedhdCnhIGU+G1oFWi0TlMZvMrZm8IDP3yh557WMQbM+MgxLclIBMn+/QyoAeUtyIbMefEPCqkoC5JBfiwW54HrDgghAuPb5768yVq/VJtUvzgaQ8e0eDG+QxujfBDgoapYrANHXAhA+IBJ0AiSRy6ErPY7O1JjwAC6b5oErvhV9oeW6hkehFNHaK7YZ3TY+poQ9m00rUJjUYzlJMiuEnAWL4yUN8ao1mRDATUTF6xrGoC+E/swIXLkRBMpjOhV2MJEVQIWEj0TQ6I8rF9L54+I2ucQ6aNdDUXhrJqOLbNoLw3CkBpSkM6ply6QqLpZhQdhQekB4CJusqXIJIIy/mX+7ARQq7PYA4H7FLRKhkvK16eJQCADDpdo2AxDXNgXISwqOGYBQeC1eh2BUHiIAMQYpQ3jvTYBQCFzyDeO7DaGbxd9p8hCCjS6gEZEUsItHwdXCGuQ6X/zV828vgMzb+0v48q+exgkX3YRPfNEACC0IF+j8853PbgcQlpn8PYBQeLN5A82baUr1Df9nxPBhuT8zInGk9YrCsllcfzSn+RGuPMXqW4ZhtQO8WBE2j+PSaxqhEmUnr2BJCoscQxmjMthsysDyB57HPMm2qTH5bFEAkIOzMAr38AT8AgD2wWXrHfbBdRTleHYMfelRtMcKuhyaLvAj7hIX8mc7UAKGC9lway8IiHMusVBeAZhYHXEV2SmR7hVDvD2pSc31kINQiWb8fWOAMAFiujAmQFShK8LjVEYK36P7RL5BkFRLtas1k9wznhuvQ6vA71MP4B8AhDyFQCIIzGfOz/M1r2EcN34zz+NnaFn4t23yjeNLRz5TBZDZ9fJNyqwH35hUolif/9ljOO6i2/DJL31tVoCYLhYB8mhLyGjUMAtAKMpDphXceNCvGyAME8qDqrYknGnHHEggV0QgkUZ7fAod2SnNkbCwcCC0DtbYVp2Cy9J4knTO+WDTaka72CwukbVrWUlZiHxeRniN+PLftnEMRNNojRgrN7HVDtfWIDjYB1dXbBKl55JmuhSagGVQ+AS7HDbFjQbSSrxL4kaxRagCRTiHvA7ngyiM+MXNcqk7RhDxs93ZbejKAO3yWdNiGH/rDDhMZTPvrQESigESvp5NSMZNC6Ei59JqEDg7chBei9bIIPuvdY/N1j7m6+0BYvw2BYhcg8Lv1+tWIm88j1tt9SR//Od+/gQW7vfVvxPm3Sky68F/Xirz0DXUW8mDfOLw+3H8JXdXmjWQpAtAKiTdBIhJ0mcAYnCQHYU3acaKvDGAcN07RnS0klQrXCc1azwkCsdOGbF8Dq3xUXRyeWgZlbOltFoPrhMykNikoVZGs1ipOz4m3EVAwQbXuWJMM+8M7bIhtbb2mdomnx9BkxB/gsEloGD/WxJqt4BFF6cZ4fJnxnEue8ZCSib4CA7O2WYDNeYy2J5nSM4hsEICBEbfnOmsfH9JLJ0fHnG/+D5DvVzSWQyxgoR/J++RObBwuyM4KNPKN4tUv1dtHcx9bqujWOb7JkA4ys8GEPLAaoDQqtPacXZjNUAo5mv+FiY8Datm6MTGqHyPbQQf//7fsGDfryj/fY1u7hyZ9eA/L5VS9z24rwD5NP77e/fhpMvux8e/8FUN8x591hUKkHNvNwDCSt47VnbNAhCOUNuPRhQmrIwb/cYAYgLMCPcKUZTRh9WhHG2t2WFVbFuihKakjN6pYUQKBaTEtbKEVqAz9KJGtZgP0Xnm8n92YdRuJAISbTg3nNSwb7EkWowJIdY55Rwc/Q3lp+KKCyTK25OdRK9saSW4Vh9BYC5q2Sig4MI0DEWbv5nnckEbchI2m3ZkskgUgiiPxZDIx9EdzcCezKI/kkKjO6RWy1RAMytuJAyNkX/mvorCTb8WqQKEmX3fXvENMa2IaVW2B4jxvAhGAxwzHNKwaLRsYsl3sCDkKSZA1EpUhL9vxwgZt5zQRYAsdQAf+eYdWCi8d/cFyLQwzDtPS03+85CbcMJfHscnvvQVTRQSICdfeadakMse4VIHNbhrTTseqWEvrLACZPG0BTFuErfmA+QUztm4yOsTft64BhWH7latKGVXfATJYhnWuFgR8eE5kg9kxxEtRmGNbBCle1bncOSGE9rVnQtzsrCRUS0uncDq33TWr9EqZuc5izCaLyiv4KpNpttDjsN9Xp+g4OsW2WefKl2URoBhiNH1nMrEQj7O4TZXpaUl0VVpk3G1IGxlVFffjI0bN2PlulXY3NiCtfaU8TdWLAiFnQq3v6fGPd4OIHJsZt8QUyHNrSkmKSeQCBDumy4a3ydASK6Ne02AzDw7gpc1WeZgpxZEni1dQBJ7tR4KaLk2cy2V7zEsyKS6Wjx/k9yzV6xj+NAX/6o9oOfswVqsedsP2DtHZj34BoTl7ntg7l4H4/9+5jKccvVifOorh+B7R51UyaTfYbT7eXilAuTO1W0KkGc7A3h5II2lzlG9sdWm1XyYZkRkR3P9ZoQ+LEOOHKGHcmUh5jk0R8paq8XR3psvqxXp8L0Ia3Qj0mWfUZ9VyggIOMGJSyektOLXGW8ysuvyb3JiBOliUdyhcV3noztrtM3kyLnSM6KJPK4xvtE7hk2iJCuEsa/QiWITajk2hrg0MjmToVR0BclFCI6gXI9WxJ4bFgCHEY8F0eHwq9vGYkWS//rYBLii75rAmA4C3L5sK2g712lQcDuLpTZfm4rOc6tBxH0qrAJk+rjxzMznxs9y9GcEapqkVz03AsSwcBVvoAIOipJy+Syjl/p9/J6KWzWzL+ATl2yLDCxPtpfxnk9dqgWyc/ZYoDq4WwOE23l7/TsOOvhP+OOtG3TJg+8ceYIut0aAnHXbk9OJwjtWtOBRAchz7ZxNmFLl4WjH0YH+q3nDedPMm23e5Ncn5kg1IyaB5YNjiXev8ACuCW6P+bU1PzPS5AfBXBxdAhCChAk+WgtyEJaS0N1iX99iMQlfsgMpARBDvKzNihcntRCSJSAt4rZRIZZ5xvGcNY/FQxk82xvHi0N5PNuXwUuivE/1JEXkmDWDpy0pPD2Qx/NDuWkr0CcgEz3XruzkNb4xcb0SGa1HsqRG4BybEFcrhTX9bmyy+rG604LFzQ7cv74TT9U7tSnfM93JCg+pKL7cU5XKa0PZZ8QAiQkc43MUKmr1efp85HlRsU0LoCCR7+Iz4/Osdomr8yDmM6C1qQbINEAJRk8FyOr2Ge4bP7c1uQ13b8jigP88S1v/7FhmskfV/puUWQ++AREXS9A7d6/3Y5/3nYBz/9aNb//ox7rkAcvdzWJF1mKx1IQAeWSrFc+2BvASAeIqT480bDWpo4q4GKb55XumYr+5zPprhYSYvbN6olFxeaZQK0Se3GEoNwKHKP9my5N4dsnf0N3bilDYBwd7/YaiSKSiyAjfiKe9GIo1CjcxXC3mOxhdomtFi2GWamsHDy4SIwydzSmWOso6B0aVQ9yHNQIijvo8ZiTYJvVzXFGWpJ5Np8lFuNCmFikKiJkopOVo8wSxqrkLNQ6xKsE06jw5bHCnsUG+j0sZEAwvVxTP5BhU5tnAMSPVAKkGhvHa7IDC0DGvpWAR4XEqOq3+jgAxOchMlK0CEjmPnzUHRn7P9PJ78nsJGn4P+RQrlWsz23DtS1HRtZN0mb/tdLFiRXaSzHrwdchMcoao5co/iw46Aqfc3Imf/O4YfO2HR+DI0y7UJQ+4ohSXe2Y17x0rxMUSgDzd7BMXawYgCgS5Cby5CoyKVTHBozdzJwHEeHBGCJjrGWpTAbEg5CZcrrg/Jz5/JoYe/zK0W5di0NuISMKFWCSOWCwGr9+HUEQUsqcWTbaXkRn1aZMHR2EYYgTQIu7a+gh/b6XpAf8+bkVUUWjd5G/j38cSdQKKyT66fY3iY5u/jc3v2I3dWmLUS6ybWJR+4UlMEDrzclysCJOPjtwEerMj6trZxIr1yjlNMWMpbP69HH2paCYwDDdrhvPNAKDyvvla3uf+9q6VXEeeE4MdJmB4fQKdloT7OiC8BiCsyaqUjZjPgc9UzqPy83M7/hYCmseN0hMTIFP48wN27PXuo3Wa93Y6ubsChDJ3wXuwYP/D8fPzt+LnJ/0RX/7+T3HkqecLab8Ff7r5EV1yjUseECAPbxlUgLzYl8RK54hhMVT5OWIYDcMIEt4882ZSXg9AePNnO07RhyQPy1Remv46AUltZEJL4xlpYnjWn7VhKLJFE4isj2K4l2uks4UPl5Lmcgr9oXW6uL871aFzNEjIG6PCc6Lm9xlKwck+3Crw5e8gUMhJesUdI6ln+Qiz4kxkskXnRvk9G+T3MATMNqItsTFdI6ShowuNnT1o6ehGc2sL2nq6NK9CrmKuO9idnECdkJO6yKi6jrReVGgChMpuKj7FdGsMMZSUI/b2x43z+HnTpTKVmcepxObz0sGNij/LszLBwQGC58wApOJmyXX4HabwGHXDfE78bJ0MEsdf3ayr3s5b+N7tdHA3A4hYjor/p9s5+2nx2LdPWoGj/nQlPv/t7+MXv/8zTrz4RvzxpodxwX0v4sqnN+DmpU14YHM/HqtzakXvcnuFg8gN5U1YKm4GTTUfgo5ClRtZfaPfrEw/qAoAaT24xPFm+R1s0d8khJcZbW8+DGtkHWyRJoSzVm0bxMpf5kbYO4sd4FmZOzyaQLyQ1qw2o1RcgppWSX971SjKv5HKSvBwCrBmzEW5meuggjN3wgYTGuXi/A4h+fXRcbTHk2h2ODHodCKUFEm7EMikYBMLMlSYQF9uHAF1wYzrEKQMITfGRuWzAvrQCBrikwZwBZhsEk7FVgIsijhjHQyAUDnN9wkoBYHI9FotCpDtwWMmdvnMqp/bjs+OA4MxP914zftDgJhC3mlyT0MnjJC1XkcGNXbt//5pyzF/32/oYk3b6eTuBpDqH8SMJqdAfvInT+CM6x7Hp7/+XW1cffyFN+CMv96P8+9djCue2qhz0u/f1IeHG+y4db0Fz4tfwZvBG0UTukJurmlaecPVuqhfPnOT/znhKGVWtr5WdJSW6/NhMbu+NTqmPvIWWhZ5GFR2azoKR2KLNk7wJlt0zggnUnE5AhY3BvJ9Wrc1PpFGdnREFHVUQ7kM37L1p7pS/B2yT6Uhr+BSyEwS0mqQW5BTsLaKfIJ5Dyo8LRgtR1tiDINJK7jkmqNQgiVZgE3AESx4EUzZYfUNoqG7Gc/XNWJJhxUdAog2AQez6/wN9ckpNMuWc0U605Oa3WcTCyYkaaHoFpnWgrVVL4qwEJHyvH0bnrVPqfC1Wbi4PaAMcFAIGrrHKvK3Vt9rtZyVgYIAZdSO+3pfBATVnNPkL9WfN89dz0FHvufTP3lUa/9eU2ayewLEDLHN04VN3v+5a3DaDcvx+W98Cz885g845ryrcca19+Pce57D5U+sNtYFWdeLJxuceLTFh7vqHHisO643ga4OIxtqyj3iv4sCmzfIHPVfr+w4gpnCB8UlAUimqUB8aPwOjnAUdhRv9LWjP7wGnnibrmhbHmFHkrwukcCtK1kPi18sjLMP0ZRwlmhRS885WtMqmW0/14Rl5Ja/xSr8hJEojvQKDNkSHKzPYjkJLYpbwEMl5vfXhnJoiOW1Q2RvNq8uVH9WLFxiEuutfnR5vWgcGECPrQV2XzessQS6EgXUhsuoFYAxv9IuIGuIjGGrKGFPoohOuSbDwW3pMbVQVPIXBQDP2oEnRZ62GTkOKioHKgLDlOfkPCbweJzPyCD/YnUqr83oGPep+LyffKa817wPfBYcNIywNo8Zrlb1czFFgxvK4eh+GwPdRgH2kx3jeP8Xrhdd+yT2mMMQr6mHVRGsnQOUWQ++PjEBUnk9b88PYb9/PwMnXbMBX/nO93HYb07Ab866EqdddS/OuesZ7exOgNy1uhuPiAV5qTuGxZYUHu2K4fmhgrYg5U2lGf97I8kbEUPxtwcbyzIY6qXi8mFRoXX9CgWljODiZvWEa8R6bNQJVKmSV9vycI4Ia7SGR9PiVnm1mUJj8ya0tregt7cfg1YbOu1+VUJeiys6UUnqRSk08TcqrpsAg4k/RzGNoUwM/lwcXrmWJWIXsl7SDLxaMvk8fysjUuv95UqizVAeWjuSe4LKW0ghVk7qpC1aM2/KpuX0zVYr2ixW1He0o9vuRGNrG/ptTjRHM6KoAhq5HgHC2ipaj6VOw9r0ZcbV4nSLBerOGQrNUZ5AWKwrEBuDmAkMYz0REzCGB8Dnt6Pym64X7weFAKl+v1rMv5H75nU2CehvWBIWHfuj0fLH7GhiAuQ1MwvflMx68E0JW0EufM+ROO7Kevzw17/D1396lM5LP+XKOzUXcsUjRrKQ5Sbs7K6Nq61ZTZot84zi4Y4QXnGU5IYYykGzat6cagV/s6IAkVHdeAAGgabLRdDQqvDYFgFMfzyq7tVQbKu2C2XrT9ZnsWmbzj0fLeh0XLttAJb+VqSzCdhTRbSKu0bST/AxKtVMV0csAl0cJvZYimJNhrQlULjUpV1KOKdkINGPnvSIZtnXyiBhumj8zSZYNoqiEsi1QsSp4E2ivIxqDaVH0Z9woCtgR3tIAOoNoMaXRZszqvNR7D5xyRx2uDwWnc1o8fegMxJET25E3bLmcALtYY9wlpTyFloxa25KAw+cA8+QM91eDl60EgSFknO6WGL11apUOA05JM8jIIwQNy1F5ZlS5JkyolX9PHZ8vsazMQFkfIYRv9Nvt2DRQb/C/IXvnwHEzrEYO8qsB9+Q0LTxx5I0zdvv2zj0lOVC0P+Erxz2Mxxx+vk46bJbcM4tT+DSh17V3rycdsvWo8+0BzVZyMZxdGtW+sbxTG8aD7fHZGSSY5URs1p2FlB0hK74xfxuY2twEgr3OUuPq972hhq1s3ss64Yr0aYZdE+8Rat/rZ5+uNxDGBywaHsfa8qrtVa0IHS1SNrJKZilZ2EheQddpaGUE/Eip9wSHBa40m3oEneK/YQN5SF3qSiW/s7KpCMZRek+kctQ2KyhRmS1+G1MSpJUc/SmgjXK9zYPeVHf1ov6xgZYre0Y8LXC4q1Fx1AHvN5+bGyoRVu7gMVmUxesPj6uy57RPSNAejOT6E2OKuj5PKj4GskSINBa0JrQJTP2DetBPmIS92mQkHBzwKvc82oxAVL9bE0yr8CQ42ywzb/pB2eswaL9D8W8BQfN6ODbASCaMNSpt5/Hx7//AE6/9jF84RvfxRGnnYsTL74B5970MC57eAluWLwRty0zOps80+LHkv4EVrpKclMM0swRhhlluls73sTq1/+TmJanWmauYZSFU+FI5PnweJzKyC3dLSWy8luojJ2xJPpD6+EVUIQS3UaX9VQ7vIlO2ALtYlVsOndc1+xIChfIFhUYbCTNQkXO/HMWjRJ3ZsatmVE40r1C8LfCnt6IYK4J1vig1oTRKhgjp4BDvp9bEn4qDBWkXizfluC4AEJGbt+EzufWPIUIlZERMgKHgGwKF4RHBdEQzmJDnx09zl6xEi7UREYEDBPoHHKjttuJLk8ETc4IagYDwmn8eg/oAmlRZZYtkybREi3o32MoujGya0BFQMmw8csV/rHCM7MIa3XS0Li/jOKZVuEfC60nLTr/bn5uuaeMlXL9jx12vxYp/t0y950HllkPvn6p8v9YtLhAfMN3/feFuOTBdnz9+4fjx8edgeMvvA5/vuk+XHLfi7j+uTW4Y3mzRrKeanZjcU8MK5x0q4wRRh+AKsaMQlcrO/dfD1jMz5pb3nBGcAyrYVSZmtczH+Qm+Q1URtZD8TUfVHMwD0t0CPZYGzyxJl26zRVtQSQ5oCFgNroORLoEPB2IFbMYEpD0ZUfgFHAwMmUTV6UvVxAXqoyBZC9sqXUYiK8QDrJe56d3J+0ant0gLhNL9Pmb1sv3smSlRRST7gUDGAQx+QCTZwoI+Vu2BkbREXagM+jGRmcALaEStnrSGuatkX26kwQ7+QWjdbzHBFm73Yem7n6s2tqI+s5B1Lb3Y5MzYUwRkGehhZVi0VoFIA2MkMlrE6ic+75+KIVVbUNYLqaRXRC1Mli205EtUegdy4Wqn+U/OkbRhnby971iz2NteAwP1hVx0MHnazBoj3fMf60uqmyfn3sTMuvBNyDb/yB2ed/rvUfj+KtbcNivfovv/fJYHHPuVTjjurvwl/tewHVPr8IdS+px/4YejWS90B3F0qGiPnQqBU0pfc4db9brBcbfEz5gkl2dO6HXNF6b1zYjLjzGfW6pUMonRFFb4wV1ubp9r2IguF4jXIG8RZdN8yd60BtYg/ywD1OTowjlUvAXy4iURhDJx9VqWBNe+POdGIyvxUBslSYa69trUD9gQ6s9iC2OBLY6Iqj3JLCl24YaT0GTfOrTVzLz/C0bRNnXOdJY2efFii4bVjY2Yl1bB15tHUCNM46N1oDwoDHNHSjHkvtLq0iOxb+bBZM18vlab74yIMg1RfENN8iw5kxacioAAww1QupbgxnUuzNY0zqEhuYOWCw2+d0+rCMXketruFYsBMFLS6LTFfRZvrHnxgjjKnG/Fw9mUSeDx4WPOGfJoBv6t8cOr3eCzHrwDYj8ILUic/RHcvXReft/E9/8/Roc9+cr8TXhIb8+8xKcctVduPDOJ3HV48tw68s1uHdtJ56od+gSbGxgzRth9LAyfNfZbtjfG2lmk79/ruHLUwFMMBAcNOmMnKhCyWhNV4d9privxzlyh8bV/WqOiHsSsKIvsFXcrHq4oyLJFnW7enyrdMJVomjTLu7sfcWu7ZmSQ3vwFofDuuZ6d3gZukJLxaVZglZmxi09qG3pQkufDQ0d3Wjtc2JlXSu22LMKUI7q5BrMj7B0noWMNa4MWn0p9EXSGEwOK7lmqQx5DBORDBTwb6PC829h4IEKa5B/uccEi7pL3PLemFu5R6LsBAcLOPmdW/x5rN9cg05LPxq7LeKqDWOz8JR1cn/4GXOA4ZaAfO39n3GtFIRV7xugrD6XYlix5a4RIf/jWgb0o7M3YMG+h2GPhe/eXv9kuxsCxABE9Q/T/bmLsGjfT+HfD7kNp173Ir7yrcOUh5x86U049/ZHcPljS3Dz4k24d00HHq0ZxDMdfl0CYaVHRjveLLlxLOjb/mbtfOFoaT408wGpIsprWhXOzTBDkfrQqWhVD5Wfb4mNoD8REtLeA3t4C4ZCa+EWXtInVmQoul7zJIPRVfCmO+GOCLmPbYYtVgdLcK1Ykxq4M3VoHViOdne7Fh/WJeTaotQczTnaU0HbM9tUCAgub9BfmhI+Y4R3mXW35AyOw0AAR3zyD7pkjJ4pd5FBh38PgxL8WwyeZfw9HCD4Ho9z7git1AxIjGw+ORSTjjXejBB+j7qBLOVn5Isk2rgfvO7MveGCPQSheWxG+QkmGXB0a77m1gCqDkRyngK4Ajge41x7cqyDv3snFu79Obxj/ls2zbZaZj34OmRHpFYAwkbWe34Ee3/wJJxyfS2+8YOf4EfHnYLjL7gW59z0KP7y0GLc+Pw63LmiCQ9t7sOTrR682EeiXtYbQjEV9a0UKrihHLO9b1gZdbNEZjuHD58cgDmCluQIumNuWCOduoagxbseAxEb+pNZAYhdFwNNlQO6fMFAcCN6gxvgpMUR7jEQ2YqeuEsVj5OmtkQmDcXPG5XFgyycFEDoHPVKUpHg0M6KcpyfYwjZnHRFq7F1Gujy20XoQnGiETu/02pwrsgKGZVXu8e0slhLR8QtYhSKysr7zzIcknNaELpY7bSa8TEFHqsFOgWELKmhW6VKXgEghfeV19Dvl99hJPqMa5tg4ZZWvPq1bnmM91Y+o+DgdeT7r305hn0/dDq4zMZb2NG9WmY9+DrEBMgMUAyAsHDx3VhwwKH46dmb8duzLsK3fnIUjjn7Cpx5/d9wyf1P4dqn1uC2pfV4YKMFTza58IIlhuWO4nSEw7xZ/yox25XSghAkhkti/LbtRJSCv5VAoQvD4sPaYBT1gawquc4NyY4J7/DAFt4AV7gZVn8Dev0b4Q23aSfH/rAQ9HAaPbEULMkIusJhOWaHJdoFS6wblnjG6IwyaoSIAyOT2geLXVCoqBzl6QLRtdKwKBVPFJTRI4bNlwi66C4tcQ2ru7LCMayRp2cFeS/bi3jRPqKjMyNiDNmqYsrfuloUk6Sea47QmjKzTytFos4ciXZzlOMEAcFkhqONZ2dYJx3oQoYFmxn0eL5xnn5OXTzjfnJfAaLXMADE37VZwHjkRc1YdOBP1b3a4zWD81sisx58A7IDQCjiZi3c93M4+Hv34/y7V+Krh/4AR59+AU674nacf+djwkNW4JaXtuJv67rwWL0dz3cZC+ms9VXcrMoNeiul2iX4e8IQMEHCh22ApOo9eZh88HzYFCoKgbI6MI71fMgiVFqjfGSbsUSzu1ZDw/ZwHTosnejqbsOGjWvQ2NyAzVvWoaZ2E1asXIKNa1ehx7NKiPxSOJI2tHt9GiYmSJiNF86qWXQGDXSqbmhELMeogEKU3VnWqM8rovzPWbN4pi+uqwgvthYEIGWs9Ro9psitWOpPrsVoGYGxWn6/RsbktxN4BITZjogdWLSUPkOrIt8v3817Yyi+cW9IqvmbWBGtz1C+h/eBA585yPC4AQrDoswMPMb71cf4jFbK61cdk/jod+/Hnvt8BWwxNa1nb63MevBNSgUsYgJpCvf5wCn4/U2tOOzII/GjY0/DSX+5Aefc8giuePgV3PjCJty9ipOnBgwe0p/abim2f7WYIOUoaYLEdBn44NQ9UJBVP1CxPFQKUQAqHKtfeYzzS1jO7khlEM8HMOhuRnf/ZniDrei118MealaOEkj0wRlphSPagQ7/SpHl8MRr4M3Y1RqxjovLPfeJotJCNcentJ5qrfhd/J6lYoU5KWupe0SDHqwcNkduVimzeJEWgFyGis65JrXyWxkmJm/plPfbEyMaSev0RtDTb0Wfyy3u3IROTx5KFuAcmVA+xPPrxGLxvpjuVbNcm5yozZ/UqBcTi1tcGdT5h5WXzADAvM8GKAgic58A5XtqBTnwyP2/7tUI9v3gqZpC2GPOvB107i2TWQ/uNKGbtecBh+HQU9bimHOvxNd+8ivZXi5u1r249IEXcf0za3HXskY8uKkXT7cID7HEp/MhMzfwrZe/933GQzNcLCO7XvHpzffpDnAkpE9PH1vdGwMoVAK1KqK0LMXgBCNWDA8Jr/CKNfFm8hgIO9Hr3QxPrBm2QK2ApF5XtWIf36FAPfqEyFvT6+DL1cCV90AuheAEJ3NRuYU8Zw2F1KpkUSbNNcjv4/cSvPxd/H7+ffwbOoS8c5kER7qofGYwPYb21KiRBEwZgBsKJQQUA9hQ1yC/IYJOfwg9gR7UyH5zKAtbuqDJTlrFLrEiynkSwlHk2iylb+h1oKunG902BzqiBWzoGMTm5lZs8clzld/EvAYHng3i/hEMtCr8fVx0VN0u/u6qe8ySFbpXvzh3i7js39dJeYZ+va1crNmFK/+w68SHvnQtzrxlJb586E9w9BkX47Sr78QFdz2ubhbDvfeJm/VEo1PdrKW2PFZX3KydJdVKXS18ODr66cj12vfNUc0AhxntMd7jNfWBVsBlfoc5v4QAoU/O1ywK5LnmEsl0QSysnRKCzRmItnQE9qQXvSEPHDE7/PFetPfXo7l7nYzedRj0tqBzqBddA6J8Ng+6k2Pq4rCMhb+JCse/g6KEVn4LOQdHYv4+hoY54WpQwOHLluBJl9QaDaYK4r754Up5YRHQsA1rvXUQA9EwBuV39SUSsMWtKJZjGEoMyW/sR3vIqdehu+caFbDlxDpGSmjstetErlZLn3CsoPxuJzotveh1+ZS70AqTJzEaxvyLaU1MUJiuKv+Wzb5h+f1Gvmel/C3PdI3jP756Ixbu83lxr/YVCzK7vr0FMuvBnSjzMG/vD2LPdx2J469rw69POhOH//ZUo+zk1ke17OSmxZsNN6t2yKjL0nDvznWzZgOIKpE8FI6sGqmqPKDqc/iA+OD4cJlU5APlMX2vChjGPt0q4zNKVoOVDiW0Mgq0yudkn0k0JtDo/5Nkk3C7BCzMtlvjYSQzTrS0NqC5vgENDXWyX691VE0dHehy+Iw2o5WSFP52/Q36vaYVq/xuGZUZfepIjqI7IUQ/6UAo4RGrVEaomNHSmFI5qOsvujIBDPisaOveiIauNWgf2oLWrrWIx0IYHh/TpRhcqV5sdndq8GAg1gNrLg1rQD43OCTWJoRAWdwwsTQNreIeOrxG5fIUrY1wmNykWj7lLXJ/GAAw7wetx0YZRGihSei3DEWwyVfUkPN6sUx/useGRe85xohezdlD+cfbjKT/HdFo1v5CrL6ET//0GZx98/M45Ce/wG/PuRxn3HBvJatulJ3QzdJwr7hZjGaZirgrREcveTg7hn2p+LQyJv/QYzvxd2nJCEtHRElYKcs2or7xCXQHPej39iM0UsbISBKxYRfsmSxcY0ZIl3NBGF0ioBk1I3hNcHNk5t/AUCw5BiNg1kgEDm8rvKEuZIth+LPjOtnKG+yD12OXkb4eQ45edPY0o3ewGVaxVsGIF76EWJdoXJvUsVm3N9sBa2IdesOr4c+ISxjvREN/Hxz5EZ0JaY1H0R9sgyPTL27hoK7dzh5hbLXKZhOcEEbCz9yMGRrWhCJfyz2oEb5UY3EIOArqZmkDCDfw2Z89jkX7H4I58yrFiTuv1up/klkP7lyZMx8L9v4o9vvQaTj9lmYcevRv8LNTzsVpl92GCzSrbrhZjGY90WhEs5aJo/7PFrTtPDEI4o7Hqy0MX+9MgKwS4HHUZ6MKWhQeY1KOkareZEKXRXAmfTpy96RyaBPOQReFeQ6eu1ZGW8Nayec1lMrj/K2TyjcIqkw5o+2KuLIvK41TI0Ws73ehWVyhmsYlqG9ZAbfXgWDYhmwugZGxkjbT88ST2rc4XuSxjFiaqC44OhBZK5xktdaROVLNOg/fLmBzpMUKpZpkn8WXmwUgdfCkWrX8noEF9vTSHM7wpIBkQhtKMOLF+7o+PK4rEff402gJFJXTkLetl3NuWZUV3Tkd8/bl5KiFRvTqfw9ADDM4Z8GBWHTAt3HIb5bg95fcjm/+7Bgcf8E1OOvG+5Ws//WFDepmPbylH8+2+fByX0rnh1Qr079KmCRUN6ZCdnXUE0U0lHH2z/yzopOgKkpNt0MtmHxPc3QcHcEoBpziqtiFiwyswtb+dg3rMiFIt0m5jrgmrKtitTE5RptsFdAsUy9MIZhNI52L6pwVrr9I4l8YTcCVLMDusSEctmNi2wjGJjK6bmJ5WxqhTBhucfMSpSSiOacu3pMc8aryW6Ir0BdbB3emHrbERrhyW+DNNGEwtkl41BqxKOu1rzFX6LIl1gp/2Qxnul/7CrMJtzGLUsAyacymZPaflpBdYPzZAoZSeYhnhUZvDqtsBQ09f++0dWI9Zsi5ule7JklImfXgThX9g+bMw9x9PoaD/us8/PHWBhz68yNxxOkX4vSrbsfF9z2La540ihfNpCGre5fYC/8CK/JaMQGyYw5kZ4hyByo6X9MCiLvEEpNX++JYP+DDxp5WbO5qQq+tGa09y1HrHDCiTuLHs4cX67FYGdybiKA3FdZ9lpp0ZScQyA9jfGIK+bEEYsUgAilR1FAdysMZsRRJhMJujI0XtBEe1zZh0wmCJFK0Cz+x6lqKtAQEg0f2XekGsRZNcEc74QzLfrZNy2SsAoK+uAAnuVLdLwKnUyyMJbQMzkSNuodcaoLulX9c+Eh6BBZ/HFy2mp3uuQxEujyKyVGjU34uX8QGe0jAMYU71qZw4MEXYdF+n8bcqv67yj92jRWZ9eBOljlGGfzCf8P8/b+DH525FX++7m5858jjcJKQdeZESNaZNLxnbRserbPhubagzjJkHN8kw+Z2Vwq/k0rMkKnJU3aG5TBF8xMCCCOiYwjdJX7XYzWDeLXFhg3WELb0DcHibEe/e70onk2bY/dmShhK+xHIhNAXTaArIAAItqArEtBeWVwgiMvKlUbj8CR7tHdwMNYLZ6gN4bgDpRGubZLU7vRc94TLNkwIoEI5m4KCfMOZboIzVQNndqtYkFZtbRRNWRGPe3UNd0eyDq32ZajvfwkbO59Ds/0V9AZXoM27HP3R1QhlW5AuBdAZKcNZGMegJ4yWzma0O7rQFY0hWR421nQcy8t3C1HBhFoSlsjzXv/wzI1YcOCPMGfP9xmuVUWfdPu/AiCV5REoXMt6wb4fx3s+finOe6ADP/jNb3D0mRfijOvuwSV/M8l6o9ZmGf2yEpWcCEs+tlesXSkmMAmMHUn8mxcjB6C8QcTgQHSftmG5I4f17iw2e8viOonV8McwFPFjwGFBbccmNHauQ5OlHW1DPqxrtWB1Rz82da0TN6pWRvowMgW/LtGQKAs3SLdpV/pIzI0Bdz2SWT/K5SRGh8dQLpbExRoVN2wcsWwMrkyjLkPnTDaKi1SDwdAmzegPhevku9ais78ONpsNje1b0WZbh81tr2Br98vy3ir0BzZoYSZL+AcSG3Q6cWc0gNawH55QCD2DbUiVbciMBMTSeJAtudVyEaBTk+OYnBrVeq814kLeV1fAuz9xCbikxh7z9txer/43cZDqSfRs8rXnAYfj2yevxil/uQ2HHnUcTrn0Rlxwx2O46lGxIq/WaIXv43V2navO0pOdnRN5fbK9W2WAY2e6WkZZB7cEiplkJEDYoJmVvMx6d+SMknOWsreH8qgdcqPd3gdb0C2uVRkWcbu60pNoDfjhiLYhOWxDXMhxOG5Dt7sd3vQAEhkvIlHhEsFeAUtc+whTxke57smILnHtjveiaWgFGvqXor5nBWpalmFLy6vY2PgKGvpeQX3fEgSiPkSjUQGZTyzMFtiTm9AdWAFrREh5pgX9seUYiIskCZROrBmy6VwZi78bvkyHrvrLZbCDxW7Exf1ikwk2/ebcmfiIMUtys3CpX5xbg/nvPBwL9/ygoT8mKHYdOCizHtxpMle3MyaRLVrYquXAj5yLs+9uxS+OO1msyPn4k7hclz4gVuTZtbhzhZD1TcZUXPbtXeUerlKoXS0zZe58TYDsTAtiRMQIChFxtXhMXTr5Dm1eJzyDCUGGdrXSV0ZWNk1jBp01UmzlwxwNeQuvxSw1F/+MFizaed4RHkSLvUMsgxfJZBCRiAfd/VswYB9ESEZ0LnjChbG4jDXnqbjiHRj01cIWboEr1oiBQA16WLaf2CzKLiQ8vV7Xa+cCpMHcgJJzhnwdiU3KV/qSwj3iyzCYWgtPuh5N/n60iOvXHbGI29cs3KYTQQEL58ZwHn5GgDI6UdLG4HSxGNnamNiGm9fkcMDB52P+fp+ZXvtjZqCtVIzvGpn14E4Tk0xxa4bnWH4y78Bv4dsnrMD5ty/GYUcfj5Mu+SvOu80oYLzp5a24f303nqh3aciXXIQNnVWhdjEPIR+YeW1krV8PB+HnZypYXytm7oLnmWBhxp5RKp25KBaEeQNzBSqtpYoYfXz5mqXrGjxgclDuDd201khMO6TEEi502jphjQ4hnoygva0JFks3ejstCIkVKBbLylFiZbt2OHHGW8WlatGwrSvTql1cHKnNsEVrBQBNArzVImvFYjTBk5XXkQ3aDskuPIRz6gcTKzEYX42h1GrhKs3oi/Wj1tsDS6xVLFi7/iauAR/KdiGS7zUmkY0GkS+XkMtlhMiPqwWlG/vN45Zi4QE/woJF7xGdmVuxGpWBdlp2fP2WyKwHd6LIH6E8ZAb1jEZwPvGe7z8BJ/21A0edfBp+ddp5OPv6u/GX+5/HDc9twt3Lm/DQ1n481eYVK5LUNTR2VK5dITvmPKqtifn+P5Lqz24vRu7CfE0lZ6SMJeXMc3CdEp1vIW4VK2q1fRAtl1gKnkPgTM925O+plMEwYdgTC4kb04tAZAgdQ0NwitUIBD1wui0ojxd1mTiS8WjchXrLMizb8phwmiXY1PQyXMl2IcndSsg7oyvREV6LDvcaDdv2x5bBHhfynrPAmRHQJLcqUDz5BgyltwqnWC/Wox6OTBv8GYtew5ule9emn+kL98CT6lfLESlbxXp4kS7HkC6kMDwmf6M7ifrUJK54MY59PnSqsTDOnH0q4Kjo0rRe7TKZ9eBOEzWLlT/Q3CdQ5s8/UBdf/K9v34eL7luHnx5zvJafXHDrI7jysRW49ZXNuG99x3QZPOuzpueJ7GIr8kbF+J3Gb/5HQsVnwozAoFVgKQbdKloO5jzM+Ra8HkHAJCDPp7CS18jyG1lpnbORiGuTu2Qigs1iMTzCS1y2IXh9TrhdDiRicbRYNmHJxsdQ17MU7YPsO9yg1cN9vmb4xJqwgYQjVwdrbL2Q7nUayfJnO1Tx/QWxNGJJyD8cuXq407UCnhrhIS3o8rfCmegSLlIjAGkRztGFgFgNV6oHvaFuDIUcyApBz5SDyJUiCGZ8gtcxcemSWBcawcsD2/DRwx4S3fia8NV/E72pBsX/QoBUi+FDkrQTJPMxf69/x54H/RK/vrQdp195K3580tn4wzV34ZJ7n8VfnyYXqary7Usa8xh2M3BUW5PqfVOqLYkJGKNA0iyAZKbesBA66Sk2oZaDfIMFfixj1yRl5dpqRUITBhAERCTwW+QzpjXqkM91J9LCJ2JC4L1osYlyum1o7VoHh68PwagNodSARqk4+vtE2anI7lSXuliOWAuGwo3qBtki9egPbxJlb9dIWLQwIMCohT0r1kNAwdCvN1WLrlALOrzNcp0mtRaurFgZAYaXQCt0CBnvUcC6E1Y44obliBdtcMedGmYOp3NY4yygOQ/87qpOLHrnb7TyYhcmA/+RzHpwp8s0qaoyl5z0wkbX7/zohTjjtiYcdeop2uDh7JsfxpWPvKpFjIxoPVZrdF80mzqYyvevFCqsQdYrBFvEfG2EpY3XVGgDBEw2GqM+XSNmj1kmzumqtBwEB90mKj2FbX5IyM1ps1zjQwsTxcXSrLlYGZ0HIudwwR+ChlZnID+GQCaAbCGp5ea+sFcU0CoKy6m94u6I0jKMS85BRR6Ki3sUala3qifQjRZ3KyyhOjTZt6LGth4NzgYh4q1wZ1uEY9TAltwCd36zAY6s4UKRtzBnYosLQGRLF4qWg9/DfAoTlK6AFb60cJ3soHIeulrMw5TLZZ2HUpvbhvs2ZfGuT1wi7vcXsceCfWZ0Ri3Hv8R6UGY9uBPF+MPMyktaj+rjDPsu2O+b+MzPnsXFdy3BL489EadcdQvOv/dpnZLL7PqDGy3aO2tmrsi/Ni9CMQFCxScATEtgCoHAUZ5AIAAIBm5NofKzmJBbKjstAYFBkBAsPIdWxbw2O5GY12UXxUZ5zc6HBI12HpHrOwQczrQbqWIQyUwU/pAoZHxIk3ueXLNYDCP7PZioUyJuTQpAYo3oDWzV153BFgFHqxDtRgwKER9KdKslCBTEuuSaYEs3oz/QhK6Begy4GgVUneJetak71hNolvPbtTtkQIA4IECiNeHclrBYjkDMg8yoF6lhcfMynWJ5nJiczGlV8Vr5W9d4tuGzP38RCw74LhYuer+hIzvoymtll4Bm1oM7UWb+CLpYKpV9PS5mdOHeH8Ge7z4Cv7usDWffcC+OOu0snbd+2YOLp2u0uBqVWQq/O8w4NABiEGfDZTIsBfkCgUHh6F4NimpgmEIyrstAizUgMHhMwSHAoqjFETDwu1jtyq1OkRXLwmgPv4+TsLialC+T0ZqqjPj29kAv7EKKg/lu+HNtRvcUUXDmKWg5PLlW4RpyXEg1y0cCOQGCWBXmKViNawm0qqIzLOtNtKKjpw7tXc3oHBCAWJvQ5xLOkhRwiAvVHmDtlZwrXMObF0sTX48m5xLNsvvS/Vq6khgOYHQsj7QAxJfuQbYY0vXoN0dH0ZQDjr2mG3u+57eGa6Xd2qk3pu5UA2GXgKJaZj2484UTXHRE2PGPFZm3r85dP+hjF+Lse3rwuz/9GSecfyX+fOujQtiXz0yoanAblb72wm7HRcw52VRaijHDz+AZHPk5YckAiQkEQ1rFanD0J3CqrUz1vpJ0sZoEojkVldcl79gSGccQ664KWWSHM/B5/OjobsHGzRsw5OsSgi1EO9qkwCBQWE/lSDTAl29S5fakGd5t1oReo7MFrZ42dAinGIi2Cdlug1tIuFPOHxDXyxOX8zUR2IYmz1r0p9agO7QVDT4jrGuPbERPZCXa/EuE+yyVzzYIlxH+kbMIMIICkBIi+R5ECg6MjGcFpDk0CzhuXpnBQR+/WDyJz2OP+QeoTsy4VzvKvF3NTWY9uAtljiYT5yx6Lxbt/3X8xzfvxqUP1+M3p/4Rp15+Gy66+2lc8/Rq3LlMXK1N/VqC8lKvEHb39j17d28RSyNicg9aFgKA4KBrxWQg2/WYwFAXSzgHt/wMrQavw5wJ8wSaJ5FzCTzOH0+Uytg2NYFgyAu3awiOUIcWFJJc9wdrxBpsFtepRviEjP7RRgylGtAj7lS7v0m2rRiKtquLxZGd7o8z3SKfFVdMXC2Gau2ZJuUctkSjWIt6tAc3oDe2HK2BVdjqWCmgWqL5jzbXMnHTlqE7ulzO3agcJFjoV94RiPYimfYpUJgczA8X0CPgeKpnDB/++j1YcOC3MGehWa0rg+ZrBtN/mcx6cJeKmW3nEtIsTPvOyZtw0T0v4chT/ogzxNW64v6XcMPiTbhndasuHc211V+1Gt3gX6uMu58Y1boUsSrKK8Q98g6jITSic8CZ66CLRSuiVkO2JO/GEm6VyJV8lmDRkna226l0NPEWxjCOCS1MdDmHMCgWQFfCKjTBlazVfluOzCbdNjjrUGOvRZOrFnV2Y7/B1gR7vFv4SRfsCSPES0Ifyjdrxtub79BEYGd0NRrdYjH8dbBlajRp2BNZjt7QWqxrexZ98VWwJtagN7lU9tfonBB+3pfs0gLKcHZIy+wJkHTZA19ZiLn8zYedshYLDvqhzhScXghHZM47ZtID/2KZ9eCuE7kJNKe8IXu8YwEW7ftxLHzP0TjyL20475b78eszzsefb3kIV7BOiy2CmGFvsOLFriheGcppbmR3c7eqxQzz0goYeQyoq7TJk0drJIf+zBh602PoSY1r6QgjUeQkalWEe5gRK1oblrFvsUe1cQKbS9fZgxh0DIhb5YVtYBC9vW3Y0rwYqxseM6JOMQFGYpMAhHM2GtTd6gltgjMpQBDizo6PdrEoDgGGU8g0ewXTBfIVhHxnm9Ql47GheA3qPWtQ71ojQGIItwG9cbEWApoaxzq1Ij3htRgUUFhjqzVfQmvEvMpQsEN4zADiKT8iKR8KI0EkxXp0FIETb+zFXu/7vTzzT8ggOdMl0XCvdgvrQZn14K4T05QSKELc587dFwv2/yze+eEzceadAzjjiutxzHnX4sI7H8c1Ty2rzBnpw5MtdLUSWFbpgGK6ITtTdv41jWQehSAh+WbvXFoQ5j6MdqG0JiYvMabNEiCcf87OI680WbHBGsPqoSS22Ly6GI7NF0AikYAvZIUtSM6xSTPeHiHlztx6eHONQtC3qsvDjLdT3CZXugN9wQb0BxrUnQqXu5WTMESrZJuASoprFlmHgeQabLK8hHb3cnW1BpMbYYmvRHt4KVr8K9Dk34AG93o5b524ciswFGnRZCEbT7BeyxexIRgTgGSGEE4E0VsALn8uhH3/8zws3P+Lxnoy0zpRAcbuYT0osx7cZbIdGauAZe78dwlIvoz3fOoaXPhwN06+4DKcfOltmkC84fn1uGOF0Ufr6XYByXQx4/+csf5nxbRIJNs7vvdGZcbKVUAiLhcJN8k9X7OExAQP9wlOhpEZGaNrxVyH1mcJL6FV4XE2erCky/CkyigW0tqMbiBeK5ZD/P90nXCNOvSFW2CNtGnUihyCx1lXZY+x8ratEr3qMqJVmtcQMp7i+bWoHXoJDYOvoDvBvsHL0RdZgT7ZHxT+0RVegW7hHSxQZCl9t/CZ2v4X0OFZoaBjQWOy6II3MIRcPolw0guXpxeDuRHcvimP9372Rq2k4Gpk5gBp6EH1/m4hsx7cZcKIBEGikQm5MaZ55QSZRQd8Cx/5zn245NEunHLh5fjDNffgkgefw43PbxA+0o5HageNrvCDmelujDtLqJw7CyDTii+gINFWEaBwbQ19/++4iKYF42eNJKQR1uWWFb22/CgCqSTiiRBCEQvaHVuwsn81mtxb0BtuR6uvFT3+FthiXRiKMdPdKpakVXsBc6k3uk/eXLMQ80axOltgzchnba+gzb5GE4I9YhkGomItxG2iazUkYLDEl6M/KUARnsEyFBYp0o3rEHLeaF0Kf6ZPXLhe4RniThUzKI8MCz8aRshvk2tm8VTnFD7y7Qew54Hf0+ULpsP9XOej8vzNY9sNnv86mfXgLhWzxxHJupknmbPHAszf64OYf+Ch+MThT+Pqp1twwnkX4Y833IerHlmGm1/cgr+t68DjDQ4s7oxgua2wHUjerHtEhTSV8s2KAqRiMQywVPpVybFqy2JaF7Ps3UyIsiEdiTqFx/i52sgYYsUysqkoPN4hDDAi5d2E/rhIbIsmAN2ZdvgEDMxuExRsoEBewfKSXjm327Ve9uvR5VqB5oEVApDN6AxxqqxYAXGXBtNbNBrlTNVq8zqWsfcKWLpDBEe9FisybExXrjci5wohtyX6kBmOYniirFW6nGMSSbhgD4fx0gDwyZ8+jYUHHo5Fe31YALHD4jcCkDnv4IBZcbmr3/vXyawH/wUiN6VS9WsIgSMg2fs/sOjAH+KQX72Iyx6rwYnnX4qzb3rI6ITyCkm7RRvOcQ67tgr6O6PxP5IdwWS8NktGtj/3jYkof8jIY/C1YU2Mmiwqe/W5fM8sjzfOr8xHYX+oyu9kQ+qG2LiM0qPgv3jSp21LvclBbbDADLcvJXwjKbyA1bfZdrUSjT3iFnk2aBFiQ+9S9Iml6U9sRrNns5aLMIplTa+RYyvRF9ug5etMKrJuitEtVutyElSju0ZDwXbhIwzj2qNWRAtc/kHAUUxhbGwEqVwe0VwWxXIC3qJwRTvwxSNfxMJ3/hgL9z5Y+zabz327OUPTW5Hdw9Wa9eDuI3P3xAIZbfY86Of4yu9W4tJHNuAkcbeYRLz6ieXTjR7MUpRlzmHtM6XKtwNYZrMqprKatVIcpWc7782IKvibuKbxdxAsBMqURu7IS2zZMgrjk8hlEzrHPBD26LokzIYzxMroU3dkLbiKFSc99QXXiWXYoOFYu5DwtkA96tyr0RnYBIcAitaAib6OwFqdT65LwwkhZ8adxJ38hQR/MNSLWHkIcQFHuDQkbpULgYwDsZwfRXGpkrkikvk8AlE/3MKNljun8PUTV2HhQb/AXnt/TCdAqXXYPQDwP8msB3cbUXdLRps99zpYR5+vHLsKVz/VgN9ffDnOu/kRXPPkCqNeS6t+XXjJksZKR0ndEiP38PcsRLUSGgAh8TVyDtXv7S5iWB/+dnOJM7bKcRUnhGTnkYiHEEtE4fYN6fqIwUwn7PHNquw9kY3oD6/BQGyd5iuGkmvRFVqr8z0GUwaPYMi3M7gGta7VaHatUVeKkape5jTiG+EVws/MeG9Q+EvOi9SIXSzVIBxiPSIFl1gMP2L5DPypHEZGysKJghiQffa2OuS3L2KeDHBcUMmYW15lJXZ/mfXgbiTGzeRqpvP3OVgsyRHaW+uKx2tx5jU34/xbHsX1T67DnUuNhXieaXbh5f44VrlGp10VU8yRfIZfGC4MQTEDDkMRdy8hoCv8RF6Tv3CxG2bdPVxIpzAKfzINv8+J3n4L2iy1aOxehU7HBjQ71hh8RBSc6yZ2h1cIoRbxiosVWSUkXIi4WI3O0HJssq/Sil1W9lqjDUbDhri4VXKOVWcX1iNadGrzOFukU453CNl3IF8KagvT3HAJk5Pj6mYN5EpY7gK+dsJKzH/XL7Bon49pCF+fKfkFifj/syBvXmZM8TzMldFngYBkwYE/wKd/uRhXP9ctILlRy+N1UdDljXhkS7/OZX+577WzEKstx0zNlAEOSjUpfyNc5q0TEyCG20igcP3GFZ4JnYrLJaXtwkdsLqeCxBPywSMjPae5MgcyEGtQXsHkXldQwBBdjr6o7IdXodu3VK0FeYg324fUsFs5B6fD0mKwz5U1vQHOhBD9VDd86V7YYt2afQ8XrDq3PF+OYGyCXUlGkRvJwjYyiZcHJvHZn7+ABe80LIcBjgq31Gf7trEisx7cbYQ3U8UMB87dR4j7f2HhAT/Awd97AJc/2YsL7/gbzrr5AVz71GrctpRtgwbwVHsAr1gSOsmKSmaCQxWsovwEiGk5dlbEajapBubrFbPLyY4BA5J7WhE2d+Za6GzC5kqXkUrGkUkn4Q3YYfe36RLVnKfhSTfCljIaK7BlKGunyEXIOTpD9bCnLDLyu5EZcekEJ87joCtmtBDlKlidWt3b72+HNcLOJHL+sB+Zclitx9hEDvFSClYBxwN1JXzssEfVJSbnqG7ZY4BDhFbE3N+9ZdaDu4+YlZtqRYwqT/ZnVeK+/6H4wJfuwvkPWXHp357En/76N1z3xGrczsLGDQKSVr/21jK7osymqASIGV16q8Rw61773f+MlTIBovtyvhYsVj5HS8J1yAkSTtO1i7tl9YfR3tyC1s4OxONx2D3tMto3ocvbhFZnC/r8nULk2X6nXTlJrX0lmn0rtEzdr/M3uoXT9GjUiiv2WjybNHHIUnhW8nqSXYjme4SMx1CeyKI8mtV9fyEAi4D01lVFfOiQu3UdjwX7fEQGtgrnqAZE5Vm+TazIrAd3KzEmW1VKoCtl83vMnYN5e74fC/b/Kt790Ytw4k09uOmZNTj7+jtx1cNLccfSOty/yYhusSSFE63MOe0zCsvKWCrfjgB5awHzRoQWw+iAMsNFuE9wr/BwyWyWq0xpZn0oGBQrIgpcLqJYzGtTaquvFQ6/HYOuANzyfjqfg8U5iD5vHTrdwjH8srVuRaetHn2ejbAF2uCIdMOVENBkhfTnBgQoHQhke8WNimJ8cgKjEwWxOi6Eij505YEz7xnCgR+9WBO8nE7NdrPToFAxAWGC4/8BZKcIb7KZaTeOVW6sHJu/6P+Kj/sF7PuBP+Knf67FDYub1OW69G/P4/ZXao3ixkqeZPuVqwxyXj3fe1oZd1r+Y+dJNUCMNqUGwI08yqRaEQ4ALGhki890Oo1iLonycF7AEkcqFUI+m0MkGdX3wpmiuF45+MIe2O29aO+sQ/9QK/oFID32WjiCFvgTPdpwQVv1FHpgj3VgyN+McMyLbC6GWN4qlseJjf5t+PXlnfIMzhBwfMVoMr3HfAMcHMyqCLkBGAMc24Nnt5VZD76tZO7Cd2qLmEUHHYFP/ewZXP7UIK5+8GlceNdT+OvzG3H/2jY8UW/D892hyupV5jIBMgJXuSyvUcrpkfofy2yfn82lerPC7zFlu+PMzAeNlaX4Xk1sEgPZcSHpAohYGOlUTNytKBKJGFy2QcRiEW1ePTo6jLGxMYyMDet5Qa9HCx5pNdi0QdvzFAe1k0mvrwb9jlZYPS0IJSxIpB1wZNJ4qG4En/3l89jzoN9iz/0+jTkL3mk8FwLj7WEh/ieZ9eDbRubogzDCwJy6u+iA7+LfvnAT/nCHBTc9uwEX3fUYrn5iJe5d2YJHawbxQqcfSwazWO4Znm5ITSCYUq14b0beCoDMJtVg2SLfyQQi95ks1YV55H12X+xJj8KWGUM4m0cim4TDaUUuV9DWo5zpV8xmEI47tYiRiUbtsBgUou5tgVtIuT9sFatjR6LkRGo0gc7UBC541If3fv5GLR3RqbLz95NnQlDM05KR2Z7X21BmPfg2EmOUogvG+i2a94X7fxl7/9+T8I2TVuP6FwdwzaPP4bL7X8DtS2rx0KZePNvixbKBKNa5S+JmiRVRHvL2FBPU5FKsBDABr+8JOFYwZyIcZYkIp/12JMeRLYwgImS+kM8qQEbKw+KCJdR9YsNqzmOnO8WpuOxn5Ur0IlWIYGKiiMy2KbzSO4xvn7IBe3/gdL3X8/b8EObOWTQ9WJnPZjry+PaWWQ++rWR69pn6uQKYBe/Cgn0+iUXv+iE+cMjtOO22Ttz6cgOueWSxTt9lK6Gn6xx42RLEakce631j03VPMyJKVika3J2FgNBQtclJaAll3yyM5Fx2rjlCjvKSgKQvNaad3NNa5OjASGEYpUIR7mi3zlVnVxJKqNQDX9aiyybkCiFdZMeaAy54xIsPfOV2LHjnT9WtXTD/3QKMhdMcw5S3Cb/4Z2TWg28f0VGLVmSOAsUofBPQzNlLR7ZF+34Fe7//ZHzjuFW44ulB3PriSlz76Iu4+ZU6PLxlEM+1+/HqQFo7pVDZOCXWtCg7ZuJ3R2FAgcGG6ggXwUH3Sn+/unry2suFQ6fgzo3o/HUl7OQnhQxC8T5t+sbCw3hpQGcVRrM25IZjGB8vIDE6gacb8vj671djz/edpl0P5+7972o1pgcmc3CqyP8OgLwD/x+ElYfTatPcwgAAAABJRU5ErkJggg==' width='200' height='133' class=\"itemThumbnail\">\n",
       "                       </a>\n",
       "                    </div>\n",
       "\n",
       "                    <div class=\"item_right\"     style=\"float: none; width: auto; overflow: hidden;\">\n",
       "                        <a href='http://renemorenow.maps.arcgis.com/home/item.html?id=48e3923ce6a347bd86ba5a08c5d6dffd' target='_blank'><b>Buildings_Montreal_2016</b>\n",
       "                        </a>\n",
       "                        <br/>This scene highlights layers for Montreal, Canada available in ArcGIS to support your work in 3D. Use these layers in conjunction with your own layers to create new scenes focused on a specific topic or area of interest to you.<img src='http://renemorenow.maps.arcgis.com/home/js/jsapi/esri/css/images/item_type_icons/layers16.png' style=\"vertical-align:middle;\">Scene Layer by esri_3d\n",
       "                        <br/>Last Modified: July 28, 2021\n",
       "                        <br/>0 comments, 475 views\n",
       "                    </div>\n",
       "                </div>\n",
       "                "
      ],
      "text/plain": [
       "<Item title:\"Buildings_Montreal_2016\" type:Scene Layer owner:esri_3d>"
      ]
     },
     "metadata": {},
     "output_type": "display_data"
    }
   ],
   "source": [
    "buildings_layer = search_result[0]\n",
    "display(buildings_layer)"
   ]
  },
  {
   "cell_type": "code",
   "execution_count": 75,
   "id": "8957e998",
   "metadata": {
    "hidden": true
   },
   "outputs": [
    {
     "data": {
      "text/plain": [
       "{'operationalLayers': [{'itemId': '',\n",
       "   'title': '',\n",
       "   'visibility': True,\n",
       "   'opacity': 1,\n",
       "   'url': '',\n",
       "   'layerType': ''}],\n",
       " 'baseMap': {'baseMapLayers': [{'id': '933075fa973f49948a88b84dae743704',\n",
       "    'visibility': True,\n",
       "    'opacity': 1,\n",
       "    'layerDefinition': {},\n",
       "    'url': 'http://services.arcgisonline.com/ArcGIS/rest/services/World_Street_Map/MapServer',\n",
       "    'layerType': 'ArcGISTiledMapServiceLayer'}],\n",
       "  'title': 'World Street Map',\n",
       "  'elevationLayers': [{'url': 'https://elevation3d.arcgis.com/arcgis/rest/services/WorldElevation3D/Terrain3D/ImageServer',\n",
       "    'id': 'globalElevation_0',\n",
       "    'layerType': 'ArcGISTiledElevationServiceLayer'}]},\n",
       " 'spatialReference': {'wkid': 102100, 'latestWkid': 3857},\n",
       " 'version': '1.4',\n",
       " 'viewingMode': 'global',\n",
       " 'tables': []}"
      ]
     },
     "metadata": {},
     "output_type": "display_data"
    }
   ],
   "source": [
    "# Read sample web scene json from text file. We use built-in json module to parse it into a Python dictionary\n",
    "web_scene_dict = dict()\n",
    "with open(r\"D:\\EsriTraining\\APIforPython\\arcgis-python-api\\samples\\05_content_publishers\\data\\web_scene_simple.json\",\"r\") as file_handle:\n",
    "    web_scene_dict = json.load(file_handle)\n",
    "\n",
    "display(web_scene_dict)"
   ]
  },
  {
   "cell_type": "code",
   "execution_count": 76,
   "id": "c397ce53",
   "metadata": {
    "hidden": true
   },
   "outputs": [],
   "source": [
    "# Update web scene's opertaional layer with properties of buildings_layer\n",
    "web_scene_dict['operationalLayers'][0]['itemId'] = buildings_layer.itemid\n",
    "web_scene_dict['operationalLayers'][0]['layerType'] = \"ArcGISSceneServiceLayer\"\n",
    "web_scene_dict['operationalLayers'][0]['title'] = buildings_layer.title\n",
    "web_scene_dict['operationalLayers'][0]['url'] = buildings_layer.url"
   ]
  },
  {
   "cell_type": "code",
   "execution_count": 77,
   "id": "0ceb013d",
   "metadata": {
    "hidden": true
   },
   "outputs": [
    {
     "data": {
      "text/html": [
       "<div class=\"item_container\" style=\"height: auto; overflow: hidden; border: 1px solid #cfcfcf; border-radius: 2px; background: #f6fafa; line-height: 1.21429em; padding: 10px;\">\n",
       "                    <div class=\"item_left\" style=\"width: 210px; float: left;\">\n",
       "                       <a href='http://renemorenow.maps.arcgis.com/home/item.html?id=dd2d4e673a014bf583addc548876c411' target='_blank'>\n",
       "                        <img src='http://static.arcgis.com/images/desktopapp.png' class=\"itemThumbnail\">\n",
       "                       </a>\n",
       "                    </div>\n",
       "\n",
       "                    <div class=\"item_right\"     style=\"float: none; width: auto; overflow: hidden;\">\n",
       "                        <a href='http://renemorenow.maps.arcgis.com/home/item.html?id=dd2d4e673a014bf583addc548876c411' target='_blank'><b>Web scene with photo realistic buildings</b>\n",
       "                        </a>\n",
       "                        <br/>This scene highlights buildings of Montreal, Canada<img src='http://renemorenow.maps.arcgis.com/home/js/jsapi/esri/css/images/item_type_icons/websceneglobal16.png' style=\"vertical-align:middle;\">Web Scene by renemorenow\n",
       "                        <br/>Last Modified: November 29, 2023\n",
       "                        <br/>0 comments, 0 views\n",
       "                    </div>\n",
       "                </div>\n",
       "                "
      ],
      "text/plain": [
       "<Item title:\"Web scene with photo realistic buildings\" type:Web Scene owner:renemorenow>"
      ]
     },
     "metadata": {},
     "output_type": "display_data"
    }
   ],
   "source": [
    "web_scene_item_properties = {'title':'Web scene with photo realistic buildings',\n",
    "                            'type':'Web Scene',\n",
    "                            'snippet':'This scene highlights buildings of Montreal, Canada',\n",
    "                            'tags':'ArcGIS Python API',\n",
    "                            'text': json.dumps(web_scene_dict)}\n",
    "\n",
    "# Use the add() method to publish a new web scenej\n",
    "web_scene_item = gis.content.add(web_scene_item_properties)\n",
    "web_scene_item.share(True)\n",
    "display(web_scene_item)"
   ]
  },
  {
   "cell_type": "code",
   "execution_count": 79,
   "id": "b074f68e",
   "metadata": {
    "hidden": true
   },
   "outputs": [
    {
     "data": {
      "application/vnd.jupyter.widget-view+json": {
       "model_id": "832e25c8c8a64996a03202b7179031b5",
       "version_major": 2,
       "version_minor": 0
      },
      "text/plain": [
       "MapView(hide_mode_switch=True, layout=Layout(height='400px', width='100%'), mode='3D')"
      ]
     },
     "metadata": {},
     "output_type": "display_data"
    },
    {
     "data": {
      "text/html": [
       "<div class=\"map-static-img-preview-3bd24bd1-ff30-4b1c-ba0a-7cd90bd490c6\"><img src=\"\"></img></div>"
      ],
      "text/plain": [
       "<IPython.core.display.HTML object>"
      ]
     },
     "metadata": {},
     "output_type": "display_data"
    },
    {
     "data": {
      "text/html": [
       "<div class=\"map-html-embed-preview-3bd24bd1-ff30-4b1c-ba0a-7cd90bd490c6\"></div>"
      ],
      "text/plain": [
       "<IPython.core.display.HTML object>"
      ]
     },
     "metadata": {},
     "output_type": "display_data"
    }
   ],
   "source": [
    "web_scene_obj = WebScene(web_scene_item)\n",
    "\n",
    "# display the interactive web scene in the notebook\n",
    "web_scene_obj"
   ]
  },
  {
   "cell_type": "code",
   "execution_count": 4,
   "id": "7fb0d3b9",
   "metadata": {
    "hidden": true
   },
   "outputs": [
    {
     "data": {
      "text/plain": [
       "{'username': 'renemorenow',\n",
       " 'id': '2838122b9bf14e8f91ff033b88a807c6',\n",
       " 'title': 'packages'}"
      ]
     },
     "execution_count": 4,
     "metadata": {},
     "output_type": "execute_result"
    }
   ],
   "source": [
    "gis.content.create_folder('packages')"
   ]
  },
  {
   "cell_type": "code",
   "execution_count": 5,
   "id": "8dd948d3",
   "metadata": {
    "hidden": true
   },
   "outputs": [
    {
     "data": {
      "text/html": [
       "<div class=\"item_container\" style=\"height: auto; overflow: hidden; border: 1px solid #cfcfcf; border-radius: 2px; background: #f6fafa; line-height: 1.21429em; padding: 10px;\">\n",
       "                    <div class=\"item_left\" style=\"width: 210px; float: left;\">\n",
       "                       <a href='http://renemorenow.maps.arcgis.com/home/item.html?id=7dd2738f3bcf41ae8de3ad3216cdbc1a' target='_blank'>\n",
       "                        <img src='data:image/png;base64,/9j/4AAQSkZJRgABAQEADAAMAAD/2wBDAAgGBgcGBQgHBwcJCQgKDBQNDAsLDBkSEw8UHRofHh0aHBwgJC4nICIsIxwcKDcpLDAxNDQ0Hyc5PTgyPC4zNDL/2wBDAQkJCQwLDBgNDRgyIRwhMjIyMjIyMjIyMjIyMjIyMjIyMjIyMjIyMjIyMjIyMjIyMjIyMjIyMjIyMjIyMjIyMjL/wAARCACFAMgDAREAAhEBAxEB/8QAHwAAAQUBAQEBAQEAAAAAAAAAAAECAwQFBgcICQoL/8QAtRAAAgEDAwIEAwUFBAQAAAF9AQIDAAQRBRIhMUEGE1FhByJxFDKBkaEII0KxwRVS0fAkM2JyggkKFhcYGRolJicoKSo0NTY3ODk6Q0RFRkdISUpTVFVWV1hZWmNkZWZnaGlqc3R1dnd4eXqDhIWGh4iJipKTlJWWl5iZmqKjpKWmp6ipqrKztLW2t7i5usLDxMXGx8jJytLT1NXW19jZ2uHi4+Tl5ufo6erx8vP09fb3+Pn6/8QAHwEAAwEBAQEBAQEBAQAAAAAAAAECAwQFBgcICQoL/8QAtREAAgECBAQDBAcFBAQAAQJ3AAECAxEEBSExBhJBUQdhcRMiMoEIFEKRobHBCSMzUvAVYnLRChYkNOEl8RcYGRomJygpKjU2Nzg5OkNERUZHSElKU1RVVldYWVpjZGVmZ2hpanN0dXZ3eHl6goOEhYaHiImKkpOUlZaXmJmaoqOkpaanqKmqsrO0tba3uLm6wsPExcbHyMnK0tPU1dbX2Nna4uPk5ebn6Onq8vP09fb3+Pn6/9oADAMBAAIRAxEAPwD3+gAoAKACgAoAKACgAoAKACgAoAKACgAoAKACgAoAKACgAoAKACgAoAKACgAoAKACgAoAKACgAoAKACgAoAKACgAoAKACgAoAKACgAoAKACgAoAKACgAoAKACgAoAKACgAoAKACgAoAKACgAoAKACgAoAKACgAoAKACgAoAKACgAoAKACgAoAKACgAoAKACgAoAKACgAoAKACgAoAKACgAoAKACgAoAKACgAoAKACgAoAKACgAoAKACgAoAKACgAoAKACgAoAKACgAoAKACgAoAKACgAoAKACgAoAKACgAoAKACgAoAKACgAoAKACgAoAKACgAoAKACgAoAKACgAoAKACgAoAKACgAoAKACgAoAKACgAoAKACgAoAKACgAoAKACgAoAKACgAoAKACgAoAKACgAoAKACgAoAKACgAoAKACgAoAKACgAoAKACgAoAKACgAoAKACgAoAKACgAoAKACgAoAKACgAoAKACgAoAKACgAoAKACgAoAKACgAoAKACgAoAKACgAoAKACgAoAKACgAoAKACgAoAKACgAoAKACgAoAKACgAoAKACgAoAKACgAoAKACgAoAKACgAoAKACgAoAKACgAoAKACgAoAKACgAoAKACgAoAKACgAoAKACgAoAKACgAoAKACgAoAKACgAoAKACgAoAKACgAoAKACgAoAKACgAoAKACgAoAKACgAoAKACgAoAKACgAoAKACgAoAKACgAoAKACgAoAKACgAoAKACgAoAKACgAoAKACgAoAKACgAoAKACgAoAKACgAoAKACgAoAKACgAoAKACgAoAKACgAoAKACgAoAKACgAoAKACgAoAKACgAoAKACgAoAKACgAoAKACgAoAKACgAoAKACgAoAKACgAoAKACgAoAKACgAoAKACgAoAKACgAoAKACgAoAKACgAoAKACgAoAKACgAoAKACgAoAKACgAoAKACgAoAKACgAoAKACgAoAKACgAoAKACgAoA/9k=' width='200' height='133' class=\"itemThumbnail\">\n",
       "                       </a>\n",
       "                    </div>\n",
       "\n",
       "                    <div class=\"item_right\"     style=\"float: none; width: auto; overflow: hidden;\">\n",
       "                        <a href='http://renemorenow.maps.arcgis.com/home/item.html?id=7dd2738f3bcf41ae8de3ad3216cdbc1a' target='_blank'><b>USA_counties_divorce_rate</b>\n",
       "                        </a>\n",
       "                        <br/>A map exploring the ratio of number of divorced to the total number of households. This visualizes the counties that have a higher divorce rate.<img src='http://renemorenow.maps.arcgis.com/home/js/jsapi/esri/css/images/item_type_icons/layers16.png' style=\"vertical-align:middle;\">Tile Package by renemorenow\n",
       "                        <br/>Last Modified: November 30, 2023\n",
       "                        <br/>0 comments, 0 views\n",
       "                    </div>\n",
       "                </div>\n",
       "                "
      ],
      "text/plain": [
       "<Item title:\"USA_counties_divorce_rate\" type:Tile Package owner:renemorenow>"
      ]
     },
     "execution_count": 5,
     "metadata": {},
     "output_type": "execute_result"
    }
   ],
   "source": [
    "tpk_item = gis.content.add({}, data=r\"D:\\EsriTraining\\APIforPython\\arcgis-python-api\\samples\\05_content_publishers\\data\\USA_counties_divorce_rate.tpk\", folder='packages')\n",
    "tpk_item"
   ]
  },
  {
   "cell_type": "code",
   "execution_count": 7,
   "id": "b12df8ec",
   "metadata": {
    "hidden": true
   },
   "outputs": [
    {
     "name": "stdout",
     "output_type": "stream",
     "text": [
      "{'message': \"Service name 'USA_counties_divorce_rate' already exists for 'Bd3GqULNdzgCeQfi'\"}\n"
     ]
    }
   ],
   "source": [
    "try:\n",
    "    tile_layer = tpk_item.publish()\n",
    "    tile_layer\n",
    "except Exception as ex:\n",
    "    print(str(ex))"
   ]
  },
  {
   "cell_type": "code",
   "execution_count": 9,
   "id": "f8e38050",
   "metadata": {
    "hidden": true
   },
   "outputs": [
    {
     "data": {
      "text/html": [
       "<div class=\"item_container\" style=\"height: auto; overflow: hidden; border: 1px solid #cfcfcf; border-radius: 2px; background: #f6fafa; line-height: 1.21429em; padding: 10px;\">\n",
       "                    <div class=\"item_left\" style=\"width: 210px; float: left;\">\n",
       "                       <a href='http://renemorenow.maps.arcgis.com/home/item.html?id=df7fba9622cf4e56aae392a1a482d2bf' target='_blank'>\n",
       "                        <img src='http://static.arcgis.com/images/desktopapp.png' class=\"itemThumbnail\">\n",
       "                       </a>\n",
       "                    </div>\n",
       "\n",
       "                    <div class=\"item_right\"     style=\"float: none; width: auto; overflow: hidden;\">\n",
       "                        <a href='http://renemorenow.maps.arcgis.com/home/item.html?id=df7fba9622cf4e56aae392a1a482d2bf' target='_blank'><b>World_earthquakes_2000_2010</b>\n",
       "                        </a>\n",
       "                        <br/><img src='http://renemorenow.maps.arcgis.com/home/js/jsapi/esri/css/images/item_type_icons/layers16.png' style=\"vertical-align:middle;\">Scene Package by renemorenow\n",
       "                        <br/>Last Modified: November 30, 2023\n",
       "                        <br/>0 comments, 0 views\n",
       "                    </div>\n",
       "                </div>\n",
       "                "
      ],
      "text/plain": [
       "<Item title:\"World_earthquakes_2000_2010\" type:Scene Package owner:renemorenow>"
      ]
     },
     "execution_count": 9,
     "metadata": {},
     "output_type": "execute_result"
    }
   ],
   "source": [
    "slpk_item = gis.content.add({}, data=r\"D:\\EsriTraining\\APIforPython\\arcgis-python-api\\samples\\05_content_publishers\\data\\World_earthquakes_2000_2010.slpk\", folder='packages')\n",
    "slpk_item"
   ]
  },
  {
   "cell_type": "code",
   "execution_count": 10,
   "id": "1cd9aaba",
   "metadata": {
    "hidden": true
   },
   "outputs": [
    {
     "data": {
      "text/html": [
       "<div class=\"item_container\" style=\"height: auto; overflow: hidden; border: 1px solid #cfcfcf; border-radius: 2px; background: #f6fafa; line-height: 1.21429em; padding: 10px;\">\n",
       "                    <div class=\"item_left\" style=\"width: 210px; float: left;\">\n",
       "                       <a href='http://renemorenow.maps.arcgis.com/home/item.html?id=942b3f85884b495189dfe24a74073c86' target='_blank'>\n",
       "                        <img src='http://static.arcgis.com/images/desktopapp.png' class=\"itemThumbnail\">\n",
       "                       </a>\n",
       "                    </div>\n",
       "\n",
       "                    <div class=\"item_right\"     style=\"float: none; width: auto; overflow: hidden;\">\n",
       "                        <a href='http://renemorenow.maps.arcgis.com/home/item.html?id=942b3f85884b495189dfe24a74073c86' target='_blank'><b>World_earthquakes_2000_2010</b>\n",
       "                        </a>\n",
       "                        <br/><img src='http://renemorenow.maps.arcgis.com/home/js/jsapi/esri/css/images/item_type_icons/layers16.png' style=\"vertical-align:middle;\">Scene Layer by renemorenow\n",
       "                        <br/>Last Modified: November 30, 2023\n",
       "                        <br/>0 comments, 0 views\n",
       "                    </div>\n",
       "                </div>\n",
       "                "
      ],
      "text/plain": [
       "<Item title:\"World_earthquakes_2000_2010\" type:Scene Layer owner:renemorenow>"
      ]
     },
     "execution_count": 10,
     "metadata": {},
     "output_type": "execute_result"
    }
   ],
   "source": [
    "try:\n",
    "    slpk_layer = slpk_item.publish()\n",
    "except Exception as ex:\n",
    "    print(str(ex))\n",
    "slpk_layer"
   ]
  },
  {
   "cell_type": "markdown",
   "id": "fec7c425",
   "metadata": {
    "hidden": true
   },
   "source": [
    "### Publishing SDs, Shapefiles and CSVs\n",
    "https://developers.arcgis.com/python/samples/publishing-sd-shapefiles-and-csv/"
   ]
  },
  {
   "cell_type": "code",
   "execution_count": 15,
   "id": "0bd387f9",
   "metadata": {
    "hidden": true
   },
   "outputs": [
    {
     "name": "stdout",
     "output_type": "stream",
     "text": [
      "Number of .sd files found: 3\n",
      "NewPy_WTL_test_SingleLayerBuildCache.sd\n",
      "Nursing_home_locations.sd\n",
      "WA_DSHS_admin_boundaries.sd\n"
     ]
    }
   ],
   "source": [
    "# path relative to this notebook\n",
    "data_dir = r\"D:\\EsriTraining\\APIforPython\\arcgis-python-api\\samples\\05_content_publishers\\data\"\n",
    "\n",
    "#Get list of all files\n",
    "file_list = os.listdir(data_dir)\n",
    "\n",
    "#Filter and get only .sd files\n",
    "sd_file_list = [x for x in file_list if x.endswith(\".sd\")]\n",
    "print(\"Number of .sd files found: \" + str(len(sd_file_list)))\n",
    "for x in file_list:\n",
    "    if x.endswith(\".sd\"):\n",
    "        print(x)"
   ]
  },
  {
   "cell_type": "code",
   "execution_count": 18,
   "id": "a151e480",
   "metadata": {
    "hidden": true
   },
   "outputs": [
    {
     "data": {
      "text/html": [
       "<div class=\"item_container\" style=\"height: auto; overflow: hidden; border: 1px solid #cfcfcf; border-radius: 2px; background: #f6fafa; line-height: 1.21429em; padding: 10px;\">\n",
       "                    <div class=\"item_left\" style=\"width: 210px; float: left;\">\n",
       "                       <a href='http://renemorenow.maps.arcgis.com/home/item.html?id=a91957b6150d44eaaad26527e16839cb' target='_blank'>\n",
       "                        <img src='http://static.arcgis.com/images/desktopapp.png' class=\"itemThumbnail\">\n",
       "                       </a>\n",
       "                    </div>\n",
       "\n",
       "                    <div class=\"item_right\"     style=\"float: none; width: auto; overflow: hidden;\">\n",
       "                        <a href='http://renemorenow.maps.arcgis.com/home/item.html?id=a91957b6150d44eaaad26527e16839cb' target='_blank'><b>NewPy_WTL_test_SingleLayerBuildCache</b>\n",
       "                        </a>\n",
       "                        <br/><img src='http://renemorenow.maps.arcgis.com/home/js/jsapi/esri/css/images/item_type_icons/mapimages16.png' style=\"vertical-align:middle;\">Map Image Layer by renemorenow\n",
       "                        <br/>Last Modified: November 30, 2023\n",
       "                        <br/>0 comments, 0 views\n",
       "                    </div>\n",
       "                </div>\n",
       "                "
      ],
      "text/plain": [
       "<Item title:\"NewPy_WTL_test_SingleLayerBuildCache\" type:Map Image Layer owner:renemorenow>"
      ]
     },
     "metadata": {},
     "output_type": "display_data"
    },
    {
     "data": {
      "text/html": [
       "<div class=\"item_container\" style=\"height: auto; overflow: hidden; border: 1px solid #cfcfcf; border-radius: 2px; background: #f6fafa; line-height: 1.21429em; padding: 10px;\">\n",
       "                    <div class=\"item_left\" style=\"width: 210px; float: left;\">\n",
       "                       <a href='http://renemorenow.maps.arcgis.com/home/item.html?id=6608ceb807a84c09b99e653ce9fb2138' target='_blank'>\n",
       "                        <img src='data:image/png;base64,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' width='200' height='133' class=\"itemThumbnail\">\n",
       "                       </a>\n",
       "                    </div>\n",
       "\n",
       "                    <div class=\"item_right\"     style=\"float: none; width: auto; overflow: hidden;\">\n",
       "                        <a href='http://renemorenow.maps.arcgis.com/home/item.html?id=6608ceb807a84c09b99e653ce9fb2138' target='_blank'><b>Nursing_home_locations</b>\n",
       "                        </a>\n",
       "                        <br/>Presents the locations of Nursing Homes for Department of Social and Health Services, Wasington State.<img src='http://renemorenow.maps.arcgis.com/home/js/jsapi/esri/css/images/item_type_icons/featureshosted16.png' style=\"vertical-align:middle;\">Feature Layer Collection by renemorenow\n",
       "                        <br/>Last Modified: November 30, 2023\n",
       "                        <br/>0 comments, 0 views\n",
       "                    </div>\n",
       "                </div>\n",
       "                "
      ],
      "text/plain": [
       "<Item title:\"Nursing_home_locations\" type:Feature Layer Collection owner:renemorenow>"
      ]
     },
     "metadata": {},
     "output_type": "display_data"
    },
    {
     "ename": "Exception",
     "evalue": "No job id",
     "output_type": "error",
     "traceback": [
      "\u001b[1;31m---------------------------------------------------------------------------\u001b[0m",
      "\u001b[1;31mException\u001b[0m                                 Traceback (most recent call last)",
      "\u001b[1;32m~\\AppData\\Local\\Temp\\ipykernel_24688\\168126044.py\u001b[0m in \u001b[0;36m<cell line: 2>\u001b[1;34m()\u001b[0m\n\u001b[0;32m      3\u001b[0m     \u001b[0mitem\u001b[0m \u001b[1;33m=\u001b[0m \u001b[0mgis\u001b[0m\u001b[1;33m.\u001b[0m\u001b[0mcontent\u001b[0m\u001b[1;33m.\u001b[0m\u001b[0madd\u001b[0m\u001b[1;33m(\u001b[0m\u001b[1;33m{\u001b[0m\u001b[1;33m}\u001b[0m\u001b[1;33m,\u001b[0m \u001b[0mdata_dir\u001b[0m \u001b[1;33m+\u001b[0m\u001b[1;34m\"\\\\\"\u001b[0m\u001b[1;33m+\u001b[0m \u001b[0mcurrent_sd_file\u001b[0m\u001b[1;33m)\u001b[0m   \u001b[1;31m# .sd file is uploaded and a .sd file item is created\u001b[0m\u001b[1;33m\u001b[0m\u001b[1;33m\u001b[0m\u001b[0m\n\u001b[0;32m      4\u001b[0m     \u001b[1;32mif\u001b[0m \u001b[1;34m\"BuildCache\"\u001b[0m \u001b[1;32mnot\u001b[0m \u001b[1;32min\u001b[0m \u001b[0mcurrent_sd_file\u001b[0m\u001b[1;33m:\u001b[0m\u001b[1;33m\u001b[0m\u001b[1;33m\u001b[0m\u001b[0m\n\u001b[1;32m----> 5\u001b[1;33m         \u001b[0mpublished_item\u001b[0m \u001b[1;33m=\u001b[0m \u001b[0mitem\u001b[0m\u001b[1;33m.\u001b[0m\u001b[0mpublish\u001b[0m\u001b[1;33m(\u001b[0m\u001b[1;33m)\u001b[0m                      \u001b[1;31m# .sd file item is published and a web layer item is created\u001b[0m\u001b[1;33m\u001b[0m\u001b[1;33m\u001b[0m\u001b[0m\n\u001b[0m\u001b[0;32m      6\u001b[0m     \u001b[1;32melse\u001b[0m\u001b[1;33m:\u001b[0m\u001b[1;33m\u001b[0m\u001b[1;33m\u001b[0m\u001b[0m\n\u001b[0;32m      7\u001b[0m         \u001b[0mpublished_item\u001b[0m \u001b[1;33m=\u001b[0m \u001b[0mitem\u001b[0m\u001b[1;33m.\u001b[0m\u001b[0mpublish\u001b[0m\u001b[1;33m(\u001b[0m\u001b[0mbuild_initial_cache\u001b[0m\u001b[1;33m=\u001b[0m\u001b[1;32mTrue\u001b[0m\u001b[1;33m)\u001b[0m  \u001b[1;31m# publish as hosted tile layer with \"build cache\" enabled\u001b[0m\u001b[1;33m\u001b[0m\u001b[1;33m\u001b[0m\u001b[0m\n",
      "\u001b[1;32mC:\\Program Files\\ArcGIS\\Pro\\bin\\Python\\envs\\arcgispro-py3\\lib\\site-packages\\arcgis\\gis\\__init__.py\u001b[0m in \u001b[0;36mpublish\u001b[1;34m(self, publish_parameters, address_fields, output_type, overwrite, file_type, build_initial_cache, item_id, geocode_service)\u001b[0m\n\u001b[0;32m  15137\u001b[0m             \u001b[1;32mreturn\u001b[0m \u001b[0mItem\u001b[0m\u001b[1;33m(\u001b[0m\u001b[0mself\u001b[0m\u001b[1;33m.\u001b[0m\u001b[0m_gis\u001b[0m\u001b[1;33m,\u001b[0m \u001b[0mret\u001b[0m\u001b[1;33m[\u001b[0m\u001b[1;36m0\u001b[0m\u001b[1;33m]\u001b[0m\u001b[1;33m[\u001b[0m\u001b[1;34m\"serviceItemId\"\u001b[0m\u001b[1;33m]\u001b[0m\u001b[1;33m)\u001b[0m\u001b[1;33m\u001b[0m\u001b[1;33m\u001b[0m\u001b[0m\n\u001b[0;32m  15138\u001b[0m         \u001b[1;32melse\u001b[0m\u001b[1;33m:\u001b[0m\u001b[1;33m\u001b[0m\u001b[1;33m\u001b[0m\u001b[0m\n\u001b[1;32m> 15139\u001b[1;33m             \u001b[0mserviceitem_id\u001b[0m \u001b[1;33m=\u001b[0m \u001b[0mself\u001b[0m\u001b[1;33m.\u001b[0m\u001b[0m_check_publish_status\u001b[0m\u001b[1;33m(\u001b[0m\u001b[0mret\u001b[0m\u001b[1;33m,\u001b[0m \u001b[0mfolder\u001b[0m\u001b[1;33m)\u001b[0m\u001b[1;33m\u001b[0m\u001b[1;33m\u001b[0m\u001b[0m\n\u001b[0m\u001b[0;32m  15140\u001b[0m         \u001b[1;32mreturn\u001b[0m \u001b[0mItem\u001b[0m\u001b[1;33m(\u001b[0m\u001b[0mself\u001b[0m\u001b[1;33m.\u001b[0m\u001b[0m_gis\u001b[0m\u001b[1;33m,\u001b[0m \u001b[0mserviceitem_id\u001b[0m\u001b[1;33m)\u001b[0m\u001b[1;33m\u001b[0m\u001b[1;33m\u001b[0m\u001b[0m\n\u001b[0;32m  15141\u001b[0m \u001b[1;33m\u001b[0m\u001b[0m\n",
      "\u001b[1;32mC:\\Program Files\\ArcGIS\\Pro\\bin\\Python\\envs\\arcgispro-py3\\lib\\site-packages\\arcgis\\gis\\__init__.py\u001b[0m in \u001b[0;36m_check_publish_status\u001b[1;34m(self, ret, folder)\u001b[0m\n\u001b[0;32m  15511\u001b[0m                 \u001b[1;32mraise\u001b[0m \u001b[0mException\u001b[0m\u001b[1;33m(\u001b[0m\u001b[1;34m\"No job results.\"\u001b[0m\u001b[1;33m)\u001b[0m\u001b[1;33m\u001b[0m\u001b[1;33m\u001b[0m\u001b[0m\n\u001b[0;32m  15512\u001b[0m         \u001b[1;32melse\u001b[0m\u001b[1;33m:\u001b[0m\u001b[1;33m\u001b[0m\u001b[1;33m\u001b[0m\u001b[0m\n\u001b[1;32m> 15513\u001b[1;33m             \u001b[1;32mraise\u001b[0m \u001b[0mException\u001b[0m\u001b[1;33m(\u001b[0m\u001b[1;34m\"No job id\"\u001b[0m\u001b[1;33m)\u001b[0m\u001b[1;33m\u001b[0m\u001b[1;33m\u001b[0m\u001b[0m\n\u001b[0m\u001b[0;32m  15514\u001b[0m \u001b[1;33m\u001b[0m\u001b[0m\n\u001b[0;32m  15515\u001b[0m         \u001b[1;32mreturn\u001b[0m \u001b[0mserviceitem_id\u001b[0m\u001b[1;33m\u001b[0m\u001b[1;33m\u001b[0m\u001b[0m\n",
      "\u001b[1;31mException\u001b[0m: No job id"
     ]
    }
   ],
   "source": [
    "# Loop through each file and publish it as a service\n",
    "for current_sd_file in sd_file_list:\n",
    "    item = gis.content.add({}, data_dir +\"\\\\\"+ current_sd_file)   # .sd file is uploaded and a .sd file item is created\n",
    "    if \"BuildCache\" not in current_sd_file:\n",
    "        published_item = item.publish()                      # .sd file item is published and a web layer item is created\n",
    "    else:\n",
    "        published_item = item.publish(build_initial_cache=True)  # publish as hosted tile layer with \"build cache\" enabled\n",
    "    display(published_item)"
   ]
  },
  {
   "cell_type": "code",
   "execution_count": 5,
   "id": "0b257750",
   "metadata": {
    "hidden": true
   },
   "outputs": [],
   "source": [
    "sd_file = r\"D:\\EsriTraining\\APIforPython\\arcgis-python-api\\samples\\05_content_publishers\\data\\Nursing_home_locations.sd\"\n",
    "\n",
    "item_properties = {\n",
    "    \"title\": \"Nursing Home Locations from SD file\",\n",
    "    \"tags\" : \"test 1st, test 2nd, test 2023\",\n",
    "    \"snippet\": \"test snippet 123456\",\n",
    "    \"description\": \"test description\",\n",
    "    \"type\": \"Feature Collection\",\n",
    "    \"typeKeywords\": \"Data, Feature Collection, Singlelayer\", \n",
    "    'access': 'org'\n",
    "}"
   ]
  },
  {
   "cell_type": "code",
   "execution_count": 6,
   "id": "e97d6baa",
   "metadata": {
    "hidden": true
   },
   "outputs": [
    {
     "data": {
      "text/plain": [
       "['opendata', 'health', 'automation', 'ArcGIS', 'Service Definition', '.sd']"
      ]
     },
     "execution_count": 6,
     "metadata": {},
     "output_type": "execute_result"
    }
   ],
   "source": [
    "uploaded_file = gis.content.add({}, sd_file)\n",
    "uploaded_file.tags"
   ]
  },
  {
   "cell_type": "code",
   "execution_count": 7,
   "id": "db3fbea9",
   "metadata": {
    "hidden": true
   },
   "outputs": [
    {
     "data": {
      "text/html": [
       "<div class=\"item_container\" style=\"height: auto; overflow: hidden; border: 1px solid #cfcfcf; border-radius: 2px; background: #f6fafa; line-height: 1.21429em; padding: 10px;\">\n",
       "                    <div class=\"item_left\" style=\"width: 210px; float: left;\">\n",
       "                       <a href='http://renemorenow.maps.arcgis.com/home/item.html?id=40428574422d4c0c80c01e36bdf763c9' target='_blank'>\n",
       "                        <img src='data:image/png;base64,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' width='200' height='133' class=\"itemThumbnail\">\n",
       "                       </a>\n",
       "                    </div>\n",
       "\n",
       "                    <div class=\"item_right\"     style=\"float: none; width: auto; overflow: hidden;\">\n",
       "                        <a href='http://renemorenow.maps.arcgis.com/home/item.html?id=40428574422d4c0c80c01e36bdf763c9' target='_blank'><b>Nursing_home_locations</b>\n",
       "                        </a>\n",
       "                        <br/>Presents the locations of Nursing Homes for Department of Social and Health Services, Wasington State.<img src='http://renemorenow.maps.arcgis.com/home/js/jsapi/esri/css/images/item_type_icons/layers16.png' style=\"vertical-align:middle;\">Service Definition by renemorenow\n",
       "                        <br/>Last Modified: November 30, 2023\n",
       "                        <br/>0 comments, 0 views\n",
       "                    </div>\n",
       "                </div>\n",
       "                "
      ],
      "text/plain": [
       "<Item title:\"Nursing_home_locations\" type:Service Definition owner:renemorenow>"
      ]
     },
     "execution_count": 7,
     "metadata": {},
     "output_type": "execute_result"
    }
   ],
   "source": [
    "uploaded_file"
   ]
  },
  {
   "cell_type": "code",
   "execution_count": 8,
   "id": "1065ce0a",
   "metadata": {
    "hidden": true
   },
   "outputs": [
    {
     "data": {
      "text/plain": [
       "['test 1st', 'test 2nd', 'test 2023']"
      ]
     },
     "execution_count": 8,
     "metadata": {},
     "output_type": "execute_result"
    }
   ],
   "source": [
    "uploaded_file.update(item_properties) # this procedure overwrites the properties you set in sd file\n",
    "uploaded_file.tags"
   ]
  },
  {
   "cell_type": "code",
   "execution_count": 12,
   "id": "ab5cfebd",
   "metadata": {
    "hidden": true
   },
   "outputs": [
    {
     "data": {
      "text/plain": [
       "{'id': '40428574422d4c0c80c01e36bdf763c9',\n",
       " 'owner': 'renemorenow',\n",
       " 'created': 1701356070000,\n",
       " 'isOrgItem': True,\n",
       " 'modified': 1701356110000,\n",
       " 'guid': '51973352-4591-4802-93BB-59360535AE0C',\n",
       " 'name': 'Nursing_home_locations.sd',\n",
       " 'title': 'Nursing Home Locations from SD file',\n",
       " 'type': 'Service Definition',\n",
       " 'typeKeywords': ['ArcGIS',\n",
       "  'Data',\n",
       "  'Feature Collection',\n",
       "  'Service Definition',\n",
       "  'Singlelayer'],\n",
       " 'description': 'test description',\n",
       " 'tags': ['test 1st', 'test 2nd', 'test 2023'],\n",
       " 'snippet': 'test snippet 123456',\n",
       " 'thumbnail': 'thumbnail/thumbnail.png',\n",
       " 'documentation': None,\n",
       " 'extent': [[-124.393179116453, 45.5883017877787],\n",
       "  [-117.048569159349, 48.9991852646813]],\n",
       " 'categories': [],\n",
       " 'spatialReference': 'WGS_1984_Web_Mercator_Auxiliary_Sphere',\n",
       " 'accessInformation': '',\n",
       " 'classification': None,\n",
       " 'licenseInfo': '',\n",
       " 'culture': 'en-us',\n",
       " 'properties': None,\n",
       " 'advancedSettings': None,\n",
       " 'url': '',\n",
       " 'proxyFilter': None,\n",
       " 'access': 'private',\n",
       " 'size': 68403,\n",
       " 'subInfo': 0,\n",
       " 'appCategories': [],\n",
       " 'industries': [],\n",
       " 'languages': [],\n",
       " 'largeThumbnail': None,\n",
       " 'banner': None,\n",
       " 'screenshots': [],\n",
       " 'listed': False,\n",
       " 'ownerFolder': None,\n",
       " 'protected': False,\n",
       " 'commentsEnabled': True,\n",
       " 'numComments': 0,\n",
       " 'numRatings': 0,\n",
       " 'avgRating': 0,\n",
       " 'numViews': 0,\n",
       " 'itemControl': 'admin',\n",
       " 'scoreCompleteness': 56,\n",
       " 'groupDesignations': None,\n",
       " 'tokenExpirationDate': -1,\n",
       " 'token2ExpirationDate': -1,\n",
       " 'lastViewed': -1}"
      ]
     },
     "execution_count": 12,
     "metadata": {},
     "output_type": "execute_result"
    }
   ],
   "source": [
    "dict(uploaded_file)"
   ]
  },
  {
   "cell_type": "code",
   "execution_count": 13,
   "id": "e18b3b8a",
   "metadata": {
    "hidden": true
   },
   "outputs": [
    {
     "data": {
      "text/plain": [
       "['test 1st', 'test 2nd', 'test 2023']"
      ]
     },
     "execution_count": 13,
     "metadata": {},
     "output_type": "execute_result"
    }
   ],
   "source": [
    "item = uploaded_file.publish()\n",
    "item.tags"
   ]
  },
  {
   "cell_type": "code",
   "execution_count": 14,
   "id": "ae0ddb81",
   "metadata": {
    "hidden": true
   },
   "outputs": [
    {
     "data": {
      "text/plain": [
       "['test 1st', 'test 2nd', 'test 2023']"
      ]
     },
     "execution_count": 14,
     "metadata": {},
     "output_type": "execute_result"
    }
   ],
   "source": [
    "item.update(item_properties) # this procedure overwrites the properties you set in service\n",
    "item.tags"
   ]
  },
  {
   "cell_type": "code",
   "execution_count": 15,
   "id": "fda88e37",
   "metadata": {
    "hidden": true
   },
   "outputs": [
    {
     "data": {
      "text/plain": [
       "True"
      ]
     },
     "execution_count": 15,
     "metadata": {},
     "output_type": "execute_result"
    }
   ],
   "source": [
    "uploaded_file.delete()"
   ]
  },
  {
   "cell_type": "code",
   "execution_count": 16,
   "id": "025dc824",
   "metadata": {
    "hidden": true
   },
   "outputs": [],
   "source": [
    "data = r\"D:\\EsriTraining\\APIforPython\\arcgis-python-api\\samples\\05_content_publishers\\data\\power_pedestals_2012.zip\"\n",
    "shpfile = gis.content.add({}, data)"
   ]
  },
  {
   "cell_type": "code",
   "execution_count": 17,
   "id": "7eb36cce",
   "metadata": {
    "hidden": true
   },
   "outputs": [],
   "source": [
    "published_service = shpfile.publish()"
   ]
  },
  {
   "cell_type": "code",
   "execution_count": 18,
   "id": "f408d538",
   "metadata": {
    "hidden": true
   },
   "outputs": [
    {
     "data": {
      "text/html": [
       "<div class=\"item_container\" style=\"height: auto; overflow: hidden; border: 1px solid #cfcfcf; border-radius: 2px; background: #f6fafa; line-height: 1.21429em; padding: 10px;\">\n",
       "                    <div class=\"item_left\" style=\"width: 210px; float: left;\">\n",
       "                       <a href='http://renemorenow.maps.arcgis.com/home/item.html?id=07d63bc32bbf422d97e58492abf282f8' target='_blank'>\n",
       "                        <img src='http://static.arcgis.com/images/desktopapp.png' class=\"itemThumbnail\">\n",
       "                       </a>\n",
       "                    </div>\n",
       "\n",
       "                    <div class=\"item_right\"     style=\"float: none; width: auto; overflow: hidden;\">\n",
       "                        <a href='http://renemorenow.maps.arcgis.com/home/item.html?id=07d63bc32bbf422d97e58492abf282f8' target='_blank'><b>power_pedestals_2012</b>\n",
       "                        </a>\n",
       "                        <br/><img src='http://renemorenow.maps.arcgis.com/home/js/jsapi/esri/css/images/item_type_icons/featureshosted16.png' style=\"vertical-align:middle;\">Feature Layer Collection by renemorenow\n",
       "                        <br/>Last Modified: November 30, 2023\n",
       "                        <br/>0 comments, 0 views\n",
       "                    </div>\n",
       "                </div>\n",
       "                "
      ],
      "text/plain": [
       "<Item title:\"power_pedestals_2012\" type:Feature Layer Collection owner:renemorenow>"
      ]
     },
     "metadata": {},
     "output_type": "display_data"
    }
   ],
   "source": [
    "display(published_service)"
   ]
  },
  {
   "cell_type": "code",
   "execution_count": 21,
   "id": "76bfbb1c",
   "metadata": {
    "hidden": true
   },
   "outputs": [],
   "source": [
    "thumbnail_path = r\"D:\\EsriTraining\\APIforPython\\arcgis-python-api\\samples\\05_content_publishers\\data\\power_pedestals_thumbnail.PNG\"\n",
    "item_properties = {\"snippet\":\"\"\"This dataset was collected from Utah DOT open data portal.\n",
    "                            Source URL: <a href=\"http://udot.uplan.opendata.arcgis.com/\n",
    "                            datasets/a627bb128ac44767832402f7f9bde909_10\">http://udot.uplan.opendata.arcgis.com/\n",
    "                            datasets/a627bb128ac44767832402f7f9bde909_10</a>\"\"\",\n",
    "                   \"title\":\"Locations of power pedestals collected in 2012\",\n",
    "                   \"tags\":\"opendata\"}"
   ]
  },
  {
   "cell_type": "code",
   "execution_count": 22,
   "id": "50f981c1",
   "metadata": {
    "hidden": true
   },
   "outputs": [
    {
     "data": {
      "text/html": [
       "<div class=\"item_container\" style=\"height: auto; overflow: hidden; border: 1px solid #cfcfcf; border-radius: 2px; background: #f6fafa; line-height: 1.21429em; padding: 10px;\">\n",
       "                    <div class=\"item_left\" style=\"width: 210px; float: left;\">\n",
       "                       <a href='http://renemorenow.maps.arcgis.com/home/item.html?id=07d63bc32bbf422d97e58492abf282f8' target='_blank'>\n",
       "                        <img src='data:image/png;base64,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' width='200' height='133' class=\"itemThumbnail\">\n",
       "                       </a>\n",
       "                    </div>\n",
       "\n",
       "                    <div class=\"item_right\"     style=\"float: none; width: auto; overflow: hidden;\">\n",
       "                        <a href='http://renemorenow.maps.arcgis.com/home/item.html?id=07d63bc32bbf422d97e58492abf282f8' target='_blank'><b>Locations of power pedestals collected in 2012</b>\n",
       "                        </a>\n",
       "                        <br/>This dataset was collected from Utah DOT open data portal.\n",
       "                            Source URL: <a href='http://udot.uplan.opendata.arcgis.com/\n",
       "                            datasets/a627bb128ac44767832402f7f9bde909_10' rel='nofollow ugc'>http://udot.uplan.opendata.arcgis.com/\n",
       "                            datasets/a627bb128ac44767832402f7f9bde909_10</a><img src='http://renemorenow.maps.arcgis.com/home/js/jsapi/esri/css/images/item_type_icons/featureshosted16.png' style=\"vertical-align:middle;\">Feature Layer Collection by renemorenow\n",
       "                        <br/>Last Modified: November 30, 2023\n",
       "                        <br/>0 comments, 1 views\n",
       "                    </div>\n",
       "                </div>\n",
       "                "
      ],
      "text/plain": [
       "<Item title:\"Locations of power pedestals collected in 2012\" type:Feature Layer Collection owner:renemorenow>"
      ]
     },
     "metadata": {},
     "output_type": "display_data"
    }
   ],
   "source": [
    "published_service.update(item_properties, thumbnail=thumbnail_path)\n",
    "display(published_service)"
   ]
  },
  {
   "cell_type": "code",
   "execution_count": 23,
   "id": "4a8af7c1",
   "metadata": {
    "hidden": true
   },
   "outputs": [
    {
     "data": {
      "text/plain": [
       "'D:\\\\EsriTraining\\\\APIforPython\\\\arcgis-python-api\\\\samples\\\\05_content_publishers\\\\data\\\\Chennai_precipitation.csv'"
      ]
     },
     "execution_count": 23,
     "metadata": {},
     "output_type": "execute_result"
    }
   ],
   "source": [
    "csv_file = r\"D:\\EsriTraining\\APIforPython\\arcgis-python-api\\samples\\05_content_publishers\\data\\Chennai_precipitation.csv\"\n",
    "csv_item = gis.content.add({}, csv_file)\n",
    "csv_file"
   ]
  },
  {
   "cell_type": "code",
   "execution_count": 24,
   "id": "156d71cc",
   "metadata": {
    "hidden": true
   },
   "outputs": [
    {
     "data": {
      "text/html": [
       "<div class=\"item_container\" style=\"height: auto; overflow: hidden; border: 1px solid #cfcfcf; border-radius: 2px; background: #f6fafa; line-height: 1.21429em; padding: 10px;\">\n",
       "                    <div class=\"item_left\" style=\"width: 210px; float: left;\">\n",
       "                       <a href='http://renemorenow.maps.arcgis.com/home/item.html?id=3b1f59c6cd3b455ab202133146a2e199' target='_blank'>\n",
       "                        <img src='http://static.arcgis.com/images/desktopapp.png' class=\"itemThumbnail\">\n",
       "                       </a>\n",
       "                    </div>\n",
       "\n",
       "                    <div class=\"item_right\"     style=\"float: none; width: auto; overflow: hidden;\">\n",
       "                        <a href='http://renemorenow.maps.arcgis.com/home/item.html?id=3b1f59c6cd3b455ab202133146a2e199' target='_blank'><b>Chennai_precipitation</b>\n",
       "                        </a>\n",
       "                        <br/><img src='http://renemorenow.maps.arcgis.com/home/js/jsapi/esri/css/images/item_type_icons/table16.png' style=\"vertical-align:middle;\">Table Layer by renemorenow\n",
       "                        <br/>Last Modified: November 30, 2023\n",
       "                        <br/>0 comments, 0 views\n",
       "                    </div>\n",
       "                </div>\n",
       "                "
      ],
      "text/plain": [
       "<Item title:\"Chennai_precipitation\" type:Table Layer owner:renemorenow>"
      ]
     },
     "execution_count": 24,
     "metadata": {},
     "output_type": "execute_result"
    }
   ],
   "source": [
    "csv_lyr = csv_item.publish(None, {\"Address\":\"LOCATION\"})\n",
    "csv_lyr"
   ]
  },
  {
   "cell_type": "code",
   "execution_count": 25,
   "id": "dfc86922",
   "metadata": {
    "hidden": true
   },
   "outputs": [
    {
     "name": "stdout",
     "output_type": "stream",
     "text": [
      "{'username': 'renemorenow', 'id': '572e6d8c2f924293a5dd63c2de64f9b9', 'title': 'Topic_Publish_and_overwrite'}\n"
     ]
    }
   ],
   "source": [
    "# create a new folder called 'Rainfall Data'\n",
    "new_folder_details = gis.content.create_folder(\"Topic_Publish_and_overwrite\")\n",
    "print(new_folder_details)"
   ]
  },
  {
   "cell_type": "code",
   "execution_count": 26,
   "id": "960c9532",
   "metadata": {
    "hidden": true
   },
   "outputs": [
    {
     "data": {
      "text/plain": [
       "{'success': True,\n",
       " 'itemId': '3b1f59c6cd3b455ab202133146a2e199',\n",
       " 'owner': 'renemorenow',\n",
       " 'folder': '572e6d8c2f924293a5dd63c2de64f9b9'}"
      ]
     },
     "execution_count": 26,
     "metadata": {},
     "output_type": "execute_result"
    }
   ],
   "source": [
    "# move both the csv_item and csv_lyr items into this new folder\n",
    "csv_item.move(new_folder_details)  # Here you could either pass name of the folder or the dictionary\n",
    "                                   # returned from create_folder() or folders property on a User object\n",
    "\n",
    "csv_lyr.move(new_folder_details)"
   ]
  },
  {
   "cell_type": "markdown",
   "id": "a3473f15",
   "metadata": {
    "heading_collapsed": true
   },
   "source": [
    "# Ejercicios SGC"
   ]
  },
  {
   "cell_type": "code",
   "execution_count": 1,
   "id": "041ab148",
   "metadata": {
    "hidden": true
   },
   "outputs": [
    {
     "name": "stdout",
     "output_type": "stream",
     "text": [
      "https://arcgis.catasig.com.co/portal/\n"
     ]
    }
   ],
   "source": [
    "from sgc import sgccat20lib\n",
    "sgccat20lib.profile_storaged = \"sgc20_sabanalarga\"\n",
    "gis = sgccat20lib.gisLogin()\n",
    "print(gis.url)"
   ]
  },
  {
   "cell_type": "code",
   "execution_count": 2,
   "id": "0a874b58",
   "metadata": {
    "hidden": true
   },
   "outputs": [
    {
     "data": {
      "text/plain": [
       "'https://arcgis.catasig.com.co/server/rest/services/SERVICIOS/FS_Conservacion_edicion/FeatureServer'"
      ]
     },
     "execution_count": 2,
     "metadata": {},
     "output_type": "execute_result"
    }
   ],
   "source": [
    "dictParams = sgccat20lib.ObtenerParametros()\n",
    "parcel_service = dictParams[\"PARCEL_SERVICE_NAME\"]\n",
    "gis = sgccat20lib.gisLogin(\"profile\")\n",
    "ParcelService = gis.content.get(parcel_service)\n",
    "urlParcelService = ParcelService.url\n",
    "urlParcelService"
   ]
  },
  {
   "cell_type": "code",
   "execution_count": 3,
   "id": "cee4785d",
   "metadata": {
    "hidden": true
   },
   "outputs": [
    {
     "data": {
      "text/html": [
       "<div>\n",
       "<style scoped>\n",
       "    .dataframe tbody tr th:only-of-type {\n",
       "        vertical-align: middle;\n",
       "    }\n",
       "\n",
       "    .dataframe tbody tr th {\n",
       "        vertical-align: top;\n",
       "    }\n",
       "\n",
       "    .dataframe thead th {\n",
       "        text-align: right;\n",
       "    }\n",
       "</style>\n",
       "<table border=\"1\" class=\"dataframe\">\n",
       "  <thead>\n",
       "    <tr style=\"text-align: right;\">\n",
       "      <th></th>\n",
       "      <th>condicion_predio</th>\n",
       "      <th>cantidad</th>\n",
       "      <th>OBJECTID</th>\n",
       "    </tr>\n",
       "  </thead>\n",
       "  <tbody>\n",
       "    <tr>\n",
       "      <th>0</th>\n",
       "      <td>Informal</td>\n",
       "      <td>4378</td>\n",
       "      <td>1</td>\n",
       "    </tr>\n",
       "    <tr>\n",
       "      <th>1</th>\n",
       "      <td>NPH</td>\n",
       "      <td>18540</td>\n",
       "      <td>2</td>\n",
       "    </tr>\n",
       "    <tr>\n",
       "      <th>2</th>\n",
       "      <td>PH_Matriz</td>\n",
       "      <td>23</td>\n",
       "      <td>3</td>\n",
       "    </tr>\n",
       "    <tr>\n",
       "      <th>3</th>\n",
       "      <td>PH_Unidad_Predial</td>\n",
       "      <td>81</td>\n",
       "      <td>4</td>\n",
       "    </tr>\n",
       "  </tbody>\n",
       "</table>\n",
       "</div>"
      ],
      "text/plain": [
       "    condicion_predio  cantidad  OBJECTID\n",
       "0           Informal      4378         1\n",
       "1                NPH     18540         2\n",
       "2          PH_Matriz        23         3\n",
       "3  PH_Unidad_Predial        81         4"
      ]
     },
     "execution_count": 3,
     "metadata": {},
     "output_type": "execute_result"
    }
   ],
   "source": [
    "from arcgis.features import FeatureLayer\n",
    "url_layer_table = \"{0}/{1}\".format(urlParcelService, sgccat20lib.getLayers()[\"PREDIO\"][\"ID\"])\n",
    "table = FeatureLayer(url_layer_table, gis=gis)\n",
    "#print(table.properties)\n",
    "feature_set = table.query(\n",
    "    where=\"estado_predio='Activo'\", out_fields=\"condicion_predio\"\n",
    "    ,group_by_fields_for_statistics=\"condicion_predio\"\n",
    "    ,out_statistics=[{\"statisticType\":\"count\", \"onStatisticField\":\"condicion_predio\", \"outStatisticFieldName\":\"Cantidad\"}]\n",
    "    )\n",
    "feature_set.sdf"
   ]
  },
  {
   "cell_type": "code",
   "execution_count": 11,
   "id": "cde89cbb",
   "metadata": {
    "hidden": true
   },
   "outputs": [],
   "source": [
    "import pandas as pd"
   ]
  },
  {
   "cell_type": "code",
   "execution_count": 30,
   "id": "25ec7add",
   "metadata": {
    "hidden": true
   },
   "outputs": [
    {
     "data": {
      "text/plain": [
       "condicion_predio\n",
       "Informal              4378\n",
       "NPH                  18540\n",
       "PH_Matriz               23\n",
       "PH_Unidad_Predial       81\n",
       "dtype: int64"
      ]
     },
     "execution_count": 30,
     "metadata": {},
     "output_type": "execute_result"
    }
   ],
   "source": [
    "sdf = pd.DataFrame.spatial.from_layer(table)\n",
    "predios_Activos = sdf[sdf[\"estado_predio\"] == \"Activo\"]\n",
    "predios_Activos.groupby(sdf['condicion_predio']).size()"
   ]
  },
  {
   "cell_type": "code",
   "execution_count": 16,
   "id": "75182533",
   "metadata": {
    "hidden": true
   },
   "outputs": [
    {
     "data": {
      "text/plain": [
       "array(['NPH', 'Informal', 'PH_Matriz', 'PH_Unidad_Predial'], dtype=object)"
      ]
     },
     "execution_count": 16,
     "metadata": {},
     "output_type": "execute_result"
    }
   ],
   "source": [
    "predios_Activos['condicion_predio'].unique()"
   ]
  },
  {
   "cell_type": "code",
   "execution_count": 50,
   "id": "424b6cac",
   "metadata": {
    "hidden": true
   },
   "outputs": [
    {
     "data": {
      "text/plain": [
       "condicion_predio\n",
       "NPH                  18540\n",
       "Informal              4378\n",
       "PH_Unidad_Predial       81\n",
       "PH_Matriz               23\n",
       "dtype: int64"
      ]
     },
     "execution_count": 50,
     "metadata": {},
     "output_type": "execute_result"
    }
   ],
   "source": [
    "permits_by_status = predios_Activos.groupby(predios_Activos['condicion_predio']).size()\n",
    "permits_by_status.sort_values(ascending=False, inplace=True)\n",
    "permits_by_status"
   ]
  },
  {
   "cell_type": "code",
   "execution_count": 22,
   "id": "28902798",
   "metadata": {
    "hidden": true
   },
   "outputs": [],
   "source": [
    "%matplotlib inline\n",
    "import matplotlib.pyplot as plt"
   ]
  },
  {
   "cell_type": "code",
   "execution_count": 29,
   "id": "a4cbe057",
   "metadata": {
    "hidden": true
   },
   "outputs": [
    {
     "data": {
      "image/png": "[encoded data removed]",
      "text/plain": [
       "<Figure size 432x288 with 1 Axes>"
      ]
     },
     "metadata": {},
     "output_type": "display_data"
    }
   ],
   "source": [
    "plt.axis('equal') \n",
    "permits_by_status.plot(kind='pie', legend=False, label='condicion_predio');"
   ]
  },
  {
   "cell_type": "code",
   "execution_count": 48,
   "id": "d081dcee",
   "metadata": {
    "hidden": true
   },
   "outputs": [
    {
     "data": {
      "text/plain": [
       "tipo_tramite\n",
       "1    14\n",
       "3     3\n",
       "dtype: int64"
      ]
     },
     "execution_count": 48,
     "metadata": {},
     "output_type": "execute_result"
    }
   ],
   "source": [
    "url_layer_table = \"{0}/{1}\".format(urlParcelService, sgccat20lib.getLayers()[\"REGISTRO_MUTACIONES\"][\"ID\"])\n",
    "tableTramites = FeatureLayer(url_layer_table, gis=gis)\n",
    "sdf = pd.DataFrame.spatial.from_layer(tableTramites)\n",
    "#filtroTramites = sdf[sdf[\"estado_predio\"] == \"Activo\"]\n",
    "sdf.groupby(sdf['tipo_tramite']).size()"
   ]
  },
  {
   "cell_type": "code",
   "execution_count": 45,
   "id": "f70f280c",
   "metadata": {
    "hidden": true
   },
   "outputs": [
    {
     "data": {
      "text/plain": [
       "tipo_tramite  tipo_mutacion  subtipo_mutacion\n",
       "1             2              21                  2\n",
       "                             22                  2\n",
       "              3              31                  2\n",
       "                             32                  2\n",
       "              5                                  2\n",
       "dtype: int64"
      ]
     },
     "execution_count": 45,
     "metadata": {},
     "output_type": "execute_result"
    }
   ],
   "source": [
    "sdf.groupby(['tipo_tramite', 'tipo_mutacion', 'subtipo_mutacion']).size()"
   ]
  },
  {
   "cell_type": "code",
   "execution_count": 53,
   "id": "4d78e12d",
   "metadata": {
    "hidden": true
   },
   "outputs": [
    {
     "data": {
      "image/png": "[encoded data removed]",
      "text/plain": [
       "<Figure size 432x288 with 1 Axes>"
      ]
     },
     "metadata": {},
     "output_type": "display_data"
    }
   ],
   "source": [
    "tipoTramite = sdf.groupby(sdf['tipo_tramite']).size()\n",
    "tipoTramite.sort_values(ascending=False, inplace=True)\n",
    "tipoTramite\n",
    "tipoTramite.plot(kind='pie', legend=False, label='tipo_tramite');"
   ]
  },
  {
   "cell_type": "markdown",
   "id": "49f70d8d",
   "metadata": {},
   "source": [
    "# Analyze patterns"
   ]
  },
  {
   "cell_type": "markdown",
   "id": "ad15d8bd",
   "metadata": {
    "heading_collapsed": true
   },
   "source": [
    "## Analyzing patterns in feature data\n",
    "https://developers.arcgis.com/python/guide/analyzing-patterns-in-feature-data/"
   ]
  },
  {
   "cell_type": "code",
   "execution_count": 30,
   "id": "42200bea",
   "metadata": {
    "hidden": true
   },
   "outputs": [
    {
     "data": {
      "text/html": [
       "<div class=\"item_container\" style=\"height: auto; overflow: hidden; border: 1px solid #cfcfcf; border-radius: 2px; background: #f6fafa; line-height: 1.21429em; padding: 10px;\">\n",
       "                    <div class=\"item_left\" style=\"width: 210px; float: left;\">\n",
       "                       <a href='http://renemorenow.maps.arcgis.com/home/item.html?id=49fb82feed52447097534ee195d09633' target='_blank'>\n",
       "                        <img src='data:image/png;base64,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' width='200' height='133' class=\"itemThumbnail\">\n",
       "                       </a>\n",
       "                    </div>\n",
       "\n",
       "                    <div class=\"item_right\"     style=\"float: none; width: auto; overflow: hidden;\">\n",
       "                        <a href='http://renemorenow.maps.arcgis.com/home/item.html?id=49fb82feed52447097534ee195d09633' target='_blank'><b>chennai_rain</b>\n",
       "                        </a>\n",
       "                        <br/><img src='http://renemorenow.maps.arcgis.com/home/js/jsapi/esri/css/images/item_type_icons/featureshosted16.png' style=\"vertical-align:middle;\">Feature Layer Collection by api_data_owner\n",
       "                        <br/>Last Modified: October 23, 2023\n",
       "                        <br/>0 comments, 23 views\n",
       "                    </div>\n",
       "                </div>\n",
       "                "
      ],
      "text/plain": [
       "<Item title:\"chennai_rain\" type:Feature Layer Collection owner:api_data_owner>"
      ]
     },
     "execution_count": 30,
     "metadata": {},
     "output_type": "execute_result"
    }
   ],
   "source": [
    "chennai_rainfall = gis.content.search(\"title:chennai_rain type:Feature Service\", outside_org=True)[0]\n",
    "chennai_rainfall"
   ]
  },
  {
   "cell_type": "code",
   "execution_count": 31,
   "id": "e2fe5339",
   "metadata": {
    "hidden": true
   },
   "outputs": [
    {
     "data": {
      "application/vnd.jupyter.widget-view+json": {
       "model_id": "f8b920cad2614a59acedf0701ca2cb24",
       "version_major": 2,
       "version_minor": 0
      },
      "text/plain": [
       "MapView(layout=Layout(height='400px', width='100%'))"
      ]
     },
     "metadata": {},
     "output_type": "display_data"
    },
    {
     "data": {
      "text/html": [
       "<div class=\"map-static-img-preview-e8fde331-ead5-4f79-9c06-f7d31e5d5cac\"><img src=\"\"></img></div>"
      ],
      "text/plain": [
       "<IPython.core.display.HTML object>"
      ]
     },
     "metadata": {},
     "output_type": "display_data"
    },
    {
     "data": {
      "text/html": [
       "<div class=\"map-html-embed-preview-e8fde331-ead5-4f79-9c06-f7d31e5d5cac\"></div>"
      ],
      "text/plain": [
       "<IPython.core.display.HTML object>"
      ]
     },
     "metadata": {},
     "output_type": "display_data"
    }
   ],
   "source": [
    "map1 = gis.map(\"Tamil Nadu\", zoomlevel=7)\n",
    "map1"
   ]
  },
  {
   "cell_type": "code",
   "execution_count": 40,
   "id": "823f1fe5",
   "metadata": {
    "hidden": true
   },
   "outputs": [],
   "source": [
    "map1.add_layer(chennai_rainfall, { \"renderer\":\"ClassedSizeRenderer\", \"field_name\":\"RAINFALL\" })\n",
    "map1.zoom_to_layer(chennai_rainfall)"
   ]
  },
  {
   "cell_type": "code",
   "execution_count": 41,
   "id": "d7ddd338",
   "metadata": {
    "hidden": true
   },
   "outputs": [
    {
     "data": {
      "text/plain": [
       "[<FeatureLayer url:\"https://services7.arcgis.com/JEwYeAy2cc8qOe3o/arcgis/rest/services/chennai_rain/FeatureServer/0\">]"
      ]
     },
     "execution_count": 41,
     "metadata": {},
     "output_type": "execute_result"
    }
   ],
   "source": [
    "map1.layers"
   ]
  },
  {
   "cell_type": "code",
   "execution_count": 51,
   "id": "f619adec",
   "metadata": {
    "hidden": true
   },
   "outputs": [],
   "source": [
    "from arcgis.features.analyze_patterns import interpolate_points\n",
    "\n",
    "#run the interpolation tool and specify the field containing rainfall data\n",
    "interpolated_rf = interpolate_points(chennai_rainfall, field='RAINFALL')"
   ]
  },
  {
   "cell_type": "code",
   "execution_count": 52,
   "id": "c457dbe9",
   "metadata": {
    "hidden": true
   },
   "outputs": [
    {
     "data": {
      "text/plain": [
       "{'result_layer': <FeatureCollection>,\n",
       " 'prediction_error': '',\n",
       " 'predicted_point_layer': ''}"
      ]
     },
     "execution_count": 52,
     "metadata": {},
     "output_type": "execute_result"
    }
   ],
   "source": [
    "interpolated_rf"
   ]
  },
  {
   "cell_type": "code",
   "execution_count": 53,
   "id": "28ef0da8",
   "metadata": {
    "hidden": true
   },
   "outputs": [
    {
     "data": {
      "application/vnd.jupyter.widget-view+json": {
       "model_id": "8f88e4914bb741cb8ff5dd5c7794633f",
       "version_major": 2,
       "version_minor": 0
      },
      "text/plain": [
       "MapView(layout=Layout(height='400px', width='100%'))"
      ]
     },
     "metadata": {},
     "output_type": "display_data"
    },
    {
     "data": {
      "text/html": [
       "<div class=\"map-static-img-preview-b5c80a74-280a-4886-9f25-4f24edc078d6\"><img src=\"\"></img></div>"
      ],
      "text/plain": [
       "<IPython.core.display.HTML object>"
      ]
     },
     "metadata": {},
     "output_type": "display_data"
    },
    {
     "data": {
      "text/html": [
       "<div class=\"map-html-embed-preview-b5c80a74-280a-4886-9f25-4f24edc078d6\"></div>"
      ],
      "text/plain": [
       "<IPython.core.display.HTML object>"
      ]
     },
     "metadata": {},
     "output_type": "display_data"
    }
   ],
   "source": [
    "interpolated_map = gis.map(\"Tamil Nadu\", zoomlevel = 7)\n",
    "interpolated_map"
   ]
  },
  {
   "cell_type": "code",
   "execution_count": 56,
   "id": "bdd175ca",
   "metadata": {
    "hidden": true
   },
   "outputs": [],
   "source": [
    "interpolated_map.add_layer(interpolated_rf['result_layer'])"
   ]
  },
  {
   "cell_type": "markdown",
   "id": "3e89116b",
   "metadata": {},
   "source": [
    "# Manage content"
   ]
  },
  {
   "cell_type": "markdown",
   "id": "276fb142",
   "metadata": {},
   "source": [
    "### https://developers.arcgis.com/python/guide/accessing-and-creating-content/"
   ]
  },
  {
   "cell_type": "markdown",
   "id": "b442da5e",
   "metadata": {},
   "source": [
    "### https://developers.arcgis.com/python/guide/managing-your-content/"
   ]
  },
  {
   "cell_type": "markdown",
   "id": "c45591cc",
   "metadata": {},
   "source": [
    "# Clone content"
   ]
  },
  {
   "cell_type": "markdown",
   "id": "cc81694b",
   "metadata": {},
   "source": [
    "### Clonar Dashboard:\n",
    "https://youtu.be/PhEM-k34bbY?t=689"
   ]
  },
  {
   "cell_type": "markdown",
   "id": "69097a17",
   "metadata": {
    "heading_collapsed": true
   },
   "source": [
    "# Create views"
   ]
  },
  {
   "cell_type": "code",
   "execution_count": 20,
   "id": "c204adc4",
   "metadata": {
    "hidden": true
   },
   "outputs": [
    {
     "data": {
      "text/html": [
       "<div class=\"item_container\" style=\"height: auto; overflow: hidden; border: 1px solid #cfcfcf; border-radius: 2px; background: #f6fafa; line-height: 1.21429em; padding: 10px;\">\n",
       "                    <div class=\"item_left\" style=\"width: 210px; float: left;\">\n",
       "                       <a href='http://renemorenow.maps.arcgis.com/home/item.html?id=1efd0f15c3a14a3bbbb5b5b76ba0e255' target='_blank'>\n",
       "                        <img src='data:image/png;base64,iVBORw0KGgoAAAANSUhEUgAAAMgAAACFCAYAAAAenrcsAACAAElEQVR4Xry9B5hl21Xf2faMYQwzJpkwDJgch4wNGLDAhAHPmBwtkjEGjAmSUCBYWJicJZQsEEoIJJSf9J5eTv1ep+rqqq6unO+9devmHM654YTl/2/vOlW3b1c/nub7Zt737Ve37z1hn73Xf63/CnufC/VJavVxYju9ia13xrbei2x7aHYYpnY4iOygG1qxF1ojGFs1jCwqjM3+w57Zy47M/rZh0WNdy7dj2xwkttuPbK83tu32yMYfaJl97rIlL8xZvjGytXZoG7r+plp5GFvcj80KE7P3t81+8dDsBTmzH9qx5Ns3bfM4tlvVxAr12A7buq7601B/or2RTS/2rdRKbEvfbQ9iu17pWXc0NdNnK+l6k8Q+1P/SNL29JSctTSxJfBtPp2qRxc2JdVsjO+6PbK8d2HozsI3uxPaD1HYDs03162bf7Koe67raeletk9rVptkN/Xvy6orZx1638W8Wba2c2IKGaU3fFxqJ9a8NzH63aLaqi/T0PBpb+6TrZs/dMfvWDbOPvGb2JyWzip7z9VWzlxbMvvKWJd+3Y/Wq5k33Pwh9y/ry/2XbCpATs/zIt+Nxavnh1HZaAztoD2xfbUtjs3MyNhxTGvvuz7cy5wax5YLIjkeplSccm1ohTKyof2fHHIWxHemYXH9s+5LNvOZhuzmwpUrXdpp9m0wnFkUTm07HrvE5+/dkMrq9Tfn+7FjaYBRauR/YkWR+rz20C0fdwA47gbWGoVUH+jyY2h4Prk7s6vt2yIXG1g1DJxStUWRNda7Rn1q3G1upl9i+hLMRji2cjK2p66zUB1aqDy3eGFjUCK3e69tGvWsbjb4EfmiTaz2zPzz2E/+N62Z/IaH5HQnGa6uW/nXdgoYE8cV5SwXC+K11G10d2PgNdettjjSI5sDhJmmQ2lI9tNa1jtn3bZv9lq7ByKbzEHjm/2bBYUsS0p8/MPu7hqUjATmObSRwDEcTGy1L8r9hzZLnHVquNLRbzVAKJT4VGD2urQ0YO9MzJxa8uW7py8vumSYS/nBnZOkjEno9U/pUz+J725YIKOn7Wpb+kQT/30vx/OOrZv9Fgr8uyXu5vvunAsj3a5wuaszuEZoWBv4zAHlRzhIpqVZu8v8LIGYbSnTvBBzHEvriKHFC2wxGVukNnOxsSS7oVwFgnAOK0ybBr4RTqweSFcnP8WBsBYEFWdzujm1PsrYhBbsv5XvQn1hB92nr2NGpoI/1GQCcCfr/qyYgBWNAMrKB5D0Yh3ZhOBpKqAMLxyMJ+MiqwUQoTSwvjV3U3yNphOPBSEAQAO5rWfxHx9bf6tvxcCxBSLxmGEZWG46so073dOFDaY58R0J90uGxrj0c87uajkse0ET/cs7sX6/Lytw0+zlZkC9eMXtjTUJRNvvOLQmpvvtPElQE56f2zT7huoW/e+w0VjZJO7p3TpZr8t8FsH8kwfrJfRs3phYj6B/SfzMA+TPd76MXnJVMW2ifyDoCf645tNEjUvWfeN3S/2fTevWx7WjyNgRS+rI+8Fq7W5xY/Fc1L8A/IND+nJ7hkxfNdI5d0UFft2b2Hfr8fo3BL+gZP3LB/31J3uw3BIxf1d/rA4s1tuOloYVbI+sfTzUvzIfZ+J1Nr1x+88j1Jf6P+3ZYjd39S63Y6kdTCVbqrAl9W+8nrq0JyKtqG/q8L/DWZL1rAtbejNDTf8aUc1FCzkoH/ntaToJeHHsrQEMX0RDygjQ7bAPt2wkCKdPQWXgs612thlpRQKiInQzHXlYQ+vJw4uSuFXpL7ViMFDnH0FDCjSEAuVPIAcys1ci+4+/sd/Ptzt8AnwCSITC7UCBBrkuQc72R7fc9WDB19ebU0n+rif3YBUveVLWhgHCgTu8L5fzuzJ7OOTyhZEfdgVU0WKVe4P4ycAUdXxbYBtK8sVRQenNg6QMSuh+V5vwn0pTv1uS/VsL+v1x1dCu+od8fknX4YwmtBKH/cNdZt9wJjWACoV+jfc3cfz5wQtO7JTP7tDRsO/qQLMmpFdnRhQHck11LZC0BSEOg3qj3rCZrFT/Ytt5iz/awHqKLTuB0ytEwtWFVY/Q3DbNPESC+QeB/U93svU0PeJ7hljr/FVIE/7fGURbEeDYE/VLPJvp36+LAjkW1tkXJVvXTYk3UTJd4XFh7Un+vCFPlFfUBkMhy2E/vW6x7bDfVh7L6+usFgXfLuhq3NfXvlujfWmNoeY17ruP/ViS4g7W+pd+1ZYlA2z4QVQn8MwAANP2x2tHIa36swywQ7tYcJRpBsSIrSrgRcCxATgDYE33nMxQKynQsa+OuqWvvdsVKpFgzwQQgNQGG8wEDShZmwmcnpxJk/mbN/fsEABk4ZgUeIR+PA/c3u8fs8bPnzZ5Lm+i8C3SuhPBKqBnEQnfo/r0rfn2ghzqQHwKvbEr4J2+tOurTud511qKpxqBvyfzlQb0GAEDlBvqs67RkmXZbfTuQ9WHgtjoj22Ww9O+igIOGGIXSuLcEhHtlnZp6gCM9yBsq1lvoa6AFzrIs2LHAJ8241ZYWLcgXkJUJJRgF+SdFac0Y7v5vNh0fdzTr/5RVepWEPHx2/sgZxZK/IUqVRIlFsSxTFKtFFkywIhPRzYmV9Jw76v9KZ2qrffVHfQgPNagSWCyL/TcJ/C8cWPTKijUa0qAS9uNd0YKaNKU0eu+mNKGsQhNg6bedWmLLkvdrapck80/I+DxU8e3hmfaI2uM178fsdQXGW6HzR9J3NC24MXR9MBTYp9+wiSxdpTKwlqhOJ+iLHQxEGTqiDh0LRqK9m6J53ywAf/2aBTsCe6cpq9KzvJQXglmSNYDvI8C3AcB9lzogOKtx4gvkhvgNmis15jkvH5NjyvJtC/r3rixtXse1RmPriKo2NI5lMZVj3Wu3I9mR7HVPqDw0qRXQj4nGa2QN0f6OlDEguV3Dn28BxmMPhFMhdzQsvA0oI7GmscZhPB66Fo67Nhg3NM9tfe4LpLCfwB1/YV3U4VatJz9kIKEdOqAcyawVJOQIPX/3ZBU25T8U5VuU6+KYetj+2CMZnlYfDOUoyzQOQquItzekeQcO/dIG+o1rMLg5DRxaBMAdCljOJ+kyOGOLJ1P3QJjNjsBzoH7hAK+1QlvrRHarl9qKXIDm49K8n71k6deuWnt/bD1oy7+Vhv7JPcf34zdK3X7dqqdr47sD5JRSZf+JmqWSiKn64SYIHqx+MuGHantSFFv92NGWFfqibqzq1i0BNqVPf6H7/uiuA2a0LaXTSdwxS5LF5Zm/NBx4gIDQI/wPlX17VJd4QpbiaYHlMq3lG5aDtlsQUN/ZstYl+TNP6kKv0ck/Luv7hVII9zQtXehZ8q66UzbJr+Ut0km9YU0CVlYrSaEV1I6s2yvbaKVq4xs1GwYtaw7021DHBA2BSKAKA+dTlqXJi4GfOzd/UphFCe2B5h9A4DDn+15poPXbOqeGL6vPzZA2cj5sWwLekXyMcYglF/GTHYv/umqTqr6XEq0JBKcAmQIiWZBgKrmRnIWeuiOb4QkNOw8YWZu1IlkDNFnLgBIEPRvo2TtBRfPNuOTd+LQ0Pu3wWOPQlPwO7MKxqNCuvP/e6MTZwV/QZzrGd/2R/0snoUb9Sx2b5AKLJtL8bfkT0vhxj07JJGpggqW+JS+W8/iehmiYnHkJW1GaZlYbHWtgjzUA0DKEkMmY6HxaHBMt8k5Yrd+3fKNpO3LwV+T03+pI8xzo4X/nWFakZBVp6O62eMAP75j9St7iLWmbsgZAjnbauTvFmrUYKZwCa/OKsuP/va2BKIGslXwbwJD5GFmD60PtdkSp9tRa3dhSQPpnOv//2jD787IFsnxQQbE9B4wbM21R7ammB8aD5bMGWBaP5SsUY1tunx2fAWtd1+q/Syd+3rJ35n9k1/szRBRlCdIHW44SjHqiTy+UT/Pxi3L8izYs1a09KFq7c2StfkHzkVfLSRCKEsqqfMa2lXtNcfyqNPaxhEQCo+87YVPHNe2o15JlGcsixA4sVRReX8p0CBWSlQolaCOiR56uOCE9aecJc9wYeX/sExZdn0chmtprfRcMkqyVAKXkoz3yShaZRA6Ri/lrzl//jFrN9EefPTi8U8/nkRTBMJQCGdX0DEW1I90DBdGW0u/qOKzNyC5wcF+dpBOzF5y/CS19m9Te5yyZAYDyyNJXlby2frO+l0Cm4v4pEZgf27X4Z/dtuzyU9o1dmA4TXVXrSqiHV/vWLWBiBRwN9EiahYcfR96KYHVuVnuiVIG4fk80pmvbja4Lp25LFvMt0ThRGyIpObi/aNj0iZ7Vc/g6Armo0Xl++ikoRJ9SdSatTbyz/AnXfcBAIGuthg4ARKQAQ9YyJxaeXtXzlKQ5nSXF8qyFPgr3BTedsx2J7lT6kXNQOQ/LlzWE/umWtxZYjQwgS3mNy6ulVUVhy7tjW+x4cBAV2xj6qFFXViOVlUp0r/iVZed3pU/LV8prMkWLA9GoTlC2KU6L/BNHwV5xbNGjDR1/ZBPdqCMQAJDG0Le2jq8OyqJ7NVkGCb8sQGGI1e+LPklBiaaVBj2Bp6VnbuhcUUeBqy0QOcGS1u3p82jsQUILxoCm5aiKE1yNU7Lo+xmLbtnLCg7gyc2eLPbtQk4EiUhYMPP9vBxmbdZSnB1zBgT3vf4NXcq+u71xLM5/2/WXY/11/bUdQO48aebisx1Th9P3SYN91S1Lf7doEQBBKD5NdOd3j8U3JD0/K0f5f7tmJvOe/HVdGn7sfA6iGUSfsB4TnNgvW7FIzmmx4h13tAPcM9MAw5F4aadvG63AbshybIhmbfWgOakVmjLrTQ8OBAcB3A98VGVb99qVP1QZALbkDgMCQPAx0tLIUTKEKL0ki/dT+zYWXWnujG1H4EMwr0tAF3CU9Vnz6O6T1zO0e/JP3gf3kbSj0X9J2vpeqXw9r9Pqr5eftjywamvkHFSCCZxLX6FcXPPpxhlAaFiPrVVRD4E0/dQl6z3S8wDpnT0j7VDKoFQT7RPNrctqT3t+bsbi1PDqobQfABnn226esCwuQkYk7VNvWPrjOxY2TrSmqER9eHjaqoO8qLWUURh5izEcO4pTFv0J5MOEEno0LJrWAWym1Yb7Ov9A18mrFQSoHVH1dX1/KC3dseRiy825/cy+RbpmLHoOUJ5J0O9mDWbPmT0PEEAlG2FB/WzqGdXXIbSy6FpHIAa4GTDGM057dv5oDKBvv9eF2Y7Ng8N/PmuRBg0tMGqELm8yOAosvNy1/rGOFwjS+9ou+gRA7EsFAv07Lx9jR0JbKoiq5TUwr5e1+ee3LPrtopWkfbEKAAHuSqh5JIuGBeHfDWmydVmSza6P89cPNSh/XLLJX9XsWByfhNzyCQ2BzrgwpUByJOEBIPP/kfCLp5GcVEnbF910Tv0wp+MrkfyhxCX24Pz4ANAgGimWVV27UI0tBExEyAhBE5VC8D5R1uclOR+i/ZpVS/+sZL1W7ISZCNtpzmboLVHmg1zEIa/76BT3WZOzPnxv2yX/YoGvJuvDMwGQLV3LhWnbE9vUWJEQc6F5aegAiiOa1Bclagkc7aEczVJgKX4Zc3Gxa+ll+SYvORTvr9hU/gCaEo2JPwLlAiy9UV2Uq21VnX/Ua2vsu84foWEJoB0ABH7ugXHoOHtbVqQ6OBQg1mRtbmm+b53+LfY3rd7P2QSH68sF2P+0b/FoepucZZp6Kq1No2+Z3HnNf7sgZ+fM/pvjCUQAyEJ/VUBfd833ZVV9W3V96YY1PYssxqijZ2k5wPRHfuz4rRfWnSLAgpwBRA7x+MS03AmOsweY/418R2XonXkcOMm6bphalJOlEVWxT1yUw1xTx6aiVaIh0h723VsWXx/YWOq/WffRj8z5PdTktwS8tpxAAgbbctL7i5rYV4nTLwxk9s161/W/50kYX3rkIkHbcpYXJFNX2l7orqmtSsMTfiWWPk1mbEgseiXak+je0VVpEtGVzkVZqW7qzof2ZKDIGtfcbqbWWZLP9ZdS+R+14P0dATQlV/FY1yICA2+oWSzLGF4UFakSUPBUCkoFKGatwJqs4HLXO/CnzjsgbKdWFVjd9aVtk1uB1UPC57GL/m02NQYal46UxjDwQjTOdyx6fdEm7xdN6hzYXmtfwtBzlREDmetxLbSIiZaQhf2uDQHPccuiy20bldsS7pIcYvyQupr6PxmK2vSdxm3IGtAqg30pLPwWOfejigMS59WGBwLTvmRgTxZj2wmhA4Yan4/7WwKeDwy0eyUbrzflf9wp7A4Uonbxg01L7m9a2GyJ8nRsMG46i4C1gwLxHceeZ1WIPHX1DOXBrgdE/6wvtFx3xf0WTLrOcvTle/Bc9LGoxt/KYM8BB9CcGQUBJNrq6svOSWjLm54MwbeDwkcAaO0gcFEewnqz8XF8jLraoBbZ9GZg3Y4PFwZ1+SdkzL9w2SYXO3qgifM7aHDNbkeaQn5M8m0bNnikawdyco/k00QvEBj+8TWLBLgjaeWarpsSufk9Ubq3Nyy6IRCVprYnQbwkgX5cWvkptZsSeqzOkbhvOCVUm1iy0PcUSI54+h1bjk5Bo+ZBkTWAdywARlBHMutQlc9ftvQ3jmwsB74EdZLwr0jAt+uJ7R7HdkNgwgJdIuHdud3Jxgp5K5LqHB8Nc36Ovq8caCw+0LZIoHPJRaybrJVdk8k/HFmj58Odw6F4fm1oiRAXN0eWvLvuMu3pN6xZt1STkmlbS5a8JrpZ09x0Gz0bSuDGtxqW/NqhaG9FdPjI7J8tWfwyWYBuXZSpJuFByHesPuq6diyBL/a2NH4bTtgRMASvzDFDLI6AFVa8lp4RRNqRqFUDv8TRsZJV+/sWbIt2PiIA9Jhz6JqnMpl8Jdc0SP9CFubLV2zytAcEFqsrgHQF4NHEh15n6c8ZxRq5YAMAwEoUe/T5xJr16LcHCN+V+tuydvsCvnyooOosoruPQMhfT7u85QJMfL4wqrWcmQTpPHQvpIMth8pw0nMPMwsQKBBhPAR/Pll0t4Z1CTd17oao2WCqm/uHI2LlHrQZ+kTfh121qTRyISCEaDZ8QPxVZjn8YFvfpUJ66mq/7HOWXbzf8Gd+q2jpm+tWXB/bYyeRIfg9YdKldmTLrbEdqkXUMP2Tay6Ckggk5FOgUhnVebzuQbbWSG1bAGvKElEiYv9mw+zVuuiflixqRK5f+AfO6pwDLL4jJJv5LtAkwIGznTn7NJelVjuWzxP914JTBKmoaUqWjmckGiAqStQqutITlQpdaDJ5mazzxyxY+tsFmy61LH3RgUWvO7J2t2QjEiUvyrkMfF+aKyXa9QM73k+iOkCKwX5LAPnqWzb9EwkJEUTNbVcKEktQxlo4ABy7+cdaYCUQ+twsdZIQonUROhpA8Vp438kQ9KU2zElgN6xVLVjyg7rvR+j53iUap2viK8H3M+c5zg1dv+2FOUv0OQOBs5I65k5QzPktDmzeGcfSAHisSK5704HDA/zMulVFxaBWUzGgqCorG/rrjGRBeWb8KACH/F8g/gunxFE7c7y8eSXKAT8lkYLpIVIxkDPownAfAkBoWBeSR8cBVsOD4xQgBAB2xJv/rmG1QiBHMXUlDeQgWnoIsvDFMLamvo/R6Ey4gOPqkvj8P1+xSE734nF6GhXK8goI7JIEurKne/5tw/o35fBXErva8sBweYiTJNzRLWllWSjqpAxKhSNPVv/FeYv7iejg3UGB5eCaWCXA4azHDI3KGmDBcSdDTWDhqDO10TvqPrtOmc0fHftqAvI48mnsC6QM5MuNBwPRz6pN369+/cyBpW+s2KhLFIiwvKxytyNAyEL+g8sCj2jXeuATpp8m55zM+19Jiz8hbVkXePKiSe2yrIaEX1q3LHAg5Ag1wp0JJVp7qLlH6OH3/N5o5W1yX9lGS3VRlYazFGjfWQ2PJiYpiZM8uaj+/qoUwHPWLJZZLQ13HeAAFILIeU5ZkjAOPQDmfYxZwMwDZbZ5R73qrOEsvcpasbdpFVk0gNzrirG8QeP9L+U33tP0rsQUPxi6VnP94++FDBR1ccosWcK//V+iEv6zA5IGCb7aDvrOiSafMQ+EZ2oApCjfoCeKRYnAbQ9KOYGoG1TClar0pdlGcFT5JhKOfdEwEnZ1AbMtp5Uwb14UCGpCWUfw8opdKZ8B5DS/QJlGw1uHK/XULtZPIkgzeQiOWdRlBqJsLuxLNh4r9V+PLHm4Y23ROBz4WXBczMDR8o58Boq7NcCB5SgI5G1ZifG1vrVzgR10qGSYunBx8gfHzoraj+1ZtDuykShqsiM0/dSey7EkTwgEWFosASHcB9s+bySB7BBtkjM+fcGhhasUmaYWLorOXO9bo8vYjlySjmMR6rZLHhKqLVstQDkWnPb12njG/5TQ8D3AgVqF90vY/49FFyGLyudr90zz93t1S15fcglUch79YcNRtIz/VwYH7rrzgj7rX5zX5n9H03NdtP55tI+G1WueWEaeZ9zu+XwRQZY/PrYonrigB/0hgIEyaI9KAESgCI8cAHCI4GXQLPwS4tscDCfs6GDi3liW1vBYIBGt6Tct32+r9S3/91gVV5hG/oByhUA06yQrmg3srL/jqjT1ObMwmM9mv2cbclRzYeI0MAKH1ob3rxxGdq2W3pF8yyxJVq4xm3eYtTKAR5TehXztubveOkkLh/d17EAgBByzwABwj9X8Zxz5u4EDKkbgADp2o+MrXxuU+gOEf3bD4pfmrdMYSKMGoq2JQDNwZf/x/XKgp97qDgROV/H8v0so31DzodtPXzJ7pR7oaVGu9sQVg5Z7Q/mFkTSk90FQRjWNc3NIsnbs/L0zoWJ8T4BwErGZBUY2L7PC6ASe7PJa0/tJooPxSZj5vHnkc1wJfEn+v9ux9L3yGV0fAI/o4ghGckan5hvXya45by3mATKeBs5XQaCRZQe+oQchwCdvM5A8AwwAQsCBsPTgoGzjh0s2KHp/BCwcCUhlWTmCGenO0C5gJkM5QUQN4GCuBoWYsENT03WG0FcWSSADi1XJrAuclRh6eVAU72u4JFMxnLpSBFefcwIaKoO3upQxR66EYahBmh2ArGVZ1flB7wdD2231XOHbAQm4wRlICJVmVGnWMvx9jWMRdELF46cEju/edqFbwtWEam8JfM5POWnQMO4zCw4o1d2AgbN+TVZr63BqW7XEFQDWNQ7RW+uubN4ElOSinMMFmXU5/m0Jdacda2xTBw7GraHvIooc3yEnd1Xzc7VrMZSM0hY5tumP7livGPgaKpTPyXgfCXBdWWoy0RT8nSdo82M8L3jZd7PfT0L5DJXQYvy6E9DFUo7p39YtfXvd4maWFR9ZIOU5fUfZkpfI6vH7z+xb+kFZDJjBXD+y+833bfbzeYChoiMpiRrL2cM/S35XFLDjQ9OT5ZYlLxcLWO9bfCD/oleV/3HgKBiRNyjUQP52TYwJi9oXBoj0RTuyLu9sOCV5gQgAAAGFswNCyyJas/+Gj3rKRd0KpQkA5SThFGA+C0JuyYqDmmtYl6yWJz8Ihc6Ojqs5a0V0IgvdzT74eRMJcIYBFcJDVzXMwqwDQqBD7wBnYMHZPs+SnNcy+qWxs/i9LVcBgODFvdiVlqP1AQPX5O9pvVTDf+fqphpnIOEv1gJgYG2uqFUuDy3+/m2b/k7RKk1qlvRs0vrGgrK31H2BJQnCx3sWLQ4tFFCGtamEO7VmZNYdJhZf0eTvSvBkIerdkRUrQxuKstiXrFj6neLKpYmUEeU7kRUDXz9WHIxdPdz82J4ncNl38wI6/+/577LPiTStfelN5/Mkl7uOyiFThIvr3UNr1ySkrz32C75+fNei/hnoZq8335/5PrrPAEL3SN9SteQ4dM1ZfBbdUQsnnzSpqk+VkbNcLnH9yzlj7dH4yYoN9uS7vUk0dElyPxLNHZVdMAFqBnCm7cBVjruQ/s8fiGJ1Snbz1nVbXb1h5bKE+zhvt24t2cHBjjUaFbt27ZLt7W26z1evPW0ra9ctV9yyhaVLdmPpsu3mV3z4zPkwR86xP8vQHlitWbdweWC9w7E60pN2LAkcMmnjupx1mbxJ1ybRmTXJBmJ+8FxJQk08O9e3YqMvH6Rvex0qjiOX4SZJSMSICBJCPA+G8xpAQtBL3dRS1pywboMchzj85GDkQshH0v6LjTP6dkrXTv6NVQEUWVQLwGFdsCC3OqkF72m561LpOyiT3NNzoXHffmIFiDJ9r7dc9lWrvqYL3+fvREn+tGTJO3RBKhUuSqvpmOiF0na5oSyNNPmSFMw6uRH5dbrmUBaDqoT+mCJST1Pnx/SOcZ37bfaYeeGd/5xZ+7g1svQPipb+0bETWOYKKoNjj6buDCsWb/ctfbl+f6rjAHS3vsyGf2fvl7WkPfb1Z5+xZOnbZJUONPE/uO2rOD532dWnkaNyCojVm4wrY0qg4ImeJqnvy4JeXbb0BQc2fXXeuq2K1fqH1j06tpToicbfvkKK6/eP7UKn27RHHn3A7r33fZbL7drCwhVbX79p+fyB1etVu+ee99iVK09aq1Wzxx570HZ21+yovGsPPnSvzrvf1nYXLN8lU7nlNAYULAMJzv4U/vOZS5b8xJ5VywNZkJKjZ5QsdMJjB5aJrNdpRGsOHInUe7Lcc0WR6W8ULP2+bZteh0sG8pHEu8W9D4bekuAEAxIEFeswD4jzGoK+L+0fv6nmNYcGhYJD+2DblaLQ787O2C7W7jz3FGQ1b2G4J/8mdIxVo09VgWzyRplyOdjdoV9vMxLVTP+jJvk/Hzozbs/P+YkkaiUfxAmABM6+S844NVcsGnu441dNfvWqFwzaXmBJb+pyPOkryv7f0hbJJWnxwVmBnhe62WrW7LM/Bh9mduyz8Z8X1Nk2+ztUK5HlikXzounUfUfyeTjB4W26wsAJtX5iENPR+cI/e02fUrjzOP4mUgZupeUPy695qO3ua2sa6KsDP28AgWAL64x+4cCHzLdCt4rTLXRhHQ25NOoHNZYsXksf0XVeLoC/suQjiQBLCspktS90Ok27ceOaXbz4qBWLOdvf37byRt7S11ds+icFW7u2bFevPmWdTsP9ze/vWmerZEtPXrGnnnrU1vYACPHxVRe+K/d3nSNfkxMEEKKFpkNjKnPVqVEOUHaOFOXXvTHOUV006/YS5UgcFQcwIQ4Kmr9tw3FYE1Wxz79p0QOUBvglwgdYEfFt1kcDEKx9aXNklfu7tr43vaMo8Lx2WZduyhlPCBu/Sl+8R31mMRNVpzLT0b1t2ylEd6Vu834POsHlPvo+90ElM/SH+qZGX3z/4balL8z7iQIYX7vqS1dYMMYqyn+15uu7iKj9adklWF1kDZCwmpD8Bk47+wI82HFhX/IoziI9KYF4W8O6x00ptqdte3vdWf+1tZu2sbEipVcWW1iypaXr/vvVm1ZflXD8sZqAFY3utN6nQDgR5jNBPlFiVVmQP5X2fXPVWZNsnXfMnHKMS8BxndsLCedBedoE7qjLeZk8CIC1Ez+jMfZLtPFnZF1TlkjLjzNZfJcXIzzP71gNxhX5wWowtgRBqLimMBUgoBAJfFBg+xEav18v+PG9X2Mqyj2udOzCaBRYv99xjYK3iTRKvND1MfTPW7bpWte63ZaF4cAdMxV/SL9pzcZ/cGCV0p7lWyRkzuLNgIXkEbyuPSjZKOxbdCAL0GTZLeUNZfkgOeuI+7nqyRlwuCpK6Adr1v/6RKNTlcqah9dXLbrct/DeljVqY/kzU7cIZ6cT2u7Ql6YDkKOWOPvzDl22uP/amnOYM/9hXrBn2yUJ9VE7sVYttnF5aumKEMf68f+w7yzgQNTreuvO885rAIaMPnSPjDoswK+gS61f0PMxSZ+95Jfl3jihA7+e9xsywKWZPDQYGziwupHluP9dx64F/jtCvaxS5HgoGAnNH9MY3dP2ky/nvb1Ysve+5522eOmKFW7t2vL1Bbt+/YodHuzZzaVFpxDL5SO7cf2qNV8jxfPx1x1VoRz9DoGdawj6rGAn0uTkW4i2JTKbmeD7dvt5zwQQPlMhkP5V1dG1uKz7BLK2i32/FJkxe/vJ82Lpv3fL+xf4j7+ncfnEG74UCTaAT0TJE4qFSBo1dFgPMQInT8/XOH/xTQ8orof/8jd1X4RKGP1bNqxzK2cX4q6v0Y/r6tj7Jfz3tfwJ3FgXT3IS4mDkTCSm1HFnQpQ/vW218r5RguAA0vFlBjQA0t4vWPLSnCVvqdgk37X4/XLK1+vWDVhrUHZ0jKyli57JBMcynanogtvNQwPkUI2WfI606etrFonL1zqx5cLURbFYwnnMwqrO0K1ozMkxowyeIsYEwfmmdZvqOQ4k8KzUyyJQ88I8L9jU1W3J5xi9oe7XifxawWWeU9GkugCUhYvJ2j968nn+Ou5aZe/EEwJmOSvGkNqqkFo1KBUT8sea5N+Whnuk4xOD0C3CzAgB1oxJfVfLjbfLqmNxfr/orRuRLY5ZVKtMPX3gu2/bdADpPVGy609dsd7Ldy3+OdHE+/OWv7xtwcsPrP8HO1bZLTjFt7WyasFfSpCeu+MEi9J0F2WaK0M/tSjur1dqmbBTwEq/0rfULG7f7jPMW5ysOTCcJItnAZJQf6Pxts+Sj3Gl6yyS2ycAq/lJi95KokAAyKctufo+Nx78G8WDwAMQNruArn7pihx1OdwkS7EwlAyxzJlrQGWhZeuipl2NIZRNpn/8jiMb33dsjWbeLrgqVC4OVyNzDI2hI2SooRoauPSxjgVDae9gYKNq3+LHW9ZeO7aj2o6VejuWb6xbrV2w4ah7GgoeP3Cy+QG8GoGVoKcvPpTZEj8OAjlqofUmlB00bXIkQSCsBigxhUw2wiEnFWEZSQBq3cQtUnJlGv3IjvpsECE/JBhayBp3aWCc2mY7dpGgdDN05QsTmc38UeTKPogqzdOh8xqCv5uLrLciDVZUXx7tuvGgIHFNc7FcTqShAytvje2pc5KTWQNMRLPIs6zq/kPx5BQK9bKi13p8/rgFbzXY/uiKtNfrqo4imWijsYx2Zeh9kRfnvOKAH0MBABTHAWAsJkJ1v67xsPr65rolvySHfqlrKZEcUY3kher/7xW8wHzJihz8rvc/1juWfvmKW5WYLmtuRQGZ7+TWQPM070R7/yADzKywQ4OIMM0K/ixAZkGWfe+OkdKNq6ErInW0eqD7/03N0j85dkobsDoLki0vwIryvFhVqBSCT5ADcDB+mGqoFNYCRQNlQtnuCmhPaGy+fcM79FRLAK6vXLGEsZAsRbp/5DaG6LqCxkEgiuUGjEIxtpShA6DrW2QqXyFO+RJNykdeteRXD61ULFhvv26dv9i1weWyLYjf4sxXG0e2cP1pcdprFgR9PwBq8aGE4Vdz3jT+4I4v+MMybegB6zhWgYsYucgCy0f/W9Hdy3Ua4QawfJb/MVwN3NYw7KKyN4gdQFj7ccgWML3QQgaQEOLnLll4MHaXn+CofZEmXVSxdXlwuh7jsWfpvNM4ttBOZTWbfjue56y7LP7gAfWN/ap+aMd25Of8fZaJhpPfhyaxXBjlwwTyl8nF7COklJigTPBL0GxYGKgWcyPt7JTGG6oeHJSkEJYGMIDgYxe8M4+mRSigEMs4r30vKPgraF+OlyWC08fi+eluYClFnN8jerWjOWNPLnw+9Ss+DLwlkZBSDhTNAWTeUsy3DAzzVmgWIG4BFVQIiyE/M4nYKCOzKh6AlKCknYlzmu3W0FcWMEY8C+OAUhdjcEqH8UMx46Cj2EjK4svt61lRNsgcQDoa+98EtFQ+TPy0rMeKgPWHJfmiPQFGyiMcCiBcBIeQSYDPisrE9zasdVy1cK3lJmpws2HrcuacBvqYBZv+1LbtL27I4StZpXJk99//AXvkkftdpOsscqIBkX+TQh9YsffPV7yWxNEkwA+q/9drfs0CvJkHYhIpHXlH0y+BxckSgBOBqC+pzwnha42BHVAmL3yVJKy9bizfKHYUKH6A+p/EJdl6/cQiadRA2nZHNAvr8Wx8kdmGtdlsphZT10RokBV9l/qWMhFo3BfmbC1/5ryz8Anrk7VZ4PA5V4wskcYL1jRG1JRh7gEFSgkrgVbD6YRbU5tF1OrLpLx+aNsXZyL8X7zitjdyxX2fuOgFBUsCaIjWsIsKlglaRtUz44mWpUrg3S0PIgSF6maCEL+Wt/6x5qsG1dbAveDQbzyxE1o61riWx65GLl0bWiL6RWHfvKDPt1kLMmttZs/JQIPVcM/y6UuOoiVx5L53IWRACIj/UGPPXgPboQd7Vqcm39DRL0CCIkEhABCeHVnCh/ydY6+MoKEAA38EX4PfGDsYFPeXz+Gqvf/BFWehUhYEbgcCCFqJyaKEgZsKzenzxVO3mzZ92aHjcWiV0q4ojPwIJjJ5XckON3ZcxIu8yebmLdeazeqpZskGJpGv4DpPIzEmDW+iQC56AA+HRtG53zjy9IJSb7g/5hCgMLEsLVX/WqIAJMHIFLMxW4QD+x2bNr4yMFbPZtlnV/el26xhnADFs9Dw8w0g4bs0t8dnuYqloY8wvbJiwc7ItlupAwLHL9RTaxzqueUoR5qIWFSn+mTf7VZyVdd5Wo9ezE8tkeWMNcnsRuK4M2MCQB7X80Ln0Gxw6KzshXg8NOq5O/4vGzQAFGL9TPJjPf9vJh4HnqAGY/rivBckrovWZH45H/qxP/YBgo+77p8HweN8gAF3Rw7wbbDiHEcAgEgZO6Gw6d2RhKcpfyFmY73bw/PzYDm1NlCpYOIcb1YUut8zShVEnlXUppbKl4ynUC/9FSDTqz1PLWE3CDqJVSkm11hjxPhBn6DmKC6eGToGK8GqUGzKeCBPyBvRPqJVgAlGkzn9bNHEX6wxNPVFeafAL7hJuhn4uD9Cy9YxDDSDRogRDS8tl767IX6mB26Frkx4XjMQ2vMDooFj5V6MqeSznO7RieONKRXgnBDArxESJpk13YQrsSRMFBYNZGNKmWBREVbIDXfHvoxiRJm4JockHDVBmvSVjl9HTp7HHTP2Pse84D+bBqBuqgu9oiYMsH7yDV9VSx/RUPIltity2E+OxzrkD/SsWBk2gvtGCd13bVv6jRuu9HwiwQxZTQmdhD9/xFU/WeQ60OY8x7dvesexOvX+B5tJMJFMLhQMQUaJMHFQCwSG/rAnGMJA+TM1UkRgoGdYYCwSVgUrRRIUwMHR8VU4XxbXCR2RHiJjKAEsDMIGo8Ba4RcCWMKl37PlBRB/h3sJhFTCsiNNZhFm5WK2sdTWWeGvWPE+joDgnGToEXkMKCQBBq5/c+gtIX1CYX6w4zLw7jeccJ4Pn5Vo1McveqpKP7nWh2tsyTEhvwg9CoPngTY+P+ePvQRVrfk9ypBJaGiW/yJZC/XCKslCXXCDTUfR8ITIiAcDivzYJ1e4IYKri6Yrfbfs9pRCnfylNsfkVDnhZsJI0iAMOEMssYV700nQ/6kSNg2Q2z6TsB2DDbrRXm53xD2bslMIgJWWSPUgwdHUqpXI2M6JDDURqcvHqQV/XnEoZ93DdWlwfAYKC0nQ3ez64+aF/9k09jyoXBr40CuamP6jSZkgWZPWUmCPz1mlTQFm8mDXTxIWgWXHBD0YQ/FaR5cYdCaYVYMoCja8QGuRDPyY634eoEOEt5lghDsTTib075r+eASf7wAtkS+UCOdxPtqPiWacoUvMR40ITcdHwKAkOLRYFELMaEzRZvcbY45QYnGwIACXZ6HKgGeHmqA0uS/7kAFovgvYJENKEf9h4pXkPECo0XKCiywhuDwfoCf7/ea6T/7hO2V0n2szTtAoFCnPhDtwre/7iRAT3GBnF0pNkB8UAYqGsWLckT3GCqWGTMtnc35OW5aJfBfyxzygMIiYfvayp6V/WfNzIuVxwdEZOsTFcWYwOZhvHGX8BU6gchTt9SsFl7AjVn1qPeS8JSx8IAwJTyYUySSQqOGh6AAONJqPB+X6mEQ4MA/IdaEu8HxRrIm0R0tKLkU7fux1S755ww4Op07YyVRnPsQT5dSaTw3cQ090TZYdfLDktT/JwWfjON+tAbTKtaG3pDwD1g9TjvZXn3r3dU4XZ52eo39XF4Zec5PUfLTjBZrneqme8X+64oUPOgvYsrFAcBl3NDqBDHgxQs9Yu5KJtp8DFAzA+c2i/57gB1W9WBe0OfPHZhIIMgKeUS4EHNAQ+YKXM5cIPMB7bdUfg2bHkiAUXAeLQiMrDfhQnvg5hJUBKPNGn354118bYW/H3nQ/gnU4J2oFs9gJ/AK0z1/2CVksJLLHmP3LVf+MyAJWlZxOJuBYVZ6ZIAOWAFDj1yL0jOXJakTnx9I3fA0BLaV8mjA6vi4BJ6w2Coz7IH8CXOpi8BM/nlgR7k9Dhp+zJoDgODNgNEw1lAfTi8kmbkzVKcLOgOIrUAMD3Zqy+N7Hy5PW2E8OPkS2vyyIZEdyUvrft+UFAJ4J8HCGeFAmDABx31eU3MMN65GjUM3jqY2kRfrv79hy5awW6n6UjObu/cx7IbXFrcgezyV2j277XrX79Pv9uhRR5nnBf6aGL3EjF9vyYWRP1ViLnrhNJxzNYBtRCXYi8I7f2bLVfHybs/+A2n3q061tcWfGDJ8A7adzU41vyoSh4eD0+ACURTDpJAgRRGgUGpHEFdsqAUgsF5qPiWfiABPggSbRL4QI4SXcSbQPTs7EM74A8UtWfBSM+UC4EcQsh+AWZ5X8dcngI2Qn9McpAZ4XcDwv58HL8fglfIb+cC0CAQAESo7Acn8CDfRZ9Cg9YKXexNGvzGl3vgZCigUCkFgLgAzYUNQADd+AJCjjDtiJdgIOnoG/nM+qSKwlyhh6xD25HpaFuizkCzADLuSOccNfRS7xW1A6UDjGXdbDRe5w4rGafIdiwzfX+RfcYPMlHYQSof2gAWgxzPg/uuJvgBZ0YUkv7OluaOlw6sqX3QPCCRlUOoEmcqHdQ6/hEA4GgyQgGhSgMfFkTPVQzlp85YpzEDvSwld0KYT0RjW1hVpqN0Sf8htj2z6Y2kO61XvyZ+29M59p70Mp0XTLDxx5wMyDYb4Bvl0BYyw+Ov2FQ6tsj6xJwpF+oZHgqXq+RNo2kC+x2/M+yg09+or+3mqk7vxiPbYxjjYTgIZkMpg0BIdxYJzh+Zh/Fu8jVCgK+DX3QLAp+BN4gm5kKRYcLSvBjCQIrWM2ahh7DYkiY1yxbDinAOIXc359M844goQ/kfkRmS8DSN5Y939RjpzPAiicfwADjWH+2WAbmoaFIZxMoALKhUDzO3LDsyGozDNrVgg180zQL56HYwlIjCIHkGQSeUpG36DgeyMPToQb0NEfrBVy+LVr3n9AUUAJ8aEeUt92Rp6qQscYR4CK1UO2AFfmo2EBsMI8N1YUGvf8nM8DEa2F1jO+KCtkH8f+BTlvjVA0HV3vNWUBBBBwIIJN0oqHosNoMzqLBYCrchzfYw6xFhnnw5yjlQinMQHcBFSDXh4acwqioQaAj5tjoXRPVstR1h0cTdxDxbr21vHt2hnqUn6s7zbOjiSsGztTB4BZUDxTA0CA5f3FuwMGn6O7OfLCKhOcqN8pgoNTCq2BLqG54eoSjmhrZCMJWSiLOVa/J5qEFIFiUih5wPdA2zIGRKPYEwqlwLUIXQMe/AJC4HxmjBl/tLrOY136lHcLCCROg4pTA9ahNGyE5UCzIuAIDqBCiyMEWBnGlnnBx/iRHS/AAAU6koU/EXT8ALQsVo3zsRxcA4FDW2cBAb4jJI8wImSswAMAaHsEkXtxDQCL8CMfWFAsGyyCY2XV0l7kolMJm5jho+KD0lfoNjKElQLIWFK0Owr6RTnPLPhLBA06CtvgGQAIvgbWCxBzPxQ41QTILYL+PKxqywMZcPCcAAaAfMu6n2/OZdywvNBp5hnF2IqccrzgwogMGJOD1meiMscGJzE39oVgolZu50AGD/6MVkGTYBkQDLLvRFDQZjw03JSJ4To0nC0cKLSbhCDOsZlx6pzp5Wpix2sjOxQ4ENZZ4cUfqD2k/nz9qqUSvO3NyYcEkAwkWBYAAh2avT5gXDyKbYj24dmInP3svh9chEUCMlVfKVtxwojgoBzwt1iWy+TxPc/H8exHhRAhJFgfKAn0lMnED4AnM/lQLQSUe6LpWLCF0DCW/J7tL8ykcS7fY5FQVFBZhAuB/Xe7PjFGSTy+CKBBCdEfhArtTrQHoUJzM78oMeqWsBjQObQnAsLx1GQhfAg/IMKC0aBqKEb6wHxC7/ADsFwoTsBOMANAECoGcNwHNkGUNJRFDj1InELgGRgPKB4Wg5wOCglqyvNyH6gOyhe6g+Ihb8SzoVCxGFAi5Ama+j3bnmpyLGPDHEHVuD/3YY5QTlAugIbCwB+hn4ASi0gBKQlhrCDugObnguOeoJ6OYs4QfLQTqOLGTDg3oCYKLYhVoASFyWFg4IVoEXgrA4nGgwLAD4ncYJGYeASGh+FcfRdpgPK12Dnf2bJY/iLAH1R/P1D0/gah1BvHiRWeHNjBYmhX5I9cyye2tTa2K/uxE/xZMDiKdeRBgU8CmO49Pt8vAXzkKNoroR+411VOtP2629FkuB7aQTN1e+WuikaV5JdM3irKoP6netaxhK5/b8eql4bWkePONkTOiWWAEQ4iWST+EAbGEm0MsNDuLsdQ88LIpKOlmVTOAaQoHEDKd2g9/AP8RCYcxx8rjeZl3qAcRLHQflAdwI4WRvEh6PQHTYwwIBSAnPnimRF0Il1oXkDIfNFP5hxBhUngQNNPAAtFRFtTIQsFQutzHwAIwPgNOaJP+Fh/UPJaHktKopUwM9dCdlAggAztDmjoD5SL50PxIoeABmsOsBF4qBH9gwoCBPqGAmCM8ZVx7pFR+sbzch3GCOtB31BWjAnuAM+H5UPmGTd8tuese8XA/KhdcAIOGOgMpgitxglMMMkpqnrRYkwg5poL0TkG6211XzoC76YEAO7NGmqQCGdE6/DAWCGui7bFWZKpT75uzQryK2bpFEIMMBBsGr8tVM7ekQGILh2n1tMDJLJ8Qw3I4+XbAQI4iGbhyAO0eYuRtSd1vcL2xMbiwimDBnh/8cBrRwl5UJzacussGuZWE+rzTflFZQG72ErsqoD7wXxqHyh4Kni8N/FCCs9l8AlJMtBMKBoWIKBliSQBJMrYORZhgYai7QmFM04IC74dk8m8oFG5DpRsU2NOtTFBkG9dPwFb1Z+HdixPTyJBLa/1EUScbAQoK3Tkd3JRzDuUEMFDSBFk5pH+MH9SoCnbHtFHGAPZdwQPqoPwwRLQvsgRfmpGLbM1GWhuqDc0HupCpI7+AwJoG5qf66I4mQMEPUsJ8Mz4Z8gflAlWAvhRNlhMxhjlwTlYAZ6VxvW+5KZ/bgAJYJFHwIysYxQAi5Sds+A8D5aX8XpN1Y8tdPhfrwsgoB/KBP0hBMeDExdGaLggzpZ8BWclsrg1HWCimGQ0F0gm04rFYMAxk9ANaFumCagNUseipaHbjbD71qYtFpPbgDFrDR6W4OWWRzbVtUP1cSXnSzouFxIbkFf4lEULNSGEd+cpFdcCHFx3Hhi0i7pOeXvsrITjoUwsfgSaDCsizd2+p2NPnoAja4ANmkY/s+AAf/kOAO1tjn3WGSvExLmo1Ql9oQCzEfmQIg4q48ckINRMOuOOoCHoWAley3al5/0Q3gvJtQhs8EYuhBxhg3YggPgtct778o1iNDuUCYWF0KGB8Q/R8MwhdDmjk4AB7s9+YcxVRuEQcDSuLEo8oA5L1z0KvDJEG+PLIMz4XZQQoYVdZnZwxvUR/szJ5pmQM4D+1bd8YSI7+YdTr7W5JsKONUCGYB/QeagXtBBBx7JyD16MhOLG8jBvONk8D2OH0ubvRujn8Sd2vSXldxxxQA9l4xwsJP3iOgQgAGz20iXCvNBsUdYL7kHhv9+56SnUC/InNVlNX5AHKAj5MvFYFRwxzBN/iahk8WkGHySTCGI9LzyajHL2CjVKjkWzumVeypO6EgwEHkGep0m0/FJoCSu+oHbSDnv6N7VOj+j5Noqxi3ZtHUbO0syfmznjWJJZAUeIKRqs12NL4aD4CtAKgXhcmFhL34/+vGLRzx24+2dlJKcAKfnw8uy96DtAJHFYhaqREc5WpDGxKBBojCxoit/BJnE4/VnyC2DgB0AfoD6MlSxFchDYhDcvSThJxDlNiM8A1WBiCb9j1RF8MtpyNtsCYAg4oMxEpXBas3sADASHLD1ghfYCEBQYAkm2GsEXuFPRZHa/j1k7zktmeNnMaGiubAjwkmDj2oAbTQ6jwNfCMuEnICdQw8+44UHtLN2Gs6IUBlKJ0e20bBToPpyLdcFCnbzZy0W3EGqoFf4VMoi1w/LwDPQXNsMz0Ad8X/5NUIDxudzzwCPxDOhRRowT4GdsGCOsJJaKchQsM/3PUhEoIGRatPaC44M4NgwkwgxImAg6yiBAOXCIGBj4Kw9BWBDtQCSDY5lYaBmDoYFJfytv0W7X0r8ouwrKiTRhIsCMJSiFfuo2VLum8WDF39rGxB6cETo08qPF1BqXJFBoYnHl6YNdu1X00S0ABY2aB8U8QOb9Dc59WrJb25HlQFthunX9ycW++iSca2wAIH8J3Z5X9YsvMwvILO/Cb1C9yqN9b7pxxEWPeDFntMPOgWPvQDM+AAdlAkBZ1POXJ5P90dLiv3xoFHfGY3JMoVtsxjs/KPFJpG2TKDZKd1KWT2I5UG5YEWneqTR2YZhYUwooYYKhwgirq2zo+OAJgOXehEqxNFgwFBnCR0AGcItmJCyddWVDI79zvPrBS2eiVuDZA9fhHowjmyLgAyAnGX3DIiATWA/G4oU5zyh4ixi1W9OJhcOBJdQFIU9ofRpCjRxR7oGmByDQPNIMVHtDgZA3wsEAG7Dg36BEqRoASChuQrQIPOClT19zy1MsgICME5XFKGDRsRpEV0l0U03AWIAHwPdNUCyQhPlGg/GuwCw5JXrFAia35peLjRJfhUuxIYOKIw4CP+WGjw7wAIRIL3WsPfR7qrJzyWDc86/bClNXgUu9lHtbkvyPSLQu0eQeXwtOhe6inil4W9NSBhmTKY0avL7u8iFYhPOszXxDcKFZmf8BOBD8QT9xuw7ah1/zA1uZ2C4KbM5S3K0Bhnkgcu3Mj1pSH8d7YweSROa/WIzcro5BUxP2L1a9OYcjM25yspP6xK3Tjnf6jq/HVTR2tlbcvwIsW5xEyxJujp6wO0pfVqYrutLSebysaBi6191VgsiSXuQSc6zvcNQGTYtlxyozBggOvgd+DhEzHGq0r3wo6JSvq/IWxK0pZ7dF9SutjH3ggYJTFtcRTCA4g4+JIo1Sn4vBIlEGQlQMi3KSHHRv9eJcaDsWFXmTrDkZxAeiT1iobBMLBJqXBhGOJaiBdcaSYEWwxihpBJ7foVX8juygCAilT1JvGVDwJBgJFqGQsL5YVagmyV36iW9C/1E+MAtZ/wvuH5yIwIMcbsogYpIIowEIOkP4ThMbL7EFJq8pm9qUdRhU/6IF0Czfu22RNFpBE8b7q8uDro5ruBewsOGbezHN0G/Rk1sdWfKcdVmJW1a8EnjHXPNz49bEc3iZy/Frq9Z5e8tWZWVwus+jU+e1DCBYhJWDyEpXhtaXtnHmHEeVojj5H/Xw2ddrQaNmwUnmfFtO/lCauXKD96XLeZfjnqJ5NHapANIUWNjpnTUqzl+71HNlOizOcUBwYKCd/NuttZgtBM2+8+Uaty9EooqBDRd4z97ZUla2ZuJlSK5A8KSa1pV51CTcb61ZStk4c4ulo86OvcDQrAAXQZaQTRoZOOkH/cxeQ+ApX9qcep8TK4izz9wDLiwVICGHkPF+wIO2d1XEI69koYh8RzCBIANWCAtDaPoXD4ydRQC322EEIee6P7LnwYLVAEQACDnFUkH1kVUWUCHPOOLcg34MYm8d8W0ICECvyMlh2QAJY4BvAsWjcQ5gRam8gkThZy15rkh4DzQRe0a7UJRGA114+B92xSjimqjD7Bw+IkpBWA+qBcf+lYKAUrWuhIKX5UCZa5PEveODF0m6l3gO/W4f7GF7uSwnXE7t0drYni6l9r4jD5BLcsKjN9YdJdvamtgDWNZnCYys4Scg0NerqQW/X/LWAu1AJIfJlKM8GvsQ73lAcP7LCXWiYbnmwbl3HFuMJiZ7rMFPiaygSJg0jRfl7I1K5F7x0BqwAYWo1uD29RFn7Qwc562jmLUg/D2tg5uroD17m+vt550ex6In0TUWKSXsKEE0DSoD1YOOUTWhsYqaZ69FmwUrYATICVTgk6Vx/6meHbqHYiV480UrnirB+6EsRJagcgQmEDhSBigKlBQWxIW1Cz5AQJQPgMqpTihRkZV01gagUaoEQ4Gq8mo9rA6W7/t3PFXG4QY8WEiqFgAPwaWshIVzUbpE4OgHkURAgNxyPr4z7gPn43t0Y4+Bz18WQCgRAW1clDDn/W1LZJan9cCSix2PRsqDiUKJjiVCMDufj3lx5RfcNF4nHAMsdSD+ni3bl1a91vKvEKZ2rSBLMhiF7m1FbKxws5vYFWlbCg9xgtHycPtM8N6ndvkotYp8hY39qd3/9/gb5zWuh2BfE0D6xLTpHxxckx/LBB/UExc2zqiRq6U69qFhF6E6aVlO5Txat38o+kkeAvChXHAU0V4EKRhsTVokwRm5bXAQVF8SPi/ctwPEW4p54c++nwfO/O9susHmGrO/3wGS7L4jX4Keos3g/TiyyICEhhV87F2V7ZzoweGtCtYEJ5t9gpPH2xaNROfQhkSc0OwIILkSKBXfkb8hIgowsCb4ENB6/AsS04Rz8S24BpGvn5cFuSn6GUU+aoafg/KRnFJJTrVwysKu633v10GXYAbIKRGvF+Z8PRvROa4NUPCR8NUALk46Sj3LtwCIzKLisBPQwAoCbjn1F0yOnSucA9Gb4sMVeKcGV1ok/fOSq0dxcWISgySwdKFONbLxSXYyFt/D8a0/1hdVGtqlqi8sZA02AGFzhboGNC/tuSYf4Iacoou16DQpOO/4Iox7OxI+CVn87z/0zLmLKp0ABADyCukUgLM7iZzS8HjitvmZtRhZYnH+Ws/UHi+mVjiKLF+Kba8QWfBI18byK/qbEh6WhuL4SSCydTHPpPnnv5sX6tv3sDrT7LOrNzmef7NLzTxA5u+X+TXud4HBhYQJ7aI1CSkjTBKOuJTtoeXB4e99Yqn4PhxaoPs18IcISSOABH0IkaLRoTD4NwR7SCMAiufueD8BVgItw88ECDjM3BennCRotg2SxjWVz0HR4+xzsejKUTBKcrBQ0FgaoWZnOcqeOnJPKBqgZfEUfaRPUETqAsnboOCwSoCKY7GqgO3zsCB0EI9fB6ctBjlwmzMAFBfL50GoQUILfP2aJdI2B3I+60/6d/sFMtPLxdit3GPndCwCwg+NIjpcHadW704s3xi7nc035fjfEM97vJrYA6JW8xEpuH2TcCn3ld+TvzmyJ3S9h86hOec1AII1oB8H5dgmLyl42iNwpAJ3vcy97+5bPNvGPYh0ZVYQ0BGZw+dgf9348Y6l60NPiySEfp3EncC4G0A470ygx477jxDIoSzEyPsvY/5Obt9hZP6ap0A4tT4zS6Kzv8HIRa5cRIdKCII0OMYCzLTjAXJ2TW/xXFSrLDm52rFOaWB9OfZsmpEicNAX6CbUBZ+MqBdam9+o9yPahIZ2a1l6nkYhg1ggrBnnkRORdYbNZGPnnpU3K18VaJ468RPwH4jGAXBC5+TIsET41FkJDTkjrBSAxZlHHrD2JEc5joQ3FBM/G1+M6yH7ouMXXPgL+iEHiogHk0DDjLp4PSYOhBFlEaJxSJ+qpHZZbSsf281S4rLI7s1OPQ8M6BPCA80d8SKXPy9b8rKC9Q/lnwwi25fjdKMV2yMS4PeLTmVC55z0XGwReRbx+vZ723awO7Xua2pWf0vDLucTexTBnqFk841rALKL8nE6AI3MNlEROYGJuOh+Lbktew+tmr/G39cA6nwS8jENE7uXbEmBVcOpBGjqFE76noYTOtZ0E76dtySzgpy102iVGm9lijtY9cCFXMfS2FgJBNTtYzYHkOyas5bGX9eDg4jUrFPP7/ybe7k1EmhwfAOScPIPeDvtHYED+tIbWMrbaj/9hnP+u72RdUTZBigD9oGVJUlFe4aiQ2zh6oBHKoG6MzQ0USWy6mh4/BaiYOSAEFRokAQ5lbxlO6Vkz8LWVK4uEF8DukY4mwgs0Sm0Pj7Nx173lAnZ5dpQYaJaWDcy5YCF3AtRMz5j0aBoAAlHnRWfRND+jgVTdPJkDS+vcY6faNuUN6iy3QoJF7gaF8B50w13KrEtHcZ2VVSKddZs3nxLQMyFfrkrb03yL6kUgMTlWIPtao8+c8kCadVSyK7vqW2Lbj1dlzYXSJ44SFzmnLBpKTf11kM8Mri/a8HC0FJxyZTXs8nh6/5V3Srv7dhTJX/8PDVypSZod3W5sCVTjJbhGX5A2kia4fAEIAg44LgbfXO1XOd8T8PizJewABA2u+adggM2WBYYnGYiDI4G3ZYQDu/0I54JIESenD/zE7sW7/ed4jo77yyCNXs9PnPcPEDi2L8NNwzIadxOzTzIBOh3N7xzTR0VYU5RbF5hkF3njF6dAOS3Cn4D7XfU3a7vvLaCF7FO5L+w19q4ObROv28DMQhnJRBY/EGE8Xk5n5SUpYnZcQRqg6NP4OcVskQPtd2mCamsRYQ8nvSBvX0dRZJP7Kgz84uPQq6DN/tiJQANf1GM5PVIxCLwFJeSAMelIFgDFaSSgmgcFgNaSJUDJT9QtIfZ9icrDCOBhYnDvK4MLZkg3AOfXSVD+Zu+JicWIhPx0+nS0L27onbyzo/qKLF+eWotQpsdNilgiawcODihNEeqDnRzQytLy9SDxG3HuTtIrNIUlRA4e2sj2xLQxjhI+DcgnqQT/BL/B81AIkkPFMshrsrv2b8RutKT2bIPV4N1ot2f0hi0yUugkaS1psuBrXfPLMd5AED4CRFnTvs8BXT3OPFxZtsVarQ2RhaIVrmtMsWZTQrBZZBfVbE0Sk6d3nmBnhXkWYCkRDqIvnzNqiVbfn9bL8zeImR+QQY65y8IBP1e2/02m0Pxx8MOcOLPAHLbvVvsYFL3jqsEiC2BiHw5QGX+h9t9U/fVdRBcZCSeWYY92/jOWbpK6FMBUBu0Pxl8hPoLb1ok6t6XPEQ46c4HOfJ0CV+IxU+ftOiz7+75qC7QMxV87sft9H6p40ub8DeIuOIyUN1BZI2Sdpx4DACWEace2eJ3XAZA8blLrlLcPTPWQ7QybI8tlDJL9kMBBFRjbrKwG+ihtgY+R0e5AZwMEMEhoWNEI9DKH2jZJD+2Ji/E2RfaxR8Taer87kSOeiq/JLX+so8UpDLfk8W+RbyS+F1NSwSABCeJ6xEEIJnDQ6FpyGbSHwaJODjFkGRPGTw4JOhG6L9hzdp/07QHTihXVvaBwGIlrmiuO7wZl+iEuGqwNXKhXed33CU6xjVmS1TIyLuiR0Chz4+Vvd9BIIItf4qXh7a2H9nhmrQmEyXw8pJNBC4hwpOX5eg9s+U4DyDus6w4ApCww+BJ6DNZ6DghTgpeeLlO5q+EYd96vaZ1OvUTgMw6/FnyESt0pwXxfRu7SJGrxXtRzs0vm8eFobc8vuwka7dTtdlnykDM7vLsoXzMfsTMKf6FqFF/LbScxq52UWCVQx5RHQ33hzIh1H9d97mWF+ZckSIv+SRXlIF+dhynbQH38bYFN/xbh109IdEzWezT9SJYC+SZXAmhYvwdaruoU+MeWDWc9G/dtIncCvZa6+Ulz8/dEUAwQ6AbYQUIVEHiPGFq8T2IKFC8hWnakUYTNXJaHfD8xJ6lQv2kI2Fgl2aZvlTarr45clvm3NA4T7EChA+pxsQxIiFEKBRnjUgF5QC/nPN5CpykbDUYXJTSB+LU0AwsHOtMAA5gJTT3WUvW/7OKPVbyWn82e86KxFot9ok7wPT2pvW3x67chN+xEOc5/bPlIxnQbhQTa10dWmNzbENeSS0wUGU8JI+gPoRyDJtLgbNsUIT0Fu/dO8tnnAeOeZDMt7PQLxYCEGiMBxPPtXmzrZQE+xjPAgTfpNfVc/Za7twMbP7e/nqemp059/yefXZN9IiNqF1OAFoq7jwOQgcQrA/AAChZ8nD+eU6fCce6Glq3FFqLCBWVuAjhgUCzPbL1I/xQs4A8xUdd8+ABJLIssazwJIospZixIsWj60zHZ35V1mf+3R8OrNQfWbGl56SGkNAuESssBJl36BMBAhKFRMUADslwFD8VIAQLSCQio59w3ViGwWv+Bvsah2+g1ISwFwLLCWzLyDJLhJVIAoV22YIZTCDJQYq5AAdCh6URKtP+1MeoF3rOfI66sQUaiIhMKel/FrJQ+IhQY61woJhoYs40LAMoJ6FD4wGJgmAuoXwull73sXScqvt4C9DISg/2bGE3OgXGbP3VjroWkxU9WZQUv69t+zNb9bjw7jkAmQ0T04igNaGJWSUocXr5FJtHkQ3+SNTxi2/a4E/KtlFO7Gh1ZN0VCVF4p9A/W4Dwb5qPHHlakwmy22HwdWU3V+kTHZf0y47Prp9tQA6l8pYou1bggAbgzq59O3hPLRfvtn5xzs+LNC/RuOQJWRPx02DYc1Zo3hK55+HVBqQI9O9kf+h2MUmkEGOuw7oSigVxyiWYY323IpAcLYc2EijGlKEw9/ITUvkgydtlRZBDhPoHdyyVlWAjQg98/0ytQd8ORfM2e4k1Lw88GKR0k7fWLZK/mpK5R1a5Dr4GTjkuBZb+uTveYgEM5Eo+S/SminXLlOykVhnG1r3etwsJfBCeDAgwSfB9TBQA4WRWhxE2g+YsDv13ON1c9L6OP46d2DGJlBEgwDSsEvTpBTlPn7JVdUQVQC4l0Zg2qFoWJ6fz36y+XLh6tnSTyAehOIrQsGyYUYG134jt4dL5Qk1lbbkqH4roCRpDNG04TG7Pf9zFgjiKNXMtnP3K4cT7QOyOISubvLdpiwLErXpqtZb/S9TuSiu1/b5/9/us0M8DYlagafPg8L95cGRCjPA6H2Mo+gYAT/chO/E9ZuhO5sP4694ONl+ecgaQrGW+DBu2cf2URBzzx/hTsi+Z4C26kx7RNF+blQHE78qvc5YH7m3FbiNyXkkAKFBuKBd8CQkqO0uyejDSd7dYwqDLP6J5vHYsH/bVouLIIjKCQJNegNVIuRIx49kz6tgJA4312LY7qTU1z+66vOFKICHQ4/ZCrkbel8X3QI7xQ9g8XEoepW431V9eDcfukSWNua453dN3opZhP3Z+8oVVTWpF1GNKZAGQAA54PtQKnoYgY2F4UMpQSNfjtFPcRg0M9AjQ0OgAmy9AzxhUIljS4lSzTnVu+lTfxnlNKsAgsiOzx7s3OoPU7WYynp6UFgAmCt7Q/tCpw5G3VjRCcdWpERh59AQgWXOWRN/dKiU2YYNoFuq4Xb4PLZEjWBv4yBuC/0y1XVgWR9mOPN26LIo11uTZZy47oEwf79lmcWqPlNPTEvoFPdKCxpL9gkcncfvzBP+877Lvb//OC96ZoJ/5EbNA86DI6NjZ9TOQZFbFg2N0So0y8M1GwbLzecWZK5cnokQSEcWHpRdYosWOjYKTVz5z3xNgpiXNEZEjGrQaxUtkCrn6uUMnJ2FhYjvVxBoP96wgP3V2vQ0+3aLEq9xJjFduO/YihciamESaPS76/Bz+EC8l3epFdq2dWnFtZAmrI790xSbvbtnR7thVcixIbPo19ZudJ+k71olwr+gUPk1UlM+iZyVsfhrQIGmKYv5JWT49a1UU/QKdewpn9mDiM5vUXBFPJpokM+P4GRsvUIlKSp+OY2UoPkOYAQ0Lctj3iVAaqX00PedLcycydewrt6Lx4h1+bPy2U0tsyqpDaZjm/V0nYDi+aOFdHTeI3BJmS+CugATHigpQKA5Vlz+153b+YC8ych6zws2/i+3Egxz6SN+Jf8vHisV3t3uejmUZ9HlwnNcADD5HqxT5sfnwqzYUn37qOLVL6nPvohxNXbtZGFs1xDk9E/ZMYDOhzYAwa1Fmv5sV/Oyc2ePnj5n/fhYcs6DzeRCv/TMtnAFuFrQu3CtK5XxGqDG+JzTll6iTannh3wqMHUoAGq87cJtCY9lhGswRi6NYhIS/uTPyBa1fsmKVm6FTKIAho7qz7WGNJa/jRuxYuJQm6Wkf6Tvh6+YgsOV27PJuHJ9fETj/1ZolUuBlXT97NTevCE+RxY+67uUamcUXgYmg1Alhj711z5QEz+6ej5005WoEom0OIGSCa7qgW6hCzBj6BB2Sc54iqWQjAQoWA25KSp74M9qBm3FzQnSYRgaEKAixdJJC/+XIhiuB7TQS57iz8yFb5vDW13I9tpIoSuN46hzqUFySBP5iy4NlSQ+7Lq3MjoqjUeongIJDqo8pVT6ShiWKthBYcUMC8nvHNhTtG2d7ITGhZIeZQFG9VOa23Pf76Wbr3ufBcLfGsYAkBmxfdcs672jZk6XUluQDTSma++gFC19btrZ7t/vYvRwonPbc+08G44Z7HRkvtpwFwnnAmG23C+7twDoPLLPnzAPEh4D9wqfbnev5tw2zN+7EUQ5Hr8gVUNxHCBVFhWzA4R/v+vcDEhmitIMoEUEYNl9AiZDTwH+EgktAIymotdbdXxWRAYTX5/F2LuhNe5wpB58UxYIcdQOxgPR0v2VWh1LqcyCfcAFwIDPC8wSFiq/7KYuewkPlYSZUA7+ybMkDTRcFzMYmG6eYN1ixYE3+UkMW7xQgrLNOiRHjFOHcIPxq7Vuh0+opi1DwLQAJiRbCrwgh9S2E0oghuw3O6r4+hgEjQsH3As6gEtm+wDB4ZcUmlHzsjG0gWpWw/BHBp5rzx3fdhghjWY6eOjeU9ek92rdjgXc0FkDubfl4Nw8J1WKyoAGEfRmAD7vqI2EvyrnISCq6GFWkEXH28R++ds1Gum72pihAcl4u5LzGcRy/JK68tzNxa+NdSY1AErC1zEulCKR5a0HPvU54Uu5afL+cxZ2ePvfcO+Z51zzv7psX7lkhn/1+Vti9Jcno1J0AOe+cDCDQiOGwe5J5P6NU3m/xTq8TjhnLQ4jasQUCNwAEXw4GQXUuFoVgC4oSGYB1kEODDj8/53/jWGgNlc4CSUU+4fxulPMNgFCNwEuHeM03r63jFdb+mQMXnct3hnap7pdqz7bMMvH6u6b8U8duACoWDRDDdCR7iXyLoB1avc3rAEcuFD0b1aOwlLqvMAylmKceILS9VQ0Qgo524KLfv22R+NtWMXabJowpZCMkRiRAQh9tjzygoDLkKBBW6vlxwPE/iHYBKIDygbZNt0b+9WN0+ovkTGG6EXK3DrvmHfbv2/H+DhaLqBXhXlmqhPPIwRAG5Ddi6uuhr7v5jGVLRcO6+vf4eTlrvbPl1psPHupaXX9Xm3LicLLhlgJm+pdVG9/Ttr58IUe3St4fcVW85wBjHiSU0gOU04RkyW8ksVSIDX/uaDiW4y5w/OmRz6IjOM87tMGw6V6Zzdu1eMkQ7xGn8W569/lE2OcBMiu0ma+RgQPq0W43bDDoCgB9KxYLVq0eW7ffsKPjQ/c6Cn7jVWt8bjZrVqkU3XtcBoOO+47Sk9mEorsfJfG8TIX5ZvNokmjkyFgaQVkHTi/hefxSkm34rfLLAmntkhzjqqx0xLJeqLbGPJawbuM+ngOK24S84i0Ar9SmbGlvKHYRji0UsLM+73ZHAsHdLRHh/R7WAzbE2POiVBgEgR75xINJIvolxjEYWTGMrTicWF20LQh8FXQ2BsEotJ3eDEBWBYQpQkjk6Cd2rfdEz1aqJPvE6WVd3E53//CqN7sSttr+xPZ0z46oT4I1Id/AIOJ8kyWlph7QENrF2d8RoBi07G2kJAcpc8Esww1ZuMNEZFsOUSPGZseEf7EAFM9Br3C04LvZxgTSVG1RM/Ib13U7NnGAnvHOQfqOVoHSjWWtXDSNpZkfc82FHKOpBBtrUjorPbmb435e49gsq87kLuhauSARDZDzB9el5IEQp/yVoN+yUb5pw17DvcA0nIh+jVruNXSZVZkFSPb3DoDAx080Hi9g5cWqvKizXq/YfffdYysrC1aqHdoH77/HFhYuWVFAuXbtaSsU9m15ecG9yLPdrtvOzrp7T+Fg0D4FY/aX3Ifz35gHZALhQsFkm7u9MOcsCm/TjY7Izo+tM05cBQUL0JZ4hR0KjKCNKGkk+Vh7lgDhDcFYEPxVFtYVhpF1Bj0bChyDYc92exM3r9k5T2iueevXkUB5KBEsHE4dIE/32yIaRlGiABOVJlYWKHbaAshw6mgc7410qzB7fVmrkaOXxm6houOhZObClZNIDEkb91YmqijFHUcypZu68eGSLowQS/OnDBpht89ZssGrqrZwTD2VGI8GpN4UwI6xGm1f74+gM5iUFxD1gm6R9KPeBUpE6Tzg4Thqrz5r2S+cwaxjngEMFgTKxwRxLRKXLK+U/5GKD7MiEAEnyDBbgDjfGFC32g+hdSXYa35rInHR4XJgh7odW/wQBiZ0PLsuZB4Us5bERbmKZ5NLoSZriY6kNBrNyLo7HQuO6xbWWhbx8nR29Pj1Q+s1yu41da3gyPqjhlsFOGs5ZkEya0WgAoEExWWyBRTezcLLi5544hFnGe655912mNu0aiNn73nvO9xbiHNHW3b58hP6fsu9CWx3FzCVHGje9753WalUOAVidt+kfuJ/wCZY782cMO4SPDZzSMoI0tT1IxClrA2G4v2Jq0djLG5qHKYs02a3dMlTLLnaq/v3O87PzXzjGrxznno+lmbvyBo0Aq8MahLi7c7ILjc8xcKXzC9q7KjU/tWCxVJEUUbtkRcKGgk1I48CKdHUblE+687Ayp2JAwdLMqgNzAswTd0nrI985PbTbogid+xC+drQVcgiIBMcWqosSUSJSo0HsQ2JSPwT8fnv3rLykbjZKypuc63O25ouinObEOLow1UJEbMlPZEQKBiVodAxLAHhPzghtIxwMBlznHw4ItlWaJSc77Ql32Ea+x04OAe/h4ABmwyLjiUy7TtyzBjQx+u+aJJd3ecHPGvX4KZ58Xj5L2xCbb+uPv3DKz65JItExn309MBa5ci9Nx3NhDWinoucCREvt26EEPDRncWKAJS+0A8iMbxotDgMrCsLARDiD9adw5j+9K78sar1wpp/iamsSBa6zWhO1rL8RqbdXbn7wL9bMBiJOlXztrW7Ymubi7IaB7a+sWyNTtGq7UO7uXbNNneWrFjdsc3dZTuu7tp+ft22d1et3ijZwcGurMiGA1ZmORxAxMvdW8EI0uBPaN7TRzuWijZTm4UVyxKFNKjJnmjPRdGeLDqI9W4VNH/4pCy0E6sIJaRXmSuNJ7vRbJZiN8aMGwqOEiC3aw3WH52oMbwkUViXZaiGkQPhtizzQVe+QXtsy+3UWaXu+9o+MMD748VUxhTdAmjAQSV3tuUUFJ60Az7sd25aKD+JOsLshUvHo8SOoVvUD8papr9wYK210C4cX/EAoTp3hPMLhSF/wOCIw6XsTCEu2n24Z5fkkC4eykTdCG2hcHvZOA+3Ly3hamqyN7eSOaWEGZBkwk+5AZSLzpN8A+2E4cjBkP18Smb79IUsJMb6FtV5/Zff/Di90ff1Tj+yaxVNAlSZqAdO3TKCXfOaZX1rYpWnBra6R77ChxWxdjc0dmVpoAgrBZeGEmKZqMthnYIEI9LAsFy2+6aG9X8pZweyolkFsKvLwveYA8hs415sa0SsPt+Tf4SVaPVt8nTVhlsV0ZqmrEbgfBF8EkASjvEFfFlF+hpN0Nvk4A8yX+PMwpDIw2fohlVrDApW7+es1j9wf3mDMGBsDvPShgXn8/DO+sYwJ56d0/E5/VbQ/do2Olk+y6YRWdLRWatC4BPHJ9vMRlt9ObU9VyjpQOqsF+f6v83BwBZbsVciBW95scDUwbGNkrM+mm/ey9haGLokXvxjuxb/5L5tro9tUSyk+ca69X9fCm9j4pTc5Za3IIxhfVV9FHUfSi5WO/LxBmMbqo8jMYGRfND2zdCGb25Yyt7O6m9LDvp4d+RLTrIdLFnii2WhsgI29PnLlrylprHyRbMAJHtNN28pa3UTa9ci25NMXWArTyafzPAEDY8wu43NKj6TKaebtywVt8bOWUf4zqMzfEcYt1aUcGN1ePkMdIpqYKgZGXIaWgVKxX5HlADgjJOr+LhFt4ySycJpDScDJwT1waHTtoOx+HpYt2G3ZZPlhg335IwHUyuIUx7JsjRkintyFI8vDW1TQA1ZUyJqF8jiEWma7StaDP+pzw7umF8SSfhBP7rjJ5TcC5ZQDmn60detL8d/lvc+2/ZoDc0YW35AQWdTVCHvqBXaH00MMFrhkRPkPr6IvksfaPlcz5eJ5uaDkyjOTMQqkoCMehL6I2nVQ6sPD63a27dqd0/fFXSPnGvNMH/6OWscS2vLB+oHEv595rksi9q3hHXqLQH0YHj2KoPXCdA5ih8bpysVsXaZ9cDBR6NjPWb3CwMg0KkdWQrH/4kqst6dvAg1f9BrUa/9hdAONnVPaP0nXLe6WAn+I446ib69SmwJvsSHXbHoh3dttZLYDv7dQ/+juTcBsizN6vvKYUxYBoSWsLBHLEYGDEbGI0fIso2wFBZaHMhECMJYloRkkBABKGbFIImQGCQrAoQlQIzHLDMwQ88w3TPD9DDd08v0dHd1dW2ZVbnv69vz7fv+3r33+PzO977MmzdfZmd1V0uuiC8y6+V79937fWf5n73uHEIKWVN3+7KbVqnPMCUVsvQCiEAZoAScTQQrEczE7fCE4qHFaVQeWSVkQbUTzOE1iV+8tquXODXST9Ui3EbAj9wspD3Zvd+iHPf/qORTLs8sDw12+IGVC9lQFjOB3M+pkaZMxtDLQg2XccOpNa6HtAbK+H6wxBKQ3GBcpBWbgBGYdap+qMxR7+el1DmUQnNPCUElpEpB/l9s7isxKEGoNDzpFlUtVnW1ZKCHLN++KuH/vG3dRAZ6zUiZu/2RitzNX3QLWhvTyiwmo+o6eziWmkLIgPQU4ic4HRT2BQrljrZG18LP85ZF2pWA9jsjKfQqUu7lVWs0VZIP5KTTkzxepl5d/9YxYzG7PZDhT2dk8PMFyaqRiBcHJmENdQ2UMBudomkM9gTCZ39Mi/SO7Hc0hmMKp0n4aQwSZ5K2wr5fV0r+sntnIwTwOpEYyu+fr0vwWkP69aYayMA6nANDW45J+vo9fdMe0IJnEO+44LnXDqcy/Ixeh/wrvJd0EiH4qLQRqFDKqoZp0f8MQakaprTQN+GFob5cj6S11Hc5eT+wK9GHS9K625Ws2hHHqbG0P1aV2qfrspYN1OYKXLtQkIDaDtaMwtezA+2hNWxaMjF4/XiozzSxTONmr6v040b7xReahPqmUwbByITAR4yfwrWHRCWfhs3CG4Bx/u/flYlCrpJy9n4+kMNy4NJGSEjEYwWR0++JAhib8lN3EhmmgEngZHK0SP+g6AUGwSAi6Ihk0Y2cBmODHcYM7QM7cH43Sak/T5q7yjS7+vrhmbRUAhhuVq2FDCn39ZzCK70cKSx4Vq5L3ODgHunxGPCzji1tPYzXik4DvZlhoH6Bs1dVY202BrKqkvq+ChHsFSTlWiuQDbXf8OFDbKRcUL6LkXrYC6SodsFJZyDpVksyzazUuwXVIg1pDk+U4XR/eggM9upA9y5vmrehP11fsprtZ1H/Vukfn+5ZUxl1imeGVjh4q4C5EDGoQZ+fYZsDZdq+Cp9up+k02JiyX4U3Cs06w4FsqS0AMcMM8aCrLzvw6SNZ3dKIrAhgLM27sUnR3LQSBbUAdRVRNFXb36k6BiFWVWRGJMyFcMUz+lULMlHjezl7Bu8f6nvHBLENtWRcL2kCg4QAcPXCYHiyyE62XlpZs7MjOvMMx2ZDYd94gx3IVRpH0lUa6uZngUIWnFt+0HdGM/5vmg4Qq4B4iUBimyjxmetOvyj6nEqGzNjFOuBU8Dt+cgxuIBqeKzpbcKPkw8Bo+NDhcuozeGjyuYiDEA/B5vmxQ4s+e8kIU8AgMEqpo6u9b4yBpKzq3+oqHfu5sgzvKo7vKvwqqJQpV+REpS4qcr/nPEtJBsFGeE1h16vF83ARGEVEPyRqTC7S92zLMDuWLQQPeT+lQOFbZDg5/jkfpLosheLcd8+YzS/sGV+clTT8uR5M8lCx91obozSQ3UZF90axtxJ9obOnTLNmK9vekFYuJ+H/lZHgE6TCO0iGkwDmyHd2pNZMK1zCe5aTwXFFop/LGIHauOf80J0F5/uwK1MqBAddS3O3Tikz7UEuVHvgmIN6H4TGcyfn03b4PW6nWSrTIJIQ9ytCFEgFQyI4KW8AgikRN1VjA9OxI0lJIqdqC0+q2pMj1UTRNy3LSO3Wh4pY/LWXMA0QvLjTfRM4mIl4Ha9TqgGsBwnhFcVIxx4hMVZpe1roS6vek5JCde/R6pLDRccV1XanDAL2KxSmZm+YbYBkIf+KijZsBiKmpI8gYQjmAUGIgIMFcakRMfdDGJEQFL4gMWAuvFofKTlGwj9OQ2EyPNkcvVG69TGFCKMcSOBhgJd2MEjRmAMYcaz42r3eKuUtZiP/3j2ZfupEJWtaip1jOW417UFhEox3Ntw/J8TMwE1mnY/VALwd+xsLQ16FvMOqdMkAzyL99vi/akaVNCd6zaWSYzAkPh7AI33EI92STWWgmzPiZs2112YMCxF5wrI691lM5dx7T5x3jBwjYgOHbTV0VUik24q/W6u2jpvLkm1uyPjzesEbd2yqFK7YoRr+JRUmmc6G1MppxfNZif5hSsa5poQv1Z20/W/XJMqoHUDTBs5UNT3Ver7dqC9UwmZCc9T7A1lvTMzbZM+gi+FEcTd4kkFY5Nsd676NydGz/LqhcyVDAyCVykR6GwNLF0EA4cXimb1wozNmTY9jm1uM7S3OADIyIqATNi+lEjiWfP8raBaEQ9oJMIt6Jz/iAcilGiVSGupkzmDWgCA3WpW2P/GHgDiq/ci5w7hxUtCxReBADB5SDHADE5vgQXGhYVAS8KP+XIkoRCXSWJnyWNyy/KOdIxALJiM3Z1b2SFp0d1w/xcmeMeIMEoda9V5OuqolOq2SfaZZyUv0U8dm5E/UIq528NLgxWlLcTCxhyWlaEuJ99WKe0byp9qkhty4a0beQSk8B53YdJBHj+AojE+DaxifiDGxGqQdm3+vK321VxSJyATm8Wk6eGhUWNT1df6WU+l/nJpajAWiWUwFkv9SRzZ2JvJM5oyoko0grOlFy8UUthWPL6kGW2yEctCqSKa9dcoc6bZjkLT+3srqfvwThUcfLcik35f+uKXMtCfV6rFMv1h2Z4mkJd6EC54+aEhd7huYorB4mutJp1HXPa7O8rYccxBZzrYh4Ok5dzoMEtcevqtMnK7iiwzegkL0FgFmSl9nQ4rIjijr8yHMSDmBOW5WL37+rr62o2dWeqkt+c2R7KmwI17HPlMDYsmIjF0gVw9Ixf99HiFBZ5o2QLcUV/Hc7InaLQNFMdALMe8JZ4kZoGd5jkHg8uq9nsutIreJd2P50xGcRmj7QznuRHLQdjGPkJlxaA5VyYwSoLyW4J1VHdLyEQbh81wLrgaiEXjCp96bSm/ccC7IBGN45vAQy7RGNyPjT+csoh6951C6avDiwux2yjKoK5N1swa9cGO2B1WV8l3raug9EgwGpakC+UBkAeBmxvGwCExIHAL/39dDCBAMaFEbdFNwBi2Bxk7gvCJMTnpvyqljZn0AT8kgxcjHpiIvDBtLYUFpfWhpEN3fqNjmj3/0UB4eB6eEhZHrIRZu6ZyeQ6SfDxUuRN+yLH2FH4fNQBmidsogmc66MUiq5RikovtRVO2SbW9KtrOpmjZrPZJ7t7NOY/M84H06+JO3hm3JdFqwO5WlaqQHKk3KhZyUCmkrjnJxj77aQSML0CX3Kq4F52mOeQvpj62BxrDyCTynuqfI0cPuTGNWHcTy5QksBhkNVQBHwCWCvdZDYU06KnAyyiBWvYrmRwPQ7w2biknAwC1cvHgrQUcwCi5gYL1qs1Bpu6JaEdSBcT7GfqbnsH6PMQjenKzi6x6FJ9gfajBRCVbQDSGXqUVnEbVH6Ifl09JLRKb5IgJJypHN9Fg2Kkg5gmRgOf0iFAjjsoBbEBoz7zgkXG8KXaYqZltqaHqbI+6KTDJKvZOV6ZMFK/oPf+JAOs3S6d/RPubJmTET/28OVKMods71Bta0LtufmleCMmC8cMv5UBZmWQTJA2QRxNpRfFs6GktTGb6i+9NHQuGVI8eKlBXsLYx50nOApE/XXNyHwZloYNJjsGUUZpY3HYO0PtuQ6DvXZfAzWZuQBWEReFzMhdZq9b7eE0zMqGmrreF6X3FfJrpvmdpQ8mqg5zpbp7YHe9cbNhX6FHSxl2kZ3ipI8IsZGSyXZLBTlimeCmxAelARjyKTwddt2CzGXdcfl2E5X2woCihJ8FxNgs9VZLrRlnJnoBBnegqr4ov9swnDPMccO+qyhb3XXOg7KY52ZiS1Qh66dsIU+4cTGX8gJ0zxWk0H1mqK3LqI5Em8UhA3ZbTveCCR2schmoKQAq/hjUM4lyYyVCHW+1RNQsrE9waOSfg7aAbbVw35SN/Tr06kpcKiqYxVV6E+gBfUNLjBA+4p91l0GdWD9GPT1Nhp3ezI3pHiO2yOP7gg3c81jHB4wCXl8D4ZvnoTg0ogK1XXUdF6YpVdPo4V6hMB5+bJ08JtDO4k9oEEViKaVvvmZfEMEmeS+GsQfbt2IuPNuhnmHpL59yc/h6+/NShKb9RSqKGYekchnRJAVw8hrwTf0M0uZydmFM7zTmFYrjcc3GIaFbYGwdQRKprsVYKcak9FL7clIicMOwWphVeGICjjIzASZ02hS/tjF5BViHekjEDrpGeyTnO8ngml869OJFLjtfmbFSOGnWwggQqSqRLx5PW2ZNITKy3NdusKm/aVUXYk09qQhjKFRbSHBB2LanAWJfpbuy5LATyOQYyHkYQ9sD9Q9xtmjIttiERFw+NswcVL2060PXEkJb7p3z+Uvcz4NI0kvpDozVtdye6NTetdlzlY0B1oJATr/+FFhyzudKTQiuxMSq91jeCjb16WwspAGrc6LtUJAxsDH0McOoXxyR6GvngmtIoa/xMVwCfKf0uNWcxLSTHC/Ys3FpsaJiFNH9pEY2CYq/0cvUfpRzVQnzjYf7cmN8CTOb0p2zwOE5gALNBNIzerQBo8r+lFBypBIRYeEGZACoCtScmAgPzD83tKcWZEBjAPwkO9O+UwPflXMCM/gS5PVmS8WJnZIWcMcp45/GtpC6yROp78e3wRTYZYSAqESbo9Iq3AJZU2f+9ApjRIUwM10mcqKwOTZGg9viru3i1t5qWOTJTQO2p7+dZCSEpgUeZ+XzZUcNxVYn85F8kr+ciMS7KDS7VASqppySiNqMSjQbJq2kbrrB+wD7Z6OPIgG8oQ9yNNKPQQaXqHN+ymXpd6BwK0a2qHELPZVeha6Kmk7RfNAK/1cxYVHxKbMIO6J9PPqwb4hbREP7TvEibx3gBv8SpStwOkgsF9zTZMA6Hg2od4cL6gHf/OgYx/oywbivOT2oNnqaPl/sSSZTU8UJvKzr7kEhZBGZdpZxZ7QCGdBWTRBrrPOAtyHTcTErTS+bDSxUcqtj8WE4EOsVdwLqCdYRRcuixqT7AVoanv3VGG6hptlquBjB/onuhZjPW7IrxcdM/BeYSDiUYb0D4l46RA6bNMtwcS8ppe58ZJYSpDVC3tUoieYmDTu+hXixLq6qh2CN6fMqYZqHp6NeGmTC42hRtr4wF6rXM29BGfNJgdWMYBcCBk5C73JFxtS7dRdqkRcxgkDrlw7TaHRWOUJGM45siZ/5/iJIzUga6Owq0poJacHIWKNoCGOMwP7Fpy2klnLA013FufqMmWSm6IvY03T6Hm5H/bl4W96Tkvzam3JjNzz8Zwt3f1rig0nZC5TPYA6e5qx6GVkvvFwht2sDGS0hdasnkwtexiNAuL66WWhjJReNp4oiqr5VC2VJNUBgQOlSEmfkzBWbSd14iT9PYVIi3WJbzTdJ4bArUY5bg4YRrOArxOvhtnAtQBopCeQSaESu+R7gNTiJOucmBg7XbX6IWmDEupwN5DDGOh6eI7ce9hcrFHR/rxkDJrXLEIiJ/LyTilz6LQp/+rJcmmJvY+vGSUE0yBgoQIELRogF8+seaCXWaRoPUQ8KTH/Iu8bKsAW9WXQ4xxhbwEI7GhGVUnfCcIBqiG88kP/iFzmd/pIM81P9+QGxSzmD8alywSBFcsKlkXLVD2G5E07/cskpk9GF8YSxZfMAdeGrofmi1D7QaeCiQU10ST8H0wHA9Idi+xFr0x2vF3B/VzDGEEP3B+ex8VrpFrpP9vKRP0Rg2DUv4zLWUcGGMM0dDBQ9do0jOGabYL0j4pSL9NR/KRBAddmaaosBvIGHcTguFbV6SiG35Ln3FXYVD1k3U5vNWT5zNn7VGTCyaJM4gXEMVGKCEJmcSGVEhM1Uhcrl0uVdlX4CtEFnf92gx3pPl/vCiRarTt/YnlnDFOoh9ry+kbu53WjOhzDyYdGfKz35JpXs/h/867SDYwFy3CufvG5XgzwOVfueBiFWj+/35Dxgq7V+YwiD2narqd1ZEsK1MDH3kP6TV4DH0+Fdr4smcGvg7pfAPT4uyBwKEViFoN97bCV19S/QW93dSrXWl+vGajNyxT4x+lpfNCS5YLofUoa+YmZtN0lHFvFlyQckqgGtcuz0vaC1489tOPlkZIEJMjmEisDwbBfkGg63tc82qMZ7pdK6GSsNi727Xy1MbrXYsu15qhYdR+bmxutssemA06eDBw5Zb0RyV9HmyHGkWVQSxgRvzSeH9wseFdQfXr69Od9rk4CMzQ7FRUTeal0T2xTNXMya6UWwq11EinOChT3JVi89Bea/dqMq71LMhJG00aHbvCpIExU0s1SV9tEldBN2uRQxZte2SbFaoUSqskh1itYVzu8pR3v5JuTT6b0VswqUwg9IcODQJEKiwO6s5OS+6bXzaGge+cXZvvpmHd4Y7er0rF1qfrspgPLYh20MVVesYglhs17jrNOWjp7217TsvS1WcNWkNXLk1lJZ42tBuM4EunadLH78AWUkKAMgpDgg+eyH52OtdOSy7e4xc2C0zCvc4bZ2e0orcwpd8ZxMkkXYQoNT/AQrWZKLCL9xxgXyhH2FPankKzf0TtYtUAFKzBoAWFvlZS8Je3rdCPz9JqdkyUHYbnM5TgYu9gf9GFH21Jy1JoE0SDXUM8CNe9/v+GQR2iqbqaByMzvqkRQSrc0S++W45kSI3Hf7NmEfb1k/Nxg3MbpGvteCq9ny/IQDFuUXEkGeuGdTFcibbjlcEtygHA3eBGPEGqWaLP16Q9KhtzNFt5Gf9+QYYfy0r59WNprxZlf2NT7ty9KasbC7JzuCJ39ffl1ftSqWRl9EROJh/MSPhK3aXKKISabreNeDyRuLoLX4Pt2+HMSi2bfakVe/Jg5sq8br06ECsev8Cmo87eUmqo59bnDX9CtVtxaukjlwkXmGPeiDk0FNekHp6iMLP99MhITSn2gVNOc1CXQXZwe1gyV3eDWpNRRQVCw6LisjvzGAFPcMbAJOB2GIJkUSoEMdQhWDJhwfikfashC4ShU8xV5QTJxX1a+n/NZQNgl8SFA89SVxliWg2BqvdDBkNI3ZGukUL0lAqU5H6wFvUWh8Q4vmvT3N9oMmBqTZEOECxSjZ1RGxgBB0RrkCFCgR7OIcY6KK1NgftoCapfcQPDQJ5BcGx83555/W74yaBTlfLb1Yv2Bdm+Q1xw73ggoUrClYwbppl83+nGnLghmPmTQDZ1Uxu6CVaai4pDUuHmBQ/j+8ajQFCSFAf692aG1twABumllGHomQpT4Ur+rnUpPX8gD5fuyb3Fm7JztCKv3nxRllfuSUffa358ovwQwY8fSfSPUjLKnDGIl7Rn6wyz8zdSKNKt3mkxTnKa7bxF+9LkLHZL+1f7wwgNrfxSy2AEBvZV+wZz4O5NfoevhY+/F4mMZD7sDNUeU62vWqM3aJuGbAzzloZDTKjey8rwWOHuF2oO47P3eKkoiyazAaiFZxFm4EyAO2gSgsEIMmxHpK4SF/0BDlX4US4QHx9hZ150xnn8Nf+sMBVQiywAgn9AMF5PKy2SsyfE0hhjrbZHU/+bVjhHVxp6KOMZm6fBmUsP9G8osjnsuPjdzsFE2l9qO0jPpILnm5JdG8or+nhtiJ/G1TgDfnBfWs80pdSPXN80nCjYHgQs8YahUZi4haPKBuj8VysS/su8+YAxTpMHB2TA5Vh5sW3NCmjKdvo3XUvpwAwoX5DPQx3vjyUiA/NHj2yA5ZRCLJgAFYpLDRXG5lPUj1sZ1Y5tskttAv1cS9Kv66b9y5zrYEIw6Z2r0nsuL/tHW3KU35BcdU92dtckndmXbrMmwS+mrVqP/klhUyVryzVx9gzgGSNerWe/U5Skdki529fDnxqBA6+uwyBI9+SoaWJKDYZ2YvxRUcfUXyXEo8LlgsWgVf6i9jj9nux5LQUxQnRHnYl0qg3pV6rS6VfUhmucBl9hkv6OCpn3HbsWPH900cVrIBa8PtgbGMcIKCAIAgsNAtFim8BQOFhI3KRDusLPiAbgKlUpfSAizvOAJrA5LtMuMI+lybQck1AMhbOiUw+cJ41rq1GuR2Y2g9+j5HhwXOLPqS34+xknNNgv6I/3M0lsQLo7oxgUulujbISlPueG/q2sDDF5V0pC6pxUIeAxzCq6GWCokwWC7YNgwGa2vsRpB49vqQaJFrpS60RzPSwww7IyACntcTeuf3CGWE5146ZKBFszzcJNl1b0i/7Th5aaUdsdSudw5Hzt2BoY79wQVYI4Bv7rVQe18NP/04wwU8MTrxXwBFOJskMJt2jp2bEsVUu8U0Pd2xYk45FSQYXecNixrFOvNc7glC86cgv7wxf/VDo9Waon8ouuwSDJwBjPv6laeIK7ECiDX16lNq5FhvlcxiBvVAufTENh7+/olmUpT6Dn1N8/lEGhbhoE97bLKEjLeKfuit+IdcAQwAxsQYQR2gR4xVkwNRZbiSAcUAuIhUuV5yCgSLoNtiKeL9zCKujazIkpOcYASl0Gu/39Uh2IcyGVnkhDJXcExkd7AeOUUEkI9RDMBBR74vdZz4Ju/tOXmuZe9w39fPEaDNLD8Cb282OH7tlUCwR6vwSDTZDrfhW2lQ6IxKPdvbv7D953EB9HAc/GNGdSL9aVHpf7ciNULt5LTS88lGkCvSAWfqiaYDcxeAY1W0KlMR9CDavM3b4xkXG0GpLF59ty8nJH7qsNk86rFkFb/PGHTnoRsEGFsyjNJUKN90y/i9JOWq/E3ZZWqDPuWYERhnvJ8rLyMhh1rDqOrFbSK0gxIRYwHY+ECkQ/j8OnS7jyVddGhhoHslQb/b6skXyXOODLmlvHidYPC43vSbEWOuiCS/JTVaGvWK0bnQZYk2test+89WxSU+E8AVvTWUQx/GixLKW2qwWBQRq6P9hdVoGJNsNtjdb+9aKEdEPA9sNzhNYgyxa3NxoDhsLdD+yo4P6tOu8mBj0YHufKVy2oIbwlh/mp2gMThXwXoXlyYYPsk32B1oApcRgwYRZBohC8rrQUL+FmX32nmQW9fgSD/of3LDbyYjo6N4ICyLlXCS1qbjSl9jKtmJb1c/H+y2ihjVQgE1JsGL76U/rdlHdgzyA4fqGgNBIp3YTO7a33eYPWPpvliwVFaI86DYH/g3vWZa6YcXMF4+9Zrahq04fr6PtQj8lrxNexPkBAfhKqnIelwux7dpxUIlbwPn2Cr1gwDQNRF04yUq0VpaZrc2tVodSBbG2tqW1zLLfvvSJLa3clU9iV23dftZrrXHVfFh/e0feXJKRvjBpa0buOpJWuSDZ7pMzQPquKU83RbtWl2Wnp5vcURl484GQS3ryVZBAOirr909SNXypItxvOrUa0+usZU16HQeIEwecYhJprzYJbr7VMu5Y7PqPAlQOQaGiJevj7gakEZ60YrOViQgglco4gerQ4KUBkb+u925wQ3K1kw9I5k54BGPdAEpXUpL4cNUb6nSNJK1zC6E7SR3zBIDsEpLFHMYRpAuEnTP1iwZpZPzg6S2OP9ywjs4DYRqR2ZuNmR7440xy8j+9cV1t3CqEzlYqcQb3efvlsboxfz+k+l7dVaJCsivbieahJoseBCpGuGvk24kJf7j5Zl0CZ+UZP1dv9REmq/+IltT2qTzel/MW2RXOT77EHL7qgUfL15CLaXgd3osbwGlBFiKTlAEgP8EMXVX0Dp1Ib+9L4+KGMP3AoD5+8Jc8++7R86UsvSLGUlRdefFZW1xaVQfbkM5950v5Gj6ebN79kHTsmT+m1/vgDM+63X1ySZ555WsrlvDGIh1d4feqtpuUYXQYPkm1NzxFs9iKDsGd7dZVAeEOQSnoAw+OROS08fOA9D1XDtp6qS/d3a7KiEg1tlbx+cnkGeUVXZkGfQwXL5LWqDLsd6Vcp3c1ZeXJllpMGg4zwEWOUEx0HVsAEMAP7jF1CUirQi+bjRKdJAAQKU8xEJBkGIgKvGgoCrOUnUtwYSkoN5J1WINnuWEKM3A8prFPohCcpuYf+mbE9yoQLqCD9ivsONaC5qB06GsqgPpW7M0GCXRcXGhD66wqV1plqlhA25hS51XOMrTYIfX8pYZjnhVzRfZ/iTVUNaDl1oBrVYpOfOLZKWM7Ufx/7fFuvfYNqucs432yKolvJvz3qMuLBf00Uk1R5DCTfRgi3LAeD8U4CGQYSARsSHW+3pX3nRF59+SV54YVn5Ci9JU9/7tPy2q2XZP94XZ588gl56qlPqNF1KM9+4XOSyx3L7sqGNG/npbVZktde/ZK1xtlZUI1ypyVhxnXpoxCooRpktTG9NDYRz1T16wv6/8LGSPqvdWzkwTnCV43abs8wLHk+GHtq+E1phKyExfAdDjR/s+sI8j9fkuILbRtQepmB7hcEg1YjqdHSUvRgSSUZt/pW42617TRrUIjV7J+YrTZGquHKBTphh6BF0GzYFUTN+f3PbwhtRiO6YWKbMMqM2BhwDA1PW9VvXJJIJe7gYCT7zcicGcd13YP0wLXV+caHhiIIsCb3kIVtR3R9t+2EBzVHkQUohw7SKdMMFnquJODkzL7A1kAw+L2Zly3Mvq/mAhk/VZOJ3j8JppfB43t6H4PfrFjOWf35lpR21a5R7XGyNTplDr8YRw6jnEt3f7sXUONAN7gHEVHgQjSdDfr2ZXdgFD9hrJN4hp8eLfNqS5hXN77fkEa5JKXmsWSKO5Kv7EulnbYgYrVelFa3avCq12tbB75uuyn9XkfqtbJ+riyjX0q7LFyFXZMWDNKWmr5nvxNYXCF5r34lN/v2cSgT1PI7Hkj3o1WVbO59D5mmxYwLAl3gdbpn+OQ6xcWTHz404uZAt9NTGeuzjz6QU9g4Pk0tSR5ofCERbQ+VCE9e60qoGJ4BocwImXbo59RQRmmYyxc7jKDheDCQMDeQKD10rlsYi1QSosdIb4zU9+t1dnvKIH0HdxWGMXwzwrP47pTLWfrJlBUj0RBhkB7JQG2rENiGMJvN2sioAJgnSNHO1oRB38oU5CUVIvVOKCNcrA96TqModKIew2uQ+IJhYBI0dZI5/CK0QBLose7rodrNd9WWua9wbfVQ0UHe7S22yNLeVPq/VbHeWaa59bUvpqJzdTnJ9dgZBLwIR1bu9cy4Sv7d8pR075n0ZWkOYGhiF6RlcBi4gak4xJjHiMOg0um3fv8AADdkSURBVIcCrozrHatxcBg7JYMUtQGHEv3rvDUyO4sqnzUjNmN/OJTwmZpFUHnvqNO1WutyuyXpfij3apd7YTiYOIO8rAZi/5/lJPzuLam8RG7azPZYHpiL0TxXZAsQVyDFnzJjNW6Hv1e3ycBcE0K6p5CBZEeL2p9cZMTksnqRgpOY96qRlNX+mIzHElQHzhv1fTsS7pw1x/YOjnCv53C+z+QFd6vxGfRdAzh5vSXTet9pcLSaMsyErvw8A8RPjhPFQ0S7l5QxqRmgw+IfuGduWjxoDA7ydfvJZQxSdcFN7p2E0L4CCAvK4TEj5+l2Rwql4EJ8xa/LGMMvtDIJlbSURVsO1V6a0HJUbdvCw77ZHmiI7FMN19Thf9qUnQfDuQOU4uuxaxDgxs6mHspf2pbona7d/Tz4wmsEnFqkoVDS6meCYBTCMAzroXT3e3edlwvM/MGijE7IYs0Yzm62ChI8W3XF+P/DuoR9SnZnXczNWxVPw1BY1R5IkFXJWqERQdt6vZ50+pIbRo5B5jwPKwmzPqfrzn4gDzfGcjPrnBvYYLnFvnUEJ307oC8TTE/6uBIcMLF3NLJ6kOT1/aKu+ypj3Qb7FM5cvIzSHjbHErFffM83LUv0uht26RgEIaF/x1tEMBhbjz4DQK5/cGQjvxmTNu7qfTPqjJw4tUlwSdPKtat2SIQWJO2d9kcKscZqP9pgHGzHv7kv4cfLaktV5V6ia4zV/Jedp43kRQx0L4BAfRMqo9BAVKOCHFZ60q7Oj8O90TJbORPIAA1HBawKKWscx+9fpzbJ7Z5pCOIne4tKA+9KyfDnC7J4GFww4s8xR8ZF+x8rg7AJ23sTCf6mbrRi27xKlnkMYu89QRIqf9RDCSliYaPwahBQJFiF9wV4wmEAC753Ww3e2qwJ2pHVhkQfLrq8ISXGeczhl3+d98AcwKt21/V53eq66rXLNMhVblgYx0fSb6tGOFLbpMEYBiKyeGnIHCURUAVAoIJgI+8yXuPXhgHRUmiQpL1j38HhzrA4WN6aO8/wfJ/4BeWzs6xUXLpusOfZxKnw6apF9KMXdF+fKBuciX700GCZvac7cNFnBNR3rMhUbZWDWiib1VAayvQWq8LLiNOBOAmxBhr/qRQeLjRkuTo+J1z4/YFK8+rvNaT1IbUJjlzw1f/9Ph4pAsY0h0BDkZ7+npQww/74kOGvF8/gqsX7N/ehuX1XPKX32SxOpXanJ6XPt+RuLnLFXPp1+wpnp5+t2wxNoFdyr+OLPSc16LEyCIuGBdvbYzlYHcrrCe+YqVjdjwUaG5RdIVJRMWOE1wTGAL+TB0O4n+YO5Inh5cCQf19KRmU0iCuUqncyMlqvWCp32DsfN0kySBxuWY8nhVi9jaak8xO5W3OBLjZ6nhZJRnSTi3QTn6yI1Cx+vikR9d5ARCKzGMTYVAdDq3+PEwCMgSHKYczrLu+9ZD4YCYMQtaahwaYilA6CBA8gDALsoQ/ukeuY6BstTLpDS+FB4FBvES53ZHqsdgqz1AddYQ65xVIQQjCZ2katxZ4UNoeWmxepHTjRZxgoPAv/9oGDjAizv7Ap40+W5XB9IK+cnJ2zeZXW9XPEFb51WSqfa56DTtgHY5wXxGHQfpw7XjZlxMFS71zA8LIFpEW4st/El5bV/isqpO9+qi5knU/+jwOpq50G/PXpOy+q7dj5ubxNCev+bE5uZcLTfUYwYePxk3Mw50DOeTEfO4PEF5tFkh0RV3P16QNVX27L5FeKkn3Qtwhog1gL0hYpRg03aeccAM2PqW0nDZuUiBW6iLct7d1S4XtUDeYsku6Zw0ff/YrPyDDmUKO93WxJcLdpEjBQVYtxPY8xWFelf8SJ2Ed0sSdyt3oOmgAROXym+VIZ93rb6tz94QOXLP8q574jySDJ6Hl8kc9E2gYN+mi3aVFggntksh7MxjTTHpTEzOHI2XR/VWHvrxdl0mNeSM8GYtIaKFL4Z4moJJAikHCXkpfEWai9Ej3fkHpuIsWs7uUrbZtBGDJkBiNe3xv8rX1Zxxie3RvwimDc8JeLMn1fWlIPB+c0CMySVhu19WzTFSURG8OpAUxUO6jVC82YTz6zX+zf7sHEivdq6bGcqJZrfKImewrtN1NTKxUnY7mn9g3CGkJnP19Q27HxEbVZv2fbyjFuzjQL++5reixhdCbsPHK4cVVRy1tZlvathmtfDbnaCy3TJqs0piOBT41XKufu6GsHedcNxQxbVDjuRTrCEyvBXUrU9QWVymoc4qWhBtsVTlFZmHGjBEZnsx2SmoPZ34PhwCai5pttXQotIJivVaL94QNZLV5sRMB6I83B5sIcMJEnZAjhOKuHhNYDXhGUI7UGw1jxf1GlMlNzOQyklGcMYJSv6/bXT6axxBdwEFi4o3KjWdPvoxZe9y9cbJtD4lR7wCD9kYNhVM+991iija4E6Z6Ex30nxYFOuNQVpkYKDUNgLhqbojk1/kOGH6kmHJPD9Wc3LICI7RKQXKWaJ/xru7KlEId78sY0Z0/n/wfp4NwcwlPa0O2gWYblT1naS87d348pdK4Hls/G+2AGGAqm8+EGm/+hMNbgOF44ovxqeLd+tSQP6SFwqyvdf3Vic+s5D88g7PPt40A2VbvdToVuz2fQlb/FSxZOaaBA8xvwN5ue+ONbXWiLAbGAL8Nff6BSZSoLuinNJ6oyVgmLq5Ig45K+NkZ7kPaA1MIdiQqmkTaJYxwU2bz7PasMdNojbX16qWWHQejbSxVdEk5ZkzOFU62DprRXWlJWjXSodGEtL1WCFXZGc1NArpOLxQYnN5UDzKYnEsEgYGsOnV5NQC3iBX9nX7aOnbT1NofXHH6dMt8VDMICFtK4u0nLzW9eMdsiXO3MZodgb/mfCqvKIxckxKYjBZ9cJQqG8LSRn0VCqBrvE2WGelO1EuknynCThz2pnEwllZvKiOFD+gzRR0pqww2k1uxIVTV7Zm9sUBliSqb+e/sKB0Ty/mGSI9UEY4Qjo91wMasGYaTecSuyuiOCdyf5qWyr5j1aGxrRr1YjGwRrsIxgp8JLJg+Unm5acA+mimcu0GtsnqAzuwQYlXfa2pwgc5jkRkmJpajG9LYS8HUi4tddXKugDzVWLq8/17LO8EgZgkEPKrNKs6JrjDDZHbioLi1pqFcnQEjBEYYj2oRxDF9sSD99nkEoqR1Nuub3p6lzXGv0+305qbekQXYv6e+Kz2lCATSxGoXaWarHvIVkSUIey7/KzfApsCrxGQifBssTYCOpDN+w5GIPZA98nWosxfl7R5NTmMXnISAOhutxYP47PPMRXCR+civRgYVrUNZaPFJpDqxQ5pscY6SfMYhLzHSzP6LmRKyjCZFz7g2XNNCGnCM0xtcsyujDZevBVV13NdkVJU4EHYKMxNSTuz2pqlGebg9ltTZS6e5sj/iELpjea1X/PKev5c+0AppgR79rSLcRYmI8w9cvWUCT9j19ZQJKvoklkcxo8ZLv3pLBXdWAuKHp0ILt9Ve2pf10w8ZbXCbkPVQ+J4Cw72Z/M+E0E3geLntteMM266sXZfxTGVnOnuXCPK5FjhZ2iE+Pjv8NAk13ItcVz/eGhZhw8+KhAcNjyJEuv9x1Xizq1ntulBlTmrzGOGeQDxRbqzRlE6d6HRLdcDs3v9C0NHHSr+d16YgvywWaSR6vgudJmOSC8eu0ZCUaTcIfadQKsQK9f8YKx/F1UnNDVHEpDDGdKJyIfjYrrVc78nos1mDCRp9jpxtJbTR1Y8N67RmDDK1sIG6LRe2Jg1Rfft91xoRRiGOo1B4pfB281pEC3Wl0++uvdMyjFf3IkQU1PUNjHKO1eI/vesi9JiV0XBuyIEaaT6zpdmRVO/TKCguxL6lqpEUSgpHcMHpVETwmZ4zX6H+lgsVc0HjPyDJWphgoIxeP1SbCbvpjD6T9oZJpnORZ+OUFEUIP4RMvUeBcPVTmfQZ7Z5qd875hKQhqRI7+8fmep49jATnqt7sSqoSiAwb5NPG/W5tPRjbj8sMnTuQcxiCbkr5S70452wSX76drMt1tWcPmRr9gtdZJm8OvsDR0xf0qFYdPVaVwPJbsxlCWVT1zsAzcucyt6xfSBWI1nDoj2uSaF8CC6ckWMMcCdhQu7M2+TeCKR5ohmNT2yIJs8wKqLLD4hExc8oV+cF9W02dZ1zAWwTeINdNTo5Xu7303+xuoFX2iLGFxqP+f6JpKRFoIe/qelAscUgOiBmv0vTuSV1sPwifH02Ab3Uq+eVkiJdKd7TPXq9Wh1J2DAE+a71YJQV2AMDOmgfhIMQrHkSuYI0OCHCifwU2pKw4G7EKE4+7QZdZSG8+z/0ZJxgx7pasJMFyFXe2ZpiyqsEgtDqTybMtg62VeyHnrsrOHceLBWn6/Ee2rUacEuauHehXkeDMLB8CUQNOX35XJDx3KakxDGbzSA7Ex00gNskrppEGdOoHDd6XczBDwMrEQupEg6ai5HjWtGUNcQp5bg4kFyGgyRkSfQ7U2NMU3diG+1WVuzkbkMgJoLkcqDTPd1fiM12anttQ2oDxUbYfCy50Le480A6IAUyeK/xtqswGz/N8hBhidGguCneXB2EYkhJRwUoT0lfcl+p2yG6eGMUtVKFFrr5EJ0BJ5VjtxpK/TP4oacox/aicaanvk6qG5Uv13sncE/nzwj6ly2BK+dsPHbLhvpC+/0319gragewqQibw7bEyYgXugLhxb87s2ZPz+tFQagUzouEgDBWwk7NhP1syFDUOR/ElZuN8DFvuazU6tTdVe8XysiTOHsX1Bl3eV0940vt8GCbPnGYR1o/ty24zny7jqrSxLzFseyOgXT6SgB3wz4S8/Vj6ww8JDgrYAkqDRcFuSeo2rFIORSjiVJGGeTiXnS2fPe6xc8KuPDTIMpNaLZK3lDvTteL55C9urtDl0bksMSdV+LaVZmi/H33e4P7ZJS+Gf25TcPVdLk7yW4WHdjtdykTyXvQjxXsae0206HLgRYu2R2hvKKOa1Iiq+qDCTHCuaElBmS+6Urx5E6CCMVDCNn6xZbzC0K3sFgeE5Skpk30Tba+FzttTsp38vdgaJjQPa6RA4/d/3nU2mRD7aGUqjHclYhXP42bq0HqiG/VJbdtXgx0atKOy2NjwY7sTEEKDftCzj3yzLSvli4wvm04wQxH900dKAFiuRvFp1jMDz+OeCSWAQ7t0Xx/kFGvAer3MM0v9oxfKC4m9+nAtYQap7MpENPI2Usqg50g13KAUv2EQwBh1RgFYwzB9asBFe0/r5QODZ9NezwqphX/H3ZypWuN9RqEBrmXnE93YsDg7js8yMEYKFKi0DNXbX5tT6E8TaVmhwoIxC04Hk31kQnI+uW/17AtLxfTgc1lRZ4Z3L9ycyZs53H01Cx/axpZQw1s7GaBNvItaheD76QFYCtQE6CmmWCqERzWnD6OJFBwQEhcbwDOLh1bwFdKY1rY36BjZjU5Bm/o1L0laoRIQaBuK572RDVzJRcs8DUwIti3RdJF8Lr+afWjOoTa1HiSKtynmHBUV5fWIcf3pdOh+vWuoQwsMziL9vr/34v2kRvq/otIc5RSA9bJCYFrnBzAa6as8ruX27Fgxz8nzbmkdbzhL2AsYY2JhMUzQK8Q+Yg78rFsXHPxnGmy4470ycQbrEO1r6Ogb/H15wRTiFi8Vgb8eCCQkEDhSuWLMyJN+vFCX4fENWy/MZgAPic0lJ7ZdnEHNJZi8SLYugIV1DSJlJKVxtDZ0AsTjHTynMpJ1SVbV4tyvjXl8G9ba0tlqSSo8ss9Z7E5GunvDNIRGztez5YgzCz6QU5xloSE0bYMYcTBFwGOAkQP6/RRmv9uVkZWDtWy973vi1bMYhk6PwtKHpsEdUSIY/nZGGCqC4PcseMifkKDO1WIi/Nw/BuHe0H8wPg/CT5zQtWHJQ8JV0KPWnG9L5lZKs7E3P0t1tfnkrEFzlOwoL0wQ39SFvl5yU48tNNRXPOJwvxyu1ojdD15M3GhqTXBhYvU/VZw3DKq54n1QHJBxBKzJLMciII7BBd9oyHcQ0xRx4xeyKEyYxKZF09TDGv1OVvB7IvDjH27HMe/Ww74qOqL3n/l9syUChw5038JhdtixRcibNkGrmgZnjSeN86HKCR6uq2oOa/JBZh2QTf9e6TPfb0h90pNsjWNqSlerwXJksZwrBeOiEO/YLGVdA5AOWxiAxuJJkEDKVGy/oOb1MkzqFeWQOk1GrZxtkR3LccVoiee/JhfOC+v3GQk9GxJCoESLQSmsi3Lpqx/SZmJvQuggKCN/sDf5/clHwmECaaao4PEQgbKyNhJF9oJXSMy1LhUc43DDp/dtqzOXGNvA9VHw4XldJsz20xl0VxYpUduYV7aR6bmYFKrRwXx/gvSlp/XbF5hMmH3TumuVmoWKtqwVGGinvtH4hl4gkOCoLafeDS5I8JiK8K12re/Awqj9UDNunM/xQuoq7O/qTWdp5tTuOBq6pMuob1W0wRO+XianxA+J3VPlbZSAzlvUa+zk1LjlMIrskzr0nJYFqQxqXvRmIhwRPJi9iQEKwXqrHF0xCEuNRhxF2aocV+kLiHnlubTWCct2RjVFerOIsSBj7M9sCzQCjHy8OpP2hshze6svzGUdASNpTBkGDxPaNz6RqoQR4pn6r5HoO4Bjg/P5FXsLfKku65zRV8r7ji7M62FY6RGDi4qUqFM1BkJMUGIXhgcLug+OLMTvuB+JfSAdS/92atD9atSzf5HfEFwLIF2bdPgyk9wsFmfzIkewsD+017ueGfP0Dl1gHTgTW8Lvvfk1ZIlKelA/6lR4MZEp7+CMlViLF73ggkx/Yk9V917j4Ogtb5LgQqNqfuglOQBE8FdSj/4/KrEShMcp5Xd8T1SYSNBVTL7QlWO/IZETW7lDq/b6kGYw5mNrKDwIhJ4/xC3EDjAYSlc82pEud8o7LPKUhxdH6UFo4D+71TGol7/M6i2fZ1WcnvWHEtCIgI91A8L7806yMvtiShxWX6ct3Jj9/2TJolfCmxNe8cW0stMC6CrR0fyolFRbmrAIZqGLGCMerOI9IYS40Bz9fzUfS/ed5M3hH707J/VR4avsgVJDSrHsKG5myBVxO6fUD5sEALUkBUcFJ55CQ1BXGNT9RsT5XSYmeXAiS1NrQJUX+n2nLqwpI10GQQoe/x4TjniwnbJD4c+D6pSO8fO2S5Bf6FzRdcnnjHIa4o59f1LN6diaYLBfLMD4HizuSBDSq4HCp4a/WB7XKOCKZDFxEquN++85NV8b5S8pxKv23LrnheQvJ3n2967wURFHxhbMhGGPEDPgu8KsyZDQJrBDKuiUCXZQZLVsVY1xXsT8+HbUGcyw13SbFvw8/fkA9w9c+lPrnmy6fRzXZCFuH5tR6CA+vqwETa0W1wxCXJfuFMKG4i64aeqihMne7GUjz5bZJptSOyw1KXiO5OLA3SnPxQaxkHMagUtnFMo5VkzJ+jiE03sWd/K7kZ80bpd+d/WxTRnom9Y9Vra2nZxAED25gAn6U2I4+WTWjG/fqaTBPEUn4fFPypUC2mP60NZYHSPKZITyPseOL/Lzchp7t7kh2VFNsKIwfEzgmTUaN9egvbcvBnKnDCKA1/Z6O2oCR0vJIBdX24cSeizMHRVwG8Xwg0Wcz+DwtSvpvBCt9CT9akekzDRmq+p0eDM27Ee7rT+VWik+oH7ZW/v/LtusnRNUcDX/xMtztSL155i83w6h4ubQgs7eVxv89dDYH7lxa0tMni8xOcoUYeLLecwU94Gmyb79vx6TzNEebf4VZanNUBo5BciPnyfEb4FUnkuG+qs72r5Zk+P607D50qvOFbCSVlzsS6DMwJppDSd7nddaqStDhz2Ql+qs7LgMZRwM4VmHAaBzJYW7qsgO+7J70Plh6Q03lkxiTDDFvXZZgxzKDu+p+vhFjsDirB2pDbGQDeSUXWf9b5i6SUu4/z08CkzuVWe4cTSBAG3952+VEYUjrPkTvU9idm9hnOYNkvtlVSZjJxX2tVOgz1nP7S09d3c/6+kB2lfgps/V0RipT9xM1a0AeKqxjZqS3m3f3JtJ4qi7ph4M3PAOWTzVheNSNNeXyg92xbGWmFiAiNQQMb/PxGnQRd7ZHoaPEoEwULHWd4cQiyq3G9VCJexPDvuw2drcUmlfBMjGL7qC8IY8btNkNXTCQyCo+eXAmXcc/kHMSmP5Yt9TgGzmbY6KYeqw30cn2FVopvOoM7PeGaqCSMgeuftIu2CwkARLYB3yst60anK8eh6e1xxzUF5VJFvem8or+jHuI+JmUzJctGHL9aGqwoJsau6GReNBwST/XlAPVMO0nazL6oUNLy07i5vgyYzHn7s3u8RKI5fOGfK1I8jpvZlHlRzOD8K9sS+nZlnWzjxMyhEaKzLKecZs8MzQmrY2wtfxcjp/LykQN80phanMVOXdSO+bd/2UQMb44S0qSu/ReA76Sk0cyK0mWjKX7i1uWoIgdCZ3RIK77O0pP37YiI4V1MCjXQXB3CFCq8ApVwK4cXGxfddmiFa9NmEIFkUufWx7Ithqb87wuPPADffCjViR9RrKBDUlVpshfDcHxRl+mCtdCEg/3BzJJjcyXvaNcmFoZGiHZhCU8WCQjYvPQdxeIR0ERDYzRTrSZ+Rt7Mm2cFf2gMWrKGAdqgBaGofRIR4CJFB7VFMqQboH6t8SzSwjrqsVnvEuTa/j6gOQeXLbYw6NmJGFl6uyPr7wvwT84skbfuM8ROJep9/jyEteIP38RankJbFDlEe7vqsW9r9cjaxot/9F96aq2valCwxMwyZI7OxOr2zHvFDCc0XB/fc861kPAlUqgdqAKVWWguBCg2d2FPK0ZPEzeR3JxX2uHU5dtDIOgmWluB5TDRv0vlmXw4YqcdCObJEVH/aoimbHeE42rPQSDeahuDJS5+h8sWnf86zIIZ3aDZDSMrR6G2TtXJVJboK4EeFnRCqqW2uGeMonZIX9939kvrD9w32WGYtOgIVCLpFyo7TBWo4tZc8uKE8cY4D986OY2ENFlbDSaQ1V3mOnLpHBWN97o9aTaG5gXpsCQRdUYA67JhCiVKidHY7tXiDt5GI+yIExfWXZdyQzufUWlHPMOW8xQASYSy1Et0lfbgwBW8jOPsrwny1y82fl2x+NYEPXJ2kB6v9+wkXt+1gfExUAhqwBEgBGfwlZUuDr5XN1G9/mpXMlr+hXPpPXrOhqERQ1RQ/c1JOETwUsIgERLnEgUc22pQU7CI/2FmTX4xZbeV8NSZKyZxoljtNtK3w/3p3I3f3HOyRutG2NV/4XDseX72yb885x0MxML+Sff7Bec1aIkFskPN5OKjFuPm4fQ0QxEUElK46cyRKA/D/OBLKni6a7zsC2XEvH+lFgKBD1T+8Fp/Xiv15JmsyYF5oKPotMZ1ixSSEhhaO2NLIeIzX4rzOGXl84+c/cqSWepMrpv0+cYell2MRuqIXFyKPzAtjtoXvzcm1nXIaZHXQgBCJVn9LYM53o364abpqqhpYLYOGW0/XesOrTwvrQMMmObDnUdrcjy+2kaPu2g13WFEOimoPQfkiENvPoza47eQDAIYJpy06ABQUsqCw3DH3QlUhOAOTfEZ7jGdbVGct0wHIkawwPziYpMVDrvVK/mNP5GhuZQJTrNCOiXdDpSzc+8o+CJTWVgC54vNVrDViDTjYEEaABUJVj2q/UBfzpjuTrULFDw0+k0pdmozjqP9CQ3CE6ZA48VbZ7W+aqqI56rXKKPslD/pHScSus5z+4XiYNd2taQZAk8oQEydhR1LX/3QKKHPSm33px37HEvs2/yTgDYmmklntmM/ZwjdgZthVRvPqHCinR9gnNMAQMNKNGF5YmU1ABfqLrYiUWkdfma/uT3Jr/fbKzMozEIi3s7UrLCcWSeTrxm1ApRQ0K0ngAi2uU9KedmJveLhttf+0B6O2qz6tpWbY5GvErbzVs36Eca/UmFK39iWZqvdqw74HV89t52IUi0qxiWQe6kbaOuF5RXAvA4D0Hg7H0pB7XQUkz4IRDEA32q6irvyDL9dE2CcWCN3+hZRU11e9C3/CKYwjMIbZlgDrqFA/cu6zjyZpcF467BIGx25ZmmhAw3pS1nWaEIz8GsDTrWq+of9kLJHk1MIj/qwTyuxTNY4VLiOWEMnhNbB4O2z9BRvFNodFzv2JffuuKgswo4Rgq0y1PLHvb5WPHExet4y8y+gznm/O2NFvt30I5kVJq6eqGbLYl++UTGKogRRC21a6On6zLR/4+IseFlhbkZuaZnQjnxlMyG1zqWAXJdjXKjtjqwKbahQqT04fkWLtddPo2cz/Ig6T19gB/UjcWFy6wGUtZJRsQtiNfDt+VE2pKtS+v6V1vmtRoMOjK0rus9Y44kvCIcg5+fJD3wePzgP6Nn+6nji0T/ZpaPWl+F+Um4xBAn7cGi6YVAQrQpz0mqicIT+kkxLQkj1ntW/m0us80Sxv4L+lx0WKko1K0XJjLphy6dg/5ZFFKR8QuEARUwhUmJb1iauCyKBHP41BNSPa7DJMllIYFrfg4aYzZJyIi2P7UmzTtdm/uI57ULQ/+xRQmV7o5PAstgSFVCmVIDg4aBDglPKNP3FOngncV54ukdL+s8LXijjEdKpWCgxvX+/vjCG667uDhRVbRIfWPoOth9/65MTyYSrvYl+tUTCekRRYCQaDlTdakN4AEwuD7JTEE3xrinTJLrDC4wBys1cEVCHArf6z09n4YmVWB8XNdTesafmUP0j7owkK+yQ5ILg7V2NHbEhbcHVygpE8zDW+lJA4QAIc357NuxPLSJ22f8vngwlYBOltwjzSWIP+FY+fqHTuLe7piHaqgaI9+JbGLvYt0xB2kmPmkxni37agVYfn1IyR4gVKjVIY/M15hYSGAOofq1szeRKT0K1N6tL/WlpAzTZcyzQsNA97v7wZK5h7kGwno9F8iAtlLYhghtYBhoZqkno45qHtVIrZWBtBSGMfwz1aT3sAu4gpBuLBRCObqvBuXK8FxBzqMsc8nlQ+l/rCojNZyaalDRHLj4pY6s6ebS8fyoFMieSqBON5IIgiElgyg9nqsHHRkf0MKfljVd67ze7Knt0RufYxIC7/RYjpd8QsBoETTHx1UhPbHnmOR3dS+ePHLMwt/QLkkGuGrZ9KhHYA4WbYy6+NwpFyXG846Hp4U+Np5Yn+Wk57yA/7aYxMeF4s917ziQ0d1ZsI9mEgzPoRcAsS3iUn9tRzprA7M1fLDRowQjvNLZ6/H/X0XY8WXMUXG1LFvE2QYuJYZOqJYW03DM5+s34ntFDy6yI44UpVS2VZuQ5KqQtq9abzc1tbzAePIsRI7bN8RzSmk3HjGYBYcUJgBoht/JG1PBEKqmmSiiaTVDKeq9WV+st3pYBqvWhq5mWKXQeKFr3qp4wzD/Pr40wgNG9BWcqMwx6fRl0GF+h+J21R49RhP0VYNgf8QYhIj5nj7jZtdV0pF3RYCQg4EIYAYYw2uSOJPEGcS7G5O/swybz7w7ENdVdkhy3VFDkNLi4MePJVAhYLEinBGMCGA2OfMrVCh0FRpsMRTzmgT1Vpe5izNujzCUiUAPiE4DB2norecwqQdmY0z+WU4mCoePlNge9/3BUGgJiN8mTrVdHcugNpVIv5Pa+0ZmIsz3eb0+S56szodgnDlJi+F7U1ay21KGv6y1K8FCnEok3A6agURoSerfgfe/UHBIBhc2bnps5Hc8cG7l2uTxNI4zDZJWVabag0KcjsIq4Ma8920pUVurFzxdFEQdK06/05bw9YaMOz3pq/1R6fZUmkyVKc5DLO/BQovQEwrps6HM8qDlykWROPE0E4jBu239OiX64pnR6INz3sNzKx3Kmkqp2yqNHsXbwvPdV8JnoCQTj+o91ZZILGOSttMmX/PAPIYjhQRbNWe8c9+keizlXfZB8rqXLQ9T2Gv64Cbz0Pzief1z0/2jrrZmRNYCtqHeR/d4bEE+IPKyMga9CS6b9fFWl1UlVl23d2rgd/X8CO4ZwSqh9hR+0zWSv3OmlzEIi8yNdHYq1fTYWgRd5Qjhb3jDNpX+mioIeqmxzSs5OdHfVVta40I8sIx7wGYBhqnmfywMwuIGiEns6XWp4ov/zfJ4VGq9VmCstEjvYOQKo0jw42Yw1hUDT1S9NHtdySU8V545WLlhKOmBGmCDyFJMKBRC4rDZNBIAeoGVkVCoau5lQTePDuNxwxL3JPdlXp68k7L8zhiwxsdrEqlUrT1ZvzAdymPbq7QuKn5RGaX6dMO1BlWsHyqEwWC3PlkQpwqIbjWQNYWfm4qTh79WlsnPZOVg0yXieafH6R6eOLjA/lHnvV6JJFUIpKjwoanGdqsylZO2vqbG6WEttL9TnAQRkY6xobdypPvQVE0RKd4GXgV6Pwy+IXMiWa34di4YGZvDxiI0XPXh5FM1CT5WkUZxaigB4beqtEQXmqugG2eBkLjqPOKLa1HYBcz1bl+aB45vddzIB7QIDEsfsA8VHx+D+JW8Uf6/fBJK85M1aSvB7SkxdEhzhynAj8QP/vSahDdbMukNpTXoS3F4FvfwK4szZRjJYXssO/W+2jMjZZBI9nUz6fC/23aQi03fUCLJbeq1ChMZ3FHIprAnpZKGv/lqsnhKfFxCIT3HSqiUhw5UwvqSXYiM4Ckp89nFvlWuzZNYPC92XefltnVuJLsg+GBR0o1ISkq4nW4oIZFf3NwqFLp6f1UkGMGub1qS5jNN60DJTEgOznoZK+5eZ+SBSrv+Sl9GClEnirnps2XjCSgqIy8OG+I9x0KH+clvlGXwbEN620Ppp0Yyedh1ZbeUMdAJXa9Ty03lxVlsAi36KNrycSwPuYDJFOnttiITeNu9s4VLn79fNyj5ZhaCZ0Ppsk9aPQ0kVHhN1/vWtO6xM0hywbHFpYELOv2XK1K405MipZREPomyf7wiDHYcpfpquzRl/FRZGqXxKWNUFaZ0FV92nmtKQ1VjRzFW9/eq0lQia6g0HJBuoKolVGxZUlW7rBK5+VzLGcrUEDDv+useSk/tAetuUnaLks5tJUKyRUlVwWsBwe/oRtm8O2UOfOx5peWUHlx7sSfdV1XKkC/GVNnnW7KjzPLaSULS6zXWDxRTQ7gKpSb/MCOZ9aGDUmXntWkoxDGj8A8tuOxlathxqbInxyOn7vV+yaxuLvcl5DWMaD5DGQLpHuBoIse0zMGljBeKegwiywR+melBMRzXJe7EPgCpiNP8mTVLi8kdT87ZZT6i/u9qQSuMakNzUNey0XH25mbbGfTmWZpjuD+Ohdav0GwDT953rEpbIRga5k0xCJLGIMk1JA4Psp+eyvBnczJQaLG5N5E1NWbppjJ9vinhzxesMKanOxESif6aRZkqA5S6JCaq4ahEb+nk37asRm/NBRYhCgiCed7fvuqCWQ3XE/egrJ/52GzSE94jiOovbsn4iy1ZUyluxT5KpC3dAGNMlcRpZa6yMu2JEm4HhiP9nrJf1C24juDLrxWd14fxwLim37kq03elbNLs/YT3jxyi0isdGXy0IpnS+XY/EAHevCkahPb/EDuRX74LYoaxyQpGGyBA/uSqq83neTEg6TK52pMp/XIVEozudWSokm+gwmOkMCv4tZJEeGzwEuJR893xv23FmtmFuidThTJdhVkrajfGPXcWxHtEJpnnxJj32nUXGgW370IzMkdMRs8TAVlQ4x07C0Hjy2aTn30rCzpNZaYy/f49mSoszuWdk+KRGQTm8KkdFicouMgom3LZxvAwtL0hUGbYuugw4HaLPrmh5FUTHBSGMvnJlOVzje+25aRJLtNQikqgk/enrElySOvM3664yURPKBPQmI3gz9/eFxqT1UpTC95Rp1FWAq3sj2R4OLKI60iJhURJ7ueuMqj1n/3q+y5/7HjoWsxQlKXfZQQ5609rdQ5ojS+/536nhoX0bqK0P35ko8j2VkcXJBoHGXdU8HeeG0/LvtoC418vuyRNAqgwPAxJm1IGTELcwCG0xX/20LRRpPcT6b1NnmlIvRtZ/wA8hZQS8z1cl2xroGZOtV5RH4n+eRVdrd2RtF9sS7USyKHyIUNF6WObjK4b1MpcD2qZ4Z93Tg2f0+WzoVnXEZ7zltlaJQeVV1SgjUEBX3lfJu9NyXLx6hSot7rQGOwrIxi8B++RGQSGiAeePH71VVisR9kgvyEbJwptiK4rFGAAPDlB4+ZUWq1QMoWp9bRtMUL4m5ck+vYV6b/SlnJN7YXdoQxOJrLfcUE4f12TNLqWVUpmFOJtH0xOU7F5+OzBWIIPZGWoWsHcjES/6e5IC0wcCBhqaCamxFInTwYpjEHE+d3KRKSVqAacqlTeSrsaAxYHeEsZlLJQamOov6fuHe9dEbhI/hp1+OTAMdaMATU0V1CmpFSAoZI9NbqbKuED1WbDhz05Ufspq5CDbiFEjYEDvuuj33cI1fY9sb/cD/tCff4XsDcSTDFvecHHGXrv1+kquO+O19zEaeE6GQjxezuFTAjO2WvWlA5DWveQcWpAZOY5sqdvpy0ybz0yg7CQFmyQd41a6/7EZvF68nMsiJS043gzZn4uMeAdoiHnfxZAtIZntNxXYo3wSwNBFP8H/zgje4XggtR+lMVn6Z9kniE9DJp4txTvt5uhjEJxDbTJMqZnF3AHiEN28o07zm7Ab65QKFD7gBoZtCMFZ8dFNfYIwvF+hT6BMkR3EIm12gS60YAAzfCTrm57sKrfqXCzpgY4ddtecnF/vvO+d9NCuFcROH/31XBG2LOfvs4k+f7LliVtJoQg6SrJM563TnPZYt8f7zccXzAD9iBBQ9+Sx7flsT5dIFrd+poKyYOe81bi9eLvb6cmia83xSDzlh0CjBLbKA4FXOulGoefv92zonwizouzGX8sGIfBKOU7XRlgdxAroTAHo5KRXdgSREC/b1cCtRtqqgEOFKrgZfKbxfWBGeTY4BXZVzrNKtwgD4ogET+BH4dd5/71adBmtNddFeWuqvU2BE4eGXCKRha05yclg/HUxDJgDrKfsYHUNomwf/J6z+QwAZlI+cdAJiOW9BrabtICh/JUsk0ZFabQsLTQN+/YvBY1EBSE5jWEpd/DJFcQqZfqfvnzuIqp3q4Vvw+YbR6DxJeHoHFNAszCHqEXMLEuXPksfself90kybeybnhOj6tmL4WusiuSywfo4kxiG5WeRXDzDuO1PqJP9Z8syuT7dy90Q7F4idJUXg0zq4EnmIihilFMp3dclJReIsl/QG0SZRwyNDsKtYgpYHBTWz9lJuAnqtbdPcJzg7EKPCJt+27HZXYqNKvp5yj/7artMuyHErQCCWg6zUw+6jvIo6KDOAuDmv9Tl0/8hqRL8DHJfIwQoGEBkIxG3D9yKKHeS3ik8G8USVaVR5/mBsps4w+XZfRvitL6bEMe5F0g0ncdR9La7zPGOEdwnujmECOL9/uU9utI+reyPHpIvn7Z4r1JerlqwSB4rAgWwgx+wSj+NRgF5vHTc5PXeFzrhudwD5d8ZJnXUKs+ynyVC9AbZ0lDza43U68YdDzI3s5YGh+rSkGNaArt49eBQQ707wESmEUx1rcuy+SpmkxJcQZ2kXiGDfDdm869SZSagh4YAVcynfzQOH9u08VaqFykyIa6DSa9vjflPDp/Y18i1QxUoZldgcaAAbEJqO+A2AnsYbSTisB1+R7SY9Ac9PBi+i4ahjJb6g/efSzjzYGU14YW2WX2CUY0thCN9kjkxOP1ek6fOxPZvj6OQi+YJp4e8ziuOW9BKzf1+tmNkeRvduW2PsNVzBivhEzSzBst7BKflgIT4IoHWt3CrvOM03TR9nhM63GvG8mHuuyBed0zUfKBL9M0814H1vjhi0nOR62WHvRd8tg7V63X1HhRtcFGX6K/e+AaQmMX4AolBkBFGdKcugUMXt7zvpS5OQNGMuvnI2CRtx+sG0fN2v6bZ4rGUTAGOUl4xIjqA43+zYkE97sypEMjdQa4ZGEivFrAvLVZTIJ8Mu5HNRxp7rX9kWWCAhctjSV3lt4SFyLzuoi/leUZxNsdfO/jvL5f3Pf+0VSYt4LQKL/Qlt+f8z6+2wvG6xjrV6049KLfrmVK1F2mBMv32E1+7nGtCwxy1TJcizbJXST8x7UWcqGUP92Q4ueaslIIpUU7zydUdPz5DacVwPkU8UPgxCaQ8Moo4S+dmO1CKkVODe3dk0AO1J44rISSzUwlWwpttNdxNZS0/j+XnehrgdQbgXV5pMmEVURSU66apLbYt1QNDO9KZSrNvZE0FYqRTNfoRlLXz9eYO6LXS+2NZYeWOSczzRsjTg+NeM3bA5fBpORe22dmK/n35JmcQrSc+93DIH8/V33nZdf39wB8s84vSuy0MorwNv7ZDane6soLM0EAg/rvvAptvJXlPVwEE31dCvZjUtAml7dr0DR+mXOg7LxoyffH1w1/YMlN9K/ZZudmhuJjkAhvtNgEAkKMSCN1pMusCOwQJPenqhIVFYKp0Tt9VbWEQh1aDtU6oTWOo1Ea7Td9T6j4NZNpIfzfDMGyy83BsC/tKuTC1vjOdcm/1DGXIi5VNB7GNIuYg8UdUPtldy2DpZcQ2aMs9htCi8NVM87zZ5DViD7rzsPcu7P3ew3i3+u1ll/eNXvKdGm3vAPAX4Pn8LZQ/DqcO0TGfu2p7Zi535fFWF8q//PtpA/Oa+dwItVnW3KsQon9v0x7eM1juVozzUNeFwtbxoz9pnPOkJdHloOl7c+uaZ/XdcMHeWyTkASxTbeNOXHrzZRJPuryngvwJY3gNjuRZNRw7u/0JXipKZPyRNqTSPK9QI6bTlOQLr3bd+8Hj5Ii/WZTEZjhnXuxIyWFDoyju+wa7AfC4pRgL5HQ5oGarbg28JLZpPNM6hpWvwZxnTpQ/Ird0zxIm7zvuOuXxWteuvrrJz+XXBAdRrSXwEhjc89WeJ1YRXQa7b7My8Tr/u/+Gr6m5NSblfgsgqxPsuc3PJT+z+ZkIevy4Xx0Pa4dEJLQA8yw1HZ5XfRtJhGSTPDNbijr7VA2lMbI91ppufR7XMmb+UA2jqcWzH5sbt63stgUNpyHWe+SoRvJVieQ/c5EjjtjKfYnUh9OJd+fypEyx5Y+XDyhbbPnPmsq9y16NSxn6g3Url9xiQ2BxwnfQw0vff374tohjtGvIuy3e2EAI5guk8Ysz0QQH7if9zuJHClxKaTV8zruBpLpB5LqTGWnNVWtHMj9euQqESuOoZDmFvdAA8+YinPzNkW8pNeqDGG62Wcf6Pf1f6cq4V/YkuGHy7JXC63d7JKlpbjUlJUWBB8Z8UNDrB1FGEf9UPIDhdu60nqPjK077irM1t9PBvT1Cuz1E0UnwT/JWvpTY3f4eBkESGId02fQ46rFhnvJA5RCAxjBK3OsNUayUetLdTCWUt81i6OyMKcPdzSILjCHFdhcE4++XctrFU/0xjwxBnhcK46lH8ezcmbsPy5ThEMyFnGqISqRwpHIiHGt7QTYVnsq+62xlAdTGQWhTMNIgkh/TgMZjCcm2I67UzlQxjlAqCmh7ur57pMqo2uzzQQwGMxdc00Jm/oev6AJEhf5iZQncTGlTFc5Gkq5MVVmDI3AM0roBRWeFaaKjVhTaY9D6U1D6U4CXfq7/hzo/wf6c6j3Nwnd/Z6tUMY8A11BaN/0LcsSqU362BiEJl3H6yPpf6Qshde7p0zisZxXqRwCG46dAceT3ozK2+kp4esm7ujaUumz2xhIQxkk2xtb53YqC8kbRE2eY5BuTHtcgzH//7A88V2HwE/3b7YgWKAD0jZew30KTRKfu3A9fw4lJ72BFRArEveBagMi1VyfFHN+X2k6wj5WzZ1XYiwrETaVCCG45nBixHX+XyShElsUkY6gv+vPMQwzmX0G4lXp3WxP9HynUlNkUNVV0Nf2lOmAQB4Gxc95T+kD9ICGit/DJIgkeQdX/ov8/V38FK9FykRWikDWQ/NNprsnN5/fbyse7FO++FX3Zfr3Dm02oC+tRBVjECHpqSdHGlgqsx7Kbg+JoupNpUBRmWFHpdKBqugGo41DOF43dKhM0h1LRjUI1YTxjaOwxjMI35fErf+uV1w44OKGoIENaE5fdw2hG8wAWsxeR8DcrABPIhUms6W/39HFPiJVV9pn0pefEPjrVbd4760qqfzRaTyB/9+baQHSyQ917xkAmupNpT5yhJpWib/XBZqofddzEnkUoBnOE6IRkxHZRUI792/2vtP3q2SXT1fN8xidjIyRxtOpdc4E4iDAcyoM03pfB542eu7ehgEMl/yC6/+L38elDJJYN+LGzamRU3IHZ1Z9aXZYdmDuAJH+SBir0qu4n0t6IC0i1//rngyV+6zaLyEF/DKNoZpiT22MlG4KuPCgPZKywqnq0KlmDmR21xIEKml6Azluj5WhztsffAceCYgLIkgae0mCfbuX1w5eU7JfpNcvNEIlZFfnsK6YfWNW77DSdBiZUmKIIztAUipxdh2md3gZ6T01GMEslBOVoMz/QJIWaaqnr7FOmJOi78nNVko/x3X2O+4n1zEoMpPcjSFQZGrQI04U4yCQ9miirwdXkv88Ikv+SxIckwKsz+4fWbDyhVC/o6UCMNMFKYQ2jJR7xObs6L1NAjTR4/mXvJd5/+J/MwZBEiWXWfV6gA8V7y3rAa40JqoRprKqKmcD42dGmMAjII5nhP0eGJHDPW8nzFtmPDWGku2MJKPrRLUHmwEOzKm6ravkctIClahSbKz2SG9oqj6pfrlfpCo42sMPJLLv/GfDYZRYmUL0djINjIFmINLL/XBf67pve8rYdZWcEG9KCaGhQqAymEhp4JwPLZXeCIVSH6IITyV2qCsA19tG+EMT2ycWGpb3nDtcXgvZs7PPgq9ZvHbdf5cR0HX+JQnxbCkjqj0gHy5ZEVektgRnGyhDcn99ZdT2GPvgzX/3Zf8u3st5Rkm+5l///wBAs4mtx78V3AAAAABJRU5ErkJggg==' width='200' height='133' class=\"itemThumbnail\">\n",
       "                       </a>\n",
       "                    </div>\n",
       "\n",
       "                    <div class=\"item_right\"     style=\"float: none; width: auto; overflow: hidden;\">\n",
       "                        <a href='http://renemorenow.maps.arcgis.com/home/item.html?id=1efd0f15c3a14a3bbbb5b5b76ba0e255' target='_blank'><b>World Earthquakes</b>\n",
       "                        </a>\n",
       "                        <br/>World Earthquakes 2008-2018 with magnitude higher than 2.5<img src='http://renemorenow.maps.arcgis.com/home/js/jsapi/esri/css/images/item_type_icons/featureshosted16.png' style=\"vertical-align:middle;\">Feature Layer Collection by EsriTrainingSvc\n",
       "                        <br/>Last Modified: March 01, 2023\n",
       "                        <br/>0 comments, 4174 views\n",
       "                    </div>\n",
       "                </div>\n",
       "                "
      ],
      "text/plain": [
       "<Item title:\"World Earthquakes\" type:Feature Layer Collection owner:EsriTrainingSvc>"
      ]
     },
     "metadata": {},
     "output_type": "display_data"
    },
    {
     "data": {
      "text/plain": [
       "<FeatureLayerCollection url:\"https://services.arcgis.com/ue9rwulIoeLEI9bj/arcgis/rest/services/World_Earthquakes/FeatureServer\">"
      ]
     },
     "execution_count": 20,
     "metadata": {},
     "output_type": "execute_result"
    }
   ],
   "source": [
    "from arcgis.features import FeatureLayerCollection\n",
    "#source_search = gis.content.search(\"World Earthquakes\", item_type=\"Feature Layer\", outside_org=True)[0]\n",
    "source_search = gis.content.get(\"1efd0f15c3a14a3bbbb5b5b76ba0e255\")\n",
    "display(source_search)"
   ]
  },
  {
   "cell_type": "code",
   "execution_count": 24,
   "id": "e043f3cd",
   "metadata": {
    "hidden": true
   },
   "outputs": [
    {
     "data": {
      "text/plain": [
       "[<Item title:\"World Earthquakes\" type:Feature Layer Collection owner:renemorenow>]"
      ]
     },
     "execution_count": 24,
     "metadata": {},
     "output_type": "execute_result"
    }
   ],
   "source": [
    "source_flc_cloned = gis.content.clone_items([source_search], folder=\"views\")\n",
    "source_flc_cloned"
   ]
  },
  {
   "cell_type": "code",
   "execution_count": 88,
   "id": "0a9a4a5d",
   "metadata": {
    "hidden": true
   },
   "outputs": [],
   "source": [
    "source_search_csv = gis.content.get(\"a103e700deec4359a85255a501859c64\")\n",
    "itempub = source_search_csv.publish()"
   ]
  },
  {
   "cell_type": "code",
   "execution_count": 47,
   "id": "aabc8836",
   "metadata": {
    "hidden": true
   },
   "outputs": [
    {
     "data": {
      "text/html": [
       "<div class=\"item_container\" style=\"height: auto; overflow: hidden; border: 1px solid #cfcfcf; border-radius: 2px; background: #f6fafa; line-height: 1.21429em; padding: 10px;\">\n",
       "                    <div class=\"item_left\" style=\"width: 210px; float: left;\">\n",
       "                       <a href='http://renemorenow.maps.arcgis.com/home/item.html?id=83479a61b7434069876758e67be54d55' target='_blank'>\n",
       "                        <img src='data:image/png;base64,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' width='200' height='133' class=\"itemThumbnail\">\n",
       "                       </a>\n",
       "                    </div>\n",
       "\n",
       "                    <div class=\"item_right\"     style=\"float: none; width: auto; overflow: hidden;\">\n",
       "                        <a href='http://renemorenow.maps.arcgis.com/home/item.html?id=83479a61b7434069876758e67be54d55' target='_blank'><b>Earthquakes around the world from 1800s to early 1900s</b>\n",
       "                        </a>\n",
       "                        <br/><img src='http://renemorenow.maps.arcgis.com/home/js/jsapi/esri/css/images/item_type_icons/featureshosted16.png' style=\"vertical-align:middle;\">Feature Layer Collection by renemorenow\n",
       "                        <br/>Last Modified: November 26, 2023\n",
       "                        <br/>0 comments, 13 views\n",
       "                    </div>\n",
       "                </div>\n",
       "                "
      ],
      "text/plain": [
       "<Item title:\"Earthquakes around the world from 1800s to early 1900s\" type:Feature Layer Collection owner:renemorenow>"
      ]
     },
     "metadata": {},
     "output_type": "display_data"
    }
   ],
   "source": [
    "source_search_2view = itempub\n",
    "display(source_search_2view)"
   ]
  },
  {
   "cell_type": "code",
   "execution_count": 89,
   "id": "40156a9e",
   "metadata": {
    "hidden": true
   },
   "outputs": [
    {
     "data": {
      "text/plain": [
       "<FeatureLayerCollection url:\"https://services3.arcgis.com/Bd3GqULNdzgCeQfi/arcgis/rest/services/World_Earthquakes_shape/FeatureServer\">"
      ]
     },
     "execution_count": 89,
     "metadata": {},
     "output_type": "execute_result"
    }
   ],
   "source": [
    "source_flc = FeatureLayerCollection.fromitem(source_search_2view)\n",
    "source_flc"
   ]
  },
  {
   "cell_type": "code",
   "execution_count": 90,
   "id": "9ec2b2e5",
   "metadata": {
    "hidden": true
   },
   "outputs": [
    {
     "data": {
      "text/html": [
       "<div class=\"item_container\" style=\"height: auto; overflow: hidden; border: 1px solid #cfcfcf; border-radius: 2px; background: #f6fafa; line-height: 1.21429em; padding: 10px;\">\n",
       "                    <div class=\"item_left\" style=\"width: 210px; float: left;\">\n",
       "                       <a href='http://renemorenow.maps.arcgis.com/home/item.html?id=2f38daf0595d492188875faa42e3dc86' target='_blank'>\n",
       "                        <img src='http://static.arcgis.com/images/desktopapp.png' class=\"itemThumbnail\">\n",
       "                       </a>\n",
       "                    </div>\n",
       "\n",
       "                    <div class=\"item_right\"     style=\"float: none; width: auto; overflow: hidden;\">\n",
       "                        <a href='http://renemorenow.maps.arcgis.com/home/item.html?id=2f38daf0595d492188875faa42e3dc86' target='_blank'><b>view_World_Earthquakes_mag5min</b>\n",
       "                        </a>\n",
       "                        <br/>World Earthquakes 2008-2018 with magnitude higher than 2.5<img src='http://renemorenow.maps.arcgis.com/home/js/jsapi/esri/css/images/item_type_icons/featureshosted16.png' style=\"vertical-align:middle;\">Feature Layer Collection by renemorenow\n",
       "                        <br/>Last Modified: December 01, 2023\n",
       "                        <br/>0 comments, 0 views\n",
       "                    </div>\n",
       "                </div>\n",
       "                "
      ],
      "text/plain": [
       "<Item title:\"view_World_Earthquakes_mag5min\" type:Feature Layer Collection owner:renemorenow>"
      ]
     },
     "metadata": {},
     "output_type": "display_data"
    },
    {
     "name": "stdout",
     "output_type": "stream",
     "text": [
      "https://services3.arcgis.com/Bd3GqULNdzgCeQfi/arcgis/rest/services/view_World_Earthquakes_mag5min/FeatureServer/0\n"
     ]
    },
    {
     "data": {
      "text/html": [
       "<div class=\"item_container\" style=\"height: auto; overflow: hidden; border: 1px solid #cfcfcf; border-radius: 2px; background: #f6fafa; line-height: 1.21429em; padding: 10px;\">\n",
       "                    <div class=\"item_left\" style=\"width: 210px; float: left;\">\n",
       "                       <a href='http://renemorenow.maps.arcgis.com/home/item.html?id=2f38daf0595d492188875faa42e3dc86' target='_blank'>\n",
       "                        <img src='http://static.arcgis.com/images/desktopapp.png' class=\"itemThumbnail\">\n",
       "                       </a>\n",
       "                    </div>\n",
       "\n",
       "                    <div class=\"item_right\"     style=\"float: none; width: auto; overflow: hidden;\">\n",
       "                        <a href='http://renemorenow.maps.arcgis.com/home/item.html?id=2f38daf0595d492188875faa42e3dc86' target='_blank'><b>view_World_Earthquakes_mag5min</b>\n",
       "                        </a>\n",
       "                        <br/>World Earthquakes 2008-2018 with magnitude higher than 2.5<img src='http://renemorenow.maps.arcgis.com/home/js/jsapi/esri/css/images/item_type_icons/featureshosted16.png' style=\"vertical-align:middle;\">Feature Layer Collection by renemorenow\n",
       "                        <br/>Last Modified: December 01, 2023\n",
       "                        <br/>0 comments, 0 views\n",
       "                    </div>\n",
       "                </div>\n",
       "                "
      ],
      "text/plain": [
       "<Item title:\"view_World_Earthquakes_mag5min\" type:Feature Layer Collection owner:renemorenow>"
      ]
     },
     "execution_count": 90,
     "metadata": {},
     "output_type": "execute_result"
    }
   ],
   "source": [
    "new_view = source_flc.manager.create_view(name=\"view_World_Earthquakes_mag5min\", description=\"preparacion examen certificacion python api\")\n",
    "display(new_view)\n",
    "view_search = gis.content.search(\"view_World_Earthquakes_mag5min\", \"feature service\")[0]\n",
    "view_flc = FeatureLayerCollection.fromitem(view_search)\n",
    "service_layer = view_flc.layers[0]\n",
    "print(service_layer.url)\n",
    "update_dict = {\"viewDefinitionQuery\" : \"mag >= 5\"}\n",
    "service_layer.manager.update_definition(update_dict)\n",
    "view_search"
   ]
  },
  {
   "cell_type": "code",
   "execution_count": 22,
   "id": "de53f1cb",
   "metadata": {
    "hidden": true
   },
   "outputs": [
    {
     "data": {
      "text/plain": [
       "<FeatureLayerCollection url:\"https://instalacionsgcladm.esri.co/server/rest/services/Hosted/view_Cucuta_campo/FeatureServer\">"
      ]
     },
     "metadata": {},
     "output_type": "display_data"
    },
    {
     "data": {
      "text/plain": [
       "<Table url:\"https://instalacionsgcladm.esri.co/server/rest/services/Hosted/view_Cucuta_campo/FeatureServer/62\">"
      ]
     },
     "metadata": {},
     "output_type": "display_data"
    },
    {
     "data": {
      "text/plain": [
       "<Table url:\"https://instalacionsgcladm.esri.co/server/rest/services/Hosted/view_Cucuta_campo/FeatureServer/62\">"
      ]
     },
     "execution_count": 22,
     "metadata": {},
     "output_type": "execute_result"
    }
   ],
   "source": [
    "view_search = gis.content.search(\"view_Cucuta_campo\", \"feature service\")[0]\n",
    "view_flc = FeatureLayerCollection.fromitem(view_search)\n",
    "display(view_flc)\n",
    "lyr_predio = next(iter(filter(lambda x: x.properties.name.upper()==\"Predio\".upper(), view_flc.tables)), None)\n",
    "display(lyr_predio)\n",
    "service_layer = lyr_predio\n",
    "\n",
    "update_dict = {\"viewDefinitionQuery\" : \"condicion_predio = 'Informal'\"}\n",
    "\n",
    "service_layer.manager.update_definition(update_dict)\n",
    "service_layer"
   ]
  },
  {
   "cell_type": "markdown",
   "id": "a9a9e3af",
   "metadata": {},
   "source": [
    "# Perform spatial analysis"
   ]
  },
  {
   "cell_type": "code",
   "execution_count": 58,
   "id": "4ae1efb1",
   "metadata": {},
   "outputs": [],
   "source": [
    "import datetime\n",
    "import pandas as pd"
   ]
  },
  {
   "cell_type": "code",
   "execution_count": 63,
   "id": "716880db",
   "metadata": {},
   "outputs": [
    {
     "data": {
      "text/html": [
       "<div class=\"9item_container\" style=\"height: auto; overflow: hidden; border: 1px solid #cfcfcf; border-radius: 2px; background: #f6fafa; line-height: 1.21429em; padding: 10px;\">\n",
       "                    <div class=\"item_left\" style=\"width: 210px; float: left;\">\n",
       "                       <a href='https://pythonapi.playground.esri.com/portal/home/group.html?id=8fecfa8a4c994f46a1fb2fe9d5909bbd' target='_blank'>\n",
       "                        <img src='data:image/png;base64,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' ' class=\"itemThumbnail\">\n",
       "                       </a>\n",
       "                    </div>\n",
       "\n",
       "                    <div class=\"item_right\" style=\"float: none; width: auto; overflow: hidden;\">\n",
       "                        <a href='https://pythonapi.playground.esri.com/portal/home/group.html?id=8fecfa8a4c994f46a1fb2fe9d5909bbd' target='_blank'><b>LA County Emergency Management</b>\n",
       "                        </a>\n",
       "                        <br/>\n",
       "                        <br/><b>Summary</b>: Group providing data relevant to emergencies in Los Angeles, California, USA.\n",
       "                        <br/><b>Description</b>: None\n",
       "                        <br/><b>Owner</b>: api_data_owner\n",
       "                        <br/><b>Created</b>: August 08, 2019\n",
       "\n",
       "                    </div>\n",
       "                </div>\n",
       "                "
      ],
      "text/plain": [
       "<Group title:\"LA County Emergency Management\" owner:api_data_owner>"
      ]
     },
     "execution_count": 63,
     "metadata": {},
     "output_type": "execute_result"
    }
   ],
   "source": [
    "# get our group\n",
    "#group = gis.groups.search('LA County Emergency Management')[0]\n",
    "group = gis.groups.get('8fecfa8a4c994f46a1fb2fe9d5909bbd')\n",
    "group"
   ]
  },
  {
   "cell_type": "code",
   "execution_count": 64,
   "id": "57df8f79",
   "metadata": {},
   "outputs": [
    {
     "data": {
      "text/html": [
       "<div class=\"item_container\" style=\"height: auto; overflow: hidden; border: 1px solid #cfcfcf; border-radius: 2px; background: #f6fafa; line-height: 1.21429em; padding: 10px;\">\n",
       "                    <div class=\"item_left\" style=\"width: 210px; float: left;\">\n",
       "                       <a href='https://pythonapi.playground.esri.com/portal/home/item.html?id=740d5948c4ad44378e9c5471b99bc79d' target='_blank'>\n",
       "                        <img src='data:image/png;base64,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' width='200' height='133' class=\"itemThumbnail\">\n",
       "                       </a>\n",
       "                    </div>\n",
       "\n",
       "                    <div class=\"item_right\"     style=\"float: none; width: auto; overflow: hidden;\">\n",
       "                        <a href='https://pythonapi.playground.esri.com/portal/home/item.html?id=740d5948c4ad44378e9c5471b99bc79d' target='_blank'><b>Active California Fires</b>\n",
       "                        </a>\n",
       "                        <br/>Fires in Southern California active during 2016-2017.<img src='https://pythonapi.playground.esri.com/portal/home/js/jsapi/esri/css/images/item_type_icons/featureshosted16.png' style=\"vertical-align:middle;\">Feature Layer Collection by api_data_owner\n",
       "                        <br/>Last Modified: August 08, 2019\n",
       "                        <br/>0 comments, 239 views\n",
       "                    </div>\n",
       "                </div>\n",
       "                "
      ],
      "text/plain": [
       "<Item title:\"Active California Fires\" type:Feature Layer Collection owner:api_data_owner>"
      ]
     },
     "metadata": {},
     "output_type": "display_data"
    },
    {
     "data": {
      "text/html": [
       "<div class=\"item_container\" style=\"height: auto; overflow: hidden; border: 1px solid #cfcfcf; border-radius: 2px; background: #f6fafa; line-height: 1.21429em; padding: 10px;\">\n",
       "                    <div class=\"item_left\" style=\"width: 210px; float: left;\">\n",
       "                       <a href='https://pythonapi.playground.esri.com/portal/home/item.html?id=ca7e81fe59994ad3960a000a8cfc6c92' target='_blank'>\n",
       "                        <img src='data:image/png;base64,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' width='200' height='133' class=\"itemThumbnail\">\n",
       "                       </a>\n",
       "                    </div>\n",
       "\n",
       "                    <div class=\"item_right\"     style=\"float: none; width: auto; overflow: hidden;\">\n",
       "                        <a href='https://pythonapi.playground.esri.com/portal/home/item.html?id=ca7e81fe59994ad3960a000a8cfc6c92' target='_blank'><b>Critical Infrastructure in Southern California</b>\n",
       "                        </a>\n",
       "                        <br/>Essential facilities to public health and safety in Southern California.<img src='https://pythonapi.playground.esri.com/portal/home/js/jsapi/esri/css/images/item_type_icons/featureshosted16.png' style=\"vertical-align:middle;\">Feature Layer Collection by api_data_owner\n",
       "                        <br/>Last Modified: August 08, 2019\n",
       "                        <br/>0 comments, 58 views\n",
       "                    </div>\n",
       "                </div>\n",
       "                "
      ],
      "text/plain": [
       "<Item title:\"Critical Infrastructure in Southern California\" type:Feature Layer Collection owner:api_data_owner>"
      ]
     },
     "metadata": {},
     "output_type": "display_data"
    },
    {
     "data": {
      "text/html": [
       "<div class=\"item_container\" style=\"height: auto; overflow: hidden; border: 1px solid #cfcfcf; border-radius: 2px; background: #f6fafa; line-height: 1.21429em; padding: 10px;\">\n",
       "                    <div class=\"item_left\" style=\"width: 210px; float: left;\">\n",
       "                       <a href='https://pythonapi.playground.esri.com/portal/home/item.html?id=640894a187dd4248867d1fc495673e17' target='_blank'>\n",
       "                        <img src='data:image/png;base64,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' width='200' height='133' class=\"itemThumbnail\">\n",
       "                       </a>\n",
       "                    </div>\n",
       "\n",
       "                    <div class=\"item_right\"     style=\"float: none; width: auto; overflow: hidden;\">\n",
       "                        <a href='https://pythonapi.playground.esri.com/portal/home/item.html?id=640894a187dd4248867d1fc495673e17' target='_blank'><b>LA County Infrastructure At Risk</b>\n",
       "                        </a>\n",
       "                        <br/>A Web Map with critical infrastructure at risk from fires.<img src='https://pythonapi.playground.esri.com/portal/home/js/jsapi/esri/css/images/item_type_icons/maps16.png' style=\"vertical-align:middle;\">Web Map by arcgis_python\n",
       "                        <br/>Last Modified: November 30, 2023\n",
       "                        <br/>0 comments, 9 views\n",
       "                    </div>\n",
       "                </div>\n",
       "                "
      ],
      "text/plain": [
       "<Item title:\"LA County Infrastructure At Risk\" type:Web Map owner:arcgis_python>"
      ]
     },
     "metadata": {},
     "output_type": "display_data"
    }
   ],
   "source": [
    "items = group.content()\n",
    "for item in items:\n",
    "    display(item)"
   ]
  },
  {
   "cell_type": "code",
   "execution_count": 67,
   "id": "7baefb26",
   "metadata": {},
   "outputs": [
    {
     "data": {
      "application/vnd.jupyter.widget-view+json": {
       "model_id": "6a471f8acb0d4700aab53ffba74d5e5f",
       "version_major": 2,
       "version_minor": 0
      },
      "text/plain": [
       "MapView(layout=Layout(height='400px', width='100%'))"
      ]
     },
     "metadata": {},
     "output_type": "display_data"
    },
    {
     "data": {
      "text/html": [
       "<div class=\"map-static-img-preview-50c321ba-5a18-4a7d-8595-7e2b781185aa\"><img src=\"\"></img></div>"
      ],
      "text/plain": [
       "<IPython.core.display.HTML object>"
      ]
     },
     "metadata": {},
     "output_type": "display_data"
    },
    {
     "data": {
      "text/html": [
       "<div class=\"map-html-embed-preview-50c321ba-5a18-4a7d-8595-7e2b781185aa\"></div>"
      ],
      "text/plain": [
       "<IPython.core.display.HTML object>"
      ]
     },
     "metadata": {},
     "output_type": "display_data"
    }
   ],
   "source": [
    "m = gis.map('Los Angeles', 9)\n",
    "m"
   ]
  },
  {
   "cell_type": "code",
   "execution_count": 68,
   "id": "1ad80a06",
   "metadata": {},
   "outputs": [
    {
     "name": "stdout",
     "output_type": "stream",
     "text": [
      "https://pythonapi.playground.esri.com/server/rest/services/Hosted/Active_California_Fires/FeatureServer\n"
     ]
    }
   ],
   "source": [
    "fires = items[0]\n",
    "print(fires.url)\n",
    "m.add_layer(fires)"
   ]
  },
  {
   "cell_type": "code",
   "execution_count": 69,
   "id": "aa0e3086",
   "metadata": {},
   "outputs": [
    {
     "name": "stdout",
     "output_type": "stream",
     "text": [
      "https://pythonapi.playground.esri.com/server/rest/services/Hosted/Critical_Infrastructure_in_Southern_California/FeatureServer\n"
     ]
    }
   ],
   "source": [
    "infra = items[1]\n",
    "print(infra.url)\n",
    "m.add_layer(infra)"
   ]
  },
  {
   "cell_type": "code",
   "execution_count": 74,
   "id": "7d9806dc",
   "metadata": {},
   "outputs": [
    {
     "name": "stdout",
     "output_type": "stream",
     "text": [
      "None\n"
     ]
    }
   ],
   "source": [
    "webmapitem = items[2]\n",
    "print(webmapitem.url)"
   ]
  },
  {
   "cell_type": "code",
   "execution_count": 75,
   "id": "f5dc037a",
   "metadata": {},
   "outputs": [
    {
     "data": {
      "application/vnd.jupyter.widget-view+json": {
       "model_id": "e7cd960285d54d6e978ed0888f1e4584",
       "version_major": 2,
       "version_minor": 0
      },
      "text/plain": [
       "MapView(layout=Layout(height='400px', width='100%'))"
      ]
     },
     "metadata": {},
     "output_type": "display_data"
    },
    {
     "data": {
      "text/html": [
       "<div class=\"map-static-img-preview-ae20717a-056d-405a-b3c6-107297916e5c\"><img src=\"\"></img></div>"
      ],
      "text/plain": [
       "<IPython.core.display.HTML object>"
      ]
     },
     "metadata": {},
     "output_type": "display_data"
    },
    {
     "data": {
      "text/html": [
       "<div class=\"map-html-embed-preview-ae20717a-056d-405a-b3c6-107297916e5c\"></div>"
      ],
      "text/plain": [
       "<IPython.core.display.HTML object>"
      ]
     },
     "metadata": {},
     "output_type": "display_data"
    }
   ],
   "source": [
    "# create a map of our area of interest\n",
    "m1 = gis.map('Los Angeles', 9)\n",
    "m1"
   ]
  },
  {
   "cell_type": "code",
   "execution_count": 76,
   "id": "18c0d6fb",
   "metadata": {},
   "outputs": [],
   "source": [
    "#add the active fires layer to the map\n",
    "m1.add_layer(fires)"
   ]
  },
  {
   "cell_type": "code",
   "execution_count": 79,
   "id": "89f921bc",
   "metadata": {},
   "outputs": [],
   "source": [
    "#add the critical infrastructure layer to the map\n",
    "m1.add_layer(infra)\n",
    "m1.zoom_to_layer(infra)"
   ]
  },
  {
   "cell_type": "code",
   "execution_count": 80,
   "id": "2049da99",
   "metadata": {},
   "outputs": [
    {
     "data": {
      "text/plain": [
       "'https://pythonapi.playground.esri.com/server/rest/services/Hosted/Critical_Infrastructure_in_Southern_California/FeatureServer'"
      ]
     },
     "execution_count": 80,
     "metadata": {},
     "output_type": "execute_result"
    }
   ],
   "source": [
    "infra.url"
   ]
  },
  {
   "cell_type": "code",
   "execution_count": 92,
   "id": "80e4be1c",
   "metadata": {},
   "outputs": [],
   "source": [
    "from arcgis.features.use_proximity import create_buffers\n",
    "\n",
    "# buffer the active fire boundaries and add as new content\n",
    "timestamp = '{:%Y_%m_%d_%H_%M_%S}'.format(datetime.datetime.now())\n",
    "firebuffers = create_buffers(input_layer=fires, distances=[4], field=None, field='Miles', output_name=\"Fire_Buffers_\" + timestamp)\n",
    "firebuffers"
   ]
  },
  {
   "cell_type": "code",
   "execution_count": 104,
   "id": "a0863be9",
   "metadata": {},
   "outputs": [
    {
     "data": {
      "text/plain": [
       "<FeatureCollection>"
      ]
     },
     "execution_count": 104,
     "metadata": {},
     "output_type": "execute_result"
    }
   ],
   "source": [
    "# buffer the active fire boundaries and add as new content\n",
    "firebuffers_rings2 = create_buffers(input_layer=fires, distances=[9], field=None, units='Miles', ring_type=\"Disks\")\n",
    "firebuffers_rings2"
   ]
  },
  {
   "cell_type": "code",
   "execution_count": 94,
   "id": "4f680ed4",
   "metadata": {},
   "outputs": [],
   "source": [
    "# add risk areas to map\n",
    "m1.add_layer(firebuffers)"
   ]
  },
  {
   "cell_type": "code",
   "execution_count": 105,
   "id": "e451e2b2",
   "metadata": {},
   "outputs": [],
   "source": [
    "m1.add_layer(firebuffers_rings2)"
   ]
  },
  {
   "cell_type": "code",
   "execution_count": 106,
   "id": "d5819ddd",
   "metadata": {},
   "outputs": [],
   "source": [
    "from arcgis.features.manage_data import overlay_layers\n",
    "\n",
    "# run analysis to determine critical infrastructure within the risk boundaries\n",
    "riskinfra = overlay_layers(firebuffers, infra, \n",
    "                        overlay_type=\"Intersect\",\n",
    "                        output_name=\"At_Risk_Infrastructure_\" + timestamp)"
   ]
  },
  {
   "cell_type": "code",
   "execution_count": 134,
   "id": "ba1009c5",
   "metadata": {},
   "outputs": [
    {
     "data": {
      "text/plain": [
       "[<FeatureLayer url:\"https://pythonapi.playground.esri.com/server/rest/services/Hosted/At_Risk_Infrastructure_2023_12_01_22_50_18/FeatureServer/0\">]"
      ]
     },
     "execution_count": 134,
     "metadata": {},
     "output_type": "execute_result"
    }
   ],
   "source": [
    "riskinfra.layers"
   ]
  },
  {
   "cell_type": "code",
   "execution_count": 137,
   "id": "f71104bc",
   "metadata": {
    "scrolled": true
   },
   "outputs": [
    {
     "data": {
      "application/vnd.jupyter.widget-view+json": {
       "model_id": "76193aae1cc746cda2a34dd4a04c3e94",
       "version_major": 2,
       "version_minor": 0
      },
      "text/plain": [
       "MapView(layout=Layout(height='400px', width='100%'))"
      ]
     },
     "metadata": {},
     "output_type": "display_data"
    },
    {
     "data": {
      "text/html": [
       "<div class=\"map-static-img-preview-00eb52b0-2977-4593-b695-c6c7719144e6\"><img src=\"\"></img></div>"
      ],
      "text/plain": [
       "<IPython.core.display.HTML object>"
      ]
     },
     "metadata": {},
     "output_type": "display_data"
    },
    {
     "data": {
      "text/html": [
       "<div class=\"map-html-embed-preview-00eb52b0-2977-4593-b695-c6c7719144e6\"></div>"
      ],
      "text/plain": [
       "<IPython.core.display.HTML object>"
      ]
     },
     "metadata": {},
     "output_type": "display_data"
    }
   ],
   "source": [
    "map_overlaps = gis.map(\"Los Angeles, CA\", 10)\n",
    "map_overlaps"
   ]
  },
  {
   "cell_type": "code",
   "execution_count": 140,
   "id": "ffe21785",
   "metadata": {},
   "outputs": [],
   "source": [
    "map_overlaps.add_layer(infra)\n",
    "map_overlaps.add_layer(riskinfra)"
   ]
  },
  {
   "cell_type": "code",
   "execution_count": 142,
   "id": "b65cf95f",
   "metadata": {},
   "outputs": [
    {
     "data": {
      "text/html": [
       "<div class=\"item_container\" style=\"height: auto; overflow: hidden; border: 1px solid #cfcfcf; border-radius: 2px; background: #f6fafa; line-height: 1.21429em; padding: 10px;\">\n",
       "                    <div class=\"item_left\" style=\"width: 210px; float: left;\">\n",
       "                       <a href='https://pythonapi.playground.esri.com/portal/home/item.html?id=640894a187dd4248867d1fc495673e17' target='_blank'>\n",
       "                        <img src='data:image/png;base64,iVBORw0KGgoAAAANSUhEUgAAAMgAAACFCAYAAAAenrcsAAAnOUlEQVR4Xu2deXfcxpXF9UVmstjWYu2ixE1cJJIiRYmULFKUSO07qYUUta+WJcuWZDtxrHiTbdlxvGQ5SSaTkzmZzOTMZ6up+9C3u/qhgEZ3A1ya+ON3uhtAF4Cqd+u9WlBY1tLaYhYcba32M5rmFhwX3l4vmzZvMU1btpgtGaWfs/hYFjLOBUP4YklrW5vZ2tER2p4WW5qbBb09Z+mxQAUSvlBNW3u7CEVvTwt4kSbrUfT2nKXFohUIgEj0trRByLV5S+5NlioLUyAV2iCko7MzODbh8bVCb0I25+HXkmFhCkQIX6wmCLFi/kPxuOhjagBeRW/LaUwWtkAqGHR7x9bw/0KC0Ok6adchHIgkD78anwUsEBK+aOIVSC3UIBAi4RfEMgcNenRvo3ctq27unDCLQCAtkbV8agIRwulXy8amzaFt9dCsfkMcGzdtKgKhAISazYWuabCpqcl6tuwFuxRYHAIpUn7x7VvTFIiihvAL3iTNkOvk6VP2/G3mwMEDZnjvHnPK/u7t7TVHjx4xe+zv4T3DZuLQhDl99ozZNzJiDh85bHYO7jSH7OeWXCCpsMgEAkoXj9qyfSu6evUxGaDbLJrCNW3CSHwz/hPO7GqZnJo0nd3d5owVwK3bt8ypM6fN7Tu3zchoIIap85Nm6sKUuXJ11gpmr3n49kNz4dJFEY1OK6c2FqFAysnUi1SDIxR0A9fTgG/avFlCp6HhYXNw/KAZHRsVj9G3o8/079xpxifGzd433rDsNePj42Zw16AcO3ZgzHqQQfEyOs2c2lj0AmluoRGG980PpcyFkdfSgEf7Qrc3qgFtkHyqTDoseoGg1m5rbysYhGf/vBDOaHYL6+0+4EHwCUPXxq+FoLfhv/jMBZIOi18goC2orSGU0L55I5zZIIlI0ANFQ48C+3Ecf+M7u4HxW6eZUxuNIZACnV2doW3zRkTvF8OuTdbAdS0PIwc+z+DDFZE+T046NI5A2jA3q2PheJEEXcQQCBr0HLOo5DUoChzPAUOKSqedUz+YDNs4AgESavFZDs/++aCCSIB4lc2B0WtBaHIxzB2YDNtYAgGFRnswFd6zf84JZ3wU9CiVhIIQTP83J11gP6i4Gk8gBbZ2bLWGhto2vG9+aE3sTTY1VQ618vlY2YEKig/jNaxAEGqFp8MvFMKF4sKG/IZNlRvreciVPu6DeI0jEKmdy7ctaIEk8CZAwq2YXi2Ouuv/5dRGMFzQiALxsGCmofhIKBAW2oaN5QODbfbe+B3bURl0dXfL8WhcZrmoRSMT2Ezpd0MLBPi7fXHzetscU4VAACYsXpq5JBMV39j3hkxWxDyt4yeOm4GdA/b3EXN28qw5euyoMDo6ao4eP1pxYYs8RCsBcej8aniB4CZb3fCrzDD1sXNNuJCiuDR9yYrhhDlijf/a9WvmyNEjMs39xKmT5uL0Rdl//sJ5c/vOLXP9xnVzy35evX7VepUuCdMQiulwjB6JU1uWOlocYAkIJHioqOhJdM1dHNAL/29O0NcTAWbs4nmTvv5+8SKDu3eZ3r4+s72nx/Tu6LNeZZ88C4IZvf0DA/b4XXKcHnx0BeJrz+jR/aUA7jlqhZwlIRAA9yki8RnkIhAI4aAifyedlqLFge/uPqSzlBv7+t75e8kIBEQuNreIBELwrAknPsoAozNx0Yc2AD0YuRQ8B+/ZrQzwCZtww1Aeg/1LRyCFUAoZonsq5lUgnoJMingTp5EdeJfykIqzfPV/wVISCAXA+6VImDduXjDfcHxjCSTS0EsZRQ8S8iTFmlz/N2vChVkt8CaYHSzjJRY37NLHEoZYS6UXS3tYzpqmULRAmIeNJZBIyjMrqkEWoP+bEuwM0ITOXz94Jh6iIVEPa2nvEuVpFiNcEYZeVXtW93ebrSwRVWx1xpbIEhBIOPMAPIhfKPr/aaDPMfdILVlYlgheRp6Zl7ZLibSXLZovMEh6+swZWeRCVoQZHpaxoUvTF+VZfvTwTRw6ZEZGR6U3ED1/R48fM6dOnzb7RkfMjv7+pSKQcOaRUIhVRKdRLzr9+SVuIQnE6Y3SFsGKMBhcxXjRuclz0uU9PjFhzpw7a8VzWsaQTp46Kd8xtnT0xDE57s7d2+bQ4UONLpBwhvnwNti96PQTklEIVREdxmn08Q6+UGyxgXLdtn2bjBH19PbKSjD9OweC8aNdg7LyC7a32wgC3qJvxw4ZO8I40u6hIfvf7Q0qkAqF76Ni3C1pes7F8xWNLmK/Ti8jYNhS+0ddS8LrivMwcbCDQKOP03AyphvqBeFe7SuzuA1wPU60YePGskY5B0d126MxBeLJrEogXo0tCF37+mpivd13TMrgmvHKOGlHNAeP30rtX6dAkGY1xllp/S9eXxmOEOJed8eVKnlNen8Ucc/1Y7/eFnVsgwkknFFJgCHIe0Y8+wBqGGRgUoOZC4IFH/z3HIRIOm8UMQIhYpwFY6aBltXyjjD1f7PCvZ64UFCPeRAIBx0zejvBf3R38LJQjedDZ3AW6HNWiyejkgDjjxKI1NKF2oUjqzAIZOJcCqas1uV59f0XaG6FYacjkoVMUA7B+I/eB3TYFDXeoY9x/4ffy3TCFZGM9WR4PcxjYcUJJMr1Jpn9ioxOq3b1hjAx5RCIN7x9oeR52mBumi8Ec40enTG6HH2gzNxyr00gGp351TLPhdXZ1VX8zpomrrapFHIxk9MYpcZ5iuFUA+V5miCfA8o9CisodOmDqApPly3DM6RZvUB81FVgnvTmGMSlaKxjsGj/2JhkDEdf0Q3YtrU9yDQng6NE4gvLaiUkjlDe1UGDCaTcwIOF+bifHTFaDFHwWHymI5AQngKJRP937kFmotGHgaWDE+Pmxs3rZnpm2ty8fdNcnr0s/ecYQNo9tNubmfQYbNBj+/qNG80G+4n2ABuUQcMWPU9xlBrAZT08aQtEs4gF4wrErbTY9Z3UexA37YwE0hoOw6LQ/5tj3GcrMB1h8vykFcgNc/7ieXPsxHFzbuqc3TZl7t69I9MS1m/YaNZt2FDMTFcU6GOHKFAwaCy7Rg3jD1ai9xinNtQo9LFZoM+ZNp4yqBfd80SRIDIQj+6UURLc0Dg7gSxgmGm68cvFwmj09Ao4zg2vAETiwoYi9kl6YgweA1zKZCQQN6x1BcIex6A9mVwgKHO2XxpKIBwsw6S7tes3BNuc/YEo/M9HYCEEvOIMb2jq3rbNdHZ3ySOtB8YPmiNHjsj0A0xH0LWVi7svF4iHjASivQMEgsqOjW12mGBlGF1mUTDtRS+Q5a+vNmtRg9sMWL9RPXNtM2idDXuCxm64Qe0CcSBWRUh1zDbW0fbAYghTNry6YMMtvOLs6bMnpqe3J5SZdMkUiPzOBRJNikLRjW+Wtd4u7cSCYCrhduMvGIFgdHTl6rVi5KvWBJ+ADdzX166TGxR3aT0Ep1mwS1anVy07+neYs+fOmsNHj9i2yDF5ESamRg/v2WP2Wu+CadPTl6fFu9B1s4HO8weuvNB7lQskGjdvUhAL851C0KPlrBzxiTakFoQLys61p3kXCAwNtTzifF5YcZ5Oc2B8uLFgzk+wHKdOIw3kHIUaBr/R4PZlXtET6cZnoaCDxrjHKHJK6MpD52MSVPmxjNiO5G89qItt6GFkeTI8w3G+KGPOBUIRwAsEIghf1HzDzNICAXK9uoBz5h5HJCwr2hLLyu2NYrlCEOusF3GFExeBzKlAlq9abVavWy+hkd630EBNRC/Chn2xgZ8LpH5SzkOGu25HSVTli+PiJju6ZCoQ9CDhYtB2CAbN/Be86Ei5cJckKech5lqVQvQgHI/zDBUFUgjlMhMIxgVEFL6JdouE+BVQwoWUUwV15mEwPQhr6QZTSdq3ltYXiPIcmkiRONeWiUAiT7xIgUCClRkLhcAMdBuNxFOYOR7qzCu8jxKiCBYDdMrDU35RxNtpcJ7UBeJ7e2ujgC5e97frynHPwfe8ET8XBB4jvD2pSFBe0XZaSi9VgbhdtY0IlwqCELiMqa+3K+gh8RReTmqUrdjvklAguoerRHl6qQkkXpGNgXuPEAJ6uThfC9vYp56PpGfP5i2bjf/dLwV06Osg5UhPr1HpLJNRX48xgKTeAL1T7qzYNICRucaHmyobqLNs69kuc6TwyW14yxIegOq0n6jhO7o65T4GBnfKsx36PEnhICLgLFHtOXA+fMp/kNkdeOOTp/ByUiEYFIQ9hPfFEXiP8HYfy+JEwJFG/mac7RopxjWinguuFxqeb6YmmL0ya3bt3m2OHT9uZq/OmmvXr5pTZ07Jcxt4tmPs4AFz8vQpM3V+UhYKwwNRmEKCz9H9+2UqiT4nYH86ROEKw70GoPdtwsBn75hp7dlruo+/a3bf+4d8tnQPGJ3xOekQPC2IcgvvS4NlUX3GrlFy+i/gtmoGW2pBGx+NkgLB+feN7DMXpy+Zc1OTIoRp+/3R40dmeM+wTCp89PihrKyHty1h1Ty8jen6Dbyd6aiZnrlk9h8YC52XwtCicPHlx0brQbef+cjseet/zfCDf5r+G382ex/9n9B98n2jMz4nPbJ8F+UyjFVoA0gCZtA2t4QNu158oYuvQYXjMB0d4ZQsPNzRIYsvdG3bVkwDXYGoYRBayT4bduGVZHin3/kLU95VFfW542BIJde4Y7woCLDr7n+ZgZv/Id93XPl9EPPyPKGGZLhglgSs+ev0AEHlng3LfvLqa6GCjwOzITHZS3ucNGCa+py+dlKlWj4ON0wjrsdMiiuQLQNHQwIBex7+y2zdO1k8D0NUhq/VxMMNTR0iiW2s18myf/v5q+bVlavMmnXrQgZA2Fheu359ZrNpARvmDPtc9LFAX6cLJxwyFGLopBv6Po+VBN0+6Tz8ltl56z+DEOvNf5rOqa9M+4HbZov1LDyG91aWVlPw3Ho9BtIw1JgHmYZYEAhYvXadocHo2hSGgOcxXl+zVo6JwzXCLLwMoJC00dIItQjiCBlsQuA93Cnx3cfeseL4l+m//mczdP8f8r3n4kvbNikJkKL1ibLMk0R0Oeb4QU8Wpp3o7WlQFMiK11cXa2oaNo0N4BFWFrI2Mv7HNVptwDQO1uRRXiEOfV06zKpWkPqaq8ENr0BT16DZefMvZuDGX8pCrbaRK7If5+H10aP5hOIel4skOQizspjFUBTIz5avEBFI4cGLiCcI0A15X+1c1qOTEF86Ok2KiYLAdtb61QoiCi20JGiBCM3tViBBw5y07jkv+yhqntOd3wW4n2nJsWUDWCBcgDnlhObL1UlJIK+tKIvZcZKQATiFB1wDr7Ymdo1FExdC0QuxBtb/rZZavYhXIJa2Ny6aoTf/2ww/+B/Tc+65DbGCiiPK84KgLz9IzxVruacNF15DkJIhC23BczzMT8m3OtMvCgS4NTJrb20AbuEV1VogaTwfJw4Qd15QMTwrq3X91CIKlyiBgE2tXWZz93BZ+wNQ2PpaCEMvXwURVAbhAszRBPlYJhJBH5eMMoGsXL1GEsMrqKYuTJnhvXuKb+rBWIJM67C/B3buNNvstguXLoQWfnYLWQuGDXhtGBrcmDYQNw3tObA0aGRNoYRSSyjoI04gSYgKDykOCom/G04gUeWVAghdKQ6OdWEhv7L5V57/+SgTyL+/8prBjFy8323HQL98PnjrTXmv29nJs+bwkcMyAj114bxM6ThvP92Fn+OAQWjD1vuxNhWW/ZyZvVwcBIQoIQDcaPC6rD55hRb299trxKu0zk6ek5vxU34eLdpaQQGsd1ZYrAVf2KUb7hQLtrOCcZE0qijwBUNG14zGuhvZsH3HvAwqpuSUCQSgN2toeEjEscd6kLEDB2TJm6E9w7JuLaZuvDGyT+ZAQSi+0eikoNBZ0LgBGALmTZ2bnJT1qDA9BNNI8JLFEydPmunLM/L97r07Ik6Aazhz7kyQpi/TlQeJEogMgDZ3Bp8WLiOqjyNIy7fySbWUCq10jT7vGef5MI5SrB0ljXBB10Jrz7DpPvHMdB66b1q2pjzx0ldWtVK4b+RBeVhVsjM3v0u2UvkaQgKBF8F4B5dG0fgKtFa0saI2xPwqeBIwsn/UHBwfl0mFR44dkTeSYlE3TBPBgtIQKiYdHj9xvFjDhjJeCUTfj2Ab0l3Hn9rG9T/lc1N7r2yHQCACisbNE3iPesMsFzdPdb6QyOvfFJQLO1l0IddE94DZdfuvxd64nsmPTUt7R/i4WtHlVCcIoXziIKyM2fFBKoWuIYEA9Gi9smJlWe2uC0NfQFK014gC+3ED0h4pbMNyoHE1KQjO49ykI5BiTWIFsXX8rohh87Y9pmP8TlnXbNfJD0LpEnoXfK90LdWSJF90COaDRsCwlpSVRQUDbd9ztixPMGWmpX88dFzNFM8ftpHya6yM+zh06D4LIC+iyiuo9P1C8QoErF4XjKwDnSBgI7Ja2OjU6aFQtWdCu+fSzLT1IHvN/rH9Evah/YHfWzs7QmkAWVUd//cUAGvm7Wc/Ks2ZuvN303Pp2zJj6Jv9IZSuBkKJyvCsqeW8LK9iJ0cFgTT3jsi0GeZJ/9XfWQ8S8ZirBmlH4e6X40vG6+KWm2v03MfKBBUo9/NefSJx9+m8AaXOn/J7iRQIe7R8hUFXpS8ikrIMCaYG8H0YuCgpPE9GQiCjNszCOrmP33nbXLtxzZyyYRaWAB0aGgpdFzMgMAb3RoPrwPamtm4zePtvZYLonflt0Rjw2Tp0JpSuD6z86HqUpBRDN7RzNga/9TFx+MqkErpSomBcY8QyTVihnks0dYxcNP2z35ue8y9My7bd5cYbKTBP+RdA2dC70avp6yKufTEc4n1zGAC/mR6Oc9PS9unmAytKH9iPtkxQ0cYIBG2RNZicqFbE1jediMjMjAfr5UIg6GbGJ3qt8NJ3eBB0L+ubI1sw+c9Nq0x4reIhiqGDFURL/wHTunPctO+/arb0HSgWQBlN5YN4wG2DYLU+Gjx++9pwIgasN+wUKgq5WoFgaj/+y75+wrWhNFGGyIqu+HtzqZesaMCesZxiTavKlUaly5//0Yap81NDMfqOR0il08KxOk16E9dz8N70+TS4n0iBEMz0xcG8UX3zFalRHEXaogctsY3GxmNYQ5SuoZQW02jqGDC9F15I7dgxciF8vlZ39Lv08hudqa5AJO2m4DtEAIEEL9sJoGB8z9DoSigLcB7mj8/jYUqRNuA4aHgAeU8B4tO9N6bpE2nU+egxWI7ub9xDlAelEPV2n3i0wKKoKBDwE+tNUMvpgk2Gx+gTU54WXXRYBD7K02JNWra9LWFMXTy+FPvi/BBIsYtVzlF6bp6Fgf38jn1lYUprKYSttOp4WuDa6HHclVlofNqIo2D+6+0A25mePp5zz6LA9UgXewRRokqCKyyWkz5Gk0ggBO/icAu3Mh4jqwaf9ymESWEK+4r7PemlCMIZGD8FwwwP9rcW21gcwdUhBkXEmtEXks0FQVgYLOZMgbjXBeh19HbeE6ABMx8oENb4SYyxEjoPq0WLFtfl86YuVQkEoG2y1tZ2YQMN3uExF8ZZ1qbwiShj8OwBDUYXAPaLYWwpr40hFAhGFwChoertWRIlSho2Ce6rFKK4xk9R0Ssx1HX36fRrIQ2BAVdgUaGaS9UCIa+sWCU9HXjJDd7GitVN8OIbbUyNRxBmIRzw1WYQrN4GfMf6yFIoDA1BPSFd0ntJiyQ1fS2gLPU2gPPhHpFfNQsEwJugOxi9H3ieROZy6R6kRqQtWH/LZyhxXiIpaNTrbWkhtb9lXeEBuFpwOyfmgiQ1fS3gPvR8Ong9NyqqSyA+IBJ4ErrYkHE1CFkbSVYiQbr1hiu13DtsAed1YcgWB9svSRvV1eATCMPJzASi+cmryxedV2GXrm87Y2zd4EubqPZBveCpUZ/nq4Ygb/zhibufYHVLjN2wM4PhC/aJWAphn04HuAZbbyNdg7BNeycKGefDvswFAmQCpG3Aszt0oeN217rbcf1uo7NSYY2O7Q9t8zFxaCJUUFECwQxrvIm31sZvPaGVxu21okFp4aCWvnL1isx+wIqXu4eHZNIpZoxjwHdw16CsdInvmHhaFE0BCsQdCNXX4cLriUJXar4y5DnxfU4EQiAUTIJE4WujXIggQ0ujw8H4hc7ISEO12z/97GP5bLWZjWVRT589La9QuHPvjhg6jtve22v+9ve/msnzk2Z7z3Zz/817smwqCnLGGhVWhcQUEDychtdRQ0x379+Vxw1u3b0tn6fPnDIX7f7QNSjgPdasWx/angTG5rH37AEP2OEV27gneYRhatIcP3lCZmXjWaPjJ4+bg+MHzY1bN+S43UNDkj7ExwUB8VwQ8h7hEMpEj524YD/OizTo6aUcC6EaPnEcH9OgCClupsOHruZUIC4YfFzYQinN7aFQMIVFGwD2eQ0GAvk8EAhq/Os3r5uPP/21OXHiuPns80/M4O5dctyDB/fNw7cfmpfffGX27x81j+z3j55/KGsIv/34kXn+64/keZzvvv9WjsFUfwgEx+Dz8btvm198+IGIx3sdDhAHV6epBqRLA6ORVTqXC54lwiTTnr5eeeBtcNcueawBE1AxjQiVBqcToQPB/S8N11fTJwXX7IZpen8c8yYQAqFgGVMQvAs9HNrMNWIILU5GWmPglHsf3ky3//nNb78WDwDv8OtPnosw9o2MmIeP3jL3rHGjhvvk04/NgQNj5hPrbfCw2F3rXZ4+eyKe5cWXn5s//fmP1rh2mi++emGuWi8Ew3r/g2dy3FuPHpgx+9+L0xfN1795aXR444IaGWuf6e3VQqHo7WnCdgrHVnRY5AP/cb0Gt+M3RRYlEFYAejuYd4H4YJsFQDgQjTbiakHGMM1K4KlKgnGemZlps8vGz6j9MElye2+PhAUIifDoL2tVnbkMEbC/3brtwAs1Sxp4vwUKpqXQIxQ8j2Dj+EJth4btu08em19ZT8Hwhg3dwGiaJB2kF7yrz9+zBGGgV/G1Va+H9tUCjTeJ0dYKzoH7Qqjjtkn0cTyWxk8h4FiKhfuI9kQUB/fx3ii4BSkQHxANamVt+DR+hGvLrRHgOBe0efhdp5mEV1e+LnHzMRsaPXz7kbk8OyO/EU+jYYk4GoZbbWxeCZl3VJjKovdVA8KqtAfZqg2xaoWzlgm2aY/ggu1x+4F73a44olg0AgH/blm5Bs+plMQB0dRq/ElYsXqtFccJM24bx3j+fXxiwjaw99rPcWlsnrexP2tvnxeplXpGuotppCwMoEMYgAoq7QoC6BVzsI3n8Bk29/E3e6OAT9Q+D6NZVAIhFAnEofelCcZwfr58pYBV8LENYZcUEM6vCtTXr14P62x4WauR1/q/OBjOaIFoA00CReUaI8MoGC5wBYJ81ef1QaNnCMg09bUl8R5gUQoEYGax3pY2LVs7xGsgpNrW22d2DQ+b9s4uWUQCIVdfH3pkBmUBCbx1FRmfRXxerTep9vhq0IYGYGiM+/W+KHC8NkZsc0MkVyAUjU6nFpJ4DrJoBTIX9A8OSi/U3fv3pJ9+0ooFb7TCK98w8IUBL6zbdePmDemJYgFENZjrIZjEGN7uIwvvEQW9it5eCZ9ANOzgqCQMXAN699Bhgu7i4j4lWJQV0sJYi27fRJELJIbNLTacsJm0pbXNdNmM37d/v2nv6jZbLX0DA7KQ3T7rPSYOHy4rGPaG6IKsFz5zobdrsvQgGtb2SYyYXsD1ElEwBEuSj0027WvXr0k3OV6zh2WgMDp/595dWeAQFRlG8/GJ1+7df3BfFkFExcaesihygdQB2iMYW0BbBe2FskJLMSRwqWT8tY6UVwsM3m1DVAqv6GkqobtztTf2nQfbsLomVgCFOGYuz8j4EASAbZjWghe+YrAWI/gzszPmrN2OhQkpEAqRno2fuUDq5NUVq8xPrUB8I9TIdF3A9VJJIGmGVzA8ti1cw9SNa9fAfAYc9z+GUFGegvnHa8F/2J3L7XguSbY3B+NR+I3wil6IHgufOJ4Nftd7+Hq5sC0XSAroQnXRNWI9VAqx8Bo9rGemt1dDVAOWBha1nwZOg2RI5aatBcJjtGESeh0KSF9PlKiS4AvzdFkh/VwgKRAX1iDj9bZaqeQ9MGKut1WLNvxagKHR+GBkriG7x+EYHqdFAgOG96D3Ys1Pr6CPrxWm5Xoll1wgKYClWnXGkjRDrDiBYD3ler0HYK2ua9d6gSHG9Vy5IRq9iissbNM1/FyQCyQlVq1eE8pcAIHop9ZqJU4gabY9XGCkbk2fFWzr4Du9A87pXguP0deYJblAUgKj7b6YOM1V4ONEECeeenGNUrcF0kS3K7RA5locIBdIimDmMTKVMTMzOWuBZCkOH1l5E90GoEDgOdj20NeSNblAUsRdWM8t7MwFgt4tz/asYKPWbTTTeLXRJ0Ubv+t5XaHoa9HE9Yq5MJwj7G7WXiwXSMr4jDhJwVYCAvClTebai/jQRlcN2kPUEpri/Mxreh19DGGj33fN7v9ygaQM1gnThYGCjxu/SEIlAVTaP1ewF4ptlUrhGB+13Vyo+d0nN13BJPEKPCcMnN5NH6PBteprcts+uUBSJqrLN0lhxRHnPWT/AhGIC40a9+4aHw0YXLgYvCl54vAhmQaCd1BiHhW246nNK9euyGxpPKDGdFn76zYL0odIcF5+6msilTob+N9cIBngm3YCD4KpDbV4Ehi/L019jN42n+B6sMSQjO6vXWfW2O8UCIyTxn367BmZN4VHCrC4xcShQ/JwGhahkG2T52RO1e07t2QFT1dsriEDCsRtE7ngnKSSQOhFcoFkAB+q0kAcrD2rEUqSEfJKHiZrIIS160szCiAKrOKoDU8bIYy1tT1Y55jtELYL8J2eplM9XUgohEptCR7jejWmHRcG5gLJCG1ALihULoJGI9DHEDTOowTnkpZAtFGBqFCF1yVi8Hi4kNHqVfkdos4BKk1Jp7j0dp2vPA7f9X2yHHQauUAywq1NKxG3tA2mkPiMT5M0xJq9ctn09AbPrrC2dmP2Z+8/LV4LG86Xpi8WxQwhRl2rC/7nM7io11VwNUudDqhUy8fBcApp87tO30X/PxdIRkQ11qOgy9fbIRC9zUeSsRAsV4S1ubAuFxad+PLlF7LKIxrBL778TNoCv/vDj+b5xx/Je+rxeePmdfPmg/vSgP7q6y/NN99+bbc/jzW0SHGACIFwdRqdFuCkxVBaNaLTd9Ftk1wgGaIzvxIoHNfw0E5BbK+Pi6KSF3nzrTfN0/eemm+/+0aWAsVype9/8J4si/qpFQ4+8fudJ49FRF9aQeBR4yfP3rWN5bPiSd7/xfvWyzyTEFGnT28UKQ4QIxCKRHsSCsfXJVsL9Ib6HO4x+A1ygWSINqAkSKO1LXh/IMDDP1o4UVQSCLpOkf6JkyfkyTt4Drxq+9DhQyIcLHEK4Zw8dcL0DwzINvQyYc1ceJTRsVF5Eg9rDMOIdPqxwiAVBAKQjg7j2LWra/h6oCiQvt5HkeYCyRBtQLXw2spgRUTWnihUbTwkrYZ6rWgjiyYsijDl008YgqYpEOITNs+dCyQjXlm+MmRAtUCBuKB2g8HA06Aw2WWchUCq6Y72GZofLYYoSsv9RBlyVuQCyZC0xAF8AtHAcCCaanrOkpK0kwAkbyNoIcSguoMRdmYtFNdz5QJJGawFrA1HI92NEWGShgLRBadBmmusQPCSmqgQrFoguCRdzC66sevHI4SEuJ4zC5B3bm9iLpAUSSIOgKkUV67OSmHg3RhoAMMDoNGMVeRxzK7du8zIyIgIBC+Q+d0ffzRffPnC9O3YIas59g/0y3Z018Joenp75dUK7z59R16yEyempOiljJKQrI0QNvykUCDJvVV14PrdXrRcICmCpwq1wfg4dOSQdJ+ipsJLdX754S9kKdOvXn5hvnj5wrwxsk/eDfL5F5+Z5atWixC+//E78/0PvxXj/+Of/mB+/P33smgd3gty7cY16aZFbxQG+p6+90TWgcIkQODzKIHBhXuiKqENyCXRWEWCXqw42OXLN0SlDcrE7VbOBZIySdoBEAgM+tixo/IGqSfPnki3Kwwbb5saO3DAfP7iU/Py6y9lkmJLW7sM0j1776mZnb1sfrDiwKvacCzeH4KBvE8/+0Q807tP4EHG5e1TKHAYtBYIjAtjIXfu3ZblOuGFYBiYPQvvhNc6wBPBu0GQGGCU/1oBfPzJc1mhEG2BicMTMioPAR+29xQYfxLChp8Ud5wkq7YIRYLvuUBSxm1UwzjZd+/WuqjV8QzE8J7hIMSyHuOVlavktWx9/f2mwxrco8cPzQe//EDeT7ihabPZa8On7X07JIzr6N5mBoeHzCabLgwYRtprQy+MY+BtVFiDFsuiooAZarmxNVam/+j5r2SUHF4H4RvegoWBQYyuj9l04MEQxr33wTN5Oxb+h/YN3n714a9+Kdf/8Se/lnTwOoiXX39lbt6+GTK2aMLGn5hCgx3XVHFgsk5ygWRAsbZ2Qg4tEhc8ZIUZuzgOL+z56WvL7e919vsq87PlK8wKux/o8wDsx1uxdMG65+V52GUKDzI9M22+syEbPAK82axtE2GEHCPpaBPhlW8nT50033z7jYgA/4fHevzO2+YHG+5NTk2aW7dvmPfsf+DBcAzWvE1urB7Dr4a2gnfcEtxP2g135lcukAxAWwRGju8wchh/3NI/6ErFcRDUytVr7X9XlKWHdog+hwb/h1Dw/01NpQasPhc9CRZxxmg5vNnYwTHT1d1tvdcO6QTAMXjFQ2dXp9m3b5+EXbi2/p0D8tm9rVu+w/shDRgnvA5+J2ukA4/R10wwgIrroFiS9aZFg8osF8gcI+889AgF08Wx/5UVgZHD2PV/k/Jz61Hwf0xcjOrJQsGzIZoFyY1TG3qtlKeLCgDCxyfyILlXK08Dn7lA5gGIwB31hkFLOPVaYNz6+GpBOwULamvDdeHbsKoZKU/K3HsRnW458CrJRVtOLpB5AiEY1vSFR9H70oDpa+N1yUokDOO0sYXRhl4H7oi7Ok/U4GKSa8wF0sBgnS4aiDZiFxgKjDpJF3W1VPYmHmOvh4JAcF6eG/cHgeCTXbhJer9wXC6QBge9XzQWbbwuMBi3W1rvrwVOqnSNjgZa/K0NvF4K3b+E94JPPrrLBrgWhAb/yQXS4KBdA6OM6mL2gWNR47rAYKoJxXw1tCs8ijbeUD0CqERbaSFs37XQi/Ac+B7l5XKBLBHQYK9lXpULxAGDSSo0LQ78dvezFsd3bZhFapmWUgix3LAS391KAuel6Hmcz9Nhey6QJUIaIgEQCWthGFmUV6FAtHG6UCC6Vq9LIBSJBYOIrofCOXhO3of7PXT+1ryRvqRISyQuEImvjeMaYBJYgzMtCKpmgTj4xIdzMQzTgtDkAlliQCS+9YN9YIS/Ulcx4TQWeha2L/RxUejj0xJIibDx85xx6279Pyi+3d5XvLQQAAAAAElFTkSuQmCC' width='200' height='133' class=\"itemThumbnail\">\n",
       "                       </a>\n",
       "                    </div>\n",
       "\n",
       "                    <div class=\"item_right\"     style=\"float: none; width: auto; overflow: hidden;\">\n",
       "                        <a href='https://pythonapi.playground.esri.com/portal/home/item.html?id=640894a187dd4248867d1fc495673e17' target='_blank'><b>LA County Infrastructure At Risk</b>\n",
       "                        </a>\n",
       "                        <br/>A Web Map with critical infrastructure at risk from fires.<img src='https://pythonapi.playground.esri.com/portal/home/js/jsapi/esri/css/images/item_type_icons/maps16.png' style=\"vertical-align:middle;\">Web Map by arcgis_python\n",
       "                        <br/>Last Modified: November 30, 2023\n",
       "                        <br/>0 comments, 9 views\n",
       "                    </div>\n",
       "                </div>\n",
       "                "
      ],
      "text/plain": [
       "<Item title:\"LA County Infrastructure At Risk\" type:Web Map owner:arcgis_python>"
      ]
     },
     "execution_count": 142,
     "metadata": {},
     "output_type": "execute_result"
    }
   ],
   "source": [
    "ebmapitem = items[2]\n",
    "ebmapitem"
   ]
  },
  {
   "cell_type": "code",
   "execution_count": 143,
   "id": "63d8a57e",
   "metadata": {},
   "outputs": [],
   "source": [
    "# create a webmap from the item\n",
    "webmap = arcgis.mapping.WebMap(webmapitem)"
   ]
  },
  {
   "cell_type": "code",
   "execution_count": 144,
   "id": "9b33ea7c",
   "metadata": {},
   "outputs": [
    {
     "name": "stdout",
     "output_type": "stream",
     "text": [
      "https://pythonapi.playground.esri.com/server/rest/services/Hosted/At_Risk_Infrastructure_2023_11_30_14_22_22/FeatureServer/0\n"
     ]
    }
   ],
   "source": [
    "# read the operational layers in our webmap\n",
    "for lyr in webmap.layers:\n",
    "    if lyr['id'].startswith('At_Risk_Infrastructure'):\n",
    "        print(lyr['url'])"
   ]
  },
  {
   "cell_type": "code",
   "execution_count": 145,
   "id": "db7dbf3e",
   "metadata": {},
   "outputs": [
    {
     "data": {
      "text/plain": [
       "'https://pythonapi.playground.esri.com/server/rest/services/Hosted/At_Risk_Infrastructure_2023_12_01_22_50_18/FeatureServer/0'"
      ]
     },
     "execution_count": 145,
     "metadata": {},
     "output_type": "execute_result"
    }
   ],
   "source": [
    "new_url = at_risk_facilities.url\n",
    "new_url"
   ]
  },
  {
   "cell_type": "code",
   "execution_count": 146,
   "id": "0b1f6f86",
   "metadata": {},
   "outputs": [],
   "source": [
    "# update the url of the 'At Risk Infrastructure' layer in the web map\n",
    "\n",
    "for lyr in webmap.layers:\n",
    "    if lyr['id'].startswith('At_Risk_Infrastructure'):\n",
    "        lyr['url'] = new_url"
   ]
  },
  {
   "cell_type": "code",
   "execution_count": 147,
   "id": "8375532e",
   "metadata": {},
   "outputs": [
    {
     "data": {
      "text/plain": [
       "True"
      ]
     },
     "execution_count": 147,
     "metadata": {},
     "output_type": "execute_result"
    }
   ],
   "source": [
    "webmap.update()"
   ]
  },
  {
   "cell_type": "code",
   "execution_count": 148,
   "id": "2317b78c",
   "metadata": {},
   "outputs": [
    {
     "data": {
      "application/vnd.jupyter.widget-view+json": {
       "model_id": "48a810ffabbd4a7eaca2019528a4f569",
       "version_major": 2,
       "version_minor": 0
      },
      "text/plain": [
       "MapView(layout=Layout(height='400px', width='100%'))"
      ]
     },
     "metadata": {},
     "output_type": "display_data"
    },
    {
     "data": {
      "text/html": [
       "<div class=\"map-static-img-preview-28b34114-2fed-4bd5-be91-53f201aca37b\"><img src=\"\"></img></div>"
      ],
      "text/plain": [
       "<IPython.core.display.HTML object>"
      ]
     },
     "metadata": {},
     "output_type": "display_data"
    },
    {
     "data": {
      "text/html": [
       "<div class=\"map-html-embed-preview-28b34114-2fed-4bd5-be91-53f201aca37b\"></div>"
      ],
      "text/plain": [
       "<IPython.core.display.HTML object>"
      ]
     },
     "metadata": {},
     "output_type": "display_data"
    }
   ],
   "source": [
    "#zoom in to the extents of Los Angeles in the map below, to view the webmapitem \n",
    "m3 = gis.map(webmapitem)\n",
    "m3"
   ]
  },
  {
   "cell_type": "code",
   "execution_count": 118,
   "id": "05227113",
   "metadata": {},
   "outputs": [
    {
     "data": {
      "text/html": [
       "<div>\n",
       "<style scoped>\n",
       "    .dataframe tbody tr th:only-of-type {\n",
       "        vertical-align: middle;\n",
       "    }\n",
       "\n",
       "    .dataframe tbody tr th {\n",
       "        vertical-align: top;\n",
       "    }\n",
       "\n",
       "    .dataframe thead th {\n",
       "        text-align: right;\n",
       "    }\n",
       "</style>\n",
       "<table border=\"1\" class=\"dataframe\">\n",
       "  <thead>\n",
       "    <tr style=\"text-align: right;\">\n",
       "      <th></th>\n",
       "      <th>name_1</th>\n",
       "      <th>city</th>\n",
       "      <th>latitude</th>\n",
       "      <th>addrln2</th>\n",
       "      <th>link</th>\n",
       "      <th>addrln1</th>\n",
       "      <th>phones</th>\n",
       "      <th>source</th>\n",
       "      <th>shape_leng</th>\n",
       "      <th>use_type</th>\n",
       "      <th>...</th>\n",
       "      <th>date_updat</th>\n",
       "      <th>name</th>\n",
       "      <th>info1</th>\n",
       "      <th>analysisarea</th>\n",
       "      <th>perimeter_</th>\n",
       "      <th>acres</th>\n",
       "      <th>objectid</th>\n",
       "      <th>info2</th>\n",
       "      <th>status</th>\n",
       "      <th>SHAPE</th>\n",
       "    </tr>\n",
       "  </thead>\n",
       "  <tbody>\n",
       "    <tr>\n",
       "      <th>0</th>\n",
       "      <td>Fish Fire</td>\n",
       "      <td></td>\n",
       "      <td>34.176673</td>\n",
       "      <td></td>\n",
       "      <td>http://egis3.lacounty.gov/lms/?p=24626</td>\n",
       "      <td></td>\n",
       "      <td></td>\n",
       "      <td>HSIP Freedom Gnis_cultural_fe</td>\n",
       "      <td>24948.867757</td>\n",
       "      <td>publish</td>\n",
       "      <td>...</td>\n",
       "      <td>2010-11-01</td>\n",
       "      <td>Azusa Powerplant Conduit</td>\n",
       "      <td></td>\n",
       "      <td>112.45471</td>\n",
       "      <td>2016-06-26</td>\n",
       "      <td>10850</td>\n",
       "      <td>40242905</td>\n",
       "      <td></td>\n",
       "      <td>Active</td>\n",
       "      <td>{\"x\": -117.87199392276113, \"y\": 34.17666797642...</td>\n",
       "    </tr>\n",
       "    <tr>\n",
       "      <th>1</th>\n",
       "      <td>Pony Fire</td>\n",
       "      <td></td>\n",
       "      <td>34.157505</td>\n",
       "      <td></td>\n",
       "      <td>http://egis3.lacounty.gov/lms/?p=26620</td>\n",
       "      <td></td>\n",
       "      <td></td>\n",
       "      <td>HSIP Freedom Gnis_structures</td>\n",
       "      <td>3787.741971</td>\n",
       "      <td>publish</td>\n",
       "      <td>...</td>\n",
       "      <td>2010-11-01</td>\n",
       "      <td>Motion Picture And Television Fund Hospital</td>\n",
       "      <td></td>\n",
       "      <td>57.4282</td>\n",
       "      <td>2016-06-26</td>\n",
       "      <td>1080</td>\n",
       "      <td>40244777</td>\n",
       "      <td></td>\n",
       "      <td>Active</td>\n",
       "      <td>{\"x\": -118.63618579426031, \"y\": 34.15750062135...</td>\n",
       "    </tr>\n",
       "    <tr>\n",
       "      <th>2</th>\n",
       "      <td>Wheaton Fire</td>\n",
       "      <td></td>\n",
       "      <td>34.280934</td>\n",
       "      <td></td>\n",
       "      <td>http://egis3.lacounty.gov/lms/?p=27055</td>\n",
       "      <td></td>\n",
       "      <td></td>\n",
       "      <td>HSIP Freedom Gnis_structures</td>\n",
       "      <td>6262.26394</td>\n",
       "      <td>publish</td>\n",
       "      <td>...</td>\n",
       "      <td>2011-05-03</td>\n",
       "      <td>Pacoima Memorial Hospital</td>\n",
       "      <td></td>\n",
       "      <td>60.130013</td>\n",
       "      <td>2016-06-26</td>\n",
       "      <td>8940</td>\n",
       "      <td>40280838</td>\n",
       "      <td></td>\n",
       "      <td>Active</td>\n",
       "      <td>{\"x\": -118.38329528379319, \"y\": 34.28092898174...</td>\n",
       "    </tr>\n",
       "  </tbody>\n",
       "</table>\n",
       "<p>3 rows × 43 columns</p>\n",
       "</div>"
      ],
      "text/plain": [
       "         name_1 city   latitude addrln2  \\\n",
       "0     Fish Fire       34.176673           \n",
       "1     Pony Fire       34.157505           \n",
       "2  Wheaton Fire       34.280934           \n",
       "\n",
       "                                     link addrln1 phones  \\\n",
       "0  http://egis3.lacounty.gov/lms/?p=24626                  \n",
       "1  http://egis3.lacounty.gov/lms/?p=26620                  \n",
       "2  http://egis3.lacounty.gov/lms/?p=27055                  \n",
       "\n",
       "                          source    shape_leng use_type  ... date_updat  \\\n",
       "0  HSIP Freedom Gnis_cultural_fe  24948.867757  publish  ... 2010-11-01   \n",
       "1   HSIP Freedom Gnis_structures   3787.741971  publish  ... 2010-11-01   \n",
       "2   HSIP Freedom Gnis_structures    6262.26394  publish  ... 2011-05-03   \n",
       "\n",
       "                                          name  info1 analysisarea  \\\n",
       "0                     Azusa Powerplant Conduit           112.45471   \n",
       "1  Motion Picture And Television Fund Hospital             57.4282   \n",
       "2                    Pacoima Memorial Hospital           60.130013   \n",
       "\n",
       "   perimeter_  acres  objectid info2  status  \\\n",
       "0  2016-06-26  10850  40242905        Active   \n",
       "1  2016-06-26   1080  40244777        Active   \n",
       "2  2016-06-26   8940  40280838        Active   \n",
       "\n",
       "                                               SHAPE  \n",
       "0  {\"x\": -117.87199392276113, \"y\": 34.17666797642...  \n",
       "1  {\"x\": -118.63618579426031, \"y\": 34.15750062135...  \n",
       "2  {\"x\": -118.38329528379319, \"y\": 34.28092898174...  \n",
       "\n",
       "[3 rows x 43 columns]"
      ]
     },
     "execution_count": 118,
     "metadata": {},
     "output_type": "execute_result"
    }
   ],
   "source": [
    "at_risk_facilities  = riskinfra.layers[0]\n",
    "df = at_risk_facilities.query(as_df=True) # read the returned features as a Pandas dataframe\n",
    "df.head(3)"
   ]
  },
  {
   "cell_type": "code",
   "execution_count": null,
   "id": "4f18d248",
   "metadata": {},
   "outputs": [],
   "source": []
  },
  {
   "cell_type": "code",
   "execution_count": 120,
   "id": "ded4cba6",
   "metadata": {},
   "outputs": [],
   "source": [
    "# view simplified risk facilities table\n",
    "if len(df) > 0:\n",
    "    df1_simplified = df[['name', 'cat1', 'post_id']]\n",
    "    df1_simplified"
   ]
  },
  {
   "cell_type": "code",
   "execution_count": 121,
   "id": "f8b89fbc",
   "metadata": {},
   "outputs": [],
   "source": [
    "# Export this to a csv file. This CSV can then be shared with fire fighters.\n",
    "csv_file = r'at_risk_facilities.csv'\n",
    "df1_simplified.to_csv(csv_file)"
   ]
  },
  {
   "cell_type": "code",
   "execution_count": 129,
   "id": "1c83a0dc",
   "metadata": {},
   "outputs": [],
   "source": [
    "# add at risk facilities layer to fresh map\n",
    "m2.add_layer(riskinfra)"
   ]
  },
  {
   "cell_type": "code",
   "execution_count": 122,
   "id": "bb6bf2e4",
   "metadata": {},
   "outputs": [
    {
     "data": {
      "text/html": [
       "<div>\n",
       "<style scoped>\n",
       "    .dataframe tbody tr th:only-of-type {\n",
       "        vertical-align: middle;\n",
       "    }\n",
       "\n",
       "    .dataframe tbody tr th {\n",
       "        vertical-align: top;\n",
       "    }\n",
       "\n",
       "    .dataframe thead th {\n",
       "        text-align: right;\n",
       "    }\n",
       "</style>\n",
       "<table border=\"1\" class=\"dataframe\">\n",
       "  <thead>\n",
       "    <tr style=\"text-align: right;\">\n",
       "      <th></th>\n",
       "      <th>Unnamed: 0</th>\n",
       "      <th>Country or subnational area</th>\n",
       "      <th>Estimate of civilian firearms per 100 persons</th>\n",
       "      <th>Region[3]</th>\n",
       "      <th>Subregion[3]</th>\n",
       "      <th>Population 2017</th>\n",
       "      <th>Estimate of firearms in civilian possession</th>\n",
       "      <th>Computation method</th>\n",
       "      <th>Registered firearms</th>\n",
       "      <th>Unregistered firearms</th>\n",
       "      <th>Notes</th>\n",
       "    </tr>\n",
       "  </thead>\n",
       "  <tbody>\n",
       "    <tr>\n",
       "      <th>0</th>\n",
       "      <td>NaN</td>\n",
       "      <td>NaN</td>\n",
       "      <td>NaN</td>\n",
       "      <td>NaN</td>\n",
       "      <td>NaN</td>\n",
       "      <td>NaN</td>\n",
       "      <td>NaN</td>\n",
       "      <td>NaN</td>\n",
       "      <td>NaN</td>\n",
       "      <td>NaN</td>\n",
       "      <td>NaN</td>\n",
       "    </tr>\n",
       "    <tr>\n",
       "      <th>1</th>\n",
       "      <td>1.0</td>\n",
       "      <td>United States</td>\n",
       "      <td>120.5</td>\n",
       "      <td>Americas</td>\n",
       "      <td>North America</td>\n",
       "      <td>326474000.0</td>\n",
       "      <td>393347000</td>\n",
       "      <td>1.0</td>\n",
       "      <td>1073743.0</td>\n",
       "      <td>392,273,257 Est.</td>\n",
       "      <td>[note 2]</td>\n",
       "    </tr>\n",
       "    <tr>\n",
       "      <th>2</th>\n",
       "      <td>2.0</td>\n",
       "      <td>Falkland Islands</td>\n",
       "      <td>62.1</td>\n",
       "      <td>Americas</td>\n",
       "      <td>South America</td>\n",
       "      <td>3000.0</td>\n",
       "      <td>2000</td>\n",
       "      <td>2.0</td>\n",
       "      <td>1705.0</td>\n",
       "      <td>295</td>\n",
       "      <td>NaN</td>\n",
       "    </tr>\n",
       "    <tr>\n",
       "      <th>3</th>\n",
       "      <td>3.0</td>\n",
       "      <td>Yemen</td>\n",
       "      <td>52.8</td>\n",
       "      <td>Asia</td>\n",
       "      <td>Western Asia</td>\n",
       "      <td>28120000.0</td>\n",
       "      <td>14859000</td>\n",
       "      <td>2.0</td>\n",
       "      <td>NaN</td>\n",
       "      <td>NaN</td>\n",
       "      <td>NaN</td>\n",
       "    </tr>\n",
       "    <tr>\n",
       "      <th>4</th>\n",
       "      <td>4.0</td>\n",
       "      <td>New Caledonia</td>\n",
       "      <td>42.5</td>\n",
       "      <td>Oceania</td>\n",
       "      <td>Melanesia</td>\n",
       "      <td>270000.0</td>\n",
       "      <td>115000</td>\n",
       "      <td>2.0</td>\n",
       "      <td>55000.0</td>\n",
       "      <td>60000</td>\n",
       "      <td>NaN</td>\n",
       "    </tr>\n",
       "  </tbody>\n",
       "</table>\n",
       "</div>"
      ],
      "text/plain": [
       "   Unnamed: 0 Country or subnational area  \\\n",
       "0         NaN                         NaN   \n",
       "1         1.0               United States   \n",
       "2         2.0            Falkland Islands   \n",
       "3         3.0                       Yemen   \n",
       "4         4.0               New Caledonia   \n",
       "\n",
       "   Estimate of civilian firearms per 100 persons Region[3]   Subregion[3]  \\\n",
       "0                                            NaN       NaN            NaN   \n",
       "1                                          120.5  Americas  North America   \n",
       "2                                           62.1  Americas  South America   \n",
       "3                                           52.8      Asia   Western Asia   \n",
       "4                                           42.5   Oceania      Melanesia   \n",
       "\n",
       "   Population 2017 Estimate of firearms in civilian possession  \\\n",
       "0              NaN                                         NaN   \n",
       "1      326474000.0                                   393347000   \n",
       "2           3000.0                                        2000   \n",
       "3       28120000.0                                    14859000   \n",
       "4         270000.0                                      115000   \n",
       "\n",
       "   Computation method  Registered firearms Unregistered firearms     Notes  \n",
       "0                 NaN                  NaN                   NaN       NaN  \n",
       "1                 1.0            1073743.0      392,273,257 Est.  [note 2]  \n",
       "2                 2.0               1705.0                   295       NaN  \n",
       "3                 2.0                  NaN                   NaN       NaN  \n",
       "4                 2.0              55000.0                 60000       NaN  "
      ]
     },
     "execution_count": 122,
     "metadata": {},
     "output_type": "execute_result"
    }
   ],
   "source": [
    "df = pd.read_html(\"https://en.wikipedia.org/wiki/Number_of_guns_per_capita_by_country\")[0]\n",
    "df.head()"
   ]
  },
  {
   "cell_type": "code",
   "execution_count": 37,
   "id": "d3e564c1",
   "metadata": {},
   "outputs": [],
   "source": [
    "df.dropna(thresh=4, inplace=True)"
   ]
  },
  {
   "cell_type": "code",
   "execution_count": 38,
   "id": "42935746",
   "metadata": {},
   "outputs": [],
   "source": [
    "del df['Unnamed: 0']\n",
    "del df['Notes']"
   ]
  },
  {
   "cell_type": "code",
   "execution_count": 39,
   "id": "0ab429c4",
   "metadata": {},
   "outputs": [
    {
     "data": {
      "text/html": [
       "<div>\n",
       "<style scoped>\n",
       "    .dataframe tbody tr th:only-of-type {\n",
       "        vertical-align: middle;\n",
       "    }\n",
       "\n",
       "    .dataframe tbody tr th {\n",
       "        vertical-align: top;\n",
       "    }\n",
       "\n",
       "    .dataframe thead th {\n",
       "        text-align: right;\n",
       "    }\n",
       "</style>\n",
       "<table border=\"1\" class=\"dataframe\">\n",
       "  <thead>\n",
       "    <tr style=\"text-align: right;\">\n",
       "      <th></th>\n",
       "      <th>Country or subnational area</th>\n",
       "      <th>Estimate of civilian firearms per 100 persons</th>\n",
       "      <th>Region[3]</th>\n",
       "      <th>Subregion[3]</th>\n",
       "      <th>Population 2017</th>\n",
       "      <th>Estimate of firearms in civilian possession</th>\n",
       "      <th>Computation method</th>\n",
       "      <th>Registered firearms</th>\n",
       "      <th>Unregistered firearms</th>\n",
       "    </tr>\n",
       "  </thead>\n",
       "  <tbody>\n",
       "    <tr>\n",
       "      <th>1</th>\n",
       "      <td>United States</td>\n",
       "      <td>120.5</td>\n",
       "      <td>Americas</td>\n",
       "      <td>North America</td>\n",
       "      <td>326474000.0</td>\n",
       "      <td>393347000</td>\n",
       "      <td>1.0</td>\n",
       "      <td>1073743.0</td>\n",
       "      <td>392,273,257 Est.</td>\n",
       "    </tr>\n",
       "    <tr>\n",
       "      <th>2</th>\n",
       "      <td>Falkland Islands</td>\n",
       "      <td>62.1</td>\n",
       "      <td>Americas</td>\n",
       "      <td>South America</td>\n",
       "      <td>3000.0</td>\n",
       "      <td>2000</td>\n",
       "      <td>2.0</td>\n",
       "      <td>1705.0</td>\n",
       "      <td>295</td>\n",
       "    </tr>\n",
       "    <tr>\n",
       "      <th>3</th>\n",
       "      <td>Yemen</td>\n",
       "      <td>52.8</td>\n",
       "      <td>Asia</td>\n",
       "      <td>Western Asia</td>\n",
       "      <td>28120000.0</td>\n",
       "      <td>14859000</td>\n",
       "      <td>2.0</td>\n",
       "      <td>NaN</td>\n",
       "      <td>NaN</td>\n",
       "    </tr>\n",
       "    <tr>\n",
       "      <th>4</th>\n",
       "      <td>New Caledonia</td>\n",
       "      <td>42.5</td>\n",
       "      <td>Oceania</td>\n",
       "      <td>Melanesia</td>\n",
       "      <td>270000.0</td>\n",
       "      <td>115000</td>\n",
       "      <td>2.0</td>\n",
       "      <td>55000.0</td>\n",
       "      <td>60000</td>\n",
       "    </tr>\n",
       "    <tr>\n",
       "      <th>5</th>\n",
       "      <td>Serbia</td>\n",
       "      <td>39.1</td>\n",
       "      <td>Europe</td>\n",
       "      <td>Southern Europe</td>\n",
       "      <td>6946000.0</td>\n",
       "      <td>2719000</td>\n",
       "      <td>2.0</td>\n",
       "      <td>1186086.0</td>\n",
       "      <td>1532914</td>\n",
       "    </tr>\n",
       "  </tbody>\n",
       "</table>\n",
       "</div>"
      ],
      "text/plain": [
       "  Country or subnational area  Estimate of civilian firearms per 100 persons  \\\n",
       "1               United States                                          120.5   \n",
       "2            Falkland Islands                                           62.1   \n",
       "3                       Yemen                                           52.8   \n",
       "4               New Caledonia                                           42.5   \n",
       "5                      Serbia                                           39.1   \n",
       "\n",
       "  Region[3]     Subregion[3]  Population 2017  \\\n",
       "1  Americas    North America      326474000.0   \n",
       "2  Americas    South America           3000.0   \n",
       "3      Asia     Western Asia       28120000.0   \n",
       "4   Oceania        Melanesia         270000.0   \n",
       "5    Europe  Southern Europe        6946000.0   \n",
       "\n",
       "  Estimate of firearms in civilian possession  Computation method  \\\n",
       "1                                   393347000                 1.0   \n",
       "2                                        2000                 2.0   \n",
       "3                                    14859000                 2.0   \n",
       "4                                      115000                 2.0   \n",
       "5                                     2719000                 2.0   \n",
       "\n",
       "   Registered firearms Unregistered firearms  \n",
       "1            1073743.0      392,273,257 Est.  \n",
       "2               1705.0                   295  \n",
       "3                  NaN                   NaN  \n",
       "4              55000.0                 60000  \n",
       "5            1186086.0               1532914  "
      ]
     },
     "execution_count": 39,
     "metadata": {},
     "output_type": "execute_result"
    }
   ],
   "source": [
    "df.head()"
   ]
  },
  {
   "cell_type": "code",
   "execution_count": 123,
   "id": "b932d169",
   "metadata": {},
   "outputs": [
    {
     "data": {
      "text/plain": [
       "Unnamed: 0                                       float64\n",
       "Country or subnational area                       object\n",
       "Estimate of civilian firearms per 100 persons    float64\n",
       "Region[3]                                         object\n",
       "Subregion[3]                                      object\n",
       "Population 2017                                  float64\n",
       "Estimate of firearms in civilian possession       object\n",
       "Computation method                               float64\n",
       "Registered firearms                              float64\n",
       "Unregistered firearms                             object\n",
       "Notes                                             object\n",
       "dtype: object"
      ]
     },
     "execution_count": 123,
     "metadata": {},
     "output_type": "execute_result"
    }
   ],
   "source": [
    "df.iloc[0,1] = 120.5\n",
    "df.dtypes"
   ]
  },
  {
   "cell_type": "code",
   "execution_count": 41,
   "id": "530fdd7e",
   "metadata": {},
   "outputs": [
    {
     "data": {
      "text/html": [
       "<div>\n",
       "<style scoped>\n",
       "    .dataframe tbody tr th:only-of-type {\n",
       "        vertical-align: middle;\n",
       "    }\n",
       "\n",
       "    .dataframe tbody tr th {\n",
       "        vertical-align: top;\n",
       "    }\n",
       "\n",
       "    .dataframe thead th {\n",
       "        text-align: right;\n",
       "    }\n",
       "</style>\n",
       "<table border=\"1\" class=\"dataframe\">\n",
       "  <thead>\n",
       "    <tr style=\"text-align: right;\">\n",
       "      <th></th>\n",
       "      <th>Country or subnational area</th>\n",
       "      <th>Estimate of civilian firearms per 100 persons</th>\n",
       "      <th>Region[3]</th>\n",
       "      <th>Subregion[3]</th>\n",
       "      <th>Population 2017</th>\n",
       "      <th>Estimate of firearms in civilian possession</th>\n",
       "      <th>Computation method</th>\n",
       "      <th>Registered firearms</th>\n",
       "      <th>Unregistered firearms</th>\n",
       "    </tr>\n",
       "  </thead>\n",
       "  <tbody>\n",
       "    <tr>\n",
       "      <th>1</th>\n",
       "      <td>United States</td>\n",
       "      <td>120.5</td>\n",
       "      <td>Americas</td>\n",
       "      <td>North America</td>\n",
       "      <td>326474000.0</td>\n",
       "      <td>393347000</td>\n",
       "      <td>1.0</td>\n",
       "      <td>1073743.0</td>\n",
       "      <td>392,273,257 Est.</td>\n",
       "    </tr>\n",
       "    <tr>\n",
       "      <th>2</th>\n",
       "      <td>Falkland Islands</td>\n",
       "      <td>62.1</td>\n",
       "      <td>Americas</td>\n",
       "      <td>South America</td>\n",
       "      <td>3000.0</td>\n",
       "      <td>2000</td>\n",
       "      <td>2.0</td>\n",
       "      <td>1705.0</td>\n",
       "      <td>295</td>\n",
       "    </tr>\n",
       "    <tr>\n",
       "      <th>3</th>\n",
       "      <td>Yemen</td>\n",
       "      <td>52.8</td>\n",
       "      <td>Asia</td>\n",
       "      <td>Western Asia</td>\n",
       "      <td>28120000.0</td>\n",
       "      <td>14859000</td>\n",
       "      <td>2.0</td>\n",
       "      <td>NaN</td>\n",
       "      <td>NaN</td>\n",
       "    </tr>\n",
       "    <tr>\n",
       "      <th>4</th>\n",
       "      <td>New Caledonia</td>\n",
       "      <td>42.5</td>\n",
       "      <td>Oceania</td>\n",
       "      <td>Melanesia</td>\n",
       "      <td>270000.0</td>\n",
       "      <td>115000</td>\n",
       "      <td>2.0</td>\n",
       "      <td>55000.0</td>\n",
       "      <td>60000</td>\n",
       "    </tr>\n",
       "    <tr>\n",
       "      <th>5</th>\n",
       "      <td>Serbia</td>\n",
       "      <td>39.1</td>\n",
       "      <td>Europe</td>\n",
       "      <td>Southern Europe</td>\n",
       "      <td>6946000.0</td>\n",
       "      <td>2719000</td>\n",
       "      <td>2.0</td>\n",
       "      <td>1186086.0</td>\n",
       "      <td>1532914</td>\n",
       "    </tr>\n",
       "  </tbody>\n",
       "</table>\n",
       "</div>"
      ],
      "text/plain": [
       "  Country or subnational area  Estimate of civilian firearms per 100 persons  \\\n",
       "1               United States                                          120.5   \n",
       "2            Falkland Islands                                           62.1   \n",
       "3                       Yemen                                           52.8   \n",
       "4               New Caledonia                                           42.5   \n",
       "5                      Serbia                                           39.1   \n",
       "\n",
       "  Region[3]     Subregion[3]  Population 2017  \\\n",
       "1  Americas    North America      326474000.0   \n",
       "2  Americas    South America           3000.0   \n",
       "3      Asia     Western Asia       28120000.0   \n",
       "4   Oceania        Melanesia         270000.0   \n",
       "5    Europe  Southern Europe        6946000.0   \n",
       "\n",
       "  Estimate of firearms in civilian possession  Computation method  \\\n",
       "1                                   393347000                 1.0   \n",
       "2                                        2000                 2.0   \n",
       "3                                    14859000                 2.0   \n",
       "4                                      115000                 2.0   \n",
       "5                                     2719000                 2.0   \n",
       "\n",
       "   Registered firearms Unregistered firearms  \n",
       "1            1073743.0      392,273,257 Est.  \n",
       "2               1705.0                   295  \n",
       "3                  NaN                   NaN  \n",
       "4              55000.0                 60000  \n",
       "5            1186086.0               1532914  "
      ]
     },
     "execution_count": 41,
     "metadata": {},
     "output_type": "execute_result"
    }
   ],
   "source": [
    "converted_column = pd.to_numeric(df[\"Estimate of civilian firearms per 100 persons\"], errors = 'coerce')\n",
    "df['Estimate of civilian firearms per 100 persons'] = converted_column\n",
    "df.head()"
   ]
  },
  {
   "cell_type": "code",
   "execution_count": 43,
   "id": "d2ff3f8d",
   "metadata": {},
   "outputs": [],
   "source": [
    "from arcgis.gis import GIS\n",
    "import json\n",
    "\n",
    "gis = GIS()"
   ]
  },
  {
   "cell_type": "code",
   "execution_count": 44,
   "id": "9fe64e6d",
   "metadata": {},
   "outputs": [],
   "source": [
    "fc = gis.content.import_data(df, {\"CountryCode\":\"Country__or_dependent_territory__subnational_area__etc__\"})"
   ]
  },
  {
   "cell_type": "code",
   "execution_count": 49,
   "id": "97f38d40",
   "metadata": {},
   "outputs": [
    {
     "data": {
      "application/vnd.jupyter.widget-view+json": {
       "model_id": "ffa8d990259d48099412877b33b58bbe",
       "version_major": 2,
       "version_minor": 0
      },
      "text/plain": [
       "MapView(layout=Layout(height='400px', width='100%'))"
      ]
     },
     "metadata": {},
     "output_type": "display_data"
    },
    {
     "data": {
      "text/html": [
       "<div class=\"map-static-img-preview-02148692-1a77-49bd-a678-284ef7ec940e\"><img src=\"\"></img></div>"
      ],
      "text/plain": [
       "<IPython.core.display.HTML object>"
      ]
     },
     "metadata": {},
     "output_type": "display_data"
    },
    {
     "data": {
      "text/html": [
       "<div class=\"map-html-embed-preview-02148692-1a77-49bd-a678-284ef7ec940e\"></div>"
      ],
      "text/plain": [
       "<IPython.core.display.HTML object>"
      ]
     },
     "metadata": {},
     "output_type": "display_data"
    }
   ],
   "source": [
    "map1 = gis.map('UK')\n",
    "map1"
   ]
  },
  {
   "cell_type": "code",
   "execution_count": 50,
   "id": "8969e251",
   "metadata": {},
   "outputs": [],
   "source": [
    "map1.add_layer(fc, {\"renderer\":\"ClassedSizeRenderer\",\n",
    "                    \"field_name\": \"Estimate_of_civilian_firearms_per_100_persons\"})\n"
   ]
  }
 ],
 "metadata": {
  "kernelspec": {
   "display_name": "Python 3 (ipykernel)",
   "language": "python",
   "name": "python3"
  },
  "language_info": {
   "codemirror_mode": {
    "name": "ipython",
    "version": 3
   },
   "file_extension": ".py",
   "mimetype": "text/x-python",
   "name": "python",
   "nbconvert_exporter": "python",
   "pygments_lexer": "ipython3",
   "version": "3.9.16"
  }
 },
 "nbformat": 4,
 "nbformat_minor": 5
}
