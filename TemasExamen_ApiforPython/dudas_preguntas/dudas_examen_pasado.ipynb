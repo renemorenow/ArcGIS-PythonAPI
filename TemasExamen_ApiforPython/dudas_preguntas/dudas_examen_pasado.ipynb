{
 "cells": [
  {
   "cell_type": "markdown",
   "id": "479262fe",
   "metadata": {
    "heading_collapsed": true
   },
   "source": [
    "## Imports"
   ]
  },
  {
   "cell_type": "code",
   "execution_count": 3,
   "id": "34f8ba94",
   "metadata": {
    "hidden": true
   },
   "outputs": [],
   "source": [
    "from arcgis.gis import GIS\n",
    "from IPython.display import display\n",
    "from arcgis.geometry import Geometry\n",
    "import pandas as pd\n",
    "from arcgis.features import GeoAccessor, GeoSeriesAccessor, FeatureLayer, Feature, FeatureSet, FeatureCollection"
   ]
  },
  {
   "cell_type": "markdown",
   "id": "27d0acf7",
   "metadata": {},
   "source": [
    "## Conexion"
   ]
  },
  {
   "cell_type": "markdown",
   "id": "f6486706",
   "metadata": {},
   "source": [
    "### AGOL"
   ]
  },
  {
   "cell_type": "code",
   "execution_count": 4,
   "id": "41bfdb53",
   "metadata": {},
   "outputs": [
    {
     "name": "stdout",
     "output_type": "stream",
     "text": [
      "Enter password: ········\n"
     ]
    }
   ],
   "source": [
    "gis = GIS(url=\"http://www.arcgis.com\", username=\"renemorenow\")\n",
    "#gis = GIS(url=\"http://www.arcgis.com\", username=\"williamrenem\")\n",
    "#gis = GIS(url=\"http://www.arcgis.com\", username=\"wmoreno_project_esri_co\")\n",
    "#gis = GIS(url='https://pythonapi.playground.esri.com/portal', username='arcgis_python', password='amazing_arcgis_123')"
   ]
  },
  {
   "cell_type": "code",
   "execution_count": null,
   "id": "52e79769",
   "metadata": {},
   "outputs": [],
   "source": [
    "gis = GIS(url='https://pythonapi.playground.esri.com/portal', username='arcgis_python', password='amazing_arcgis_123')"
   ]
  },
  {
   "cell_type": "markdown",
   "id": "8f61b606",
   "metadata": {
    "heading_collapsed": true
   },
   "source": [
    "### SGC"
   ]
  },
  {
   "cell_type": "code",
   "execution_count": 113,
   "id": "504b6adc",
   "metadata": {
    "hidden": true
   },
   "outputs": [],
   "source": [
    "gis = GIS(profile=\"sgc20_pruebas\")\n",
    "from sgc import sgccat20lib\n",
    "sgccat20lib.gisConnection = gis"
   ]
  },
  {
   "cell_type": "markdown",
   "id": "e6f8fff7",
   "metadata": {
    "heading_collapsed": true
   },
   "source": [
    "### ver conexion"
   ]
  },
  {
   "cell_type": "code",
   "execution_count": null,
   "id": "b7f8a666",
   "metadata": {
    "hidden": true
   },
   "outputs": [],
   "source": [
    "print(gis.url, \" ==> \", gis.users.me.username)"
   ]
  },
  {
   "cell_type": "markdown",
   "id": "aff11011",
   "metadata": {
    "heading_collapsed": true
   },
   "source": [
    "## ObtenerParametros SGC:"
   ]
  },
  {
   "cell_type": "code",
   "execution_count": 96,
   "id": "b5fa62ba",
   "metadata": {
    "hidden": true
   },
   "outputs": [
    {
     "data": {
      "text/html": [
       "<div class=\"item_container\" style=\"height: auto; overflow: hidden; border: 1px solid #cfcfcf; border-radius: 2px; background: #f6fafa; line-height: 1.21429em; padding: 10px;\">\n",
       "                    <div class=\"item_left\" style=\"width: 210px; float: left;\">\n",
       "                       <a href='https://arcgis.girardot-cundinamarca.gov.co/portal/home/item.html?id=c1fed8db45324f57ade77898e086aac0' target='_blank'>\n",
       "                        <img src='data:image/png;base64,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' width='200' height='133' class=\"itemThumbnail\">\n",
       "                       </a>\n",
       "                    </div>\n",
       "\n",
       "                    <div class=\"item_right\"     style=\"float: none; width: auto; overflow: hidden;\">\n",
       "                        <a href='https://arcgis.girardot-cundinamarca.gov.co/portal/home/item.html?id=c1fed8db45324f57ade77898e086aac0' target='_blank'><b>FS_Conservacion_Consulta_25307</b>\n",
       "                        </a>\n",
       "                        <br/>Feature service de consulta(EGDB)<img src='https://arcgis.girardot-cundinamarca.gov.co/portal/home/js/jsapi/esri/css/images/item_type_icons/featureshosted16.png' style=\"vertical-align:middle;\">Feature Layer Collection by adminsgcv2\n",
       "                        <br/>Last Modified: September 22, 2023\n",
       "                        <br/>0 comments, 16 views\n",
       "                    </div>\n",
       "                </div>\n",
       "                "
      ],
      "text/plain": [
       "<Item title:\"FS_Conservacion_Consulta_25307\" type:Feature Layer Collection owner:adminsgcv2>"
      ]
     },
     "execution_count": 96,
     "metadata": {},
     "output_type": "execute_result"
    }
   ],
   "source": [
    "id_municipio = \"41298\"\n",
    "dictparams = sgccat20lib.ObtenerParametros(id_municipio=id_municipio)\n",
    "parcel_service = dictparams[\"PARCEL_SERVICE_CONSULTA\"]\n",
    "gisContentParcelService = gis.content.get(parcel_service)#FS_Conservacion_Xxxxxx\n",
    "urlParcelService = gisContentParcelService.url\n",
    "gisContentParcelService"
   ]
  },
  {
   "cell_type": "markdown",
   "id": "357348ed",
   "metadata": {
    "heading_collapsed": true
   },
   "source": [
    "## Datos generales SGC"
   ]
  },
  {
   "cell_type": "code",
   "execution_count": 6,
   "id": "cdef2d9b",
   "metadata": {
    "hidden": true
   },
   "outputs": [
    {
     "name": "stdout",
     "output_type": "stream",
     "text": [
      "Layer: Direccion ,  (CC) Manzana\n",
      "features fcol_manzana: 397\n",
      "features fcol_terreno: 17\n",
      "features fcol_direccion: 17\n"
     ]
    }
   ],
   "source": [
    "lyr_direccion_name = \"Direccion\"\n",
    "lyr_manzana = next(iter(filter(lambda x: x.properties.name.upper()==\"(CC) Manzana\".upper(), gisContentParcelService.layers)), None)\n",
    "lyr_terreno = next(iter(filter(lambda x: x.properties.name.upper()==\"Terreno\".upper(), gisContentParcelService.layers)), None)\n",
    "lyr_direccion = next(iter(filter(lambda x: x.properties.name.upper()==lyr_direccion_name.upper(), gisContentParcelService.layers)), None)\n",
    "print(\"Layer:\",lyr_direccion.properties.name, \", \", lyr_manzana.properties.name)\n",
    "fcol_manzana = FeatureCollection.from_featureset(lyr_manzana.query(where=f\"codigo like '412980102%'\"))\n",
    "value = fcol_manzana.query().features[0].attributes[\"codigo\"]\n",
    "print(\"features fcol_manzana: %s\" %(len(fcol_manzana.query().features)))\n",
    "rel_terreno_name = \"LC_Terreno\"\n",
    "rel_direccion_name = \"ExtDireccion\"\n",
    "where = f\"numero_predial like '{value}%' AND estado_predio='Activo'\"\n",
    "predioCapa = sgccat20lib.get_features_layertable_where(\n",
    "    gis,\n",
    "    \"{0}/{1}\".format(urlParcelService, \"103\"),\n",
    "    where,\n",
    "    \"numero_predial,globalid,objectid,condicion_predio\",\n",
    "    None,\n",
    "    [rel_terreno_name,rel_direccion_name],\n",
    "    [\"objectid\",\"objectid\"])\n",
    "rel_terreno = next(iter(filter(lambda x: x[\"name\"].upper()==rel_terreno_name.upper(), predioCapa[\"Relationships\"])), None)\n",
    "rel_direccion = next(iter(filter(lambda x: x[\"name\"].upper()==rel_direccion_name.upper(), predioCapa[\"Relationships\"])), None)\n",
    "objectids_terreno = \",\".join(map(str, rel_terreno[\"objectids\"])) if rel_terreno else \"\"\n",
    "objectids_direccion = \",\".join(map(str, rel_direccion[\"objectids\"])) if rel_direccion else \"1\"\n",
    "fcol_terreno = FeatureCollection.from_featureset(lyr_terreno.query(where=f\"objectid in ({objectids_terreno})\"))\n",
    "fcol_direccion = FeatureCollection.from_featureset(lyr_direccion.query(where=f\"objectid in ({objectids_direccion})\"))\n",
    "print(\"features fcol_terreno: %s\" %(len(fcol_terreno.query().features)))\n",
    "print(\"features fcol_direccion: %s\" %(len(fcol_direccion.query().features)))"
   ]
  },
  {
   "cell_type": "markdown",
   "id": "8910249e",
   "metadata": {
    "heading_collapsed": true
   },
   "source": [
    "## Pregunta relacionado con:\n",
    "arcgis.features.GeoSeriesAccessor.part_count"
   ]
  },
  {
   "cell_type": "code",
   "execution_count": 22,
   "id": "c114dbfe",
   "metadata": {
    "hidden": true
   },
   "outputs": [
    {
     "data": {
      "text/plain": [
       "2"
      ]
     },
     "execution_count": 22,
     "metadata": {},
     "output_type": "execute_result"
    }
   ],
   "source": [
    "dict_polygon = {\n",
    "    \"rings\": [\n",
    "        [\n",
    "            [-97.06138,32.837],\n",
    "            [-97.06133,32.836],\n",
    "            [-97.06124,32.834],\n",
    "            [-97.06127,32.832],\n",
    "            [-97.06138,32.837]\n",
    "        ],\n",
    "        [\n",
    "            [-97.06326,32.759],\n",
    "            [-97.06298,32.755],\n",
    "            [-97.06153,32.749],\n",
    "            [-97.06326,32.759]\n",
    "        ]\n",
    "    ],\n",
    "    \"spatialReference\": {\n",
    "        \"wkid\": 4326\n",
    "    }\n",
    "}\n",
    "geom = Geometry(dict_polygon)\n",
    "geom.part_count"
   ]
  },
  {
   "cell_type": "code",
   "execution_count": 20,
   "id": "648dbdba",
   "metadata": {
    "hidden": true
   },
   "outputs": [
    {
     "data": {
      "text/plain": [
       "True"
      ]
     },
     "execution_count": 20,
     "metadata": {},
     "output_type": "execute_result"
    }
   ],
   "source": [
    "geom.is_valid()"
   ]
  },
  {
   "cell_type": "code",
   "execution_count": 120,
   "id": "760b02ba",
   "metadata": {
    "hidden": true
   },
   "outputs": [
    {
     "data": {
      "text/plain": [
       "<FeatureSet> 1 features"
      ]
     },
     "execution_count": 120,
     "metadata": {},
     "output_type": "execute_result"
    }
   ],
   "source": [
    "fs = FeatureSet([gsa])\n",
    "fs"
   ]
  },
  {
   "cell_type": "code",
   "execution_count": 121,
   "id": "91a1d2ec",
   "metadata": {
    "hidden": true
   },
   "outputs": [
    {
     "ename": "AttributeError",
     "evalue": "type object 'GeoAccessor' has no attribute 'from_dict'",
     "output_type": "error",
     "traceback": [
      "\u001b[1;31m---------------------------------------------------------------------------\u001b[0m",
      "\u001b[1;31mAttributeError\u001b[0m                            Traceback (most recent call last)",
      "\u001b[1;32m~\\AppData\\Local\\Temp\\ipykernel_23524\\829298994.py\u001b[0m in \u001b[0;36m<cell line: 1>\u001b[1;34m()\u001b[0m\n\u001b[1;32m----> 1\u001b[1;33m \u001b[0msedf\u001b[0m \u001b[1;33m=\u001b[0m \u001b[0mpd\u001b[0m\u001b[1;33m.\u001b[0m\u001b[0mDataFrame\u001b[0m\u001b[1;33m.\u001b[0m\u001b[0mspatial\u001b[0m\u001b[1;33m.\u001b[0m\u001b[0mfrom_dict\u001b[0m\u001b[1;33m(\u001b[0m\u001b[0mdict\u001b[0m\u001b[1;33m(\u001b[0m\u001b[0mfs\u001b[0m\u001b[1;33m)\u001b[0m\u001b[1;33m)\u001b[0m\u001b[1;33m\u001b[0m\u001b[1;33m\u001b[0m\u001b[0m\n\u001b[0m\u001b[0;32m      2\u001b[0m \u001b[0msedf\u001b[0m\u001b[1;33m\u001b[0m\u001b[1;33m\u001b[0m\u001b[0m\n",
      "\u001b[1;31mAttributeError\u001b[0m: type object 'GeoAccessor' has no attribute 'from_dict'"
     ]
    }
   ],
   "source": [
    "sedf = pd.DataFrame.spatial.from_dict(dict(fs))\n",
    "sedf"
   ]
  },
  {
   "cell_type": "code",
   "execution_count": 26,
   "id": "f18f2751",
   "metadata": {
    "hidden": true
   },
   "outputs": [
    {
     "name": "stdout",
     "output_type": "stream",
     "text": [
      "type: <class 'arcgis.geometry._types.Polygon'>\n",
      "part_count: 2\n"
     ]
    }
   ],
   "source": [
    "geometry_dict = {\n",
    "  \"rings\" : [\n",
    "      [\n",
    "          [-97.06138,32.837],\n",
    "          [-97.06133,32.836],\n",
    "          [-97.06124,32.834],\n",
    "          [-97.06127,32.832],\n",
    "          [-97.06138,32.837]],\n",
    "      [\n",
    "          [-97.06326,32.759],\n",
    "          [-97.06298,32.755],\n",
    "          [-97.06153,32.749],\n",
    "          [-97.06326,32.759]\n",
    "      ]\n",
    "  ],\n",
    "  \"spatialReference\" : {\"wkid\" : 4326}\n",
    "}\n",
    "geom = Geometry(geometry_dict)\n",
    "print(\"type:\",type(geom))\n",
    "print(\"part_count:\",geom.part_count)"
   ]
  },
  {
   "cell_type": "code",
   "execution_count": 49,
   "id": "76317cd4",
   "metadata": {
    "hidden": true
   },
   "outputs": [],
   "source": [
    "sedf = pd.DataFrame.spatial.from_layer(lyr_terreno)"
   ]
  },
  {
   "cell_type": "code",
   "execution_count": 48,
   "id": "06f592f2",
   "metadata": {
    "hidden": true
   },
   "outputs": [
    {
     "name": "stdout",
     "output_type": "stream",
     "text": [
      "SHAPE; {\"rings\":[[[4707458.1886999998,1801090.4791000001],[4707466.1354,1801085.0493999999],[4707466.8953,1801086.3790000007],[4707474.1988000004,1801081.2852999996],[4707472.3556000004,1801078.9177999999],[4707470.5121999998,1801076.5504999999],[4707468.5037000002,1801077.9102999996],[4707468.4418000001,1801077.9522999991],[4707468.3700000001,1801077.6766999997],[4707461.3940000003,1801065.4905999992],[4707461.2548000002,1801065.5846999995],[4707456.3354000002,1801068.9155999999],[4707463.5522999996,1801081.1469999999],[4707458.7297,1801084.7526999991],[4707453.5181,1801088.3874999993],[4707442.5407999996,1801096.0434000008],[4707445.7555,1801100.7600999996],[4707452.8449999997,1801095.7481999993],[4707458.8471999997,1801091.5035999995],[4707458.1886999998,1801090.4791000001]],[[4707472.9020999996,1801097.0835999995],[4707472.0108000003,1801095.5241],[4707464.6775000002,1801100.5752000008],[4707459.9605999999,1801103.8241000008],[4707461.3591,1801104.8114],[4707470.4271,1801098.7405999992],[4707472.9020999996,1801097.0835999995]]],\"spatialReference\":{\"wkid\":9377,\"latestWkid\":9377}}\n",
      "part_count: 2\n",
      "objectid: 22625\n"
     ]
    },
    {
     "data": {
      "image/svg+xml": [
       "<svg xmlns=\"http://www.w3.org/2000/svg\" xmlns:xlink=\"http://www.w3.org/1999/xlink\" width=\"100.0\" height=\"100.0\" viewBox=\"4707440.967967999 1801063.9177679992 34.80366400163621 42.46646400075406\" preserveAspectRatio=\"xMinYMin meet\"><g transform=\"matrix(1,0,0,-1,0,3602170.301999999)\"><path fill-rule=\"evenodd\" fill=\"#66cc99\" stroke=\"#555555\" stroke-width=\"0.8493292800150811\" opacity=\"0.6\" d=\"M 4707458.188700001,1801090.4791 L 4707466.135400001,1801085.0494000001 L 4707466.895300001,1801086.3790000011 L 4707474.1988,1801081.2853 L 4707472.3556,1801078.9178000002 L 4707470.512200001,1801076.5505000001 L 4707468.5037,1801077.9103 L 4707468.4418,1801077.9522999993 L 4707468.37,1801077.6767000002 L 4707461.394,1801065.4905999992 L 4707461.2548,1801065.5846999993 L 4707456.3354,1801068.9156000002 L 4707463.552300001,1801081.147 L 4707458.729700001,1801084.7526999991 L 4707453.518100001,1801088.3874999993 L 4707442.540800001,1801096.0434000012 L 4707445.755500001,1801100.7601000003 L 4707452.845000001,1801095.748199999 L 4707458.847200001,1801091.5035999992 L 4707458.188700001,1801090.4791 z\" /><path fill-rule=\"evenodd\" fill=\"#66cc99\" stroke=\"#555555\" stroke-width=\"0.8493292800150811\" opacity=\"0.6\" d=\"M 4707472.9021000005,1801097.0835999993 L 4707472.0108,1801095.5241000003 L 4707464.6775,1801100.5752000012 L 4707459.960600001,1801103.8241000012 L 4707461.359100001,1801104.8114000002 L 4707470.427100001,1801098.7405999992 L 4707472.9021000005,1801097.0835999993 z\" /></g></svg>"
      ],
      "text/plain": [
       "{'rings': [[[4707458.188700001, 1801090.4791],\n",
       "   [4707466.135400001, 1801085.0494000001],\n",
       "   [4707466.895300001, 1801086.3790000011],\n",
       "   [4707474.1988, 1801081.2853],\n",
       "   [4707472.3556, 1801078.9178000002],\n",
       "   [4707470.512200001, 1801076.5505000001],\n",
       "   [4707468.5037, 1801077.9103],\n",
       "   [4707468.4418, 1801077.9522999993],\n",
       "   [4707468.37, 1801077.6767000002],\n",
       "   [4707461.394, 1801065.4905999992],\n",
       "   [4707461.2548, 1801065.5846999993],\n",
       "   [4707456.3354, 1801068.9156000002],\n",
       "   [4707463.552300001, 1801081.147],\n",
       "   [4707458.729700001, 1801084.7526999991],\n",
       "   [4707453.518100001, 1801088.3874999993],\n",
       "   [4707442.540800001, 1801096.0434000012],\n",
       "   [4707445.755500001, 1801100.7601000003],\n",
       "   [4707452.845000001, 1801095.748199999],\n",
       "   [4707458.847200001, 1801091.5035999992],\n",
       "   [4707458.188700001, 1801090.4791]],\n",
       "  [[4707472.9021000005, 1801097.0835999993],\n",
       "   [4707472.0108, 1801095.5241000003],\n",
       "   [4707464.6775, 1801100.5752000012],\n",
       "   [4707459.960600001, 1801103.8241000012],\n",
       "   [4707461.359100001, 1801104.8114000002],\n",
       "   [4707470.427100001, 1801098.7405999992],\n",
       "   [4707472.9021000005, 1801097.0835999993]]],\n",
       " 'spatialReference': {'wkid': 9377, 'latestWkid': 9377}}"
      ]
     },
     "execution_count": 48,
     "metadata": {},
     "output_type": "execute_result"
    }
   ],
   "source": [
    "for i in range(5000):\n",
    "    #print(type(sedf.iloc[i].SHAPE))\n",
    "    #geomx = Geometry(sedf.iloc[i].SHAPE.JSON)\n",
    "    #if geomx.part_count > 1:\n",
    "    if sedf.iloc[i].SHAPE.part_count > 1:\n",
    "        #print(type(geomx))\n",
    "        #print(geomx.part_count)\n",
    "        print(\"SHAPE;\",sedf.iloc[i].SHAPE.JSON)\n",
    "        print(\"part_count:\",sedf.iloc[i].SHAPE.part_count)\n",
    "        print(\"objectid:\",sedf.iloc[i].objectid)\n",
    "        break\n",
    "sedf.iloc[i].SHAPE"
   ]
  },
  {
   "cell_type": "code",
   "execution_count": 42,
   "id": "09a604fe",
   "metadata": {
    "hidden": true
   },
   "outputs": [
    {
     "name": "stdout",
     "output_type": "stream",
     "text": [
      "type: <class 'arcgis.geometry._types.Polygon'>\n",
      "part_count: 2\n"
     ]
    }
   ],
   "source": [
    "geometry_dict = {\n",
    "    \"rings\": [\n",
    "        [\n",
    "            [4707458.1886999998,1801090.4791000001],[4707466.1354,1801085.0493999999],[4707466.8953,1801086.3790000007],\n",
    "            [4707474.1988000004,1801081.2852999996],[4707472.3556000004,1801078.9177999999],\n",
    "            [4707470.5121999998,1801076.5504999999],[4707468.5037000002,1801077.9102999996],\n",
    "            [4707468.4418000001,1801077.9522999991],[4707468.3700000001,1801077.6766999997],\n",
    "            [4707461.3940000003,1801065.4905999992],[4707461.2548000002,1801065.5846999995],\n",
    "            [4707456.3354000002,1801068.9155999999],[4707463.5522999996,1801081.1469999999],\n",
    "            [4707458.7297,1801084.7526999991],[4707453.5181,1801088.3874999993],[4707442.5407999996,1801096.0434000008],\n",
    "            [4707445.7555,1801100.7600999996],[4707452.8449999997,1801095.7481999993],[4707458.8471999997,1801091.5035999995],\n",
    "            [4707458.1886999998,1801090.4791000001]\n",
    "        ],\n",
    "        [\n",
    "            [4707472.9020999996,1801097.0835999995],[4707472.0108000003,1801095.5241],[4707464.6775000002,1801100.5752000008],\n",
    "            [4707459.9605999999,1801103.8241000008],[4707461.3591,1801104.8114],[4707470.4271,1801098.7405999992],\n",
    "            [4707472.9020999996,1801097.0835999995]\n",
    "        ]\n",
    "    ]\n",
    "    ,\"spatialReference\":{\"wkid\":9377,\"latestWkid\":9377}\n",
    "}\n",
    "geom = Geometry(geometry_dict)\n",
    "print(\"type:\",type(geom))\n",
    "print(\"part_count:\",geom.part_count)"
   ]
  },
  {
   "cell_type": "markdown",
   "id": "1893db4d",
   "metadata": {
    "hidden": true
   },
   "source": [
    "### asi trabaja part_count"
   ]
  },
  {
   "cell_type": "code",
   "execution_count": 55,
   "id": "0e9749d1",
   "metadata": {
    "hidden": true
   },
   "outputs": [
    {
     "name": "stdout",
     "output_type": "stream",
     "text": [
      "part_count: 3\n"
     ]
    }
   ],
   "source": [
    "gm = {\"rings\": [[[]],[[]],[]]}\n",
    "print(\"part_count:\",len(gm[\"rings\"]))"
   ]
  },
  {
   "cell_type": "markdown",
   "id": "8fd506fc",
   "metadata": {},
   "source": [
    "## analizar un geocode masivo que metodo se usa?"
   ]
  },
  {
   "cell_type": "markdown",
   "id": "b4d63148",
   "metadata": {
    "heading_collapsed": true
   },
   "source": [
    "### batch_geocode:"
   ]
  },
  {
   "cell_type": "code",
   "execution_count": 7,
   "id": "cd647878",
   "metadata": {
    "hidden": true
   },
   "outputs": [],
   "source": [
    "from arcgis.geocoding import batch_geocode"
   ]
  },
  {
   "cell_type": "code",
   "execution_count": 27,
   "id": "0e6d8986",
   "metadata": {
    "hidden": true
   },
   "outputs": [
    {
     "data": {
      "text/plain": [
       "<Geocoder url:\"https://pythonapi.playground.esri.com/portal/sharing/servers/edf162cfa4b84cb9bb8e0fa33afb767a/rest/services/World/GeocodeServer\">"
      ]
     },
     "execution_count": 27,
     "metadata": {},
     "output_type": "execute_result"
    }
   ],
   "source": [
    "gis = GIS(url='https://pythonapi.playground.esri.com/portal', username='arcgis_python', password='amazing_arcgis_123')\n",
    "from arcgis.geocoding import get_geocoders\n",
    "geocoder = get_geocoders(gis)\n",
    "geocoder = geocoder[0]\n",
    "gis = GIS(profile=\"sgc20_desarrollo\")\n",
    "geocoder"
   ]
  },
  {
   "cell_type": "code",
   "execution_count": 83,
   "id": "9673a422",
   "metadata": {
    "hidden": true
   },
   "outputs": [
    {
     "data": {
      "text/plain": [
       "\"'C 7 16 33, Garzon, CO', 'C 7 16 29, Garzon, CO', 'C 7 16 21, Garzon, CO', 'C 7 16 05 13 K 16 6 41, Garzon, CO', 'K 16 6 27, Garzon, CO', 'K 17 6 10, Garzon, CO', 'K 17 6 20, Garzon, CO', 'K 17 6 30, Garzon, CO', 'K 16 6 05, Garzon, CO', 'K 16 6 17, Garzon, CO', 'K 17 6 18, Garzon, CO', 'K 16 6 11, Garzon, CO', 'C 6 16 22, Garzon, CO', 'C 6 16 28, Garzon, CO', 'K 17 6 04, Garzon, CO', 'C 6 16 18, Garzon, CO', 'C 6 16 16'\""
      ]
     },
     "execution_count": 83,
     "metadata": {},
     "output_type": "execute_result"
    }
   ],
   "source": [
    "direcciones = [f.attributes[\"nombre_predio\"] for f in fcol_direccion.query().features]\n",
    "values_direcciones = \"'\" + \", Garzon, CO', '\".join(direcciones) + \"'\"\n",
    "values_direcciones"
   ]
  },
  {
   "cell_type": "code",
   "execution_count": 87,
   "id": "2c8ece52",
   "metadata": {
    "hidden": true
   },
   "outputs": [
    {
     "name": "stdout",
     "output_type": "stream",
     "text": [
      "name 'batch_geocode_error' is not defined\n"
     ]
    },
    {
     "data": {
      "application/vnd.jupyter.widget-view+json": {
       "model_id": "a2a2f096fc264033ac23653e3bb67445",
       "version_major": 2,
       "version_minor": 0
      },
      "text/plain": [
       "MapView(layout=Layout(height='400px', width='100%'))"
      ]
     },
     "metadata": {},
     "output_type": "display_data"
    },
    {
     "data": {
      "text/html": [
       "<div class=\"map-static-img-preview-3cb14ce2-4e1e-4f6d-804f-a8b7e6d3a444\"><img src=\"\"></img></div>"
      ],
      "text/plain": [
       "<IPython.core.display.HTML object>"
      ]
     },
     "metadata": {},
     "output_type": "display_data"
    },
    {
     "data": {
      "text/html": [
       "<div class=\"map-html-embed-preview-3cb14ce2-4e1e-4f6d-804f-a8b7e6d3a444\"></div>"
      ],
      "text/plain": [
       "<IPython.core.display.HTML object>"
      ]
     },
     "metadata": {},
     "output_type": "display_data"
    }
   ],
   "source": [
    "try:\n",
    "    v_batch_geocode = batch_geocode(addresses=values_direcciones, as_featureset=False, geocoder=geocoder)\n",
    "except Exception as ex:\n",
    "    print(str(ex))\n",
    "    addresses = [\"380 New York St, Redlands, CA\",\n",
    "                 \"1 World Way, Los Angeles, CA\",\n",
    "                 \"1200 Getty Center Drive, Los Angeles, CA\",\n",
    "                 \"5905 Wilshire Boulevard, Los Angeles, CA\",\n",
    "                 \"100 Universal City Plaza, Universal City, CA 91608\",\n",
    "                 \"4800 Oak Grove Dr, Pasadena, CA 91109\"]\n",
    "    v_batch_geocode = batch_geocode(addresses=addresses,\n",
    "                                    match_out_of_range=True,\n",
    "                                    geocoder=geocoder)\n",
    "#fcol_bg = FeatureCollection.from_featureset(v_batch_geocode)\n",
    "bg_map = gis.map(\"Colombia\")\n",
    "#bg_map.add_layer(fcol_bg)\n",
    "#bg_map.zoom_to_layer(v_batch_geocode)\n",
    "bg_map"
   ]
  },
  {
   "cell_type": "code",
   "execution_count": 89,
   "id": "3ccc8e2b",
   "metadata": {
    "hidden": true
   },
   "outputs": [
    {
     "name": "stdout",
     "output_type": "stream",
     "text": [
      "100\n",
      "100\n",
      "99.41\n",
      "100\n",
      "100\n",
      "100\n"
     ]
    }
   ],
   "source": [
    "for address in v_batch_geocode:\n",
    "    bg_map.draw(address['location'])\n",
    "    print(address['score'])\n",
    "bg_map = address['location']"
   ]
  },
  {
   "cell_type": "markdown",
   "id": "77573ea1",
   "metadata": {},
   "source": [
    "## Que metodo se usa para evitar borrado accidental?\n",
    "item.protect()"
   ]
  },
  {
   "cell_type": "markdown",
   "id": "bb73b838",
   "metadata": {},
   "source": [
    "## Que metodo se debe usar para crear una relacion entre 2 items?\n",
    "item.add_relationship(rel_item, rel_type=[‘Map2Service’, ‘WMA2Code’, ‘Map2FeatureCollection’, ‘MobileApp2Code’, ‘Service2Data’, ‘Service2Service’])"
   ]
  },
  {
   "cell_type": "markdown",
   "id": "e3b81431",
   "metadata": {
    "heading_collapsed": true
   },
   "source": [
    "## Que metodo se usa para agregar esa tabla a un feature service?\n",
    "https://developers.arcgis.com/python/api-reference/arcgis.features.managers.html#featurelayercollectionmanager\n",
    "debe ser:\n",
    "add_to_definition\n",
    "insert_layer\n",
    "update_definition"
   ]
  },
  {
   "cell_type": "markdown",
   "id": "56a1ee4c",
   "metadata": {
    "heading_collapsed": true
   },
   "source": [
    "## Una web app que usa un webmap el cual tiene 2 capas hosteadas. Al clonar la webapp en el destino que copia?\n",
    "<p>\n",
    "a) solo webapp?\n",
    "b) webapp y webmap? \n",
    "<b>c) webapp, webmap y capas hosteadas?</b>\n",
    "</p>"
   ]
  },
  {
   "cell_type": "markdown",
   "id": "319491c7",
   "metadata": {
    "heading_collapsed": true
   },
   "source": [
    "## analyze_geocode_input"
   ]
  },
  {
   "cell_type": "code",
   "execution_count": 105,
   "id": "543b74cd",
   "metadata": {
    "hidden": true
   },
   "outputs": [
    {
     "data": {
      "text/plain": [
       "{'header_row_exists': True,\n",
       " 'column_delimiter': '',\n",
       " 'text_qualifier': '',\n",
       " 'field_info': '[[\"name\", \"TEXT\", 255], [\"country\", \"TEXT\", 255]]',\n",
       " 'field_mapping': '[[\"name\", \"\"], [\"country\", \"CountryCode\"]]',\n",
       " 'column_names': 'name,country',\n",
       " 'file_type': 'table',\n",
       " 'singleline_field': 'SingleLine'}"
      ]
     },
     "execution_count": 105,
     "metadata": {},
     "output_type": "execute_result"
    }
   ],
   "source": [
    "from arcgis.geocoding import analyze_geocode_input\n",
    "input_table_or_item =  {\"url\":\"https://services6.arcgis.com/HABCedQLArM18Amo/ArcGIS/rest/services/countries_work/FeatureServer/0\"}\n",
    "v_analyze_geocode_input = analyze_geocode_input(input_table_or_item, column_names=\"name,country\", geocode_service_url=geocoder, gis=gis)\n",
    "v_analyze_geocode_input"
   ]
  },
  {
   "cell_type": "markdown",
   "id": "1b702140",
   "metadata": {
    "heading_collapsed": true
   },
   "source": [
    "## calculate_density"
   ]
  },
  {
   "cell_type": "code",
   "execution_count": 115,
   "id": "d1b252dd",
   "metadata": {
    "hidden": true
   },
   "outputs": [
    {
     "name": "stdout",
     "output_type": "stream",
     "text": [
      "https://services.arcgis.com/P3ePLMYs2RVChkJx/arcgis/rest/services/USA_Major_Cities/FeatureServer/0\n"
     ]
    },
    {
     "name": "stderr",
     "output_type": "stream",
     "text": [
      "{\"messageCode\": \"AO_100303\", \"message\": \"Spatial Analyst license is required for running this tool.\"}\n",
      "{\"messageCode\": \"AO_100105\", \"message\": \"CalculateDensity failed.\"}\n",
      "Failed to execute (CalculateDensity).\n",
      "Failed.\n"
     ]
    },
    {
     "name": "stdout",
     "output_type": "stream",
     "text": [
      "Job failed.\n"
     ]
    }
   ],
   "source": [
    "from arcgis.features.analysis import calculate_density\n",
    "try:\n",
    "    sample_cities = gis.content.search('title:\"USA Major Cities\" type:Feature Service', outside_org=True)[0]\n",
    "    print(sample_cities.layers[0].url)\n",
    "    sample_cities\n",
    "    filter_where_end = \"ST='FL' AND POPULATION>100000 AND NAME <> 'Miami'\"\n",
    "    stops_layer = {'url': sample_cities.layers[0].url, 'filter': filter_where_end}\n",
    "    v_calculate_density = calculate_density(stops_layer, field=\"POPULATION\", cell_size_units='Kilometers')\n",
    "    v_calculate_density\n",
    "except Exception as ex:\n",
    "    print(str(ex))"
   ]
  },
  {
   "cell_type": "markdown",
   "id": "29411944",
   "metadata": {},
   "source": [
    "## connect_origins_to_destinations\n",
    "que parametro usar: si time_of_day o time_zone_for_time_of_day"
   ]
  },
  {
   "cell_type": "code",
   "execution_count": null,
   "id": "b3745352",
   "metadata": {},
   "outputs": [],
   "source": []
  },
  {
   "cell_type": "markdown",
   "id": "ceebe2ff",
   "metadata": {},
   "source": [
    "## pandas: Como obtener de un dataframe los registros del 7 al 11?\n",
    "sedf.loc[rowInicio:rowFin]"
   ]
  },
  {
   "cell_type": "code",
   "execution_count": 116,
   "id": "0966a2ee",
   "metadata": {},
   "outputs": [],
   "source": [
    "import pandas as pd"
   ]
  },
  {
   "cell_type": "code",
   "execution_count": 15,
   "id": "00a4b77e",
   "metadata": {},
   "outputs": [
    {
     "name": "stdout",
     "output_type": "stream",
     "text": [
      "countries_work https://services6.arcgis.com/HABCedQLArM18Amo/arcgis/rest/services/countries_work/FeatureServer/0\n",
      "<class 'arcgis.features.feature.FeatureSet'>\n"
     ]
    },
    {
     "data": {
      "text/html": [
       "<div>\n",
       "<style scoped>\n",
       "    .dataframe tbody tr th:only-of-type {\n",
       "        vertical-align: middle;\n",
       "    }\n",
       "\n",
       "    .dataframe tbody tr th {\n",
       "        vertical-align: top;\n",
       "    }\n",
       "\n",
       "    .dataframe thead th {\n",
       "        text-align: right;\n",
       "    }\n",
       "</style>\n",
       "<table border=\"1\" class=\"dataframe\">\n",
       "  <thead>\n",
       "    <tr style=\"text-align: right;\">\n",
       "      <th></th>\n",
       "      <th>country</th>\n",
       "      <th>latitude</th>\n",
       "      <th>longitude</th>\n",
       "      <th>name</th>\n",
       "      <th>ObjectId</th>\n",
       "      <th>SHAPE</th>\n",
       "    </tr>\n",
       "  </thead>\n",
       "  <tbody>\n",
       "    <tr>\n",
       "      <th>0</th>\n",
       "      <td>LA</td>\n",
       "      <td>19.85627</td>\n",
       "      <td>102.495496</td>\n",
       "      <td>Laos</td>\n",
       "      <td>1</td>\n",
       "      <td>{\"x\": 11409746.423324008, \"y\": 2256011.8859192...</td>\n",
       "    </tr>\n",
       "    <tr>\n",
       "      <th>1</th>\n",
       "      <td>LB</td>\n",
       "      <td>33.854721</td>\n",
       "      <td>35.862285</td>\n",
       "      <td>Lebanon</td>\n",
       "      <td>2</td>\n",
       "      <td>{\"x\": 3992171.3048832524, \"y\": 4009311.2476556...</td>\n",
       "    </tr>\n",
       "    <tr>\n",
       "      <th>2</th>\n",
       "      <td>LC</td>\n",
       "      <td>13.909444</td>\n",
       "      <td>-60.978893</td>\n",
       "      <td>Saint Lucia</td>\n",
       "      <td>3</td>\n",
       "      <td>{\"x\": -6788139.3178975135, \"y\": 1563829.337286...</td>\n",
       "    </tr>\n",
       "    <tr>\n",
       "      <th>3</th>\n",
       "      <td>LI</td>\n",
       "      <td>47.166</td>\n",
       "      <td>9.555373</td>\n",
       "      <td>Liechtenstein</td>\n",
       "      <td>4</td>\n",
       "      <td>{\"x\": 1063699.2566997947, \"y\": 5969211.7145678...</td>\n",
       "    </tr>\n",
       "    <tr>\n",
       "      <th>4</th>\n",
       "      <td>LK</td>\n",
       "      <td>7.873054</td>\n",
       "      <td>80.771797</td>\n",
       "      <td>Sri Lanka</td>\n",
       "      <td>5</td>\n",
       "      <td>{\"x\": 8991475.312497662, \"y\": 879195.517638681...</td>\n",
       "    </tr>\n",
       "    <tr>\n",
       "      <th>...</th>\n",
       "      <td>...</td>\n",
       "      <td>...</td>\n",
       "      <td>...</td>\n",
       "      <td>...</td>\n",
       "      <td>...</td>\n",
       "      <td>...</td>\n",
       "    </tr>\n",
       "    <tr>\n",
       "      <th>240</th>\n",
       "      <td>KP</td>\n",
       "      <td>40.339852</td>\n",
       "      <td>127.510093</td>\n",
       "      <td>North Korea</td>\n",
       "      <td>241</td>\n",
       "      <td>{\"x\": 14194358.623762956, \"y\": 4915452.2483670...</td>\n",
       "    </tr>\n",
       "    <tr>\n",
       "      <th>241</th>\n",
       "      <td>KR</td>\n",
       "      <td>35.907757</td>\n",
       "      <td>127.766922</td>\n",
       "      <td>South Korea</td>\n",
       "      <td>242</td>\n",
       "      <td>{\"x\": 14222948.697263904, \"y\": 4287936.2893990...</td>\n",
       "    </tr>\n",
       "    <tr>\n",
       "      <th>242</th>\n",
       "      <td>KW</td>\n",
       "      <td>29.31166</td>\n",
       "      <td>47.481766</td>\n",
       "      <td>Kuwait</td>\n",
       "      <td>243</td>\n",
       "      <td>{\"x\": 5285646.01308537, \"y\": 3415373.487959777...</td>\n",
       "    </tr>\n",
       "    <tr>\n",
       "      <th>243</th>\n",
       "      <td>KY</td>\n",
       "      <td>19.513469</td>\n",
       "      <td>-80.566956</td>\n",
       "      <td>Cayman Islands</td>\n",
       "      <td>244</td>\n",
       "      <td>{\"x\": -8968672.516684076, \"y\": 2215482.8455460...</td>\n",
       "    </tr>\n",
       "    <tr>\n",
       "      <th>244</th>\n",
       "      <td>KZ</td>\n",
       "      <td>48.019573</td>\n",
       "      <td>66.923684</td>\n",
       "      <td>Kazakhstan</td>\n",
       "      <td>245</td>\n",
       "      <td>{\"x\": 7449910.424889949, \"y\": 6110111.70260060...</td>\n",
       "    </tr>\n",
       "  </tbody>\n",
       "</table>\n",
       "<p>245 rows × 6 columns</p>\n",
       "</div>"
      ],
      "text/plain": [
       "    country   latitude   longitude            name  ObjectId  \\\n",
       "0        LA   19.85627  102.495496            Laos         1   \n",
       "1        LB  33.854721   35.862285         Lebanon         2   \n",
       "2        LC  13.909444  -60.978893     Saint Lucia         3   \n",
       "3        LI     47.166    9.555373   Liechtenstein         4   \n",
       "4        LK   7.873054   80.771797       Sri Lanka         5   \n",
       "..      ...        ...         ...             ...       ...   \n",
       "240      KP  40.339852  127.510093     North Korea       241   \n",
       "241      KR  35.907757  127.766922     South Korea       242   \n",
       "242      KW   29.31166   47.481766          Kuwait       243   \n",
       "243      KY  19.513469  -80.566956  Cayman Islands       244   \n",
       "244      KZ  48.019573   66.923684      Kazakhstan       245   \n",
       "\n",
       "                                                 SHAPE  \n",
       "0    {\"x\": 11409746.423324008, \"y\": 2256011.8859192...  \n",
       "1    {\"x\": 3992171.3048832524, \"y\": 4009311.2476556...  \n",
       "2    {\"x\": -6788139.3178975135, \"y\": 1563829.337286...  \n",
       "3    {\"x\": 1063699.2566997947, \"y\": 5969211.7145678...  \n",
       "4    {\"x\": 8991475.312497662, \"y\": 879195.517638681...  \n",
       "..                                                 ...  \n",
       "240  {\"x\": 14194358.623762956, \"y\": 4915452.2483670...  \n",
       "241  {\"x\": 14222948.697263904, \"y\": 4287936.2893990...  \n",
       "242  {\"x\": 5285646.01308537, \"y\": 3415373.487959777...  \n",
       "243  {\"x\": -8968672.516684076, \"y\": 2215482.8455460...  \n",
       "244  {\"x\": 7449910.424889949, \"y\": 6110111.70260060...  \n",
       "\n",
       "[245 rows x 6 columns]"
      ]
     },
     "execution_count": 15,
     "metadata": {},
     "output_type": "execute_result"
    }
   ],
   "source": [
    "itemId = \"2a48749ad81d4c4fbe16e07215229400\" #countries_work => https://renemorenow.maps.arcgis.com/home/item.html?id=2a48749ad81d4c4fbe16e07215229400\n",
    "flc = gis.content.get(itemId)\n",
    "fl = flc.layers[0]\n",
    "print(fl.properties.name, fl.url)\n",
    "feat_set = fl.query(where=\"1=1\", return_all_records=False, result_record_count=5)\n",
    "print(type(feat_set))\n",
    "top_filter = {\n",
    "  \"groupByFields\": \"name\",\n",
    "  \"topCount\": 1,\n",
    "  \"orderByFields\": \"objectid\"\n",
    "}\n",
    "sdf = pd.DataFrame.spatial.from_layer(fl)\n",
    "sdf"
   ]
  },
  {
   "cell_type": "code",
   "execution_count": 16,
   "id": "95e13200",
   "metadata": {},
   "outputs": [
    {
     "data": {
      "text/html": [
       "<div>\n",
       "<style scoped>\n",
       "    .dataframe tbody tr th:only-of-type {\n",
       "        vertical-align: middle;\n",
       "    }\n",
       "\n",
       "    .dataframe tbody tr th {\n",
       "        vertical-align: top;\n",
       "    }\n",
       "\n",
       "    .dataframe thead th {\n",
       "        text-align: right;\n",
       "    }\n",
       "</style>\n",
       "<table border=\"1\" class=\"dataframe\">\n",
       "  <thead>\n",
       "    <tr style=\"text-align: right;\">\n",
       "      <th></th>\n",
       "      <th>country</th>\n",
       "      <th>latitude</th>\n",
       "      <th>longitude</th>\n",
       "      <th>name</th>\n",
       "      <th>ObjectId</th>\n",
       "      <th>SHAPE</th>\n",
       "    </tr>\n",
       "  </thead>\n",
       "  <tbody>\n",
       "    <tr>\n",
       "      <th>1</th>\n",
       "      <td>LB</td>\n",
       "      <td>33.854721</td>\n",
       "      <td>35.862285</td>\n",
       "      <td>Lebanon</td>\n",
       "      <td>2</td>\n",
       "      <td>{\"x\": 3992171.3048832524, \"y\": 4009311.2476556...</td>\n",
       "    </tr>\n",
       "    <tr>\n",
       "      <th>2</th>\n",
       "      <td>LC</td>\n",
       "      <td>13.909444</td>\n",
       "      <td>-60.978893</td>\n",
       "      <td>Saint Lucia</td>\n",
       "      <td>3</td>\n",
       "      <td>{\"x\": -6788139.3178975135, \"y\": 1563829.337286...</td>\n",
       "    </tr>\n",
       "    <tr>\n",
       "      <th>3</th>\n",
       "      <td>LI</td>\n",
       "      <td>47.166</td>\n",
       "      <td>9.555373</td>\n",
       "      <td>Liechtenstein</td>\n",
       "      <td>4</td>\n",
       "      <td>{\"x\": 1063699.2566997947, \"y\": 5969211.7145678...</td>\n",
       "    </tr>\n",
       "    <tr>\n",
       "      <th>4</th>\n",
       "      <td>LK</td>\n",
       "      <td>7.873054</td>\n",
       "      <td>80.771797</td>\n",
       "      <td>Sri Lanka</td>\n",
       "      <td>5</td>\n",
       "      <td>{\"x\": 8991475.312497662, \"y\": 879195.517638681...</td>\n",
       "    </tr>\n",
       "  </tbody>\n",
       "</table>\n",
       "</div>"
      ],
      "text/plain": [
       "  country   latitude  longitude           name  ObjectId  \\\n",
       "1      LB  33.854721  35.862285        Lebanon         2   \n",
       "2      LC  13.909444 -60.978893    Saint Lucia         3   \n",
       "3      LI     47.166   9.555373  Liechtenstein         4   \n",
       "4      LK   7.873054  80.771797      Sri Lanka         5   \n",
       "\n",
       "                                               SHAPE  \n",
       "1  {\"x\": 3992171.3048832524, \"y\": 4009311.2476556...  \n",
       "2  {\"x\": -6788139.3178975135, \"y\": 1563829.337286...  \n",
       "3  {\"x\": 1063699.2566997947, \"y\": 5969211.7145678...  \n",
       "4  {\"x\": 8991475.312497662, \"y\": 879195.517638681...  "
      ]
     },
     "execution_count": 16,
     "metadata": {},
     "output_type": "execute_result"
    }
   ],
   "source": [
    "sdf.loc[1:4]"
   ]
  },
  {
   "cell_type": "code",
   "execution_count": 21,
   "id": "e599be0e",
   "metadata": {},
   "outputs": [],
   "source": [
    "sdf2 = fl.query(where=\"longitude > 0 and latitude < 0\").sdf\n",
    "sdf2"
   ]
  },
  {
   "cell_type": "code",
   "execution_count": 23,
   "id": "afa1c9ba",
   "metadata": {},
   "outputs": [
    {
     "data": {
      "text/html": [
       "<div>\n",
       "<style scoped>\n",
       "    .dataframe tbody tr th:only-of-type {\n",
       "        vertical-align: middle;\n",
       "    }\n",
       "\n",
       "    .dataframe tbody tr th {\n",
       "        vertical-align: top;\n",
       "    }\n",
       "\n",
       "    .dataframe thead th {\n",
       "        text-align: right;\n",
       "    }\n",
       "</style>\n",
       "<table border=\"1\" class=\"dataframe\">\n",
       "  <thead>\n",
       "    <tr style=\"text-align: right;\">\n",
       "      <th></th>\n",
       "      <th>country</th>\n",
       "      <th>latitude</th>\n",
       "      <th>longitude</th>\n",
       "      <th>name</th>\n",
       "      <th>ObjectId</th>\n",
       "      <th>SHAPE</th>\n",
       "    </tr>\n",
       "  </thead>\n",
       "  <tbody>\n",
       "    <tr>\n",
       "      <th>7</th>\n",
       "      <td>NF</td>\n",
       "      <td>-29.040835</td>\n",
       "      <td>167.954712</td>\n",
       "      <td>Norfolk Island</td>\n",
       "      <td>37</td>\n",
       "      <td>{\"x\": 18696633.01617091, \"y\": -3380844.4427609...</td>\n",
       "    </tr>\n",
       "    <tr>\n",
       "      <th>8</th>\n",
       "      <td>NR</td>\n",
       "      <td>-0.522778</td>\n",
       "      <td>166.931503</td>\n",
       "      <td>Nauru</td>\n",
       "      <td>43</td>\n",
       "      <td>{\"x\": 18582729.911315817, \"y\": -58196.18824512...</td>\n",
       "    </tr>\n",
       "    <tr>\n",
       "      <th>9</th>\n",
       "      <td>NZ</td>\n",
       "      <td>-40.900557</td>\n",
       "      <td>174.885971</td>\n",
       "      <td>New Zealand</td>\n",
       "      <td>45</td>\n",
       "      <td>{\"x\": 19468217.23860721, \"y\": -4997684.8905510...</td>\n",
       "    </tr>\n",
       "    <tr>\n",
       "      <th>10</th>\n",
       "      <td>PG</td>\n",
       "      <td>-6.314993</td>\n",
       "      <td>143.95555</td>\n",
       "      <td>Papua New Guinea</td>\n",
       "      <td>50</td>\n",
       "      <td>{\"x\": 16025058.522865633, \"y\": -704409.4326548...</td>\n",
       "    </tr>\n",
       "    <tr>\n",
       "      <th>11</th>\n",
       "      <td>RE</td>\n",
       "      <td>-21.115141</td>\n",
       "      <td>55.536384</td>\n",
       "      <td>Réunion</td>\n",
       "      <td>62</td>\n",
       "      <td>{\"x\": 6182281.9873797055, \"y\": -2405613.229384...</td>\n",
       "    </tr>\n",
       "  </tbody>\n",
       "</table>\n",
       "</div>"
      ],
      "text/plain": [
       "   country   latitude   longitude              name  ObjectId  \\\n",
       "7       NF -29.040835  167.954712    Norfolk Island        37   \n",
       "8       NR  -0.522778  166.931503             Nauru        43   \n",
       "9       NZ -40.900557  174.885971       New Zealand        45   \n",
       "10      PG  -6.314993   143.95555  Papua New Guinea        50   \n",
       "11      RE -21.115141   55.536384           Réunion        62   \n",
       "\n",
       "                                                SHAPE  \n",
       "7   {\"x\": 18696633.01617091, \"y\": -3380844.4427609...  \n",
       "8   {\"x\": 18582729.911315817, \"y\": -58196.18824512...  \n",
       "9   {\"x\": 19468217.23860721, \"y\": -4997684.8905510...  \n",
       "10  {\"x\": 16025058.522865633, \"y\": -704409.4326548...  \n",
       "11  {\"x\": 6182281.9873797055, \"y\": -2405613.229384...  "
      ]
     },
     "execution_count": 23,
     "metadata": {},
     "output_type": "execute_result"
    }
   ],
   "source": [
    "sdf2.loc[7:11]"
   ]
  }
 ],
 "metadata": {
  "kernelspec": {
   "display_name": "Python 3 (ipykernel)",
   "language": "python",
   "name": "python3"
  },
  "language_info": {
   "codemirror_mode": {
    "name": "ipython",
    "version": 3
   },
   "file_extension": ".py",
   "mimetype": "text/x-python",
   "name": "python",
   "nbconvert_exporter": "python",
   "pygments_lexer": "ipython3",
   "version": "3.9.16"
  }
 },
 "nbformat": 4,
 "nbformat_minor": 5
}
