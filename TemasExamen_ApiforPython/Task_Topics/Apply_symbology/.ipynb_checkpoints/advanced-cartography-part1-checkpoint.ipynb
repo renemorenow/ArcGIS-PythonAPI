{
 "cells": [
  {
   "cell_type": "markdown",
   "metadata": {},
   "source": [
    "# [Advanced Cartography (Part 1)](https://developers.arcgis.com/python/guide/advanced-cartography-part1/)\n",
    "This guide shows advanced usage of VisualVariables and other Renderer options in Map Widget, e.g. Class Breaks in size and colors, and Unique Value Renderers. The purpose is to give users more freedom into customizing their own style or symbolizing. For previous coverage of map widgets, please go to [using the map widget](https://developers.arcgis.com/python/guide/using-the-map-widget) and [Advanced Map Widget Usage](https://developers.arcgis.com/python/guide/advanced-map-widget-useage/)"
   ]
  },
  {
   "cell_type": "markdown",
   "metadata": {
    "toc": true
   },
   "source": [
    "<h1>Table of Contents<span class=\"tocSkip\"></span></h1>\n",
    "<div class=\"toc\"><ul class=\"toc-item\"><li><span><a href=\"#Advanced-Cartography-(Part-1)\" data-toc-modified-id=\"Advanced-Cartography-(Part-1)-1\"><span class=\"toc-item-num\">1&nbsp;&nbsp;</span>Advanced Cartography (Part 1)</a></span><ul class=\"toc-item\"><li><span><a href=\"#Part-1.-Style-based-on-numeric-values-in-your-data\" data-toc-modified-id=\"Part-1.-Style-based-on-numeric-values-in-your-data-1.1\"><span class=\"toc-item-num\">1.1&nbsp;&nbsp;</span>Part 1. Style based on numeric values in your data</a></span><ul class=\"toc-item\"><li><span><a href=\"#Section-1.1-Styled-using-only-one-numeric-attribute\" data-toc-modified-id=\"Section-1.1-Styled-using-only-one-numeric-attribute-1.1.1\"><span class=\"toc-item-num\">1.1.1&nbsp;&nbsp;</span>Section 1.1 Styled using only one numeric attribute</a></span></li><li><span><a href=\"#Section-1.2-Compare-A-to-B\" data-toc-modified-id=\"Section-1.2-Compare-A-to-B-1.1.2\"><span class=\"toc-item-num\">1.1.2&nbsp;&nbsp;</span>Section 1.2 Compare A to B</a></span></li><li><span><a href=\"#Section-1.3-Predominant-category-and-size\" data-toc-modified-id=\"Section-1.3-Predominant-category-and-size-1.1.3\"><span class=\"toc-item-num\">1.1.3&nbsp;&nbsp;</span>Section 1.3 Predominant category and size</a></span></li></ul></li><li><span><a href=\"#Conclusion\" data-toc-modified-id=\"Conclusion-1.2\"><span class=\"toc-item-num\">1.2&nbsp;&nbsp;</span>Conclusion</a></span></li></ul></li></ul></div>"
   ]
  },
  {
   "cell_type": "markdown",
   "metadata": {},
   "source": [
    "As usual, start by connecting to your GIS. You can use either an existing profile, or just type `GIS(url=\"your enterprise\", username='user name', password='password')` to set up the connection."
   ]
  },
  {
   "cell_type": "code",
   "execution_count": 1,
   "metadata": {},
   "outputs": [],
   "source": [
    "from arcgis.gis import GIS\n",
    "gis = GIS(url='https://pythonapi.playground.esri.com/portal', username='arcgis_python', password='amazing_arcgis_123')"
   ]
  },
  {
   "cell_type": "markdown",
   "metadata": {
    "heading_collapsed": true
   },
   "source": [
    "## Part 1. Style based on numeric values in your data"
   ]
  },
  {
   "cell_type": "markdown",
   "metadata": {
    "hidden": true
   },
   "source": [
    "Map Viewer le brinda control sobre elementos de estilo, como rampas de color, grosores de línea, transparencia y símbolos. Veamos varias opciones de estilo útiles para visualizar funciones según los valores numéricos de sus datos."
   ]
  },
  {
   "cell_type": "code",
   "execution_count": 2,
   "metadata": {
    "hidden": true
   },
   "outputs": [
    {
     "data": {
      "application/vnd.jupyter.widget-view+json": {
       "model_id": "3f194f37ce4b4663a53c259119754f0d",
       "version_major": 2,
       "version_minor": 0
      },
      "text/plain": [
       "MapView(layout=Layout(height='400px', width='100%'))"
      ]
     },
     "metadata": {},
     "output_type": "display_data"
    },
    {
     "data": {
      "text/html": [
       "<div class=\"map-static-img-preview-b5a6fb1a-1bd2-4aa0-8abb-5588b9aed31d\"><img src=\"\"></img></div>"
      ],
      "text/plain": [
       "<IPython.core.display.HTML object>"
      ]
     },
     "metadata": {},
     "output_type": "display_data"
    },
    {
     "data": {
      "text/html": [
       "<div class=\"map-html-embed-preview-b5a6fb1a-1bd2-4aa0-8abb-5588b9aed31d\"></div>"
      ],
      "text/plain": [
       "<IPython.core.display.HTML object>"
      ]
     },
     "metadata": {},
     "output_type": "display_data"
    }
   ],
   "source": [
    "map1 = gis.map(\"USA\", 4)\n",
    "map1"
   ]
  },
  {
   "cell_type": "markdown",
   "metadata": {
    "heading_collapsed": true,
    "hidden": true
   },
   "source": [
    "### Section 1.1 Styled using only one numeric attribute"
   ]
  },
  {
   "cell_type": "markdown",
   "metadata": {
    "hidden": true
   },
   "source": [
    "Si tiene datos numéricos, es posible que desee distinguir funciones utilizando colores graduados para reflejar un recuento o una cantidad. Se pueden utilizar diferentes tipos de rampas de color; por ejemplo, una rampa de color simple de claro a oscuro es buena para mostrar valores de datos de bajos a altos, como edad, ingresos o proporción. Rampas de color como esta se pueden aplicar a puntos, líneas o polígonos. Por ejemplo, puede utilizar una rampa de color claro a oscuro para representar la relación entre la superficie de tierras de cultivo y la superficie de tierra general, de menor a mayor, por condado. Puede encontrar más documentación en [Números de estilo](http://doc.arcgis.com/en/arcgis-online/create-maps/style-numbers.htm#ESRI_SECTION1_1D8BD412F83148C6ABF315CA10111E66)."
   ]
  },
  {
   "cell_type": "code",
   "execution_count": 3,
   "metadata": {
    "hidden": true
   },
   "outputs": [],
   "source": [
    "\"\"\"\n",
    "    # only 1 numeric attribute\n",
    "    # (a) to visualize with counts and amounts (color)\n",
    "    # field_name here represents \"The acres of total cropland as a percentage of land area in acres\"\n",
    "\"\"\"\n",
    "from arcgis.features import FeatureLayer\n",
    "usa_flayer = FeatureLayer(\"https://services.arcgis.com/V6ZHFr6zdgNZuVG0/arcgis/rest/services/USA_County_Crops_2007/FeatureServer/0\")\n",
    "\n",
    "map1.add_layer(usa_flayer, { \"type\": \"FeatureLayer\",\n",
    "                             \"renderer\":\"ClassedColorRenderer\",\n",
    "                             \"field_name\":\"M086_07\"})"
   ]
  },
  {
   "cell_type": "markdown",
   "metadata": {
    "hidden": true
   },
   "source": [
    "While smart mapping will automatically choose the class breaks, users can also use autocasting if they want finer control by providing their own class breaks and symbology for each class. By specifying `renderer: \"autocast\"` for any renderer, you are directing Python to allow the Javascript API to attempt to infer the renderer by following Javascript API rules. Since Python dict's map directly to JavaScript JSON, you can specify any Javascript Renderer for a large range of visualization options! Please look at the example of `map2` below to explore how to provide your own customized class breaks and specific symbols with color, size, labels, etc."
   ]
  },
  {
   "cell_type": "code",
   "execution_count": 4,
   "metadata": {
    "hidden": true
   },
   "outputs": [
    {
     "data": {
      "application/vnd.jupyter.widget-view+json": {
       "model_id": "8e09c786609947f893bfc3de9bbb9888",
       "version_major": 2,
       "version_minor": 0
      },
      "text/plain": [
       "MapView(layout=Layout(height='400px', width='100%'))"
      ]
     },
     "metadata": {},
     "output_type": "display_data"
    },
    {
     "data": {
      "text/html": [
       "<div class=\"map-static-img-preview-deaf4ec0-0ec0-4775-b1ca-f8b37e7b17dc\"><img src=\"\"></img></div>"
      ],
      "text/plain": [
       "<IPython.core.display.HTML object>"
      ]
     },
     "metadata": {},
     "output_type": "display_data"
    },
    {
     "data": {
      "text/html": [
       "<div class=\"map-html-embed-preview-deaf4ec0-0ec0-4775-b1ca-f8b37e7b17dc\"></div>"
      ],
      "text/plain": [
       "<IPython.core.display.HTML object>"
      ]
     },
     "metadata": {},
     "output_type": "display_data"
    }
   ],
   "source": [
    "\"\"\"\n",
    "    # only 1 numeric attribute\n",
    "    # (a) to visualize with counts and amounts (color) + Customized class breaks\n",
    "    # field_name here represents \"The acres of total cropland as a percentage of land area in acres\"\n",
    "\"\"\"\n",
    "map2 = gis.map(\"USA\", 4)\n",
    "\n",
    "map2_renderer = {\"renderer\": \"autocast\", #This tells python to use JS autocasting\n",
    "                 \"type\": \"classBreaks\",  \n",
    "                 \"field\":\"M086_07\",\n",
    "                 \"minValue\":-9007199254740991}\n",
    "\n",
    "map2_renderer[\"visualVariables\"] = [{   \"type\": \"colorInfo\",\n",
    "                                        \"field\": \"M086_07\",\n",
    "                                        \"stops\": [  {\n",
    "                                                        \"value\": 10,\n",
    "                                                        \"color\": [237,248,251,204],\n",
    "                                                        \"label\": \"< 10\"\n",
    "                                                    },\n",
    "                                                    {\n",
    "                                                        \"value\": 25,\n",
    "                                                        \"color\": [178,226,226,204],\n",
    "                                                        \"label\": \"10~39.5\"\n",
    "                                                    },\n",
    "                                                    {\n",
    "                                                        \"value\": 39.5,\n",
    "                                                        \"color\": [102,194,164,204],\n",
    "                                                        \"label\": \"39.5\"\n",
    "                                                    },\n",
    "                                                    {\n",
    "                                                        \"value\": 54,\n",
    "                                                        \"color\": [44,162,95,204],\n",
    "                                                        \"label\": \"39.5~68\"\n",
    "                                                    },\n",
    "                                                    {\n",
    "                                                        \"value\": 68,\n",
    "                                                        \"color\": [0,109,44,204],\n",
    "                                                        \"label\": \"> 68\"\n",
    "                                                    }]\n",
    "                                    }]\n",
    "\n",
    "map2_renderer[\"classBreakInfos\"] = [{   \"symbol\": {\n",
    "                                            \"color\": [170,170,170,204],\n",
    "                                            \"outline\": {\n",
    "                                                \"color\": [153,153,153,255],\n",
    "                                                \"width\": 0.375,\n",
    "                                                \"type\": \"esriSLS\",\n",
    "                                                \"style\": \"esriSLSSolid\"\n",
    "                                            },\n",
    "                                            \"type\": \"esriSFS\",\n",
    "                                            \"style\": \"esriSFSSolid\"\n",
    "                                        },\n",
    "                                        \"classMaxValue\": 9007199254740991\n",
    "                                    }]\n",
    "\n",
    "map2.add_layer(usa_flayer,\n",
    "               { \"type\": \"FeatureLayer\",\n",
    "                 \"renderer\": map2_renderer,\n",
    "                 \"field_name\":\"M086_07\",\n",
    "                 \"minValue\":-9007199254740991,\n",
    "                 \"definitionExpression\": \"AREA > 0.001\"})\n",
    "\n",
    "map2"
   ]
  },
  {
   "cell_type": "markdown",
   "metadata": {
    "hidden": true
   },
   "source": [
    "The two examples shown above demonstrate how color differences in visualization can help audience form a sense of the orderable sequence of the numeric data or ranks. On the other hand, size differences also play an important role in mapping. \n",
    "\n",
    "The map style (as shown below) uses an orderable sequence of different sizes to represent your numeric data or ranked categories. Points, lines, and areas can all be drawn using this approach. Polygon features are displayed as proportional points over polygons. These proportional symbol maps use an intuitive logic that larger symbols equate to larger numbers. Adjust the size of the symbols to clarify the story you’re telling. More documentation can be found in [Counts and Amounts (Size)](http://doc.arcgis.com/en/arcgis-online/create-maps/style-numbers.htm#ESRI_SECTION1_1D8BD412F83148C6ABF315CA10111E66)"
   ]
  },
  {
   "cell_type": "code",
   "execution_count": 5,
   "metadata": {
    "hidden": true
   },
   "outputs": [
    {
     "data": {
      "application/vnd.jupyter.widget-view+json": {
       "model_id": "6a2d3236c5864964ab1992a37818a3ff",
       "version_major": 2,
       "version_minor": 0
      },
      "text/plain": [
       "MapView(layout=Layout(height='400px', width='100%'))"
      ]
     },
     "metadata": {},
     "output_type": "display_data"
    },
    {
     "data": {
      "text/html": [
       "<div class=\"map-static-img-preview-ecbf9247-41f3-4326-ba61-bda995217ce1\"><img src=\"\"></img></div>"
      ],
      "text/plain": [
       "<IPython.core.display.HTML object>"
      ]
     },
     "metadata": {},
     "output_type": "display_data"
    },
    {
     "data": {
      "text/html": [
       "<div class=\"map-html-embed-preview-ecbf9247-41f3-4326-ba61-bda995217ce1\"></div>"
      ],
      "text/plain": [
       "<IPython.core.display.HTML object>"
      ]
     },
     "metadata": {},
     "output_type": "display_data"
    }
   ],
   "source": [
    "\"\"\"\n",
    "    # only 1 numeric attribute\n",
    "    # (b) counts and amounts (size)\n",
    "    # The field used here represent the harvested acres of Upland Cotton\n",
    "\"\"\"\n",
    "map3 = gis.map(\"USA\", 4)\n",
    "\n",
    "map3_renderer = {\"renderer\": \"autocast\", #This tells python to use JS autocasting\n",
    "                 \"type\": \"classBreaks\",  \n",
    "                 \"field\":\"M188_07\",\n",
    "                 \"transparency\":20,\n",
    "                 \"minValue\":-9007199254740991}\n",
    "\n",
    "map3_renderer[\"visualVariables\"] = [{   \"type\": \"sizeInfo\",\n",
    "                                        \"field\": \"M188_07\",\n",
    "                                        \"valueUnit\": \"unknown\",\n",
    "                                        \"minSize\": {\n",
    "                                            \"type\": \"sizeInfo\",\n",
    "                                            \"expression\": \"view.scale\",\n",
    "                                            \"stops\": [{     \"value\": 1128,\n",
    "                                                            \"size\": 16\n",
    "                                                        },\n",
    "                                                        {   \"value\": 144447,\n",
    "                                                            \"size\": 16\n",
    "                                                        },\n",
    "                                                        {   \"value\": 18489298,\n",
    "                                                            \"size\": 4\n",
    "                                                        },\n",
    "                                                        {   \"value\": 147914382,\n",
    "                                                            \"size\": 4\n",
    "                                                        },\n",
    "                                                        {   \"value\": 591657528,\n",
    "                                                            \"size\": 2\n",
    "                                                        }]\n",
    "                                        },\n",
    "                                        \"maxSize\": {\n",
    "                                            \"type\": \"sizeInfo\",\n",
    "                                            \"expression\": \"view.scale\",\n",
    "                                            \"stops\": [{     \"value\": 1128,\n",
    "                                                            \"size\": 80\n",
    "                                                        },\n",
    "                                                        {   \"value\": 144447,\n",
    "                                                            \"size\": 80\n",
    "                                                        },\n",
    "                                                        {   \"value\": 18489298,\n",
    "                                                            \"size\": 50\n",
    "                                                        },\n",
    "                                                        {   \"value\": 147914382,\n",
    "                                                            \"size\": 50\n",
    "                                                        },\n",
    "                                                        {   \"value\": 591657528,\n",
    "                                                            \"size\": 25\n",
    "                                                        }]\n",
    "                                        },\n",
    "                                        \"minDataValue\": 0,\n",
    "                                        \"maxDataValue\": 150000\n",
    "                                    },\n",
    "                                    {   \"type\": \"sizeInfo\",\n",
    "                                        \"target\": \"outline\",\n",
    "                                        \"expression\": \"view.scale\",\n",
    "                                        \"stops\": [{     \"size\": 2,\n",
    "                                                        \"value\": 1080478\n",
    "                                                    },\n",
    "                                                    {   \"size\": 1,\n",
    "                                                        \"value\": 6752990\n",
    "                                                    },\n",
    "                                                    {   \"size\": 1,\n",
    "                                                        \"value\": 27011958\n",
    "                                                    },\n",
    "                                                    {   \"size\": 0,\n",
    "                                                        \"value\": 54023916\n",
    "                                                    }]\n",
    "                                    }]\n",
    "\n",
    "map3_renderer[\"classBreakInfos\"] =     [{   \"symbol\": {\n",
    "                                                \"color\": [227,139,79,255],\n",
    "                                                \"size\": 9,\n",
    "                                                \"angle\": 0,\n",
    "                                                \"xoffset\": 0,\n",
    "                                                \"yoffset\": 0,\n",
    "                                                \"type\": \"esriSMS\",\n",
    "                                                \"style\": \"esriSMSCircle\",\n",
    "                                                \"outline\": {\n",
    "                                                    \"color\": [51,51,51,255],\n",
    "                                                    \"width\": 0.75,\n",
    "                                                    \"type\": \"esriSLS\",\n",
    "                                                    \"style\": \"esriSLSSolid\"\n",
    "                                                }\n",
    "                                            },\n",
    "                                            \"classMaxValue\": 9007199254740991\n",
    "                                        }]\n",
    "\n",
    "map3.add_layer(usa_flayer,\n",
    "               { \"type\": \"FeatureLayer\",\n",
    "                 \"renderer\":map3_renderer,\n",
    "                 \"field_name\":\"M188_07\"})\n",
    "\n",
    "map3"
   ]
  },
  {
   "cell_type": "markdown",
   "metadata": {
    "heading_collapsed": true,
    "hidden": true
   },
   "source": [
    "### Section 1.2 Compare A to B\n",
    "Este estilo le permite mapear la proporción entre dos números y expresar esa relación como porcentajes, proporciones simples o porcentaje general. Por ejemplo, puede mapear la población estimada para 2025 como porcentaje de la población conocida en 2015 para observar la tendencia del cambio poblacional. Obtenga más información a través de [Compare A con B](http://doc.arcgis.com/en/arcgis-online/create-maps/style-numbers.htm#ESRI_SECTION1_F269A11801BF4CCDA1E9584B585C4671)."
   ]
  },
  {
   "cell_type": "code",
   "execution_count": 6,
   "metadata": {
    "hidden": true
   },
   "outputs": [
    {
     "data": {
      "application/vnd.jupyter.widget-view+json": {
       "model_id": "be8d6f755fe649f9b1916ab5e8838cc0",
       "version_major": 2,
       "version_minor": 0
      },
      "text/plain": [
       "MapView(layout=Layout(height='400px', width='100%'))"
      ]
     },
     "metadata": {},
     "output_type": "display_data"
    },
    {
     "data": {
      "text/html": [
       "<div class=\"map-static-img-preview-4ab33422-ae5c-4df2-aa4c-e7ee22b46001\"><img src=\"\"></img></div>"
      ],
      "text/plain": [
       "<IPython.core.display.HTML object>"
      ]
     },
     "metadata": {},
     "output_type": "display_data"
    },
    {
     "data": {
      "text/html": [
       "<div class=\"map-html-embed-preview-4ab33422-ae5c-4df2-aa4c-e7ee22b46001\"></div>"
      ],
      "text/plain": [
       "<IPython.core.display.HTML object>"
      ]
     },
     "metadata": {},
     "output_type": "display_data"
    }
   ],
   "source": [
    "\"\"\"\n",
    "    # with 2 numeric attributes\n",
    "    # compare A to B\n",
    "    # The field used here represent percentage of [population of projected 2025] as pf [population of 2015]\n",
    "\"\"\"\n",
    "map4 = gis.map(\"France\", 2)\n",
    "\n",
    "map4_renderer = {\"renderer\": \"autocast\", #This tells python to use JS autocasting\n",
    "                 \"type\": \"classBreaks\",  \n",
    "                 \"field\":\"POP2025\",\n",
    "                 \"transparency\":80,\n",
    "                 \"minValue\":-9007199254740991}\n",
    "\n",
    "map4_renderer[\"visualVariables\"] = [{   \"type\": \"colorInfo\",\n",
    "                                        \"field\": \"POP2025\",\n",
    "                                        \"normalizationField\": \"POP2015\",\n",
    "                                        \"stops\": [\n",
    "                                            {   \"value\": 1.12,\n",
    "                                                \"color\": [230,97,1,255],\n",
    "                                                \"label\": \"< 112%\"\n",
    "                                            },\n",
    "                                            {   \"value\": 1.1800000000000002,\n",
    "                                                \"color\": [253,184,99,255],\n",
    "                                                \"label\": \"112% ~ 124%\"\n",
    "                                            },\n",
    "                                            {   \"value\": 1.24,\n",
    "                                                \"color\": [247,247,247,255],\n",
    "                                                \"label\": \"124%\"\n",
    "                                            },\n",
    "                                            {   \"value\": 1.3,\n",
    "                                                \"color\": [178,171,210,255],\n",
    "                                                \"label\": \"124% ~ 136%\"\n",
    "                                            },\n",
    "                                            {   \"value\": 1.36,\n",
    "                                                \"color\": [94,60,153,255],\n",
    "                                                \"label\": \"> 136%\"\n",
    "                                            }]\n",
    "                                    }]\n",
    "\n",
    "map4_renderer[\"classBreakInfos\"] = [{   \"symbol\": {\n",
    "                                            \"color\": [170,170,170,255],\n",
    "                                            \"size\": 10.5,\n",
    "                                            \"angle\": 0,\n",
    "                                            \"xoffset\": 0,\n",
    "                                            \"yoffset\": 0,\n",
    "                                            \"type\": \"esriSMS\",\n",
    "                                            \"style\": \"esriSMSCircle\",\n",
    "                                            \"outline\": {\n",
    "                                                \"color\": [153,153,153,255],\n",
    "                                                \"width\": 0.375,\n",
    "                                                \"type\": \"esriSLS\",\n",
    "                                                \"style\": \"esriSLSSolid\"\n",
    "                                            }\n",
    "                                        },\n",
    "                                        \"classMaxValue\": 9007199254740991\n",
    "                                    }]\n",
    "\n",
    "world_flayer = FeatureLayer(\"http://services.arcgis.com/nGt4QxSblgDfeJn9/arcgis/rest/services/World_LargestUrbanAreas_fs/FeatureServer/0\")\n",
    "\n",
    "map4.add_layer(world_flayer,\n",
    "               { \"type\": \"FeatureLayer\",\n",
    "                 \"renderer\": map4_renderer,\n",
    "                 \"field_name\":\"POP2025\",\n",
    "                 \"normalizationType\": \"esriNormalizeByField\",\n",
    "                 \"normalizationField\": \"POP2015\"})\n",
    "\n",
    "map4"
   ]
  },
  {
   "cell_type": "markdown",
   "metadata": {
    "heading_collapsed": true,
    "hidden": true
   },
   "source": [
    "### Section 1.3 Predominant category and size\n",
    "Utilice este estilo de mapa para comparar múltiples atributos relacionados con la misma unidad de medida. Al igual que el estilo Categoría predominante, este estilo utiliza el color para visualizar el atributo predominante y la transparencia para mostrar el grado de predominio en comparación con los demás atributos. Además, el estilo Categoría y tamaño predominantes utiliza un tercer elemento (tamaño) para representar la suma de los atributos de cada característica. Por ejemplo, en una capa que muestra la producción de cultivos por condado de Estados Unidos, puede aplicar este estilo para ver qué cultivo (trigo, maíz, soja, etc.) tiene el valor más alto en cada condado y cuánto más alto es el valor del cultivo predominante. Su valor se compara con el de otros cultivos. Además, al aplicar símbolos proporcionales a la capa, puede comparar la producción total de cultivos entre condados, visualizando qué condados tienen una alta producción total de cultivos y cuáles tienen un rendimiento menor. Obtenga más información sobre este estilo en [Categoría Predominante](http://doc.arcgis.com/en/arcgis-online/create-maps/style-numbers.htm#ESRI_SECTION1_C188623AB09249C8AB88621A99307E23)."
   ]
  },
  {
   "cell_type": "code",
   "execution_count": 7,
   "metadata": {
    "hidden": true
   },
   "outputs": [
    {
     "data": {
      "application/vnd.jupyter.widget-view+json": {
       "model_id": "15a308482b80493f944e01c31d725237",
       "version_major": 2,
       "version_minor": 0
      },
      "text/plain": [
       "MapView(layout=Layout(height='400px', width='100%'))"
      ]
     },
     "metadata": {},
     "output_type": "display_data"
    },
    {
     "data": {
      "text/html": [
       "<div class=\"map-static-img-preview-b9f0f2ea-2c25-497f-86df-cf90d864b56e\"><img src=\"\"></img></div>"
      ],
      "text/plain": [
       "<IPython.core.display.HTML object>"
      ]
     },
     "metadata": {},
     "output_type": "display_data"
    },
    {
     "data": {
      "text/html": [
       "<div class=\"map-html-embed-preview-b9f0f2ea-2c25-497f-86df-cf90d864b56e\"></div>"
      ],
      "text/plain": [
       "<IPython.core.display.HTML object>"
      ]
     },
     "metadata": {},
     "output_type": "display_data"
    }
   ],
   "source": [
    "\"\"\"\n",
    "    # with 2 to 10 related numeric attributes with the same unit of measurement\n",
    "    # Predominant category and size\n",
    "    # The field used here represent the predominant crop production\n",
    "\"\"\"\n",
    "map5 = gis.map(\"USA\", 4)\n",
    "\n",
    "map5_renderer = {\"renderer\": \"autocast\", #This tells python to use JS autocasting\n",
    "                 \"type\": \"uniqueValue\"}\n",
    "\n",
    "map5_renderer[\"valueExpression\"] = \"var fieldNames = [ \\\"M163_07\\\", \\\"M172_07\\\", \\\"M193_07\\\", \\\"M188_07\\\", \\\"M217_07\\\" ];\\\n",
    "                                    var numFields = 5;\\\n",
    "                                    var maxValueField = null;\\\n",
    "                                    var maxValue = -Infinity;\\\n",
    "                                    var value, i, totalValue = null;\\\n",
    "                                    for(i = 0; i < numFields; i++) {\\\n",
    "                                        value = $feature[fieldNames[i]];\\\n",
    "                                        if(value > 0) {\\\n",
    "                                            if(value > maxValue) {\\\n",
    "                                                maxValue = value;\\\n",
    "                                                maxValueField = fieldNames[i];\\\n",
    "                                            }\\\n",
    "                                            else if (value == maxValue) {\\\n",
    "                                                maxValueField = null;\\\n",
    "                                            }\\\n",
    "                                        }\\\n",
    "                                    }\\\n",
    "                                    return maxValueField;\"\n",
    "\n",
    "transparencyInfo_valueExpression = \"var fieldNames = [ \\\"M163_07\\\", \\\"M172_07\\\", \\\"M193_07\\\", \\\"M188_07\\\", \\\"M217_07\\\" ];\\\n",
    "                                    var numFields = 5;\\\n",
    "                                    var maxValueField = null;\\\n",
    "                                    var maxValue = -Infinity;\\\n",
    "                                    var value, i, totalValue = null;\\\n",
    "                                    for(i = 0; i < numFields; i++) {\\\n",
    "                                        value = $feature[fieldNames[i]];\\\n",
    "                                        if(value > 0) {\\\n",
    "                                            if(value > maxValue) {\\\n",
    "                                                maxValue = value;\\\n",
    "                                                maxValueField = fieldNames[i];\\\n",
    "                                            }\\\n",
    "                                            else if (value == maxValue) {\\\n",
    "                                                maxValueField = null;\\\n",
    "                                            }\\\n",
    "                                        }\\\n",
    "                                        if(value != null && value >= 0) {\\\n",
    "                                            if (totalValue == null) { totalValue = 0; }\\\n",
    "                                            totalValue = totalValue + value;\\\n",
    "                                        }\\\n",
    "                                    }\\\n",
    "                                    var strength = null;\\\n",
    "                                    if (maxValueField != null && totalValue > 0) {\\\n",
    "                                        strength = (maxValue / totalValue) * 100;\\\n",
    "                                    }\\\n",
    "                                    return strength;\"\n",
    "\n",
    "sizeInfo_valueExpression = \"var fieldNames = [ \\\"M163_07\\\", \\\"M172_07\\\", \\\"M193_07\\\", \\\"M188_07\\\", \\\"M217_07\\\" ];\\\n",
    "                            var numFields = 5;\\\n",
    "                            var value, i, totalValue = null;\\\n",
    "                            for(i = 0; i < numFields; i++) {\\\n",
    "                                value = $feature[fieldNames[i]];\\\n",
    "                                if(value != null && value >= 0) {\\\n",
    "                                    if (totalValue == null) { totalValue = 0; }\\\n",
    "                                    totalValue = totalValue + value;\\\n",
    "                                }\\\n",
    "                            }\\\n",
    "                            return totalValue;\"\n",
    "\n",
    "map5_renderer[\"visualVariables\"] = [{   \"type\": \"transparencyInfo\",\n",
    "                                        \"valueExpression\": transparencyInfo_valueExpression,\n",
    "                                        \"stops\": [{ \"value\": 20,\n",
    "                                                    \"transparency\": 85\n",
    "                                                  },\n",
    "                                                  { \"value\": 95,\n",
    "                                                    \"transparency\": 0\n",
    "                                                  }],\n",
    "                                        \"legendOptions\": {\"title\": \"Strength of predominance\"}\n",
    "                                    },\n",
    "                                    {   \"type\": \"sizeInfo\",\n",
    "                                        \"valueExpression\": sizeInfo_valueExpression,\n",
    "                                        \"valueUnit\": \"unknown\",\n",
    "                                        \"minSize\": {\n",
    "                                            \"type\": \"sizeInfo\",\n",
    "                                            \"expression\": \"view.scale\",\n",
    "                                            \"stops\": [{ \"value\": 1128,\n",
    "                                                        \"size\": 16\n",
    "                                                      },\n",
    "                                                      { \"value\": 72223,\n",
    "                                                        \"size\": 16\n",
    "                                                      },\n",
    "                                                      { \"value\": 9244649,\n",
    "                                                        \"size\": 6\n",
    "                                                      },\n",
    "                                                      { \"value\": 147914382,\n",
    "                                                        \"size\": 4\n",
    "                                                      },\n",
    "                                                      { \"value\": 591657528,\n",
    "                                                        \"size\": 2\n",
    "                                                      }]\n",
    "                                        },\n",
    "                                        \"maxSize\": {\n",
    "                                            \"type\": \"sizeInfo\",\n",
    "                                            \"expression\": \"view.scale\",\n",
    "                                            \"stops\": [{ \"value\": 1128,\n",
    "                                                        \"size\": 80\n",
    "                                                      },\n",
    "                                                      { \"value\": 72223,\n",
    "                                                        \"size\": 80\n",
    "                                                      },\n",
    "                                                      { \"value\": 9244649,\n",
    "                                                        \"size\": 50\n",
    "                                                      },\n",
    "                                                      { \"value\": 147914382,\n",
    "                                                        \"size\": 50\n",
    "                                                      },\n",
    "                                                      { \"value\": 591657528,\n",
    "                                                        \"size\": 25\n",
    "                                                      }]\n",
    "                                        },\n",
    "                                        \"minDataValue\": 50000,\n",
    "                                        \"maxDataValue\": 800000,\n",
    "                                        \"legendOptions\": { \"title\": \"Sum of categories\"}\n",
    "                                    }]\n",
    "\n",
    "map5_renderer[\"uniqueValueInfos\"] = [{  \"value\": \"M163_07\",\n",
    "                                        \"symbol\": {\n",
    "                                            \"color\": [255,255,0,255],\n",
    "                                            \"size\": 6,\n",
    "                                            \"angle\": 0,\n",
    "                                            \"xoffset\": 0,\n",
    "                                            \"yoffset\": 0,\n",
    "                                            \"type\": \"esriSMS\",\n",
    "                                            \"style\": \"esriSMSCircle\",\n",
    "                                            \"outline\": {\n",
    "                                                \"color\": \"White\",\n",
    "                                                \"width\": 0.75,\n",
    "                                                \"type\": \"esriSLS\",\n",
    "                                                \"style\": \"esriSLSNull\"\n",
    "                                            }\n",
    "                                        },\n",
    "                                        \"label\": \"Corn for grain, harvested acres.\"\n",
    "                                    },\n",
    "                                    {   \"value\": \"M172_07\",\n",
    "                                        \"symbol\": {\n",
    "                                            \"color\": [255,170,0,255],\n",
    "                                            \"size\": 6,\n",
    "                                            \"angle\": 0,\n",
    "                                            \"xoffset\": 0,\n",
    "                                            \"yoffset\": 0,\n",
    "                                            \"type\": \"esriSMS\",\n",
    "                                            \"style\": \"esriSMSCircle\",\n",
    "                                            \"outline\": {\n",
    "                                                \"color\": \"White\",\n",
    "                                                \"width\": 0.75,\n",
    "                                                \"type\": \"esriSLS\",\n",
    "                                                \"style\": \"esriSLSNull\"\n",
    "                                            }\n",
    "                                        },\n",
    "                                        \"label\": \"All wheat for grain, harvested acres.\"\n",
    "                                    },\n",
    "                                    {   \"value\": \"M193_07\",\n",
    "                                        \"symbol\": {\n",
    "                                            \"color\": [152,230,0,255],\n",
    "                                            \"size\": 6,\n",
    "                                            \"angle\": 0,\n",
    "                                            \"xoffset\": 0,\n",
    "                                            \"yoffset\": 0,\n",
    "                                            \"type\": \"esriSMS\",\n",
    "                                            \"style\": \"esriSMSCircle\",\n",
    "                                            \"outline\": {\n",
    "                                                \"color\": \"White\",\n",
    "                                                \"width\": 0.75,\n",
    "                                                \"type\": \"esriSLS\",\n",
    "                                                \"style\": \"esriSLSNull\"\n",
    "                                            }\n",
    "                                        },\n",
    "                                        \"label\": \"Soybeans for beans, harvested acres.\"\n",
    "                                    },\n",
    "                                    {   \"value\": \"M188_07\",\n",
    "                                        \"symbol\": {\n",
    "                                            \"color\": [255,255,255,255],\n",
    "                                            \"size\": 6,\n",
    "                                            \"angle\": 0,\n",
    "                                            \"xoffset\": 0,\n",
    "                                            \"yoffset\": 0,\n",
    "                                            \"type\": \"esriSMS\",\n",
    "                                            \"style\": \"esriSMSCircle\",\n",
    "                                            \"outline\": {\n",
    "                                                \"color\": \"White\",\n",
    "                                                \"width\": 0.75,\n",
    "                                                \"type\": \"esriSLS\",\n",
    "                                                \"style\": \"esriSLSNull\"\n",
    "                                            }\n",
    "                                        },\n",
    "                                        \"label\": \"Upland cotton, harvested acres.\"\n",
    "                                    },\n",
    "                                    {   \"value\": \"M217_07\",\n",
    "                                        \"symbol\": {\n",
    "                                            \"color\": [255,0,0,255],\n",
    "                                            \"size\": 6,\n",
    "                                            \"angle\": 0,\n",
    "                                            \"xoffset\": 0,\n",
    "                                            \"yoffset\": 0,\n",
    "                                            \"type\": \"esriSMS\",\n",
    "                                            \"style\": \"esriSMSCircle\",\n",
    "                                            \"outline\": {\n",
    "                                                \"color\": \"White\",\n",
    "                                                \"width\": 0.75,\n",
    "                                                \"type\": \"esriSLS\",\n",
    "                                                \"style\": \"esriSLSNull\"\n",
    "                                            }\n",
    "                                        },\n",
    "                                        \"label\": \"Vegetables, acres harvested for sale.\"\n",
    "                                    }]\n",
    "\n",
    "\n",
    "map5.add_layer(usa_flayer,\n",
    "               { \"type\": \"FeatureLayer\",\n",
    "                 \"renderer\": map5_renderer})\n",
    "\n",
    "map5"
   ]
  },
  {
   "cell_type": "markdown",
   "metadata": {
    "heading_collapsed": true
   },
   "source": [
    "## Conclusion\n",
    "Cuando aplica estilo a una capa, las opciones de estilo ofrecidas dependen del tipo de entidades que está mapeando (punto, línea o polígono), así como del tipo de atributos de datos (números, categorías, fechas, etc.) y la cantidad de atributos. tu eliges. Cada estilo te ayuda a contar una historia ligeramente diferente y responder diferentes preguntas con tus datos. Los ejemplos que se muestran aquí están destinados a brindarle ideas básicas sobre cómo se utilizan los tipos de renderizadores integrados, como los renderizadores de saltos de clase o los renderizadores de valor único, o cuándo necesita personalizar sus estilos, cómo dirigir a Python para permitir que la API de Javascript intente inferir el renderizador mediante algunas de las reglas de la API de Javascript.\n",
    "\n",
    "Ahora que dominamos algunos estilos básicos de visualización de datos numéricos u ordenables, pasemos a la segunda mitad del tema (`advanced-cartography-part2.ipynb`) para obtener guías sobre cómo diseñar su mapa en función de datos categóricos."
   ]
  }
 ],
 "metadata": {
  "kernelspec": {
   "display_name": "Python 3 (ipykernel)",
   "language": "python",
   "name": "python3"
  },
  "language_info": {
   "codemirror_mode": {
    "name": "ipython",
    "version": 3
   },
   "file_extension": ".py",
   "mimetype": "text/x-python",
   "name": "python",
   "nbconvert_exporter": "python",
   "pygments_lexer": "ipython3",
   "version": "3.9.16"
  },
  "toc": {
   "base_numbering": 1,
   "nav_menu": {},
   "number_sections": true,
   "sideBar": true,
   "skip_h1_title": false,
   "title_cell": "Table of Contents",
   "title_sidebar": "Contents",
   "toc_cell": true,
   "toc_position": {},
   "toc_section_display": true,
   "toc_window_display": true
  }
 },
 "nbformat": 4,
 "nbformat_minor": 2
}
