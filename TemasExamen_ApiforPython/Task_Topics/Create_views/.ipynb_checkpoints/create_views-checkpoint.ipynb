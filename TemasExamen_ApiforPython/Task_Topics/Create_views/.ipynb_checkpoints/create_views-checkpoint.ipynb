{
 "cells": [
  {
   "cell_type": "code",
   "execution_count": 1,
   "metadata": {},
   "outputs": [],
   "source": [
    "from arcgis import GIS\n",
    "from arcgis.features import FeatureLayerCollection"
   ]
  },
  {
   "cell_type": "code",
   "execution_count": 2,
   "metadata": {},
   "outputs": [
    {
     "name": "stdout",
     "output_type": "stream",
     "text": [
      "Enter password: ········\n"
     ]
    }
   ],
   "source": [
    "gis = GIS(url=\"http://www.arcgis.com\", username=\"renemorenow\")\n",
    "#gis = GIS(url=\"http://www.arcgis.com\", username=\"williamrenem\")\n",
    "#gis = GIS(url=\"http://www.arcgis.com\", username=\"wmoreno_project_esri_co\")\n",
    "# gis = GIS(url='https://pythonapi.playground.esri.com/portal', username='arcgis_python', password='amazing_arcgis_123')"
   ]
  },
  {
   "cell_type": "markdown",
   "metadata": {},
   "source": [
    "## Create views\n",
    "https://community.esri.com/t5/arcgis-api-for-python-blog/using-the-arcgis-api-for-python-to-create-a-view/ba-p/902966"
   ]
  },
  {
   "cell_type": "code",
   "execution_count": 13,
   "metadata": {},
   "outputs": [
    {
     "data": {
      "text/plain": [
       "<FeatureLayerCollection url:\"https://services3.arcgis.com/Bd3GqULNdzgCeQfi/arcgis/rest/services/World_Earthquakes_shape/FeatureServer\">"
      ]
     },
     "execution_count": 13,
     "metadata": {},
     "output_type": "execute_result"
    }
   ],
   "source": [
    "# Search for Source Hosted Feature Layer \n",
    "source_search = gis.content.search(\"world_earthquakes\", \"feature service\")[0]\n",
    "source_search\n",
    "source_flc = FeatureLayerCollection.fromitem(source_search)\n",
    "source_flc"
   ]
  },
  {
   "cell_type": "code",
   "execution_count": 14,
   "metadata": {},
   "outputs": [
    {
     "ename": "SyntaxError",
     "evalue": "invalid non-printable character U+200D (1599705405.py, line 2)",
     "output_type": "error",
     "traceback": [
      "\u001b[1;36m  File \u001b[1;32m\"C:\\Users\\wmoreno\\AppData\\Local\\Temp\\ipykernel_3308\\1599705405.py\"\u001b[1;36m, line \u001b[1;32m2\u001b[0m\n\u001b[1;33m    new_view = source_flc.manager.create_view(name=\"worldEQView\")‍‍‍‍‍‍‍‍‍‍‍‍‍‍‍‍‍‍‍‍‍‍‍‍‍‍‍‍‍‍‍‍‍‍‍‍‍‍‍‍‍‍‍‍‍‍‍‍‍‍‍‍‍‍‍‍‍‍‍‍‍‍‍‍‍‍‍‍‍‍‍‍‍‍‍‍‍\u001b[0m\n\u001b[1;37m                                                                 ^\u001b[0m\n\u001b[1;31mSyntaxError\u001b[0m\u001b[1;31m:\u001b[0m invalid non-printable character U+200D\n"
     ]
    }
   ],
   "source": [
    "# Create View from Source Hosted Feature Layer \n",
    "new_view = source_flc.manager.create_view(name=\"worldEQView\")‍‍‍‍‍‍‍‍‍‍‍‍‍‍‍‍‍‍‍‍‍‍‍‍‍‍‍‍‍‍‍‍‍‍‍‍‍‍‍‍‍‍‍‍‍‍‍‍‍‍‍‍‍‍‍‍‍‍‍‍‍‍‍‍‍‍‍‍‍‍‍‍‍‍‍‍‍\n",
    "new_view"
   ]
  },
  {
   "cell_type": "code",
   "execution_count": null,
   "metadata": {},
   "outputs": [],
   "source": [
    "# Search for newly created View\n",
    "view_search = gis.content.search(\"worldEQView\")[0]\n",
    "view_flc = FeatureLayerCollection.fromitem(view_search)\n",
    "\n",
    "# The viewDefinitionQuery property appears under layers\n",
    "view_layer = view_flc.layers[0]\n",
    "\n",
    "# Define a SQL query to filter out events past 1988\n",
    "view_def = {\"viewDefinitionQuery\" : \"year_ < 1988\"}\n",
    "\n",
    "# Update the definition to include the view definition query\n",
    "view_layer.manager.update_definition(view_def)‍‍‍‍‍‍‍‍‍‍‍‍‍‍‍‍‍‍‍‍‍‍‍‍‍‍‍‍‍‍‍‍‍‍‍‍‍‍‍‍‍‍‍‍‍‍‍‍‍‍‍‍‍‍‍‍‍‍‍‍‍‍‍‍‍‍‍‍‍‍‍‍‍‍‍‍‍‍‍‍‍‍‍‍‍‍‍‍‍‍‍‍‍‍‍‍‍‍‍‍‍‍‍‍‍‍‍‍\n",
    "view_layer"
   ]
  },
  {
   "cell_type": "markdown",
   "metadata": {},
   "source": [
    "### Standalone script"
   ]
  },
  {
   "cell_type": "code",
   "execution_count": null,
   "metadata": {},
   "outputs": [],
   "source": [
    "import sys\n",
    "from arcgis import GIS\n",
    "from arcgis.features import FeatureLayerCollection\n",
    "\n",
    "def search_layer(conn,layer_name):\n",
    "    search_results = conn.content.search(layer_name, item_type=\"Feature Layer\")\n",
    "    proper_index = [i for i, s in enumerate(search_results) \n",
    "                    if '\"' + layer_name + '\"' in str(s)]\n",
    "    found_item = search_results[proper_index[0]]\n",
    "    flc = FeatureLayerCollection.fromitem(found_item)\n",
    "    return flc\n",
    "\n",
    "def create_view(conn, source_flc, view_name, layer_index, view_def):\n",
    "    new_view = source_flc.manager.create_view(name=view_name)\n",
    "    # Search for newly created View\n",
    "    view_flc = search_layer(conn, view_name)\n",
    "    # The viewDefinitionQuery property appears under layers\n",
    "    view_layer = view_flc.layers[layer_index]\n",
    "    # Update the definition to include the view definition query\n",
    "    view_layer.manager.update_definition(view_def)\n",
    "    print(\"View created\")\n",
    "\n",
    "def main():\n",
    "    conn = gis\n",
    "    # Index of the Layer to be filtered\n",
    "    layer_index = 0\n",
    "    # Define a SQL query to filter out events past 1988\n",
    "    view_def = {\"viewDefinitionQuery\" : \"year_ < 1988\"}\n",
    "    # Search for target Hosted Feature Layer\n",
    "    source_flc = search_layer(conn, \"world_earthquakes\")\n",
    "    # Create View from Hosted Feature Layer\n",
    "    create_view(conn, source_flc, \"worldEQView\", layer_index, view_def)\n",
    "\n",
    "if __name__ == '__main__':\n",
    "    sys.exit(main())‍‍‍‍‍‍‍‍‍‍‍‍‍‍‍‍‍‍‍‍‍‍‍‍‍‍‍‍‍‍‍‍‍‍‍‍‍‍‍‍‍‍‍‍‍‍‍‍‍‍‍‍‍‍‍‍‍‍‍‍‍‍‍‍‍‍‍‍‍‍‍‍‍‍‍‍‍‍‍‍‍‍‍‍‍‍‍‍‍‍‍‍‍‍‍‍‍‍‍‍‍‍‍‍‍‍‍‍‍‍‍‍‍‍‍‍‍‍‍‍‍‍‍‍‍‍‍‍‍‍‍‍‍‍‍‍‍‍‍‍‍‍‍‍‍‍‍‍‍‍‍‍‍‍‍‍‍‍‍‍‍‍‍‍‍‍‍‍‍‍‍‍‍‍‍‍‍‍‍‍‍‍‍‍‍‍‍‍‍‍‍‍‍‍‍‍‍‍‍‍‍‍‍‍‍‍‍‍‍‍‍‍‍‍‍‍‍‍‍‍‍‍‍‍‍‍‍‍‍‍‍‍‍‍‍‍‍‍‍‍‍‍‍‍‍‍‍‍‍‍‍‍‍‍‍‍‍‍‍‍‍‍‍‍‍‍‍‍‍‍‍‍‍‍‍‍‍‍‍‍‍‍‍‍‍‍‍‍‍‍‍‍‍‍‍‍‍‍‍‍‍‍‍‍‍‍‍‍‍‍‍‍‍‍‍‍‍‍‍‍‍‍‍‍‍‍‍‍‍‍‍‍‍‍‍‍‍‍‍‍‍‍‍‍‍‍‍‍‍‍‍‍‍‍‍‍‍‍‍‍‍‍‍‍‍‍‍‍‍‍‍‍‍‍‍‍‍‍‍‍‍‍‍‍‍\n",
    "\n"
   ]
  },
  {
   "cell_type": "code",
   "execution_count": null,
   "metadata": {},
   "outputs": [],
   "source": [
    "view_def = {\"viewLayerDefinition\":{\"filter\":   \n",
    "{\"operator\":\"esriSpatialRelIntersects\",\"value\":\n",
    "{\"geometryType\":\"esriGeometryEnvelope\",\"geometry\":\n",
    "{\"xmin\":4485937.7074932605,\"ymin\":1543545.165101517,\n",
    "\"xmax\":9417043.276225261,\"ymax\":6239836.182941515,\n",
    "\"spatialReference\":{\"wkid\":102100,\"latestWkid\":3857}}}}}}\n",
    "\n",
    "view_layer.manager.update_definition(update_dict)\n",
    "view_layer"
   ]
  },
  {
   "cell_type": "code",
   "execution_count": null,
   "metadata": {},
   "outputs": [],
   "source": [
    "## connect to AGOL\n",
    "agol = gis\n",
    "\n",
    "## get the feature service you want to create a view from\n",
    "item = agol.content.get(\"FS_ID\")\n",
    "\n",
    "## turn item to a FeatureLayerCollection object\n",
    "flc = FeatureLayerCollection.fromitem(item)\n",
    "\n",
    "## get boundary of area of interest from another feature service\n",
    "aoi_record = agol.content.get(\"OTHER_FS_ID\").layers[0].query(where=\"STATE_NAME='VA'\")\n",
    "\n",
    "## get srs of aoi\n",
    "srs = aoi_record.spatial_reference\n",
    "\n",
    "## get geometry of aoi boundary\n",
    "view_geom = aoi_record.features[0].geometry.get('rings')\n",
    "\n",
    "## create view\n",
    "view = flc.manager.create_view(name=\"OUTPUT_VIEW_NAME\")\n",
    "\n",
    "## get layer to apply the extent filter to\n",
    "lyr = view.layers[0]\n",
    "\n",
    "## dictionary with extent filter details\n",
    "update_dict = {\n",
    "    \"viewLayerDefinition\" : {\n",
    "        \"filter\" : {\n",
    "            \"operator\" : \"esriSpatialRelContains\",\n",
    "            \"value\" : {\n",
    "                \"geometryType\" : \"esriGeometryPolygon\",\n",
    "                \"geometry\" : {\n",
    "                    \"rings\": view_geom,\n",
    "                    \"spatialReference\":srs\n",
    "                }\n",
    "            }\n",
    "        }\n",
    "    }\n",
    "}\n",
    "\n",
    "## apply extent filter\n",
    "print(lyr.manager.update_definition(update_dict))"
   ]
  },
  {
   "cell_type": "code",
   "execution_count": null,
   "metadata": {},
   "outputs": [],
   "source": [
    "my_agol = gis\n",
    "# The Hosted Feature Layer containing a countrywide dataset \n",
    "police_stations = my_agol.content.get('<itemID>')\n",
    "police_stations_flc = FeatureLayerCollection.fromitem(police_stations)\n",
    "\n",
    "# The Hosted Feature Layer containing the regional division\n",
    "provinces = my_agol.content.get('<itemID>').layers[0].query()\n",
    "\n",
    "# Get the Spatial Reference\n",
    "spat_ref = provinces.spatial_reference\n",
    "\n",
    "# Loop through the regional division to create the views\n",
    "for index, province in enumerate(provinces):\n",
    "    prov_name = provinces.features[index].attributes['Provincienaam'].upper().replace('-','_')\n",
    "    print(prov_name)\n",
    "    view_name = police_stations.name + \"_\" + prov_name + \"_View\"\n",
    "    print(view_name)\n",
    "    # Get the geometry for the regions\n",
    "    view_geom = provinces.features[index].geometry.get('rings')\n",
    "    new_view = police_stations_flc.manager.create_view(name=view_name)\n",
    "\n",
    "    # Search for newly created View\n",
    "    view_search = my_agol.content.search(view_name)[0]\n",
    "    view_flc = FeatureLayerCollection.fromitem(view_search)\n",
    "\n",
    "    service_layer = view_flc.layers[0]\n",
    "\n",
    "    # Populate the update_dict with the geometry and the spatial reference\n",
    "    update_dict = {\"viewLayerDefinition\":{\"filter\":   \n",
    "    {\"operator\":\"esriSpatialRelContains\",\"value\":\n",
    "    {\"geometryType\":\"esriGeometryPolygon\",\"geometry\":\n",
    "    {\"rings\": view_geom,\n",
    "    \"spatialReference\":spat_ref}}}}}\n",
    "\n",
    "    # Update the definition to include the Area of Interest\n",
    "    service_layer.manager.update_definition(update_dict)\n",
    "\n",
    "print('Done!')‍‍‍‍‍‍‍‍‍‍‍‍‍‍‍‍‍‍‍‍‍‍‍‍‍‍‍‍‍‍‍‍‍‍‍‍‍‍‍‍‍‍‍‍‍‍‍‍‍‍‍‍‍‍‍‍‍‍‍‍‍‍‍‍‍‍‍‍‍‍‍‍‍‍‍‍‍‍‍‍‍‍‍‍‍‍‍‍‍‍‍‍‍‍‍‍‍‍‍‍‍‍‍‍‍‍‍‍‍‍‍‍‍‍‍‍‍‍‍‍‍‍‍‍‍‍‍‍‍‍‍‍‍‍‍‍‍‍‍‍‍‍‍‍‍‍‍‍‍‍‍‍‍‍‍‍‍‍‍‍‍‍‍‍‍‍‍‍‍‍‍‍‍‍‍‍‍‍‍‍‍‍‍‍‍‍‍‍‍‍‍‍‍‍‍‍‍‍‍‍‍‍‍‍‍‍‍‍‍‍‍‍‍‍‍‍‍‍‍‍‍‍‍‍‍‍‍‍‍‍‍‍‍‍‍‍‍‍‍‍‍‍‍‍‍‍‍‍‍‍‍‍‍‍‍‍‍‍‍‍‍‍‍‍‍‍‍‍‍‍‍‍‍‍‍‍‍‍‍‍‍‍‍‍‍‍‍‍‍‍‍‍‍‍‍‍‍‍‍‍‍‍‍‍‍‍‍‍‍‍‍‍‍‍‍‍‍‍‍‍‍‍‍‍‍‍‍‍‍‍‍‍‍‍‍‍"
   ]
  }
 ],
 "metadata": {
  "kernelspec": {
   "display_name": "Python 3 (ipykernel)",
   "language": "python",
   "name": "python3"
  },
  "language_info": {
   "codemirror_mode": {
    "name": "ipython",
    "version": 3
   },
   "file_extension": ".py",
   "mimetype": "text/x-python",
   "name": "python",
   "nbconvert_exporter": "python",
   "pygments_lexer": "ipython3",
   "version": "3.9.16"
  }
 },
 "nbformat": 4,
 "nbformat_minor": 2
}
