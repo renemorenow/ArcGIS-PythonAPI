{
 "cells": [
  {
   "cell_type": "markdown",
   "metadata": {},
   "source": [
    "# Spatially Enabled DataFrames - Advanced Topics\n",
    "[guide](https://developers.arcgis.com/python/guide/spatially-enabled-dataframe-advanced-topics/)\n",
    "\n",
    "The information in this section provides a brief introduction to advanced topics with the `Spatially Enabled DataFrame` structure.  \n",
    "\n",
    "One of the most important tasks for software applications is to quickly retrieve and process information. Enterprise systems, whether storing GIS information or not, all utilize the concept of indexing to allow for quick searching through large data stores to locate and select specific information for subsequent processing. \n",
    "\n",
    "This document will outline how row and column indexing work in Spatially Enabled Dataframes and also demonstrate building a spatial index on dataframe geometries to allow for quick searching, accessing, and processing. The document will also demonstrate spatial joins to combine dataframes."
   ]
  },
  {
   "cell_type": "markdown",
   "metadata": {
    "toc": true
   },
   "source": [
    "<h1>Table of Contents<span class=\"tocSkip\"></span></h1>\n",
    "<div class=\"toc\"><ul class=\"toc-item\"><li><span><a href=\"#Spatially-Enabled-DataFrames---Advanced-Topics\" data-toc-modified-id=\"Spatially-Enabled-DataFrames---Advanced-Topics-1\"><span class=\"toc-item-num\">1&nbsp;&nbsp;</span>Spatially Enabled DataFrames - Advanced Topics</a></span><ul class=\"toc-item\"><li><span><a href=\"#DataFrame-Index\" data-toc-modified-id=\"DataFrame-Index-1.1\"><span class=\"toc-item-num\">1.1&nbsp;&nbsp;</span>DataFrame Index</a></span></li><li><span><a href=\"#Describing-the-DataFrame\" data-toc-modified-id=\"Describing-the-DataFrame-1.2\"><span class=\"toc-item-num\">1.2&nbsp;&nbsp;</span>Describing the DataFrame</a></span><ul class=\"toc-item\"><li><span><a href=\"#Example:-Displaying-info-on-Spatially-Enabled-DataFrame-(SEDF)\" data-toc-modified-id=\"Example:-Displaying-info-on-Spatially-Enabled-DataFrame-(SEDF)-1.2.1\"><span class=\"toc-item-num\">1.2.1&nbsp;&nbsp;</span>Example: Displaying info on Spatially Enabled DataFrame (SEDF)</a></span></li><li><span><a href=\"#Slicing-DataFrames\" data-toc-modified-id=\"Slicing-DataFrames-1.2.2\"><span class=\"toc-item-num\">1.2.2&nbsp;&nbsp;</span>Slicing DataFrames</a></span></li></ul></li><li><span><a href=\"#Spatial-Index\" data-toc-modified-id=\"Spatial-Index-1.3\"><span class=\"toc-item-num\">1.3&nbsp;&nbsp;</span>Spatial Index</a></span></li><li><span><a href=\"#Intersection-with-the-Spatial-Index\" data-toc-modified-id=\"Intersection-with-the-Spatial-Index-1.4\"><span class=\"toc-item-num\">1.4&nbsp;&nbsp;</span>Intersection with the Spatial Index</a></span></li><li><span><a href=\"#Spatial-Joins\" data-toc-modified-id=\"Spatial-Joins-1.5\"><span class=\"toc-item-num\">1.5&nbsp;&nbsp;</span>Spatial Joins</a></span><ul class=\"toc-item\"><li><ul class=\"toc-item\"><li><span><a href=\"#Example:-Merging-State-Statistics-Information-with-Cities\" data-toc-modified-id=\"Example:-Merging-State-Statistics-Information-with-Cities-1.5.0.1\"><span class=\"toc-item-num\">1.5.0.1&nbsp;&nbsp;</span>Example: Merging State Statistics Information with Cities</a></span></li></ul></li></ul></li><li><span><a href=\"#Conclusion\" data-toc-modified-id=\"Conclusion-1.6\"><span class=\"toc-item-num\">1.6&nbsp;&nbsp;</span>Conclusion</a></span></li></ul></li></ul></div>"
   ]
  },
  {
   "cell_type": "markdown",
   "metadata": {
    "heading_collapsed": true
   },
   "source": [
    "## DataFrame Index\n",
    "As mentioned in the [Introduction to the Spatially Enabled DataFrame guide](../introduction-to-the-spatially-enabled-dataframe), the Pandas [DataFrame structure](https://pandas.pydata.org/pandas-docs/stable/dsintro.html#dataframe) underlies the ArcGIS API for Python's Spatially Enabled DataFrame. Pandas DataFrames are analagous to spreadsheets. They have a row axis and a column axis. Each of these axes are indexed and labeled for quick and easy identification, data alignment, and retrieval and updating of data subsets.\n",
    "\n",
    "Let's explore the axes labels and indices and how they allow for data exploraation:"
   ]
  },
  {
   "cell_type": "code",
   "execution_count": 1,
   "metadata": {
    "hidden": true
   },
   "outputs": [],
   "source": [
    "from arcgis.gis import GIS\n",
    "gis = GIS()"
   ]
  },
  {
   "cell_type": "markdown",
   "metadata": {
    "hidden": true
   },
   "source": [
    "When working with an ArcGIS Online feature layer, the [`query()`](https://developers.arcgis.com/python/api-reference/arcgis.features.toc.html#arcgis.features.FeatureLayer.query) method returns a `FeatureSet` object which has a `sdf` method to instantiate a Spatially Enabled DataFrame."
   ]
  },
  {
   "cell_type": "code",
   "execution_count": 4,
   "metadata": {
    "hidden": true
   },
   "outputs": [
    {
     "data": {
      "text/html": [
       "<div class=\"item_container\" style=\"height: auto; overflow: hidden; border: 1px solid #cfcfcf; border-radius: 2px; background: #f6fafa; line-height: 1.21429em; padding: 10px;\">\n",
       "                    <div class=\"item_left\" style=\"width: 210px; float: left;\">\n",
       "                       <a href='https://www.arcgis.com/home/item.html?id=85d0ca4ea1ca4b9abf0c51b9bd34de2e' target='_blank'>\n",
       "                        <img src='https://www.arcgis.com/sharing/rest//content/items/85d0ca4ea1ca4b9abf0c51b9bd34de2e/info/thumbnail/thumbnail1578438561290.jpeg' class=\"itemThumbnail\">\n",
       "                       </a>\n",
       "                    </div>\n",
       "\n",
       "                    <div class=\"item_right\"     style=\"float: none; width: auto; overflow: hidden;\">\n",
       "                        <a href='https://www.arcgis.com/home/item.html?id=85d0ca4ea1ca4b9abf0c51b9bd34de2e' target='_blank'><b>USA Major Cities</b>\n",
       "                        </a>\n",
       "                        <br/>This layer presents the locations of cities within the United States with populations of approximately 10,000 or greater, all state capitals, and the national capital.<img src='https://www.arcgis.com/home/js/jsapi/esri/css/images/item_type_icons/featureshosted16.png' style=\"vertical-align:middle;\">Feature Layer Collection by esri_dm\n",
       "                        <br/>Last Modified: December 08, 2022\n",
       "                        <br/>3 comments, 39749425 views\n",
       "                    </div>\n",
       "                </div>\n",
       "                "
      ],
      "text/plain": [
       "<Item title:\"USA Major Cities\" type:Feature Layer Collection owner:esri_dm>"
      ]
     },
     "execution_count": 4,
     "metadata": {},
     "output_type": "execute_result"
    }
   ],
   "source": [
    "item = gis.content.get(\"85d0ca4ea1ca4b9abf0c51b9bd34de2e\")\n",
    "item"
   ]
  },
  {
   "cell_type": "code",
   "execution_count": 5,
   "metadata": {
    "hidden": true
   },
   "outputs": [
    {
     "data": {
      "text/html": [
       "<div>\n",
       "<style scoped>\n",
       "    .dataframe tbody tr th:only-of-type {\n",
       "        vertical-align: middle;\n",
       "    }\n",
       "\n",
       "    .dataframe tbody tr th {\n",
       "        vertical-align: top;\n",
       "    }\n",
       "\n",
       "    .dataframe thead th {\n",
       "        text-align: right;\n",
       "    }\n",
       "</style>\n",
       "<table border=\"1\" class=\"dataframe\">\n",
       "  <thead>\n",
       "    <tr style=\"text-align: right;\">\n",
       "      <th></th>\n",
       "      <th>FID</th>\n",
       "      <th>NAME</th>\n",
       "      <th>CLASS</th>\n",
       "      <th>ST</th>\n",
       "      <th>STFIPS</th>\n",
       "      <th>PLACEFIPS</th>\n",
       "      <th>CAPITAL</th>\n",
       "      <th>POP_CLASS</th>\n",
       "      <th>POPULATION</th>\n",
       "      <th>POP2010</th>\n",
       "      <th>...</th>\n",
       "      <th>MARHH_NO_C</th>\n",
       "      <th>MHH_CHILD</th>\n",
       "      <th>FHH_CHILD</th>\n",
       "      <th>FAMILIES</th>\n",
       "      <th>AVE_FAM_SZ</th>\n",
       "      <th>HSE_UNITS</th>\n",
       "      <th>VACANT</th>\n",
       "      <th>OWNER_OCC</th>\n",
       "      <th>RENTER_OCC</th>\n",
       "      <th>SHAPE</th>\n",
       "    </tr>\n",
       "  </thead>\n",
       "  <tbody>\n",
       "    <tr>\n",
       "      <th>0</th>\n",
       "      <td>1</td>\n",
       "      <td>Ammon</td>\n",
       "      <td>city</td>\n",
       "      <td>ID</td>\n",
       "      <td>16</td>\n",
       "      <td>1601990</td>\n",
       "      <td></td>\n",
       "      <td>6</td>\n",
       "      <td>15181</td>\n",
       "      <td>13816</td>\n",
       "      <td>...</td>\n",
       "      <td>1131</td>\n",
       "      <td>106</td>\n",
       "      <td>335</td>\n",
       "      <td>3352</td>\n",
       "      <td>3.61</td>\n",
       "      <td>4747</td>\n",
       "      <td>271</td>\n",
       "      <td>3205</td>\n",
       "      <td>1271</td>\n",
       "      <td>{\"x\": -12462673.723706165, \"y\": 5384674.994080...</td>\n",
       "    </tr>\n",
       "    <tr>\n",
       "      <th>1</th>\n",
       "      <td>2</td>\n",
       "      <td>Blackfoot</td>\n",
       "      <td>city</td>\n",
       "      <td>ID</td>\n",
       "      <td>16</td>\n",
       "      <td>1607840</td>\n",
       "      <td></td>\n",
       "      <td>6</td>\n",
       "      <td>11946</td>\n",
       "      <td>11899</td>\n",
       "      <td>...</td>\n",
       "      <td>1081</td>\n",
       "      <td>174</td>\n",
       "      <td>381</td>\n",
       "      <td>2958</td>\n",
       "      <td>3.31</td>\n",
       "      <td>4547</td>\n",
       "      <td>318</td>\n",
       "      <td>2788</td>\n",
       "      <td>1441</td>\n",
       "      <td>{\"x\": -12506251.313993266, \"y\": 5341537.793529...</td>\n",
       "    </tr>\n",
       "    <tr>\n",
       "      <th>2</th>\n",
       "      <td>4</td>\n",
       "      <td>Burley</td>\n",
       "      <td>city</td>\n",
       "      <td>ID</td>\n",
       "      <td>16</td>\n",
       "      <td>1611260</td>\n",
       "      <td></td>\n",
       "      <td>6</td>\n",
       "      <td>10727</td>\n",
       "      <td>10345</td>\n",
       "      <td>...</td>\n",
       "      <td>861</td>\n",
       "      <td>139</td>\n",
       "      <td>358</td>\n",
       "      <td>2499</td>\n",
       "      <td>3.37</td>\n",
       "      <td>3885</td>\n",
       "      <td>241</td>\n",
       "      <td>2183</td>\n",
       "      <td>1461</td>\n",
       "      <td>{\"x\": -12667411.402393516, \"y\": 5241722.820606...</td>\n",
       "    </tr>\n",
       "    <tr>\n",
       "      <th>3</th>\n",
       "      <td>6</td>\n",
       "      <td>Chubbuck</td>\n",
       "      <td>city</td>\n",
       "      <td>ID</td>\n",
       "      <td>16</td>\n",
       "      <td>1614680</td>\n",
       "      <td></td>\n",
       "      <td>6</td>\n",
       "      <td>14655</td>\n",
       "      <td>13922</td>\n",
       "      <td>...</td>\n",
       "      <td>1281</td>\n",
       "      <td>172</td>\n",
       "      <td>370</td>\n",
       "      <td>3586</td>\n",
       "      <td>3.4</td>\n",
       "      <td>4961</td>\n",
       "      <td>229</td>\n",
       "      <td>3324</td>\n",
       "      <td>1408</td>\n",
       "      <td>{\"x\": -12520053.904151963, \"y\": 5300220.333409...</td>\n",
       "    </tr>\n",
       "    <tr>\n",
       "      <th>4</th>\n",
       "      <td>12</td>\n",
       "      <td>Jerome</td>\n",
       "      <td>city</td>\n",
       "      <td>ID</td>\n",
       "      <td>16</td>\n",
       "      <td>1641320</td>\n",
       "      <td></td>\n",
       "      <td>6</td>\n",
       "      <td>11403</td>\n",
       "      <td>10890</td>\n",
       "      <td>...</td>\n",
       "      <td>779</td>\n",
       "      <td>210</td>\n",
       "      <td>385</td>\n",
       "      <td>2640</td>\n",
       "      <td>3.44</td>\n",
       "      <td>3985</td>\n",
       "      <td>292</td>\n",
       "      <td>2219</td>\n",
       "      <td>1474</td>\n",
       "      <td>{\"x\": -12747828.64784961, \"y\": 5269214.8197742...</td>\n",
       "    </tr>\n",
       "  </tbody>\n",
       "</table>\n",
       "<p>5 rows × 50 columns</p>\n",
       "</div>"
      ],
      "text/plain": [
       "   FID       NAME CLASS  ST STFIPS PLACEFIPS CAPITAL  POP_CLASS  POPULATION  \\\n",
       "0    1      Ammon  city  ID     16   1601990                  6       15181   \n",
       "1    2  Blackfoot  city  ID     16   1607840                  6       11946   \n",
       "2    4     Burley  city  ID     16   1611260                  6       10727   \n",
       "3    6   Chubbuck  city  ID     16   1614680                  6       14655   \n",
       "4   12     Jerome  city  ID     16   1641320                  6       11403   \n",
       "\n",
       "   POP2010  ...  MARHH_NO_C  MHH_CHILD  FHH_CHILD  FAMILIES  AVE_FAM_SZ  \\\n",
       "0    13816  ...        1131        106        335      3352        3.61   \n",
       "1    11899  ...        1081        174        381      2958        3.31   \n",
       "2    10345  ...         861        139        358      2499        3.37   \n",
       "3    13922  ...        1281        172        370      3586         3.4   \n",
       "4    10890  ...         779        210        385      2640        3.44   \n",
       "\n",
       "   HSE_UNITS  VACANT  OWNER_OCC  RENTER_OCC  \\\n",
       "0       4747     271       3205        1271   \n",
       "1       4547     318       2788        1441   \n",
       "2       3885     241       2183        1461   \n",
       "3       4961     229       3324        1408   \n",
       "4       3985     292       2219        1474   \n",
       "\n",
       "                                               SHAPE  \n",
       "0  {\"x\": -12462673.723706165, \"y\": 5384674.994080...  \n",
       "1  {\"x\": -12506251.313993266, \"y\": 5341537.793529...  \n",
       "2  {\"x\": -12667411.402393516, \"y\": 5241722.820606...  \n",
       "3  {\"x\": -12520053.904151963, \"y\": 5300220.333409...  \n",
       "4  {\"x\": -12747828.64784961, \"y\": 5269214.8197742...  \n",
       "\n",
       "[5 rows x 50 columns]"
      ]
     },
     "execution_count": 5,
     "metadata": {},
     "output_type": "execute_result"
    }
   ],
   "source": [
    "flayer = item.layers[0]\n",
    "df = flayer.query(where=\"AGE_45_54 < 1500\").sdf\n",
    "df.head()"
   ]
  },
  {
   "cell_type": "markdown",
   "metadata": {
    "heading_collapsed": true
   },
   "source": [
    "## Describing the DataFrame\n",
    "\n",
    "The `DataFrame.info()` provides a concise summary of the object. This method prints information about a DataFrame including the index dtype and column dtypes, non-null values and memory usage.\n",
    "\n",
    "### Example: Displaying info on Spatially Enabled DataFrame (SEDF)"
   ]
  },
  {
   "cell_type": "code",
   "execution_count": 3,
   "metadata": {
    "hidden": true
   },
   "outputs": [
    {
     "name": "stdout",
     "output_type": "stream",
     "text": [
      "<class 'pandas.core.frame.DataFrame'>\n",
      "RangeIndex: 317 entries, 0 to 316\n",
      "Data columns (total 51 columns):\n",
      "AGE_10_14     317 non-null int64\n",
      "AGE_15_19     317 non-null int64\n",
      "AGE_20_24     317 non-null int64\n",
      "AGE_25_34     317 non-null int64\n",
      "AGE_35_44     317 non-null int64\n",
      "AGE_45_54     317 non-null int64\n",
      "AGE_55_64     317 non-null int64\n",
      "AGE_5_9       317 non-null int64\n",
      "AGE_65_74     317 non-null int64\n",
      "AGE_75_84     317 non-null int64\n",
      "AGE_85_UP     317 non-null int64\n",
      "AGE_UNDER5    317 non-null int64\n",
      "AMERI_ES      317 non-null int64\n",
      "ASIAN         317 non-null int64\n",
      "AVE_FAM_SZ    317 non-null float64\n",
      "AVE_HH_SZ     317 non-null float64\n",
      "BLACK         317 non-null int64\n",
      "CAPITAL       317 non-null object\n",
      "CLASS         317 non-null object\n",
      "FAMILIES      317 non-null int64\n",
      "FEMALES       317 non-null int64\n",
      "FHH_CHILD     317 non-null int64\n",
      "FID           317 non-null int64\n",
      "HAWN_PI       317 non-null int64\n",
      "HISPANIC      317 non-null int64\n",
      "HOUSEHOLDS    317 non-null int64\n",
      "HSEHLD_1_F    317 non-null int64\n",
      "HSEHLD_1_M    317 non-null int64\n",
      "HSE_UNITS     317 non-null int64\n",
      "MALES         317 non-null int64\n",
      "MARHH_CHD     317 non-null int64\n",
      "MARHH_NO_C    317 non-null int64\n",
      "MED_AGE       317 non-null float64\n",
      "MED_AGE_F     317 non-null float64\n",
      "MED_AGE_M     317 non-null float64\n",
      "MHH_CHILD     317 non-null int64\n",
      "MULT_RACE     317 non-null int64\n",
      "NAME          317 non-null object\n",
      "OBJECTID      317 non-null int64\n",
      "OTHER         317 non-null int64\n",
      "OWNER_OCC     317 non-null int64\n",
      "PLACEFIPS     317 non-null object\n",
      "POP2010       317 non-null int64\n",
      "POPULATION    317 non-null int64\n",
      "POP_CLASS     317 non-null int64\n",
      "RENTER_OCC    317 non-null int64\n",
      "SHAPE         317 non-null geometry\n",
      "ST            317 non-null object\n",
      "STFIPS        317 non-null object\n",
      "VACANT        317 non-null int64\n",
      "WHITE         317 non-null int64\n",
      "dtypes: float64(5), geometry(1), int64(39), object(6)\n",
      "memory usage: 126.4+ KB\n"
     ]
    }
   ],
   "source": [
    "df.info()"
   ]
  },
  {
   "cell_type": "markdown",
   "metadata": {
    "hidden": true
   },
   "source": [
    "We can see that the `SHAPE` column is of type `geometry`.  This means that compared to the legacy `SpatialDataFrame` class, geometry columns are now unique instead of being just of type `object`.\n",
    "\n",
    "We can get information about each axis label (aka, `index`) with the `axes` property on the spatial dataframe."
   ]
  },
  {
   "cell_type": "code",
   "execution_count": 4,
   "metadata": {
    "hidden": true
   },
   "outputs": [
    {
     "name": "stdout",
     "output_type": "stream",
     "text": [
      "Row axis:      RangeIndex(start=0, stop=317, step=1)\n",
      "\n",
      "Column axis: Index(['AGE_10_14', 'AGE_15_19', 'AGE_20_24', 'AGE_25_34', 'AGE_35_44',\n",
      "       'AGE_45_54', 'AGE_55_64', 'AGE_5_9', 'AGE_65_74', 'AGE_75_84',\n",
      "       'AGE_85_UP', 'AGE_UNDER5', 'AMERI_ES', 'ASIAN', 'AVE_FAM_SZ',\n",
      "       'AVE_HH_SZ', 'BLACK', 'CAPITAL', 'CLASS', 'FAMILIES', 'FEMALES',\n",
      "       'FHH_CHILD', 'FID', 'HAWN_PI', 'HISPANIC', 'HOUSEHOLDS', 'HSEHLD_1_F',\n",
      "       'HSEHLD_1_M', 'HSE_UNITS', 'MALES', 'MARHH_CHD', 'MARHH_NO_C',\n",
      "       'MED_AGE', 'MED_AGE_F', 'MED_AGE_M', 'MHH_CHILD', 'MULT_RACE', 'NAME',\n",
      "       'OBJECTID', 'OTHER', 'OWNER_OCC', 'PLACEFIPS', 'POP2010', 'POPULATION',\n",
      "       'POP_CLASS', 'RENTER_OCC', 'SHAPE', 'ST', 'STFIPS', 'VACANT', 'WHITE'],\n",
      "      dtype='object')\n"
     ]
    }
   ],
   "source": [
    "print(\"{:<15}{}\\n\\n{}{}\".format(\"Row axis: \", df.axes[0], \"Column axis: \", df.axes[1]))"
   ]
  },
  {
   "cell_type": "markdown",
   "metadata": {
    "hidden": true
   },
   "source": [
    "Row axis information informs us we can retrieve information using the the dataframe [`loc`](https://pandas.pydata.org/pandas-docs/stable/generated/pandas.DataFrame.loc.html#pandas.DataFrame.loc) attribute and any value in the range 0-317 inclusive to access a row. Column axis information tells us we can use any string in the index to return an attribute column:"
   ]
  },
  {
   "cell_type": "code",
   "execution_count": 5,
   "metadata": {
    "hidden": true,
    "scrolled": false
   },
   "outputs": [
    {
     "data": {
      "text/plain": [
       "AGE_10_14                                                  1413\n",
       "AGE_15_19                                                  1381\n",
       "AGE_20_24                                                  1106\n",
       "AGE_25_34                                                  2138\n",
       "AGE_35_44                                                  1815\n",
       "AGE_45_54                                                  1411\n",
       "AGE_55_64                                                   979\n",
       "AGE_5_9                                                    1557\n",
       "AGE_65_74                                                   525\n",
       "AGE_75_84                                                   307\n",
       "AGE_85_UP                                                    93\n",
       "AGE_UNDER5                                                 1562\n",
       "AMERI_ES                                                    112\n",
       "ASIAN                                                        55\n",
       "AVE_FAM_SZ                                                 3.99\n",
       "AVE_HH_SZ                                                  3.77\n",
       "BLACK                                                       122\n",
       "CAPITAL                                                        \n",
       "CLASS                                                      city\n",
       "FAMILIES                                                   3352\n",
       "FEMALES                                                    7385\n",
       "FHH_CHILD                                                   672\n",
       "FID                                                           6\n",
       "HAWN_PI                                                       8\n",
       "HISPANIC                                                  13708\n",
       "HOUSEHOLDS                                                 3791\n",
       "HSEHLD_1_F                                                  227\n",
       "HSEHLD_1_M                                                  207\n",
       "HSE_UNITS                                                  4052\n",
       "MALES                                                      6902\n",
       "MARHH_CHD                                                  1621\n",
       "MARHH_NO_C                                                  673\n",
       "MED_AGE                                                    25.5\n",
       "MED_AGE_F                                                  26.8\n",
       "MED_AGE_M                                                  24.2\n",
       "MHH_CHILD                                                   188\n",
       "MULT_RACE                                                   345\n",
       "NAME                                                   Somerton\n",
       "OBJECTID                                                      6\n",
       "OTHER                                                      4449\n",
       "OWNER_OCC                                                  2717\n",
       "PLACEFIPS                                               0468080\n",
       "POP2010                                                   14287\n",
       "POPULATION                                                14980\n",
       "POP_CLASS                                                     6\n",
       "RENTER_OCC                                                 1074\n",
       "SHAPE         {'x': -12768343.256613126, 'y': 3842463.708135...\n",
       "ST                                                           AZ\n",
       "STFIPS                                                       04\n",
       "VACANT                                                      261\n",
       "WHITE                                                      9196\n",
       "Name: 0, dtype: object"
      ]
     },
     "execution_count": 5,
     "metadata": {},
     "output_type": "execute_result"
    }
   ],
   "source": [
    "df.loc[0] #the first row returned"
   ]
  },
  {
   "cell_type": "code",
   "execution_count": 6,
   "metadata": {
    "hidden": true
   },
   "outputs": [
    {
     "data": {
      "text/plain": [
       "0      14287\n",
       "1       9932\n",
       "2      10616\n",
       "3      10866\n",
       "4      12823\n",
       "5      10755\n",
       "6      10080\n",
       "7      10334\n",
       "8      10588\n",
       "9      10648\n",
       "10     11570\n",
       "11     23096\n",
       "12     13544\n",
       "13     12874\n",
       "14     16192\n",
       "15     10802\n",
       "16     11768\n",
       "17     13058\n",
       "18     12707\n",
       "19     11014\n",
       "20     10234\n",
       "21      9675\n",
       "22     10644\n",
       "23     10224\n",
       "24     14494\n",
       "25     10471\n",
       "26     10127\n",
       "27     11211\n",
       "28     11602\n",
       "29     29589\n",
       "       ...  \n",
       "287    10687\n",
       "288     9840\n",
       "289    11545\n",
       "290    13975\n",
       "291    10465\n",
       "292    42034\n",
       "293    10372\n",
       "294    10568\n",
       "295    18461\n",
       "296    10461\n",
       "297     9845\n",
       "298    14068\n",
       "299    13816\n",
       "300    11899\n",
       "301    10345\n",
       "302    13922\n",
       "303    25484\n",
       "304    10494\n",
       "305     9577\n",
       "306    10615\n",
       "307    10600\n",
       "308    11070\n",
       "309    13431\n",
       "310    10060\n",
       "311    10869\n",
       "312    10125\n",
       "313    11196\n",
       "314    10697\n",
       "315    12764\n",
       "316    10571\n",
       "Name: POP2010, Length: 317, dtype: int64"
      ]
     },
     "execution_count": 6,
     "metadata": {},
     "output_type": "execute_result"
    }
   ],
   "source": [
    "df['POP2010'] #the data from the `POP2010` attribute column"
   ]
  },
  {
   "cell_type": "markdown",
   "metadata": {
    "heading_collapsed": true,
    "hidden": true
   },
   "source": [
    "### Slicing DataFrames\n",
    "We can access rows, columns and subsets of rows and columns using Python slicing:"
   ]
  },
  {
   "cell_type": "code",
   "execution_count": 7,
   "metadata": {
    "hidden": true
   },
   "outputs": [
    {
     "data": {
      "text/html": [
       "<div>\n",
       "<style scoped>\n",
       "    .dataframe tbody tr th:only-of-type {\n",
       "        vertical-align: middle;\n",
       "    }\n",
       "\n",
       "    .dataframe tbody tr th {\n",
       "        vertical-align: top;\n",
       "    }\n",
       "\n",
       "    .dataframe thead th {\n",
       "        text-align: right;\n",
       "    }\n",
       "</style>\n",
       "<table border=\"1\" class=\"dataframe\">\n",
       "  <thead>\n",
       "    <tr style=\"text-align: right;\">\n",
       "      <th></th>\n",
       "      <th>OBJECTID</th>\n",
       "      <th>NAME</th>\n",
       "      <th>ST</th>\n",
       "      <th>POP2010</th>\n",
       "      <th>POPULATION</th>\n",
       "    </tr>\n",
       "  </thead>\n",
       "  <tbody>\n",
       "    <tr>\n",
       "      <th>0</th>\n",
       "      <td>6</td>\n",
       "      <td>Somerton</td>\n",
       "      <td>AZ</td>\n",
       "      <td>14287</td>\n",
       "      <td>14980</td>\n",
       "    </tr>\n",
       "    <tr>\n",
       "      <th>1</th>\n",
       "      <td>20</td>\n",
       "      <td>Anderson</td>\n",
       "      <td>CA</td>\n",
       "      <td>9932</td>\n",
       "      <td>10239</td>\n",
       "    </tr>\n",
       "    <tr>\n",
       "      <th>2</th>\n",
       "      <td>67</td>\n",
       "      <td>Camp Pendleton South</td>\n",
       "      <td>CA</td>\n",
       "      <td>10616</td>\n",
       "      <td>11869</td>\n",
       "    </tr>\n",
       "    <tr>\n",
       "      <th>3</th>\n",
       "      <td>85</td>\n",
       "      <td>Citrus</td>\n",
       "      <td>CA</td>\n",
       "      <td>10866</td>\n",
       "      <td>11195</td>\n",
       "    </tr>\n",
       "    <tr>\n",
       "      <th>4</th>\n",
       "      <td>94</td>\n",
       "      <td>Commerce</td>\n",
       "      <td>CA</td>\n",
       "      <td>12823</td>\n",
       "      <td>13009</td>\n",
       "    </tr>\n",
       "    <tr>\n",
       "      <th>5</th>\n",
       "      <td>113</td>\n",
       "      <td>Delhi</td>\n",
       "      <td>CA</td>\n",
       "      <td>10755</td>\n",
       "      <td>11336</td>\n",
       "    </tr>\n",
       "    <tr>\n",
       "      <th>6</th>\n",
       "      <td>139</td>\n",
       "      <td>Emeryville</td>\n",
       "      <td>CA</td>\n",
       "      <td>10080</td>\n",
       "      <td>11010</td>\n",
       "    </tr>\n",
       "    <tr>\n",
       "      <th>7</th>\n",
       "      <td>143</td>\n",
       "      <td>Exeter</td>\n",
       "      <td>CA</td>\n",
       "      <td>10334</td>\n",
       "      <td>10642</td>\n",
       "    </tr>\n",
       "    <tr>\n",
       "      <th>8</th>\n",
       "      <td>148</td>\n",
       "      <td>Farmersville</td>\n",
       "      <td>CA</td>\n",
       "      <td>10588</td>\n",
       "      <td>10768</td>\n",
       "    </tr>\n",
       "    <tr>\n",
       "      <th>9</th>\n",
       "      <td>164</td>\n",
       "      <td>Garden Acres</td>\n",
       "      <td>CA</td>\n",
       "      <td>10648</td>\n",
       "      <td>10708</td>\n",
       "    </tr>\n",
       "  </tbody>\n",
       "</table>\n",
       "</div>"
      ],
      "text/plain": [
       "   OBJECTID                  NAME  ST  POP2010  POPULATION\n",
       "0         6              Somerton  AZ    14287       14980\n",
       "1        20              Anderson  CA     9932       10239\n",
       "2        67  Camp Pendleton South  CA    10616       11869\n",
       "3        85                Citrus  CA    10866       11195\n",
       "4        94              Commerce  CA    12823       13009\n",
       "5       113                 Delhi  CA    10755       11336\n",
       "6       139            Emeryville  CA    10080       11010\n",
       "7       143                Exeter  CA    10334       10642\n",
       "8       148          Farmersville  CA    10588       10768\n",
       "9       164          Garden Acres  CA    10648       10708"
      ]
     },
     "execution_count": 7,
     "metadata": {},
     "output_type": "execute_result"
    }
   ],
   "source": [
    "#rows 0-9 with a subset of columns indexed as a list\n",
    "df.loc[0:9][['OBJECTID', 'NAME', 'ST', 'POP2010', 'POPULATION']]"
   ]
  },
  {
   "cell_type": "markdown",
   "metadata": {
    "hidden": true
   },
   "source": [
    "We can use indexing to access `SHAPE` information and draw it on a map:"
   ]
  },
  {
   "cell_type": "code",
   "execution_count": 17,
   "metadata": {
    "hidden": true
   },
   "outputs": [
    {
     "data": {
      "image/svg+xml": [
       "<svg xmlns=\"http://www.w3.org/2000/svg\" xmlns:xlink=\"http://www.w3.org/1999/xlink\" width=\"100.0\" height=\"100.0\" viewBox=\"-12667412.402393516 5241721.82060674 2.0 2.0\" preserveAspectRatio=\"xMinYMin meet\"><g transform=\"matrix(1,0,0,-1,0,10483445.64121348)\"><circle cx=\"-12667411.402393516\" cy=\"5241722.82060674\" r=\"0.06\" stroke=\"#555555\" stroke-width=\"0.02\" fill=\"#66cc99\" opacity=\"0.6\" /></g></svg>"
      ],
      "text/plain": [
       "{'x': -12667411.402393516,\n",
       " 'y': 5241722.82060674,\n",
       " 'spatialReference': {'wkid': 102100, 'latestWkid': 3857}}"
      ]
     },
     "execution_count": 17,
     "metadata": {},
     "output_type": "execute_result"
    }
   ],
   "source": [
    "camp_pendleton_s_geodefn = df.loc[2]['SHAPE'] #geometry definition from row 2\n",
    "camp_pendleton_s_geodefn"
   ]
  },
  {
   "cell_type": "code",
   "execution_count": 19,
   "metadata": {
    "hidden": true,
    "scrolled": true
   },
   "outputs": [
    {
     "data": {
      "application/vnd.jupyter.widget-view+json": {
       "model_id": "f977a18deeac4a2d9d2b2075458d6645",
       "version_major": 2,
       "version_minor": 0
      },
      "text/plain": [
       "MapView(layout=Layout(height='400px', width='100%'))"
      ]
     },
     "metadata": {},
     "output_type": "display_data"
    },
    {
     "data": {
      "text/html": [
       "<div class=\"map-static-img-preview-97c5e809-2e26-4a54-9776-c2f6e1edc0ef\"><img src=\"\"></img></div>"
      ],
      "text/plain": [
       "<IPython.core.display.HTML object>"
      ]
     },
     "metadata": {},
     "output_type": "display_data"
    },
    {
     "data": {
      "text/html": [
       "<div class=\"map-html-embed-preview-97c5e809-2e26-4a54-9776-c2f6e1edc0ef\"></div>"
      ],
      "text/plain": [
       "<IPython.core.display.HTML object>"
      ]
     },
     "metadata": {},
     "output_type": "display_data"
    }
   ],
   "source": [
    "m = gis.map(\"San Diego, CA\", 8)\n",
    "m"
   ]
  },
  {
   "cell_type": "markdown",
   "metadata": {
    "hidden": true
   },
   "source": [
    "![Camp Pendleton_South_pt](../../static/img/cps_pt_draw.png)"
   ]
  },
  {
   "cell_type": "code",
   "execution_count": 20,
   "metadata": {
    "hidden": true
   },
   "outputs": [],
   "source": [
    "m.draw(camp_pendleton_s_geodefn)"
   ]
  },
  {
   "cell_type": "markdown",
   "metadata": {
    "heading_collapsed": true
   },
   "source": [
    "## Spatial Index\n",
    "In addition to row and column indices to search a DataFrame, we can use a spatial indexes to quickly access information based on its location and relationship with other features. They are based on the concept of a **minimum bounding rectangle** - the smallest rectangle that contains an entire geometric shape. Each of these rectangles are then grouped into `leaf` nodes representing a single shape and `node` structures containing groups of shapes according to whatever algorithm the different types of spatial indexing use. Querying these rectangles requires magnitudes fewer compute resources for accessing and processing geometries relative to accessing the entire feature array of coordinate pairs that compose a shape. Access to points, complex lines and irregularly-shaped polygons becomes much quicker and easier through different flavors of spatial indexing.\n",
    "\n",
    "The Spatially Enabled DataFrame uses an implementation of spatial indexing known as [QuadTree indexing](https://en.wikipedia.org/wiki/Quadtree), which searches nodes when determining locations, relationships and attributes of specific features. `QuadTree` indexes are the default spatial index, but the SEDF also supports `r-tree` implementations.  In the [**DataFrame Index**](#DataFrame-index) section of this notebook, the USA Major Cities feature layer was queried and the `sdf` property was called on the results to create a DataFrame. The [`sindex`](https://developers.arcgis.com/python/api-reference/arcgis.features.toc.html#arcgis.features.GeoAccessor.sindex) method on the DataFrame creates a QuadTree index:"
   ]
  },
  {
   "cell_type": "code",
   "execution_count": 31,
   "metadata": {
    "hidden": true
   },
   "outputs": [],
   "source": [
    "si = df.spatial.sindex('quadtree',reset=False)"
   ]
  },
  {
   "cell_type": "markdown",
   "metadata": {
    "hidden": true
   },
   "source": [
    "Let's visually inspect the external frame of the QuadTree index. We'll then plot the spatial dataframe to ensure the spatial index encompasses all our features:"
   ]
  },
  {
   "cell_type": "code",
   "execution_count": 6,
   "metadata": {
    "hidden": true
   },
   "outputs": [
    {
     "data": {
      "application/vnd.jupyter.widget-view+json": {
       "model_id": "e02f12beda504643b8c72594f644b4b3",
       "version_major": 2,
       "version_minor": 0
      },
      "text/plain": [
       "MapView(layout=Layout(height='400px', width='100%'))"
      ]
     },
     "metadata": {},
     "output_type": "display_data"
    },
    {
     "data": {
      "text/html": [
       "<div class=\"map-static-img-preview-d64bc531-6d62-49f8-b6dc-0d723b56e671\"><img src=\"\"></img></div>"
      ],
      "text/plain": [
       "<IPython.core.display.HTML object>"
      ]
     },
     "metadata": {},
     "output_type": "display_data"
    },
    {
     "data": {
      "text/html": [
       "<div class=\"map-html-embed-preview-d64bc531-6d62-49f8-b6dc-0d723b56e671\"></div>"
      ],
      "text/plain": [
       "<IPython.core.display.HTML object>"
      ]
     },
     "metadata": {},
     "output_type": "display_data"
    }
   ],
   "source": [
    "midx = gis.map(\"United States\", 3)\n",
    "midx"
   ]
  },
  {
   "cell_type": "code",
   "execution_count": 9,
   "metadata": {
    "hidden": true
   },
   "outputs": [
    {
     "data": {
      "text/plain": [
       "['dark-gray-vector',\n",
       " 'gray-vector',\n",
       " 'hybrid',\n",
       " 'oceans',\n",
       " 'osm',\n",
       " 'satellite',\n",
       " 'streets-navigation-vector',\n",
       " 'streets-night-vector',\n",
       " 'streets-relief-vector',\n",
       " 'streets-vector',\n",
       " 'terrain',\n",
       " 'topo-vector',\n",
       " 'arcgis-imagery',\n",
       " 'arcgis-imagery-standard',\n",
       " 'arcgis-imagery-labels',\n",
       " 'arcgis-light-gray',\n",
       " 'arcgis-dark-gray',\n",
       " 'arcgis-navigation',\n",
       " 'arcgis-navigation-night',\n",
       " 'arcgis-streets',\n",
       " 'arcgis-streets-night',\n",
       " 'arcgis-streets-relief',\n",
       " 'arcgis-topographic',\n",
       " 'arcgis-oceans',\n",
       " 'osm-standard',\n",
       " 'osm-standard-relief',\n",
       " 'osm-streets',\n",
       " 'osm-streets-relief',\n",
       " 'osm-light-gray',\n",
       " 'osm-dark-gray',\n",
       " 'arcgis-terrain',\n",
       " 'arcgis-community',\n",
       " 'arcgis-charted-territory',\n",
       " 'arcgis-colored-pencil',\n",
       " 'arcgis-nova',\n",
       " 'arcgis-modern-antique',\n",
       " 'arcgis-midcentury',\n",
       " 'arcgis-newspaper',\n",
       " 'arcgis-hillshade-light',\n",
       " 'arcgis-hillshade-dark',\n",
       " 'arcgis-human-geography',\n",
       " 'arcgis-human-geography-dark']"
      ]
     },
     "execution_count": 9,
     "metadata": {},
     "output_type": "execute_result"
    }
   ],
   "source": [
    "midx1 = gis.map()\n",
    "midx1.basemaps"
   ]
  },
  {
   "cell_type": "markdown",
   "metadata": {
    "hidden": true
   },
   "source": [
    "![Spatial Index Envelope](../../static/img/sindex_draw.png)"
   ]
  },
  {
   "cell_type": "code",
   "execution_count": 12,
   "metadata": {
    "hidden": true
   },
   "outputs": [],
   "source": [
    "midx.center = [39, -98]\n",
    "midx.basemap = 'dark-gray-vector'"
   ]
  },
  {
   "cell_type": "code",
   "execution_count": 13,
   "metadata": {
    "hidden": true
   },
   "outputs": [
    {
     "data": {
      "text/plain": [
       "True"
      ]
     },
     "execution_count": 13,
     "metadata": {},
     "output_type": "execute_result"
    }
   ],
   "source": [
    "df.spatial.plot(map_widget=midx)"
   ]
  },
  {
   "cell_type": "markdown",
   "metadata": {
    "hidden": true
   },
   "source": [
    "Let's use the feature we drew earlier to define a spatial reference variable for use throughout the rest of this guide."
   ]
  },
  {
   "cell_type": "code",
   "execution_count": 29,
   "metadata": {
    "hidden": true
   },
   "outputs": [
    {
     "data": {
      "text/plain": [
       "pandas.core.frame.DataFrame"
      ]
     },
     "execution_count": 29,
     "metadata": {},
     "output_type": "execute_result"
    }
   ],
   "source": [
    "type(df)"
   ]
  },
  {
   "cell_type": "code",
   "execution_count": 21,
   "metadata": {
    "hidden": true
   },
   "outputs": [
    {
     "data": {
      "text/plain": [
       "{'wkid': 102100, 'latestWkid': 3857}"
      ]
     },
     "execution_count": 21,
     "metadata": {},
     "output_type": "execute_result"
    }
   ],
   "source": [
    "sp_ref = camp_pendleton_s_geodefn['spatialReference']\n",
    "sp_ref"
   ]
  },
  {
   "cell_type": "code",
   "execution_count": 33,
   "metadata": {
    "hidden": true
   },
   "outputs": [],
   "source": [
    "import time\n",
    "from arcgis.geometry import Geometry, Polygon\n",
    "\n",
    "#define a symbol to visualize the spatial index quadrants\n",
    "sym = {\n",
    "    \"type\": \"esriSFS\",\n",
    "    \"style\": \"esriSFSSolid\",\n",
    "    \"color\": [0,0,0,0],\n",
    "    \"outline\": {\n",
    "        \"type\": \"esriSLS\",\n",
    "        \"style\": \"esriSLSSolid\",\n",
    "        \"color\": [0,0,0,255],\n",
    "        \"width\": 4}\n",
    "}\n",
    "\n",
    "# loop through the children of the root index and draw each extent\n",
    "# using a different outline color\n",
    "for i in range(len(si._index.children)):\n",
    "    sym[\"outline\"][\"color\"][i] = 255\n",
    "    if i > 0:\n",
    "        sym[\"outline\"][\"color\"][i] = 255\n",
    "        sym[\"outline\"][\"color\"][i-1] = 0\n",
    "    child = si._index.children[i]\n",
    "    width_factor = child.width/2\n",
    "    height_factor = child.width/2\n",
    "    minx = child.center[0] - width_factor\n",
    "    miny = child.center[1] - height_factor\n",
    "    maxx = child.center[0] + width_factor\n",
    "    maxy = child.center[1] + height_factor\n",
    "    child_geom = Geometry({\n",
    "        'rings':[[[minx,miny], [minx, maxy], [maxx, maxy], [maxx, miny], [minx, miny]]],\n",
    "        'spatialReference': sp_ref})\n",
    "    #child_extent = Polygon(child_geom)\n",
    "    midx.draw(shape = child_geom, symbol = sym)\n",
    "    time.sleep(2)"
   ]
  },
  {
   "cell_type": "markdown",
   "metadata": {
    "heading_collapsed": true
   },
   "source": [
    "## Intersection with the Spatial Index"
   ]
  },
  {
   "cell_type": "markdown",
   "metadata": {
    "hidden": true
   },
   "source": [
    "Up to this point in this guide, we've talked about using indexing for querying attributes in the dataframe. For example:"
   ]
  },
  {
   "cell_type": "code",
   "execution_count": 34,
   "metadata": {
    "hidden": true
   },
   "outputs": [
    {
     "data": {
      "text/html": [
       "<div>\n",
       "<style scoped>\n",
       "    .dataframe tbody tr th:only-of-type {\n",
       "        vertical-align: middle;\n",
       "    }\n",
       "\n",
       "    .dataframe tbody tr th {\n",
       "        vertical-align: top;\n",
       "    }\n",
       "\n",
       "    .dataframe thead th {\n",
       "        text-align: right;\n",
       "    }\n",
       "</style>\n",
       "<table border=\"1\" class=\"dataframe\">\n",
       "  <thead>\n",
       "    <tr style=\"text-align: right;\">\n",
       "      <th></th>\n",
       "      <th>FID</th>\n",
       "      <th>NAME</th>\n",
       "      <th>CLASS</th>\n",
       "      <th>ST</th>\n",
       "      <th>STFIPS</th>\n",
       "      <th>PLACEFIPS</th>\n",
       "      <th>CAPITAL</th>\n",
       "      <th>POP_CLASS</th>\n",
       "      <th>POPULATION</th>\n",
       "      <th>POP2010</th>\n",
       "      <th>...</th>\n",
       "      <th>MARHH_NO_C</th>\n",
       "      <th>MHH_CHILD</th>\n",
       "      <th>FHH_CHILD</th>\n",
       "      <th>FAMILIES</th>\n",
       "      <th>AVE_FAM_SZ</th>\n",
       "      <th>HSE_UNITS</th>\n",
       "      <th>VACANT</th>\n",
       "      <th>OWNER_OCC</th>\n",
       "      <th>RENTER_OCC</th>\n",
       "      <th>SHAPE</th>\n",
       "    </tr>\n",
       "  </thead>\n",
       "  <tbody>\n",
       "    <tr>\n",
       "      <th>101</th>\n",
       "      <td>1514</td>\n",
       "      <td>Allendale</td>\n",
       "      <td>Census Designated Place</td>\n",
       "      <td>MI</td>\n",
       "      <td>26</td>\n",
       "      <td>2601340</td>\n",
       "      <td></td>\n",
       "      <td>6</td>\n",
       "      <td>19709</td>\n",
       "      <td>17579</td>\n",
       "      <td>...</td>\n",
       "      <td>939</td>\n",
       "      <td>94</td>\n",
       "      <td>200</td>\n",
       "      <td>2639</td>\n",
       "      <td>3.26</td>\n",
       "      <td>4834</td>\n",
       "      <td>227</td>\n",
       "      <td>2511</td>\n",
       "      <td>2096</td>\n",
       "      <td>{\"x\": -9568014.259185659, \"y\": 5309698.1042234...</td>\n",
       "    </tr>\n",
       "    <tr>\n",
       "      <th>102</th>\n",
       "      <td>1523</td>\n",
       "      <td>Big Rapids</td>\n",
       "      <td>city</td>\n",
       "      <td>MI</td>\n",
       "      <td>26</td>\n",
       "      <td>2608300</td>\n",
       "      <td></td>\n",
       "      <td>6</td>\n",
       "      <td>10614</td>\n",
       "      <td>10601</td>\n",
       "      <td>...</td>\n",
       "      <td>436</td>\n",
       "      <td>82</td>\n",
       "      <td>322</td>\n",
       "      <td>1323</td>\n",
       "      <td>2.88</td>\n",
       "      <td>3623</td>\n",
       "      <td>293</td>\n",
       "      <td>1136</td>\n",
       "      <td>2194</td>\n",
       "      <td>{\"x\": -9515614.1943842, \"y\": 5419013.554990504...</td>\n",
       "    </tr>\n",
       "    <tr>\n",
       "      <th>103</th>\n",
       "      <td>1526</td>\n",
       "      <td>Cadillac</td>\n",
       "      <td>city</td>\n",
       "      <td>MI</td>\n",
       "      <td>26</td>\n",
       "      <td>2612320</td>\n",
       "      <td></td>\n",
       "      <td>6</td>\n",
       "      <td>10547</td>\n",
       "      <td>10355</td>\n",
       "      <td>...</td>\n",
       "      <td>999</td>\n",
       "      <td>179</td>\n",
       "      <td>526</td>\n",
       "      <td>2625</td>\n",
       "      <td>2.9</td>\n",
       "      <td>4927</td>\n",
       "      <td>647</td>\n",
       "      <td>2519</td>\n",
       "      <td>1761</td>\n",
       "      <td>{\"x\": -9508449.13740055, \"y\": 5504118.53341087...</td>\n",
       "    </tr>\n",
       "    <tr>\n",
       "      <th>104</th>\n",
       "      <td>1528</td>\n",
       "      <td>Coldwater</td>\n",
       "      <td>city</td>\n",
       "      <td>MI</td>\n",
       "      <td>26</td>\n",
       "      <td>2617020</td>\n",
       "      <td></td>\n",
       "      <td>6</td>\n",
       "      <td>10828</td>\n",
       "      <td>10945</td>\n",
       "      <td>...</td>\n",
       "      <td>897</td>\n",
       "      <td>213</td>\n",
       "      <td>445</td>\n",
       "      <td>2628</td>\n",
       "      <td>3.14</td>\n",
       "      <td>4827</td>\n",
       "      <td>572</td>\n",
       "      <td>2576</td>\n",
       "      <td>1679</td>\n",
       "      <td>{\"x\": -9462596.578807637, \"y\": 5152066.1922501...</td>\n",
       "    </tr>\n",
       "    <tr>\n",
       "      <th>105</th>\n",
       "      <td>1529</td>\n",
       "      <td>Comstock Park</td>\n",
       "      <td>Census Designated Place</td>\n",
       "      <td>MI</td>\n",
       "      <td>26</td>\n",
       "      <td>2617700</td>\n",
       "      <td></td>\n",
       "      <td>6</td>\n",
       "      <td>10892</td>\n",
       "      <td>10088</td>\n",
       "      <td>...</td>\n",
       "      <td>920</td>\n",
       "      <td>167</td>\n",
       "      <td>557</td>\n",
       "      <td>2639</td>\n",
       "      <td>2.96</td>\n",
       "      <td>4656</td>\n",
       "      <td>484</td>\n",
       "      <td>1979</td>\n",
       "      <td>2193</td>\n",
       "      <td>{\"x\": -9537405.970997674, \"y\": 5316589.2811759...</td>\n",
       "    </tr>\n",
       "    <tr>\n",
       "      <th>106</th>\n",
       "      <td>1538</td>\n",
       "      <td>Farmington</td>\n",
       "      <td>city</td>\n",
       "      <td>MI</td>\n",
       "      <td>26</td>\n",
       "      <td>2627380</td>\n",
       "      <td></td>\n",
       "      <td>6</td>\n",
       "      <td>10674</td>\n",
       "      <td>10372</td>\n",
       "      <td>...</td>\n",
       "      <td>1129</td>\n",
       "      <td>66</td>\n",
       "      <td>287</td>\n",
       "      <td>2735</td>\n",
       "      <td>2.92</td>\n",
       "      <td>4959</td>\n",
       "      <td>335</td>\n",
       "      <td>2876</td>\n",
       "      <td>1748</td>\n",
       "      <td>{\"x\": -9281637.643149175, \"y\": 5230343.3917462...</td>\n",
       "    </tr>\n",
       "    <tr>\n",
       "      <th>107</th>\n",
       "      <td>1546</td>\n",
       "      <td>Grand Haven</td>\n",
       "      <td>city</td>\n",
       "      <td>MI</td>\n",
       "      <td>26</td>\n",
       "      <td>2633340</td>\n",
       "      <td></td>\n",
       "      <td>6</td>\n",
       "      <td>11073</td>\n",
       "      <td>10412</td>\n",
       "      <td>...</td>\n",
       "      <td>1277</td>\n",
       "      <td>115</td>\n",
       "      <td>320</td>\n",
       "      <td>2721</td>\n",
       "      <td>2.82</td>\n",
       "      <td>5815</td>\n",
       "      <td>1046</td>\n",
       "      <td>3239</td>\n",
       "      <td>1530</td>\n",
       "      <td>{\"x\": -9597693.318165638, \"y\": 5320625.9222716...</td>\n",
       "    </tr>\n",
       "    <tr>\n",
       "      <th>108</th>\n",
       "      <td>1575</td>\n",
       "      <td>Muskegon Heights</td>\n",
       "      <td>city</td>\n",
       "      <td>MI</td>\n",
       "      <td>26</td>\n",
       "      <td>2656360</td>\n",
       "      <td></td>\n",
       "      <td>6</td>\n",
       "      <td>10657</td>\n",
       "      <td>10856</td>\n",
       "      <td>...</td>\n",
       "      <td>460</td>\n",
       "      <td>143</td>\n",
       "      <td>1183</td>\n",
       "      <td>2682</td>\n",
       "      <td>3.23</td>\n",
       "      <td>4842</td>\n",
       "      <td>846</td>\n",
       "      <td>2042</td>\n",
       "      <td>1954</td>\n",
       "      <td>{\"x\": -9600424.098598039, \"y\": 5342825.5598096...</td>\n",
       "    </tr>\n",
       "    <tr>\n",
       "      <th>109</th>\n",
       "      <td>1600</td>\n",
       "      <td>Sturgis</td>\n",
       "      <td>city</td>\n",
       "      <td>MI</td>\n",
       "      <td>26</td>\n",
       "      <td>2676960</td>\n",
       "      <td></td>\n",
       "      <td>6</td>\n",
       "      <td>10944</td>\n",
       "      <td>10994</td>\n",
       "      <td>...</td>\n",
       "      <td>835</td>\n",
       "      <td>195</td>\n",
       "      <td>467</td>\n",
       "      <td>2632</td>\n",
       "      <td>3.28</td>\n",
       "      <td>4595</td>\n",
       "      <td>507</td>\n",
       "      <td>2333</td>\n",
       "      <td>1755</td>\n",
       "      <td>{\"x\": -9508726.380150843, \"y\": 5131255.7167436...</td>\n",
       "    </tr>\n",
       "  </tbody>\n",
       "</table>\n",
       "<p>9 rows × 50 columns</p>\n",
       "</div>"
      ],
      "text/plain": [
       "      FID              NAME                    CLASS  ST STFIPS PLACEFIPS  \\\n",
       "101  1514         Allendale  Census Designated Place  MI     26   2601340   \n",
       "102  1523        Big Rapids                     city  MI     26   2608300   \n",
       "103  1526          Cadillac                     city  MI     26   2612320   \n",
       "104  1528         Coldwater                     city  MI     26   2617020   \n",
       "105  1529     Comstock Park  Census Designated Place  MI     26   2617700   \n",
       "106  1538        Farmington                     city  MI     26   2627380   \n",
       "107  1546       Grand Haven                     city  MI     26   2633340   \n",
       "108  1575  Muskegon Heights                     city  MI     26   2656360   \n",
       "109  1600           Sturgis                     city  MI     26   2676960   \n",
       "\n",
       "    CAPITAL  POP_CLASS  POPULATION  POP2010  ...  MARHH_NO_C  MHH_CHILD  \\\n",
       "101                  6       19709    17579  ...         939         94   \n",
       "102                  6       10614    10601  ...         436         82   \n",
       "103                  6       10547    10355  ...         999        179   \n",
       "104                  6       10828    10945  ...         897        213   \n",
       "105                  6       10892    10088  ...         920        167   \n",
       "106                  6       10674    10372  ...        1129         66   \n",
       "107                  6       11073    10412  ...        1277        115   \n",
       "108                  6       10657    10856  ...         460        143   \n",
       "109                  6       10944    10994  ...         835        195   \n",
       "\n",
       "     FHH_CHILD  FAMILIES  AVE_FAM_SZ  HSE_UNITS  VACANT  OWNER_OCC  \\\n",
       "101        200      2639        3.26       4834     227       2511   \n",
       "102        322      1323        2.88       3623     293       1136   \n",
       "103        526      2625         2.9       4927     647       2519   \n",
       "104        445      2628        3.14       4827     572       2576   \n",
       "105        557      2639        2.96       4656     484       1979   \n",
       "106        287      2735        2.92       4959     335       2876   \n",
       "107        320      2721        2.82       5815    1046       3239   \n",
       "108       1183      2682        3.23       4842     846       2042   \n",
       "109        467      2632        3.28       4595     507       2333   \n",
       "\n",
       "     RENTER_OCC                                              SHAPE  \n",
       "101        2096  {\"x\": -9568014.259185659, \"y\": 5309698.1042234...  \n",
       "102        2194  {\"x\": -9515614.1943842, \"y\": 5419013.554990504...  \n",
       "103        1761  {\"x\": -9508449.13740055, \"y\": 5504118.53341087...  \n",
       "104        1679  {\"x\": -9462596.578807637, \"y\": 5152066.1922501...  \n",
       "105        2193  {\"x\": -9537405.970997674, \"y\": 5316589.2811759...  \n",
       "106        1748  {\"x\": -9281637.643149175, \"y\": 5230343.3917462...  \n",
       "107        1530  {\"x\": -9597693.318165638, \"y\": 5320625.9222716...  \n",
       "108        1954  {\"x\": -9600424.098598039, \"y\": 5342825.5598096...  \n",
       "109        1755  {\"x\": -9508726.380150843, \"y\": 5131255.7167436...  \n",
       "\n",
       "[9 rows x 50 columns]"
      ]
     },
     "execution_count": 34,
     "metadata": {},
     "output_type": "execute_result"
    }
   ],
   "source": [
    "query = df['ST'] == 'MI'\n",
    "df[query]"
   ]
  },
  {
   "cell_type": "markdown",
   "metadata": {
    "hidden": true
   },
   "source": [
    "We can query multiple attributes and filter on the column output as well:"
   ]
  },
  {
   "cell_type": "code",
   "execution_count": 35,
   "metadata": {
    "hidden": true
   },
   "outputs": [
    {
     "data": {
      "text/html": [
       "<div>\n",
       "<style scoped>\n",
       "    .dataframe tbody tr th:only-of-type {\n",
       "        vertical-align: middle;\n",
       "    }\n",
       "\n",
       "    .dataframe tbody tr th {\n",
       "        vertical-align: top;\n",
       "    }\n",
       "\n",
       "    .dataframe thead th {\n",
       "        text-align: right;\n",
       "    }\n",
       "</style>\n",
       "<table border=\"1\" class=\"dataframe\">\n",
       "  <thead>\n",
       "    <tr style=\"text-align: right;\">\n",
       "      <th></th>\n",
       "      <th>NAME</th>\n",
       "      <th>ST</th>\n",
       "      <th>POP2010</th>\n",
       "      <th>HOUSEHOLDS</th>\n",
       "      <th>HSEHLD_1_F</th>\n",
       "      <th>HSEHLD_1_M</th>\n",
       "    </tr>\n",
       "  </thead>\n",
       "  <tbody>\n",
       "    <tr>\n",
       "      <th>166</th>\n",
       "      <td>Athens</td>\n",
       "      <td>OH</td>\n",
       "      <td>23832</td>\n",
       "      <td>6903</td>\n",
       "      <td>2474</td>\n",
       "      <td>2573</td>\n",
       "    </tr>\n",
       "    <tr>\n",
       "      <th>195</th>\n",
       "      <td>Oxford</td>\n",
       "      <td>OH</td>\n",
       "      <td>21371</td>\n",
       "      <td>5799</td>\n",
       "      <td>2033</td>\n",
       "      <td>1850</td>\n",
       "    </tr>\n",
       "  </tbody>\n",
       "</table>\n",
       "</div>"
      ],
      "text/plain": [
       "       NAME  ST  POP2010  HOUSEHOLDS  HSEHLD_1_F  HSEHLD_1_M\n",
       "166  Athens  OH    23832        6903        2474        2573\n",
       "195  Oxford  OH    21371        5799        2033        1850"
      ]
     },
     "execution_count": 35,
     "metadata": {},
     "output_type": "execute_result"
    }
   ],
   "source": [
    "query = (df['POP2010'] > 20000) & (df['ST'] == 'OH')\n",
    "df[query][['NAME','ST','POP2010','HOUSEHOLDS','HSEHLD_1_F', 'HSEHLD_1_M']]"
   ]
  },
  {
   "cell_type": "markdown",
   "metadata": {
    "hidden": true
   },
   "source": [
    "As GIS analysts and data scientists, we also want to query based on geographic location. We can do that by building a spatial index with the `sindex` property of the spatial dataframe. The resulting quadtree index allows us to query based on specific geometries in relation to other geometries. \n",
    "\n",
    "Let's continue looking at the dataframe wer're working with: US cities with a population between the ages of 45 and 54 of less than 1500. \n",
    "\n",
    "We can draw the entire extent of our dataframe using the dataframe's [`geoextent`](https://developers.arcgis.com/python/api-reference/arcgis.features.toc.html#arcgis.features.SpatialDataFrame.geoextent) property. Let's get the bounding box coordinates:"
   ]
  },
  {
   "cell_type": "code",
   "execution_count": 36,
   "metadata": {
    "hidden": true
   },
   "outputs": [
    {
     "data": {
      "text/plain": [
       "(-17595352.55942164,\n",
       " 2429395.3372018305,\n",
       " -7895099.852443745,\n",
       " 6266417.1716177985)"
      ]
     },
     "execution_count": 36,
     "metadata": {},
     "output_type": "execute_result"
    }
   ],
   "source": [
    "df_geoextent = df.spatial.full_extent\n",
    "df_geoextent"
   ]
  },
  {
   "cell_type": "markdown",
   "metadata": {
    "hidden": true
   },
   "source": [
    "Let's use these coordinates, place them in more descriptive variable names, then create a bounding box to make a geometry object representing the extent of our dataframe. Finally we'll draw it on the a map:"
   ]
  },
  {
   "cell_type": "code",
   "execution_count": 37,
   "metadata": {
    "hidden": true
   },
   "outputs": [
    {
     "data": {
      "image/svg+xml": [
       "<svg xmlns=\"http://www.w3.org/2000/svg\" xmlns:xlink=\"http://www.w3.org/1999/xlink\" width=\"300\" height=\"300\" viewBox=\"-17983362.66768 2041385.2289200008 10476272.923560001 4613042.050959999\" preserveAspectRatio=\"xMinYMin meet\"><g transform=\"matrix(1,0,0,-1,0,8695812.5088)\"><path fill-rule=\"evenodd\" fill=\"#66cc99\" stroke=\"#555555\" stroke-width=\"69841.81949040001\" opacity=\"0.6\" d=\"M -17595352.55942164,2429395.3372018305 L -17595352.55942164,6266417.1716177985 L -7895099.852443745,6266417.1716177985 L -7895099.852443745,2429395.3372018305 L -17595352.55942164,2429395.3372018305 z\" /></g></svg>"
      ],
      "text/plain": [
       "{'rings': [[[-17595352.55942164, 2429395.3372018305],\n",
       "   [-17595352.55942164, 6266417.1716177985],\n",
       "   [-7895099.852443745, 6266417.1716177985],\n",
       "   [-7895099.852443745, 2429395.3372018305],\n",
       "   [-17595352.55942164, 2429395.3372018305]]],\n",
       " 'spatialReference': {'wkid': 102100, 'latestWkid': 3857}}"
      ]
     },
     "execution_count": 37,
     "metadata": {},
     "output_type": "execute_result"
    }
   ],
   "source": [
    "df_geoextent_geom = df.spatial.bbox\n",
    "df_geoextent_geom"
   ]
  },
  {
   "cell_type": "code",
   "execution_count": 38,
   "metadata": {
    "hidden": true
   },
   "outputs": [
    {
     "data": {
      "application/vnd.jupyter.widget-view+json": {
       "model_id": "19420ff21cd6445b982895921e438683",
       "version_major": 2,
       "version_minor": 0
      },
      "text/plain": [
       "MapView(layout=Layout(height='400px', width='100%'))"
      ]
     },
     "metadata": {},
     "output_type": "display_data"
    },
    {
     "data": {
      "text/html": [
       "<div class=\"map-static-img-preview-f96009e3-9490-465e-b698-6fde54c9699b\"><img src=\"\"></img></div>"
      ],
      "text/plain": [
       "<IPython.core.display.HTML object>"
      ]
     },
     "metadata": {},
     "output_type": "display_data"
    },
    {
     "data": {
      "text/html": [
       "<div class=\"map-html-embed-preview-f96009e3-9490-465e-b698-6fde54c9699b\"></div>"
      ],
      "text/plain": [
       "<IPython.core.display.HTML object>"
      ]
     },
     "metadata": {},
     "output_type": "display_data"
    }
   ],
   "source": [
    "m1 = gis.map(\"United States\", 3)\n",
    "m1"
   ]
  },
  {
   "cell_type": "markdown",
   "metadata": {
    "hidden": true
   },
   "source": [
    "![Dataframe Extent with AOI](../../static/img/df_extent_aoi.png)"
   ]
  },
  {
   "cell_type": "code",
   "execution_count": 49,
   "metadata": {
    "hidden": true
   },
   "outputs": [],
   "source": [
    "m1.center = [39, -98]\n",
    "m1.zoom = 10"
   ]
  },
  {
   "cell_type": "code",
   "execution_count": 50,
   "metadata": {
    "hidden": true
   },
   "outputs": [],
   "source": [
    "sym_poly = {\n",
    "  \"type\": \"esriSFS\",\n",
    "  \"style\": \"esriSFSSolid\",\n",
    "  \"color\": [0,0,0,0],  # hollow, no fill\n",
    "    \"outline\": {\n",
    "     \"type\": \"esriSLS\",\n",
    "     \"style\": \"esriSLSSolid\",\n",
    "     \"color\": [255,0,0,255],  # red border\n",
    "     \"width\": 3}\n",
    "}\n",
    "\n",
    "m1.draw(shape = df_geoextent_geom, symbol = sym_poly)"
   ]
  },
  {
   "cell_type": "markdown",
   "metadata": {
    "hidden": true
   },
   "source": [
    "Now, let's define a second set of coordinates representing a bounding box for which we want to query the features from our dataframe that fall within it.\n",
    "\n",
    "We can define our list of coordinates, and then draw it on the map to make sure it falls within our dataframe extent:"
   ]
  },
  {
   "cell_type": "code",
   "execution_count": 65,
   "metadata": {
    "hidden": true
   },
   "outputs": [],
   "source": [
    "area_of_interest = [-13043219.122301877, 3911134.034258818, -13243219.102301877, 4111134.0542588173]\n",
    "minx, miny, maxx, maxy = area_of_interest[0], area_of_interest[1], area_of_interest[2], area_of_interest[3]\n",
    "\n",
    "area_of_interest_ring = [[[minx, miny], [minx, maxy], [maxx, maxy], [maxx, miny], [minx, miny]]]\n",
    "area_of_interest_geom = Geometry({'rings': area_of_interest_ring, 'spatialReference': sp_ref})\n",
    "\n",
    "sym_poly_aoi = {\n",
    "  \"type\": \"esriSFS\",\n",
    "  \"style\": \"esriSFSSolid\",\n",
    "  \"color\": [0,0,0,0],  # hollow, no fill\n",
    "    \"outline\": {\n",
    "     \"type\": \"esriSLS\",\n",
    "     \"style\": \"esriSLSSolid\",\n",
    "     \"color\": [0,255,0,255],   # green border\n",
    "     \"width\": 3}\n",
    "}\n",
    "\n",
    "m1.draw(shape = area_of_interest_geom, symbol = sym_poly_aoi)"
   ]
  },
  {
   "cell_type": "markdown",
   "metadata": {
    "hidden": true
   },
   "source": [
    "We can see that our area of interest box falls within the dataframe extent.  The spatial index has an `intersect` method which takes a bounding box as input and returns a list of integer values from the row index of our spatial dataframe. We can use the dataframe's [`iloc`](https://pandas.pydata.org/pandas-docs/stable/generated/pandas.DataFrame.iloc.html#pandas.DataFrame.iloc) integer-indexing attribute to then loop through the dataframe and put draw the features on a map"
   ]
  },
  {
   "cell_type": "code",
   "execution_count": 66,
   "metadata": {
    "hidden": true
   },
   "outputs": [],
   "source": [
    "index_of_features = si.intersect(area_of_interest)"
   ]
  },
  {
   "cell_type": "code",
   "execution_count": 74,
   "metadata": {
    "hidden": true
   },
   "outputs": [
    {
     "data": {
      "text/plain": [
       "[32, 69, 70, 71, 77, 81]"
      ]
     },
     "execution_count": 74,
     "metadata": {},
     "output_type": "execute_result"
    }
   ],
   "source": [
    "index_of_features"
   ]
  },
  {
   "cell_type": "code",
   "execution_count": 67,
   "metadata": {
    "hidden": true
   },
   "outputs": [
    {
     "data": {
      "text/html": [
       "<div>\n",
       "<style scoped>\n",
       "    .dataframe tbody tr th:only-of-type {\n",
       "        vertical-align: middle;\n",
       "    }\n",
       "\n",
       "    .dataframe tbody tr th {\n",
       "        vertical-align: top;\n",
       "    }\n",
       "\n",
       "    .dataframe thead th {\n",
       "        text-align: right;\n",
       "    }\n",
       "</style>\n",
       "<table border=\"1\" class=\"dataframe\">\n",
       "  <thead>\n",
       "    <tr style=\"text-align: right;\">\n",
       "      <th></th>\n",
       "      <th>FID</th>\n",
       "      <th>NAME</th>\n",
       "      <th>CLASS</th>\n",
       "      <th>ST</th>\n",
       "      <th>STFIPS</th>\n",
       "      <th>PLACEFIPS</th>\n",
       "      <th>CAPITAL</th>\n",
       "      <th>POP_CLASS</th>\n",
       "      <th>POPULATION</th>\n",
       "      <th>POP2010</th>\n",
       "      <th>...</th>\n",
       "      <th>MARHH_NO_C</th>\n",
       "      <th>MHH_CHILD</th>\n",
       "      <th>FHH_CHILD</th>\n",
       "      <th>FAMILIES</th>\n",
       "      <th>AVE_FAM_SZ</th>\n",
       "      <th>HSE_UNITS</th>\n",
       "      <th>VACANT</th>\n",
       "      <th>OWNER_OCC</th>\n",
       "      <th>RENTER_OCC</th>\n",
       "      <th>SHAPE</th>\n",
       "    </tr>\n",
       "  </thead>\n",
       "  <tbody>\n",
       "    <tr>\n",
       "      <th>32</th>\n",
       "      <td>454</td>\n",
       "      <td>Muscoy</td>\n",
       "      <td>Census Designated Place</td>\n",
       "      <td>CA</td>\n",
       "      <td>06</td>\n",
       "      <td>0650132</td>\n",
       "      <td></td>\n",
       "      <td>6</td>\n",
       "      <td>11161</td>\n",
       "      <td>10644</td>\n",
       "      <td>...</td>\n",
       "      <td>302</td>\n",
       "      <td>194</td>\n",
       "      <td>308</td>\n",
       "      <td>1933</td>\n",
       "      <td>4.76</td>\n",
       "      <td>2443</td>\n",
       "      <td>212</td>\n",
       "      <td>1268</td>\n",
       "      <td>963</td>\n",
       "      <td>{\"x\": -13063141.654215325, \"y\": 4049605.974486...</td>\n",
       "    </tr>\n",
       "    <tr>\n",
       "      <th>69</th>\n",
       "      <td>1035</td>\n",
       "      <td>Camp Pendleton South</td>\n",
       "      <td>Census Designated Place</td>\n",
       "      <td>CA</td>\n",
       "      <td>06</td>\n",
       "      <td>0610561</td>\n",
       "      <td></td>\n",
       "      <td>6</td>\n",
       "      <td>10450</td>\n",
       "      <td>10616</td>\n",
       "      <td>...</td>\n",
       "      <td>389</td>\n",
       "      <td>37</td>\n",
       "      <td>169</td>\n",
       "      <td>2500</td>\n",
       "      <td>3.69</td>\n",
       "      <td>2865</td>\n",
       "      <td>296</td>\n",
       "      <td>11</td>\n",
       "      <td>2558</td>\n",
       "      <td>{\"x\": -13066535.250599463, \"y\": 3925680.810605...</td>\n",
       "    </tr>\n",
       "    <tr>\n",
       "      <th>70</th>\n",
       "      <td>1053</td>\n",
       "      <td>Citrus</td>\n",
       "      <td>Census Designated Place</td>\n",
       "      <td>CA</td>\n",
       "      <td>06</td>\n",
       "      <td>0613560</td>\n",
       "      <td></td>\n",
       "      <td>6</td>\n",
       "      <td>11329</td>\n",
       "      <td>10866</td>\n",
       "      <td>...</td>\n",
       "      <td>541</td>\n",
       "      <td>116</td>\n",
       "      <td>255</td>\n",
       "      <td>2195</td>\n",
       "      <td>4.33</td>\n",
       "      <td>2701</td>\n",
       "      <td>86</td>\n",
       "      <td>1854</td>\n",
       "      <td>761</td>\n",
       "      <td>{\"x\": -13123874.444099307, \"y\": 4044252.329385...</td>\n",
       "    </tr>\n",
       "    <tr>\n",
       "      <th>71</th>\n",
       "      <td>1062</td>\n",
       "      <td>Commerce</td>\n",
       "      <td>city</td>\n",
       "      <td>CA</td>\n",
       "      <td>06</td>\n",
       "      <td>0614974</td>\n",
       "      <td></td>\n",
       "      <td>6</td>\n",
       "      <td>13227</td>\n",
       "      <td>12823</td>\n",
       "      <td>...</td>\n",
       "      <td>549</td>\n",
       "      <td>169</td>\n",
       "      <td>424</td>\n",
       "      <td>2709</td>\n",
       "      <td>4.17</td>\n",
       "      <td>3470</td>\n",
       "      <td>88</td>\n",
       "      <td>1619</td>\n",
       "      <td>1763</td>\n",
       "      <td>{\"x\": -13151212.145498956, \"y\": 4027601.902958...</td>\n",
       "    </tr>\n",
       "    <tr>\n",
       "      <th>77</th>\n",
       "      <td>1158</td>\n",
       "      <td>Home Gardens</td>\n",
       "      <td>Census Designated Place</td>\n",
       "      <td>CA</td>\n",
       "      <td>06</td>\n",
       "      <td>0634302</td>\n",
       "      <td></td>\n",
       "      <td>6</td>\n",
       "      <td>12223</td>\n",
       "      <td>11570</td>\n",
       "      <td>...</td>\n",
       "      <td>573</td>\n",
       "      <td>135</td>\n",
       "      <td>298</td>\n",
       "      <td>2336</td>\n",
       "      <td>4.35</td>\n",
       "      <td>2865</td>\n",
       "      <td>105</td>\n",
       "      <td>1952</td>\n",
       "      <td>808</td>\n",
       "      <td>{\"x\": -13080593.064290542, \"y\": 4012558.291540...</td>\n",
       "    </tr>\n",
       "    <tr>\n",
       "      <th>81</th>\n",
       "      <td>1177</td>\n",
       "      <td>Laguna Woods</td>\n",
       "      <td>city</td>\n",
       "      <td>CA</td>\n",
       "      <td>06</td>\n",
       "      <td>0639259</td>\n",
       "      <td></td>\n",
       "      <td>6</td>\n",
       "      <td>17960</td>\n",
       "      <td>16192</td>\n",
       "      <td>...</td>\n",
       "      <td>3264</td>\n",
       "      <td>6</td>\n",
       "      <td>15</td>\n",
       "      <td>3873</td>\n",
       "      <td>2.07</td>\n",
       "      <td>13016</td>\n",
       "      <td>1714</td>\n",
       "      <td>8730</td>\n",
       "      <td>2572</td>\n",
       "      <td>{\"x\": -13105613.458129246, \"y\": 3976538.093303...</td>\n",
       "    </tr>\n",
       "  </tbody>\n",
       "</table>\n",
       "<p>6 rows × 50 columns</p>\n",
       "</div>"
      ],
      "text/plain": [
       "     FID                  NAME                    CLASS  ST STFIPS PLACEFIPS  \\\n",
       "32   454                Muscoy  Census Designated Place  CA     06   0650132   \n",
       "69  1035  Camp Pendleton South  Census Designated Place  CA     06   0610561   \n",
       "70  1053                Citrus  Census Designated Place  CA     06   0613560   \n",
       "71  1062              Commerce                     city  CA     06   0614974   \n",
       "77  1158          Home Gardens  Census Designated Place  CA     06   0634302   \n",
       "81  1177          Laguna Woods                     city  CA     06   0639259   \n",
       "\n",
       "   CAPITAL  POP_CLASS  POPULATION  POP2010  ...  MARHH_NO_C  MHH_CHILD  \\\n",
       "32                  6       11161    10644  ...         302        194   \n",
       "69                  6       10450    10616  ...         389         37   \n",
       "70                  6       11329    10866  ...         541        116   \n",
       "71                  6       13227    12823  ...         549        169   \n",
       "77                  6       12223    11570  ...         573        135   \n",
       "81                  6       17960    16192  ...        3264          6   \n",
       "\n",
       "    FHH_CHILD  FAMILIES  AVE_FAM_SZ  HSE_UNITS  VACANT  OWNER_OCC  RENTER_OCC  \\\n",
       "32        308      1933        4.76       2443     212       1268         963   \n",
       "69        169      2500        3.69       2865     296         11        2558   \n",
       "70        255      2195        4.33       2701      86       1854         761   \n",
       "71        424      2709        4.17       3470      88       1619        1763   \n",
       "77        298      2336        4.35       2865     105       1952         808   \n",
       "81         15      3873        2.07      13016    1714       8730        2572   \n",
       "\n",
       "                                                SHAPE  \n",
       "32  {\"x\": -13063141.654215325, \"y\": 4049605.974486...  \n",
       "69  {\"x\": -13066535.250599463, \"y\": 3925680.810605...  \n",
       "70  {\"x\": -13123874.444099307, \"y\": 4044252.329385...  \n",
       "71  {\"x\": -13151212.145498956, \"y\": 4027601.902958...  \n",
       "77  {\"x\": -13080593.064290542, \"y\": 4012558.291540...  \n",
       "81  {\"x\": -13105613.458129246, \"y\": 3976538.093303...  \n",
       "\n",
       "[6 rows x 50 columns]"
      ]
     },
     "execution_count": 67,
     "metadata": {},
     "output_type": "execute_result"
    }
   ],
   "source": [
    "df.iloc[index_of_features]"
   ]
  },
  {
   "cell_type": "markdown",
   "metadata": {
    "hidden": true
   },
   "source": [
    "Let us plot these features that intersect on a map:"
   ]
  },
  {
   "cell_type": "code",
   "execution_count": 68,
   "metadata": {
    "hidden": true,
    "scrolled": true
   },
   "outputs": [
    {
     "data": {
      "application/vnd.jupyter.widget-view+json": {
       "model_id": "24d9794eeb70443f911f61770cf3de1c",
       "version_major": 2,
       "version_minor": 0
      },
      "text/plain": [
       "MapView(layout=Layout(height='400px', width='100%'))"
      ]
     },
     "metadata": {},
     "output_type": "display_data"
    },
    {
     "data": {
      "text/html": [
       "<div class=\"map-static-img-preview-ccdf1bb9-d1c5-487c-9b30-dfb5d5fb362e\"><img src=\"\"></img></div>"
      ],
      "text/plain": [
       "<IPython.core.display.HTML object>"
      ]
     },
     "metadata": {},
     "output_type": "display_data"
    },
    {
     "data": {
      "text/html": [
       "<div class=\"map-html-embed-preview-ccdf1bb9-d1c5-487c-9b30-dfb5d5fb362e\"></div>"
      ],
      "text/plain": [
       "<IPython.core.display.HTML object>"
      ]
     },
     "metadata": {},
     "output_type": "display_data"
    }
   ],
   "source": [
    "m2 = gis.map(\"Los Angeles, CA\", 7)\n",
    "m2"
   ]
  },
  {
   "cell_type": "markdown",
   "metadata": {
    "hidden": true
   },
   "source": [
    "![Area_of_interest_intersect](../../static/img/si_intersect.png)"
   ]
  },
  {
   "cell_type": "code",
   "execution_count": 70,
   "metadata": {
    "hidden": true
   },
   "outputs": [],
   "source": [
    "m2.center = [34, -118]"
   ]
  },
  {
   "cell_type": "code",
   "execution_count": 71,
   "metadata": {
    "hidden": true
   },
   "outputs": [],
   "source": [
    "m2.draw(shape = area_of_interest_geom, symbol = sym_poly_aoi)"
   ]
  },
  {
   "cell_type": "code",
   "execution_count": 72,
   "metadata": {
    "hidden": true
   },
   "outputs": [],
   "source": [
    "pt_sym = {\n",
    "    \"type\": \"esriSMS\",\n",
    "    \"style\": \"esriSMSDiamond\",\n",
    "    \"color\": [255,140,0,255],  # yellowish\n",
    "    \"size\": 8,\n",
    "    \"angle\": 0,\n",
    "    \"xoffset\": 0,\n",
    "    \"yoffset\": 0,\n",
    "    \"outline\": {\n",
    "        \"color\": [255,140,0,255],\n",
    "        \"width\": 1}\n",
    " }\n",
    "        \n",
    "for pt_index in index_of_features:\n",
    "    m2.draw(shape = df.iloc[pt_index]['SHAPE'], symbol = pt_sym)  "
   ]
  },
  {
   "cell_type": "markdown",
   "metadata": {
    "hidden": true
   },
   "source": [
    "Thus we were able to use the spatial indexes to query features that fall within an extent."
   ]
  },
  {
   "cell_type": "markdown",
   "metadata": {},
   "source": [
    "## Spatial Joins\n",
    "DataFrames are table-like structures comprised of rows and columns. In relational database, SQL `joins` are fundamental operations that combine columns from one or more tables using values that are common to each. They occur in almost all database queries.\n",
    "\n",
    "A Spatial join is a table operation that affixes data from one feature layer’s attribute table to another based on a spatial relationship. The spatial join involves matching rows from the Join Features (data frame1) to the Target Features (data frame2) based on their spatial relationship.\n",
    "\n",
    "Let's look at how joins work with dataframes by using subsets of our original DataFrame and the pandas `merge` fucntionality. We'll then move onto examining a spatial join to combine features from one dataframe with another based on a common attribute value.\n",
    "\n",
    "Query the DataFrame to extract 3 attribute columns of information from 2 states, Ohio and Michigan:"
   ]
  },
  {
   "cell_type": "code",
   "execution_count": 75,
   "metadata": {},
   "outputs": [
    {
     "data": {
      "text/html": [
       "<div>\n",
       "<style scoped>\n",
       "    .dataframe tbody tr th:only-of-type {\n",
       "        vertical-align: middle;\n",
       "    }\n",
       "\n",
       "    .dataframe tbody tr th {\n",
       "        vertical-align: top;\n",
       "    }\n",
       "\n",
       "    .dataframe thead th {\n",
       "        text-align: right;\n",
       "    }\n",
       "</style>\n",
       "<table border=\"1\" class=\"dataframe\">\n",
       "  <thead>\n",
       "    <tr style=\"text-align: right;\">\n",
       "      <th></th>\n",
       "      <th>NAME</th>\n",
       "      <th>ST</th>\n",
       "      <th>POP2010</th>\n",
       "    </tr>\n",
       "  </thead>\n",
       "  <tbody>\n",
       "    <tr>\n",
       "      <th>101</th>\n",
       "      <td>Allendale</td>\n",
       "      <td>MI</td>\n",
       "      <td>17579</td>\n",
       "    </tr>\n",
       "    <tr>\n",
       "      <th>102</th>\n",
       "      <td>Big Rapids</td>\n",
       "      <td>MI</td>\n",
       "      <td>10601</td>\n",
       "    </tr>\n",
       "    <tr>\n",
       "      <th>103</th>\n",
       "      <td>Cadillac</td>\n",
       "      <td>MI</td>\n",
       "      <td>10355</td>\n",
       "    </tr>\n",
       "    <tr>\n",
       "      <th>104</th>\n",
       "      <td>Coldwater</td>\n",
       "      <td>MI</td>\n",
       "      <td>10945</td>\n",
       "    </tr>\n",
       "    <tr>\n",
       "      <th>105</th>\n",
       "      <td>Comstock Park</td>\n",
       "      <td>MI</td>\n",
       "      <td>10088</td>\n",
       "    </tr>\n",
       "    <tr>\n",
       "      <th>106</th>\n",
       "      <td>Farmington</td>\n",
       "      <td>MI</td>\n",
       "      <td>10372</td>\n",
       "    </tr>\n",
       "    <tr>\n",
       "      <th>107</th>\n",
       "      <td>Grand Haven</td>\n",
       "      <td>MI</td>\n",
       "      <td>10412</td>\n",
       "    </tr>\n",
       "    <tr>\n",
       "      <th>108</th>\n",
       "      <td>Muskegon Heights</td>\n",
       "      <td>MI</td>\n",
       "      <td>10856</td>\n",
       "    </tr>\n",
       "    <tr>\n",
       "      <th>109</th>\n",
       "      <td>Sturgis</td>\n",
       "      <td>MI</td>\n",
       "      <td>10994</td>\n",
       "    </tr>\n",
       "    <tr>\n",
       "      <th>166</th>\n",
       "      <td>Athens</td>\n",
       "      <td>OH</td>\n",
       "      <td>23832</td>\n",
       "    </tr>\n",
       "    <tr>\n",
       "      <th>167</th>\n",
       "      <td>Cambridge</td>\n",
       "      <td>OH</td>\n",
       "      <td>10635</td>\n",
       "    </tr>\n",
       "    <tr>\n",
       "      <th>168</th>\n",
       "      <td>Celina</td>\n",
       "      <td>OH</td>\n",
       "      <td>10400</td>\n",
       "    </tr>\n",
       "    <tr>\n",
       "      <th>192</th>\n",
       "      <td>Galion</td>\n",
       "      <td>OH</td>\n",
       "      <td>10512</td>\n",
       "    </tr>\n",
       "    <tr>\n",
       "      <th>193</th>\n",
       "      <td>London</td>\n",
       "      <td>OH</td>\n",
       "      <td>9904</td>\n",
       "    </tr>\n",
       "    <tr>\n",
       "      <th>194</th>\n",
       "      <td>Northbrook</td>\n",
       "      <td>OH</td>\n",
       "      <td>10668</td>\n",
       "    </tr>\n",
       "    <tr>\n",
       "      <th>195</th>\n",
       "      <td>Oxford</td>\n",
       "      <td>OH</td>\n",
       "      <td>21371</td>\n",
       "    </tr>\n",
       "    <tr>\n",
       "      <th>196</th>\n",
       "      <td>Springdale</td>\n",
       "      <td>OH</td>\n",
       "      <td>11223</td>\n",
       "    </tr>\n",
       "    <tr>\n",
       "      <th>197</th>\n",
       "      <td>Trenton</td>\n",
       "      <td>OH</td>\n",
       "      <td>11869</td>\n",
       "    </tr>\n",
       "    <tr>\n",
       "      <th>198</th>\n",
       "      <td>University Heights</td>\n",
       "      <td>OH</td>\n",
       "      <td>13539</td>\n",
       "    </tr>\n",
       "    <tr>\n",
       "      <th>199</th>\n",
       "      <td>Van Wert</td>\n",
       "      <td>OH</td>\n",
       "      <td>10846</td>\n",
       "    </tr>\n",
       "  </tbody>\n",
       "</table>\n",
       "</div>"
      ],
      "text/plain": [
       "                   NAME  ST  POP2010\n",
       "101           Allendale  MI    17579\n",
       "102          Big Rapids  MI    10601\n",
       "103            Cadillac  MI    10355\n",
       "104           Coldwater  MI    10945\n",
       "105       Comstock Park  MI    10088\n",
       "106          Farmington  MI    10372\n",
       "107         Grand Haven  MI    10412\n",
       "108    Muskegon Heights  MI    10856\n",
       "109             Sturgis  MI    10994\n",
       "166              Athens  OH    23832\n",
       "167           Cambridge  OH    10635\n",
       "168              Celina  OH    10400\n",
       "192              Galion  OH    10512\n",
       "193              London  OH     9904\n",
       "194          Northbrook  OH    10668\n",
       "195              Oxford  OH    21371\n",
       "196          Springdale  OH    11223\n",
       "197             Trenton  OH    11869\n",
       "198  University Heights  OH    13539\n",
       "199            Van Wert  OH    10846"
      ]
     },
     "execution_count": 75,
     "metadata": {},
     "output_type": "execute_result"
    }
   ],
   "source": [
    "query = (df['ST'] == 'OH') | (df['ST'] == 'MI')\n",
    "df1 = df[query][['NAME', 'ST', 'POP2010']]\n",
    "df1"
   ]
  },
  {
   "cell_type": "markdown",
   "metadata": {},
   "source": [
    "Query the dataframe again for 8 attribute columns from one state, Ohio"
   ]
  },
  {
   "cell_type": "code",
   "execution_count": 76,
   "metadata": {},
   "outputs": [
    {
     "data": {
      "text/html": [
       "<div>\n",
       "<style scoped>\n",
       "    .dataframe tbody tr th:only-of-type {\n",
       "        vertical-align: middle;\n",
       "    }\n",
       "\n",
       "    .dataframe tbody tr th {\n",
       "        vertical-align: top;\n",
       "    }\n",
       "\n",
       "    .dataframe thead th {\n",
       "        text-align: right;\n",
       "    }\n",
       "</style>\n",
       "<table border=\"1\" class=\"dataframe\">\n",
       "  <thead>\n",
       "    <tr style=\"text-align: right;\">\n",
       "      <th></th>\n",
       "      <th>NAME</th>\n",
       "      <th>POPULATION</th>\n",
       "      <th>BLACK</th>\n",
       "      <th>HAWN_PI</th>\n",
       "      <th>HISPANIC</th>\n",
       "      <th>WHITE</th>\n",
       "      <th>MULT_RACE</th>\n",
       "      <th>OTHER</th>\n",
       "    </tr>\n",
       "  </thead>\n",
       "  <tbody>\n",
       "    <tr>\n",
       "      <th>166</th>\n",
       "      <td>Athens</td>\n",
       "      <td>25431</td>\n",
       "      <td>1047</td>\n",
       "      <td>10</td>\n",
       "      <td>576</td>\n",
       "      <td>20586</td>\n",
       "      <td>559</td>\n",
       "      <td>138</td>\n",
       "    </tr>\n",
       "    <tr>\n",
       "      <th>167</th>\n",
       "      <td>Cambridge</td>\n",
       "      <td>10541</td>\n",
       "      <td>361</td>\n",
       "      <td>3</td>\n",
       "      <td>129</td>\n",
       "      <td>9857</td>\n",
       "      <td>316</td>\n",
       "      <td>33</td>\n",
       "    </tr>\n",
       "    <tr>\n",
       "      <th>168</th>\n",
       "      <td>Celina</td>\n",
       "      <td>10566</td>\n",
       "      <td>50</td>\n",
       "      <td>41</td>\n",
       "      <td>293</td>\n",
       "      <td>9873</td>\n",
       "      <td>164</td>\n",
       "      <td>111</td>\n",
       "    </tr>\n",
       "    <tr>\n",
       "      <th>192</th>\n",
       "      <td>Galion</td>\n",
       "      <td>10385</td>\n",
       "      <td>50</td>\n",
       "      <td>1</td>\n",
       "      <td>140</td>\n",
       "      <td>10264</td>\n",
       "      <td>120</td>\n",
       "      <td>42</td>\n",
       "    </tr>\n",
       "    <tr>\n",
       "      <th>193</th>\n",
       "      <td>London</td>\n",
       "      <td>10543</td>\n",
       "      <td>596</td>\n",
       "      <td>0</td>\n",
       "      <td>169</td>\n",
       "      <td>8830</td>\n",
       "      <td>287</td>\n",
       "      <td>61</td>\n",
       "    </tr>\n",
       "    <tr>\n",
       "      <th>194</th>\n",
       "      <td>Northbrook</td>\n",
       "      <td>10825</td>\n",
       "      <td>2974</td>\n",
       "      <td>6</td>\n",
       "      <td>377</td>\n",
       "      <td>6995</td>\n",
       "      <td>379</td>\n",
       "      <td>141</td>\n",
       "    </tr>\n",
       "    <tr>\n",
       "      <th>195</th>\n",
       "      <td>Oxford</td>\n",
       "      <td>23054</td>\n",
       "      <td>859</td>\n",
       "      <td>2</td>\n",
       "      <td>491</td>\n",
       "      <td>18719</td>\n",
       "      <td>478</td>\n",
       "      <td>127</td>\n",
       "    </tr>\n",
       "    <tr>\n",
       "      <th>196</th>\n",
       "      <td>Springdale</td>\n",
       "      <td>11507</td>\n",
       "      <td>3355</td>\n",
       "      <td>44</td>\n",
       "      <td>1965</td>\n",
       "      <td>6169</td>\n",
       "      <td>331</td>\n",
       "      <td>977</td>\n",
       "    </tr>\n",
       "    <tr>\n",
       "      <th>197</th>\n",
       "      <td>Trenton</td>\n",
       "      <td>12393</td>\n",
       "      <td>115</td>\n",
       "      <td>2</td>\n",
       "      <td>198</td>\n",
       "      <td>11418</td>\n",
       "      <td>224</td>\n",
       "      <td>35</td>\n",
       "    </tr>\n",
       "    <tr>\n",
       "      <th>198</th>\n",
       "      <td>University Heights</td>\n",
       "      <td>13884</td>\n",
       "      <td>3133</td>\n",
       "      <td>4</td>\n",
       "      <td>374</td>\n",
       "      <td>9726</td>\n",
       "      <td>215</td>\n",
       "      <td>121</td>\n",
       "    </tr>\n",
       "    <tr>\n",
       "      <th>199</th>\n",
       "      <td>Van Wert</td>\n",
       "      <td>11042</td>\n",
       "      <td>180</td>\n",
       "      <td>1</td>\n",
       "      <td>435</td>\n",
       "      <td>10263</td>\n",
       "      <td>221</td>\n",
       "      <td>130</td>\n",
       "    </tr>\n",
       "  </tbody>\n",
       "</table>\n",
       "</div>"
      ],
      "text/plain": [
       "                   NAME  POPULATION  BLACK  HAWN_PI  HISPANIC  WHITE  \\\n",
       "166              Athens       25431   1047       10       576  20586   \n",
       "167           Cambridge       10541    361        3       129   9857   \n",
       "168              Celina       10566     50       41       293   9873   \n",
       "192              Galion       10385     50        1       140  10264   \n",
       "193              London       10543    596        0       169   8830   \n",
       "194          Northbrook       10825   2974        6       377   6995   \n",
       "195              Oxford       23054    859        2       491  18719   \n",
       "196          Springdale       11507   3355       44      1965   6169   \n",
       "197             Trenton       12393    115        2       198  11418   \n",
       "198  University Heights       13884   3133        4       374   9726   \n",
       "199            Van Wert       11042    180        1       435  10263   \n",
       "\n",
       "     MULT_RACE  OTHER  \n",
       "166        559    138  \n",
       "167        316     33  \n",
       "168        164    111  \n",
       "192        120     42  \n",
       "193        287     61  \n",
       "194        379    141  \n",
       "195        478    127  \n",
       "196        331    977  \n",
       "197        224     35  \n",
       "198        215    121  \n",
       "199        221    130  "
      ]
     },
     "execution_count": 76,
     "metadata": {},
     "output_type": "execute_result"
    }
   ],
   "source": [
    "query = df['ST'] == 'OH'\n",
    "df2 = df[query][['NAME', 'POPULATION','BLACK', 'HAWN_PI', 'HISPANIC', 'WHITE', 'MULT_RACE', 'OTHER']]\n",
    "df2"
   ]
  },
  {
   "cell_type": "markdown",
   "metadata": {},
   "source": [
    "The Pandas [`merge`](https://pandas.pydata.org/pandas-docs/stable/generated/pandas.DataFrame.merge.html) capability joins dataframes in a style similar to SQL joins, with parameters to indicate the column of shared information and the type of join to perform:\n",
    "\n",
    "An `inner` join (the default), is analagous to a SQL left inner join, keeping the order from the left table in the output and returning only those records from the right table that match the value in the column specified with the `on` parameter:"
   ]
  },
  {
   "cell_type": "code",
   "execution_count": null,
   "metadata": {},
   "outputs": [],
   "source": [
    "import pandas as pd"
   ]
  },
  {
   "cell_type": "code",
   "execution_count": 81,
   "metadata": {},
   "outputs": [
    {
     "data": {
      "text/html": [
       "<div>\n",
       "<style scoped>\n",
       "    .dataframe tbody tr th:only-of-type {\n",
       "        vertical-align: middle;\n",
       "    }\n",
       "\n",
       "    .dataframe tbody tr th {\n",
       "        vertical-align: top;\n",
       "    }\n",
       "\n",
       "    .dataframe thead th {\n",
       "        text-align: right;\n",
       "    }\n",
       "</style>\n",
       "<table border=\"1\" class=\"dataframe\">\n",
       "  <thead>\n",
       "    <tr style=\"text-align: right;\">\n",
       "      <th></th>\n",
       "      <th>NAME</th>\n",
       "      <th>ST</th>\n",
       "      <th>POP2010</th>\n",
       "      <th>POPULATION</th>\n",
       "      <th>BLACK</th>\n",
       "      <th>HAWN_PI</th>\n",
       "      <th>HISPANIC</th>\n",
       "      <th>WHITE</th>\n",
       "      <th>MULT_RACE</th>\n",
       "      <th>OTHER</th>\n",
       "    </tr>\n",
       "  </thead>\n",
       "  <tbody>\n",
       "    <tr>\n",
       "      <th>0</th>\n",
       "      <td>Athens</td>\n",
       "      <td>OH</td>\n",
       "      <td>23832</td>\n",
       "      <td>25431</td>\n",
       "      <td>1047</td>\n",
       "      <td>10</td>\n",
       "      <td>576</td>\n",
       "      <td>20586</td>\n",
       "      <td>559</td>\n",
       "      <td>138</td>\n",
       "    </tr>\n",
       "    <tr>\n",
       "      <th>1</th>\n",
       "      <td>Cambridge</td>\n",
       "      <td>OH</td>\n",
       "      <td>10635</td>\n",
       "      <td>10541</td>\n",
       "      <td>361</td>\n",
       "      <td>3</td>\n",
       "      <td>129</td>\n",
       "      <td>9857</td>\n",
       "      <td>316</td>\n",
       "      <td>33</td>\n",
       "    </tr>\n",
       "    <tr>\n",
       "      <th>2</th>\n",
       "      <td>Celina</td>\n",
       "      <td>OH</td>\n",
       "      <td>10400</td>\n",
       "      <td>10566</td>\n",
       "      <td>50</td>\n",
       "      <td>41</td>\n",
       "      <td>293</td>\n",
       "      <td>9873</td>\n",
       "      <td>164</td>\n",
       "      <td>111</td>\n",
       "    </tr>\n",
       "    <tr>\n",
       "      <th>3</th>\n",
       "      <td>Galion</td>\n",
       "      <td>OH</td>\n",
       "      <td>10512</td>\n",
       "      <td>10385</td>\n",
       "      <td>50</td>\n",
       "      <td>1</td>\n",
       "      <td>140</td>\n",
       "      <td>10264</td>\n",
       "      <td>120</td>\n",
       "      <td>42</td>\n",
       "    </tr>\n",
       "    <tr>\n",
       "      <th>4</th>\n",
       "      <td>London</td>\n",
       "      <td>OH</td>\n",
       "      <td>9904</td>\n",
       "      <td>10543</td>\n",
       "      <td>596</td>\n",
       "      <td>0</td>\n",
       "      <td>169</td>\n",
       "      <td>8830</td>\n",
       "      <td>287</td>\n",
       "      <td>61</td>\n",
       "    </tr>\n",
       "    <tr>\n",
       "      <th>5</th>\n",
       "      <td>Northbrook</td>\n",
       "      <td>OH</td>\n",
       "      <td>10668</td>\n",
       "      <td>10825</td>\n",
       "      <td>2974</td>\n",
       "      <td>6</td>\n",
       "      <td>377</td>\n",
       "      <td>6995</td>\n",
       "      <td>379</td>\n",
       "      <td>141</td>\n",
       "    </tr>\n",
       "    <tr>\n",
       "      <th>6</th>\n",
       "      <td>Oxford</td>\n",
       "      <td>OH</td>\n",
       "      <td>21371</td>\n",
       "      <td>23054</td>\n",
       "      <td>859</td>\n",
       "      <td>2</td>\n",
       "      <td>491</td>\n",
       "      <td>18719</td>\n",
       "      <td>478</td>\n",
       "      <td>127</td>\n",
       "    </tr>\n",
       "    <tr>\n",
       "      <th>7</th>\n",
       "      <td>Springdale</td>\n",
       "      <td>OH</td>\n",
       "      <td>11223</td>\n",
       "      <td>11507</td>\n",
       "      <td>3355</td>\n",
       "      <td>44</td>\n",
       "      <td>1965</td>\n",
       "      <td>6169</td>\n",
       "      <td>331</td>\n",
       "      <td>977</td>\n",
       "    </tr>\n",
       "    <tr>\n",
       "      <th>8</th>\n",
       "      <td>Trenton</td>\n",
       "      <td>OH</td>\n",
       "      <td>11869</td>\n",
       "      <td>12393</td>\n",
       "      <td>115</td>\n",
       "      <td>2</td>\n",
       "      <td>198</td>\n",
       "      <td>11418</td>\n",
       "      <td>224</td>\n",
       "      <td>35</td>\n",
       "    </tr>\n",
       "    <tr>\n",
       "      <th>9</th>\n",
       "      <td>University Heights</td>\n",
       "      <td>OH</td>\n",
       "      <td>13539</td>\n",
       "      <td>13884</td>\n",
       "      <td>3133</td>\n",
       "      <td>4</td>\n",
       "      <td>374</td>\n",
       "      <td>9726</td>\n",
       "      <td>215</td>\n",
       "      <td>121</td>\n",
       "    </tr>\n",
       "    <tr>\n",
       "      <th>10</th>\n",
       "      <td>Van Wert</td>\n",
       "      <td>OH</td>\n",
       "      <td>10846</td>\n",
       "      <td>11042</td>\n",
       "      <td>180</td>\n",
       "      <td>1</td>\n",
       "      <td>435</td>\n",
       "      <td>10263</td>\n",
       "      <td>221</td>\n",
       "      <td>130</td>\n",
       "    </tr>\n",
       "  </tbody>\n",
       "</table>\n",
       "</div>"
      ],
      "text/plain": [
       "                  NAME  ST  POP2010  POPULATION  BLACK  HAWN_PI  HISPANIC  \\\n",
       "0               Athens  OH    23832       25431   1047       10       576   \n",
       "1            Cambridge  OH    10635       10541    361        3       129   \n",
       "2               Celina  OH    10400       10566     50       41       293   \n",
       "3               Galion  OH    10512       10385     50        1       140   \n",
       "4               London  OH     9904       10543    596        0       169   \n",
       "5           Northbrook  OH    10668       10825   2974        6       377   \n",
       "6               Oxford  OH    21371       23054    859        2       491   \n",
       "7           Springdale  OH    11223       11507   3355       44      1965   \n",
       "8              Trenton  OH    11869       12393    115        2       198   \n",
       "9   University Heights  OH    13539       13884   3133        4       374   \n",
       "10            Van Wert  OH    10846       11042    180        1       435   \n",
       "\n",
       "    WHITE  MULT_RACE  OTHER  \n",
       "0   20586        559    138  \n",
       "1    9857        316     33  \n",
       "2    9873        164    111  \n",
       "3   10264        120     42  \n",
       "4    8830        287     61  \n",
       "5    6995        379    141  \n",
       "6   18719        478    127  \n",
       "7    6169        331    977  \n",
       "8   11418        224     35  \n",
       "9    9726        215    121  \n",
       "10  10263        221    130  "
      ]
     },
     "execution_count": 81,
     "metadata": {},
     "output_type": "execute_result"
    }
   ],
   "source": [
    "df1_df2_inner = pd.merge(df1, df2, on='NAME', how='inner')\n",
    "df1_df2_inner"
   ]
  },
  {
   "cell_type": "code",
   "execution_count": 155,
   "metadata": {},
   "outputs": [
    {
     "name": "stdout",
     "output_type": "stream",
     "text": [
      "11 features\n"
     ]
    },
    {
     "data": {
      "application/vnd.jupyter.widget-view+json": {
       "model_id": "cb6718622ae34f90be182a030f34e363",
       "version_major": 2,
       "version_minor": 0
      },
      "text/plain": [
       "MapView(layout=Layout(height='400px', width='100%'))"
      ]
     },
     "metadata": {},
     "output_type": "display_data"
    },
    {
     "data": {
      "text/html": [
       "<div class=\"map-static-img-preview-d5a14485-390c-4b90-95cd-c3cfb800a3a6\"><img src=\"\"></img></div>"
      ],
      "text/plain": [
       "<IPython.core.display.HTML object>"
      ]
     },
     "metadata": {},
     "output_type": "display_data"
    },
    {
     "data": {
      "text/html": [
       "<div class=\"map-html-embed-preview-d5a14485-390c-4b90-95cd-c3cfb800a3a6\"></div>"
      ],
      "text/plain": [
       "<IPython.core.display.HTML object>"
      ]
     },
     "metadata": {},
     "output_type": "display_data"
    }
   ],
   "source": [
    "print(df1_df2_inner.shape[0], \"features\")\n",
    "map_inner = gis.map(\"USA\")\n",
    "query2 = df['NAME'] = df1_df2_inner['NAME']\n",
    "filtered_df = df[df['NAME'].isin(query2)]\n",
    "#map_inner.draw(shape=filtered_df.SHAPE)\n",
    "for idx, row in filtered_df.iterrows():\n",
    "    map_inner.draw(row['SHAPE'])\n",
    "map_inner"
   ]
  },
  {
   "cell_type": "markdown",
   "metadata": {},
   "source": [
    "Notice how all the rows from the left `DataFrame` appear in the result with all the attribute columns and values appended from the right `DataFrame` where the column value of `NAME` matched. The `POP2010` attribute from the left `DataFrame` is combined with all the attributes from the right `DataFrame`."
   ]
  },
  {
   "cell_type": "markdown",
   "metadata": {},
   "source": [
    "An `outer` join combines all rows from both outputs together and orders the results according to the original row index:"
   ]
  },
  {
   "cell_type": "code",
   "execution_count": 154,
   "metadata": {},
   "outputs": [
    {
     "name": "stdout",
     "output_type": "stream",
     "text": [
      "(20, 10)\n"
     ]
    },
    {
     "data": {
      "text/html": [
       "<div>\n",
       "<style scoped>\n",
       "    .dataframe tbody tr th:only-of-type {\n",
       "        vertical-align: middle;\n",
       "    }\n",
       "\n",
       "    .dataframe tbody tr th {\n",
       "        vertical-align: top;\n",
       "    }\n",
       "\n",
       "    .dataframe thead th {\n",
       "        text-align: right;\n",
       "    }\n",
       "</style>\n",
       "<table border=\"1\" class=\"dataframe\">\n",
       "  <thead>\n",
       "    <tr style=\"text-align: right;\">\n",
       "      <th></th>\n",
       "      <th>NAME</th>\n",
       "      <th>ST</th>\n",
       "      <th>POP2010</th>\n",
       "      <th>POPULATION</th>\n",
       "      <th>BLACK</th>\n",
       "      <th>HAWN_PI</th>\n",
       "      <th>HISPANIC</th>\n",
       "      <th>WHITE</th>\n",
       "      <th>MULT_RACE</th>\n",
       "      <th>OTHER</th>\n",
       "    </tr>\n",
       "  </thead>\n",
       "  <tbody>\n",
       "    <tr>\n",
       "      <th>0</th>\n",
       "      <td>Allendale</td>\n",
       "      <td>MI</td>\n",
       "      <td>17579</td>\n",
       "      <td>&lt;NA&gt;</td>\n",
       "      <td>&lt;NA&gt;</td>\n",
       "      <td>&lt;NA&gt;</td>\n",
       "      <td>&lt;NA&gt;</td>\n",
       "      <td>&lt;NA&gt;</td>\n",
       "      <td>&lt;NA&gt;</td>\n",
       "      <td>&lt;NA&gt;</td>\n",
       "    </tr>\n",
       "    <tr>\n",
       "      <th>1</th>\n",
       "      <td>Big Rapids</td>\n",
       "      <td>MI</td>\n",
       "      <td>10601</td>\n",
       "      <td>&lt;NA&gt;</td>\n",
       "      <td>&lt;NA&gt;</td>\n",
       "      <td>&lt;NA&gt;</td>\n",
       "      <td>&lt;NA&gt;</td>\n",
       "      <td>&lt;NA&gt;</td>\n",
       "      <td>&lt;NA&gt;</td>\n",
       "      <td>&lt;NA&gt;</td>\n",
       "    </tr>\n",
       "    <tr>\n",
       "      <th>2</th>\n",
       "      <td>Cadillac</td>\n",
       "      <td>MI</td>\n",
       "      <td>10355</td>\n",
       "      <td>&lt;NA&gt;</td>\n",
       "      <td>&lt;NA&gt;</td>\n",
       "      <td>&lt;NA&gt;</td>\n",
       "      <td>&lt;NA&gt;</td>\n",
       "      <td>&lt;NA&gt;</td>\n",
       "      <td>&lt;NA&gt;</td>\n",
       "      <td>&lt;NA&gt;</td>\n",
       "    </tr>\n",
       "  </tbody>\n",
       "</table>\n",
       "</div>"
      ],
      "text/plain": [
       "         NAME  ST  POP2010  POPULATION  BLACK  HAWN_PI  HISPANIC  WHITE  \\\n",
       "0   Allendale  MI    17579        <NA>   <NA>     <NA>      <NA>   <NA>   \n",
       "1  Big Rapids  MI    10601        <NA>   <NA>     <NA>      <NA>   <NA>   \n",
       "2    Cadillac  MI    10355        <NA>   <NA>     <NA>      <NA>   <NA>   \n",
       "\n",
       "   MULT_RACE  OTHER  \n",
       "0       <NA>   <NA>  \n",
       "1       <NA>   <NA>  \n",
       "2       <NA>   <NA>  "
      ]
     },
     "execution_count": 154,
     "metadata": {},
     "output_type": "execute_result"
    }
   ],
   "source": [
    "df1_df2_outer = pd.merge(df1, df2, on='NAME', how = 'outer')\n",
    "print(df1_df2_outer.shape)\n",
    "df1_df2_outer.head(3)"
   ]
  },
  {
   "cell_type": "code",
   "execution_count": 156,
   "metadata": {},
   "outputs": [
    {
     "name": "stdout",
     "output_type": "stream",
     "text": [
      "20 features\n"
     ]
    },
    {
     "data": {
      "application/vnd.jupyter.widget-view+json": {
       "model_id": "3d72898a15444f2f8faaea007bbd39b3",
       "version_major": 2,
       "version_minor": 0
      },
      "text/plain": [
       "MapView(layout=Layout(height='400px', width='100%'))"
      ]
     },
     "metadata": {},
     "output_type": "display_data"
    },
    {
     "data": {
      "text/html": [
       "<div class=\"map-static-img-preview-82cbd6d3-1b47-4095-8cc6-6fdca70a4f70\"><img src=\"\"></img></div>"
      ],
      "text/plain": [
       "<IPython.core.display.HTML object>"
      ]
     },
     "metadata": {},
     "output_type": "display_data"
    },
    {
     "data": {
      "text/html": [
       "<div class=\"map-html-embed-preview-82cbd6d3-1b47-4095-8cc6-6fdca70a4f70\"></div>"
      ],
      "text/plain": [
       "<IPython.core.display.HTML object>"
      ]
     },
     "metadata": {},
     "output_type": "display_data"
    }
   ],
   "source": [
    "print(df1_df2_outer.shape[0], \"features\")\n",
    "map_outer = gis.map(\"USA\")\n",
    "query_outer = df['NAME'] = df1_df2_outer['NAME']\n",
    "filtered_outer_df = df[df['NAME'].isin(query_outer)]\n",
    "#map_inner.draw(shape=filtered_df.SHAPE)\n",
    "for idx, row in filtered_outer_df.iterrows():\n",
    "    map_outer.draw(row['SHAPE'])\n",
    "map_outer"
   ]
  },
  {
   "cell_type": "markdown",
   "metadata": {},
   "source": [
    "The rows where the on parameter value is the same in both tables have all attributes from both DataFrames in the result. The rows from the first DataFrame that do not have a matching `NAME` value in the second dataframe have values filled in with `NaN` values."
   ]
  },
  {
   "cell_type": "markdown",
   "metadata": {},
   "source": [
    "A spatial join works similarly on matching attribute values. However, instead of joining on an attribue field (like you did earlier), you will join based on the spatial relationship between the records in the two tables.\n",
    "\n",
    "#### Example: Merging State Statistics Information with Cities\n",
    "\n",
    "The goal is to get Wyoming's city locations and census data joined with Wyoming's state census data.\n",
    "> If you do not have access to the `ArcPy` site-package from the Python interpreter used to execute the following cells, you must authenticate to an ArcGIS Online Organization or ArcGIS Enterprise portal."
   ]
  },
  {
   "cell_type": "code",
   "execution_count": 159,
   "metadata": {},
   "outputs": [],
   "source": [
    "import pandas as pd\n",
    "from arcgis.features import GeoAccessor, GeoSeriesAccessor\n",
    "import os"
   ]
  },
  {
   "cell_type": "code",
   "execution_count": 160,
   "metadata": {},
   "outputs": [
    {
     "data": {
      "text/plain": [
       "'D:\\\\EsriTraining\\\\APIforPython\\\\TemasExamen_ApiforPython\\\\data'"
      ]
     },
     "execution_count": 160,
     "metadata": {},
     "output_type": "execute_result"
    }
   ],
   "source": [
    "path = os.getcwd()\n",
    "data_path = \"data\"\n",
    "data_path = os.path.join(path[:path.find(\"TemasExamen_ApiforPython\")], \"TemasExamen_ApiforPython\", data_path)\n",
    "data_path"
   ]
  },
  {
   "cell_type": "code",
   "execution_count": 37,
   "metadata": {},
   "outputs": [],
   "source": [
    "#g2 = GIS(\"https://pythonapi.playground.esri.com/portal\", \"arcgis_python\", \"amazing_arcgis_123\")"
   ]
  },
  {
   "cell_type": "code",
   "execution_count": 172,
   "metadata": {},
   "outputs": [],
   "source": [
    "data_pth = data_path\n",
    "cities = \"cities.shp\"\n",
    "states = \"states.shp\""
   ]
  },
  {
   "cell_type": "code",
   "execution_count": null,
   "metadata": {},
   "outputs": [],
   "source": [
    "sdf_target = pd.DataFrame.spatial.from_featureclass(os.path.join(data_pth, cities))\n",
    "sdf_join = pd.DataFrame.spatial.from_featureclass(os.path.join(data_pth, states))\n",
    "sdf_target"
   ]
  },
  {
   "cell_type": "markdown",
   "metadata": {},
   "source": [
    "We will use python's list comprehensions to create lists of the attribute columns in the DataFrame, then print out the lists to see the names of all the attribute columns."
   ]
  },
  {
   "cell_type": "code",
   "execution_count": 40,
   "metadata": {},
   "outputs": [],
   "source": [
    "sdf_target_cols = [column for column in sdf_target.columns]\n",
    "sdf_join_cols = [column for column in sdf_join.columns]"
   ]
  },
  {
   "cell_type": "markdown",
   "metadata": {},
   "source": [
    "Print out a list of columns in the `sdf_target` dataframe created from the cities shapefile:"
   ]
  },
  {
   "cell_type": "code",
   "execution_count": 41,
   "metadata": {},
   "outputs": [
    {
     "name": "stdout",
     "output_type": "stream",
     "text": [
      "FID                           NAME                          CLASS                         ST\n",
      "STFIPS                        PLACEFIP                      CAPITAL                       AREALAND\n",
      "AREAWATER                     POP_CLASS                     POP2000                       POP2007\n",
      "WHITE                         BLACK                         AMERI_ES                      ASIAN\n",
      "HAWN_PI                       OTHER                         MULT_RACE                     HISPANIC\n",
      "MALES                         FEMALES                       AGE_UNDER5                    AGE_5_17\n",
      "AGE_18_21                     AGE_22_29                     AGE_30_39                     AGE_40_49\n",
      "AGE_50_64                     AGE_65_UP                     MED_AGE                       MED_AGE_M\n",
      "MED_AGE_F                     HOUSEHOLDS                    AVE_HH_SZ                     HSEHLD_1_M\n",
      "HSEHLD_1_F                    MARHH_CHD                     MARHH_NO_C                    MHH_CHILD\n",
      "FHH_CHILD                     FAMILIES                      AVE_FAM_SZ                    HSE_UNITS\n",
      "VACANT                        OWNER_OCC                     RENTER_OCC                    SHAPE\n"
     ]
    }
   ],
   "source": [
    "for a,b,c,d in zip(sdf_target_cols[::4],sdf_target_cols[1::4],sdf_target_cols[2::4], sdf_target_cols[3::4]):\n",
    "    print(\"{:<30}{:<30}{:<30}{:<}\".format(a,b,c,d))"
   ]
  },
  {
   "cell_type": "markdown",
   "metadata": {},
   "source": [
    "Print out a list of columns in the `sdf_join` dataframe created from the states shapefile:"
   ]
  },
  {
   "cell_type": "code",
   "execution_count": 42,
   "metadata": {},
   "outputs": [
    {
     "name": "stdout",
     "output_type": "stream",
     "text": [
      "FID                 STATE_NAME          STATE_FIPS          SUB_REGION          STATE_ABBR\n",
      "POPULATION          POP_SQMI            POP2010             POP10_SQMI          WHITE\n",
      "BLACK               AMERI_ES            ASIAN               HAWN_PI             HISPANIC\n",
      "OTHER               MULT_RACE           MALES               FEMALES             AGE_UNDER5\n",
      "AGE_5_9             AGE_10_14           AGE_15_19           AGE_20_24           AGE_25_34\n",
      "AGE_35_44           AGE_45_54           AGE_55_64           AGE_65_74           AGE_75_84\n",
      "AGE_85_UP           MED_AGE             MED_AGE_M           MED_AGE_F           HOUSEHOLDS\n",
      "AVE_HH_SZ           HSEHLD_1_M          HSEHLD_1_F          MARHH_CHD           MARHH_NO_C\n",
      "MHH_CHILD           FHH_CHILD           FAMILIES            AVE_FAM_SZ          HSE_UNITS\n",
      "VACANT              OWNER_OCC           RENTER_OCC          NO_FARMS12          AVE_SIZE12\n",
      "CROP_ACR12          AVE_SALE12          SQMI                Shape_Leng          Shape_Area\n"
     ]
    }
   ],
   "source": [
    "for a,b,c,d,e in zip(sdf_join_cols[::5],sdf_join_cols[1::5],sdf_join_cols[2::5],sdf_join_cols[3::5],sdf_join_cols[4::5]):\n",
    "    print(\"{:<20}{:<20}{:<20}{:<20}{:<}\".format(a,b,c,d,e))"
   ]
  },
  {
   "cell_type": "markdown",
   "metadata": {},
   "source": [
    "Create a DataFrame for the cities in Wyoming:"
   ]
  },
  {
   "cell_type": "code",
   "execution_count": 43,
   "metadata": {},
   "outputs": [
    {
     "data": {
      "text/plain": [
       "{'x': -147.8271911572905,\n",
       " 'y': 64.84830019415946,\n",
       " 'spatialReference': {'wkid': 4326, 'latestWkid': 4326}}"
      ]
     },
     "execution_count": 43,
     "metadata": {},
     "output_type": "execute_result"
    }
   ],
   "source": [
    "sdf_target.loc[0]['SHAPE']"
   ]
  },
  {
   "cell_type": "code",
   "execution_count": 44,
   "metadata": {},
   "outputs": [
    {
     "data": {
      "text/html": [
       "<div>\n",
       "<style scoped>\n",
       "    .dataframe tbody tr th:only-of-type {\n",
       "        vertical-align: middle;\n",
       "    }\n",
       "\n",
       "    .dataframe tbody tr th {\n",
       "        vertical-align: top;\n",
       "    }\n",
       "\n",
       "    .dataframe thead th {\n",
       "        text-align: right;\n",
       "    }\n",
       "</style>\n",
       "<table border=\"1\" class=\"dataframe\">\n",
       "  <thead>\n",
       "    <tr style=\"text-align: right;\">\n",
       "      <th></th>\n",
       "      <th>FID</th>\n",
       "      <th>NAME</th>\n",
       "      <th>CLASS</th>\n",
       "      <th>ST</th>\n",
       "      <th>STFIPS</th>\n",
       "      <th>PLACEFIP</th>\n",
       "      <th>CAPITAL</th>\n",
       "      <th>AREALAND</th>\n",
       "      <th>AREAWATER</th>\n",
       "      <th>POP_CLASS</th>\n",
       "      <th>...</th>\n",
       "      <th>MARHH_NO_C</th>\n",
       "      <th>MHH_CHILD</th>\n",
       "      <th>FHH_CHILD</th>\n",
       "      <th>FAMILIES</th>\n",
       "      <th>AVE_FAM_SZ</th>\n",
       "      <th>HSE_UNITS</th>\n",
       "      <th>VACANT</th>\n",
       "      <th>OWNER_OCC</th>\n",
       "      <th>RENTER_OCC</th>\n",
       "      <th>SHAPE</th>\n",
       "    </tr>\n",
       "  </thead>\n",
       "  <tbody>\n",
       "    <tr>\n",
       "      <th>711</th>\n",
       "      <td>711</td>\n",
       "      <td>Green River</td>\n",
       "      <td>City</td>\n",
       "      <td>WY</td>\n",
       "      <td>56</td>\n",
       "      <td>33740</td>\n",
       "      <td></td>\n",
       "      <td>13.706</td>\n",
       "      <td>0.315</td>\n",
       "      <td>6</td>\n",
       "      <td>...</td>\n",
       "      <td>1278</td>\n",
       "      <td>113</td>\n",
       "      <td>251</td>\n",
       "      <td>3214</td>\n",
       "      <td>3.22</td>\n",
       "      <td>4426</td>\n",
       "      <td>249</td>\n",
       "      <td>3169</td>\n",
       "      <td>1008</td>\n",
       "      <td>{\"x\": -109.46492712301152, \"y\": 41.51419117328...</td>\n",
       "    </tr>\n",
       "    <tr>\n",
       "      <th>712</th>\n",
       "      <td>712</td>\n",
       "      <td>Rock Springs</td>\n",
       "      <td>City</td>\n",
       "      <td>WY</td>\n",
       "      <td>56</td>\n",
       "      <td>67235</td>\n",
       "      <td></td>\n",
       "      <td>18.441</td>\n",
       "      <td>0.000</td>\n",
       "      <td>6</td>\n",
       "      <td>...</td>\n",
       "      <td>2012</td>\n",
       "      <td>220</td>\n",
       "      <td>536</td>\n",
       "      <td>4931</td>\n",
       "      <td>3.02</td>\n",
       "      <td>8359</td>\n",
       "      <td>1011</td>\n",
       "      <td>5274</td>\n",
       "      <td>2074</td>\n",
       "      <td>{\"x\": -109.22240010498797, \"y\": 41.59092714080...</td>\n",
       "    </tr>\n",
       "    <tr>\n",
       "      <th>715</th>\n",
       "      <td>715</td>\n",
       "      <td>Evanston</td>\n",
       "      <td>City</td>\n",
       "      <td>WY</td>\n",
       "      <td>56</td>\n",
       "      <td>25620</td>\n",
       "      <td></td>\n",
       "      <td>10.245</td>\n",
       "      <td>0.044</td>\n",
       "      <td>6</td>\n",
       "      <td>...</td>\n",
       "      <td>976</td>\n",
       "      <td>139</td>\n",
       "      <td>369</td>\n",
       "      <td>2940</td>\n",
       "      <td>3.30</td>\n",
       "      <td>4665</td>\n",
       "      <td>607</td>\n",
       "      <td>2805</td>\n",
       "      <td>1253</td>\n",
       "      <td>{\"x\": -110.96461812552366, \"y\": 41.26330015271...</td>\n",
       "    </tr>\n",
       "    <tr>\n",
       "      <th>764</th>\n",
       "      <td>764</td>\n",
       "      <td>Laramie</td>\n",
       "      <td>City</td>\n",
       "      <td>WY</td>\n",
       "      <td>56</td>\n",
       "      <td>45050</td>\n",
       "      <td></td>\n",
       "      <td>11.138</td>\n",
       "      <td>0.019</td>\n",
       "      <td>6</td>\n",
       "      <td>...</td>\n",
       "      <td>2496</td>\n",
       "      <td>174</td>\n",
       "      <td>587</td>\n",
       "      <td>5608</td>\n",
       "      <td>2.83</td>\n",
       "      <td>11994</td>\n",
       "      <td>658</td>\n",
       "      <td>5379</td>\n",
       "      <td>5957</td>\n",
       "      <td>{\"x\": -105.58725462620347, \"y\": 41.31292665660...</td>\n",
       "    </tr>\n",
       "    <tr>\n",
       "      <th>766</th>\n",
       "      <td>766</td>\n",
       "      <td>Cheyenne</td>\n",
       "      <td>City</td>\n",
       "      <td>WY</td>\n",
       "      <td>56</td>\n",
       "      <td>13900</td>\n",
       "      <td>State</td>\n",
       "      <td>21.108</td>\n",
       "      <td>0.082</td>\n",
       "      <td>7</td>\n",
       "      <td>...</td>\n",
       "      <td>6299</td>\n",
       "      <td>490</td>\n",
       "      <td>1610</td>\n",
       "      <td>14174</td>\n",
       "      <td>2.93</td>\n",
       "      <td>23782</td>\n",
       "      <td>1458</td>\n",
       "      <td>14739</td>\n",
       "      <td>7585</td>\n",
       "      <td>{\"x\": -104.80204559586696, \"y\": 41.14554516058...</td>\n",
       "    </tr>\n",
       "  </tbody>\n",
       "</table>\n",
       "<p>5 rows × 48 columns</p>\n",
       "</div>"
      ],
      "text/plain": [
       "     FID          NAME CLASS  ST STFIPS PLACEFIP CAPITAL  AREALAND  AREAWATER  \\\n",
       "711  711   Green River  City  WY     56    33740            13.706      0.315   \n",
       "712  712  Rock Springs  City  WY     56    67235            18.441      0.000   \n",
       "715  715      Evanston  City  WY     56    25620            10.245      0.044   \n",
       "764  764       Laramie  City  WY     56    45050            11.138      0.019   \n",
       "766  766      Cheyenne  City  WY     56    13900   State    21.108      0.082   \n",
       "\n",
       "     POP_CLASS                        ...                          MARHH_NO_C  \\\n",
       "711          6                        ...                                1278   \n",
       "712          6                        ...                                2012   \n",
       "715          6                        ...                                 976   \n",
       "764          6                        ...                                2496   \n",
       "766          7                        ...                                6299   \n",
       "\n",
       "     MHH_CHILD  FHH_CHILD  FAMILIES  AVE_FAM_SZ  HSE_UNITS  VACANT  OWNER_OCC  \\\n",
       "711        113        251      3214        3.22       4426     249       3169   \n",
       "712        220        536      4931        3.02       8359    1011       5274   \n",
       "715        139        369      2940        3.30       4665     607       2805   \n",
       "764        174        587      5608        2.83      11994     658       5379   \n",
       "766        490       1610     14174        2.93      23782    1458      14739   \n",
       "\n",
       "     RENTER_OCC                                              SHAPE  \n",
       "711        1008  {\"x\": -109.46492712301152, \"y\": 41.51419117328...  \n",
       "712        2074  {\"x\": -109.22240010498797, \"y\": 41.59092714080...  \n",
       "715        1253  {\"x\": -110.96461812552366, \"y\": 41.26330015271...  \n",
       "764        5957  {\"x\": -105.58725462620347, \"y\": 41.31292665660...  \n",
       "766        7585  {\"x\": -104.80204559586696, \"y\": 41.14554516058...  \n",
       "\n",
       "[5 rows x 48 columns]"
      ]
     },
     "execution_count": 44,
     "metadata": {},
     "output_type": "execute_result"
    }
   ],
   "source": [
    "q = sdf_target['ST'] == 'WY'\n",
    "left = sdf_target[q].copy()\n",
    "left.head()"
   ]
  },
  {
   "cell_type": "markdown",
   "metadata": {},
   "source": [
    "Create a dataframe for the state of Wyoming:"
   ]
  },
  {
   "cell_type": "code",
   "execution_count": 45,
   "metadata": {},
   "outputs": [
    {
     "data": {
      "text/html": [
       "<div>\n",
       "<style scoped>\n",
       "    .dataframe tbody tr th:only-of-type {\n",
       "        vertical-align: middle;\n",
       "    }\n",
       "\n",
       "    .dataframe tbody tr th {\n",
       "        vertical-align: top;\n",
       "    }\n",
       "\n",
       "    .dataframe thead th {\n",
       "        text-align: right;\n",
       "    }\n",
       "</style>\n",
       "<table border=\"1\" class=\"dataframe\">\n",
       "  <thead>\n",
       "    <tr style=\"text-align: right;\">\n",
       "      <th></th>\n",
       "      <th>FID</th>\n",
       "      <th>STATE_NAME</th>\n",
       "      <th>STATE_FIPS</th>\n",
       "      <th>SUB_REGION</th>\n",
       "      <th>STATE_ABBR</th>\n",
       "      <th>POPULATION</th>\n",
       "      <th>POP_SQMI</th>\n",
       "      <th>POP2010</th>\n",
       "      <th>POP10_SQMI</th>\n",
       "      <th>WHITE</th>\n",
       "      <th>...</th>\n",
       "      <th>OWNER_OCC</th>\n",
       "      <th>RENTER_OCC</th>\n",
       "      <th>NO_FARMS12</th>\n",
       "      <th>AVE_SIZE12</th>\n",
       "      <th>CROP_ACR12</th>\n",
       "      <th>AVE_SALE12</th>\n",
       "      <th>SQMI</th>\n",
       "      <th>Shape_Leng</th>\n",
       "      <th>Shape_Area</th>\n",
       "      <th>SHAPE</th>\n",
       "    </tr>\n",
       "  </thead>\n",
       "  <tbody>\n",
       "    <tr>\n",
       "      <th>10</th>\n",
       "      <td>10</td>\n",
       "      <td>Wyoming</td>\n",
       "      <td>56</td>\n",
       "      <td>Mountain</td>\n",
       "      <td>WY</td>\n",
       "      <td>587106</td>\n",
       "      <td>6.0</td>\n",
       "      <td>563626</td>\n",
       "      <td>5.8</td>\n",
       "      <td>511279</td>\n",
       "      <td>...</td>\n",
       "      <td>157077</td>\n",
       "      <td>69802</td>\n",
       "      <td>11736.0</td>\n",
       "      <td>2587.0</td>\n",
       "      <td>2418931.0</td>\n",
       "      <td>143952.0</td>\n",
       "      <td>97813.89</td>\n",
       "      <td>21.98703</td>\n",
       "      <td>27.966688</td>\n",
       "      <td>{\"rings\": [[[-104.05361521909884, 41.698218275...</td>\n",
       "    </tr>\n",
       "  </tbody>\n",
       "</table>\n",
       "<p>1 rows × 56 columns</p>\n",
       "</div>"
      ],
      "text/plain": [
       "    FID STATE_NAME STATE_FIPS SUB_REGION STATE_ABBR  POPULATION  POP_SQMI  \\\n",
       "10   10    Wyoming         56   Mountain         WY      587106       6.0   \n",
       "\n",
       "    POP2010  POP10_SQMI   WHITE  \\\n",
       "10   563626         5.8  511279   \n",
       "\n",
       "                          ...                          OWNER_OCC  RENTER_OCC  \\\n",
       "10                        ...                             157077       69802   \n",
       "\n",
       "    NO_FARMS12  AVE_SIZE12  CROP_ACR12  AVE_SALE12      SQMI  Shape_Leng  \\\n",
       "10     11736.0      2587.0   2418931.0    143952.0  97813.89    21.98703   \n",
       "\n",
       "    Shape_Area                                              SHAPE  \n",
       "10   27.966688  {\"rings\": [[[-104.05361521909884, 41.698218275...  \n",
       "\n",
       "[1 rows x 56 columns]"
      ]
     },
     "execution_count": 45,
     "metadata": {},
     "output_type": "execute_result"
    }
   ],
   "source": [
    "q = sdf_join.STATE_ABBR == 'WY'\n",
    "right = sdf_join[q].copy()\n",
    "right.head()"
   ]
  },
  {
   "cell_type": "markdown",
   "metadata": {},
   "source": [
    "Perform the spatial join:"
   ]
  },
  {
   "cell_type": "code",
   "execution_count": 46,
   "metadata": {},
   "outputs": [
    {
     "data": {
      "text/html": [
       "<div>\n",
       "<style scoped>\n",
       "    .dataframe tbody tr th:only-of-type {\n",
       "        vertical-align: middle;\n",
       "    }\n",
       "\n",
       "    .dataframe tbody tr th {\n",
       "        vertical-align: top;\n",
       "    }\n",
       "\n",
       "    .dataframe thead th {\n",
       "        text-align: right;\n",
       "    }\n",
       "</style>\n",
       "<table border=\"1\" class=\"dataframe\">\n",
       "  <thead>\n",
       "    <tr style=\"text-align: right;\">\n",
       "      <th></th>\n",
       "      <th>FID_left</th>\n",
       "      <th>NAME</th>\n",
       "      <th>CLASS</th>\n",
       "      <th>ST</th>\n",
       "      <th>STFIPS</th>\n",
       "      <th>PLACEFIP</th>\n",
       "      <th>CAPITAL</th>\n",
       "      <th>AREALAND</th>\n",
       "      <th>AREAWATER</th>\n",
       "      <th>POP_CLASS</th>\n",
       "      <th>...</th>\n",
       "      <th>VACANT_right</th>\n",
       "      <th>OWNER_OCC_right</th>\n",
       "      <th>RENTER_OCC_right</th>\n",
       "      <th>NO_FARMS12</th>\n",
       "      <th>AVE_SIZE12</th>\n",
       "      <th>CROP_ACR12</th>\n",
       "      <th>AVE_SALE12</th>\n",
       "      <th>SQMI</th>\n",
       "      <th>Shape_Leng</th>\n",
       "      <th>Shape_Area</th>\n",
       "    </tr>\n",
       "  </thead>\n",
       "  <tbody>\n",
       "    <tr>\n",
       "      <th>0</th>\n",
       "      <td>711</td>\n",
       "      <td>Green River</td>\n",
       "      <td>City</td>\n",
       "      <td>WY</td>\n",
       "      <td>56</td>\n",
       "      <td>33740</td>\n",
       "      <td></td>\n",
       "      <td>13.706</td>\n",
       "      <td>0.315</td>\n",
       "      <td>6</td>\n",
       "      <td>...</td>\n",
       "      <td>34989</td>\n",
       "      <td>157077</td>\n",
       "      <td>69802</td>\n",
       "      <td>11736.0</td>\n",
       "      <td>2587.0</td>\n",
       "      <td>2418931.0</td>\n",
       "      <td>143952.0</td>\n",
       "      <td>97813.89</td>\n",
       "      <td>21.98703</td>\n",
       "      <td>27.966688</td>\n",
       "    </tr>\n",
       "    <tr>\n",
       "      <th>1</th>\n",
       "      <td>712</td>\n",
       "      <td>Rock Springs</td>\n",
       "      <td>City</td>\n",
       "      <td>WY</td>\n",
       "      <td>56</td>\n",
       "      <td>67235</td>\n",
       "      <td></td>\n",
       "      <td>18.441</td>\n",
       "      <td>0.000</td>\n",
       "      <td>6</td>\n",
       "      <td>...</td>\n",
       "      <td>34989</td>\n",
       "      <td>157077</td>\n",
       "      <td>69802</td>\n",
       "      <td>11736.0</td>\n",
       "      <td>2587.0</td>\n",
       "      <td>2418931.0</td>\n",
       "      <td>143952.0</td>\n",
       "      <td>97813.89</td>\n",
       "      <td>21.98703</td>\n",
       "      <td>27.966688</td>\n",
       "    </tr>\n",
       "    <tr>\n",
       "      <th>2</th>\n",
       "      <td>715</td>\n",
       "      <td>Evanston</td>\n",
       "      <td>City</td>\n",
       "      <td>WY</td>\n",
       "      <td>56</td>\n",
       "      <td>25620</td>\n",
       "      <td></td>\n",
       "      <td>10.245</td>\n",
       "      <td>0.044</td>\n",
       "      <td>6</td>\n",
       "      <td>...</td>\n",
       "      <td>34989</td>\n",
       "      <td>157077</td>\n",
       "      <td>69802</td>\n",
       "      <td>11736.0</td>\n",
       "      <td>2587.0</td>\n",
       "      <td>2418931.0</td>\n",
       "      <td>143952.0</td>\n",
       "      <td>97813.89</td>\n",
       "      <td>21.98703</td>\n",
       "      <td>27.966688</td>\n",
       "    </tr>\n",
       "    <tr>\n",
       "      <th>3</th>\n",
       "      <td>764</td>\n",
       "      <td>Laramie</td>\n",
       "      <td>City</td>\n",
       "      <td>WY</td>\n",
       "      <td>56</td>\n",
       "      <td>45050</td>\n",
       "      <td></td>\n",
       "      <td>11.138</td>\n",
       "      <td>0.019</td>\n",
       "      <td>6</td>\n",
       "      <td>...</td>\n",
       "      <td>34989</td>\n",
       "      <td>157077</td>\n",
       "      <td>69802</td>\n",
       "      <td>11736.0</td>\n",
       "      <td>2587.0</td>\n",
       "      <td>2418931.0</td>\n",
       "      <td>143952.0</td>\n",
       "      <td>97813.89</td>\n",
       "      <td>21.98703</td>\n",
       "      <td>27.966688</td>\n",
       "    </tr>\n",
       "    <tr>\n",
       "      <th>4</th>\n",
       "      <td>766</td>\n",
       "      <td>Cheyenne</td>\n",
       "      <td>City</td>\n",
       "      <td>WY</td>\n",
       "      <td>56</td>\n",
       "      <td>13900</td>\n",
       "      <td>State</td>\n",
       "      <td>21.108</td>\n",
       "      <td>0.082</td>\n",
       "      <td>7</td>\n",
       "      <td>...</td>\n",
       "      <td>34989</td>\n",
       "      <td>157077</td>\n",
       "      <td>69802</td>\n",
       "      <td>11736.0</td>\n",
       "      <td>2587.0</td>\n",
       "      <td>2418931.0</td>\n",
       "      <td>143952.0</td>\n",
       "      <td>97813.89</td>\n",
       "      <td>21.98703</td>\n",
       "      <td>27.966688</td>\n",
       "    </tr>\n",
       "    <tr>\n",
       "      <th>5</th>\n",
       "      <td>1216</td>\n",
       "      <td>Sheridan</td>\n",
       "      <td>City</td>\n",
       "      <td>WY</td>\n",
       "      <td>56</td>\n",
       "      <td>69845</td>\n",
       "      <td></td>\n",
       "      <td>8.486</td>\n",
       "      <td>0.018</td>\n",
       "      <td>6</td>\n",
       "      <td>...</td>\n",
       "      <td>34989</td>\n",
       "      <td>157077</td>\n",
       "      <td>69802</td>\n",
       "      <td>11736.0</td>\n",
       "      <td>2587.0</td>\n",
       "      <td>2418931.0</td>\n",
       "      <td>143952.0</td>\n",
       "      <td>97813.89</td>\n",
       "      <td>21.98703</td>\n",
       "      <td>27.966688</td>\n",
       "    </tr>\n",
       "    <tr>\n",
       "      <th>6</th>\n",
       "      <td>1218</td>\n",
       "      <td>Casper</td>\n",
       "      <td>City</td>\n",
       "      <td>WY</td>\n",
       "      <td>56</td>\n",
       "      <td>13150</td>\n",
       "      <td></td>\n",
       "      <td>23.945</td>\n",
       "      <td>0.316</td>\n",
       "      <td>6</td>\n",
       "      <td>...</td>\n",
       "      <td>34989</td>\n",
       "      <td>157077</td>\n",
       "      <td>69802</td>\n",
       "      <td>11736.0</td>\n",
       "      <td>2587.0</td>\n",
       "      <td>2418931.0</td>\n",
       "      <td>143952.0</td>\n",
       "      <td>97813.89</td>\n",
       "      <td>21.98703</td>\n",
       "      <td>27.966688</td>\n",
       "    </tr>\n",
       "    <tr>\n",
       "      <th>7</th>\n",
       "      <td>1219</td>\n",
       "      <td>Gillette</td>\n",
       "      <td>City</td>\n",
       "      <td>WY</td>\n",
       "      <td>56</td>\n",
       "      <td>31855</td>\n",
       "      <td></td>\n",
       "      <td>13.369</td>\n",
       "      <td>0.025</td>\n",
       "      <td>6</td>\n",
       "      <td>...</td>\n",
       "      <td>34989</td>\n",
       "      <td>157077</td>\n",
       "      <td>69802</td>\n",
       "      <td>11736.0</td>\n",
       "      <td>2587.0</td>\n",
       "      <td>2418931.0</td>\n",
       "      <td>143952.0</td>\n",
       "      <td>97813.89</td>\n",
       "      <td>21.98703</td>\n",
       "      <td>27.966688</td>\n",
       "    </tr>\n",
       "  </tbody>\n",
       "</table>\n",
       "<p>8 rows × 104 columns</p>\n",
       "</div>"
      ],
      "text/plain": [
       "   FID_left          NAME CLASS  ST STFIPS PLACEFIP CAPITAL  AREALAND  \\\n",
       "0       711   Green River  City  WY     56    33740            13.706   \n",
       "1       712  Rock Springs  City  WY     56    67235            18.441   \n",
       "2       715      Evanston  City  WY     56    25620            10.245   \n",
       "3       764       Laramie  City  WY     56    45050            11.138   \n",
       "4       766      Cheyenne  City  WY     56    13900   State    21.108   \n",
       "5      1216      Sheridan  City  WY     56    69845             8.486   \n",
       "6      1218        Casper  City  WY     56    13150            23.945   \n",
       "7      1219      Gillette  City  WY     56    31855            13.369   \n",
       "\n",
       "   AREAWATER  POP_CLASS     ...      VACANT_right  OWNER_OCC_right  \\\n",
       "0      0.315          6     ...             34989           157077   \n",
       "1      0.000          6     ...             34989           157077   \n",
       "2      0.044          6     ...             34989           157077   \n",
       "3      0.019          6     ...             34989           157077   \n",
       "4      0.082          7     ...             34989           157077   \n",
       "5      0.018          6     ...             34989           157077   \n",
       "6      0.316          6     ...             34989           157077   \n",
       "7      0.025          6     ...             34989           157077   \n",
       "\n",
       "   RENTER_OCC_right  NO_FARMS12  AVE_SIZE12  CROP_ACR12  AVE_SALE12      SQMI  \\\n",
       "0             69802     11736.0      2587.0   2418931.0    143952.0  97813.89   \n",
       "1             69802     11736.0      2587.0   2418931.0    143952.0  97813.89   \n",
       "2             69802     11736.0      2587.0   2418931.0    143952.0  97813.89   \n",
       "3             69802     11736.0      2587.0   2418931.0    143952.0  97813.89   \n",
       "4             69802     11736.0      2587.0   2418931.0    143952.0  97813.89   \n",
       "5             69802     11736.0      2587.0   2418931.0    143952.0  97813.89   \n",
       "6             69802     11736.0      2587.0   2418931.0    143952.0  97813.89   \n",
       "7             69802     11736.0      2587.0   2418931.0    143952.0  97813.89   \n",
       "\n",
       "   Shape_Leng  Shape_Area  \n",
       "0    21.98703   27.966688  \n",
       "1    21.98703   27.966688  \n",
       "2    21.98703   27.966688  \n",
       "3    21.98703   27.966688  \n",
       "4    21.98703   27.966688  \n",
       "5    21.98703   27.966688  \n",
       "6    21.98703   27.966688  \n",
       "7    21.98703   27.966688  \n",
       "\n",
       "[8 rows x 104 columns]"
      ]
     },
     "execution_count": 46,
     "metadata": {},
     "output_type": "execute_result"
    }
   ],
   "source": [
    "sdf2 = left.spatial.join(right)\n",
    "sdf2"
   ]
  },
  {
   "cell_type": "markdown",
   "metadata": {},
   "source": [
    "Notice, you retain the geometry type of your left DataFrame (points) in this case, however, you get all the attributes from both the left and right DataFrames. Let us plot the results of the spatial join on a map:"
   ]
  },
  {
   "cell_type": "code",
   "execution_count": 47,
   "metadata": {},
   "outputs": [
    {
     "data": {
      "application/vnd.jupyter.widget-view+json": {
       "model_id": "4b496df35100459cb4639abcfe46f087",
       "version_major": 2,
       "version_minor": 0
      },
      "text/plain": [
       "MapView(basemaps=['dark-gray', 'dark-gray-vector', 'gray', 'gray-vector', 'hybrid', 'national-geographic', 'oc…"
      ]
     },
     "metadata": {},
     "output_type": "display_data"
    }
   ],
   "source": [
    "m3 = gis.map(\"Wyoming\", 6)\n",
    "m3"
   ]
  },
  {
   "cell_type": "markdown",
   "metadata": {},
   "source": [
    "![Wyoming Spatial Join](../../static/img/sdf_join_wy.png)"
   ]
  },
  {
   "cell_type": "code",
   "execution_count": 48,
   "metadata": {},
   "outputs": [],
   "source": [
    "m3.center = [43, -107]"
   ]
  },
  {
   "cell_type": "code",
   "execution_count": 49,
   "metadata": {},
   "outputs": [],
   "source": [
    "from arcgis.geometry import Geometry\n",
    "\n",
    "for idx, row in sdf2.iterrows():\n",
    "    m3.draw(row['SHAPE'], symbol=pt_sym)"
   ]
  },
  {
   "cell_type": "markdown",
   "metadata": {
    "heading_collapsed": true
   },
   "source": [
    "## Conclusion\n",
    "Spatially Enabled DataFrame give you powerful data analysis and data wrangling capabilities. In addition to performing sql like operations on attribute data, you can perform geographic queries. This guide demonstrated some of these advanced capabilities of the SEDF."
   ]
  }
 ],
 "metadata": {
  "kernelspec": {
   "display_name": "Python 3 (ipykernel)",
   "language": "python",
   "name": "python3"
  },
  "language_info": {
   "codemirror_mode": {
    "name": "ipython",
    "version": 3
   },
   "file_extension": ".py",
   "mimetype": "text/x-python",
   "name": "python",
   "nbconvert_exporter": "python",
   "pygments_lexer": "ipython3",
   "version": "3.9.16"
  },
  "toc": {
   "base_numbering": 1,
   "nav_menu": {},
   "number_sections": true,
   "sideBar": true,
   "skip_h1_title": false,
   "title_cell": "Table of Contents",
   "title_sidebar": "Contents",
   "toc_cell": true,
   "toc_position": {},
   "toc_section_display": true,
   "toc_window_display": true
  }
 },
 "nbformat": 4,
 "nbformat_minor": 2
}
