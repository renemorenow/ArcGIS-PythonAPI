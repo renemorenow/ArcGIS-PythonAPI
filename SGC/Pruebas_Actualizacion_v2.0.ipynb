{
 "cells": [
  {
   "cell_type": "code",
   "execution_count": 1,
   "metadata": {},
   "outputs": [],
   "source": [
    "from arcgis.gis import GIS,Group\n",
    "from arcgis.features import FeatureLayerCollection\n",
    "import json"
   ]
  },
  {
   "cell_type": "code",
   "execution_count": 2,
   "metadata": {},
   "outputs": [],
   "source": [
    "gis = GIS(\"pro\")"
   ]
  },
  {
   "cell_type": "code",
   "execution_count": 3,
   "metadata": {},
   "outputs": [],
   "source": [
    "CONFIGURACION_KEYWORD = \"CONFIGURACION\"\n",
    "PARCEL_SERVICE_NAME =\"PARCEL_SERVICE_NAME\"\n",
    "EMAIL_DATA_NOTIFICA_ASIGNACION = \"EMAIL_DATA_NOTIFICA_ASIGNACION\"\n",
    "jefe = \"Alfredo Alarcon-jalarcon_project_esri_co\"\n",
    "reconocedor = \"William Rene Moreno-wmoreno_project_esri_co\"\n",
    "numero_actualizacion = \"Prueba notificación\""
   ]
  },
  {
   "cell_type": "code",
   "execution_count": 4,
   "metadata": {},
   "outputs": [],
   "source": [
    "def ObtenerConfiguracion(gis,where_codigo=\"1=1\"):\n",
    "    \"\"\"Obtener parametros configurados en la tabla de configuracion del sistema\n",
    "    Parametros:    \n",
    "    - {where_codigo}: codigos para hacer la consulta solamente por esos codigos (Ej: where_codigo='CODIGO1','CODIGO2','CODIGO3')\n",
    "    \"\"\" \n",
    "    actualizacion_fl = None\n",
    "    try:        \n",
    "        #ACA SE USA EL NOMBRE DE LA CREDENCIAL ALMACENADA EN EL OS\n",
    "        if gis is not None:\n",
    "            print(\"Obteniendo parámetros de configuracion....\")\n",
    "            listado = {}\n",
    "            #if actualizacion_fl is None:\n",
    "            actualizacion_fl = gis.content.search('Actualizacion_Catastro_2.0','Feature Layer')\n",
    "            if len(actualizacion_fl)>0:\n",
    "                config_item = actualizacion_fl[0]\n",
    "                for table in config_item.tables:\n",
    "                    if table.properties.name.upper()==CONFIGURACION_KEYWORD:                        \n",
    "                        query_result = table.query(where=where_codigo, out_fields='*')\n",
    "                        for feature in query_result.features:    \n",
    "                            opcion = feature.attributes[\"opcion\"]\n",
    "                            valor = feature.attributes[\"valor\"]    \n",
    "                            listado[str(opcion)]=valor\n",
    "            #print(listado)     \n",
    "        else:\n",
    "            print(\"Gis es nulo\")\n",
    "        return listado\n",
    "    except Exception as ex:            \n",
    "        print(\"Error obteniendo los parametros : {}\".format(str(ex)))\n",
    "        return None"
   ]
  },
  {
   "cell_type": "code",
   "execution_count": 5,
   "metadata": {},
   "outputs": [
    {
     "name": "stdout",
     "output_type": "stream",
     "text": [
      "Obteniendo parámetros de configuracion....\n"
     ]
    }
   ],
   "source": [
    "dictParams = ObtenerConfiguracion(gis)\n",
    "#dictParams[\"EMAIL_DATA_NOTIFICA_ASIGNACION\"]"
   ]
  },
  {
   "cell_type": "code",
   "execution_count": 6,
   "metadata": {},
   "outputs": [],
   "source": [
    "def enviar_correo(segis, asunto, mensaje, email_destino=None, type_text='plain'):\n",
    "    \"\"\"Metodo para enviar correos\n",
    "    Parametros:\n",
    "    - gis: objeto gis\n",
    "    - asunto: asunto del mensaje\n",
    "    - mensaje: cuerpo del correo\n",
    "    - {email_destino}: email destino\n",
    "    \"\"\"\n",
    "    import smtplib\n",
    "    from email.mime.multipart import MIMEMultipart\n",
    "    from email.mime.text import MIMEText\n",
    "    try:\n",
    "        print(\"Enviando correo electronico a {}...\".format(email_destino))\n",
    "        CON_INFO_EMAIL_DATA = \"CON_INFO_EMAIL_DATA\"\n",
    "        dictParams = ObtenerConfiguracion(gis, \"opcion='{}'\".format(CON_INFO_EMAIL_DATA))\n",
    "        email_data = json.loads(dictParams[CON_INFO_EMAIL_DATA])\n",
    "        msg = MIMEMultipart()\n",
    "        password = email_data[\"password\"]\n",
    "        msg['From'] = email_data[\"mailfrom\"]\n",
    "        msg['To'] = email_data[\"mailsuperusuario\"] if email_destino is None else email_destino\n",
    "        msg['Subject'] = asunto\n",
    "        msg.attach(MIMEText(mensaje, type_text, 'utf-8'))\n",
    "        server = smtplib.SMTP(email_data[\"server\"])\n",
    "        server.starttls()\n",
    "        server.login(msg['From'], password)\n",
    "        server.sendmail(msg['From'], [msg['To']] + email_data[\"cco\"], msg.as_string())\n",
    "        server.quit()\n",
    "        print(\"Mensaje enviado satisfactoriamente\")\n",
    "    except Exception as e:\n",
    "        if 'server' in locals():\n",
    "            server.quit()\n",
    "        print(\"Exception enviar_correo: {}\".format(str(e)))"
   ]
  },
  {
   "cell_type": "code",
   "execution_count": 7,
   "metadata": {},
   "outputs": [],
   "source": [
    "def notificarAsignacion(numero_actualizacion, listado_numeros_prediales, asignado_a, asignado_por):\n",
    "    strJson = dictParams[EMAIL_DATA_NOTIFICA_ASIGNACION]\n",
    "    asunto_mensaje = json.loads(strJson)\n",
    "    usuario = gis.users.get(asignado_a.split(\"-\")[1])\n",
    "    print(\"usuario: {}\".format(usuario))\n",
    "    codigos_predios = str(listado_numeros_prediales).replace(\"[\",\"\").replace(\"]\",\"\")\n",
    "    asunto = asunto_mensaje[\"asunto\"].format(NRO_ASIGNACION=numero_actualizacion)\n",
    "    mensaje = asunto_mensaje[\"mensaje\"].format(\n",
    "        USUARIODESTINO_FULLNAME=usuario.fullName,\n",
    "        LISTA_PREDIOS=codigos_predios,\n",
    "        USUARIOASIGNA_FULLNAME=asignado_por.split(\"-\")[0])\n",
    "    enviar_correo(gis, asunto, mensaje, usuario.email, \"html\")"
   ]
  },
  {
   "cell_type": "code",
   "execution_count": 10,
   "metadata": {},
   "outputs": [
    {
     "name": "stdout",
     "output_type": "stream",
     "text": [
      "'0800101...1', '0800101...2'\n",
      "usuario: <User username:wmoreno_project_esri_co>\n",
      "Enviando correo electronico a wmoreno@esri.co...\n",
      "Obteniendo parámetros de configuracion....\n",
      "Mensaje enviado satisfactoriamente\n"
     ]
    }
   ],
   "source": [
    "listado_numeros_prediales = []\n",
    "listado_numeros_prediales.append(\"0800101...1\")\n",
    "listado_numeros_prediales.append(\"0800101...2\")\n",
    "print(str(listado_numeros_prediales).replace(\"[\",\"\").replace(\"]\",\"\"))\n",
    "if len(listado_numeros_prediales) > 0:\n",
    "    notificarAsignacion(numero_actualizacion, listado_numeros_prediales, reconocedor, jefe)"
   ]
  }
 ],
 "metadata": {
  "kernelspec": {
   "display_name": "ArcGISPro",
   "language": "Python",
   "name": "python3"
  },
  "language_info": {
   "file_extension": ".py",
   "name": "python",
   "version": "3"
  }
 },
 "nbformat": 4,
 "nbformat_minor": 2
}
