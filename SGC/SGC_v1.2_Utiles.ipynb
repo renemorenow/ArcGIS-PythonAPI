{
 "cells": [
  {
   "cell_type": "code",
   "execution_count": 1,
   "metadata": {},
   "outputs": [],
   "source": [
    "from arcgis.gis import GIS\n",
    "import arcpy\n",
    "import requests\n",
    "import json"
   ]
  },
  {
   "cell_type": "code",
   "execution_count": 2,
   "metadata": {},
   "outputs": [],
   "source": [
    "user = \"sgcoficial\"\n",
    "gis = GIS(\"https://catastro-sesquile.com/portal\", user)"
   ]
  },
  {
   "cell_type": "code",
   "execution_count": 6,
   "metadata": {},
   "outputs": [],
   "source": [
    "wfm_service = \"a6be10ea955b46518aa53f4f67d531d6\"\n",
    "jobId = 3"
   ]
  },
  {
   "cell_type": "code",
   "execution_count": null,
   "metadata": {},
   "outputs": [],
   "source": [
    "def asignarEjecutor(wfm_service, jobId, assignedTo):\n",
    "    parametros = {\n",
    "        \"user\": \"sgcoficial\",\n",
    "        \"assignedtype\": 1,\n",
    "        \"assignedTo\": assignedTo,\n",
    "        \"f\": \"json\",\n",
    "        \"token\": \"\"\n",
    "    }\n",
    "    thetoken = gis._con.token\n",
    "    search_result = gis.content.get(wfm_service)\n",
    "    if search_result:\n",
    "        url_wfm_job_operation = search_result.url+\"/jobs/{jobId}/{operation_job}\".format(jobId=jobId, operation_job=\"update\")\n",
    "        parametros[\"token\"] = thetoken\n",
    "        r = requests.post(url=url_wfm_job_operation, data=parametros)\n",
    "        resultjson = json.loads(r.text)\n",
    "        print(\"Respuesta operacion job:{}\".format(resultjson))\n",
    "        return resultjson"
   ]
  },
  {
   "cell_type": "code",
   "execution_count": 11,
   "metadata": {},
   "outputs": [],
   "source": [
    "def sendNotification(wfm_service,parametros,job_id):\n",
    "    try:    \n",
    "        print(\"Enviando notificacion ....\")        \n",
    "        thetoken = gis._con.token\n",
    "        search_result = gis.content.search('{}'.format(wfm_service),'Workflow Manager')\n",
    "        if search_result:\n",
    "            url_wfm_service_sn = search_result[0].url+\"/jobs/job/{jobid}/sendNotification\".format(jobid=job_id)\n",
    "            parametros[\"token\"] = thetoken\n",
    "            r = requests.post(url=url_wfm_service_sn, data=parametros)\n",
    "            resultjson = json.loads(r.text)\n",
    "            print(\"Respuesta envio de notificacion:{}\".format(resultjson))\n",
    "        else:\n",
    "            print(\"No se encuentra el servicio {}\".format(wfm_service))\n",
    "        return True\n",
    "    except Exception as ex:\n",
    "        print(\"Error enviando la notificacion: {}\".format(str(ex)))     \n",
    "        return None\n"
   ]
  },
  {
   "cell_type": "code",
   "execution_count": null,
   "metadata": {},
   "outputs": [],
   "source": [
    "assignedTo = \"\"\n",
    "asignarEjecutor(wfm_service, jobId, assignedTo)"
   ]
  },
  {
   "cell_type": "code",
   "execution_count": 29,
   "metadata": {},
   "outputs": [
    {
     "name": "stdout",
     "output_type": "stream",
     "text": [
      "Enviando notificacion ....\n",
      "Respuesta envio de notificacion:{'success': True}\n",
      "Respuesta envio CON_JobAssignedEjecutor - True\n"
     ]
    }
   ],
   "source": [
    "notificacion = \"CON_JobAssignedEjecutor\"\n",
    "dict_notification = {\n",
    "    \"user\": user,\n",
    "    \"type\": notificacion,\n",
    "    \"f\": \"json\",\n",
    "    \"token\": \"\"\n",
    "}\n",
    "response = sendNotification(wfm_service, dict_notification, jobId)\n",
    "print(\"Notificacion: {}\".format(notificacion))"
   ]
  }
 ],
 "metadata": {
  "interpreter": {
   "hash": "504db09e6c8adbd4c5ebbff64dd4895d32c808fd904a1400525538a82f265014"
  },
  "kernelspec": {
   "display_name": "Python 3.7.9 64-bit ('arcgispro-py3-clone': conda)",
   "name": "python3"
  },
  "language_info": {
   "codemirror_mode": {
    "name": "ipython",
    "version": 3
   },
   "file_extension": ".py",
   "mimetype": "text/x-python",
   "name": "python",
   "nbconvert_exporter": "python",
   "pygments_lexer": "ipython3",
   "version": "3.7.9"
  },
  "orig_nbformat": 4
 },
 "nbformat": 4,
 "nbformat_minor": 2
}
