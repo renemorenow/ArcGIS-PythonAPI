{
 "cells": [
  {
   "cell_type": "code",
   "execution_count": 57,
   "metadata": {},
   "outputs": [],
   "source": [
    "from arcgis.gis import GIS\n",
    "from sgc import sgccat20lib\n",
    "import sys\n",
    "import os\n",
    "import arcpy\n",
    "import json\n",
    "from arcgis.features import FeatureLayer"
   ]
  },
  {
   "cell_type": "code",
   "execution_count": 31,
   "metadata": {},
   "outputs": [
    {
     "name": "stdout",
     "output_type": "stream",
     "text": [
      "https://desarrollocatastro12.esri.co/portal/\n",
      "https://desarrollocatastro12.esri.co/server/rest/services/SERVICIOS/FS_Conservacion_Edicion/FeatureServer\n"
     ]
    }
   ],
   "source": [
    "dir_files_alistamiento = r\"D:\\Dev\\Catastro\\Repos\\EditorCatastral\\alistamiento\"\n",
    "sys.path.append(dir_files_alistamiento)\n",
    "toolbox = r\"D:\\Dev\\Catastro\\Repos\\EditorCatastral\\alistamiento\\SGC_Instalacion.pyt\"\n",
    "\n",
    "# thetool = arcpy.ImportToolbox(\"SGC_Instalacion.Utils\")\n",
    "# utilsSGC = thetool.Utils()\n",
    "# utilsSGC.addMessage(\"TEST\")\n",
    "sgccat20lib.profile_storaged = \"sgc20_desarrollo\"\n",
    "gis = sgccat20lib.gisLogin()\n",
    "print(gis.url)\n",
    "dictParams = sgccat20lib.ObtenerParametros()\n",
    "parcel_service = dictParams[\"PARCEL_SERVICE_NAME\"]\n",
    "gis = sgccat20lib.gisLogin(\"profile\")\n",
    "ParcelService = gis.content.get(parcel_service)\n",
    "urlParcelService = ParcelService.url\n",
    "print(urlParcelService)"
   ]
  },
  {
   "cell_type": "code",
   "execution_count": 33,
   "metadata": {},
   "outputs": [],
   "source": [
    "def consultarItemPortal(gis, item_title, item_type):\n",
    "    print(\"consultarItemPortal title:{} AND type:{}\".format(item_title, item_type))\n",
    "    query_value = 'title:\"{}\", owner:{}'.format(item_title, gis.users.me.username)\n",
    "    result_search = [x for x in gis.content.search(query=query_value, item_type=item_type) if x.title==item_title]\n",
    "    if len(result_search) == 0:\n",
    "        print(\"No se encontro ningun item con el nombre \"+item_title)\n",
    "    elif len(result_search) > 1:\n",
    "        print(\"Hay mas de un servicio con el nombre \"+item_title, \"ERROR\")\n",
    "        raise Exception(\"Hay mas de un servicio con el nombre \"+item_title)\n",
    "    return result_search"
   ]
  },
  {
   "cell_type": "code",
   "execution_count": 53,
   "metadata": {},
   "outputs": [
    {
     "name": "stdout",
     "output_type": "stream",
     "text": [
      "consultarItemPortal title:V_Assignments_Workers AND type:None\n",
      "[<FeatureLayer url:\"https://desarrollocatastro12.esri.co/server/rest/services/Hosted/V_Assignments_Workers/FeatureServer/0\">]\n"
     ]
    }
   ],
   "source": [
    "item = consultarItemPortal(gis,\"V_Assignments_Workers\", None)[0]\n",
    "data = item.layers\n",
    "print(data)"
   ]
  },
  {
   "cell_type": "code",
   "execution_count": null,
   "metadata": {},
   "outputs": [],
   "source": [
    "from arcgis.apps import dashboard\n",
    "wm = dashboard.Dashboard()"
   ]
  },
  {
   "cell_type": "code",
   "execution_count": 58,
   "metadata": {},
   "outputs": [],
   "source": [
    "dir_files_generarcintas = r\"D:\\Dev\\Catastro\\Repos\\EditorCatastral\\Geoprocesos\\generarcintas.GPServer\"\n",
    "sys.path.append(dir_files_generarcintas)\n",
    "import generarCintas as cintas\n",
    "gLayers = sgccat20lib.getLayers()"
   ]
  },
  {
   "cell_type": "code",
   "execution_count": 66,
   "metadata": {},
   "outputs": [
    {
     "name": "stdout",
     "output_type": "stream",
     "text": [
      "<class 'dict'>\n"
     ]
    },
    {
     "ename": "AttributeError",
     "evalue": "'dict' object has no attribute 'type'",
     "output_type": "error",
     "traceback": [
      "\u001b[1;31m---------------------------------------------------------------------------\u001b[0m",
      "\u001b[1;31mAttributeError\u001b[0m                            Traceback (most recent call last)",
      "\u001b[1;32m~\\AppData\\Local\\Temp\\ipykernel_27152\\1774647588.py\u001b[0m in \u001b[0;36m<module>\u001b[1;34m\u001b[0m\n\u001b[0;32m      5\u001b[0m     \u001b[0mfeaturesTerreno\u001b[0m \u001b[1;33m=\u001b[0m \u001b[0mrel_terreno\u001b[0m\u001b[1;33m\u001b[0m\u001b[1;33m\u001b[0m\u001b[0m\n\u001b[0;32m      6\u001b[0m     \u001b[0mprint\u001b[0m\u001b[1;33m(\u001b[0m\u001b[0mtype\u001b[0m\u001b[1;33m(\u001b[0m\u001b[0mfeaturesTerreno\u001b[0m\u001b[1;33m)\u001b[0m\u001b[1;33m)\u001b[0m\u001b[1;33m\u001b[0m\u001b[1;33m\u001b[0m\u001b[0m\n\u001b[1;32m----> 7\u001b[1;33m     \u001b[0mnew_layer\u001b[0m\u001b[1;33m=\u001b[0m \u001b[0mFeatureLayer\u001b[0m\u001b[1;33m.\u001b[0m\u001b[0mfromitem\u001b[0m\u001b[1;33m(\u001b[0m\u001b[0mfeaturesTerreno\u001b[0m\u001b[1;33m)\u001b[0m\u001b[1;33m\u001b[0m\u001b[1;33m\u001b[0m\u001b[0m\n\u001b[0m\u001b[0;32m      8\u001b[0m     \u001b[0mprint\u001b[0m\u001b[1;33m(\u001b[0m\u001b[0mtype\u001b[0m\u001b[1;33m(\u001b[0m\u001b[0mnew_layer\u001b[0m\u001b[1;33m)\u001b[0m\u001b[1;33m)\u001b[0m\u001b[1;33m\u001b[0m\u001b[1;33m\u001b[0m\u001b[0m\n",
      "\u001b[1;32mc:\\Users\\wmoreno\\AppData\\Local\\ESRI\\conda\\envs\\arcgispro-py3-clone\\lib\\site-packages\\arcgis\\features\\layer.py\u001b[0m in \u001b[0;36mfromitem\u001b[1;34m(cls, item, layer_id)\u001b[0m\n\u001b[0;32m    197\u001b[0m \u001b[1;33m\u001b[0m\u001b[0m\n\u001b[0;32m    198\u001b[0m         \"\"\"\n\u001b[1;32m--> 199\u001b[1;33m         \u001b[1;32mreturn\u001b[0m \u001b[0mFeatureLayerCollection\u001b[0m\u001b[1;33m.\u001b[0m\u001b[0mfromitem\u001b[0m\u001b[1;33m(\u001b[0m\u001b[0mitem\u001b[0m\u001b[1;33m)\u001b[0m\u001b[1;33m.\u001b[0m\u001b[0mlayers\u001b[0m\u001b[1;33m[\u001b[0m\u001b[0mlayer_id\u001b[0m\u001b[1;33m]\u001b[0m\u001b[1;33m\u001b[0m\u001b[1;33m\u001b[0m\u001b[0m\n\u001b[0m\u001b[0;32m    200\u001b[0m \u001b[1;33m\u001b[0m\u001b[0m\n\u001b[0;32m    201\u001b[0m     \u001b[1;33m@\u001b[0m\u001b[0mproperty\u001b[0m\u001b[1;33m\u001b[0m\u001b[1;33m\u001b[0m\u001b[0m\n",
      "\u001b[1;32mc:\\Users\\wmoreno\\AppData\\Local\\ESRI\\conda\\envs\\arcgispro-py3-clone\\lib\\site-packages\\arcgis\\gis\\__init__.py\u001b[0m in \u001b[0;36mfromitem\u001b[1;34m(cls, item)\u001b[0m\n\u001b[0;32m  14126\u001b[0m \u001b[1;33m\u001b[0m\u001b[0m\n\u001b[0;32m  14127\u001b[0m         \"\"\"\n\u001b[1;32m> 14128\u001b[1;33m         \u001b[1;32mif\u001b[0m \u001b[1;32mnot\u001b[0m \u001b[0mitem\u001b[0m\u001b[1;33m.\u001b[0m\u001b[0mtype\u001b[0m\u001b[1;33m.\u001b[0m\u001b[0mlower\u001b[0m\u001b[1;33m(\u001b[0m\u001b[1;33m)\u001b[0m\u001b[1;33m.\u001b[0m\u001b[0mendswith\u001b[0m\u001b[1;33m(\u001b[0m\u001b[1;34m\"service\"\u001b[0m\u001b[1;33m)\u001b[0m\u001b[1;33m:\u001b[0m\u001b[1;33m\u001b[0m\u001b[1;33m\u001b[0m\u001b[0m\n\u001b[0m\u001b[0;32m  14129\u001b[0m             \u001b[1;32mraise\u001b[0m \u001b[0mTypeError\u001b[0m\u001b[1;33m(\u001b[0m\u001b[1;34m\"item must be a type of service, not \"\u001b[0m \u001b[1;33m+\u001b[0m \u001b[0mitem\u001b[0m\u001b[1;33m.\u001b[0m\u001b[0mtype\u001b[0m\u001b[1;33m)\u001b[0m\u001b[1;33m\u001b[0m\u001b[1;33m\u001b[0m\u001b[0m\n\u001b[0;32m  14130\u001b[0m         \u001b[1;32mreturn\u001b[0m \u001b[0mcls\u001b[0m\u001b[1;33m(\u001b[0m\u001b[0mitem\u001b[0m\u001b[1;33m.\u001b[0m\u001b[0murl\u001b[0m\u001b[1;33m,\u001b[0m \u001b[0mitem\u001b[0m\u001b[1;33m.\u001b[0m\u001b[0m_gis\u001b[0m\u001b[1;33m)\u001b[0m\u001b[1;33m\u001b[0m\u001b[1;33m\u001b[0m\u001b[0m\n",
      "\u001b[1;31mAttributeError\u001b[0m: 'dict' object has no attribute 'type'"
     ]
    }
   ],
   "source": [
    "where = \"numero_predial = '412980300000000090028000000000'\"\n",
    "datosPredio = cintas.getDatosPrediosRelations(where, None)\n",
    "if datosPredio:\n",
    "    rel_terreno = next(iter(filter(lambda x: x[\"name\"].upper()==gLayers[\"RELACIONES\"][\"predio_terreno\"].upper(), datosPredio[\"features\"][0][\"Relationships\"])), None)\n",
    "    featuresTerreno = rel_terreno\n",
    "    print(type(featuresTerreno))\n",
    "    new_layer= FeatureLayer.fromitem(featuresTerreno)\n",
    "    print(type(new_layer))"
   ]
  }
 ],
 "metadata": {
  "kernelspec": {
   "display_name": "Python 3.7.11 64-bit ('arcgispro-py3-clone')",
   "language": "python",
   "name": "python3"
  },
  "language_info": {
   "codemirror_mode": {
    "name": "ipython",
    "version": 3
   },
   "file_extension": ".py",
   "mimetype": "text/x-python",
   "name": "python",
   "nbconvert_exporter": "python",
   "pygments_lexer": "ipython3",
   "version": "3.7.11"
  },
  "orig_nbformat": 4,
  "vscode": {
   "interpreter": {
    "hash": "6085f8b8ffd688a54e732bb2d8a1e7f06b731569fbfa9e59aa638e5a28281238"
   }
  }
 },
 "nbformat": 4,
 "nbformat_minor": 2
}
