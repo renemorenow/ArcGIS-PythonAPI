{
 "cells": [
  {
   "cell_type": "code",
   "execution_count": 1,
   "metadata": {},
   "outputs": [],
   "source": [
    "from arcgis.gis import GIS\n",
    "from arcgis.geometry import Polygon\n",
    "from sgc import sgccat20lib"
   ]
  },
  {
   "cell_type": "code",
   "execution_count": 4,
   "metadata": {},
   "outputs": [
    {
     "name": "stdout",
     "output_type": "stream",
     "text": [
      "https://instalacionsgcladm.esri.co/portal\n"
     ]
    }
   ],
   "source": [
    "PARCEL_SERVICE_NAME = \"PARCEL_SERVICE_NAME\"\n",
    "sgccat20lib.profile_storaged = \"sgc20_instalacionsgcladm\"\n",
    "gis = sgccat20lib.gisLogin()\n",
    "print(gis.url)\n",
    "dictParams = sgccat20lib.ObtenerParametros()\n",
    "parcel_service = dictParams[PARCEL_SERVICE_NAME]\n",
    "urlParcelService = gis.content.get(parcel_service).url\n",
    "gLayers = sgccat20lib.getLayers()"
   ]
  },
  {
   "attachments": {},
   "cell_type": "markdown",
   "metadata": {},
   "source": [
    "### Consultar primeros 10 predios:"
   ]
  },
  {
   "cell_type": "code",
   "execution_count": null,
   "metadata": {},
   "outputs": [],
   "source": [
    "where = \"upper(estado_predio) = upper('Activo') and condicion_predio = 'PH_Unidad_Predial'\"\n",
    "kwargs = { \"return_geometry\":True, \"result_record_count\":10 }\n",
    "predioCapa = sgccat20lib.get_features_layertable_where(\n",
    "    gis,\n",
    "    \"{0}/{1}\".format(urlParcelService, gLayers[\"PREDIO\"][\"ID\"]),\n",
    "    where,\n",
    "    \"numero_predial,globalid,objectid,condicion_predio\",\n",
    "    None,\n",
    "    [gLayers[\"RELACIONES\"][\"predio_terreno\"],gLayers[\"RELACIONES\"][\"predio_unidadconstruccion\"]],\n",
    "    [\"*\",\"*\"],\n",
    "    **kwargs)\n",
    "# print(predioCapa)\n",
    "if predioCapa and predioCapa.get(\"Relationships\"):\n",
    "    rel_terreno = next(iter(filter(lambda x: x[\"name\"].upper()==gLayers[\"RELACIONES\"][\"predio_terreno\"].upper(), predioCapa[\"Relationships\"])), None)\n",
    "    if len(rel_terreno[\"features\"]) > 0:\n",
    "        for row in rel_terreno[\"features\"]:\n",
    "            print(row[\"attributes\"][\"name\"])\n",
    "if predioCapa and predioCapa.get(\"Relationships\"):\n",
    "    rel_terreno = next(iter(filter(lambda x: x[\"name\"].upper()==gLayers[\"RELACIONES\"][\"predio_unidadconstruccion\"].upper(), predioCapa[\"Relationships\"])), None)\n",
    "    if len(rel_terreno[\"features\"]) > 0:\n",
    "        for row in rel_terreno[\"features\"]:\n",
    "            print(row[\"attributes\"][\"name\"])"
   ]
  },
  {
   "cell_type": "code",
   "execution_count": 5,
   "metadata": {},
   "outputs": [
    {
     "name": "stdout",
     "output_type": "stream",
     "text": [
      "268750\n",
      "{'rings': [[[5066016.7679, 2470462.3167000003], [5065949.0809, 2470407.1657000002], [5065783.2987, 2470303.0024], [5065745.3211, 2470256.7546], [5065679.4016, 2470180.036900001], [5065577.681000001, 2470071.6878999993], [5065566.3408, 2470049.5572], [5065454.054500001, 2470079.5197], [5065350.562000001, 2470105.9865000015], [5065276.3617, 2470115.7414], [5065248.8144000005, 2470117.444800001], [5065245.4489, 2470144.9112000004], [5065242.988500001, 2470171.712300001], [5065221.438100001, 2470289.3523999993], [5065195.387800001, 2470373.1631000005], [5065171.685500001, 2470453.4879], [5065157.3935, 2470516.3712000013], [5065154.7871, 2470573.4817999993], [5065166.192100001, 2470625.9968000003], [5065190.4429, 2470673.9104999993], [5065217.0891, 2470714.299799999], [5065342.0135, 2470714.9013000005], [5065601.4845, 2470728.509299999], [5065702.7625, 2470733.720899999], [5065818.2734, 2470739.664999999], [5066017.0865, 2470750.7339999992], [5066013.883700001, 2470715.888900001], [5066007.8727, 2470564.1822999995], [5066016.7679, 2470462.3167000003]]], 'spatialReference': {'wkid': 9377, 'latestWkid': 9377}}\n"
     ]
    }
   ],
   "source": [
    "codigopredioinicial = \"540010001000000020009000000000\"\n",
    "where = \"numero_predial='{}'\".format(codigopredioinicial)\n",
    "kwargs = { \"return_geometry\": True }\n",
    "predioCapa = sgccat20lib.get_features_layertable_where(\n",
    "    gis,\n",
    "    \"{0}/{1}\".format(urlParcelService, gLayers[\"PREDIO\"][\"ID\"]),\n",
    "    where,\n",
    "    \"globalid,objectid,condicion_predio\",\n",
    "    None,\n",
    "    [gLayers[\"RELACIONES\"][\"predio_terreno\"]],\n",
    "    [gLayers[\"TERRENO\"][\"FIELDS\"]],\n",
    "    **kwargs)\n",
    "if predioCapa and predioCapa.get(\"Relationships\"):\n",
    "    rel_terreno = next(iter(filter(lambda x: x[\"name\"].upper()==gLayers[\"RELACIONES\"][\"predio_terreno\"].upper(), predioCapa[\"Relationships\"])), None)\n",
    "    LOI = None\n",
    "    if len(rel_terreno[\"features\"]) > 0:\n",
    "        spatialReference = rel_terreno[\"spatialReference\"]\n",
    "        for row in rel_terreno[\"features\"]:\n",
    "            print(row[\"attributes\"][\"area_terreno\"])\n",
    "            geometria = row[\"geometry\"]\n",
    "            geometria[\"spatialReference\"] = spatialReference\n",
    "            if LOI is None:\n",
    "                LOI = Polygon(geometria)\n",
    "            else:\n",
    "                LOIX = Polygon(geometria)\n",
    "                LOI = LOI.union(LOIX)\n",
    "    print(LOI)"
   ]
  },
  {
   "cell_type": "code",
   "execution_count": null,
   "metadata": {},
   "outputs": [],
   "source": [
    "loi = sgccat20lib.obtenerLOI(gLayers[\"PREDIO\"][\"LAYER\"], parcel_service, gLayers[\"RELACIONES\"][\"predio_terreno\"], where, None)\n",
    "print(loi)"
   ]
  },
  {
   "cell_type": "code",
   "execution_count": null,
   "metadata": {},
   "outputs": [],
   "source": [
    "import sys\n",
    "import os\n",
    "where = \"numero_predial='{}'\".format(codigopredioinicial)\n",
    "ambito = \"RURAL\" if str(codigopredioinicial[5:7]) == \"00\" else \"URBANO\"\n",
    "capa = gLayers[\"MANZANA\"][\"ID\"] if ambito==\"URBANO\" else gLayers[\"VEREDA\"][\"ID\"]\n",
    "dir_files_lib = r\"D:\\Dev\\Catastro\\Repos\\EditorCatastral\\Geoprocesos\\asignacion.GPServer\"\n",
    "sys.path.append(dir_files_lib)\n",
    "import asignacion as asigna\n",
    "condicionPropiedad = codigopredioinicial[21:22]\n",
    "if condicionPropiedad == '9':\n",
    "    #PH: SE UTILIZA TERRENO\n",
    "    #SACAR EL PH MATRIZAL PRINCIPAL Y ASOCIADOS\n",
    "    ultimos_ocho = codigopredioinicial[22:]\n",
    "    if ultimos_ocho == \"00000000\":#ES UN PH MATRIZ\n",
    "        relationship = gLayers[\"RELACIONES\"][\"predio_terreno\"]\n",
    "    else:#ES UNA UNIDAD PH\n",
    "        relationship = gLayers[\"RELACIONES\"][\"predio_unidadconstruccion\"]\n",
    "elif condicionPropiedad=='5':#MEJORA NPH\n",
    "    relationship = gLayers[\"RELACIONES\"][\"predio_construccion\"]\n",
    "else:\n",
    "    relationship = gLayers[\"RELACIONES\"][\"predio_terreno\"]\n",
    "where_loi = \"codigo='{}'\".format(str(codigopredioinicial[:17]))\n",
    "capa = gLayers[\"MANZANA\"][\"ID\"] if ambito==\"URBANO\" else gLayers[\"VEREDA\"][\"ID\"]\n",
    "# resultLOI = asigna.obtenerLOI(parcel_service, gLayers, where, relation=relationship)\n",
    "where_loi = \"codigo='{}'\".format(str(codigopredioinicial[0:9]))\n",
    "capa = gLayers[\"IDS_TABLAS\"][\"Sector_URBANO\"] if ambito==\"URBANO\" else gLayers[\"IDS_TABLAS\"][\"Sector_RURAL\"]\n",
    "resultLOI = asigna.obtenerLOI(parcel_service, gLayers, where_loi, manzanaVereda_sector=capa)\n",
    "print(resultLOI)"
   ]
  },
  {
   "cell_type": "markdown",
   "metadata": {},
   "source": [
    "# Predio-Relaciones:"
   ]
  },
  {
   "cell_type": "code",
   "execution_count": null,
   "metadata": {},
   "outputs": [],
   "source": [
    "codigopredio = \"080010103000001380013000000000\"\n",
    "numero_tramite = \"08001-2021-Com63a\"\n",
    "versionTramite = \"adminsgcv2.CON_{}\".format(numero_tramite)\n",
    "versionTramite = None\n",
    "where_predios = \"numero_predial = '{0}'\".format(codigopredio)\n",
    "result_predio = sgccat20lib.get_features_layertable_where(\n",
    "    search_result,\n",
    "    \"Predio\",\n",
    "    where_predios,\n",
    "    gLayers[\"PREDIO\"][\"FIELDS\"],\n",
    "    versionTramite,\n",
    "    False,\n",
    "    True,\n",
    "    [\"LC_Derecho\"],\n",
    "    [gLayers[\"tabla_derecho\"][\"FIELDS\"]])\n",
    "result_predio"
   ]
  },
  {
   "cell_type": "markdown",
   "metadata": {},
   "source": [
    "# Interesados:"
   ]
  },
  {
   "cell_type": "code",
   "execution_count": null,
   "metadata": {},
   "outputs": [],
   "source": [
    "if result_predio:\n",
    "    datosPredio = result_predio[\"features\"][0]\n",
    "    result_gid = datosPredio[\"attributes\"][\"globalid\"]\n",
    "    rel_layer = result_predio[\"Relationships\"][0]\n",
    "    if rel_layer and len(rel_layer[\"objectids\"]) > 0:\n",
    "        OIDs_tuple = tuple(rel_layer[\"objectids\"]) if len(rel_layer[\"objectids\"])>1 else \"('{}')\".format(rel_layer[\"objectids\"][0])\n",
    "        where_derecho = \"objectid in {}\".format(OIDs_tuple)\n",
    "        fts_derecho = sgccat20lib.get_features_layertable_where(\n",
    "            search_result,\n",
    "            gLayers[\"tabla_derecho\"][\"LAYER\"],\n",
    "            where_derecho,\n",
    "            gLayers[\"tabla_derecho\"][\"FIELDS\"],\n",
    "            versionTramite,\n",
    "            gLayers[\"tabla_derecho\"][\"IS_LAYER\"])\n",
    "        featuresDerecho = fts_derecho[\"features\"]\n",
    "        index = 0\n",
    "        for rowDerecho in featuresDerecho:\n",
    "            featuresInteresados = []\n",
    "            if rowDerecho[\"attributes\"][\"lc_interesado_guid\"]:\n",
    "                layer = gLayers[\"tabla_interesados\"][\"LAYER\"]\n",
    "                out_fields2 = gLayers[\"tabla_interesados\"][\"FIELDS\"]\n",
    "                where = \"globalid = '{}'\".format(rowDerecho[\"attributes\"][\"lc_interesado_guid\"])\n",
    "                fts_interesado = sgccat20lib.get_features_layertable_where(search_result, layer, where, out_fields2, versionTramite, gLayers[\"tabla_interesados\"][\"IS_LAYER\"])\n",
    "                featuresInteresados = fts_interesado[\"features\"] if fts_interesado else []\n",
    "                del fts_interesado, layer, out_fields2, where\n",
    "            elif rowDerecho[\"attributes\"][\"lc_agrupacioninteresado_guid\"]:\n",
    "                layer = gLayers[\"tabla_miembros\"][\"LAYER\"]\n",
    "                out_fields2 = gLayers[\"tabla_miembros\"][\"FIELDS\"]\n",
    "                out_fields_rels = [gLayers[\"tabla_interesados\"][\"FIELDS\"]]\n",
    "                where = \"lc_agrupacioninteresados_guid = '{}'\".format(rowDerecho[\"attributes\"][\"lc_agrupacioninteresado_guid\"])\n",
    "                fts_interesado = sgccat20lib.get_features_layertable_where(search_result, layer, where, out_fields2, versionTramite, False, True, [\"LC_Interesado\"], out_fields_rels)\n",
    "                if fts_interesado and len(fts_interesado[\"Relationships\"]) > 0:\n",
    "                    featuresInteresados = fts_interesado[\"Relationships\"][0][\"features\"]\n",
    "                del layer, out_fields2, where, out_fields_rels\n",
    "                print(\"Miembros:\")\n",
    "                print(fts_interesado['features'])\n",
    "\n",
    "            for interesado in featuresInteresados:\n",
    "                index += 1\n",
    "                print(\"INTERESADO {}: {}\".format(index, str(interesado['attributes'])))\n",
    "        print(\"Total Interesados: {}\".format(len(featuresInteresados)))\n",
    "       # print(fts_interesado['features'])"
   ]
  },
  {
   "cell_type": "markdown",
   "metadata": {},
   "source": [
    "# Fuente Administrativa:"
   ]
  },
  {
   "cell_type": "code",
   "execution_count": null,
   "metadata": {},
   "outputs": [],
   "source": [
    "if result_predio:\n",
    "    datosPredio = result_predio[\"features\"][0]\n",
    "    rel_layer = next(iter(filter(lambda x: x[\"name\"].upper() == gLayers[\"RELACIONES\"][\"predio_derecho\"].upper(), result_predio[\"Relationships\"])), None)\n",
    "    if rel_layer and len(rel_layer[\"objectids\"]) > 0:\n",
    "        OIDs_tuple = tuple(rel_layer[\"objectids\"]) if len(rel_layer[\"objectids\"])>1 else \"('{}')\".format(rel_layer[\"objectids\"][0])\n",
    "        where_derecho = \"objectid in {}\".format(OIDs_tuple)\n",
    "        res_FAdmin = sgccat20lib.get_features_layertable_where(\n",
    "            search_result,\n",
    "            gLayers[\"tabla_derecho\"][\"LAYER\"],\n",
    "            where_derecho,\n",
    "            gLayers[\"tabla_derecho\"][\"FIELDS\"],\n",
    "            versionTramite,False,True,\n",
    "            [gLayers[\"RELACIONES\"][\"derecho_fuenteadmin\"]],\n",
    "            [gLayers[\"tabla_fuenteadministrativa\"][\"FIELDS\"]])\n",
    "        print(\"Total Fuente Admin: {}\".format(len(res_FAdmin['Relationships'][0]['features'])))\n",
    "        index = 0\n",
    "        for row in res_FAdmin['Relationships'][0]['features']:\n",
    "            index += 1\n",
    "            print(\"FAdmin {}: {}\".format(index, str(row['attributes'])))"
   ]
  },
  {
   "cell_type": "markdown",
   "metadata": {},
   "source": [
    "# Col Miembros:"
   ]
  },
  {
   "cell_type": "code",
   "execution_count": null,
   "metadata": {},
   "outputs": [],
   "source": [
    "if len(res_Derecho['Relationships'][0]['features']) > 0:\n",
    "    objectids_interesado = []\n",
    "    for interesado in res_Derecho['Relationships'][0]['features']:\n",
    "        objectids_interesado.append(interesado[\"attributes\"][\"objectid\"])\n",
    "    if len(objectids_interesado) > 0:\n",
    "        res_miembros = sgccat20lib.get_features_layertable(search_result,gLayers[\"tabla_interesados\"][\"LAYER\"],objectids_interesado,gLayers[\"tabla_miembros\"][\"FIELDS\"],versionTramite,False,True,[gLayers[\"RELACIONES\"][\"interesado_miembros\"]])\n",
    "        print(\"Total res_miembros: {}\".format(len(res_miembros['Relationships'][0]['features'])))\n",
    "        index = 0\n",
    "        for miembro in res_miembros['Relationships'][0]['features']:\n",
    "            index += 1\n",
    "            print(\"MIEMBRO {}: {}\".format(index, str(miembro)))"
   ]
  },
  {
   "cell_type": "code",
   "execution_count": null,
   "metadata": {},
   "outputs": [],
   "source": [
    "datos_derecho = {\n",
    "    \"tipodocumento\": \"Cedula_Ciudadania\",\n",
    "    \"nrodocumento\": \"string\",\n",
    "    \"primernombre\": \"string\",\n",
    "    \"segundonombre\": \"string\",\n",
    "    \"primerapellido\": \"string\",\n",
    "    \"segundoapellido\": \"string\",\n",
    "    \"razonsocial\": \"string\",\n",
    "    # \"tipoderecho\": \"Dominio\",\n",
    "    # \"fraccionderecho\": 0,\n",
    "    \"numeradorparticipacion\": 0,\n",
    "    \"denominadorparticipacion\": 0,\n",
    "    \"participacion\": 0\n",
    "}\n",
    "if datos_derecho:\n",
    "    #Validacion fraccion_derecho * tipo:\n",
    "    if \"tipoderecho\" in datos_derecho and \"fraccionderecho\" in datos_derecho:\n",
    "        print(\"Existe TD y FD\")\n",
    "    elif \"tipoderecho\" in datos_derecho and \"fraccionderecho\" not in datos_derecho:\n",
    "        print(\"Existe TD y no FD\")\n",
    "    elif \"tipoderecho\" not in datos_derecho and \"fraccionderecho\" in datos_derecho:\n",
    "        print(\"No Existe TD y FD si\")\n",
    "    print(\"NO pasa nada\")"
   ]
  },
  {
   "cell_type": "code",
   "execution_count": null,
   "metadata": {},
   "outputs": [],
   "source": [
    "atributos_lista = [{'participacion': 1, \"num\": 2, 'lc_interesado_guid': '{BC457569-9691-4D1F-AB91-88748635BE92}'}]\n",
    "# fts_colmiembros = [{'attributes': {'participacion': 1, 'lc_interesado_guid': '{BC457569-9691-4D1F-AB91-88748635BE92}', 'objectid': 2811}}, {'attributes': {'participacion': 1, 'lc_interesado_guid': '{BC457569-9691-4D1F-AB91-88748635BE92}', 'objectid': 2811}}, {'attributes': {'participacion': 1, 'lc_interesado_guid': '{BC457569-9691-4D1F-AB91-88748635BE92}', 'objectid': 2811}}, {'attributes': {'participacion': 1, 'lc_interesado_guid': '{BC457569-9691-4D1F-AB91-88748635BE92}', 'objectid': 2811}}]\n",
    "fts_colmiembros = [{'attributes': {'lc_interesado_guid': '{BC457569-9691-4D1F-AB91-88748635BE92}', 'objectid': 2811}},\n",
    "{'attributes': {'lc_interesado_guid': '{BC457569-9691-4D1F-AB91-88748635BE92}', 'objectid': 2812}},\n",
    "{'attributes': {'lc_interesado_guid': '{BC457569-9691-4D1F-AB91-88748635BE92}', 'objectid': 2813}},\n",
    "{'attributes': {'lc_interesado_guid': '{BC457569-9691-4D1F-AB91-88748635BE92}', 'objectid': 2814}}]\n",
    "for row in atributos_lista:\n",
    "    print(str(row))\n",
    "    updates = list(filter(lambda x: x[\"attributes\"][\"lc_interesado_guid\"]==row[\"lc_interesado_guid\"], fts_colmiembros))\n",
    "    # print(str(colmiembros_interesado[0]))\n",
    "    for item in updates:\n",
    "        for attribute in row:\n",
    "            item[\"attributes\"][attribute] = row[attribute]\n",
    "    # print(str(updates))\n",
    "    if len(updates) > 0:\n",
    "        for row in updates:\n",
    "            del row[\"attributes\"][\"lc_interesado_guid\"]\n",
    "            # break\n",
    "    print(str(updates))\n",
    "    participacion = 0\n",
    "    for row in updates:\n",
    "        participacion += row[\"attributes\"][\"participacion\"]\n",
    "    if participacion > 1:\n",
    "        print(\"La suma total de participacion de interesados no puede ser superior a 1. Suma total participacion(es): {}\".format(participacion))"
   ]
  },
  {
   "cell_type": "code",
   "execution_count": null,
   "metadata": {},
   "outputs": [],
   "source": [
    "where_predios = \"numero_predial = '{0}'\".format(codigopredio)\n",
    "result_predio = sgccat20lib.get_predios_where(search_result, where_predios, \"globalid,numero_predial\", versionTramite)\n",
    "if len(result_predio) > 0:\n",
    "    datosPredio = result_predio[0]\n",
    "    print(datosPredio)\n",
    "    if len(datosPredio[\"features\"]) > 0:\n",
    "        result_gid = datosPredio[\"features\"][0].attributes[\"globalid\"]\n",
    "        print(result_gid)"
   ]
  },
  {
   "cell_type": "code",
   "execution_count": null,
   "metadata": {},
   "outputs": [],
   "source": [
    "tablaConsulta = {\"derecho\":{\"objectids\":['1']}}\n",
    "OIDs_derecho = [f for f in tablaConsulta[\"derecho\"][\"objectids\"]]\n",
    "OIDs_tuple = tuple(OIDs_derecho) if len(OIDs_derecho)>1 else \"({})\".format(OIDs_derecho[0])\n",
    "where_derecho = \"objectid in {}\".format(OIDs_tuple)\n",
    "print(where_derecho)"
   ]
  },
  {
   "cell_type": "code",
   "execution_count": null,
   "metadata": {},
   "outputs": [],
   "source": [
    "search_result.url"
   ]
  }
 ],
 "metadata": {
  "kernelspec": {
   "display_name": "Python 3",
   "language": "python",
   "name": "python3"
  },
  "language_info": {
   "codemirror_mode": {
    "name": "ipython",
    "version": 3
   },
   "file_extension": ".py",
   "mimetype": "text/x-python",
   "name": "python",
   "nbconvert_exporter": "python",
   "pygments_lexer": "ipython3",
   "version": "3.9.11 [MSC v.1931 64 bit (AMD64)]"
  },
  "orig_nbformat": 4,
  "vscode": {
   "interpreter": {
    "hash": "ce21b655b4d6c9e397d5ad93d5666c623f49909f6d0cc2f72076dafcf1b3ecfb"
   }
  }
 },
 "nbformat": 4,
 "nbformat_minor": 2
}
