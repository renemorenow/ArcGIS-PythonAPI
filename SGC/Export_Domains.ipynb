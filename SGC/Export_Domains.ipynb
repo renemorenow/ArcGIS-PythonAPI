{
 "cells": [
  {
   "cell_type": "code",
   "execution_count": null,
   "source": [
    "from arcgis.gis import GIS\r\n",
    "from arcgis.features import FeatureLayerCollection\r\n",
    "import pandas as pd"
   ],
   "outputs": [],
   "metadata": {}
  },
  {
   "cell_type": "markdown",
   "source": [
    "# Exportar dominios usando el FeatureLayer"
   ],
   "metadata": {}
  },
  {
   "cell_type": "code",
   "execution_count": null,
   "source": [
    "gis = GIS(\"https://editorcatastral2dev.esri.co/portal\", \"adminsgcv2\")"
   ],
   "outputs": [],
   "metadata": {}
  },
  {
   "cell_type": "code",
   "execution_count": null,
   "source": [
    "parcel_service = \"59a5543cd06242e5831435516bd21af1\"\r\n",
    "# Get the Feature Service url\r\n",
    "fs = gis.content.get(parcel_service).url\r\n",
    "\r\n",
    "# Instantiate the a FeatureLayerCollection from the url\r\n",
    "flc = FeatureLayerCollection(fs, gis)"
   ],
   "outputs": [],
   "metadata": {}
  },
  {
   "cell_type": "code",
   "execution_count": null,
   "source": [
    "search_result = gis.content.search('{}'.format(parcel_service), 'Feature Layer')\r\n",
    "if search_result:\r\n",
    "    domains_name = []\r\n",
    "    layers = []\r\n",
    "    data = {\r\n",
    "        \"TIPO\": [],\r\n",
    "        \"NOMBRE\": [],\r\n",
    "        \"DESCRIPCION\": [],\r\n",
    "        \"CODIGO\": [],\r\n",
    "        \"VALOR\": []\r\n",
    "    }\r\n",
    "    for table in search_result[0].tables:\r\n",
    "        layers.append(table.properties.id)\r\n",
    "        # print(str(table.properties.id)+\" => \"+table.properties.name)\r\n",
    "    for table in search_result[0].layers:\r\n",
    "        layers.append(table.properties.id)\r\n",
    "        # print(str(table.properties.id)+\" => \"+table.properties.name)\r\n",
    "    domains = flc.query_domains(layers)\r\n",
    "    if domains:\r\n",
    "        for domain in domains:\r\n",
    "            if domain[\"type\"] == \"codedValue\" and domain[\"name\"] not in domains_name:\r\n",
    "                domains_name.append(domain[\"name\"])\r\n",
    "                for codeValue in domain[\"codedValues\"]:\r\n",
    "                    data[\"TIPO\"].append(domain[\"type\"])\r\n",
    "                    data[\"NOMBRE\"].append(domain[\"name\"])\r\n",
    "                    data[\"DESCRIPCION\"].append(domain[\"description\"])\r\n",
    "                    data[\"CODIGO\"].append(codeValue[\"code\"])\r\n",
    "                    data[\"VALOR\"].append(codeValue[\"name\"])\r\n",
    "    df = pd.DataFrame(data, columns = ['TIPO', 'NOMBRE', 'DESCRIPCION', 'CODIGO', 'VALOR'])\r\n",
    "    "
   ],
   "outputs": [],
   "metadata": {}
  },
  {
   "cell_type": "code",
   "execution_count": null,
   "source": [
    "ruta_archivo = r'D:\\EsriTraining\\APIforPython\\lista_dominios_v20.xlsx'\r\n",
    "print(\"Guardando archivo {}...\".format(ruta_archivo))\r\n",
    "df.to_excel(ruta_archivo, index=False, header=True)\r\n",
    "print(\"Proceso finalizado\")"
   ],
   "outputs": [],
   "metadata": {}
  },
  {
   "cell_type": "markdown",
   "source": [
    "# Exportar desde la GDB:"
   ],
   "metadata": {}
  },
  {
   "cell_type": "code",
   "execution_count": null,
   "source": [
    "import arcpy"
   ],
   "outputs": [],
   "metadata": {}
  },
  {
   "cell_type": "code",
   "execution_count": null,
   "source": [
    "#ToDo"
   ],
   "outputs": [],
   "metadata": {}
  }
 ],
 "metadata": {
  "orig_nbformat": 4,
  "language_info": {
   "name": "python",
   "version": "3.7.9",
   "mimetype": "text/x-python",
   "codemirror_mode": {
    "name": "ipython",
    "version": 3
   },
   "pygments_lexer": "ipython3",
   "nbconvert_exporter": "python",
   "file_extension": ".py"
  },
  "kernelspec": {
   "name": "python3",
   "display_name": "Python 3.7.9 64-bit ('arcgispro-py3-clone': conda)"
  },
  "interpreter": {
   "hash": "a1312de666e040bd4c5ef5978aa02a450c60ef1a294c5c6dce6460557dcf4675"
  }
 },
 "nbformat": 4,
 "nbformat_minor": 2
}