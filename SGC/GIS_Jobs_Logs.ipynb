{
 "cells": [
  {
   "cell_type": "markdown",
   "metadata": {},
   "source": [
    "## Imports - Login..."
   ]
  },
  {
   "cell_type": "code",
   "execution_count": 1,
   "metadata": {},
   "outputs": [],
   "source": [
    "from arcgis.gis import GIS\n",
    "from arcgis.gis.admin import AGOLAdminManager"
   ]
  },
  {
   "cell_type": "code",
   "execution_count": 2,
   "metadata": {},
   "outputs": [
    {
     "data": {
      "text/plain": [
       "'https://desarrollocatastro12.esri.co/portal/'"
      ]
     },
     "execution_count": 2,
     "metadata": {},
     "output_type": "execute_result"
    }
   ],
   "source": [
    "gis = GIS(profile=\"sgc20_desarrollo\")\n",
    "gis.url"
   ]
  },
  {
   "cell_type": "markdown",
   "metadata": {},
   "source": [
    "## Jobs:"
   ]
  },
  {
   "cell_type": "code",
   "execution_count": 3,
   "metadata": {},
   "outputs": [
    {
     "data": {
      "text/plain": [
       "'https://desarrollocatastro12.esri.co/server/admin'"
      ]
     },
     "execution_count": 3,
     "metadata": {},
     "output_type": "execute_result"
    }
   ],
   "source": [
    "from arcgis.gis.server import JobManager\n",
    "hosting_server = gis.admin.servers.get(role=\"HOSTING_SERVER\")\n",
    "for item in hosting_server:\n",
    "    url_server_admin = item.url\n",
    "    break\n",
    "url_server_admin"
   ]
  },
  {
   "cell_type": "code",
   "execution_count": 46,
   "metadata": {},
   "outputs": [
    {
     "name": "stdout",
     "output_type": "stream",
     "text": [
      "https://desarrollocatastro12.esri.co/server/admin/services/GEOPROCESOS/prediosgis.GPServer\n"
     ]
    },
    {
     "data": {
      "text/plain": [
       "<bound method Mapping.items of {\n",
       "  \"serviceName\": \"prediosgis\",\n",
       "  \"type\": \"GPServer\",\n",
       "  \"description\": \"\",\n",
       "  \"capabilities\": \"\",\n",
       "  \"provider\": \"ArcObjects11\",\n",
       "  \"clusterName\": \"default\",\n",
       "  \"minInstancesPerNode\": 1,\n",
       "  \"maxInstancesPerNode\": 2,\n",
       "  \"instancesPerContainer\": 1,\n",
       "  \"maxWaitTime\": 60,\n",
       "  \"maxStartupTime\": 300,\n",
       "  \"maxIdleTime\": 3600,\n",
       "  \"maxUsageTime\": 1200,\n",
       "  \"loadBalancing\": \"ROUND_ROBIN\",\n",
       "  \"isolationLevel\": \"HIGH\",\n",
       "  \"configuredState\": \"STARTED\",\n",
       "  \"recycleInterval\": 24,\n",
       "  \"recycleStartTime\": \"00:00\",\n",
       "  \"keepAliveInterval\": 1800,\n",
       "  \"private\": false,\n",
       "  \"isDefault\": false,\n",
       "  \"maxUploadFileSize\": 0,\n",
       "  \"allowedUploadFileTypes\": \"\",\n",
       "  \"properties\": {\n",
       "    \"outputDir\": \"C:\\\\arcgisserver\\\\directories\\\\arcgisoutput\",\n",
       "    \"minInstances\": \"1\",\n",
       "    \"showMessages\": \"INFO\",\n",
       "    \"choiceLists\": \"\",\n",
       "    \"executionType\": \"Asynchronous\",\n",
       "    \"usageTimeout\": \"1200\",\n",
       "    \"waitTimeout\": \"60\",\n",
       "    \"jobsVirtualDirectory\": \"/rest/directories/arcgisjobs\",\n",
       "    \"webCapabilities\": \"\",\n",
       "    \"resultMapServer\": \"false\",\n",
       "    \"maximumRecords\": \"1000\",\n",
       "    \"virtualOutputDir\": \"/rest/directories/arcgisoutput\",\n",
       "    \"jobsDirectory\": \"C:\\\\arcgisserver\\\\directories\\\\arcgisjobs\",\n",
       "    \"idleTimeout\": \"3600\",\n",
       "    \"toolbox\": \"C:\\\\arcgisserver\\\\directories\\\\arcgissystem\\\\arcgisinput\\\\GEOPROCESOS\\\\prediosgis.GPServer\\\\extracted\\\\p20\\\\prediosgis.tbx\",\n",
       "    \"maxInstances\": \"2\"\n",
       "  },\n",
       "  \"portalProperties\": {\n",
       "    \"isHosted\": false,\n",
       "    \"portalItems\": [\n",
       "      {\n",
       "        \"itemID\": \"a363d541f8c342a49938068386abd908\",\n",
       "        \"type\": \"GPServer\"\n",
       "      }\n",
       "    ]\n",
       "  },\n",
       "  \"extensions\": [],\n",
       "  \"frameworkProperties\": {},\n",
       "  \"datasets\": []\n",
       "}>"
      ]
     },
     "execution_count": 46,
     "metadata": {},
     "output_type": "execute_result"
    }
   ],
   "source": [
    "\n",
    "# geoproceso = input()\n",
    "# jobsManager = JobManager(url_server_admin+\"/services/GEOPROCESOS/{}.GPServer\".format(geoproceso), gis._portal.con)\n",
    "urlJobs = url_server_admin+\"/services/GEOPROCESOS/prediosgis.GPServer\"\n",
    "print(urlJobs)\n",
    "jobsManager = JobManager(urlJobs, gis._portal.con)\n",
    "jobs = jobsManager.properties.items\n",
    "jobs"
   ]
  },
  {
   "cell_type": "markdown",
   "metadata": {},
   "source": [
    "## Logs:"
   ]
  },
  {
   "cell_type": "code",
   "execution_count": null,
   "metadata": {},
   "outputs": [],
   "source": []
  }
 ],
 "metadata": {
  "kernelspec": {
   "display_name": "Python 3.7.11 64-bit ('arcgispro-py3-clone')",
   "language": "python",
   "name": "python3"
  },
  "language_info": {
   "codemirror_mode": {
    "name": "ipython",
    "version": 3
   },
   "file_extension": ".py",
   "mimetype": "text/x-python",
   "name": "python",
   "nbconvert_exporter": "python",
   "pygments_lexer": "ipython3",
   "version": "3.7.11"
  },
  "orig_nbformat": 4,
  "vscode": {
   "interpreter": {
    "hash": "6085f8b8ffd688a54e732bb2d8a1e7f06b731569fbfa9e59aa638e5a28281238"
   }
  }
 },
 "nbformat": 4,
 "nbformat_minor": 2
}
