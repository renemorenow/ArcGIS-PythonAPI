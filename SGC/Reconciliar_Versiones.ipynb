{
 "cells": [
  {
   "cell_type": "code",
   "execution_count": 16,
   "source": [
    "from arcgis.gis import GIS"
   ],
   "outputs": [],
   "metadata": {}
  },
  {
   "cell_type": "code",
   "execution_count": 17,
   "source": [
    "gis = GIS(profile='sgc20')"
   ],
   "outputs": [],
   "metadata": {}
  },
  {
   "cell_type": "code",
   "execution_count": null,
   "source": [
    "#parcel_service = \"6263a83b09fd42cc94accf210dc4f646\"\r\n",
    "#search_result = gis.content.get(parcel_service)\r\n",
    "import sgccat20lib\r\n",
    "PARCEL_SERVICE_NAME = \"PARCEL_SERVICE_NAME\"\r\n",
    "dictParams = sgccat20lib.ObtenerParametros()\r\n",
    "parcel_service = dictParams[PARCEL_SERVICE_NAME]\r\n",
    "search_result = gis.content.get(parcel_service)\r\n",
    "numero_tramite = \"08001-2021-MutM-M\"\r\n",
    "versionTramite = \"adminsgcv2.CON_{}\".format(numero_tramite)\r\n",
    "prefixlog = 'concil_{}.txt'.format(numero_tramite)\r\n",
    "dirLogs = r\"C:\\Logs\\mutacion\\uno\"\r\n",
    "logfile = os.path.join(dirLogs,prefixlog)"
   ],
   "outputs": [],
   "metadata": {}
  },
  {
   "cell_type": "code",
   "execution_count": null,
   "source": [
    "sgccat20lib.reconciliar_versionTramite_arcpy(parcel_service, versionTramite, logfile)"
   ],
   "outputs": [],
   "metadata": {}
  },
  {
   "cell_type": "code",
   "execution_count": null,
   "source": [
    "from arcgis.features import FeatureLayerCollection\r\n",
    "p_flc = FeatureLayerCollection.fromitem(search_result)\r\n",
    "version_manager = p_flc.versions"
   ],
   "outputs": [],
   "metadata": {}
  },
  {
   "cell_type": "code",
   "execution_count": null,
   "source": [
    "#locks = version_manager.locks\r\n",
    "#locks\r\n",
    "bloqueos = version_manager.locks if version_manager.locks else None\r\n",
    "bloqueos\r\n",
    "#if bloqueos:\r\n",
    "for version_locked in version_manager.locks:\r\n",
    "    # print(version_locked.properties.versionName)\r\n",
    "    if version_locked.properties.versionName == versionTramite:\r\n",
    "        print(\"version bloqueada\")\r\n",
    "        desbloqueada = version_manager.purge(version=versionTramite)\r\n",
    "        if desbloqueada is False:\r\n",
    "            raise Exception(\"No se pudo desbloquear la versión!.\")\r\n",
    "        print(\"desbloqueada: \"+str(desbloqueada))"
   ],
   "outputs": [],
   "metadata": {}
  },
  {
   "cell_type": "code",
   "execution_count": null,
   "source": [
    "desbloqueada = True\r\n",
    "postear = True\r\n",
    "if desbloqueada:\r\n",
    "    version = version_manager.get(version=versionTramite, mode=\"edit\")\r\n",
    "    resultado = version.reconcile(with_post=postear)\r\n",
    "    print(\"Resultado reconciliación y posteo:{}\".format(\"resultado\"))\r\n",
    "    if resultado:\r\n",
    "        version_borrada = version.delete()\r\n",
    "        if version_borrada is False:\r\n",
    "            print(\"No fue posible borrar la versión\")"
   ],
   "outputs": [],
   "metadata": {}
  },
  {
   "cell_type": "code",
   "execution_count": null,
   "source": [
    "def conciliarVersion(postear):\r\n",
    "    try:\r\n",
    "        if bool(postear) is True:\r\n",
    "            sgccat20lib.reconciliar_versionTramite(parcel_service, versionTramite)\r\n",
    "        else:\r\n",
    "            sgccat20lib.reconciliar_versionTramite(parcel_service, versionTramite, False)\r\n",
    "        print(\"Conciliaciom terminada correctamente.\")\r\n",
    "    except Exception as e:\r\n",
    "        print(\"Error: {}\".format(e))"
   ],
   "outputs": [],
   "metadata": {}
  },
  {
   "cell_type": "code",
   "execution_count": null,
   "source": [
    "print(versionTramite)\r\n",
    "conciliarVersion(True)"
   ],
   "outputs": [],
   "metadata": {}
  },
  {
   "cell_type": "code",
   "execution_count": null,
   "source": [
    "sgccat20lib.eliminarVersion(parcel_service, versionTramite)"
   ],
   "outputs": [],
   "metadata": {}
  },
  {
   "cell_type": "code",
   "execution_count": 15,
   "source": [
    "import os\r\n",
    "logfile = r\"C:\\Logs\\mutacion\\uno\\concil_wrmr.txt\"\r\n",
    "pathLog = os.path.dirname(logfile) ## directory of file\r\n",
    "print(pathLog)\r\n",
    "if not os.path.exists(pathLog):\r\n",
    "    os.makedirs(pathLog)\r\n",
    "if os.path.exists(logfile):\r\n",
    "    os.remove(logfile)"
   ],
   "outputs": [
    {
     "output_type": "stream",
     "name": "stdout",
     "text": [
      "C:\\Logs\\mutacion\\uno\n"
     ]
    }
   ],
   "metadata": {}
  },
  {
   "cell_type": "code",
   "execution_count": 20,
   "source": [
    "from arcgis.geoprocessing import import_toolbox\r\n",
    "urlToolBox = gis.content.search(query=\"title:{}\".format(\"inforesolucion\"), item_type=\"Geoprocessing Toolbox\")\r\n",
    "thetool = import_toolbox(url_or_item=urlToolBox[0], gis=gis)\r\n",
    "len(urlToolBox)"
   ],
   "outputs": [
    {
     "output_type": "execute_result",
     "data": {
      "text/plain": [
       "1"
      ]
     },
     "metadata": {},
     "execution_count": 20
    }
   ],
   "metadata": {}
  }
 ],
 "metadata": {
  "kernelspec": {
   "name": "python3",
   "display_name": "Python 3.7.9 64-bit ('arcgispro-py3-clone': conda)"
  },
  "language_info": {
   "name": "python",
   "version": "3.7.9",
   "mimetype": "text/x-python",
   "codemirror_mode": {
    "name": "ipython",
    "version": 3
   },
   "pygments_lexer": "ipython3",
   "nbconvert_exporter": "python",
   "file_extension": ".py"
  },
  "interpreter": {
   "hash": "a1312de666e040bd4c5ef5978aa02a450c60ef1a294c5c6dce6460557dcf4675"
  }
 },
 "nbformat": 4,
 "nbformat_minor": 2
}