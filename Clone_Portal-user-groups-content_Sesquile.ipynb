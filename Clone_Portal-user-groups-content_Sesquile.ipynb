{
 "cells": [
  {
   "cell_type": "markdown",
   "source": [
    "# Clone Portal users, groups and content"
   ],
   "metadata": {}
  },
  {
   "cell_type": "markdown",
   "source": [
    "https://developers.arcgis.com/python/sample-notebooks/clone-portal-users-groups-and-content/\r\n",
    "\r\n",
    "This sample notebook can be used for cloning a portal, from say, a staging to a production environment. It clones the users, groups and the content. It does not copy over services though, and works at the tier of portal items."
   ],
   "metadata": {}
  },
  {
   "cell_type": "code",
   "execution_count": 1,
   "source": [
    "from arcgis.gis import GIS\r\n",
    "from IPython.display import display\r\n",
    "from getpass import getpass"
   ],
   "outputs": [],
   "metadata": {}
  },
  {
   "cell_type": "code",
   "execution_count": 2,
   "source": [
    "source_password = getpass()\r\n",
    "target_password = getpass()\r\n",
    "source_portal_url = \"https://sgctest04.esri.co/portal\"\r\n",
    "target_portal_url = \"https://catastro-sesquile.com/portal\"\r\n",
    "source_admin_username = 'portaladmin' #'Site4dm1n1920'\r\n",
    "source = GIS(source_portal_url, source_admin_username, source_password, verify_cert=False)\r\n",
    "target_admin_username = 'portaladmin' #'Sesquile2021'\r\n",
    "target = GIS(target_portal_url, target_admin_username, target_password, verify_cert=False)\r\n"
   ],
   "outputs": [],
   "metadata": {}
  },
  {
   "cell_type": "markdown",
   "source": [
    "# Users:"
   ],
   "metadata": {}
  },
  {
   "cell_type": "code",
   "execution_count": null,
   "source": [
    "#!esri_ & !admin\r\n",
    "source_users = source.users.search('!esri_ & !admin & !arcgis & !catreg')\r\n",
    "for user in source_users:\r\n",
    "    print(user.username + \"\\t:\\t\" + str(user.role))"
   ],
   "outputs": [],
   "metadata": {}
  },
  {
   "cell_type": "code",
   "execution_count": null,
   "source": [
    "print(\"Cantidad de usuarios: \" + str(len(source_users)))"
   ],
   "outputs": [],
   "metadata": {}
  },
  {
   "cell_type": "code",
   "execution_count": null,
   "source": [
    "# filter out system and initial administrator accounts\r\n",
    "target_users = target.users.search('!esri_ & !admin & !system_publisher')\r\n",
    "target_users"
   ],
   "outputs": [],
   "metadata": {}
  },
  {
   "cell_type": "markdown",
   "source": [
    "# Remove existing users from target portal:"
   ],
   "metadata": {}
  },
  {
   "cell_type": "code",
   "execution_count": null,
   "source": [
    "for source_user in source_users:\r\n",
    "    try:\r\n",
    "        target_user = target.users.get(source_user.username)\r\n",
    "        if target_user is not None:\r\n",
    "            print('Deleting user: ' + target_user.fullName)\r\n",
    "            target_user.reassign_to(target_admin_username)\r\n",
    "            target_user.delete()\r\n",
    "    except:\r\n",
    "        print('User {} does not exist in Target Portal'.format(source_user.username))"
   ],
   "outputs": [],
   "metadata": {}
  },
  {
   "cell_type": "markdown",
   "source": [
    "# Copy Users:"
   ],
   "metadata": {}
  },
  {
   "cell_type": "code",
   "execution_count": null,
   "source": [
    "def copy_user(target_portal, source_user, password):\r\n",
    "    # See if the user has firstName and lastName properties\r\n",
    "    try:\r\n",
    "        first_name = source_user.firstName\r\n",
    "        last_name = source_user.lastName\r\n",
    "    except:\r\n",
    "        # if not, split the fullName\r\n",
    "        full_name = source_user.fullName\r\n",
    "        first_name = full_name.split()[0]\r\n",
    "        try:\r\n",
    "            last_name = full_name.split()[1]\r\n",
    "        except:\r\n",
    "            last_name = 'NoLastName'\r\n",
    "\r\n",
    "    try:\r\n",
    "        print(\"create user:\")\r\n",
    "        target_user = target_portal.users.create(source_user.username, password, first_name, \r\n",
    "                                                 last_name, \"wmoreno@esri.co\",#source_user.email, \r\n",
    "                                                 source_user.description, source_user.role)\r\n",
    "        print(\"user created\")\r\n",
    "\r\n",
    "        # update user properties\r\n",
    "        print(\"update user:\")\r\n",
    "        target_user.update(source_user.access, source_user.preferredView,\r\n",
    "                           source_user.description, source_user.tags\r\n",
    "                           #,source_user.get_thumbnail_link()\r\n",
    "                           #,culture=source_user.culture\r\n",
    "                           ,region=source_user.region\r\n",
    "                           )\r\n",
    "        print(\"user updated\")\r\n",
    "        return target_user\r\n",
    "    \r\n",
    "    except Exception as Ex:\r\n",
    "        print(str(Ex))\r\n",
    "        print(\"Unable to create user \"+ source_user.username)\r\n",
    "        return None"
   ],
   "outputs": [],
   "metadata": {}
  },
  {
   "cell_type": "code",
   "execution_count": null,
   "source": [
    "for user in source_users:\r\n",
    "    print(\"Creating user: \" + user.username)\r\n",
    "    copy_user(target, user, 'Esrico2021$')"
   ],
   "outputs": [],
   "metadata": {}
  },
  {
   "cell_type": "code",
   "execution_count": null,
   "source": [
    "target_users = target.users.search()\r\n",
    "target_users"
   ],
   "outputs": [],
   "metadata": {}
  },
  {
   "cell_type": "markdown",
   "source": [
    "# Groups:"
   ],
   "metadata": {}
  },
  {
   "cell_type": "code",
   "execution_count": null,
   "source": [
    "# filter out system created groups\r\n",
    "source_groups = source.groups.search(\"!owner:esri_* & !Basemaps\")\r\n",
    "source_groups"
   ],
   "outputs": [],
   "metadata": {}
  },
  {
   "cell_type": "code",
   "execution_count": null,
   "source": [
    "target_groups = target.groups.search(\"!owner:esri_* & !Basemaps\")\r\n",
    "target_groups"
   ],
   "outputs": [],
   "metadata": {}
  },
  {
   "cell_type": "code",
   "execution_count": null,
   "source": [
    "for tg in target_groups:\r\n",
    "    for sg in source_groups:\r\n",
    "        if sg.title == tg.title and (not tg.owner.startswith('esri_')):\r\n",
    "            print(\"Cleaning up group {} in target Portal...\".format(tg.title))\r\n",
    "            tg.delete()\r\n",
    "            break"
   ],
   "outputs": [],
   "metadata": {}
  },
  {
   "cell_type": "markdown",
   "source": [
    "# Copy Groups:"
   ],
   "metadata": {}
  },
  {
   "cell_type": "code",
   "execution_count": null,
   "source": [
    "import tempfile\r\n",
    "\r\n",
    "GROUP_COPY_PROPERTIES = ['title', 'description', 'tags', 'snippet', 'phone',\r\n",
    "                         'access', 'isInvitationOnly']\r\n",
    "\r\n",
    "def copy_group(target, source, source_group):\r\n",
    "    \r\n",
    "    with tempfile.TemporaryDirectory() as temp_dir:\r\n",
    "        try:\r\n",
    "            target_group = {}\r\n",
    "\r\n",
    "            for property_name in GROUP_COPY_PROPERTIES:\r\n",
    "                target_group[property_name] = source_group[property_name]\r\n",
    "\r\n",
    "            if source_group['access'] == 'org' and target.properties['portalMode'] == 'singletenant':\r\n",
    "                #cloning from ArcGIS Online to ArcGIS Enterprise\r\n",
    "                target_group['access'] = 'public'\r\n",
    "\r\n",
    "            elif source_group['access'] == 'public'\\\r\n",
    "                 and source.properties['portalMode'] == 'singletenant'\\\r\n",
    "                 and target.properties['portalMode'] == 'multitenant'\\\r\n",
    "                 and 'id' in target.properties:\r\n",
    "                    #cloning from ArcGIS Enterprise to ArcGIS Online org\r\n",
    "                    target_group['access'] = 'org'\r\n",
    "\r\n",
    "            # Download the thumbnail (if one exists)\r\n",
    "            thumbnail_file = None\r\n",
    "            if 'thumbnail' in group:\r\n",
    "                target_group['thumbnail'] = group.download_thumbnail(temp_dir)\r\n",
    "\r\n",
    "            # Create the group in the target portal\r\n",
    "            copied_group = target.groups.create_from_dict(target_group)\r\n",
    "\r\n",
    "            # Reassign all groups to correct owners, add users, and find shared items\r\n",
    "            members = group.get_members()\r\n",
    "            if not members['owner'] == target_admin_username:\r\n",
    "                copied_group.reassign_to(members['owner'])\r\n",
    "            if members['users']:\r\n",
    "                copied_group.add_users(members['users'])\r\n",
    "            return copied_group\r\n",
    "        except:\r\n",
    "            print(\"Error creating \" + source_group['title'])"
   ],
   "outputs": [],
   "metadata": {}
  },
  {
   "cell_type": "code",
   "execution_count": null,
   "source": [
    "from IPython.display import display\r\n",
    "for group in source_groups:\r\n",
    "    target_group = copy_group(target, source, group)\r\n",
    "    if target_group:\r\n",
    "        display(target_group)"
   ],
   "outputs": [],
   "metadata": {}
  },
  {
   "cell_type": "code",
   "execution_count": null,
   "source": [
    "target_groups = target.groups.search()\r\n",
    "target_groups"
   ],
   "outputs": [],
   "metadata": {}
  },
  {
   "cell_type": "code",
   "execution_count": null,
   "source": [
    "group1 = target_groups[0]\r\n",
    "group1.get_members()"
   ],
   "outputs": [],
   "metadata": {}
  },
  {
   "cell_type": "markdown",
   "source": [
    "# Cloning Content\r\n",
    "https://developers.arcgis.com/python/guide/cloning-content/\r\n"
   ],
   "metadata": {}
  },
  {
   "cell_type": "code",
   "execution_count": null,
   "source": [
    "hosted_flyr = source.content.get(\"04031d6adac348628c4cac8b48dd436f\")\r\n",
    "hosted_flyr"
   ],
   "outputs": [],
   "metadata": {}
  },
  {
   "cell_type": "code",
   "execution_count": null,
   "source": [
    "hosted_flyr.url"
   ],
   "outputs": [],
   "metadata": {}
  },
  {
   "cell_type": "code",
   "execution_count": null,
   "source": [
    "cloned_flyr = target.content.clone_items(items=[hosted_flyr]\r\n",
    "                                        ,owner=\"adminsgcv2\"\r\n",
    "                                        )\r\n",
    "cloned_flyr[0]"
   ],
   "outputs": [],
   "metadata": {}
  },
  {
   "cell_type": "code",
   "execution_count": null,
   "source": [
    "cloned_flyr[0].url"
   ],
   "outputs": [],
   "metadata": {}
  },
  {
   "cell_type": "code",
   "execution_count": 8,
   "source": [
    "# WFM TARGET\r\n",
    "itemid_wfm = \"bb898a0a6e3444448207d0e13d7ce279\"\r\n",
    "wfm_content = source.content.get(itemid_wfm)\r\n",
    "wfm_content.url\r\n"
   ],
   "outputs": [
    {
     "output_type": "execute_result",
     "data": {
      "text/plain": [
       "'https://sgctest04.esri.co/server/rest/services/wmx/WorkflowManagerService/WMServer'"
      ]
     },
     "metadata": {},
     "execution_count": 8
    }
   ],
   "metadata": {}
  },
  {
   "cell_type": "code",
   "execution_count": 11,
   "source": [
    "from arcgis.features import FeatureLayerCollection\r\n",
    "flc = FeatureLayerCollection(wfm_content.url, source)\r\n",
    "flc.fromitem"
   ],
   "outputs": [
    {
     "output_type": "error",
     "ename": "AttributeError",
     "evalue": "'PropertyMap' instance has no attribute 'layers'",
     "traceback": [
      "\u001b[1;31m---------------------------------------------------------------------------\u001b[0m",
      "\u001b[1;31mAttributeError\u001b[0m                            Traceback (most recent call last)",
      "\u001b[1;32m<ipython-input-11-71630090d880>\u001b[0m in \u001b[0;36m<module>\u001b[1;34m\u001b[0m\n\u001b[0;32m      1\u001b[0m \u001b[1;32mfrom\u001b[0m \u001b[0marcgis\u001b[0m\u001b[1;33m.\u001b[0m\u001b[0mfeatures\u001b[0m \u001b[1;32mimport\u001b[0m \u001b[0mFeatureLayerCollection\u001b[0m\u001b[1;33m\u001b[0m\u001b[1;33m\u001b[0m\u001b[0m\n\u001b[1;32m----> 2\u001b[1;33m \u001b[0mflc\u001b[0m \u001b[1;33m=\u001b[0m \u001b[0mFeatureLayerCollection\u001b[0m\u001b[1;33m(\u001b[0m\u001b[0mwfm_content\u001b[0m\u001b[1;33m.\u001b[0m\u001b[0murl\u001b[0m\u001b[1;33m,\u001b[0m \u001b[0msource\u001b[0m\u001b[1;33m)\u001b[0m\u001b[1;33m\u001b[0m\u001b[1;33m\u001b[0m\u001b[0m\n\u001b[0m\u001b[0;32m      3\u001b[0m \u001b[0mflc\u001b[0m\u001b[1;33m.\u001b[0m\u001b[0mfromitem\u001b[0m\u001b[1;33m\u001b[0m\u001b[1;33m\u001b[0m\u001b[0m\n",
      "\u001b[1;32md:\\ProgramFiles\\ArcGIS\\Pro\\bin\\Python\\envs\\arcgispro-py3-clone\\lib\\site-packages\\arcgis\\features\\layer.py\u001b[0m in \u001b[0;36m__init__\u001b[1;34m(self, url, gis)\u001b[0m\n\u001b[0;32m   3646\u001b[0m             \u001b[1;32mpass\u001b[0m\u001b[1;33m\u001b[0m\u001b[1;33m\u001b[0m\u001b[0m\n\u001b[0;32m   3647\u001b[0m \u001b[1;33m\u001b[0m\u001b[0m\n\u001b[1;32m-> 3648\u001b[1;33m         \u001b[0mself\u001b[0m\u001b[1;33m.\u001b[0m\u001b[0m_populate_layers\u001b[0m\u001b[1;33m(\u001b[0m\u001b[1;33m)\u001b[0m\u001b[1;33m\u001b[0m\u001b[1;33m\u001b[0m\u001b[0m\n\u001b[0m\u001b[0;32m   3649\u001b[0m         \u001b[0mself\u001b[0m\u001b[1;33m.\u001b[0m\u001b[0m_admin\u001b[0m \u001b[1;33m=\u001b[0m \u001b[1;32mNone\u001b[0m\u001b[1;33m\u001b[0m\u001b[1;33m\u001b[0m\u001b[0m\n\u001b[0;32m   3650\u001b[0m         \u001b[1;32mtry\u001b[0m\u001b[1;33m:\u001b[0m\u001b[1;33m\u001b[0m\u001b[1;33m\u001b[0m\u001b[0m\n",
      "\u001b[1;32md:\\ProgramFiles\\ArcGIS\\Pro\\bin\\Python\\envs\\arcgispro-py3-clone\\lib\\site-packages\\arcgis\\features\\layer.py\u001b[0m in \u001b[0;36m_populate_layers\u001b[1;34m(self)\u001b[0m\n\u001b[0;32m   3662\u001b[0m         \u001b[0mtables\u001b[0m \u001b[1;33m=\u001b[0m \u001b[1;33m[\u001b[0m\u001b[1;33m]\u001b[0m\u001b[1;33m\u001b[0m\u001b[1;33m\u001b[0m\u001b[0m\n\u001b[0;32m   3663\u001b[0m \u001b[1;33m\u001b[0m\u001b[0m\n\u001b[1;32m-> 3664\u001b[1;33m         \u001b[1;32mfor\u001b[0m \u001b[0mlyr\u001b[0m \u001b[1;32min\u001b[0m \u001b[0mself\u001b[0m\u001b[1;33m.\u001b[0m\u001b[0mproperties\u001b[0m\u001b[1;33m.\u001b[0m\u001b[0mlayers\u001b[0m\u001b[1;33m:\u001b[0m\u001b[1;33m\u001b[0m\u001b[1;33m\u001b[0m\u001b[0m\n\u001b[0m\u001b[0;32m   3665\u001b[0m             \u001b[0mlyr\u001b[0m \u001b[1;33m=\u001b[0m \u001b[0mFeatureLayer\u001b[0m\u001b[1;33m(\u001b[0m\u001b[0mself\u001b[0m\u001b[1;33m.\u001b[0m\u001b[0murl\u001b[0m \u001b[1;33m+\u001b[0m \u001b[1;34m\"/\"\u001b[0m \u001b[1;33m+\u001b[0m \u001b[0mstr\u001b[0m\u001b[1;33m(\u001b[0m\u001b[0mlyr\u001b[0m\u001b[1;33m.\u001b[0m\u001b[0mid\u001b[0m\u001b[1;33m)\u001b[0m\u001b[1;33m,\u001b[0m \u001b[0mself\u001b[0m\u001b[1;33m.\u001b[0m\u001b[0m_gis\u001b[0m\u001b[1;33m,\u001b[0m \u001b[0mself\u001b[0m\u001b[1;33m)\u001b[0m\u001b[1;33m\u001b[0m\u001b[1;33m\u001b[0m\u001b[0m\n\u001b[0;32m   3666\u001b[0m             \u001b[0mlayers\u001b[0m\u001b[1;33m.\u001b[0m\u001b[0mappend\u001b[0m\u001b[1;33m(\u001b[0m\u001b[0mlyr\u001b[0m\u001b[1;33m)\u001b[0m\u001b[1;33m\u001b[0m\u001b[1;33m\u001b[0m\u001b[0m\n",
      "\u001b[1;32md:\\ProgramFiles\\ArcGIS\\Pro\\bin\\Python\\envs\\arcgispro-py3-clone\\lib\\site-packages\\arcgis\\_impl\\common\\_mixins.py\u001b[0m in \u001b[0;36m__getattr__\u001b[1;34m(self, key)\u001b[0m\n\u001b[0;32m     82\u001b[0m             raise AttributeError(\n\u001b[0;32m     83\u001b[0m                 \"'{cls}' instance has no attribute '{name}'\".format(\n\u001b[1;32m---> 84\u001b[1;33m                     \u001b[0mcls\u001b[0m\u001b[1;33m=\u001b[0m\u001b[0mself\u001b[0m\u001b[1;33m.\u001b[0m\u001b[0m__class__\u001b[0m\u001b[1;33m.\u001b[0m\u001b[0m__name__\u001b[0m\u001b[1;33m,\u001b[0m \u001b[0mname\u001b[0m\u001b[1;33m=\u001b[0m\u001b[0mkey\u001b[0m\u001b[1;33m\u001b[0m\u001b[1;33m\u001b[0m\u001b[0m\n\u001b[0m\u001b[0;32m     85\u001b[0m                 )\n\u001b[0;32m     86\u001b[0m             )\n",
      "\u001b[1;31mAttributeError\u001b[0m: 'PropertyMap' instance has no attribute 'layers'"
     ]
    }
   ],
   "metadata": {}
  }
 ],
 "metadata": {
  "orig_nbformat": 4,
  "language_info": {
   "name": "python",
   "version": "3.7.9",
   "mimetype": "text/x-python",
   "codemirror_mode": {
    "name": "ipython",
    "version": 3
   },
   "pygments_lexer": "ipython3",
   "nbconvert_exporter": "python",
   "file_extension": ".py"
  },
  "kernelspec": {
   "name": "python3",
   "display_name": "Python 3.7.9 64-bit ('arcgispro-py3-clone': conda)"
  },
  "interpreter": {
   "hash": "504db09e6c8adbd4c5ebbff64dd4895d32c808fd904a1400525538a82f265014"
  }
 },
 "nbformat": 4,
 "nbformat_minor": 2
}