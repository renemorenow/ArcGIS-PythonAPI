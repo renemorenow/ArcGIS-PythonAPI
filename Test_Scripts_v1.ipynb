{
 "cells": [
  {
   "cell_type": "markdown",
   "metadata": {
    "heading_collapsed": true
   },
   "source": [
    "# Imports"
   ]
  },
  {
   "cell_type": "code",
   "execution_count": null,
   "metadata": {
    "hidden": true
   },
   "outputs": [],
   "source": [
    "from arcgis.gis import GIS\n",
    "import copy\n",
    "import json\n",
    "from json import dumps\n",
    "from json import JSONDecoder\n",
    "from arcgis.mapping import WebMap\n",
    "from arcgis.apps import workforce\n",
    "import requests"
   ]
  },
  {
   "cell_type": "markdown",
   "metadata": {
    "heading_collapsed": true
   },
   "source": [
    "# Login"
   ]
  },
  {
   "cell_type": "code",
   "execution_count": null,
   "metadata": {
    "hidden": true
   },
   "outputs": [],
   "source": [
    "#gis = GIS('http://portalgestor.esri.co/portal', 'sgcoficial', 'Sgcoficial$2020')\n",
    "# gis = GIS('http://editorcatastral2dev.esri.co/portal', 'ejecutor2', 'Esrico2021$') # El servicio de WFM debe estar compartido para que los ejecutores lo puedan ver\n",
    "gis = GIS(profile=\"sgc20\")"
   ]
  },
  {
   "cell_type": "code",
   "execution_count": null,
   "metadata": {
    "hidden": true
   },
   "outputs": [],
   "source": [
    "class Utils(object):\n",
    "    trace_messages = \"\"\n",
    "\n",
    "    def __init__(self, gis_obj):\n",
    "        self.gis = gis_obj\n",
    "\n",
    "    def addMessage(self, message, tipo=\"MESSAGE\"):\n",
    "        '''Agrega el mensaje enviado a la traza.\n",
    "        Parametros:\n",
    "        - message: Cadena de texto con informacion relevante al funcionamiento del servicio\n",
    "        - {tipo}: tipo de mensaje MESSAGE/WARNING/ERROR (por defecto MESSAGE)\n",
    "        '''\n",
    "        if tipo == \"MESSAGE\":\n",
    "            print(\"{}\".format(message))\n",
    "        elif tipo == \"WARNING\":\n",
    "            print(\"{}\".format(message))\n",
    "        elif tipo == \"ERROR\":\n",
    "            print(\"{}\".format(message))\n",
    "        self.trace_messages += \"{}\\r\\n\".format(message)\n",
    "\n",
    "    def ObtenerParametros(self, where_codigo=\"1=1\"):\n",
    "        \"\"\"Obtener parametros configurados en la tabla de configuracion del sistema\n",
    "        Parametros:\n",
    "        - {where_codigo}: codigos para hacer la consulta solamente por esos codigos (Ej: where_codigo='CODIGO1','CODIGO2','CODIGO3')\n",
    "        \"\"\"    \n",
    "        try:        \n",
    "            #ACA SE USA EL NOMBRE DE LA CREDENCIAL ALMACENADA EN EL OS\n",
    "            self.addMessage(\"Obteniendo parámetros....\")\n",
    "            search_result = self.gis.content.search('configuracion','Feature Layer')\n",
    "            config_item = search_result[0]            \n",
    "            tabla_conf = config_item.tables[0]\n",
    "            query_result = tabla_conf.query(where=where_codigo, out_fields='*')\n",
    "            listado = {}\n",
    "            for feature in query_result.features:    \n",
    "                opcion = feature.attributes[\"opcion\"]\n",
    "                valor = feature.attributes[\"valor\"]    \n",
    "                listado[str(opcion)]=valor\n",
    "            return listado\n",
    "        except Exception as ex:            \n",
    "            self.addMessage(message=\"Error obteniendo los parametros : {}\".format(str(ex)), tipo=\"ERROR\")\n",
    "            return None\n",
    "    \n",
    "    def getTableOrLayerWorkSpace(self,nombre_objeto,version_comparar=None):\n",
    "        try:\n",
    "            mensaje = \"\"\n",
    "            objeto = None\n",
    "            version = None\n",
    "            aprx = arcpy.mp.ArcGISProject(\"CURRENT\")\n",
    "            if aprx is None:\n",
    "                mensaje = \"Error: El proyecto de ArcGIS Pro es nulo\"\n",
    "            else:\n",
    "                mapa_activo = aprx.activeMap                    \n",
    "                if mapa_activo is not None:\n",
    "                    if mapa_activo.name.find(\"JOB_\")!=-1:\n",
    "                        lista_tablas = mapa_activo.listTables()\n",
    "                        if len(lista_tablas)>0:\n",
    "                            for tabla in lista_tablas:\n",
    "                                if tabla.name.upper() == nombre_objeto.upper():\n",
    "                                    version = tabla.connectionProperties[\"connection_info\"][\"version\"]\n",
    "                                    if version_comparar is not None:\n",
    "                                        if version==version_comparar:\n",
    "                                            objeto = tabla\n",
    "                                            break\n",
    "                                        else:\n",
    "                                            mensaje = \"La version {} no corresponde con el tramite {}.\".format(version,version_comparar)\n",
    "                                    else:\n",
    "                                        objeto = tabla\n",
    "                                        break\n",
    "\n",
    "                        if objeto is None:\n",
    "                            lista_layers = mapa_activo.listLayers()\n",
    "                            if len(lista_layers)>0:\n",
    "                                for layer in lista_layers:\n",
    "                                    if layer.name.upper() == nombre_objeto.upper():\n",
    "                                        version = tabla.connectionProperties[\"connection_info\"][\"version\"]\n",
    "                                        if version_comparar is not None:\n",
    "                                            if version==version_comparar:\n",
    "                                                objeto = layer\n",
    "                                                break\n",
    "                                            else:\n",
    "                                                mensaje = \"La version {} no corresponde con el tramite {}.\".format(version,version_comparar)\n",
    "                                        else:                                            \n",
    "                                            objeto = layer\n",
    "                                            break\n",
    "                    else:\n",
    "                        mensaje = \"Error: El mapa activo no es de un job de WorkFlow\"\n",
    "                else:\n",
    "                    mensaje = \"Error: No hay un mapa activo en el proyecto\"\n",
    "            if objeto is None:\n",
    "                self.addMessage(message=mensaje, tipo=\"ERROR\")\n",
    "            return objeto,version,mensaje\n",
    "        except Exception as ex:            \n",
    "            self.addMessage(message=\"Error obteniendo objeto {} del workspace: {}\".format(nombre_objeto,str(ex)), tipo=\"ERROR\")\n",
    "            return objeto,version,mensaje\n",
    "\n",
    "    def getTramiteMapa(self,tabla_cat_mutaciones):\n",
    "        try:\n",
    "            numerotramite = None\n",
    "            codigopredial = None\n",
    "            tipotramite = None\n",
    "            tipomutacion = None\n",
    "            subtipomutacion = None\n",
    "            codigos_asociados = None\n",
    "            version = None\n",
    "            tabla_encontrada = False       \n",
    "            cat_mutaciones_object,version,mensaje = self.getTableOrLayerWorkSpace(tabla_cat_mutaciones,None)            \n",
    "            if cat_mutaciones_object is None:\n",
    "                self.addMessage(message=mensaje, tipo=\"ERROR\")\n",
    "            else:                \n",
    "                tramiteEncontrado = False\n",
    "                with arcpy.da.SearchCursor(in_table=cat_mutaciones_object, field_names=[\"numero_tramite\",\"codigo_inicial\",\"tipotram\",\"tipomut\",\"subtipomut\",\"codigos_asoc1\"],sql_clause=(None, 'ORDER BY OBJECTID DESC')) as cursor:\n",
    "                    for row in cursor:\n",
    "                        tramite = row[0]\n",
    "                        if version.find(tramite)!=-1:\n",
    "                            tramiteEncontrado = True\n",
    "                            codigopredial = row[1]\n",
    "                            tipotramite = row[2]\n",
    "                            tipomutacion = row[3]\n",
    "                            subtipomutacion = row[4]  \n",
    "                            codigos_asociados = row[5]                                      \n",
    "                            numerotramite = tramite \n",
    "                            self.addMessage(\"Tramite encontrado:{}, codigo predial:{}\".format(tramite,codigopredial))\n",
    "                            break\n",
    "                if tramiteEncontrado == False:                                \n",
    "                    self.addMessage(message=\"Tramite no encontrado en este mapa\", tipo=\"ERROR\")\n",
    "            return numerotramite,codigopredial,tipotramite,tipomutacion,subtipomutacion,version, codigos_asociados\n",
    "        except Exception as ex:            \n",
    "            self.addMessage(message=\"Error getTramiteMapa. {}\".format(str(ex)), tipo=\"ERROR\")\n",
    "            return None,None,None,None,None,None\n"
   ]
  },
  {
   "cell_type": "code",
   "execution_count": null,
   "metadata": {
    "hidden": true
   },
   "outputs": [],
   "source": [
    "utilsSGC = Utils(gis)\n",
    "gWFM_SERVICE = \"WFM_SERVICE\"\n",
    "REGISTRO_MUTACIONES = \"REGISTRO_MUTACIONES\"\n",
    "dictParams = utilsSGC.ObtenerParametros()\n",
    "wfm_service = dictParams[gWFM_SERVICE]\n",
    "def getUserGroups(users_groups):\n",
    "    wfm_service = dictParams[gWFM_SERVICE]\n",
    "    search_result = gis.content.get(wfm_service)\n",
    "    if search_result:\n",
    "        url_wfm_com_operation = search_result.url+\"/community/{0}\".format(users_groups)\n",
    "        thetoken = gis._con.token\n",
    "        parametros = { \"f\": \"json\", \"token\": thetoken }\n",
    "        r = requests.post(url=url_wfm_com_operation, data=parametros)\n",
    "        resultjson = json.loads(r.text)\n",
    "        return resultjson         \n",
    "    else:\n",
    "        print(\"No se encuentra el servicio {}\".format(wfm_service))\n",
    "    return None"
   ]
  },
  {
   "cell_type": "code",
   "execution_count": null,
   "metadata": {
    "hidden": true
   },
   "outputs": [],
   "source": [
    "search_result_wfm_service = gis.content.get(wfm_service)\n",
    "groups_wfm = getUserGroups(\"groups\")\n",
    "ejecutores = []\n",
    "for group in groups_wfm[\"groups\"]:\n",
    "    if group[\"name\"] == \"Ejecutores\":\n",
    "        for user in group[\"users\"]:\n",
    "            ejecutores.append(user)\n",
    "        break\n",
    "ejecutores"
   ]
  },
  {
   "cell_type": "markdown",
   "metadata": {
    "heading_collapsed": true
   },
   "source": [
    "# Search Webmap template - Variables"
   ]
  },
  {
   "cell_type": "code",
   "execution_count": null,
   "metadata": {
    "hidden": true
   },
   "outputs": [],
   "source": [
    "wmTemplate = \"6c75cbb0eeff41e7a9469975e3c6c8e2\"\n",
    "#search_result = gis.content.search(\"{}\".format(\"TEMPLATE EJECUTORES CAMPO\"), \"Web Map\")\n",
    "#MAPA ORIGINAL renombrado como \"LADM_COL_OC_1_0_22_bk\"\n",
    "#search_result = gis.content.search(\"{}\".format(\"14fd0e42d87a4f8c95ce5b0382756753\"), \"Web Map\")\n",
    "search_result = gis.content.search(\"{}\".format(wmTemplate), \"Web Map\")\n",
    "webmap_template = search_result[0]\n",
    "#webmap_template"
   ]
  },
  {
   "cell_type": "code",
   "execution_count": null,
   "metadata": {
    "hidden": true
   },
   "outputs": [],
   "source": [
    "numerotramite = \"08001-2021-00077\"\n",
    "SGC_CAMPO_EJECUTOR = \"TRABAJO_CAMPO\"\n",
    "nomservicio = \"{0}\".format(numerotramite).replace(\".\", \"_\")\n",
    "current_user = gis.users.me.username\n",
    "usuarioAsignado = \"ejecutor1\"\n",
    "item_copy = None\n",
    "title_wm = nomservicio\n",
    "search_result_copy = gis.content.search(query=\"title:{}\".format(title_wm), category_filters=\"Web Map\")\n",
    "search_result_copy"
   ]
  },
  {
   "cell_type": "markdown",
   "metadata": {
    "heading_collapsed": true
   },
   "source": [
    "# GenerarWmPublicar (item.copy)"
   ]
  },
  {
   "cell_type": "code",
   "execution_count": null,
   "metadata": {
    "hidden": true
   },
   "outputs": [],
   "source": [
    "def GenerarWmPublicar(self, nomservicio, wmTemplate):\n",
    "    utilsSGC.addMessage(\"Inicio GenerarWmPublicar: \" + nomservicio)\n",
    "    item_result = None\n",
    "    search_result = gis.content.search(\"{}\".format(wmTemplate), \"Web Map\")\n",
    "    webmap_template = search_result[0]\n",
    "    item_copy = webmap_template.copy(title=nomservicio)\n",
    "    item_move = item_copy.move(folder=SGC_CAMPO_EJECUTOR)\n",
    "    item_result = gis.content.get(item_move[\"itemId\"])\n",
    "    #Asignar extent al mapa copiado:\n",
    "    extent_wm = webmap_template.extent\n",
    "    update_parameters = {'extent': extent_wm}\n",
    "    item_result.update(item_properties=update_parameters)\n",
    "    utilsSGC.addMessage(\"WebMap creado\")\n",
    "\n",
    "    return item_result"
   ]
  },
  {
   "cell_type": "markdown",
   "metadata": {
    "heading_collapsed": true
   },
   "source": [
    "# GenerarWebMap (save)"
   ]
  },
  {
   "cell_type": "code",
   "execution_count": null,
   "metadata": {
    "hidden": true
   },
   "outputs": [],
   "source": [
    "def GenerarWebMap(wmName, wmTemplate):\n",
    "    search_result = gis.content.search(\"{}\".format(wmTemplate), \"Web Map\")\n",
    "    webmap_template = search_result[0]        \n",
    "    item_result = None\n",
    "    search_result_copy = gis.content.search(query=\"title:{}\".format(wmName), category_filters=\"Web Map\")\n",
    "    if len(search_result_copy) == 0 or (len(search_result_copy)==1 and search_result_copy[0].title != wmName):\n",
    "        pass\n",
    "    elif len(search_result_copy) > 1:\n",
    "        for item in search_result_copy:\n",
    "            if item.title == wmName:\n",
    "                item_result = item\n",
    "                break\n",
    "    if item_result:\n",
    "        utilsSGC.addMessage(\"Ya existe el webmap \"+wmName)\n",
    "    else:\n",
    "        utilsSGC.addMessage(\"El WebMap no existe, creandolo\")\n",
    "        wm = WebMap(webmap_template)\n",
    "        tk = \"Offline,Collector\"\n",
    "        web_map_properties = {'typeKeywords': tk, 'title': wmName, 'snippet': wmName, 'tags': wmName}\n",
    "        item_result = wm.save(item_properties=web_map_properties, folder=SGC_CAMPO_EJECUTOR)\n",
    "        utilsSGC.addMessage(\"WebMap creado\")\n",
    "\n",
    "    return item_result"
   ]
  },
  {
   "cell_type": "markdown",
   "metadata": {
    "heading_collapsed": true
   },
   "source": [
    "# PublicarWebMap (save/item.copy)"
   ]
  },
  {
   "cell_type": "code",
   "execution_count": null,
   "metadata": {
    "hidden": true
   },
   "outputs": [],
   "source": [
    "def PublicarWebMap(wmTemplate, nombreServicio, usuarioAsignado):\n",
    "    \"\"\"Generar el nuevo webmap correspondiente al tramite\n",
    "    Parametros:\n",
    "    - wmTemplate: Nombre del WebMap usado como plantilla\n",
    "    - nombreServicio: Nombre que tendra el WebMap\n",
    "    - usuarioAsignado: Nombre del usuario ejecutor asignado\n",
    "    \"\"\"\n",
    "    utilsSGC.addMessage(\"Inicio PublicarWebMap:\")\n",
    "    result = False\n",
    "    try:                   \n",
    "        # wmItem = GenerarWmPublicar(nombreServicio, wmTemplate)\n",
    "        search_result = gis.content.search(\"{}\".format(wmTemplate), \"Web Map\")\n",
    "        webmap_template = search_result[0]\n",
    "        wm = WebMap(webmap_template)\n",
    "        tk = \"Offline,Collector\"\n",
    "        web_map_properties = {'typeKeywords': tk, 'title': nombreServicio, 'snippet': nombreServicio, 'tags': nombreServicio}\n",
    "        wmItem = wm.save(item_properties=web_map_properties, folder=SGC_CAMPO_EJECUTOR)\n",
    "        utilsSGC.addMessage(\"WebMap creado\")\n",
    "        if wmItem is None:\n",
    "            raise Exception(\"Error creando copia de webmap {}\".format(wmTemplate))            \n",
    "        #Modificar propiedades del wm copiado:\n",
    "        pubMapJson = wmItem.get_data(try_json=True)\n",
    "        lyrFilter = \"usuario_portal = '{0}'\".format(usuarioAsignado)\n",
    "        fldMapJsonCopy = copy.deepcopy(pubMapJson)\n",
    "        title_layer = \"LADM_COL_OC_1_0_22 - LC_UnidadEspacial\"\n",
    "        lyrT = [l for l in pubMapJson['operationalLayers'] if l['title']== title_layer]\n",
    "        if len(lyrT) > 0:\n",
    "            tZoneLyr = lyrT[0]\n",
    "            if 'layerDefinition' in tZoneLyr:\n",
    "                z = [[x, y] for x, y in enumerate(pubMapJson['operationalLayers']) if y['title'] == title_layer][0]\n",
    "                fldMapJsonCopy['operationalLayers'][z[0]]['layerDefinition']['definitionExpression'] = lyrFilter\n",
    "        wmItem.update(item_properties={'text':json.dumps(fldMapJsonCopy)})\n",
    "        result = True            \n",
    "    except Exception as e:\n",
    "        utilsSGC.addMessage(\"Error publicando webmap \"+ str(e), \"ERROR\")\n",
    "    return result"
   ]
  },
  {
   "cell_type": "markdown",
   "metadata": {
    "heading_collapsed": true
   },
   "source": [
    "# Publicar WebMap"
   ]
  },
  {
   "cell_type": "code",
   "execution_count": null,
   "metadata": {
    "hidden": true
   },
   "outputs": [],
   "source": [
    "#item_result = GenerarWebMap(title_wm, wmTemplate)\n",
    "item_result = PublicarWebMap(wmTemplate, title_wm, usuarioAsignado)\n",
    "item_result"
   ]
  },
  {
   "cell_type": "markdown",
   "metadata": {
    "heading_collapsed": true
   },
   "source": [
    "# Modificar propiedades del wm copiado"
   ]
  },
  {
   "cell_type": "code",
   "execution_count": null,
   "metadata": {
    "hidden": true
   },
   "outputs": [],
   "source": [
    "pubMapJson_template = webmap_template.get_data(try_json=True)\n",
    "#https://community.esri.com/t5/arcgis-api-for-python-questions/filter-layer-inside-webmap/td-p/806503\n",
    "#Obtener el webmap copiado\n",
    "timeZoneWebMap = item_result\n",
    "#Get the webmap json\n",
    "pubMapJson = item_result.get_data(try_json=True)\n",
    "# Filter Expression to apply to layer\n",
    "usuarioasignado = \"ejecutor1\"\n",
    "lyrFilter = \"usuario_portal = '{0}'\".format(usuarioasignado)"
   ]
  },
  {
   "cell_type": "code",
   "execution_count": null,
   "metadata": {
    "hidden": true
   },
   "outputs": [],
   "source": [
    "#List comprehension to find the one layer you need to modify by title\n",
    "#Here you could loop on all layers to modify the filter too.\n",
    "title_layer = \"LADM_COL_OC_1_0_22 - LC_UnidadEspacial\"\n",
    "lyrT = [l for l in pubMapJson['operationalLayers'] if l['title']== title_layer]\n",
    "#lyrT"
   ]
  },
  {
   "cell_type": "code",
   "execution_count": null,
   "metadata": {
    "hidden": true
   },
   "outputs": [],
   "source": [
    "#Make a deepcopy of the json to modify\n",
    "fldMapJsonCopy = copy.deepcopy(pubMapJson)\n",
    "if len(lyrT) > 0:\n",
    "    tZoneLyr = lyrT[0]\n",
    "    if 'layerDefinition' in tZoneLyr:\n",
    "       z = [[x, y] for x, y in enumerate(pubMapJson['operationalLayers']) if y['title'] == title_layer][0]\n",
    "       fldMapJsonCopy['operationalLayers'][z[0]]['layerDefinition']['definitionExpression'] = lyrFilter"
   ]
  },
  {
   "cell_type": "code",
   "execution_count": null,
   "metadata": {
    "hidden": true
   },
   "outputs": [],
   "source": [
    "#Save the changes to the Webmap\n",
    "timeZoneWebMap.update(item_properties={'text':dumps(fldMapJsonCopy)})\n",
    "timeZoneWebMap"
   ]
  },
  {
   "cell_type": "markdown",
   "metadata": {
    "heading_collapsed": true
   },
   "source": [
    "# Asignación en Workforce"
   ]
  },
  {
   "cell_type": "code",
   "execution_count": null,
   "metadata": {
    "hidden": true
   },
   "outputs": [],
   "source": [
    "def crearAsignacionWorkForce(assignedTo, createdBy, workforce_itemid_project, location, jobid, descripcion, nrotramite):\n",
    "    resultado = False\n",
    "    try:\n",
    "        print(\"Creando asignacion workforce\")\n",
    "        # poligonmap = self.ObtenerExtentJob(jobid, 102100)\n",
    "        # puntocentroide = poligonmap.centroid\n",
    "        # X:-74.82530787377105, Y:10.995190070952786\n",
    "        puntocentroide = {\"X\":-74.82530787377105, \"Y\":10.995190070952786}\n",
    "        workforce_project_item = gis.content.get(workforce_itemid_project)\n",
    "        project = workforce.Project(item=workforce_project_item)\n",
    "        worker = project.workers.get(user_id=assignedTo.lower())\n",
    "        dispatcher = project.dispatchers.get(user_id=createdBy.lower())\n",
    "        tipo = project.assignment_types.get(name=\"Ejecutores\")\n",
    "        print(\"Ejecutando la asignacion en workforce...\")\n",
    "        project.assignments.add(\n",
    "            assignment_type=tipo,\n",
    "            status=\"assigned\",\n",
    "            assigned_date=datetime.datetime.now(),\n",
    "            worker=worker,\n",
    "            dispatcher=dispatcher,\n",
    "            location=location,\n",
    "            description=descripcion,\n",
    "            # geometry={'x': puntocentroide.X, 'y': puntocentroide.Y},\n",
    "            geometry={'x': puntocentroide[\"X\"], 'y': puntocentroide[\"Y\"]},\n",
    "            work_order_id=nrotramite)\n",
    "        print(\"Asignacion realizada satisfactoriamente\")\n",
    "        resultado = True\n",
    "    except Exception as e:\n",
    "        print(\"Ha ocurrido un error en la asignacion a Workforce: \" + str(e), \"ERROR\")\n",
    "    return resultado"
   ]
  },
  {
   "cell_type": "code",
   "execution_count": null,
   "metadata": {
    "hidden": true,
    "scrolled": true
   },
   "outputs": [],
   "source": [
    "jobid = -1\n",
    "codigopredial = \"080010103000004060036000000000\"\n",
    "nroManzana = \"\"\n",
    "nroPredio = \"\"\n",
    "tipopredio = \"\"\n",
    "esPh = codigopredial[21:22]\n",
    "if esPh in (\"9\", \"5\", \"6\"):\n",
    "    nroPredio = \"Nro de Predio:\" + codigopredial[17:30]\n",
    "else:\n",
    "    nroPredio = \"Nro de Predio:\" + codigopredial[17:21]\n",
    "\n",
    "tp = codigopredial[5:7]\n",
    "if tp == \"00\":\n",
    "    tipopredio = \"RURAL\"\n",
    "    nroManzana = \"Nro de Sector: {}, Nro de Vereda: {}\".format(codigopredial[7:9], codigopredial[13:17])\n",
    "else:\n",
    "    tipopredio = \"URBANO\"\n",
    "    nroManzana = \"Nro de Sector: {}, Nro de Manzana: {}\".format(codigopredial[7:9], codigopredial[13:17])\n",
    "idWebMap = item_result.id\n",
    "workforce_itemid_project = \"211e695a5a0048bf915cf8963ce4a38b\"\n",
    "location = \"Nro de tramite:\" + numerotramite + \", \" + nroManzana + \", \" + nroPredio\n",
    "descripcion = \"webmapid:\" + idWebMap + \"|predio:\" + codigopredial + \"|ambito:\" + tipopredio + \"|proceso:CON|nrotramite:\" + numerotramite\n",
    "AsignacionWorkForce = crearAsignacionWorkForce(usuarioAsignado, current_user, workforce_itemid_project, location, jobid, descripcion, numerotramite)\n",
    "if AsignacionWorkForce:\n",
    "    result = True\n",
    "    print(\"asignacion workforce satisfactoria\")\n",
    "else:\n",
    "    result = False\n",
    "    print(\"Fallas en asignacion workforce\")"
   ]
  }
 ],
 "metadata": {
  "interpreter": {
   "hash": "a1312de666e040bd4c5ef5978aa02a450c60ef1a294c5c6dce6460557dcf4675"
  },
  "kernelspec": {
   "display_name": "Python 3",
   "language": "python",
   "name": "python3"
  },
  "language_info": {
   "codemirror_mode": {
    "name": "ipython",
    "version": 3
   },
   "file_extension": ".py",
   "mimetype": "text/x-python",
   "name": "python",
   "nbconvert_exporter": "python",
   "pygments_lexer": "ipython3",
   "version": "3.8.5"
  }
 },
 "nbformat": 4,
 "nbformat_minor": 4
}
