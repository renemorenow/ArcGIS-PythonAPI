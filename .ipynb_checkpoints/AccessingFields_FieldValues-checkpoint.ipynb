{
 "cells": [
  {
   "cell_type": "code",
   "execution_count": 7,
   "metadata": {
    "scrolled": true
   },
   "outputs": [
    {
     "name": "stdout",
     "output_type": "stream",
     "text": [
      "OBJECTID\n",
      "id\n",
      "state\n",
      "stop_date\n",
      "stop_time\n",
      "location_r\n",
      "county_nam\n",
      "county_fip\n",
      "fine_grain\n",
      "police_dep\n",
      "driver_age\n",
      "driver_a_1\n",
      "violation_\n",
      "violation\n",
      "search_con\n",
      "search_typ\n",
      "search_t_1\n",
      "contraband\n",
      "stop_outco\n",
      "is_arreste\n",
      "violations\n",
      "officer_id\n",
      "highway_ty\n",
      "road_numbe\n",
      "milepost\n",
      "lat\n",
      "lon\n",
      "contact_ty\n",
      "enforcemen\n",
      "drugs_rela\n"
     ]
    }
   ],
   "source": [
    "from arcgis.gis import GIS\n",
    "gis = GIS(\"http://arcgis.com\", \"williamrenem\", \"Umbita01\")\n",
    "search_results = gis.content.search(\"title:Puget Sound Traffic Incidents\", item_type=\"Feature Service\")\n",
    "feature_layer_collection = search_results[0]\n",
    "feature_layer = feature_layer_collection.layers[0]\n",
    "for i in feature_layer.properties.fields:\n",
    "    print(i['name'])"
   ]
  }
 ],
 "metadata": {
  "kernelspec": {
   "display_name": "Python 3",
   "language": "python",
   "name": "python3"
  },
  "language_info": {
   "codemirror_mode": {
    "name": "ipython",
    "version": 3
   },
   "file_extension": ".py",
   "mimetype": "text/x-python",
   "name": "python",
   "nbconvert_exporter": "python",
   "pygments_lexer": "ipython3",
   "version": "3.6.8"
  }
 },
 "nbformat": 4,
 "nbformat_minor": 2
}
