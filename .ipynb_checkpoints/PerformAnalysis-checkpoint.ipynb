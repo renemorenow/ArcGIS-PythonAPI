{
 "cells": [
  {
   "cell_type": "code",
   "execution_count": 111,
   "metadata": {},
   "outputs": [],
   "source": [
    "from arcgis.gis import GIS\n",
    "from arcgis.features.analyze_patterns import find_hot_spots"
   ]
  },
  {
   "cell_type": "code",
   "execution_count": 112,
   "metadata": {},
   "outputs": [],
   "source": [
    "#Cuenta de ArcGIS Enterprise con creditos:\n",
    "gis = GIS(\"http://arcgis.com\", \"renemorenow\", \"Umbita01\")"
   ]
  },
  {
   "cell_type": "code",
   "execution_count": 113,
   "metadata": {},
   "outputs": [],
   "source": [
    "search_results = gis.content.search(\"title:Puget Sound Traffic Incidents\", item_type=\"Feature Service\", outside_org=True)"
   ]
  },
  {
   "cell_type": "code",
   "execution_count": 114,
   "metadata": {},
   "outputs": [],
   "source": [
    "incidents_feature_layer_collection = search_results[0]"
   ]
  },
  {
   "cell_type": "code",
   "execution_count": 115,
   "metadata": {},
   "outputs": [
    {
     "data": {
      "text/plain": [
       "<FeatureLayer url:\"https://services.arcgis.com/ue9rwulIoeLEI9bj/arcgis/rest/services/Puget_Sound_Traffic_Incidents/FeatureServer/0\">"
      ]
     },
     "execution_count": 115,
     "metadata": {},
     "output_type": "execute_result"
    }
   ],
   "source": [
    "incidents_feature_layer = incidents_feature_layer_collection.layers[0]\n",
    "incidents_feature_layer"
   ]
  },
  {
   "cell_type": "code",
   "execution_count": 116,
   "metadata": {},
   "outputs": [],
   "source": [
    "map1 = gis.map(\"Seattle, WA\")"
   ]
  },
  {
   "cell_type": "code",
   "execution_count": 117,
   "metadata": {},
   "outputs": [],
   "source": [
    "map1.basemap = \"streets\""
   ]
  },
  {
   "cell_type": "code",
   "execution_count": 118,
   "metadata": {},
   "outputs": [
    {
     "name": "stdout",
     "output_type": "stream",
     "text": [
      "You need to be signed in to use spatial analysis.\n"
     ]
    },
    {
     "ename": "AttributeError",
     "evalue": "'NoneType' object has no attribute 'find_hot_spots'",
     "output_type": "error",
     "traceback": [
      "\u001b[1;31m---------------------------------------------------------------------------\u001b[0m",
      "\u001b[1;31mAttributeError\u001b[0m                            Traceback (most recent call last)",
      "\u001b[1;32m<ipython-input-118-95b50c780a2e>\u001b[0m in \u001b[0;36m<module>\u001b[1;34m\u001b[0m\n\u001b[1;32m----> 1\u001b[1;33m \u001b[0mfind_hot_spots\u001b[0m\u001b[1;33m(\u001b[0m\u001b[0mincidents_feature_layer\u001b[0m\u001b[1;33m,\u001b[0m \u001b[0moutput_name\u001b[0m\u001b[1;33m=\u001b[0m\u001b[1;34m'Puget Sound Traffic Stops WR'\u001b[0m\u001b[1;33m,\u001b[0m \u001b[0mgis\u001b[0m\u001b[1;33m=\u001b[0m\u001b[0mgis\u001b[0m\u001b[1;33m)\u001b[0m\u001b[1;33m\u001b[0m\u001b[1;33m\u001b[0m\u001b[0m\n\u001b[0m",
      "\u001b[1;32mC:\\Program Files\\ArcGIS\\Pro\\bin\\Python\\envs\\arcgispro-py3\\lib\\site-packages\\arcgis\\features\\analyze_patterns.py\u001b[0m in \u001b[0;36mfind_hot_spots\u001b[1;34m(analysis_layer, analysis_field, divided_by_field, bounding_polygon_layer, aggregation_polygon_layer, output_name, context, gis, estimate, shape_type)\u001b[0m\n\u001b[0;32m    303\u001b[0m \u001b[1;33m\u001b[0m\u001b[0m\n\u001b[0;32m    304\u001b[0m     \u001b[0mgis\u001b[0m \u001b[1;33m=\u001b[0m \u001b[0m_arcgis\u001b[0m\u001b[1;33m.\u001b[0m\u001b[0menv\u001b[0m\u001b[1;33m.\u001b[0m\u001b[0mactive_gis\u001b[0m \u001b[1;32mif\u001b[0m \u001b[0mgis\u001b[0m \u001b[1;32mis\u001b[0m \u001b[1;32mNone\u001b[0m \u001b[1;32melse\u001b[0m \u001b[0mgis\u001b[0m\u001b[1;33m\u001b[0m\u001b[1;33m\u001b[0m\u001b[0m\n\u001b[1;32m--> 305\u001b[1;33m     return gis._tools.featureanalysis.find_hot_spots(\n\u001b[0m\u001b[0;32m    306\u001b[0m         \u001b[0manalysis_layer\u001b[0m\u001b[1;33m,\u001b[0m\u001b[1;33m\u001b[0m\u001b[1;33m\u001b[0m\u001b[0m\n\u001b[0;32m    307\u001b[0m         \u001b[0manalysis_field\u001b[0m\u001b[1;33m,\u001b[0m\u001b[1;33m\u001b[0m\u001b[1;33m\u001b[0m\u001b[0m\n",
      "\u001b[1;31mAttributeError\u001b[0m: 'NoneType' object has no attribute 'find_hot_spots'"
     ]
    }
   ],
   "source": [
    "find_hot_spots(incidents_feature_layer, output_name='Puget Sound Traffic Stops WR', gis=gis)"
   ]
  },
  {
   "cell_type": "code",
   "execution_count": null,
   "metadata": {},
   "outputs": [],
   "source": [
    "hotspot_results = gis.content.search(\"title:Puget Sound Traffic Stops WR\", item_type=\"Feature Service\")"
   ]
  },
  {
   "cell_type": "code",
   "execution_count": null,
   "metadata": {},
   "outputs": [],
   "source": [
    "hotspot_feature_layer_collection = hotspot_results[0]"
   ]
  },
  {
   "cell_type": "code",
   "execution_count": null,
   "metadata": {},
   "outputs": [],
   "source": [
    "hotspot_feature_layer = hotspot_feature_layer_collection.layers[0]"
   ]
  },
  {
   "cell_type": "code",
   "execution_count": null,
   "metadata": {},
   "outputs": [],
   "source": [
    "map1.add_layer(incidents_feature_layer)"
   ]
  },
  {
   "cell_type": "code",
   "execution_count": null,
   "metadata": {},
   "outputs": [],
   "source": [
    "map1.remove_layers([incidents_feature_layer])"
   ]
  },
  {
   "cell_type": "code",
   "execution_count": null,
   "metadata": {},
   "outputs": [],
   "source": [
    "map1.add_layer(hotspot_feature_layer)"
   ]
  },
  {
   "cell_type": "code",
   "execution_count": null,
   "metadata": {},
   "outputs": [],
   "source": [
    "map1"
   ]
  }
 ],
 "metadata": {
  "kernelspec": {
   "display_name": "Python 3",
   "language": "python",
   "name": "python3"
  },
  "language_info": {
   "codemirror_mode": {
    "name": "ipython",
    "version": 3
   },
   "file_extension": ".py",
   "mimetype": "text/x-python",
   "name": "python",
   "nbconvert_exporter": "python",
   "pygments_lexer": "ipython3",
   "version": "3.6.8"
  }
 },
 "nbformat": 4,
 "nbformat_minor": 2
}
