{
 "cells": [
  {
   "cell_type": "code",
   "execution_count": 2,
   "metadata": {},
   "outputs": [
    {
     "data": {
      "text/html": [
       "GIS @ <a href=\"https://www.arcgis.com\">https://www.arcgis.com</a>"
      ],
      "text/plain": [
       "GIS @ https://www.arcgis.com version:7.4"
      ]
     },
     "execution_count": 2,
     "metadata": {},
     "output_type": "execute_result"
    }
   ],
   "source": [
    "#Import gis Module and Connect\n",
    "from arcgis.gis import GIS\n",
    "gis = GIS()\n",
    "gis"
   ]
  },
  {
   "cell_type": "code",
   "execution_count": 3,
   "metadata": {},
   "outputs": [
    {
     "data": {
      "text/html": [
       "<div class=\"item_container\" style=\"height: auto; overflow: hidden; border: 1px solid #cfcfcf; border-radius: 2px; background: #f6fafa; line-height: 1.21429em; padding: 10px;\">\n",
       "                    <div class=\"item_left\" style=\"width: 210px; float: left;\">\n",
       "                       <a href='https://www.arcgis.com/home/item.html?id=41281c51f9de45edaf1c8ed44bb10e30' target='_blank'>\n",
       "                        <img src='https://www.arcgis.com/sharing/rest//content/items/41281c51f9de45edaf1c8ed44bb10e30/info/thumbnail/ago_downloaded.png' class=\"itemThumbnail\">\n",
       "                       </a>\n",
       "                    </div>\n",
       "\n",
       "                    <div class=\"item_right\"     style=\"float: none; width: auto; overflow: hidden;\">\n",
       "                        <a href='https://www.arcgis.com/home/item.html?id=41281c51f9de45edaf1c8ed44bb10e30' target='_blank'><b>LA Parks and Trails Map (styled with popups)</b>\n",
       "                        </a>\n",
       "                        <br/>Trails and parks in the LA area (styled with popups)<img src='https://www.arcgis.com/home/js/jsapi/esri/css/images/item_type_icons/maps16.png' style=\"vertical-align:middle;\">Web Map by esri_devlabs\n",
       "                        <br/>Last Modified: mayo 02, 2019\n",
       "                        <br/>0 comments, 73.686 views\n",
       "                    </div>\n",
       "                </div>\n",
       "                "
      ],
      "text/plain": [
       "<Item title:\"LA Parks and Trails Map (styled with popups)\" type:Web Map owner:esri_devlabs>"
      ]
     },
     "execution_count": 3,
     "metadata": {},
     "output_type": "execute_result"
    }
   ],
   "source": [
    "#Get a publicly available web map titled LA Parks and Trails Map (styled with popups) owned by esri_devlabs.\n",
    "#It contains datasets about Los Angeles, CA parks and trails. Use item ID 41281c51f9de45edaf1c8ed44bb10e30 for the web map.\n",
    "webmap = gis.content.get('41281c51f9de45edaf1c8ed44bb10e30')\n",
    "webmap"
   ]
  },
  {
   "cell_type": "code",
   "execution_count": 4,
   "metadata": {},
   "outputs": [
    {
     "data": {
      "application/vnd.jupyter.widget-view+json": {
       "model_id": "b8da792276a047e99a9638f5ab20308d",
       "version_major": 2,
       "version_minor": 0
      },
      "text/plain": [
       "MapView(hide_mode_switch=True, layout=Layout(height='400px', width='100%'))"
      ]
     },
     "metadata": {},
     "output_type": "display_data"
    },
    {
     "data": {
      "text/html": [
       "<div class=\"map-static-img-preview-0035ed16-69f8-46b3-a021-a4f226a03064\"><img src=\"\"></img></div>"
      ],
      "text/plain": [
       "<IPython.core.display.HTML object>"
      ]
     },
     "metadata": {},
     "output_type": "display_data"
    }
   ],
   "source": [
    "#Import the WebMap class from the arcgis.mapping module and visualize the web map.\n",
    "from arcgis.mapping import WebMap\n",
    "la_parks_trails = WebMap(webmap)\n",
    "la_parks_trails"
   ]
  }
 ],
 "metadata": {
  "kernelspec": {
   "display_name": "Python 3",
   "language": "python",
   "name": "python3"
  },
  "language_info": {
   "codemirror_mode": {
    "name": "ipython",
    "version": 3
   },
   "file_extension": ".py",
   "mimetype": "text/x-python",
   "name": "python",
   "nbconvert_exporter": "python",
   "pygments_lexer": "ipython3",
   "version": "3.6.8"
  }
 },
 "nbformat": 4,
 "nbformat_minor": 2
}
