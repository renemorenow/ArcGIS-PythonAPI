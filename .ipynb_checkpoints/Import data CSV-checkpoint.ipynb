{
 "cells": [
  {
   "cell_type": "code",
   "execution_count": 11,
   "metadata": {},
   "outputs": [],
   "source": [
    "from arcgis.gis import GIS\n",
    "from pathlib import Path\n",
    "gis = GIS(\"http://arcgis.com\", \"renemorenow\", \"Umbita01\")"
   ]
  },
  {
   "cell_type": "code",
   "execution_count": 12,
   "metadata": {},
   "outputs": [],
   "source": [
    "# Next we will import the Parks and Open Space.zip Shapefile, and leave the .csv and .geojson files as Challenges below. Make a dict to store the metadata for the Shapefile with the fields title, tags, and type\n",
    "parks_properties = {\n",
    "    'title': 'Parks and Open Space',\n",
    "    'tags': 'parks, open data, tutorials',\n",
    "    'type': 'Shapefile'\n",
    "}"
   ]
  },
  {
   "cell_type": "code",
   "execution_count": 13,
   "metadata": {},
   "outputs": [
    {
     "data": {
      "text/html": [
       "<div class=\"item_container\" style=\"height: auto; overflow: hidden; border: 1px solid #cfcfcf; border-radius: 2px; background: #f6fafa; line-height: 1.21429em; padding: 10px;\">\n",
       "                    <div class=\"item_left\" style=\"width: 210px; float: left;\">\n",
       "                       <a href='http://renemorenow.maps.arcgis.com/home/item.html?id=9325a0eed8c9453aa94681d040660b61' target='_blank'>\n",
       "                        <img src='http://static.arcgis.com/images/desktopapp.png' class=\"itemThumbnail\">\n",
       "                       </a>\n",
       "                    </div>\n",
       "\n",
       "                    <div class=\"item_right\"     style=\"float: none; width: auto; overflow: hidden;\">\n",
       "                        <a href='http://renemorenow.maps.arcgis.com/home/item.html?id=9325a0eed8c9453aa94681d040660b61' target='_blank'><b>Parks and Open Space</b>\n",
       "                        </a>\n",
       "                        <br/><img src='http://renemorenow.maps.arcgis.com/home/js/jsapi/esri/css/images/item_type_icons/datafiles16.png' style=\"vertical-align:middle;\">Shapefile by renemorenow\n",
       "                        <br/>Last Modified: febrero 14, 2020\n",
       "                        <br/>0 comments, 0 views\n",
       "                    </div>\n",
       "                </div>\n",
       "                "
      ],
      "text/plain": [
       "<Item title:\"Parks and Open Space\" type:Shapefile owner:renemorenow>"
      ]
     },
     "execution_count": 13,
     "metadata": {},
     "output_type": "execute_result"
    }
   ],
   "source": [
    "# Now load the data as a feature layer with a ContentManager by calling gis.content.add which returns an Item object\n",
    "data_path = Path(r'D:\\EsriTraining\\Api4Python\\data')\n",
    "\n",
    "data_file_location = r'D:\\EsriTraining\\Api4Python\\data\\Parks_and_Open_Space.zip'\n",
    "parks_shp = gis.content.add(parks_properties, data=data_file_location)\n",
    "\n",
    "# You can now visualize the Item object `parks_shp` in rich HTML notation in your notebook.\n",
    "parks_shp"
   ]
  },
  {
   "cell_type": "code",
   "execution_count": 14,
   "metadata": {},
   "outputs": [
    {
     "data": {
      "text/html": [
       "<div class=\"item_container\" style=\"height: auto; overflow: hidden; border: 1px solid #cfcfcf; border-radius: 2px; background: #f6fafa; line-height: 1.21429em; padding: 10px;\">\n",
       "                    <div class=\"item_left\" style=\"width: 210px; float: left;\">\n",
       "                       <a href='http://renemorenow.maps.arcgis.com/home/item.html?id=d7ded73a7f504092b36e5b45b659a23d' target='_blank'>\n",
       "                        <img src='http://static.arcgis.com/images/desktopapp.png' class=\"itemThumbnail\">\n",
       "                       </a>\n",
       "                    </div>\n",
       "\n",
       "                    <div class=\"item_right\"     style=\"float: none; width: auto; overflow: hidden;\">\n",
       "                        <a href='http://renemorenow.maps.arcgis.com/home/item.html?id=d7ded73a7f504092b36e5b45b659a23d' target='_blank'><b>Parks and Open Space</b>\n",
       "                        </a>\n",
       "                        <br/><img src='http://renemorenow.maps.arcgis.com/home/js/jsapi/esri/css/images/item_type_icons/featureshosted16.png' style=\"vertical-align:middle;\">Feature Layer Collection by renemorenow\n",
       "                        <br/>Last Modified: febrero 14, 2020\n",
       "                        <br/>0 comments, 0 views\n",
       "                    </div>\n",
       "                </div>\n",
       "                "
      ],
      "text/plain": [
       "<Item title:\"Parks and Open Space\" type:Feature Layer Collection owner:renemorenow>"
      ]
     },
     "execution_count": 14,
     "metadata": {},
     "output_type": "execute_result"
    }
   ],
   "source": [
    "# Then call the publish method of parks_shp to publish the Shapefile, which returns another arcgis.gis.Item instance for the feature layer\n",
    "parks_feature_layer_item = parks_shp.publish()\n",
    "\n",
    "# Then visualize the new feature layer\n",
    "parks_feature_layer_item"
   ]
  },
  {
   "cell_type": "code",
   "execution_count": 15,
   "metadata": {},
   "outputs": [
    {
     "data": {
      "text/plain": [
       "'https://services3.arcgis.com/Bd3GqULNdzgCeQfi/arcgis/rest/services/Parks_and_Open_Space/FeatureServer'"
      ]
     },
     "execution_count": 15,
     "metadata": {},
     "output_type": "execute_result"
    }
   ],
   "source": [
    "# Identify the URL\n",
    "parks_feature_layer_item.url"
   ]
  }
 ],
 "metadata": {
  "kernelspec": {
   "display_name": "Python 3",
   "language": "python",
   "name": "python3"
  },
  "language_info": {
   "codemirror_mode": {
    "name": "ipython",
    "version": 3
   },
   "file_extension": ".py",
   "mimetype": "text/x-python",
   "name": "python",
   "nbconvert_exporter": "python",
   "pygments_lexer": "ipython3",
   "version": "3.6.8"
  }
 },
 "nbformat": 4,
 "nbformat_minor": 2
}
