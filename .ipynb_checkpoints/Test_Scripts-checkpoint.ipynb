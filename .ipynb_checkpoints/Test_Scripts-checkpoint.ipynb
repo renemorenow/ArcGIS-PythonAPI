{
 "cells": [
  {
   "cell_type": "markdown",
   "metadata": {
    "heading_collapsed": true
   },
   "source": [
    "# Imports"
   ]
  },
  {
   "cell_type": "code",
   "execution_count": 1,
   "metadata": {
    "hidden": true
   },
   "outputs": [],
   "source": [
    "from arcgis.gis import GIS\n",
    "import copy\n",
    "import json\n",
    "from json import dumps\n",
    "from json import JSONDecoder\n",
    "from arcgis.mapping import WebMap\n",
    "from arcgis.apps import workforce\n",
    "import requests"
   ]
  },
  {
   "cell_type": "markdown",
   "metadata": {
    "heading_collapsed": true
   },
   "source": [
    "# Login"
   ]
  },
  {
   "cell_type": "code",
   "execution_count": 2,
   "metadata": {
    "hidden": true
   },
   "outputs": [
    {
     "ename": "ConnectionError",
     "evalue": "A connection error has occurred: HTTPSConnectionPool(host='editorcatastral2dev.esri.co', port=443): Max retries exceeded with url: /portal/sharing/rest/info?f=json (Caused by NewConnectionError('<urllib3.connection.HTTPSConnection object at 0x17755580>: Failed to establish a new connection: [Errno 11001] getaddrinfo failed'))",
     "output_type": "error",
     "traceback": [
      "\u001b[1;31m---------------------------------------------------------------------------\u001b[0m",
      "\u001b[1;31mgaierror\u001b[0m                                  Traceback (most recent call last)",
      "\u001b[1;32md:\\programfiles\\python38-32\\lib\\site-packages\\urllib3\\connection.py\u001b[0m in \u001b[0;36m_new_conn\u001b[1;34m(self)\u001b[0m\n\u001b[0;32m    158\u001b[0m         \u001b[1;32mtry\u001b[0m\u001b[1;33m:\u001b[0m\u001b[1;33m\u001b[0m\u001b[1;33m\u001b[0m\u001b[0m\n\u001b[1;32m--> 159\u001b[1;33m             conn = connection.create_connection(\n\u001b[0m\u001b[0;32m    160\u001b[0m                 \u001b[1;33m(\u001b[0m\u001b[0mself\u001b[0m\u001b[1;33m.\u001b[0m\u001b[0m_dns_host\u001b[0m\u001b[1;33m,\u001b[0m \u001b[0mself\u001b[0m\u001b[1;33m.\u001b[0m\u001b[0mport\u001b[0m\u001b[1;33m)\u001b[0m\u001b[1;33m,\u001b[0m \u001b[0mself\u001b[0m\u001b[1;33m.\u001b[0m\u001b[0mtimeout\u001b[0m\u001b[1;33m,\u001b[0m \u001b[1;33m**\u001b[0m\u001b[0mextra_kw\u001b[0m\u001b[1;33m\u001b[0m\u001b[1;33m\u001b[0m\u001b[0m\n",
      "\u001b[1;32md:\\programfiles\\python38-32\\lib\\site-packages\\urllib3\\util\\connection.py\u001b[0m in \u001b[0;36mcreate_connection\u001b[1;34m(address, timeout, source_address, socket_options)\u001b[0m\n\u001b[0;32m     60\u001b[0m \u001b[1;33m\u001b[0m\u001b[0m\n\u001b[1;32m---> 61\u001b[1;33m     \u001b[1;32mfor\u001b[0m \u001b[0mres\u001b[0m \u001b[1;32min\u001b[0m \u001b[0msocket\u001b[0m\u001b[1;33m.\u001b[0m\u001b[0mgetaddrinfo\u001b[0m\u001b[1;33m(\u001b[0m\u001b[0mhost\u001b[0m\u001b[1;33m,\u001b[0m \u001b[0mport\u001b[0m\u001b[1;33m,\u001b[0m \u001b[0mfamily\u001b[0m\u001b[1;33m,\u001b[0m \u001b[0msocket\u001b[0m\u001b[1;33m.\u001b[0m\u001b[0mSOCK_STREAM\u001b[0m\u001b[1;33m)\u001b[0m\u001b[1;33m:\u001b[0m\u001b[1;33m\u001b[0m\u001b[1;33m\u001b[0m\u001b[0m\n\u001b[0m\u001b[0;32m     62\u001b[0m         \u001b[0maf\u001b[0m\u001b[1;33m,\u001b[0m \u001b[0msocktype\u001b[0m\u001b[1;33m,\u001b[0m \u001b[0mproto\u001b[0m\u001b[1;33m,\u001b[0m \u001b[0mcanonname\u001b[0m\u001b[1;33m,\u001b[0m \u001b[0msa\u001b[0m \u001b[1;33m=\u001b[0m \u001b[0mres\u001b[0m\u001b[1;33m\u001b[0m\u001b[1;33m\u001b[0m\u001b[0m\n",
      "\u001b[1;32md:\\programfiles\\python38-32\\lib\\socket.py\u001b[0m in \u001b[0;36mgetaddrinfo\u001b[1;34m(host, port, family, type, proto, flags)\u001b[0m\n\u001b[0;32m    917\u001b[0m     \u001b[0maddrlist\u001b[0m \u001b[1;33m=\u001b[0m \u001b[1;33m[\u001b[0m\u001b[1;33m]\u001b[0m\u001b[1;33m\u001b[0m\u001b[1;33m\u001b[0m\u001b[0m\n\u001b[1;32m--> 918\u001b[1;33m     \u001b[1;32mfor\u001b[0m \u001b[0mres\u001b[0m \u001b[1;32min\u001b[0m \u001b[0m_socket\u001b[0m\u001b[1;33m.\u001b[0m\u001b[0mgetaddrinfo\u001b[0m\u001b[1;33m(\u001b[0m\u001b[0mhost\u001b[0m\u001b[1;33m,\u001b[0m \u001b[0mport\u001b[0m\u001b[1;33m,\u001b[0m \u001b[0mfamily\u001b[0m\u001b[1;33m,\u001b[0m \u001b[0mtype\u001b[0m\u001b[1;33m,\u001b[0m \u001b[0mproto\u001b[0m\u001b[1;33m,\u001b[0m \u001b[0mflags\u001b[0m\u001b[1;33m)\u001b[0m\u001b[1;33m:\u001b[0m\u001b[1;33m\u001b[0m\u001b[1;33m\u001b[0m\u001b[0m\n\u001b[0m\u001b[0;32m    919\u001b[0m         \u001b[0maf\u001b[0m\u001b[1;33m,\u001b[0m \u001b[0msocktype\u001b[0m\u001b[1;33m,\u001b[0m \u001b[0mproto\u001b[0m\u001b[1;33m,\u001b[0m \u001b[0mcanonname\u001b[0m\u001b[1;33m,\u001b[0m \u001b[0msa\u001b[0m \u001b[1;33m=\u001b[0m \u001b[0mres\u001b[0m\u001b[1;33m\u001b[0m\u001b[1;33m\u001b[0m\u001b[0m\n",
      "\u001b[1;31mgaierror\u001b[0m: [Errno 11001] getaddrinfo failed",
      "\nDuring handling of the above exception, another exception occurred:\n",
      "\u001b[1;31mNewConnectionError\u001b[0m                        Traceback (most recent call last)",
      "\u001b[1;32md:\\programfiles\\python38-32\\lib\\site-packages\\urllib3\\connectionpool.py\u001b[0m in \u001b[0;36murlopen\u001b[1;34m(self, method, url, body, headers, retries, redirect, assert_same_host, timeout, pool_timeout, release_conn, chunked, body_pos, **response_kw)\u001b[0m\n\u001b[0;32m    669\u001b[0m             \u001b[1;31m# Make the request on the httplib connection object.\u001b[0m\u001b[1;33m\u001b[0m\u001b[1;33m\u001b[0m\u001b[1;33m\u001b[0m\u001b[0m\n\u001b[1;32m--> 670\u001b[1;33m             httplib_response = self._make_request(\n\u001b[0m\u001b[0;32m    671\u001b[0m                 \u001b[0mconn\u001b[0m\u001b[1;33m,\u001b[0m\u001b[1;33m\u001b[0m\u001b[1;33m\u001b[0m\u001b[0m\n",
      "\u001b[1;32md:\\programfiles\\python38-32\\lib\\site-packages\\urllib3\\connectionpool.py\u001b[0m in \u001b[0;36m_make_request\u001b[1;34m(self, conn, method, url, timeout, chunked, **httplib_request_kw)\u001b[0m\n\u001b[0;32m    380\u001b[0m         \u001b[1;32mtry\u001b[0m\u001b[1;33m:\u001b[0m\u001b[1;33m\u001b[0m\u001b[1;33m\u001b[0m\u001b[0m\n\u001b[1;32m--> 381\u001b[1;33m             \u001b[0mself\u001b[0m\u001b[1;33m.\u001b[0m\u001b[0m_validate_conn\u001b[0m\u001b[1;33m(\u001b[0m\u001b[0mconn\u001b[0m\u001b[1;33m)\u001b[0m\u001b[1;33m\u001b[0m\u001b[1;33m\u001b[0m\u001b[0m\n\u001b[0m\u001b[0;32m    382\u001b[0m         \u001b[1;32mexcept\u001b[0m \u001b[1;33m(\u001b[0m\u001b[0mSocketTimeout\u001b[0m\u001b[1;33m,\u001b[0m \u001b[0mBaseSSLError\u001b[0m\u001b[1;33m)\u001b[0m \u001b[1;32mas\u001b[0m \u001b[0me\u001b[0m\u001b[1;33m:\u001b[0m\u001b[1;33m\u001b[0m\u001b[1;33m\u001b[0m\u001b[0m\n",
      "\u001b[1;32md:\\programfiles\\python38-32\\lib\\site-packages\\urllib3\\connectionpool.py\u001b[0m in \u001b[0;36m_validate_conn\u001b[1;34m(self, conn)\u001b[0m\n\u001b[0;32m    977\u001b[0m         \u001b[1;32mif\u001b[0m \u001b[1;32mnot\u001b[0m \u001b[0mgetattr\u001b[0m\u001b[1;33m(\u001b[0m\u001b[0mconn\u001b[0m\u001b[1;33m,\u001b[0m \u001b[1;34m\"sock\"\u001b[0m\u001b[1;33m,\u001b[0m \u001b[1;32mNone\u001b[0m\u001b[1;33m)\u001b[0m\u001b[1;33m:\u001b[0m  \u001b[1;31m# AppEngine might not have  `.sock`\u001b[0m\u001b[1;33m\u001b[0m\u001b[1;33m\u001b[0m\u001b[0m\n\u001b[1;32m--> 978\u001b[1;33m             \u001b[0mconn\u001b[0m\u001b[1;33m.\u001b[0m\u001b[0mconnect\u001b[0m\u001b[1;33m(\u001b[0m\u001b[1;33m)\u001b[0m\u001b[1;33m\u001b[0m\u001b[1;33m\u001b[0m\u001b[0m\n\u001b[0m\u001b[0;32m    979\u001b[0m \u001b[1;33m\u001b[0m\u001b[0m\n",
      "\u001b[1;32md:\\programfiles\\python38-32\\lib\\site-packages\\urllib3\\connection.py\u001b[0m in \u001b[0;36mconnect\u001b[1;34m(self)\u001b[0m\n\u001b[0;32m    308\u001b[0m         \u001b[1;31m# Add certificate verification\u001b[0m\u001b[1;33m\u001b[0m\u001b[1;33m\u001b[0m\u001b[1;33m\u001b[0m\u001b[0m\n\u001b[1;32m--> 309\u001b[1;33m         \u001b[0mconn\u001b[0m \u001b[1;33m=\u001b[0m \u001b[0mself\u001b[0m\u001b[1;33m.\u001b[0m\u001b[0m_new_conn\u001b[0m\u001b[1;33m(\u001b[0m\u001b[1;33m)\u001b[0m\u001b[1;33m\u001b[0m\u001b[1;33m\u001b[0m\u001b[0m\n\u001b[0m\u001b[0;32m    310\u001b[0m         \u001b[0mhostname\u001b[0m \u001b[1;33m=\u001b[0m \u001b[0mself\u001b[0m\u001b[1;33m.\u001b[0m\u001b[0mhost\u001b[0m\u001b[1;33m\u001b[0m\u001b[1;33m\u001b[0m\u001b[0m\n",
      "\u001b[1;32md:\\programfiles\\python38-32\\lib\\site-packages\\urllib3\\connection.py\u001b[0m in \u001b[0;36m_new_conn\u001b[1;34m(self)\u001b[0m\n\u001b[0;32m    170\u001b[0m         \u001b[1;32mexcept\u001b[0m \u001b[0mSocketError\u001b[0m \u001b[1;32mas\u001b[0m \u001b[0me\u001b[0m\u001b[1;33m:\u001b[0m\u001b[1;33m\u001b[0m\u001b[1;33m\u001b[0m\u001b[0m\n\u001b[1;32m--> 171\u001b[1;33m             raise NewConnectionError(\n\u001b[0m\u001b[0;32m    172\u001b[0m                 \u001b[0mself\u001b[0m\u001b[1;33m,\u001b[0m \u001b[1;34m\"Failed to establish a new connection: %s\"\u001b[0m \u001b[1;33m%\u001b[0m \u001b[0me\u001b[0m\u001b[1;33m\u001b[0m\u001b[1;33m\u001b[0m\u001b[0m\n",
      "\u001b[1;31mNewConnectionError\u001b[0m: <urllib3.connection.HTTPSConnection object at 0x17755580>: Failed to establish a new connection: [Errno 11001] getaddrinfo failed",
      "\nDuring handling of the above exception, another exception occurred:\n",
      "\u001b[1;31mMaxRetryError\u001b[0m                             Traceback (most recent call last)",
      "\u001b[1;32md:\\programfiles\\python38-32\\lib\\site-packages\\requests\\adapters.py\u001b[0m in \u001b[0;36msend\u001b[1;34m(self, request, stream, timeout, verify, cert, proxies)\u001b[0m\n\u001b[0;32m    438\u001b[0m             \u001b[1;32mif\u001b[0m \u001b[1;32mnot\u001b[0m \u001b[0mchunked\u001b[0m\u001b[1;33m:\u001b[0m\u001b[1;33m\u001b[0m\u001b[1;33m\u001b[0m\u001b[0m\n\u001b[1;32m--> 439\u001b[1;33m                 resp = conn.urlopen(\n\u001b[0m\u001b[0;32m    440\u001b[0m                     \u001b[0mmethod\u001b[0m\u001b[1;33m=\u001b[0m\u001b[0mrequest\u001b[0m\u001b[1;33m.\u001b[0m\u001b[0mmethod\u001b[0m\u001b[1;33m,\u001b[0m\u001b[1;33m\u001b[0m\u001b[1;33m\u001b[0m\u001b[0m\n",
      "\u001b[1;32md:\\programfiles\\python38-32\\lib\\site-packages\\urllib3\\connectionpool.py\u001b[0m in \u001b[0;36murlopen\u001b[1;34m(self, method, url, body, headers, retries, redirect, assert_same_host, timeout, pool_timeout, release_conn, chunked, body_pos, **response_kw)\u001b[0m\n\u001b[0;32m    725\u001b[0m \u001b[1;33m\u001b[0m\u001b[0m\n\u001b[1;32m--> 726\u001b[1;33m             retries = retries.increment(\n\u001b[0m\u001b[0;32m    727\u001b[0m                 \u001b[0mmethod\u001b[0m\u001b[1;33m,\u001b[0m \u001b[0murl\u001b[0m\u001b[1;33m,\u001b[0m \u001b[0merror\u001b[0m\u001b[1;33m=\u001b[0m\u001b[0me\u001b[0m\u001b[1;33m,\u001b[0m \u001b[0m_pool\u001b[0m\u001b[1;33m=\u001b[0m\u001b[0mself\u001b[0m\u001b[1;33m,\u001b[0m \u001b[0m_stacktrace\u001b[0m\u001b[1;33m=\u001b[0m\u001b[0msys\u001b[0m\u001b[1;33m.\u001b[0m\u001b[0mexc_info\u001b[0m\u001b[1;33m(\u001b[0m\u001b[1;33m)\u001b[0m\u001b[1;33m[\u001b[0m\u001b[1;36m2\u001b[0m\u001b[1;33m]\u001b[0m\u001b[1;33m\u001b[0m\u001b[1;33m\u001b[0m\u001b[0m\n",
      "\u001b[1;32md:\\programfiles\\python38-32\\lib\\site-packages\\urllib3\\util\\retry.py\u001b[0m in \u001b[0;36mincrement\u001b[1;34m(self, method, url, response, error, _pool, _stacktrace)\u001b[0m\n\u001b[0;32m    438\u001b[0m         \u001b[1;32mif\u001b[0m \u001b[0mnew_retry\u001b[0m\u001b[1;33m.\u001b[0m\u001b[0mis_exhausted\u001b[0m\u001b[1;33m(\u001b[0m\u001b[1;33m)\u001b[0m\u001b[1;33m:\u001b[0m\u001b[1;33m\u001b[0m\u001b[1;33m\u001b[0m\u001b[0m\n\u001b[1;32m--> 439\u001b[1;33m             \u001b[1;32mraise\u001b[0m \u001b[0mMaxRetryError\u001b[0m\u001b[1;33m(\u001b[0m\u001b[0m_pool\u001b[0m\u001b[1;33m,\u001b[0m \u001b[0murl\u001b[0m\u001b[1;33m,\u001b[0m \u001b[0merror\u001b[0m \u001b[1;32mor\u001b[0m \u001b[0mResponseError\u001b[0m\u001b[1;33m(\u001b[0m\u001b[0mcause\u001b[0m\u001b[1;33m)\u001b[0m\u001b[1;33m)\u001b[0m\u001b[1;33m\u001b[0m\u001b[1;33m\u001b[0m\u001b[0m\n\u001b[0m\u001b[0;32m    440\u001b[0m \u001b[1;33m\u001b[0m\u001b[0m\n",
      "\u001b[1;31mMaxRetryError\u001b[0m: HTTPSConnectionPool(host='editorcatastral2dev.esri.co', port=443): Max retries exceeded with url: /portal/sharing/rest/info?f=json (Caused by NewConnectionError('<urllib3.connection.HTTPSConnection object at 0x17755580>: Failed to establish a new connection: [Errno 11001] getaddrinfo failed'))",
      "\nDuring handling of the above exception, another exception occurred:\n",
      "\u001b[1;31mConnectionError\u001b[0m                           Traceback (most recent call last)",
      "\u001b[1;32md:\\programfiles\\python38-32\\lib\\site-packages\\arcgis\\gis\\_impl\\_con\\_connection.py\u001b[0m in \u001b[0;36mget\u001b[1;34m(self, path, params, **kwargs)\u001b[0m\n\u001b[0;32m    391\u001b[0m                 \u001b[0mparams\u001b[0m\u001b[1;33m.\u001b[0m\u001b[0mpop\u001b[0m\u001b[1;33m(\u001b[0m\u001b[1;34m'token'\u001b[0m\u001b[1;33m,\u001b[0m \u001b[1;32mNone\u001b[0m\u001b[1;33m)\u001b[0m\u001b[1;33m\u001b[0m\u001b[1;33m\u001b[0m\u001b[0m\n\u001b[1;32m--> 392\u001b[1;33m             resp = self._session.get(url=url,\n\u001b[0m\u001b[0;32m    393\u001b[0m                                      \u001b[0mparams\u001b[0m\u001b[1;33m=\u001b[0m\u001b[0mparams\u001b[0m\u001b[1;33m,\u001b[0m\u001b[1;33m\u001b[0m\u001b[1;33m\u001b[0m\u001b[0m\n",
      "\u001b[1;32md:\\programfiles\\python38-32\\lib\\site-packages\\requests\\sessions.py\u001b[0m in \u001b[0;36mget\u001b[1;34m(self, url, **kwargs)\u001b[0m\n\u001b[0;32m    542\u001b[0m         \u001b[0mkwargs\u001b[0m\u001b[1;33m.\u001b[0m\u001b[0msetdefault\u001b[0m\u001b[1;33m(\u001b[0m\u001b[1;34m'allow_redirects'\u001b[0m\u001b[1;33m,\u001b[0m \u001b[1;32mTrue\u001b[0m\u001b[1;33m)\u001b[0m\u001b[1;33m\u001b[0m\u001b[1;33m\u001b[0m\u001b[0m\n\u001b[1;32m--> 543\u001b[1;33m         \u001b[1;32mreturn\u001b[0m \u001b[0mself\u001b[0m\u001b[1;33m.\u001b[0m\u001b[0mrequest\u001b[0m\u001b[1;33m(\u001b[0m\u001b[1;34m'GET'\u001b[0m\u001b[1;33m,\u001b[0m \u001b[0murl\u001b[0m\u001b[1;33m,\u001b[0m \u001b[1;33m**\u001b[0m\u001b[0mkwargs\u001b[0m\u001b[1;33m)\u001b[0m\u001b[1;33m\u001b[0m\u001b[1;33m\u001b[0m\u001b[0m\n\u001b[0m\u001b[0;32m    544\u001b[0m \u001b[1;33m\u001b[0m\u001b[0m\n",
      "\u001b[1;32md:\\programfiles\\python38-32\\lib\\site-packages\\requests\\sessions.py\u001b[0m in \u001b[0;36mrequest\u001b[1;34m(self, method, url, params, data, headers, cookies, files, auth, timeout, allow_redirects, proxies, hooks, stream, verify, cert, json)\u001b[0m\n\u001b[0;32m    529\u001b[0m         \u001b[0msend_kwargs\u001b[0m\u001b[1;33m.\u001b[0m\u001b[0mupdate\u001b[0m\u001b[1;33m(\u001b[0m\u001b[0msettings\u001b[0m\u001b[1;33m)\u001b[0m\u001b[1;33m\u001b[0m\u001b[1;33m\u001b[0m\u001b[0m\n\u001b[1;32m--> 530\u001b[1;33m         \u001b[0mresp\u001b[0m \u001b[1;33m=\u001b[0m \u001b[0mself\u001b[0m\u001b[1;33m.\u001b[0m\u001b[0msend\u001b[0m\u001b[1;33m(\u001b[0m\u001b[0mprep\u001b[0m\u001b[1;33m,\u001b[0m \u001b[1;33m**\u001b[0m\u001b[0msend_kwargs\u001b[0m\u001b[1;33m)\u001b[0m\u001b[1;33m\u001b[0m\u001b[1;33m\u001b[0m\u001b[0m\n\u001b[0m\u001b[0;32m    531\u001b[0m \u001b[1;33m\u001b[0m\u001b[0m\n",
      "\u001b[1;32md:\\programfiles\\python38-32\\lib\\site-packages\\requests\\sessions.py\u001b[0m in \u001b[0;36msend\u001b[1;34m(self, request, **kwargs)\u001b[0m\n\u001b[0;32m    642\u001b[0m         \u001b[1;31m# Send the request\u001b[0m\u001b[1;33m\u001b[0m\u001b[1;33m\u001b[0m\u001b[1;33m\u001b[0m\u001b[0m\n\u001b[1;32m--> 643\u001b[1;33m         \u001b[0mr\u001b[0m \u001b[1;33m=\u001b[0m \u001b[0madapter\u001b[0m\u001b[1;33m.\u001b[0m\u001b[0msend\u001b[0m\u001b[1;33m(\u001b[0m\u001b[0mrequest\u001b[0m\u001b[1;33m,\u001b[0m \u001b[1;33m**\u001b[0m\u001b[0mkwargs\u001b[0m\u001b[1;33m)\u001b[0m\u001b[1;33m\u001b[0m\u001b[1;33m\u001b[0m\u001b[0m\n\u001b[0m\u001b[0;32m    644\u001b[0m \u001b[1;33m\u001b[0m\u001b[0m\n",
      "\u001b[1;32md:\\programfiles\\python38-32\\lib\\site-packages\\requests\\adapters.py\u001b[0m in \u001b[0;36msend\u001b[1;34m(self, request, stream, timeout, verify, cert, proxies)\u001b[0m\n\u001b[0;32m    515\u001b[0m \u001b[1;33m\u001b[0m\u001b[0m\n\u001b[1;32m--> 516\u001b[1;33m             \u001b[1;32mraise\u001b[0m \u001b[0mConnectionError\u001b[0m\u001b[1;33m(\u001b[0m\u001b[0me\u001b[0m\u001b[1;33m,\u001b[0m \u001b[0mrequest\u001b[0m\u001b[1;33m=\u001b[0m\u001b[0mrequest\u001b[0m\u001b[1;33m)\u001b[0m\u001b[1;33m\u001b[0m\u001b[1;33m\u001b[0m\u001b[0m\n\u001b[0m\u001b[0;32m    517\u001b[0m \u001b[1;33m\u001b[0m\u001b[0m\n",
      "\u001b[1;31mConnectionError\u001b[0m: HTTPSConnectionPool(host='editorcatastral2dev.esri.co', port=443): Max retries exceeded with url: /portal/sharing/rest/info?f=json (Caused by NewConnectionError('<urllib3.connection.HTTPSConnection object at 0x17755580>: Failed to establish a new connection: [Errno 11001] getaddrinfo failed'))",
      "\nDuring handling of the above exception, another exception occurred:\n",
      "\u001b[1;31mConnectionError\u001b[0m                           Traceback (most recent call last)",
      "\u001b[1;32m<ipython-input-2-038799632614>\u001b[0m in \u001b[0;36m<module>\u001b[1;34m\u001b[0m\n\u001b[0;32m      1\u001b[0m \u001b[1;31m#gis = GIS('http://portalgestor.esri.co/portal', 'sgcoficial', 'Sgcoficial$2020')\u001b[0m\u001b[1;33m\u001b[0m\u001b[1;33m\u001b[0m\u001b[1;33m\u001b[0m\u001b[0m\n\u001b[0;32m      2\u001b[0m \u001b[1;31m# gis = GIS('http://editorcatastral2dev.esri.co/portal', 'ejecutor2', 'Esrico2021$') # El servicio de WFM debe estar compartido para que los ejecutores lo puedan ver\u001b[0m\u001b[1;33m\u001b[0m\u001b[1;33m\u001b[0m\u001b[1;33m\u001b[0m\u001b[0m\n\u001b[1;32m----> 3\u001b[1;33m \u001b[0mgis\u001b[0m \u001b[1;33m=\u001b[0m \u001b[0mGIS\u001b[0m\u001b[1;33m(\u001b[0m\u001b[0mprofile\u001b[0m\u001b[1;33m=\u001b[0m\u001b[1;34m\"sgc20\"\u001b[0m\u001b[1;33m)\u001b[0m\u001b[1;33m\u001b[0m\u001b[1;33m\u001b[0m\u001b[0m\n\u001b[0m",
      "\u001b[1;32md:\\programfiles\\python38-32\\lib\\site-packages\\arcgis\\gis\\__init__.py\u001b[0m in \u001b[0;36m__init__\u001b[1;34m(self, url, username, password, key_file, cert_file, verify_cert, set_active, client_id, profile, **kwargs)\u001b[0m\n\u001b[0;32m    337\u001b[0m                                    \"argument when connecting to the GIS.\")\n\u001b[0;32m    338\u001b[0m             \u001b[1;32melse\u001b[0m\u001b[1;33m:\u001b[0m\u001b[1;33m\u001b[0m\u001b[1;33m\u001b[0m\u001b[0m\n\u001b[1;32m--> 339\u001b[1;33m                 \u001b[1;32mraise\u001b[0m \u001b[0me\u001b[0m\u001b[1;33m\u001b[0m\u001b[1;33m\u001b[0m\u001b[0m\n\u001b[0m\u001b[0;32m    340\u001b[0m         \u001b[1;32mtry\u001b[0m\u001b[1;33m:\u001b[0m\u001b[1;33m\u001b[0m\u001b[1;33m\u001b[0m\u001b[0m\n\u001b[0;32m    341\u001b[0m             \u001b[1;32mif\u001b[0m \u001b[0murl\u001b[0m\u001b[1;33m.\u001b[0m\u001b[0mlower\u001b[0m\u001b[1;33m(\u001b[0m\u001b[1;33m)\u001b[0m\u001b[1;33m.\u001b[0m\u001b[0mfind\u001b[0m\u001b[1;33m(\u001b[0m\u001b[1;34m\"arcgis.com\"\u001b[0m\u001b[1;33m)\u001b[0m \u001b[1;33m>\u001b[0m \u001b[1;33m-\u001b[0m\u001b[1;36m1\u001b[0m \u001b[1;32mand\u001b[0m\u001b[0;31m \u001b[0m\u001b[0;31m\\\u001b[0m\u001b[1;33m\u001b[0m\u001b[1;33m\u001b[0m\u001b[0m\n",
      "\u001b[1;32md:\\programfiles\\python38-32\\lib\\site-packages\\arcgis\\gis\\__init__.py\u001b[0m in \u001b[0;36m__init__\u001b[1;34m(self, url, username, password, key_file, cert_file, verify_cert, set_active, client_id, profile, **kwargs)\u001b[0m\n\u001b[0;32m    312\u001b[0m             \u001b[0mself\u001b[0m\u001b[1;33m.\u001b[0m\u001b[0m_expiration\u001b[0m \u001b[1;33m=\u001b[0m \u001b[1;36m60\u001b[0m\u001b[1;33m\u001b[0m\u001b[1;33m\u001b[0m\u001b[0m\n\u001b[0;32m    313\u001b[0m         \u001b[1;32mtry\u001b[0m\u001b[1;33m:\u001b[0m\u001b[1;33m\u001b[0m\u001b[1;33m\u001b[0m\u001b[0m\n\u001b[1;32m--> 314\u001b[1;33m             self._portal = _portalpy.Portal(self._url, self._username,\n\u001b[0m\u001b[0;32m    315\u001b[0m                                            \u001b[0mself\u001b[0m\u001b[1;33m.\u001b[0m\u001b[0m_password\u001b[0m\u001b[1;33m,\u001b[0m \u001b[0mself\u001b[0m\u001b[1;33m.\u001b[0m\u001b[0m_key_file\u001b[0m\u001b[1;33m,\u001b[0m\u001b[1;33m\u001b[0m\u001b[1;33m\u001b[0m\u001b[0m\n\u001b[0;32m    316\u001b[0m                                            \u001b[0mself\u001b[0m\u001b[1;33m.\u001b[0m\u001b[0m_cert_file\u001b[0m\u001b[1;33m,\u001b[0m\u001b[1;33m\u001b[0m\u001b[1;33m\u001b[0m\u001b[0m\n",
      "\u001b[1;32md:\\programfiles\\python38-32\\lib\\site-packages\\arcgis\\gis\\_impl\\_portalpy.py\u001b[0m in \u001b[0;36m__init__\u001b[1;34m(self, url, username, password, key_file, cert_file, expiration, referer, proxy_host, proxy_port, connection, workdir, tokenurl, verify_cert, client_id, custom_auth, token)\u001b[0m\n\u001b[0;32m    151\u001b[0m                                       token=token)\n\u001b[0;32m    152\u001b[0m             \u001b[1;32melse\u001b[0m\u001b[1;33m:\u001b[0m\u001b[1;33m\u001b[0m\u001b[1;33m\u001b[0m\u001b[0m\n\u001b[1;32m--> 153\u001b[1;33m                 self.con = Connection(baseurl=self.resturl,\n\u001b[0m\u001b[0;32m    154\u001b[0m                                       \u001b[0mtokenurl\u001b[0m\u001b[1;33m=\u001b[0m\u001b[0mtokenurl\u001b[0m\u001b[1;33m,\u001b[0m\u001b[1;33m\u001b[0m\u001b[1;33m\u001b[0m\u001b[0m\n\u001b[0;32m    155\u001b[0m                                       \u001b[0musername\u001b[0m\u001b[1;33m=\u001b[0m\u001b[0musername\u001b[0m\u001b[1;33m,\u001b[0m\u001b[1;33m\u001b[0m\u001b[1;33m\u001b[0m\u001b[0m\n",
      "\u001b[1;32md:\\programfiles\\python38-32\\lib\\site-packages\\arcgis\\gis\\_impl\\_con\\_connection.py\u001b[0m in \u001b[0;36m__init__\u001b[1;34m(self, baseurl, username, password, **kwargs)\u001b[0m\n\u001b[0;32m    187\u001b[0m \u001b[1;33m\u001b[0m\u001b[0m\n\u001b[0;32m    188\u001b[0m         \u001b[1;32melse\u001b[0m\u001b[1;33m:\u001b[0m\u001b[1;33m\u001b[0m\u001b[1;33m\u001b[0m\u001b[0m\n\u001b[1;32m--> 189\u001b[1;33m             \u001b[0mself\u001b[0m\u001b[1;33m.\u001b[0m\u001b[0m_product\u001b[0m \u001b[1;33m=\u001b[0m \u001b[0mself\u001b[0m\u001b[1;33m.\u001b[0m\u001b[0m_check_product\u001b[0m\u001b[1;33m(\u001b[0m\u001b[1;33m)\u001b[0m\u001b[1;33m\u001b[0m\u001b[1;33m\u001b[0m\u001b[0m\n\u001b[0m\u001b[0;32m    190\u001b[0m         \u001b[0mself\u001b[0m\u001b[1;33m.\u001b[0m\u001b[0m_baseurl\u001b[0m \u001b[1;33m=\u001b[0m \u001b[0mself\u001b[0m\u001b[1;33m.\u001b[0m\u001b[0m_validate_url\u001b[0m\u001b[1;33m(\u001b[0m\u001b[0mself\u001b[0m\u001b[1;33m.\u001b[0m\u001b[0m_baseurl\u001b[0m\u001b[1;33m)\u001b[0m\u001b[1;33m\u001b[0m\u001b[1;33m\u001b[0m\u001b[0m\n\u001b[0;32m    191\u001b[0m         \u001b[0mself\u001b[0m\u001b[1;33m.\u001b[0m\u001b[0mbaseurl\u001b[0m \u001b[1;33m=\u001b[0m \u001b[0mself\u001b[0m\u001b[1;33m.\u001b[0m\u001b[0m_baseurl\u001b[0m\u001b[1;33m\u001b[0m\u001b[1;33m\u001b[0m\u001b[0m\n",
      "\u001b[1;32md:\\programfiles\\python38-32\\lib\\site-packages\\arcgis\\gis\\_impl\\_con\\_connection.py\u001b[0m in \u001b[0;36m_check_product\u001b[1;34m(self)\u001b[0m\n\u001b[0;32m   1411\u001b[0m                 \u001b[0mres\u001b[0m \u001b[1;33m=\u001b[0m \u001b[0mself\u001b[0m\u001b[1;33m.\u001b[0m\u001b[0mget\u001b[0m\u001b[1;33m(\u001b[0m\u001b[0mbaseurl\u001b[0m \u001b[1;33m+\u001b[0m \u001b[1;34m'info'\u001b[0m\u001b[1;33m,\u001b[0m \u001b[0mparams\u001b[0m\u001b[1;33m=\u001b[0m\u001b[1;33m{\u001b[0m\u001b[1;34m'f'\u001b[0m \u001b[1;33m:\u001b[0m \u001b[1;34m'json'\u001b[0m\u001b[1;33m}\u001b[0m\u001b[1;33m,\u001b[0m \u001b[0madd_token\u001b[0m\u001b[1;33m=\u001b[0m\u001b[1;32mFalse\u001b[0m\u001b[1;33m)\u001b[0m\u001b[1;33m\u001b[0m\u001b[1;33m\u001b[0m\u001b[0m\n\u001b[0;32m   1412\u001b[0m             \u001b[1;32melse\u001b[0m\u001b[1;33m:\u001b[0m\u001b[1;33m\u001b[0m\u001b[1;33m\u001b[0m\u001b[0m\n\u001b[1;32m-> 1413\u001b[1;33m                 \u001b[0mres\u001b[0m \u001b[1;33m=\u001b[0m \u001b[0mself\u001b[0m\u001b[1;33m.\u001b[0m\u001b[0mget\u001b[0m\u001b[1;33m(\u001b[0m\u001b[0mbaseurl\u001b[0m \u001b[1;33m+\u001b[0m \u001b[1;34m'/info'\u001b[0m\u001b[1;33m,\u001b[0m \u001b[0mparams\u001b[0m\u001b[1;33m=\u001b[0m\u001b[1;33m{\u001b[0m\u001b[1;34m'f'\u001b[0m \u001b[1;33m:\u001b[0m \u001b[1;34m'json'\u001b[0m\u001b[1;33m}\u001b[0m\u001b[1;33m,\u001b[0m \u001b[0madd_token\u001b[0m\u001b[1;33m=\u001b[0m\u001b[1;32mFalse\u001b[0m\u001b[1;33m)\u001b[0m\u001b[1;33m\u001b[0m\u001b[1;33m\u001b[0m\u001b[0m\n\u001b[0m\u001b[0;32m   1414\u001b[0m             \u001b[1;32mif\u001b[0m \u001b[0mself\u001b[0m\u001b[1;33m.\u001b[0m\u001b[0m_token_url\u001b[0m \u001b[1;32mis\u001b[0m \u001b[1;32mNone\u001b[0m \u001b[1;32mand\u001b[0m\u001b[0;31m \u001b[0m\u001b[0;31m\\\u001b[0m\u001b[1;33m\u001b[0m\u001b[1;33m\u001b[0m\u001b[0m\n\u001b[0;32m   1415\u001b[0m                \u001b[0mres\u001b[0m \u001b[1;32mis\u001b[0m \u001b[1;32mnot\u001b[0m \u001b[1;32mNone\u001b[0m \u001b[1;32mand\u001b[0m\u001b[0;31m \u001b[0m\u001b[0;31m\\\u001b[0m\u001b[1;33m\u001b[0m\u001b[1;33m\u001b[0m\u001b[0m\n",
      "\u001b[1;32md:\\programfiles\\python38-32\\lib\\site-packages\\arcgis\\gis\\_impl\\_con\\_connection.py\u001b[0m in \u001b[0;36mget\u001b[1;34m(self, path, params, **kwargs)\u001b[0m\n\u001b[0;32m    402\u001b[0m                 \"Invalid URL provided: %s\" % errIU)\n\u001b[0;32m    403\u001b[0m         \u001b[1;32mexcept\u001b[0m \u001b[0mrequests\u001b[0m\u001b[1;33m.\u001b[0m\u001b[0mexceptions\u001b[0m\u001b[1;33m.\u001b[0m\u001b[0mConnectionError\u001b[0m \u001b[1;32mas\u001b[0m \u001b[0merrCE\u001b[0m\u001b[1;33m:\u001b[0m\u001b[1;33m\u001b[0m\u001b[1;33m\u001b[0m\u001b[0m\n\u001b[1;32m--> 404\u001b[1;33m             raise requests.exceptions.ConnectionError(\n\u001b[0m\u001b[0;32m    405\u001b[0m                 \"A connection error has occurred: %s\" % errCE)\n\u001b[0;32m    406\u001b[0m         \u001b[1;32mexcept\u001b[0m \u001b[0mrequests\u001b[0m\u001b[1;33m.\u001b[0m\u001b[0mexceptions\u001b[0m\u001b[1;33m.\u001b[0m\u001b[0mInvalidHeader\u001b[0m \u001b[1;32mas\u001b[0m \u001b[0merrIH\u001b[0m\u001b[1;33m:\u001b[0m\u001b[1;33m\u001b[0m\u001b[1;33m\u001b[0m\u001b[0m\n",
      "\u001b[1;31mConnectionError\u001b[0m: A connection error has occurred: HTTPSConnectionPool(host='editorcatastral2dev.esri.co', port=443): Max retries exceeded with url: /portal/sharing/rest/info?f=json (Caused by NewConnectionError('<urllib3.connection.HTTPSConnection object at 0x17755580>: Failed to establish a new connection: [Errno 11001] getaddrinfo failed'))"
     ]
    }
   ],
   "source": [
    "#gis = GIS('http://portalgestor.esri.co/portal', 'sgcoficial', 'Sgcoficial$2020')\n",
    "# gis = GIS('http://editorcatastral2dev.esri.co/portal', 'ejecutor2', 'Esrico2021$') # El servicio de WFM debe estar compartido para que los ejecutores lo puedan ver\n",
    "gis = GIS(profile=\"sgc20\")"
   ]
  },
  {
   "cell_type": "code",
   "execution_count": 9,
   "metadata": {
    "hidden": true
   },
   "outputs": [],
   "source": [
    "class Utils(object):\n",
    "    trace_messages = \"\"\n",
    "\n",
    "    def __init__(self, gis_obj):\n",
    "        self.gis = gis_obj\n",
    "\n",
    "    def addMessage(self, message, tipo=\"MESSAGE\"):\n",
    "        '''Agrega el mensaje enviado a la traza.\n",
    "        Parametros:\n",
    "        - message: Cadena de texto con informacion relevante al funcionamiento del servicio\n",
    "        - {tipo}: tipo de mensaje MESSAGE/WARNING/ERROR (por defecto MESSAGE)\n",
    "        '''\n",
    "        if tipo == \"MESSAGE\":\n",
    "            print(\"{}\".format(message))\n",
    "        elif tipo == \"WARNING\":\n",
    "            print(\"{}\".format(message))\n",
    "        elif tipo == \"ERROR\":\n",
    "            print(\"{}\".format(message))\n",
    "        self.trace_messages += \"{}\\r\\n\".format(message)\n",
    "\n",
    "    def ObtenerParametros(self, where_codigo=\"1=1\"):\n",
    "        \"\"\"Obtener parametros configurados en la tabla de configuracion del sistema\n",
    "        Parametros:\n",
    "        - {where_codigo}: codigos para hacer la consulta solamente por esos codigos (Ej: where_codigo='CODIGO1','CODIGO2','CODIGO3')\n",
    "        \"\"\"    \n",
    "        try:        \n",
    "            #ACA SE USA EL NOMBRE DE LA CREDENCIAL ALMACENADA EN EL OS\n",
    "            self.addMessage(\"Obteniendo parámetros....\")\n",
    "            search_result = self.gis.content.search('configuracion','Feature Layer')\n",
    "            config_item = search_result[0]            \n",
    "            tabla_conf = config_item.tables[0]\n",
    "            query_result = tabla_conf.query(where=where_codigo, out_fields='*')\n",
    "            listado = {}\n",
    "            for feature in query_result.features:    \n",
    "                opcion = feature.attributes[\"opcion\"]\n",
    "                valor = feature.attributes[\"valor\"]    \n",
    "                listado[str(opcion)]=valor\n",
    "            return listado\n",
    "        except Exception as ex:            \n",
    "            self.addMessage(message=\"Error obteniendo los parametros : {}\".format(str(ex)), tipo=\"ERROR\")\n",
    "            return None\n",
    "    \n",
    "    def getTableOrLayerWorkSpace(self,nombre_objeto,version_comparar=None):\n",
    "        try:\n",
    "            mensaje = \"\"\n",
    "            objeto = None\n",
    "            version = None\n",
    "            aprx = arcpy.mp.ArcGISProject(\"CURRENT\")\n",
    "            if aprx is None:\n",
    "                mensaje = \"Error: El proyecto de ArcGIS Pro es nulo\"\n",
    "            else:\n",
    "                mapa_activo = aprx.activeMap                    \n",
    "                if mapa_activo is not None:\n",
    "                    if mapa_activo.name.find(\"JOB_\")!=-1:\n",
    "                        lista_tablas = mapa_activo.listTables()\n",
    "                        if len(lista_tablas)>0:\n",
    "                            for tabla in lista_tablas:\n",
    "                                if tabla.name.upper() == nombre_objeto.upper():\n",
    "                                    version = tabla.connectionProperties[\"connection_info\"][\"version\"]\n",
    "                                    if version_comparar is not None:\n",
    "                                        if version==version_comparar:\n",
    "                                            objeto = tabla\n",
    "                                            break\n",
    "                                        else:\n",
    "                                            mensaje = \"La version {} no corresponde con el tramite {}.\".format(version,version_comparar)\n",
    "                                    else:\n",
    "                                        objeto = tabla\n",
    "                                        break\n",
    "\n",
    "                        if objeto is None:\n",
    "                            lista_layers = mapa_activo.listLayers()\n",
    "                            if len(lista_layers)>0:\n",
    "                                for layer in lista_layers:\n",
    "                                    if layer.name.upper() == nombre_objeto.upper():\n",
    "                                        version = tabla.connectionProperties[\"connection_info\"][\"version\"]\n",
    "                                        if version_comparar is not None:\n",
    "                                            if version==version_comparar:\n",
    "                                                objeto = layer\n",
    "                                                break\n",
    "                                            else:\n",
    "                                                mensaje = \"La version {} no corresponde con el tramite {}.\".format(version,version_comparar)\n",
    "                                        else:                                            \n",
    "                                            objeto = layer\n",
    "                                            break\n",
    "                    else:\n",
    "                        mensaje = \"Error: El mapa activo no es de un job de WorkFlow\"\n",
    "                else:\n",
    "                    mensaje = \"Error: No hay un mapa activo en el proyecto\"\n",
    "            if objeto is None:\n",
    "                self.addMessage(message=mensaje, tipo=\"ERROR\")\n",
    "            return objeto,version,mensaje\n",
    "        except Exception as ex:            \n",
    "            self.addMessage(message=\"Error obteniendo objeto {} del workspace: {}\".format(nombre_objeto,str(ex)), tipo=\"ERROR\")\n",
    "            return objeto,version,mensaje\n",
    "\n",
    "    def getTramiteMapa(self,tabla_cat_mutaciones):\n",
    "        try:\n",
    "            numerotramite = None\n",
    "            codigopredial = None\n",
    "            tipotramite = None\n",
    "            tipomutacion = None\n",
    "            subtipomutacion = None\n",
    "            codigos_asociados = None\n",
    "            version = None\n",
    "            tabla_encontrada = False       \n",
    "            cat_mutaciones_object,version,mensaje = self.getTableOrLayerWorkSpace(tabla_cat_mutaciones,None)            \n",
    "            if cat_mutaciones_object is None:\n",
    "                self.addMessage(message=mensaje, tipo=\"ERROR\")\n",
    "            else:                \n",
    "                tramiteEncontrado = False\n",
    "                with arcpy.da.SearchCursor(in_table=cat_mutaciones_object, field_names=[\"numero_tramite\",\"codigo_inicial\",\"tipotram\",\"tipomut\",\"subtipomut\",\"codigos_asoc1\"],sql_clause=(None, 'ORDER BY OBJECTID DESC')) as cursor:\n",
    "                    for row in cursor:\n",
    "                        tramite = row[0]\n",
    "                        if version.find(tramite)!=-1:\n",
    "                            tramiteEncontrado = True\n",
    "                            codigopredial = row[1]\n",
    "                            tipotramite = row[2]\n",
    "                            tipomutacion = row[3]\n",
    "                            subtipomutacion = row[4]  \n",
    "                            codigos_asociados = row[5]                                      \n",
    "                            numerotramite = tramite \n",
    "                            self.addMessage(\"Tramite encontrado:{}, codigo predial:{}\".format(tramite,codigopredial))\n",
    "                            break\n",
    "                if tramiteEncontrado == False:                                \n",
    "                    self.addMessage(message=\"Tramite no encontrado en este mapa\", tipo=\"ERROR\")\n",
    "            return numerotramite,codigopredial,tipotramite,tipomutacion,subtipomutacion,version, codigos_asociados\n",
    "        except Exception as ex:            \n",
    "            self.addMessage(message=\"Error getTramiteMapa. {}\".format(str(ex)), tipo=\"ERROR\")\n",
    "            return None,None,None,None,None,None\n"
   ]
  },
  {
   "cell_type": "code",
   "execution_count": 10,
   "metadata": {
    "hidden": true
   },
   "outputs": [
    {
     "name": "stdout",
     "output_type": "stream",
     "text": [
      "Obteniendo parámetros....\n"
     ]
    }
   ],
   "source": [
    "utilsSGC = Utils(gis)\n",
    "gWFM_SERVICE = \"WFM_SERVICE\"\n",
    "REGISTRO_MUTACIONES = \"REGISTRO_MUTACIONES\"\n",
    "dictParams = utilsSGC.ObtenerParametros()\n",
    "wfm_service = dictParams[gWFM_SERVICE]\n",
    "def getUserGroups(users_groups):\n",
    "    wfm_service = dictParams[gWFM_SERVICE]\n",
    "    search_result = gis.content.get(wfm_service)\n",
    "    if search_result:\n",
    "        url_wfm_com_operation = search_result.url+\"/community/{0}\".format(users_groups)\n",
    "        thetoken = gis._con.token\n",
    "        parametros = { \"f\": \"json\", \"token\": thetoken }\n",
    "        r = requests.post(url=url_wfm_com_operation, data=parametros)\n",
    "        resultjson = json.loads(r.text)\n",
    "        return resultjson         \n",
    "    else:\n",
    "        print(\"No se encuentra el servicio {}\".format(wfm_service))\n",
    "    return None"
   ]
  },
  {
   "cell_type": "code",
   "execution_count": 11,
   "metadata": {
    "hidden": true
   },
   "outputs": [
    {
     "data": {
      "text/plain": [
       "['ejecutor1', 'ejecutor2', 'wmoreno']"
      ]
     },
     "execution_count": 11,
     "metadata": {},
     "output_type": "execute_result"
    }
   ],
   "source": [
    "search_result_wfm_service = gis.content.get(wfm_service)\n",
    "groups_wfm = getUserGroups(\"groups\")\n",
    "ejecutores = []\n",
    "for group in groups_wfm[\"groups\"]:\n",
    "    if group[\"name\"] == \"Ejecutores\":\n",
    "        for user in group[\"users\"]:\n",
    "            ejecutores.append(user)\n",
    "        break\n",
    "ejecutores"
   ]
  },
  {
   "cell_type": "markdown",
   "metadata": {
    "heading_collapsed": true
   },
   "source": [
    "# Search Webmap template - Variables"
   ]
  },
  {
   "cell_type": "code",
   "execution_count": 12,
   "metadata": {
    "hidden": true
   },
   "outputs": [],
   "source": [
    "wmTemplate = \"6c75cbb0eeff41e7a9469975e3c6c8e2\"\n",
    "#search_result = gis.content.search(\"{}\".format(\"TEMPLATE EJECUTORES CAMPO\"), \"Web Map\")\n",
    "#MAPA ORIGINAL renombrado como \"LADM_COL_OC_1_0_22_bk\"\n",
    "#search_result = gis.content.search(\"{}\".format(\"14fd0e42d87a4f8c95ce5b0382756753\"), \"Web Map\")\n",
    "search_result = gis.content.search(\"{}\".format(wmTemplate), \"Web Map\")\n",
    "webmap_template = search_result[0]\n",
    "#webmap_template"
   ]
  },
  {
   "cell_type": "code",
   "execution_count": 13,
   "metadata": {
    "hidden": true
   },
   "outputs": [
    {
     "data": {
      "text/plain": [
       "[]"
      ]
     },
     "execution_count": 13,
     "metadata": {},
     "output_type": "execute_result"
    }
   ],
   "source": [
    "numerotramite = \"08001-2021-00077\"\n",
    "SGC_CAMPO_EJECUTOR = \"TRABAJO_CAMPO\"\n",
    "nomservicio = \"{0}\".format(numerotramite).replace(\".\", \"_\")\n",
    "current_user = gis.users.me.username\n",
    "usuarioAsignado = \"ejecutor1\"\n",
    "item_copy = None\n",
    "title_wm = nomservicio\n",
    "search_result_copy = gis.content.search(query=\"title:{}\".format(title_wm), category_filters=\"Web Map\")\n",
    "search_result_copy"
   ]
  },
  {
   "cell_type": "markdown",
   "metadata": {
    "heading_collapsed": true
   },
   "source": [
    "# GenerarWmPublicar (item.copy)"
   ]
  },
  {
   "cell_type": "code",
   "execution_count": null,
   "metadata": {
    "hidden": true
   },
   "outputs": [],
   "source": [
    "def GenerarWmPublicar(self, nomservicio, wmTemplate):\n",
    "    utilsSGC.addMessage(\"Inicio GenerarWmPublicar: \" + nomservicio)\n",
    "    item_result = None\n",
    "    search_result = gis.content.search(\"{}\".format(wmTemplate), \"Web Map\")\n",
    "    webmap_template = search_result[0]\n",
    "    item_copy = webmap_template.copy(title=nomservicio)\n",
    "    item_move = item_copy.move(folder=SGC_CAMPO_EJECUTOR)\n",
    "    item_result = gis.content.get(item_move[\"itemId\"])\n",
    "    #Asignar extent al mapa copiado:\n",
    "    extent_wm = webmap_template.extent\n",
    "    update_parameters = {'extent': extent_wm}\n",
    "    item_result.update(item_properties=update_parameters)\n",
    "    utilsSGC.addMessage(\"WebMap creado\")\n",
    "\n",
    "    return item_result"
   ]
  },
  {
   "cell_type": "markdown",
   "metadata": {
    "heading_collapsed": true
   },
   "source": [
    "# GenerarWebMap (save)"
   ]
  },
  {
   "cell_type": "code",
   "execution_count": 14,
   "metadata": {
    "hidden": true
   },
   "outputs": [],
   "source": [
    "def GenerarWebMap(wmName, wmTemplate):\n",
    "    search_result = gis.content.search(\"{}\".format(wmTemplate), \"Web Map\")\n",
    "    webmap_template = search_result[0]        \n",
    "    item_result = None\n",
    "    search_result_copy = gis.content.search(query=\"title:{}\".format(wmName), category_filters=\"Web Map\")\n",
    "    if len(search_result_copy) == 0 or (len(search_result_copy)==1 and search_result_copy[0].title != wmName):\n",
    "        pass\n",
    "    elif len(search_result_copy) > 1:\n",
    "        for item in search_result_copy:\n",
    "            if item.title == wmName:\n",
    "                item_result = item\n",
    "                break\n",
    "    if item_result:\n",
    "        utilsSGC.addMessage(\"Ya existe el webmap \"+wmName)\n",
    "    else:\n",
    "        utilsSGC.addMessage(\"El WebMap no existe, creandolo\")\n",
    "        wm = WebMap(webmap_template)\n",
    "        tk = \"Offline,Collector\"\n",
    "        web_map_properties = {'typeKeywords': tk, 'title': wmName, 'snippet': wmName, 'tags': wmName}\n",
    "        item_result = wm.save(item_properties=web_map_properties, folder=SGC_CAMPO_EJECUTOR)\n",
    "        utilsSGC.addMessage(\"WebMap creado\")\n",
    "\n",
    "    return item_result"
   ]
  },
  {
   "cell_type": "markdown",
   "metadata": {
    "heading_collapsed": true
   },
   "source": [
    "# PublicarWebMap (save/item.copy)"
   ]
  },
  {
   "cell_type": "code",
   "execution_count": null,
   "metadata": {
    "hidden": true
   },
   "outputs": [],
   "source": [
    "def PublicarWebMap(wmTemplate, nombreServicio, usuarioAsignado):\n",
    "    \"\"\"Generar el nuevo webmap correspondiente al tramite\n",
    "    Parametros:\n",
    "    - wmTemplate: Nombre del WebMap usado como plantilla\n",
    "    - nombreServicio: Nombre que tendra el WebMap\n",
    "    - usuarioAsignado: Nombre del usuario ejecutor asignado\n",
    "    \"\"\"\n",
    "    utilsSGC.addMessage(\"Inicio PublicarWebMap:\")\n",
    "    result = False\n",
    "    try:                   \n",
    "        # wmItem = GenerarWmPublicar(nombreServicio, wmTemplate)\n",
    "        search_result = gis.content.search(\"{}\".format(wmTemplate), \"Web Map\")\n",
    "        webmap_template = search_result[0]\n",
    "        wm = WebMap(webmap_template)\n",
    "        tk = \"Offline,Collector\"\n",
    "        web_map_properties = {'typeKeywords': tk, 'title': nombreServicio, 'snippet': nombreServicio, 'tags': nombreServicio}\n",
    "        wmItem = wm.save(item_properties=web_map_properties, folder=SGC_CAMPO_EJECUTOR)\n",
    "        utilsSGC.addMessage(\"WebMap creado\")\n",
    "        if wmItem is None:\n",
    "            raise Exception(\"Error creando copia de webmap {}\".format(wmTemplate))            \n",
    "        #Modificar propiedades del wm copiado:\n",
    "        pubMapJson = wmItem.get_data(try_json=True)\n",
    "        lyrFilter = \"usuario_portal = '{0}'\".format(usuarioAsignado)\n",
    "        fldMapJsonCopy = copy.deepcopy(pubMapJson)\n",
    "        title_layer = \"LADM_COL_OC_1_0_22 - LC_UnidadEspacial\"\n",
    "        lyrT = [l for l in pubMapJson['operationalLayers'] if l['title']== title_layer]\n",
    "        if len(lyrT) > 0:\n",
    "            tZoneLyr = lyrT[0]\n",
    "            if 'layerDefinition' in tZoneLyr:\n",
    "                z = [[x, y] for x, y in enumerate(pubMapJson['operationalLayers']) if y['title'] == title_layer][0]\n",
    "                fldMapJsonCopy['operationalLayers'][z[0]]['layerDefinition']['definitionExpression'] = lyrFilter\n",
    "        wmItem.update(item_properties={'text':json.dumps(fldMapJsonCopy)})\n",
    "        result = True            \n",
    "    except Exception as e:\n",
    "        utilsSGC.addMessage(\"Error publicando webmap \"+ str(e), \"ERROR\")\n",
    "    return result"
   ]
  },
  {
   "cell_type": "markdown",
   "metadata": {
    "heading_collapsed": true
   },
   "source": [
    "# Publicar WebMap"
   ]
  },
  {
   "cell_type": "code",
   "execution_count": 15,
   "metadata": {
    "hidden": true
   },
   "outputs": [
    {
     "name": "stdout",
     "output_type": "stream",
     "text": [
      "El WebMap no existe, creandolo\n",
      "WebMap creado\n"
     ]
    },
    {
     "data": {
      "text/html": [
       "<div class=\"item_container\" style=\"height: auto; overflow: hidden; border: 1px solid #cfcfcf; border-radius: 2px; background: #f6fafa; line-height: 1.21429em; padding: 10px;\">\n",
       "                    <div class=\"item_left\" style=\"width: 210px; float: left;\">\n",
       "                       <a href='https://editorcatastral2dev.esri.co/portal/home/item.html?id=d8eedcc16eab40b7a00ea2353b98e5c8' target='_blank'>\n",
       "                        <img src='https://editorcatastral2dev.esri.co/portal/portalimages/desktopapp.png' class=\"itemThumbnail\">\n",
       "                       </a>\n",
       "                    </div>\n",
       "\n",
       "                    <div class=\"item_right\"     style=\"float: none; width: auto; overflow: hidden;\">\n",
       "                        <a href='https://editorcatastral2dev.esri.co/portal/home/item.html?id=d8eedcc16eab40b7a00ea2353b98e5c8' target='_blank'><b>08001-2021-00077</b>\n",
       "                        </a>\n",
       "                        <br/>08001-2021-00077<img src='https://editorcatastral2dev.esri.co/portal/home/js/jsapi/esri/css/images/item_type_icons/maps16.png' style=\"vertical-align:middle;\">Web Map by adminsgcv2\n",
       "                        <br/>Last Modified: julio 02, 2021\n",
       "                        <br/>0 comments, 0 views\n",
       "                    </div>\n",
       "                </div>\n",
       "                "
      ],
      "text/plain": [
       "<Item title:\"08001-2021-00077\" type:Web Map owner:adminsgcv2>"
      ]
     },
     "execution_count": 15,
     "metadata": {},
     "output_type": "execute_result"
    }
   ],
   "source": [
    "#item_result = GenerarWebMap(title_wm, wmTemplate)\n",
    "item_result = PublicarWebMap(wmTemplate, title_wm, usuarioAsignado)\n",
    "item_result"
   ]
  },
  {
   "cell_type": "markdown",
   "metadata": {
    "heading_collapsed": true
   },
   "source": [
    "# Modificar propiedades del wm copiado"
   ]
  },
  {
   "cell_type": "code",
   "execution_count": 16,
   "metadata": {
    "hidden": true
   },
   "outputs": [],
   "source": [
    "pubMapJson_template = webmap_template.get_data(try_json=True)\n",
    "#https://community.esri.com/t5/arcgis-api-for-python-questions/filter-layer-inside-webmap/td-p/806503\n",
    "#Obtener el webmap copiado\n",
    "timeZoneWebMap = item_result\n",
    "#Get the webmap json\n",
    "pubMapJson = item_result.get_data(try_json=True)\n",
    "# Filter Expression to apply to layer\n",
    "usuarioasignado = \"ejecutor1\"\n",
    "lyrFilter = \"usuario_portal = '{0}'\".format(usuarioasignado)"
   ]
  },
  {
   "cell_type": "code",
   "execution_count": 21,
   "metadata": {
    "hidden": true
   },
   "outputs": [],
   "source": [
    "#List comprehension to find the one layer you need to modify by title\n",
    "#Here you could loop on all layers to modify the filter too.\n",
    "title_layer = \"LADM_COL_OC_1_0_22 - LC_UnidadEspacial\"\n",
    "lyrT = [l for l in pubMapJson['operationalLayers'] if l['title']== title_layer]\n",
    "#lyrT"
   ]
  },
  {
   "cell_type": "code",
   "execution_count": 22,
   "metadata": {
    "hidden": true
   },
   "outputs": [],
   "source": [
    "#Make a deepcopy of the json to modify\n",
    "fldMapJsonCopy = copy.deepcopy(pubMapJson)\n",
    "if len(lyrT) > 0:\n",
    "    tZoneLyr = lyrT[0]\n",
    "    if 'layerDefinition' in tZoneLyr:\n",
    "       z = [[x, y] for x, y in enumerate(pubMapJson['operationalLayers']) if y['title'] == title_layer][0]\n",
    "       fldMapJsonCopy['operationalLayers'][z[0]]['layerDefinition']['definitionExpression'] = lyrFilter"
   ]
  },
  {
   "cell_type": "code",
   "execution_count": 23,
   "metadata": {
    "hidden": true
   },
   "outputs": [
    {
     "data": {
      "text/html": [
       "<div class=\"item_container\" style=\"height: auto; overflow: hidden; border: 1px solid #cfcfcf; border-radius: 2px; background: #f6fafa; line-height: 1.21429em; padding: 10px;\">\n",
       "                    <div class=\"item_left\" style=\"width: 210px; float: left;\">\n",
       "                       <a href='https://editorcatastral2dev.esri.co/portal/home/item.html?id=d8eedcc16eab40b7a00ea2353b98e5c8' target='_blank'>\n",
       "                        <img src='https://editorcatastral2dev.esri.co/portal/portalimages/desktopapp.png' class=\"itemThumbnail\">\n",
       "                       </a>\n",
       "                    </div>\n",
       "\n",
       "                    <div class=\"item_right\"     style=\"float: none; width: auto; overflow: hidden;\">\n",
       "                        <a href='https://editorcatastral2dev.esri.co/portal/home/item.html?id=d8eedcc16eab40b7a00ea2353b98e5c8' target='_blank'><b>08001-2021-00077</b>\n",
       "                        </a>\n",
       "                        <br/>08001-2021-00077<img src='https://editorcatastral2dev.esri.co/portal/home/js/jsapi/esri/css/images/item_type_icons/maps16.png' style=\"vertical-align:middle;\">Web Map by adminsgcv2\n",
       "                        <br/>Last Modified: julio 02, 2021\n",
       "                        <br/>0 comments, 0 views\n",
       "                    </div>\n",
       "                </div>\n",
       "                "
      ],
      "text/plain": [
       "<Item title:\"08001-2021-00077\" type:Web Map owner:adminsgcv2>"
      ]
     },
     "execution_count": 23,
     "metadata": {},
     "output_type": "execute_result"
    }
   ],
   "source": [
    "#Save the changes to the Webmap\n",
    "timeZoneWebMap.update(item_properties={'text':dumps(fldMapJsonCopy)})\n",
    "timeZoneWebMap"
   ]
  },
  {
   "cell_type": "markdown",
   "metadata": {
    "heading_collapsed": true
   },
   "source": [
    "# Asignación en Workforce"
   ]
  },
  {
   "cell_type": "code",
   "execution_count": 24,
   "metadata": {
    "hidden": true
   },
   "outputs": [],
   "source": [
    "def crearAsignacionWorkForce(assignedTo, createdBy, workforce_itemid_project, location, jobid, descripcion, nrotramite):\n",
    "    resultado = False\n",
    "    try:\n",
    "        print(\"Creando asignacion workforce\")\n",
    "        # poligonmap = self.ObtenerExtentJob(jobid, 102100)\n",
    "        # puntocentroide = poligonmap.centroid\n",
    "        # X:-74.82530787377105, Y:10.995190070952786\n",
    "        puntocentroide = {\"X\":-74.82530787377105, \"Y\":10.995190070952786}\n",
    "        workforce_project_item = gis.content.get(workforce_itemid_project)\n",
    "        project = workforce.Project(item=workforce_project_item)\n",
    "        worker = project.workers.get(user_id=assignedTo.lower())\n",
    "        dispatcher = project.dispatchers.get(user_id=createdBy.lower())\n",
    "        tipo = project.assignment_types.get(name=\"Ejecutores\")\n",
    "        print(\"Ejecutando la asignacion en workforce...\")\n",
    "        project.assignments.add(\n",
    "            assignment_type=tipo,\n",
    "            status=\"assigned\",\n",
    "            assigned_date=datetime.datetime.now(),\n",
    "            worker=worker,\n",
    "            dispatcher=dispatcher,\n",
    "            location=location,\n",
    "            description=descripcion,\n",
    "            # geometry={'x': puntocentroide.X, 'y': puntocentroide.Y},\n",
    "            geometry={'x': puntocentroide[\"X\"], 'y': puntocentroide[\"Y\"]},\n",
    "            work_order_id=nrotramite)\n",
    "        print(\"Asignacion realizada satisfactoriamente\")\n",
    "        resultado = True\n",
    "    except Exception as e:\n",
    "        print(\"Ha ocurrido un error en la asignacion a Workforce: \" + str(e), \"ERROR\")\n",
    "    return resultado"
   ]
  },
  {
   "cell_type": "code",
   "execution_count": 25,
   "metadata": {
    "hidden": true,
    "scrolled": true
   },
   "outputs": [
    {
     "name": "stdout",
     "output_type": "stream",
     "text": [
      "Creando asignacion workforce\n",
      "Ejecutando la asignacion en workforce...\n",
      "Asignacion realizada satisfactoriamente\n",
      "asignacion workforce satisfactoria\n"
     ]
    }
   ],
   "source": [
    "jobid = -1\n",
    "codigopredial = \"080010103000004060036000000000\"\n",
    "nroManzana = \"\"\n",
    "nroPredio = \"\"\n",
    "tipopredio = \"\"\n",
    "esPh = codigopredial[21:22]\n",
    "if esPh in (\"9\", \"5\", \"6\"):\n",
    "    nroPredio = \"Nro de Predio:\" + codigopredial[17:30]\n",
    "else:\n",
    "    nroPredio = \"Nro de Predio:\" + codigopredial[17:21]\n",
    "\n",
    "tp = codigopredial[5:7]\n",
    "if tp == \"00\":\n",
    "    tipopredio = \"RURAL\"\n",
    "    nroManzana = \"Nro de Sector: {}, Nro de Vereda: {}\".format(codigopredial[7:9], codigopredial[13:17])\n",
    "else:\n",
    "    tipopredio = \"URBANO\"\n",
    "    nroManzana = \"Nro de Sector: {}, Nro de Manzana: {}\".format(codigopredial[7:9], codigopredial[13:17])\n",
    "idWebMap = item_result.id\n",
    "workforce_itemid_project = \"211e695a5a0048bf915cf8963ce4a38b\"\n",
    "location = \"Nro de tramite:\" + numerotramite + \", \" + nroManzana + \", \" + nroPredio\n",
    "descripcion = \"webmapid:\" + idWebMap + \"|predio:\" + codigopredial + \"|ambito:\" + tipopredio + \"|proceso:CON|nrotramite:\" + numerotramite\n",
    "AsignacionWorkForce = crearAsignacionWorkForce(usuarioAsignado, current_user, workforce_itemid_project, location, jobid, descripcion, numerotramite)\n",
    "if AsignacionWorkForce:\n",
    "    result = True\n",
    "    print(\"asignacion workforce satisfactoria\")\n",
    "else:\n",
    "    result = False\n",
    "    print(\"Fallas en asignacion workforce\")"
   ]
  }
 ],
 "metadata": {
  "interpreter": {
   "hash": "a1312de666e040bd4c5ef5978aa02a450c60ef1a294c5c6dce6460557dcf4675"
  },
  "kernelspec": {
   "display_name": "Python 3",
   "language": "python",
   "name": "python3"
  },
  "language_info": {
   "codemirror_mode": {
    "name": "ipython",
    "version": 3
   },
   "file_extension": ".py",
   "mimetype": "text/x-python",
   "name": "python",
   "nbconvert_exporter": "python",
   "pygments_lexer": "ipython3",
   "version": "3.8.5"
  }
 },
 "nbformat": 4,
 "nbformat_minor": 4
}
