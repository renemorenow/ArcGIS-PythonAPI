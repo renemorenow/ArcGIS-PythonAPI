{
 "cells": [
  {
   "cell_type": "code",
   "execution_count": null,
   "metadata": {},
   "outputs": [],
   "source": [
    "from arcgis.gis import GIS\n",
    "# Log into ArcGIS Online by making a GIS connection to ArcGIS Online using your developer account. Replace username and password with your own credentials.\n",
    "gis = GIS(\"http://arcgis.com\", \"renemorenow\", \"Umbita01\")"
   ]
  },
  {
   "cell_type": "code",
   "execution_count": null,
   "metadata": {},
   "outputs": [],
   "source": [
    "# Search for the Trailhead Feature Layer you created, as a challenge, from CSV data in the Import Data tutorial.\n",
    "query = 'title: \"Trailheads*\" AND type: \"Feature Service\"'\n",
    "search_results = gis.content.search(query=query, max_items=10)\n",
    "search_results"
   ]
  },
  {
   "cell_type": "code",
   "execution_count": null,
   "metadata": {},
   "outputs": [],
   "source": [
    "# csv_data = search_results[0]\n",
    "csv_data = search_results[0]\n",
    "csv_data.url"
   ]
  },
  {
   "cell_type": "code",
   "execution_count": null,
   "metadata": {},
   "outputs": [],
   "source": [
    "# Retrieve the list of layers from the feature layer collection, and assign the Trailshead feature layer to a variable.\n",
    "feature_layers = csv_data.layers\n",
    "trailheads_layer = feature_layers[0]\n",
    "trailheads_layer.properties.name"
   ]
  },
  {
   "cell_type": "code",
   "execution_count": null,
   "metadata": {},
   "outputs": [],
   "source": [
    "# Print a list of the field names and types so you can populate the values in the step below\n",
    "for field in trailheads_layer.properties['fields']:\n",
    "   print('Name: {:16s}\\tType: {}'.format(field['name'], field['actualType']))"
   ]
  },
  {
   "cell_type": "code",
   "execution_count": null,
   "metadata": {},
   "outputs": [],
   "source": [
    "# Write a callback function for the map widget's on_click method.\n",
    "from arcgis import geometry\n",
    "from arcgis import features\n",
    "\n",
    "def create_feature(_map, location):\n",
    "    try:\n",
    "        object_id = 1\n",
    "        point = geometry.Point(location)\n",
    "        feature = features.Feature(\n",
    "            geometry=point,\n",
    "            attributes={\n",
    "                'OBJECTID': object_id,\n",
    "                'PARK_NAME': 'My Park',\n",
    "                'TRL_NAME': 'Foobar Trail',\n",
    "                'ELEV_FT': '5000'\n",
    "            }\n",
    "        )\n",
    "\n",
    "        trailheads_layer.edit_features(adds=[feature])\n",
    "        _map.draw(point)\n",
    "\n",
    "    except Exception as e:\n",
    "        print(\"Couldn't create the feature. {}\".format(str(e)))"
   ]
  },
  {
   "cell_type": "code",
   "execution_count": null,
   "metadata": {},
   "outputs": [],
   "source": [
    "# Pass the function create_feature as a parameter to the map widget's on_click() method. Run the cell and begin clicking locations on the map.\n",
    "m = gis.map()\n",
    "\n",
    "# wait for the map to load, and then add the following in a new cell\n",
    "m.center = [34.09042, -118.71511]           # `[latitude, longitude]`\n",
    "m.zoom = 11\n",
    "m.on_click(create_feature)"
   ]
  },
  {
   "cell_type": "code",
   "execution_count": null,
   "metadata": {},
   "outputs": [],
   "source": [
    "m.clear_graphics()"
   ]
  },
  {
   "cell_type": "code",
   "execution_count": null,
   "metadata": {},
   "outputs": [],
   "source": [
    "m.add_layer(trailheads_layer)"
   ]
  }
 ],
 "metadata": {
  "kernelspec": {
   "display_name": "Python 3",
   "language": "python",
   "name": "python3"
  },
  "language_info": {
   "codemirror_mode": {
    "name": "ipython",
    "version": 3
   },
   "file_extension": ".py",
   "mimetype": "text/x-python",
   "name": "python",
   "nbconvert_exporter": "python",
   "pygments_lexer": "ipython3",
   "version": "3.6.8"
  }
 },
 "nbformat": 4,
 "nbformat_minor": 2
}
