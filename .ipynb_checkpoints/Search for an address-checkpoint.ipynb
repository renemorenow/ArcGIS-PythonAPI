{
 "cells": [
  {
   "cell_type": "code",
   "execution_count": 4,
   "metadata": {},
   "outputs": [],
   "source": [
    "#import the ArcGIS API for Python\n",
    "from arcgis.gis import GIS\n",
    "from arcgis.geocoding import geocode, reverse_geocode, Geocoder\n",
    "from arcgis.geometry import Point"
   ]
  },
  {
   "cell_type": "code",
   "execution_count": 6,
   "metadata": {},
   "outputs": [
    {
     "data": {
      "text/plain": [
       "'https://www.arcgis.com'"
      ]
     },
     "execution_count": 6,
     "metadata": {},
     "output_type": "execute_result"
    }
   ],
   "source": [
    "#Log into ArcGIS Online as an anonymous user\n",
    "gis = GIS()\n",
    "gis.url"
   ]
  },
  {
   "cell_type": "code",
   "execution_count": 56,
   "metadata": {},
   "outputs": [],
   "source": [
    "geocode?"
   ]
  },
  {
   "cell_type": "code",
   "execution_count": 60,
   "metadata": {},
   "outputs": [
    {
     "name": "stdout",
     "output_type": "stream",
     "text": [
      "4\n"
     ]
    },
    {
     "data": {
      "text/plain": [
       "{\"geometry\": {\"x\": -74.11398999999994, \"y\": 4.743660000000034, \"spatialReference\": {\"wkid\": 4326, \"latestWkid\": 4326}}, \"attributes\": {\"Loc_name\": \"World\", \"Status\": \"M\", \"Score\": 90.4, \"Match_addr\": \"Toscana, Suba, Bogot\\u00e1, D.C.\", \"LongLabel\": \"Toscana, Suba, Bogot\\u00e1, D.C., COL\", \"ShortLabel\": \"Toscana\", \"Addr_type\": \"Locality\", \"Type\": \"Neighborhood\", \"PlaceName\": \"Toscana\", \"Place_addr\": \"Toscana, Suba, Bogot\\u00e1, D.C.\", \"Phone\": \"\", \"URL\": \"\", \"Rank\": 15, \"AddBldg\": \"\", \"AddNum\": \"\", \"AddNumFrom\": \"\", \"AddNumTo\": \"\", \"AddRange\": \"\", \"Side\": \"\", \"StPreDir\": \"\", \"StPreType\": \"\", \"StName\": \"\", \"StType\": \"\", \"StDir\": \"\", \"BldgType\": \"\", \"BldgName\": \"\", \"LevelType\": \"\", \"LevelName\": \"\", \"UnitType\": \"\", \"UnitName\": \"\", \"SubAddr\": \"\", \"StAddr\": \"\", \"Block\": \"\", \"Sector\": \"\", \"Nbrhd\": \"Toscana\", \"District\": \"Suba\", \"City\": \"Bogot\\u00e1, D.C.\", \"MetroArea\": \"\", \"Subregion\": \"Bogot\\u00e1, D.C.\", \"Region\": \"Bogot\\u00e1, D.C.\", \"RegionAbbr\": \"DC\", \"Territory\": \"\", \"Zone\": \"\", \"Postal\": \"\", \"PostalExt\": \"\", \"Country\": \"COL\", \"CntryName\": \"Colombia\", \"LangCode\": \"SPA\", \"Distance\": 0, \"X\": -74.11398999999994, \"Y\": 4.743660000000034, \"DisplayX\": -74.11398999999994, \"DisplayY\": 4.743660000000034, \"Xmin\": -74.12398999999995, \"Xmax\": -74.10398999999994, \"Ymin\": 4.733660000000034, \"Ymax\": 4.753660000000034, \"ExInfo\": \"PARQUE\", \"OBJECTID\": 1}}"
      ]
     },
     "execution_count": 60,
     "metadata": {},
     "output_type": "execute_result"
    }
   ],
   "source": [
    "#Geocode by query to locate the Hollywood sign.\n",
    "geocode_result = geocode({\"address\":\"Cai Gaitana, Suba, Bogotá, D.C.\",\"address\":\"Parque Toscana, Suba, Bogotá, D.C.\"}, as_featureset=True)\n",
    "\n",
    "# A list of features\n",
    "print(len(geocode_result.features))\n",
    "geocode_result.features[0]"
   ]
  },
  {
   "cell_type": "code",
   "execution_count": 8,
   "metadata": {},
   "outputs": [
    {
     "data": {
      "application/vnd.jupyter.widget-view+json": {
       "model_id": "f40a4815eff54725841f9351574ba866",
       "version_major": 2,
       "version_minor": 0
      },
      "text/plain": [
       "MapView(layout=Layout(height='400px', width='100%'))"
      ]
     },
     "metadata": {},
     "output_type": "display_data"
    },
    {
     "data": {
      "text/html": [
       "<div class=\"map-static-img-preview-8d222121-2837-4a71-8c92-b4a3a0885ba1\"><img src=\"\"></img></div>"
      ],
      "text/plain": [
       "<IPython.core.display.HTML object>"
      ]
     },
     "metadata": {},
     "output_type": "display_data"
    },
    {
     "data": {
      "text/html": [
       "<div class=\"map-html-embed-preview-8d222121-2837-4a71-8c92-b4a3a0885ba1\"></div>"
      ],
      "text/plain": [
       "<IPython.core.display.HTML object>"
      ]
     },
     "metadata": {},
     "output_type": "display_data"
    }
   ],
   "source": [
    "#Display a map to display the geocode result.\n",
    "m = gis.map(\"Bogotá\", zoomlevel=14)\n",
    "m"
   ]
  },
  {
   "cell_type": "code",
   "execution_count": 66,
   "metadata": {},
   "outputs": [],
   "source": [
    "#Draw the geocode result on the map.\n",
    "m.draw(geocode_result)"
   ]
  },
  {
   "cell_type": "code",
   "execution_count": 73,
   "metadata": {},
   "outputs": [],
   "source": [
    "m.clear_graphics()"
   ]
  },
  {
   "cell_type": "code",
   "execution_count": 82,
   "metadata": {},
   "outputs": [
    {
     "name": "stdout",
     "output_type": "stream",
     "text": [
      "{'x': -74.11398999999994, 'y': 4.743660000000034, 'spatialReference': {'wkid': 4326, 'latestWkid': 4326}, 'type': 'point'}\n"
     ]
    }
   ],
   "source": [
    "location = {\n",
    "     'Y': 4.735268706434325,                 # 'Y' is latitude\n",
    "     'X': -74.05270454531392,               # 'X' is longitude\n",
    "     'spatialReference': {\n",
    "         'wkid':4326\n",
    "     }\n",
    "}\n",
    "print(geocode_result.features[0].geometry)\n",
    "location = geocode_result.features[2].geometry\n",
    "unknown_pt = Point(location)"
   ]
  },
  {
   "cell_type": "code",
   "execution_count": 83,
   "metadata": {},
   "outputs": [
    {
     "data": {
      "text/plain": [
       "{'address': {'Match_addr': 'La Toscana',\n",
       "  'LongLabel': 'La Toscana, Carrera 129, Toscana, Suba, Bogotá, D.C., COL',\n",
       "  'ShortLabel': 'La Toscana',\n",
       "  'Addr_type': 'POI',\n",
       "  'Type': 'Park',\n",
       "  'PlaceName': 'La Toscana',\n",
       "  'AddNum': '',\n",
       "  'Address': 'Carrera 129',\n",
       "  'Block': '',\n",
       "  'Sector': '',\n",
       "  'Neighborhood': 'Toscana',\n",
       "  'District': 'Suba',\n",
       "  'City': 'Bogotá, D.C.',\n",
       "  'MetroArea': '',\n",
       "  'Subregion': 'Bogotá, D.C.',\n",
       "  'Region': 'Bogotá, D.C.',\n",
       "  'RegionAbbr': 'DC',\n",
       "  'Territory': '',\n",
       "  'Postal': '111151',\n",
       "  'PostalExt': '',\n",
       "  'CntryName': 'Colombia',\n",
       "  'CountryCode': 'COL'},\n",
       " 'location': {'x': -74.11228999999997,\n",
       "  'y': 4.743280000000027,\n",
       "  'spatialReference': {'wkid': 4326, 'latestWkid': 4326}}}"
      ]
     },
     "execution_count": 83,
     "metadata": {},
     "output_type": "execute_result"
    }
   ],
   "source": [
    "address = reverse_geocode(location=unknown_pt)\n",
    "address"
   ]
  },
  {
   "cell_type": "code",
   "execution_count": 77,
   "metadata": {},
   "outputs": [
    {
     "name": "stdout",
     "output_type": "stream",
     "text": [
      "<class 'arcgis.features.feature.Feature'>\n",
      "<class 'arcgis.features.feature.FeatureSet'>\n"
     ]
    }
   ],
   "source": [
    "m.draw(geocode_result, symbol={\n",
    "\"type\": \"esriSMS\",\n",
    " \"style\": \"esriSMSSquare\",\n",
    " \"color\": [76,115,0,255],\n",
    " \"size\": 8,\n",
    " \"angle\": 0,\n",
    " \"xoffset\": 0,\n",
    " \"yoffset\": 0,\n",
    " \"outline\": \n",
    "  {\n",
    "  \"color\": [152,230,0,255],\n",
    "   \"width\": 1\n",
    "  }\n",
    "})\n",
    "print(type(geocode_result.features[0]))\n",
    "print(type(geocode_result))"
   ]
  },
  {
   "cell_type": "code",
   "execution_count": 86,
   "metadata": {},
   "outputs": [
    {
     "data": {
      "text/plain": [
       "[<Geocoder url:\"https://geocode.arcgis.com/arcgis/rest/services/World/GeocodeServer\">]"
      ]
     },
     "execution_count": 86,
     "metadata": {},
     "output_type": "execute_result"
    }
   ],
   "source": [
    "from arcgis.geocoding import get_geocoders\n",
    "geocoder = get_geocoders(gis)\n",
    "geocoder"
   ]
  },
  {
   "cell_type": "code",
   "execution_count": 87,
   "metadata": {},
   "outputs": [],
   "source": [
    "from arcgis.geocoding import analyze_geocode_input"
   ]
  },
  {
   "cell_type": "code",
   "execution_count": 118,
   "metadata": {},
   "outputs": [
    {
     "data": {
      "text/plain": [
       "[<Item title:\"Hawaii Emergency Shelters CSV\" type:CSV owner:Learn_ArcGIS>,\n",
       " <Item title:\"NATGEO_Battlefields_Addresses\" type:CSV owner:mladerach>,\n",
       " <Item title:\"Employee Addresses (Whitehouse Post)\" type:CSV owner:Matt.Kaufman@am.jll.com_JLL>,\n",
       " <Item title:\"points_and_events_address_sample (1)\" type:CSV owner:pempey1>,\n",
       " <Item title:\"addresses 110920\" type:CSV owner:jsimingt_umich>,\n",
       " <Item title:\"Santa_Ana_VoteCenter_Addresses\" type:CSV owner:annjl_ucirvine>,\n",
       " <Item title:\"Home_Healthcare_Agencies\" type:CSV Collection owner:DarionGibson1>,\n",
       " <Item title:\"2020 Columbia County Real Estate Tax Roll\" type:CSV Collection owner:ArcGISOnlineadmin>,\n",
       " <Item title:\"SUNYs_new\" type:CSV owner:RobinEsriOnline>,\n",
       " <Item title:\"Florida_COVID19_05192021_ByZip_CSV\" type:CSV Collection owner:USFDHHC.GIS>]"
      ]
     },
     "execution_count": 118,
     "metadata": {},
     "output_type": "execute_result"
    }
   ],
   "source": [
    "address = gis.content.search(\"address\",item_type=\"csv\")\n",
    "address"
   ]
  },
  {
   "cell_type": "code",
   "execution_count": null,
   "metadata": {},
   "outputs": [],
   "source": [
    "from arcgis.features import Table\n",
    "url = \"https://www.arcgis.com/sharing/rest/content/items/def43952c3d04c91b21e9a06f2438200/data\"\n",
    "table_lyr = Table(url)\n",
    "print(type(table_lyr))\n",
    "analize_gi = analyze_geocode_input(input_table_or_item=table_lyr)\n",
    "analize_gi"
   ]
  },
  {
   "cell_type": "code",
   "execution_count": null,
   "metadata": {},
   "outputs": [],
   "source": [
    "from arcgis.geocoding import suggest"
   ]
  },
  {
   "cell_type": "code",
   "execution_count": 137,
   "metadata": {},
   "outputs": [
    {
     "data": {
      "text/plain": [
       "{'suggestions': [{'text': 'Disney Park and Resort-Bargarchumbak, Shyampur-I, Haora, West Bengal, 711312, IND',\n",
       "   'magicKey': 'dHA9MCNsb2M9NDMwNDg3MjQjbG5nPTM0I3BsPTM3OTE0NDQ2I2xicz0xNDoxMzY0NjA4Mg==',\n",
       "   'isCollection': False},\n",
       "  {'text': 'Disney Park, Elk Grove Village, IL, USA',\n",
       "   'magicKey': 'dHA9MCNsb2M9MTQ3Njc4MzQjbG5nPTM0I3BsPTc2NDY4MDYjbGJzPTE0OjEzNjQ2MDgx',\n",
       "   'isCollection': False},\n",
       "  {'text': 'Disney Park, Wanowrie, Pune, Maharashtra, 411022, IND',\n",
       "   'magicKey': 'dHA9MCNsb2M9NDI3NDE1MTYjbG5nPTM0I3BsPTM1MDMxMjA3I2xicz0xNDoxMzY0NjA4MQ==',\n",
       "   'isCollection': False},\n",
       "  {'text': 'Disney Park, Keytesville, MO, 65261, USA',\n",
       "   'magicKey': 'dHA9MCNsb2M9NjM1NDYwOCNsbmc9MzQjbGJzPTEwOTo1MzAzMzU2Ng==',\n",
       "   'isCollection': False},\n",
       "  {'text': 'Disney Store, 1645 Parkway, Sevierville, TN, 37862, USA',\n",
       "   'magicKey': 'dHA9MCNsb2M9MTE2NzYzODQjbG5nPTM0I3BsPTM4NDM5MTgjbGJzPTE0OjEzNjQ2MTMwOzEwOTo1NjQ0ODc5Ng==',\n",
       "   'isCollection': False}]}"
      ]
     },
     "execution_count": 137,
     "metadata": {},
     "output_type": "execute_result"
    }
   ],
   "source": [
    "suggest(text=\"Disney Park\")"
   ]
  },
  {
   "cell_type": "code",
   "execution_count": 138,
   "metadata": {},
   "outputs": [],
   "source": [
    "from arcgis.geocoding import batch_geocode"
   ]
  },
  {
   "cell_type": "code",
   "execution_count": 146,
   "metadata": {},
   "outputs": [
    {
     "name": "stdout",
     "output_type": "stream",
     "text": [
      "[{'Address': '380 New York St.', 'City': 'Redlands', 'Region': 'CA', 'Postal': '92373'}, {'Address': '1 World Way', 'City': 'Los Angeles', 'Region': 'CA', 'Postal': '90045'}]\n"
     ]
    },
    {
     "ename": "Exception",
     "evalue": "Token required but not passed in the request.\nToken required.\n(Error Code: 499)",
     "output_type": "error",
     "traceback": [
      "\u001b[1;31m---------------------------------------------------------------------------\u001b[0m",
      "\u001b[1;31mException\u001b[0m                                 Traceback (most recent call last)",
      "\u001b[1;32m<ipython-input-146-fc7cfe16a672>\u001b[0m in \u001b[0;36m<module>\u001b[1;34m\u001b[0m\n\u001b[0;32m      4\u001b[0m \u001b[0mprint\u001b[0m\u001b[1;33m(\u001b[0m\u001b[0maddresses\u001b[0m\u001b[1;33m)\u001b[0m\u001b[1;33m\u001b[0m\u001b[1;33m\u001b[0m\u001b[0m\n\u001b[0;32m      5\u001b[0m batched = batch_geocode(addresses = [\"La Toscana, Carrera 129, Toscana, Suba, Bogotá, D.C., COL\"],\n\u001b[1;32m----> 6\u001b[1;33m                   as_featureset = True)\n\u001b[0m\u001b[0;32m      7\u001b[0m \u001b[0mbatched\u001b[0m\u001b[1;33m\u001b[0m\u001b[1;33m\u001b[0m\u001b[0m\n",
      "\u001b[1;32mC:\\Program Files\\ArcGIS\\Pro\\bin\\Python\\envs\\arcgispro-py3\\lib\\site-packages\\arcgis\\geocoding\\_functions.py\u001b[0m in \u001b[0;36mbatch_geocode\u001b[1;34m(addresses, source_country, category, out_sr, geocoder, as_featureset, match_out_of_range, location_type, search_extent, lang_code, preferred_label_values)\u001b[0m\n\u001b[0;32m   1608\u001b[0m         \u001b[0msearch_extent\u001b[0m\u001b[1;33m,\u001b[0m\u001b[1;33m\u001b[0m\u001b[1;33m\u001b[0m\u001b[0m\n\u001b[0;32m   1609\u001b[0m         \u001b[0mlang_code\u001b[0m\u001b[1;33m,\u001b[0m\u001b[1;33m\u001b[0m\u001b[1;33m\u001b[0m\u001b[0m\n\u001b[1;32m-> 1610\u001b[1;33m         \u001b[0mpreferred_label_values\u001b[0m\u001b[1;33m,\u001b[0m\u001b[1;33m\u001b[0m\u001b[1;33m\u001b[0m\u001b[0m\n\u001b[0m\u001b[0;32m   1611\u001b[0m     )\n\u001b[0;32m   1612\u001b[0m \u001b[1;33m\u001b[0m\u001b[0m\n",
      "\u001b[1;32mC:\\Program Files\\ArcGIS\\Pro\\bin\\Python\\envs\\arcgispro-py3\\lib\\site-packages\\arcgis\\geocoding\\_functions.py\u001b[0m in \u001b[0;36m_batch_geocode\u001b[1;34m(self, addresses, source_country, category, out_sr, as_featureset, match_out_of_range, location_type, search_extent, lang_code, preferred_label_values)\u001b[0m\n\u001b[0;32m    446\u001b[0m                 \u001b[0mparams\u001b[0m\u001b[1;33m[\u001b[0m\u001b[1;34m\"preferredLabelValues\"\u001b[0m\u001b[1;33m]\u001b[0m \u001b[1;33m=\u001b[0m \u001b[0mpreferred_label_values\u001b[0m\u001b[1;33m\u001b[0m\u001b[1;33m\u001b[0m\u001b[0m\n\u001b[0;32m    447\u001b[0m \u001b[1;33m\u001b[0m\u001b[0m\n\u001b[1;32m--> 448\u001b[1;33m             \u001b[0mresp\u001b[0m \u001b[1;33m=\u001b[0m \u001b[0mself\u001b[0m\u001b[1;33m.\u001b[0m\u001b[0m_con\u001b[0m\u001b[1;33m.\u001b[0m\u001b[0mpost\u001b[0m\u001b[1;33m(\u001b[0m\u001b[0murl\u001b[0m\u001b[1;33m,\u001b[0m \u001b[0mparams\u001b[0m\u001b[1;33m)\u001b[0m\u001b[1;33m\u001b[0m\u001b[1;33m\u001b[0m\u001b[0m\n\u001b[0m\u001b[0;32m    449\u001b[0m             \u001b[1;32mif\u001b[0m \u001b[0mresp\u001b[0m \u001b[1;32mis\u001b[0m \u001b[1;32mnot\u001b[0m \u001b[1;32mNone\u001b[0m \u001b[1;32mand\u001b[0m \u001b[0mas_featureset\u001b[0m\u001b[1;33m:\u001b[0m\u001b[1;33m\u001b[0m\u001b[1;33m\u001b[0m\u001b[0m\n\u001b[0;32m    450\u001b[0m                 \u001b[0msr\u001b[0m \u001b[1;33m=\u001b[0m \u001b[0mresp\u001b[0m\u001b[1;33m[\u001b[0m\u001b[1;34m\"spatialReference\"\u001b[0m\u001b[1;33m]\u001b[0m\u001b[1;33m\u001b[0m\u001b[1;33m\u001b[0m\u001b[0m\n",
      "\u001b[1;32mC:\\Program Files\\ArcGIS\\Pro\\bin\\Python\\envs\\arcgispro-py3\\lib\\site-packages\\arcgis\\gis\\_impl\\_con\\_connection.py\u001b[0m in \u001b[0;36mpost\u001b[1;34m(self, path, params, files, **kwargs)\u001b[0m\n\u001b[0;32m   1077\u001b[0m             \u001b[0mfile_name\u001b[0m\u001b[1;33m=\u001b[0m\u001b[0mfile_name\u001b[0m\u001b[1;33m,\u001b[0m\u001b[1;33m\u001b[0m\u001b[1;33m\u001b[0m\u001b[0m\n\u001b[0;32m   1078\u001b[0m             \u001b[0mtry_json\u001b[0m\u001b[1;33m=\u001b[0m\u001b[0mtry_json\u001b[0m\u001b[1;33m,\u001b[0m\u001b[1;33m\u001b[0m\u001b[1;33m\u001b[0m\u001b[0m\n\u001b[1;32m-> 1079\u001b[1;33m             \u001b[0mforce_bytes\u001b[0m\u001b[1;33m=\u001b[0m\u001b[0mkwargs\u001b[0m\u001b[1;33m.\u001b[0m\u001b[0mpop\u001b[0m\u001b[1;33m(\u001b[0m\u001b[1;34m\"force_bytes\"\u001b[0m\u001b[1;33m,\u001b[0m \u001b[1;32mFalse\u001b[0m\u001b[1;33m)\u001b[0m\u001b[1;33m,\u001b[0m\u001b[1;33m\u001b[0m\u001b[1;33m\u001b[0m\u001b[0m\n\u001b[0m\u001b[0;32m   1080\u001b[0m         )\n\u001b[0;32m   1081\u001b[0m \u001b[1;33m\u001b[0m\u001b[0m\n",
      "\u001b[1;32mC:\\Program Files\\ArcGIS\\Pro\\bin\\Python\\envs\\arcgispro-py3\\lib\\site-packages\\arcgis\\gis\\_impl\\_con\\_connection.py\u001b[0m in \u001b[0;36m_handle_response\u001b[1;34m(self, resp, file_name, out_path, try_json, force_bytes, ignore_error_key)\u001b[0m\n\u001b[0;32m    623\u001b[0m                     \u001b[1;32mreturn\u001b[0m \u001b[0mdata\u001b[0m\u001b[1;33m\u001b[0m\u001b[1;33m\u001b[0m\u001b[0m\n\u001b[0;32m    624\u001b[0m                 \u001b[0merrorcode\u001b[0m \u001b[1;33m=\u001b[0m \u001b[0mdata\u001b[0m\u001b[1;33m[\u001b[0m\u001b[1;34m\"error\"\u001b[0m\u001b[1;33m]\u001b[0m\u001b[1;33m[\u001b[0m\u001b[1;34m\"code\"\u001b[0m\u001b[1;33m]\u001b[0m \u001b[1;32mif\u001b[0m \u001b[1;34m\"code\"\u001b[0m \u001b[1;32min\u001b[0m \u001b[0mdata\u001b[0m\u001b[1;33m[\u001b[0m\u001b[1;34m\"error\"\u001b[0m\u001b[1;33m]\u001b[0m \u001b[1;32melse\u001b[0m \u001b[1;36m0\u001b[0m\u001b[1;33m\u001b[0m\u001b[1;33m\u001b[0m\u001b[0m\n\u001b[1;32m--> 625\u001b[1;33m                 \u001b[0mself\u001b[0m\u001b[1;33m.\u001b[0m\u001b[0m_handle_json_error\u001b[0m\u001b[1;33m(\u001b[0m\u001b[0mdata\u001b[0m\u001b[1;33m[\u001b[0m\u001b[1;34m\"error\"\u001b[0m\u001b[1;33m]\u001b[0m\u001b[1;33m,\u001b[0m \u001b[0merrorcode\u001b[0m\u001b[1;33m)\u001b[0m\u001b[1;33m\u001b[0m\u001b[1;33m\u001b[0m\u001b[0m\n\u001b[0m\u001b[0;32m    626\u001b[0m             \u001b[1;32mreturn\u001b[0m \u001b[0mdata\u001b[0m\u001b[1;33m\u001b[0m\u001b[1;33m\u001b[0m\u001b[0m\n\u001b[0;32m    627\u001b[0m         \u001b[1;32melse\u001b[0m\u001b[1;33m:\u001b[0m\u001b[1;33m\u001b[0m\u001b[1;33m\u001b[0m\u001b[0m\n",
      "\u001b[1;32mC:\\Program Files\\ArcGIS\\Pro\\bin\\Python\\envs\\arcgispro-py3\\lib\\site-packages\\arcgis\\gis\\_impl\\_con\\_connection.py\u001b[0m in \u001b[0;36m_handle_json_error\u001b[1;34m(self, error, errorcode)\u001b[0m\n\u001b[0;32m    646\u001b[0m \u001b[1;33m\u001b[0m\u001b[0m\n\u001b[0;32m    647\u001b[0m         \u001b[0merrormessage\u001b[0m \u001b[1;33m=\u001b[0m \u001b[0merrormessage\u001b[0m \u001b[1;33m+\u001b[0m \u001b[1;34m\"\\n(Error Code: \"\u001b[0m \u001b[1;33m+\u001b[0m \u001b[0mstr\u001b[0m\u001b[1;33m(\u001b[0m\u001b[0merrorcode\u001b[0m\u001b[1;33m)\u001b[0m \u001b[1;33m+\u001b[0m \u001b[1;34m\")\"\u001b[0m\u001b[1;33m\u001b[0m\u001b[1;33m\u001b[0m\u001b[0m\n\u001b[1;32m--> 648\u001b[1;33m         \u001b[1;32mraise\u001b[0m \u001b[0mException\u001b[0m\u001b[1;33m(\u001b[0m\u001b[0merrormessage\u001b[0m\u001b[1;33m)\u001b[0m\u001b[1;33m\u001b[0m\u001b[1;33m\u001b[0m\u001b[0m\n\u001b[0m\u001b[0;32m    649\u001b[0m \u001b[1;33m\u001b[0m\u001b[0m\n\u001b[0;32m    650\u001b[0m     \u001b[1;32mdef\u001b[0m \u001b[0mpost_multipart\u001b[0m\u001b[1;33m(\u001b[0m\u001b[0mself\u001b[0m\u001b[1;33m,\u001b[0m \u001b[0mpath\u001b[0m\u001b[1;33m,\u001b[0m \u001b[0mparams\u001b[0m\u001b[1;33m=\u001b[0m\u001b[1;32mNone\u001b[0m\u001b[1;33m,\u001b[0m \u001b[0mfiles\u001b[0m\u001b[1;33m=\u001b[0m\u001b[1;32mNone\u001b[0m\u001b[1;33m,\u001b[0m \u001b[1;33m**\u001b[0m\u001b[0mkwargs\u001b[0m\u001b[1;33m)\u001b[0m\u001b[1;33m:\u001b[0m\u001b[1;33m\u001b[0m\u001b[1;33m\u001b[0m\u001b[0m\n",
      "\u001b[1;31mException\u001b[0m: Token required but not passed in the request.\nToken required.\n(Error Code: 499)"
     ]
    }
   ],
   "source": [
    "addresses= [\n",
    "    {\"Address\": \"380 New York St.\", \"City\": \"Redlands\", \"Region\": \"CA\", \"Postal\": \"92373\"},\n",
    "    {\"Address\": \"1 World Way\", \"City\": \"Los Angeles\", \"Region\": \"CA\", \"Postal\": \"90045\"}]\n",
    "print(addresses)\n",
    "batched = batch_geocode(addresses = [\"La Toscana, Carrera 129, Toscana, Suba, Bogotá, D.C., COL\"],\n",
    "                  as_featureset = True)\n",
    "batched"
   ]
  }
 ],
 "metadata": {
  "kernelspec": {
   "display_name": "Python 3",
   "language": "python",
   "name": "python3"
  },
  "language_info": {
   "codemirror_mode": {
    "name": "ipython",
    "version": 3
   },
   "file_extension": ".py",
   "mimetype": "text/x-python",
   "name": "python",
   "nbconvert_exporter": "python",
   "pygments_lexer": "ipython3",
   "version": "3.7.11"
  }
 },
 "nbformat": 4,
 "nbformat_minor": 2
}
