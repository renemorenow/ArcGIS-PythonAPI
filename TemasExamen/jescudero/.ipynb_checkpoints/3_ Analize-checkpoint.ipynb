{
 "cells": [
  {
   "cell_type": "markdown",
   "metadata": {},
   "source": [
    "## Imports:"
   ]
  },
  {
   "cell_type": "code",
   "execution_count": 1,
   "metadata": {},
   "outputs": [],
   "source": [
    "from arcgis.gis import GIS\n",
    "from IPython.display import display"
   ]
  },
  {
   "cell_type": "markdown",
   "metadata": {},
   "source": [
    "## Conexion:"
   ]
  },
  {
   "cell_type": "code",
   "execution_count": 3,
   "metadata": {},
   "outputs": [
    {
     "name": "stdout",
     "output_type": "stream",
     "text": [
      "Enter password: ········\n"
     ]
    }
   ],
   "source": [
    "#gis = GIS(url=\"http://www.arcgis.com\", username=\"renemorenow\")\n",
    "#gis = GIS(url=\"http://www.arcgis.com\", username=\"williamrenem\")\n",
    "gis = GIS(url=\"http://www.arcgis.com\", username=\"wmoreno_project_esri_co\")"
   ]
  },
  {
   "cell_type": "code",
   "execution_count": 2,
   "metadata": {},
   "outputs": [],
   "source": [
    "gis = GIS(profile=\"sgc20_desarrollo\")"
   ]
  },
  {
   "cell_type": "code",
   "execution_count": 3,
   "metadata": {},
   "outputs": [],
   "source": [
    "from sgc import sgccat20lib\n",
    "sgccat20lib.gisConnection = gis"
   ]
  },
  {
   "cell_type": "code",
   "execution_count": 4,
   "metadata": {},
   "outputs": [
    {
     "data": {
      "text/html": [
       "<div class=\"item_container\" style=\"height: auto; overflow: hidden; border: 1px solid #cfcfcf; border-radius: 2px; background: #f6fafa; line-height: 1.21429em; padding: 10px;\">\n",
       "                    <div class=\"item_left\" style=\"width: 210px; float: left;\">\n",
       "                       <a href='https://instalacionsgcladm.esri.co/portal/home/item.html?id=fa6fd77deec5481a89f836d922023de4' target='_blank'>\n",
       "                        <img src='data:image/png;base64,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' width='200' height='133' class=\"itemThumbnail\">\n",
       "                       </a>\n",
       "                    </div>\n",
       "\n",
       "                    <div class=\"item_right\"     style=\"float: none; width: auto; overflow: hidden;\">\n",
       "                        <a href='https://instalacionsgcladm.esri.co/portal/home/item.html?id=fa6fd77deec5481a89f836d922023de4' target='_blank'><b>FS_Conservacion_Edicion_41298</b>\n",
       "                        </a>\n",
       "                        <br/>Servicio para generar R1R2 municipio Garzon<img src='https://instalacionsgcladm.esri.co/portal/home/js/jsapi/esri/css/images/item_type_icons/featureshosted16.png' style=\"vertical-align:middle;\">Feature Layer Collection by adminsgcv2\n",
       "                        <br/>Last Modified: November 01, 2023\n",
       "                        <br/>0 comments, 231 views\n",
       "                    </div>\n",
       "                </div>\n",
       "                "
      ],
      "text/plain": [
       "<Item title:\"FS_Conservacion_Edicion_41298\" type:Feature Layer Collection owner:adminsgcv2>"
      ]
     },
     "execution_count": 4,
     "metadata": {},
     "output_type": "execute_result"
    }
   ],
   "source": [
    "id_municipio = \"41298\"\n",
    "dictparams = sgccat20lib.ObtenerParametros(id_municipio=id_municipio)\n",
    "parcel_service = dictparams[\"PARCEL_SERVICE_CONSULTA\"]\n",
    "gisContentParcelService = gis.content.get(parcel_service)#FS_Conservacion_Xxxxxx\n",
    "urlParcelService = gisContentParcelService.url\n",
    "gisContentParcelService"
   ]
  },
  {
   "cell_type": "code",
   "execution_count": 5,
   "metadata": {},
   "outputs": [
    {
     "name": "stdout",
     "output_type": "stream",
     "text": [
      "https://instalacionsgcladm.esri.co/portal adminsgcv2\n"
     ]
    }
   ],
   "source": [
    "print(gis.url, gis.users.me.username)\n",
    "#, gis.admin.credits.credits"
   ]
  },
  {
   "cell_type": "markdown",
   "metadata": {},
   "source": [
    "# <h1 style=\"text-align:center;\">Analize</h1>"
   ]
  },
  {
   "cell_type": "markdown",
   "metadata": {},
   "source": [
    "# features.analysis submodule  - (submodulo de features)\n",
    "https://developers.arcgis.com/python/api-reference/arcgis.features.analysis.html"
   ]
  },
  {
   "cell_type": "code",
   "execution_count": 6,
   "metadata": {},
   "outputs": [],
   "source": [
    "from arcgis.features.analysis import * \n",
    "from arcgis.features import FeatureLayer, Feature, FeatureSet, FeatureCollection, use_proximity\n",
    "import pandas as pd\n",
    "import time\n",
    "import datetime as dt\n",
    "from arcgis.features import GeoAccessor, GeoSeriesAccessor\n",
    "from arcgis.geometry import Geometry"
   ]
  },
  {
   "cell_type": "markdown",
   "metadata": {},
   "source": [
    "## Analysis SGC only:"
   ]
  },
  {
   "cell_type": "code",
   "execution_count": 7,
   "metadata": {},
   "outputs": [
    {
     "name": "stdout",
     "output_type": "stream",
     "text": [
      "Layer: Direccion ,  (CC) Manzana\n",
      "features fcol_manzana: 397\n",
      "features fcol_terreno: 17\n",
      "features fcol_direccion: 17\n"
     ]
    }
   ],
   "source": [
    "lyr_direccion_name = \"Direccion\"\n",
    "lyr_manzana = next(iter(filter(lambda x: x.properties.name.upper()==\"(CC) Manzana\".upper(), gisContentParcelService.layers)), None)\n",
    "lyr_terreno = next(iter(filter(lambda x: x.properties.name.upper()==\"Terreno\".upper(), gisContentParcelService.layers)), None)\n",
    "lyr_direccion = next(iter(filter(lambda x: x.properties.name.upper()==lyr_direccion_name.upper(), gisContentParcelService.layers)), None)\n",
    "print(\"Layer:\",lyr_direccion.properties.name, \", \", lyr_manzana.properties.name)\n",
    "fcol_manzana = FeatureCollection.from_featureset(lyr_manzana.query(where=f\"codigo like '412980102%'\"))\n",
    "value = fcol_manzana.query().features[0].attributes[\"codigo\"]\n",
    "print(\"features fcol_manzana: %s\" %(len(fcol_manzana.query().features)))\n",
    "rel_terreno_name = \"LC_Terreno\"\n",
    "rel_direccion_name = \"ExtDireccion\"\n",
    "where = f\"numero_predial like '{value}%' AND estado_predio='Activo'\"\n",
    "predioCapa = sgccat20lib.get_features_layertable_where(\n",
    "    gis,\n",
    "    \"{0}/{1}\".format(urlParcelService, \"103\"),\n",
    "    where,\n",
    "    \"numero_predial,globalid,objectid,condicion_predio\",\n",
    "    None,\n",
    "    [rel_terreno_name,rel_direccion_name],\n",
    "    [\"objectid\",\"objectid\"])\n",
    "rel_terreno = next(iter(filter(lambda x: x[\"name\"].upper()==rel_terreno_name.upper(), predioCapa[\"Relationships\"])), None)\n",
    "rel_direccion = next(iter(filter(lambda x: x[\"name\"].upper()==rel_direccion_name.upper(), predioCapa[\"Relationships\"])), None)\n",
    "objectids_terreno = \",\".join(map(str, rel_terreno[\"objectids\"])) if rel_terreno else \"\"\n",
    "objectids_direccion = \",\".join(map(str, rel_direccion[\"objectids\"])) if rel_direccion else \"1\"\n",
    "fcol_terreno = FeatureCollection.from_featureset(lyr_terreno.query(where=f\"objectid in ({objectids_terreno})\"))\n",
    "fcol_direccion = FeatureCollection.from_featureset(lyr_direccion.query(where=f\"objectid in ({objectids_direccion})\"))\n",
    "print(\"features fcol_terreno: %s\" %(len(fcol_terreno.query().features)))\n",
    "print(\"features fcol_direccion: %s\" %(len(fcol_direccion.query().features)))"
   ]
  },
  {
   "cell_type": "markdown",
   "metadata": {},
   "source": [
    "## Analysis:"
   ]
  },
  {
   "cell_type": "code",
   "execution_count": 41,
   "metadata": {},
   "outputs": [
    {
     "name": "stdout",
     "output_type": "stream",
     "text": [
      "https://services.arcgis.com/P3ePLMYs2RVChkJx/arcgis/rest/services/USA_Major_Cities/FeatureServer/0\n"
     ]
    },
    {
     "data": {
      "text/html": [
       "<div class=\"item_container\" style=\"height: auto; overflow: hidden; border: 1px solid #cfcfcf; border-radius: 2px; background: #f6fafa; line-height: 1.21429em; padding: 10px;\">\n",
       "                    <div class=\"item_left\" style=\"width: 210px; float: left;\">\n",
       "                       <a href='http://project-esri-co.maps.arcgis.com/home/item.html?id=85d0ca4ea1ca4b9abf0c51b9bd34de2e' target='_blank'>\n",
       "                        <img src='data:image/png;base64,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' width='200' height='133' class=\"itemThumbnail\">\n",
       "                       </a>\n",
       "                    </div>\n",
       "\n",
       "                    <div class=\"item_right\"     style=\"float: none; width: auto; overflow: hidden;\">\n",
       "                        <a href='http://project-esri-co.maps.arcgis.com/home/item.html?id=85d0ca4ea1ca4b9abf0c51b9bd34de2e' target='_blank'><b>USA Major Cities</b>\n",
       "                        </a>\n",
       "                        <br/>This layer presents the locations of cities within the United States with populations of approximately 10,000 or greater, all state capitals, and the national capital.<img src='http://project-esri-co.maps.arcgis.com/home/js/jsapi/esri/css/images/item_type_icons/featureshosted16.png' style=\"vertical-align:middle;\">Feature Layer Collection by esri_dm\n",
       "                        <br/>Last Modified: December 08, 2022\n",
       "                        <br/>3 comments, 39,548,473 views\n",
       "                    </div>\n",
       "                </div>\n",
       "                "
      ],
      "text/plain": [
       "<Item title:\"USA Major Cities\" type:Feature Layer Collection owner:esri_dm>"
      ]
     },
     "execution_count": 41,
     "metadata": {},
     "output_type": "execute_result"
    }
   ],
   "source": [
    "sample_cities = gis.content.search('title:\"USA Major Cities\" type:Feature Service', outside_org=True)[0]\n",
    "print(sample_cities.layers[0].url)\n",
    "sample_cities"
   ]
  },
  {
   "cell_type": "markdown",
   "metadata": {
    "heading_collapsed": true
   },
   "source": [
    "### connect_origins_to_destinations"
   ]
  },
  {
   "cell_type": "code",
   "execution_count": 42,
   "metadata": {
    "hidden": true,
    "scrolled": true
   },
   "outputs": [
    {
     "data": {
      "application/vnd.jupyter.widget-view+json": {
       "model_id": "89a517a6076d4c889a8383732c9a1aab",
       "version_major": 2,
       "version_minor": 0
      },
      "text/plain": [
       "MapView(layout=Layout(height='400px', width='100%'))"
      ]
     },
     "metadata": {},
     "output_type": "display_data"
    },
    {
     "data": {
      "text/html": [
       "<div class=\"map-static-img-preview-9da969bf-3d4c-459c-a658-ea2adca7071d\"><img src=\"\"></img></div>"
      ],
      "text/plain": [
       "<IPython.core.display.HTML object>"
      ]
     },
     "metadata": {},
     "output_type": "display_data"
    },
    {
     "data": {
      "text/html": [
       "<div class=\"map-html-embed-preview-9da969bf-3d4c-459c-a658-ea2adca7071d\"></div>"
      ],
      "text/plain": [
       "<IPython.core.display.HTML object>"
      ]
     },
     "metadata": {},
     "output_type": "display_data"
    }
   ],
   "source": [
    "cities_fl = FeatureLayer(sample_cities.url + \"/0\")\n",
    "stops_cities = ['Chicago', 'Indiannapolis', 'Cleveland','Columbus', 'pittsburgh', 'Buffalo']\n",
    "values = \"'\" + \"', '\".join(stops_cities) + \"'\"\n",
    "filter_where_end = \"\"\n",
    "stops_layer = {'url': sample_cities.layers[0].url, 'filter': \"ST in ('IL', 'IN', 'OH', 'PA', 'NY')  AND NAME IN ({0})\".format(values)}\n",
    "end_cities_fset = cities_fl.query(where=\"ST in ('WI', 'IL', 'IN', 'OH', 'PA', 'NY')  AND NAME IN ({0})\".format(values), as_df=False)\n",
    "\n",
    "start_layer = {'url': sample_cities.layers[0].url, 'filter': \"ST in ('MI')  AND NAME IN ('Detroit')\"}\n",
    "start_cities_fset = cities_fl.query(where=\"ST in ('MI')  AND NAME IN ('Detroit')\", as_df=False)\n",
    "\n",
    "map4a = gis.map('Detriot, MI')\n",
    "map4a"
   ]
  },
  {
   "cell_type": "code",
   "execution_count": 43,
   "metadata": {
    "hidden": true
   },
   "outputs": [],
   "source": [
    "map4a.clear_graphics()\n",
    "start_symbol = {\"angle\":0,\"xoffset\":0,\"yoffset\":8.15625,\"type\":\"esriPMS\",\n",
    "                \"url\":\"http://static.arcgis.com/images/Symbols/AtoZ/redA.png\",\n",
    "                \"contentType\":\"image/png\",\"width\":15.75,\"height\":21.75}\n",
    "\n",
    "end_symbol = {\"angle\":0,\"xoffset\":0,\"yoffset\":8.15625,\"type\":\"esriPMS\",\n",
    "              \"url\":\"http://static.arcgis.com/images/Symbols/AtoZ/greenB.png\",\n",
    "              \"contentType\":\"image/png\",\"width\":15.75,\"height\":21.75}"
   ]
  },
  {
   "cell_type": "code",
   "execution_count": 44,
   "metadata": {
    "hidden": true
   },
   "outputs": [
    {
     "name": "stdout",
     "output_type": "stream",
     "text": [
      "origins_layer: 1 ; destinations_layer: 6\n"
     ]
    }
   ],
   "source": [
    "print(\"origins_layer:\", len(start_cities_fset.features), \"; destinations_layer:\", len(end_cities_fset.features))\n",
    "map4a.draw(start_cities_fset, symbol=start_symbol)\n",
    "map4a.draw(end_cities_fset, symbol=end_symbol)\n",
    "map4a.zoom_to_layer(end_cities_fset)"
   ]
  },
  {
   "cell_type": "code",
   "execution_count": 45,
   "metadata": {
    "hidden": true
   },
   "outputs": [
    {
     "name": "stderr",
     "output_type": "stream",
     "text": [
      "Network elements with avoid-restrictions are traversed in the output (restriction attribute names: \"Through Traffic Prohibited\").\n",
      "Network elements with avoid-restrictions are traversed in the output (restriction attribute names: \"Through Traffic Prohibited, Avoid Unpaved Roads\").\n",
      "{\"cost\": 0.03}\n"
     ]
    },
    {
     "name": "stdout",
     "output_type": "stream",
     "text": [
      "Wall time: 50.4 s\n"
     ]
    },
    {
     "data": {
      "text/html": [
       "<div class=\"item_container\" style=\"height: auto; overflow: hidden; border: 1px solid #cfcfcf; border-radius: 2px; background: #f6fafa; line-height: 1.21429em; padding: 10px;\">\n",
       "                    <div class=\"item_left\" style=\"width: 210px; float: left;\">\n",
       "                       <a href='http://project-esri-co.maps.arcgis.com/home/item.html?id=5add1ae678e8487c84a626c2225732a0' target='_blank'>\n",
       "                        <img src='http://static.arcgis.com/images/desktopapp.png' class=\"itemThumbnail\">\n",
       "                       </a>\n",
       "                    </div>\n",
       "\n",
       "                    <div class=\"item_right\"     style=\"float: none; width: auto; overflow: hidden;\">\n",
       "                        <a href='http://project-esri-co.maps.arcgis.com/home/item.html?id=5add1ae678e8487c84a626c2225732a0' target='_blank'><b>OD_Cost_Matrix_(2023-11)</b>\n",
       "                        </a>\n",
       "                        <br/><img src='http://project-esri-co.maps.arcgis.com/home/js/jsapi/esri/css/images/item_type_icons/featureshosted16.png' style=\"vertical-align:middle;\">Feature Layer Collection by wmoreno_project_esri_co\n",
       "                        <br/>Last Modified: November 13, 2023\n",
       "                        <br/>0 comments, 0 views\n",
       "                    </div>\n",
       "                </div>\n",
       "                "
      ],
      "text/plain": [
       "<Item title:\"OD_Cost_Matrix_(2023-11)\" type:Feature Layer Collection owner:wmoreno_project_esri_co>"
      ]
     },
     "execution_count": 45,
     "metadata": {},
     "output_type": "execute_result"
    }
   ],
   "source": [
    "%%time\n",
    "current_time= dt.datetime.now()\n",
    "v_co2d = connect_origins_to_destinations(origins_layer=start_layer, \n",
    "                                        destinations_layer=stops_layer,\n",
    "                                        context={'outSR': {\"wkid\": 4326}},\n",
    "                                        time_of_day=current_time,     \n",
    "                                        output_name=\"OD Cost Matrix ({}-{})\".format(current_time.year, current_time.month))\n",
    "v_co2d"
   ]
  },
  {
   "cell_type": "code",
   "execution_count": 48,
   "metadata": {
    "hidden": true
   },
   "outputs": [],
   "source": [
    "map4a.add_layer(v_co2d)"
   ]
  },
  {
   "cell_type": "code",
   "execution_count": 46,
   "metadata": {
    "hidden": true
   },
   "outputs": [
    {
     "name": "stdout",
     "output_type": "stream",
     "text": [
      "https://services1.arcgis.com/7S16A7PAFcmSmqJA/arcgis/rest/services/OD_Cost_Matrix_(2023-11)/FeatureServer/0\n"
     ]
    },
    {
     "data": {
      "text/html": [
       "<div>\n",
       "<style scoped>\n",
       "    .dataframe tbody tr th:only-of-type {\n",
       "        vertical-align: middle;\n",
       "    }\n",
       "\n",
       "    .dataframe tbody tr th {\n",
       "        vertical-align: top;\n",
       "    }\n",
       "\n",
       "    .dataframe thead th {\n",
       "        text-align: right;\n",
       "    }\n",
       "</style>\n",
       "<table border=\"1\" class=\"dataframe\">\n",
       "  <thead>\n",
       "    <tr style=\"text-align: right;\">\n",
       "      <th></th>\n",
       "      <th>RouteName</th>\n",
       "      <th>OriginOID</th>\n",
       "      <th>DestinationOID</th>\n",
       "      <th>Total_Miles</th>\n",
       "      <th>StartTime</th>\n",
       "      <th>EndTime</th>\n",
       "      <th>Total_Minutes</th>\n",
       "    </tr>\n",
       "  </thead>\n",
       "  <tbody>\n",
       "    <tr>\n",
       "      <th>0</th>\n",
       "      <td>Route 1 - Detroit - Chicago</td>\n",
       "      <td>1533</td>\n",
       "      <td>63</td>\n",
       "      <td>274.211868</td>\n",
       "      <td>2023-11-14 01:32:28.997999907</td>\n",
       "      <td>2023-11-14 04:41:23.352999926</td>\n",
       "      <td>248.905923</td>\n",
       "    </tr>\n",
       "    <tr>\n",
       "      <th>1</th>\n",
       "      <td>Route 6 - Detroit - Pittsburgh</td>\n",
       "      <td>1533</td>\n",
       "      <td>2989</td>\n",
       "      <td>285.345568</td>\n",
       "      <td>2023-11-14 01:32:28.997999907</td>\n",
       "      <td>2023-11-14 05:54:34.802999973</td>\n",
       "      <td>262.096749</td>\n",
       "    </tr>\n",
       "    <tr>\n",
       "      <th>2</th>\n",
       "      <td>Route 2 - Detroit - Columbus</td>\n",
       "      <td>1533</td>\n",
       "      <td>256</td>\n",
       "      <td>325.214688</td>\n",
       "      <td>2023-11-14 01:32:28.997999907</td>\n",
       "      <td>2023-11-14 06:33:25.713000059</td>\n",
       "      <td>298.705449</td>\n",
       "    </tr>\n",
       "    <tr>\n",
       "      <th>3</th>\n",
       "      <td>Route 3 - Detroit - Buffalo</td>\n",
       "      <td>1533</td>\n",
       "      <td>2075</td>\n",
       "      <td>268.731447</td>\n",
       "      <td>2023-11-14 01:32:28.997999907</td>\n",
       "      <td>2023-11-14 05:56:56.494999886</td>\n",
       "      <td>264.458286</td>\n",
       "    </tr>\n",
       "    <tr>\n",
       "      <th>4</th>\n",
       "      <td>Route 4 - Detroit - Cleveland</td>\n",
       "      <td>1533</td>\n",
       "      <td>2385</td>\n",
       "      <td>168.141622</td>\n",
       "      <td>2023-11-14 01:32:28.997999907</td>\n",
       "      <td>2023-11-14 04:09:31.026000023</td>\n",
       "      <td>157.033805</td>\n",
       "    </tr>\n",
       "    <tr>\n",
       "      <th>5</th>\n",
       "      <td>Route 5 - Detroit - Columbus</td>\n",
       "      <td>1533</td>\n",
       "      <td>2387</td>\n",
       "      <td>203.186797</td>\n",
       "      <td>2023-11-14 01:32:28.997999907</td>\n",
       "      <td>2023-11-14 04:43:07.661000013</td>\n",
       "      <td>190.644381</td>\n",
       "    </tr>\n",
       "  </tbody>\n",
       "</table>\n",
       "</div>"
      ],
      "text/plain": [
       "                        RouteName  OriginOID  DestinationOID  Total_Miles  \\\n",
       "0     Route 1 - Detroit - Chicago       1533              63   274.211868   \n",
       "1  Route 6 - Detroit - Pittsburgh       1533            2989   285.345568   \n",
       "2    Route 2 - Detroit - Columbus       1533             256   325.214688   \n",
       "3     Route 3 - Detroit - Buffalo       1533            2075   268.731447   \n",
       "4   Route 4 - Detroit - Cleveland       1533            2385   168.141622   \n",
       "5    Route 5 - Detroit - Columbus       1533            2387   203.186797   \n",
       "\n",
       "                      StartTime                       EndTime  Total_Minutes  \n",
       "0 2023-11-14 01:32:28.997999907 2023-11-14 04:41:23.352999926     248.905923  \n",
       "1 2023-11-14 01:32:28.997999907 2023-11-14 05:54:34.802999973     262.096749  \n",
       "2 2023-11-14 01:32:28.997999907 2023-11-14 06:33:25.713000059     298.705449  \n",
       "3 2023-11-14 01:32:28.997999907 2023-11-14 05:56:56.494999886     264.458286  \n",
       "4 2023-11-14 01:32:28.997999907 2023-11-14 04:09:31.026000023     157.033805  \n",
       "5 2023-11-14 01:32:28.997999907 2023-11-14 04:43:07.661000013     190.644381  "
      ]
     },
     "execution_count": 46,
     "metadata": {},
     "output_type": "execute_result"
    }
   ],
   "source": [
    "#v_co2d = gis.content.get(\"\")\n",
    "od_cost_matrix_sublayer = FeatureLayer.fromitem(v_co2d, layer_id=0)\n",
    "print(od_cost_matrix_sublayer.url)\n",
    "od_df = od_cost_matrix_sublayer.query(where='1=1', as_df=True)\n",
    "\n",
    "# filter only the required columns\n",
    "od_df2 = od_df[['RouteName','OriginOID','DestinationOID','Total_Miles','StartTime','EndTime','Total_Minutes']]\n",
    "od_df2.tail(6)"
   ]
  },
  {
   "cell_type": "code",
   "execution_count": 47,
   "metadata": {
    "hidden": true
   },
   "outputs": [
    {
     "data": {
      "text/html": [
       "<div>\n",
       "<style scoped>\n",
       "    .dataframe tbody tr th:only-of-type {\n",
       "        vertical-align: middle;\n",
       "    }\n",
       "\n",
       "    .dataframe tbody tr th {\n",
       "        vertical-align: top;\n",
       "    }\n",
       "\n",
       "    .dataframe thead tr th {\n",
       "        text-align: left;\n",
       "    }\n",
       "\n",
       "    .dataframe thead tr:last-of-type th {\n",
       "        text-align: right;\n",
       "    }\n",
       "</style>\n",
       "<table border=\"1\" class=\"dataframe\">\n",
       "  <thead>\n",
       "    <tr>\n",
       "      <th></th>\n",
       "      <th colspan=\"6\" halign=\"left\">Total_Miles</th>\n",
       "      <th colspan=\"6\" halign=\"left\">Total_Minutes</th>\n",
       "    </tr>\n",
       "    <tr>\n",
       "      <th>DestinationOID</th>\n",
       "      <th>63</th>\n",
       "      <th>256</th>\n",
       "      <th>2075</th>\n",
       "      <th>2385</th>\n",
       "      <th>2387</th>\n",
       "      <th>2989</th>\n",
       "      <th>63</th>\n",
       "      <th>256</th>\n",
       "      <th>2075</th>\n",
       "      <th>2385</th>\n",
       "      <th>2387</th>\n",
       "      <th>2989</th>\n",
       "    </tr>\n",
       "    <tr>\n",
       "      <th>OriginOID</th>\n",
       "      <th></th>\n",
       "      <th></th>\n",
       "      <th></th>\n",
       "      <th></th>\n",
       "      <th></th>\n",
       "      <th></th>\n",
       "      <th></th>\n",
       "      <th></th>\n",
       "      <th></th>\n",
       "      <th></th>\n",
       "      <th></th>\n",
       "      <th></th>\n",
       "    </tr>\n",
       "  </thead>\n",
       "  <tbody>\n",
       "    <tr>\n",
       "      <th>1533</th>\n",
       "      <td>274.211868</td>\n",
       "      <td>325.214688</td>\n",
       "      <td>268.731447</td>\n",
       "      <td>168.141622</td>\n",
       "      <td>203.186797</td>\n",
       "      <td>285.345568</td>\n",
       "      <td>248.905923</td>\n",
       "      <td>298.705449</td>\n",
       "      <td>264.458286</td>\n",
       "      <td>157.033805</td>\n",
       "      <td>190.644381</td>\n",
       "      <td>262.096749</td>\n",
       "    </tr>\n",
       "  </tbody>\n",
       "</table>\n",
       "</div>"
      ],
      "text/plain": [
       "               Total_Miles                                                  \\\n",
       "DestinationOID        63          256         2075        2385        2387   \n",
       "OriginOID                                                                    \n",
       "1533            274.211868  325.214688  268.731447  168.141622  203.186797   \n",
       "\n",
       "                           Total_Minutes                                      \\\n",
       "DestinationOID        2989          63          256         2075        2385   \n",
       "OriginOID                                                                      \n",
       "1533            285.345568    248.905923  298.705449  264.458286  157.033805   \n",
       "\n",
       "                                        \n",
       "DestinationOID        2387        2989  \n",
       "OriginOID                               \n",
       "1533            190.644381  262.096749  "
      ]
     },
     "execution_count": 47,
     "metadata": {},
     "output_type": "execute_result"
    }
   ],
   "source": [
    "# user pivot_table\n",
    "od_pivot = od_df2.pivot_table(index='OriginOID', columns='DestinationOID')\n",
    "od_pivot"
   ]
  },
  {
   "cell_type": "markdown",
   "metadata": {
    "heading_collapsed": true
   },
   "source": [
    "### connect_origins_to_destinations en Colombia"
   ]
  },
  {
   "cell_type": "code",
   "execution_count": 116,
   "metadata": {
    "hidden": true
   },
   "outputs": [
    {
     "name": "stdout",
     "output_type": "stream",
     "text": [
      "https://services.arcgis.com/P3ePLMYs2RVChkJx/arcgis/rest/services/World_Cities/FeatureServer/0\n"
     ]
    },
    {
     "data": {
      "text/html": [
       "<div class=\"item_container\" style=\"height: auto; overflow: hidden; border: 1px solid #cfcfcf; border-radius: 2px; background: #f6fafa; line-height: 1.21429em; padding: 10px;\">\n",
       "                    <div class=\"item_left\" style=\"width: 210px; float: left;\">\n",
       "                       <a href='http://project-esri-co.maps.arcgis.com/home/item.html?id=6996f03a1b364dbab4008d99380370ed' target='_blank'>\n",
       "                        <img src='data:image/png;base64,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' width='200' height='133' class=\"itemThumbnail\">\n",
       "                       </a>\n",
       "                    </div>\n",
       "\n",
       "                    <div class=\"item_right\"     style=\"float: none; width: auto; overflow: hidden;\">\n",
       "                        <a href='http://project-esri-co.maps.arcgis.com/home/item.html?id=6996f03a1b364dbab4008d99380370ed' target='_blank'><b>World Cities</b>\n",
       "                        </a>\n",
       "                        <br/>This world cities layer presents the locations of many cities of the world.<img src='http://project-esri-co.maps.arcgis.com/home/js/jsapi/esri/css/images/item_type_icons/featureshosted16.png' style=\"vertical-align:middle;\">Feature Layer Collection by esri_dm\n",
       "                        <br/>Last Modified: January 22, 2021\n",
       "                        <br/>0 comments, 1,305,851 views\n",
       "                    </div>\n",
       "                </div>\n",
       "                "
      ],
      "text/plain": [
       "<Item title:\"World Cities\" type:Feature Layer Collection owner:esri_dm>"
      ]
     },
     "execution_count": 116,
     "metadata": {},
     "output_type": "execute_result"
    }
   ],
   "source": [
    "sample_cities2 = gis.content.search('title:\"World_Cities\" type:Feature Service', outside_org=True)[0]\n",
    "print(sample_cities2.layers[0].url)\n",
    "sample_cities2"
   ]
  },
  {
   "cell_type": "code",
   "execution_count": 117,
   "metadata": {
    "hidden": true
   },
   "outputs": [
    {
     "data": {
      "application/vnd.jupyter.widget-view+json": {
       "model_id": "7ebe675382984312a99b1b6052a5847c",
       "version_major": 2,
       "version_minor": 0
      },
      "text/plain": [
       "MapView(layout=Layout(height='400px', width='100%'))"
      ]
     },
     "metadata": {},
     "output_type": "display_data"
    },
    {
     "data": {
      "text/html": [
       "<div class=\"map-static-img-preview-5ae7ee24-7552-4352-90c8-2b73cbf8f657\"><img src=\"\"></img></div>"
      ],
      "text/plain": [
       "<IPython.core.display.HTML object>"
      ]
     },
     "metadata": {},
     "output_type": "display_data"
    },
    {
     "data": {
      "text/html": [
       "<div class=\"map-html-embed-preview-5ae7ee24-7552-4352-90c8-2b73cbf8f657\"></div>"
      ],
      "text/plain": [
       "<IPython.core.display.HTML object>"
      ]
     },
     "metadata": {},
     "output_type": "display_data"
    }
   ],
   "source": [
    "cities_fl2 = FeatureLayer(sample_cities2.url + \"/0\")\n",
    "stops_layer2 = {'url': sample_cities2.layers[0].url, 'filter': \"CNTRY_NAME='Colombia' AND CNTRY_NAME={0} AND POP>500000\"}\n",
    "end_cities_fset2 = cities_fl2.query(where=\"CNTRY_NAME='Colombia' AND CITY_NAME <> 'Bogota' AND POP>500000\", as_df=False)\n",
    "\n",
    "start_layer2 = {'url': sample_cities2.layers[0].url, 'filter': \"CNTRY_NAME='Colombia' AND CITY_NAME='Bogota'\"}\n",
    "start_cities_fset2 = cities_fl2.query(where=\"CNTRY_NAME='Colombia' AND CITY_NAME='Bogota'\", as_df=False)\n",
    "\n",
    "map4a2 = gis.map('Bogota, Colombia')\n",
    "map4a2"
   ]
  },
  {
   "cell_type": "code",
   "execution_count": 118,
   "metadata": {
    "hidden": true
   },
   "outputs": [
    {
     "name": "stdout",
     "output_type": "stream",
     "text": [
      "origins_cities: 1 ; destinations_cities: 7\n"
     ]
    }
   ],
   "source": [
    "print(\"origins_cities:\", len(start_cities_fset2.features), \"; destinations_cities:\", len(end_cities_fset2.features))\n",
    "\n",
    "map4a2.clear_graphics()\n",
    "map4a2.draw(start_cities_fset2, symbol=start_symbol)\n",
    "map4a2.draw(end_cities_fset2, symbol=end_symbol)\n",
    "map4a2.zoom_to_layer(end_cities_fset2)"
   ]
  },
  {
   "cell_type": "code",
   "execution_count": null,
   "metadata": {
    "hidden": true
   },
   "outputs": [],
   "source": [
    "%%time\n",
    "current_time= dt.datetime.now()\n",
    "v_co2d2 = connect_origins_to_destinations(origins_layer=start_layer2, \n",
    "                                          destinations_layer=stops_layer2,\n",
    "                                          context={'outSR': {\"wkid\": 4326}},\n",
    "                                          time_of_day=current_time,\n",
    "                                          output_name=\"OD Cost Matrix ({}-{}) Colombia\".format(current_time.year, current_time.month))\n",
    "v_co2d2"
   ]
  },
  {
   "cell_type": "code",
   "execution_count": null,
   "metadata": {
    "hidden": true
   },
   "outputs": [],
   "source": [
    "od_cost_matrix_sublayer2 = FeatureLayer.fromitem(v_co2d2, layer_id=0)\n",
    "print(od_cost_matrix_sublayer2.url)\n",
    "od_df2 = od_cost_matrix_sublayer2.query(where='1=1', as_df=True)\n",
    "od_df2\n",
    "\n",
    "# filter only the required columns\n",
    "od_df22 = od_df2[['RouteName','OriginOID','DestinationOID','Total_Miles','StartTime','EndTime','Total_Minutes']]\n",
    "od_df22.tail(6)"
   ]
  },
  {
   "cell_type": "code",
   "execution_count": null,
   "metadata": {
    "hidden": true
   },
   "outputs": [],
   "source": [
    "# user pivot_table\n",
    "od_pivot2 = od_df22.pivot_table(index='OriginOID', columns='DestinationOID')\n",
    "od_pivot2"
   ]
  },
  {
   "cell_type": "code",
   "execution_count": null,
   "metadata": {
    "hidden": true
   },
   "outputs": [],
   "source": [
    "map4a2.add_layer(v_co2d2)"
   ]
  },
  {
   "cell_type": "markdown",
   "metadata": {
    "heading_collapsed": true
   },
   "source": [
    "### connect_origins_to_destinations (Florida)"
   ]
  },
  {
   "cell_type": "code",
   "execution_count": 54,
   "metadata": {
    "hidden": true
   },
   "outputs": [
    {
     "data": {
      "application/vnd.jupyter.widget-view+json": {
       "model_id": "448db958572e4392a453e7bb34ae451a",
       "version_major": 2,
       "version_minor": 0
      },
      "text/plain": [
       "MapView(layout=Layout(height='400px', width='100%'))"
      ]
     },
     "metadata": {},
     "output_type": "display_data"
    },
    {
     "data": {
      "text/html": [
       "<div class=\"map-static-img-preview-66a26be6-f941-4edb-a360-42692951d6d5\"><img src=\"\"></img></div>"
      ],
      "text/plain": [
       "<IPython.core.display.HTML object>"
      ]
     },
     "metadata": {},
     "output_type": "display_data"
    },
    {
     "data": {
      "text/html": [
       "<div class=\"map-html-embed-preview-66a26be6-f941-4edb-a360-42692951d6d5\"></div>"
      ],
      "text/plain": [
       "<IPython.core.display.HTML object>"
      ]
     },
     "metadata": {},
     "output_type": "display_data"
    }
   ],
   "source": [
    "cities_fl = FeatureLayer(sample_cities.url + \"/0\")\n",
    "filter_where_end = \"ST='FL' AND POPULATION>100000 AND NAME <> 'Miami'\"\n",
    "stops_layer = {'url': sample_cities.layers[0].url, 'filter': filter_where_end}\n",
    "end_cities_fset = cities_fl.query(where=filter_where_end, as_df=False)\n",
    "\n",
    "start_layer = {'url': sample_cities.layers[0].url, 'filter': \"ST='FL' AND NAME='Miami'\"}\n",
    "start_cities_fset = cities_fl.query(where=\"ST='FL' AND NAME='Miami'\", as_df=False)\n",
    "\n",
    "map4b = gis.map('Miami, FL')\n",
    "map4b"
   ]
  },
  {
   "cell_type": "code",
   "execution_count": 55,
   "metadata": {
    "hidden": true
   },
   "outputs": [
    {
     "name": "stdout",
     "output_type": "stream",
     "text": [
      "origins_layer: 1 ; destinations_layer: 24\n"
     ]
    }
   ],
   "source": [
    "print(\"origins_layer:\", len(start_cities_fset.features), \"; destinations_layer:\", len(end_cities_fset.features))\n",
    "map4b.draw(start_cities_fset, symbol=start_symbol)\n",
    "map4b.draw(end_cities_fset, symbol=end_symbol)\n",
    "map4b.zoom_to_layer(end_cities_fset)"
   ]
  },
  {
   "cell_type": "code",
   "execution_count": 56,
   "metadata": {
    "hidden": true
   },
   "outputs": [
    {
     "name": "stderr",
     "output_type": "stream",
     "text": [
      "Network elements with avoid-restrictions are traversed in the output (restriction attribute names: \"Through Traffic Prohibited\").\n",
      "{\"cost\": 0.12}\n"
     ]
    },
    {
     "name": "stdout",
     "output_type": "stream",
     "text": [
      "Wall time: 45.5 s\n"
     ]
    },
    {
     "data": {
      "text/html": [
       "<div class=\"item_container\" style=\"height: auto; overflow: hidden; border: 1px solid #cfcfcf; border-radius: 2px; background: #f6fafa; line-height: 1.21429em; padding: 10px;\">\n",
       "                    <div class=\"item_left\" style=\"width: 210px; float: left;\">\n",
       "                       <a href='http://project-esri-co.maps.arcgis.com/home/item.html?id=274b1dcae2424779a171398e0de468d8' target='_blank'>\n",
       "                        <img src='http://static.arcgis.com/images/desktopapp.png' class=\"itemThumbnail\">\n",
       "                       </a>\n",
       "                    </div>\n",
       "\n",
       "                    <div class=\"item_right\"     style=\"float: none; width: auto; overflow: hidden;\">\n",
       "                        <a href='http://project-esri-co.maps.arcgis.com/home/item.html?id=274b1dcae2424779a171398e0de468d8' target='_blank'><b>OD_Cost_Matrix_(2023-11)_Florida</b>\n",
       "                        </a>\n",
       "                        <br/><img src='http://project-esri-co.maps.arcgis.com/home/js/jsapi/esri/css/images/item_type_icons/featureshosted16.png' style=\"vertical-align:middle;\">Feature Layer Collection by wmoreno_project_esri_co\n",
       "                        <br/>Last Modified: November 13, 2023\n",
       "                        <br/>0 comments, 0 views\n",
       "                    </div>\n",
       "                </div>\n",
       "                "
      ],
      "text/plain": [
       "<Item title:\"OD_Cost_Matrix_(2023-11)_Florida\" type:Feature Layer Collection owner:wmoreno_project_esri_co>"
      ]
     },
     "execution_count": 56,
     "metadata": {},
     "output_type": "execute_result"
    }
   ],
   "source": [
    "%%time\n",
    "current_time= dt.datetime.now()\n",
    "v_co2d = connect_origins_to_destinations(origins_layer=start_layer, \n",
    "                                        destinations_layer=stops_layer,\n",
    "                                        context={'outSR': {\"wkid\": 4326}},\n",
    "                                        time_of_day=current_time,     \n",
    "                                        output_name=\"OD Cost Matrix ({}-{}) Florida\".format(current_time.year, current_time.month))\n",
    "v_co2d"
   ]
  },
  {
   "cell_type": "code",
   "execution_count": 57,
   "metadata": {
    "hidden": true
   },
   "outputs": [],
   "source": [
    "map4b.add_layer(v_co2d)"
   ]
  },
  {
   "cell_type": "code",
   "execution_count": 58,
   "metadata": {
    "hidden": true
   },
   "outputs": [
    {
     "name": "stdout",
     "output_type": "stream",
     "text": [
      "https://services1.arcgis.com/7S16A7PAFcmSmqJA/arcgis/rest/services/OD_Cost_Matrix_(2023-11)_Florida/FeatureServer/0\n"
     ]
    },
    {
     "data": {
      "text/html": [
       "<div>\n",
       "<style scoped>\n",
       "    .dataframe tbody tr th:only-of-type {\n",
       "        vertical-align: middle;\n",
       "    }\n",
       "\n",
       "    .dataframe tbody tr th {\n",
       "        vertical-align: top;\n",
       "    }\n",
       "\n",
       "    .dataframe thead th {\n",
       "        text-align: right;\n",
       "    }\n",
       "</style>\n",
       "<table border=\"1\" class=\"dataframe\">\n",
       "  <thead>\n",
       "    <tr style=\"text-align: right;\">\n",
       "      <th></th>\n",
       "      <th>RouteName</th>\n",
       "      <th>OriginOID</th>\n",
       "      <th>DestinationOID</th>\n",
       "      <th>Total_Miles</th>\n",
       "      <th>StartTime</th>\n",
       "      <th>EndTime</th>\n",
       "      <th>Total_Minutes</th>\n",
       "    </tr>\n",
       "  </thead>\n",
       "  <tbody>\n",
       "    <tr>\n",
       "      <th>18</th>\n",
       "      <td>Route 4 - Miami - Coral Springs</td>\n",
       "      <td>1724</td>\n",
       "      <td>1603</td>\n",
       "      <td>47.595273</td>\n",
       "      <td>2023-11-14 01:39:31.595999956</td>\n",
       "      <td>2023-11-14 02:30:35.884000063</td>\n",
       "      <td>51.071468</td>\n",
       "    </tr>\n",
       "    <tr>\n",
       "      <th>19</th>\n",
       "      <td>Route 5 - Miami - Davie</td>\n",
       "      <td>1724</td>\n",
       "      <td>1611</td>\n",
       "      <td>24.067057</td>\n",
       "      <td>2023-11-14 01:39:31.595999956</td>\n",
       "      <td>2023-11-14 02:10:36.680000067</td>\n",
       "      <td>31.08473</td>\n",
       "    </tr>\n",
       "    <tr>\n",
       "      <th>20</th>\n",
       "      <td>Route 6 - Miami - Fort Lauderdale</td>\n",
       "      <td>1724</td>\n",
       "      <td>1640</td>\n",
       "      <td>29.508081</td>\n",
       "      <td>2023-11-14 01:39:31.595999956</td>\n",
       "      <td>2023-11-14 02:14:17.142999887</td>\n",
       "      <td>34.759109</td>\n",
       "    </tr>\n",
       "    <tr>\n",
       "      <th>21</th>\n",
       "      <td>Route 7 - Miami - Gainesville</td>\n",
       "      <td>1724</td>\n",
       "      <td>1648</td>\n",
       "      <td>336.825639</td>\n",
       "      <td>2023-11-14 01:39:31.595999956</td>\n",
       "      <td>2023-11-14 06:44:20.460000038</td>\n",
       "      <td>304.814395</td>\n",
       "    </tr>\n",
       "    <tr>\n",
       "      <th>22</th>\n",
       "      <td>Route 8 - Miami - Hialeah</td>\n",
       "      <td>1724</td>\n",
       "      <td>1663</td>\n",
       "      <td>9.320515</td>\n",
       "      <td>2023-11-14 01:39:31.595999956</td>\n",
       "      <td>2023-11-14 01:57:55.548000097</td>\n",
       "      <td>18.399202</td>\n",
       "    </tr>\n",
       "    <tr>\n",
       "      <th>23</th>\n",
       "      <td>Route 9 - Miami - Hollywood</td>\n",
       "      <td>1724</td>\n",
       "      <td>1669</td>\n",
       "      <td>21.062144</td>\n",
       "      <td>2023-11-14 01:39:31.595999956</td>\n",
       "      <td>2023-11-14 02:07:06.811000109</td>\n",
       "      <td>27.586924</td>\n",
       "    </tr>\n",
       "  </tbody>\n",
       "</table>\n",
       "</div>"
      ],
      "text/plain": [
       "                            RouteName  OriginOID  DestinationOID  Total_Miles  \\\n",
       "18    Route 4 - Miami - Coral Springs       1724            1603    47.595273   \n",
       "19            Route 5 - Miami - Davie       1724            1611    24.067057   \n",
       "20  Route 6 - Miami - Fort Lauderdale       1724            1640    29.508081   \n",
       "21      Route 7 - Miami - Gainesville       1724            1648   336.825639   \n",
       "22          Route 8 - Miami - Hialeah       1724            1663     9.320515   \n",
       "23        Route 9 - Miami - Hollywood       1724            1669    21.062144   \n",
       "\n",
       "                       StartTime                       EndTime  Total_Minutes  \n",
       "18 2023-11-14 01:39:31.595999956 2023-11-14 02:30:35.884000063      51.071468  \n",
       "19 2023-11-14 01:39:31.595999956 2023-11-14 02:10:36.680000067       31.08473  \n",
       "20 2023-11-14 01:39:31.595999956 2023-11-14 02:14:17.142999887      34.759109  \n",
       "21 2023-11-14 01:39:31.595999956 2023-11-14 06:44:20.460000038     304.814395  \n",
       "22 2023-11-14 01:39:31.595999956 2023-11-14 01:57:55.548000097      18.399202  \n",
       "23 2023-11-14 01:39:31.595999956 2023-11-14 02:07:06.811000109      27.586924  "
      ]
     },
     "execution_count": 58,
     "metadata": {},
     "output_type": "execute_result"
    }
   ],
   "source": [
    "#v_co2d = gis.content.get(\"\")\n",
    "od_cost_matrix_sublayer = FeatureLayer.fromitem(v_co2d, layer_id=0)\n",
    "print(od_cost_matrix_sublayer.url)\n",
    "od_df = od_cost_matrix_sublayer.query(where='1=1', as_df=True)\n",
    "od_df\n",
    "# filter only the required columns\n",
    "od_df2 = od_df[['RouteName','OriginOID','DestinationOID','Total_Miles','StartTime','EndTime','Total_Minutes']]\n",
    "od_df2.tail(6)"
   ]
  },
  {
   "cell_type": "code",
   "execution_count": 59,
   "metadata": {
    "hidden": true
   },
   "outputs": [
    {
     "data": {
      "text/html": [
       "<div>\n",
       "<style scoped>\n",
       "    .dataframe tbody tr th:only-of-type {\n",
       "        vertical-align: middle;\n",
       "    }\n",
       "\n",
       "    .dataframe tbody tr th {\n",
       "        vertical-align: top;\n",
       "    }\n",
       "\n",
       "    .dataframe thead tr th {\n",
       "        text-align: left;\n",
       "    }\n",
       "\n",
       "    .dataframe thead tr:last-of-type th {\n",
       "        text-align: right;\n",
       "    }\n",
       "</style>\n",
       "<table border=\"1\" class=\"dataframe\">\n",
       "  <thead>\n",
       "    <tr>\n",
       "      <th></th>\n",
       "      <th colspan=\"10\" halign=\"left\">Total_Miles</th>\n",
       "      <th>...</th>\n",
       "      <th colspan=\"10\" halign=\"left\">Total_Minutes</th>\n",
       "    </tr>\n",
       "    <tr>\n",
       "      <th>DestinationOID</th>\n",
       "      <th>784</th>\n",
       "      <th>790</th>\n",
       "      <th>795</th>\n",
       "      <th>1603</th>\n",
       "      <th>1611</th>\n",
       "      <th>1640</th>\n",
       "      <th>1648</th>\n",
       "      <th>1663</th>\n",
       "      <th>1669</th>\n",
       "      <th>1678</th>\n",
       "      <th>...</th>\n",
       "      <th>1757</th>\n",
       "      <th>1762</th>\n",
       "      <th>1776</th>\n",
       "      <th>1786</th>\n",
       "      <th>1790</th>\n",
       "      <th>1802</th>\n",
       "      <th>1818</th>\n",
       "      <th>1825</th>\n",
       "      <th>1828</th>\n",
       "      <th>1861</th>\n",
       "    </tr>\n",
       "    <tr>\n",
       "      <th>OriginOID</th>\n",
       "      <th></th>\n",
       "      <th></th>\n",
       "      <th></th>\n",
       "      <th></th>\n",
       "      <th></th>\n",
       "      <th></th>\n",
       "      <th></th>\n",
       "      <th></th>\n",
       "      <th></th>\n",
       "      <th></th>\n",
       "      <th></th>\n",
       "      <th></th>\n",
       "      <th></th>\n",
       "      <th></th>\n",
       "      <th></th>\n",
       "      <th></th>\n",
       "      <th></th>\n",
       "      <th></th>\n",
       "      <th></th>\n",
       "      <th></th>\n",
       "      <th></th>\n",
       "    </tr>\n",
       "  </thead>\n",
       "  <tbody>\n",
       "    <tr>\n",
       "      <th>1724</th>\n",
       "      <td>274.289165</td>\n",
       "      <td>161.548188</td>\n",
       "      <td>284.705593</td>\n",
       "      <td>47.595273</td>\n",
       "      <td>24.067057</td>\n",
       "      <td>29.508081</td>\n",
       "      <td>336.825639</td>\n",
       "      <td>9.320515</td>\n",
       "      <td>21.062144</td>\n",
       "      <td>345.100843</td>\n",
       "      <td>...</td>\n",
       "      <td>216.834292</td>\n",
       "      <td>162.028163</td>\n",
       "      <td>32.487356</td>\n",
       "      <td>43.426358</td>\n",
       "      <td>116.086677</td>\n",
       "      <td>236.077258</td>\n",
       "      <td>299.69105</td>\n",
       "      <td>432.502843</td>\n",
       "      <td>251.213309</td>\n",
       "      <td>73.865497</td>\n",
       "    </tr>\n",
       "  </tbody>\n",
       "</table>\n",
       "<p>1 rows × 48 columns</p>\n",
       "</div>"
      ],
      "text/plain": [
       "               Total_Miles                                                \\\n",
       "DestinationOID        784         790         795        1603       1611   \n",
       "OriginOID                                                                  \n",
       "1724            274.289165  161.548188  284.705593  47.595273  24.067057   \n",
       "\n",
       "                                                                        ...  \\\n",
       "DestinationOID       1640        1648      1663       1669        1678  ...   \n",
       "OriginOID                                                               ...   \n",
       "1724            29.508081  336.825639  9.320515  21.062144  345.100843  ...   \n",
       "\n",
       "               Total_Minutes                                                \\\n",
       "DestinationOID          1757        1762       1776       1786        1790   \n",
       "OriginOID                                                                    \n",
       "1724              216.834292  162.028163  32.487356  43.426358  116.086677   \n",
       "\n",
       "                                                                          \n",
       "DestinationOID        1802       1818        1825        1828       1861  \n",
       "OriginOID                                                                 \n",
       "1724            236.077258  299.69105  432.502843  251.213309  73.865497  \n",
       "\n",
       "[1 rows x 48 columns]"
      ]
     },
     "execution_count": 59,
     "metadata": {},
     "output_type": "execute_result"
    }
   ],
   "source": [
    "# user pivot_table\n",
    "od_pivot = od_df2.pivot_table(index='OriginOID', columns='DestinationOID')\n",
    "od_pivot"
   ]
  },
  {
   "cell_type": "markdown",
   "metadata": {
    "heading_collapsed": true
   },
   "source": [
    "### calculate_density"
   ]
  },
  {
   "cell_type": "code",
   "execution_count": 65,
   "metadata": {
    "hidden": true
   },
   "outputs": [
    {
     "name": "stderr",
     "output_type": "stream",
     "text": [
      "{\"cost\": 0.024}\n"
     ]
    },
    {
     "data": {
      "text/plain": [
       "<FeatureCollection>"
      ]
     },
     "execution_count": 65,
     "metadata": {},
     "output_type": "execute_result"
    }
   ],
   "source": [
    "v_calculate_density = calculate_density(stops_layer, field=\"POPULATION\", cell_size_units='Kilometers')\n",
    "v_calculate_density"
   ]
  },
  {
   "cell_type": "code",
   "execution_count": 75,
   "metadata": {
    "hidden": true
   },
   "outputs": [
    {
     "data": {
      "application/vnd.jupyter.widget-view+json": {
       "model_id": "6c7a6bfa31104b16b910397cea7df446",
       "version_major": 2,
       "version_minor": 0
      },
      "text/plain": [
       "MapView(layout=Layout(height='400px', width='100%'))"
      ]
     },
     "metadata": {},
     "output_type": "display_data"
    },
    {
     "data": {
      "text/html": [
       "<div class=\"map-static-img-preview-31b789a4-3413-45f4-b0a2-672d612668d6\"><img src=\"\"></img></div>"
      ],
      "text/plain": [
       "<IPython.core.display.HTML object>"
      ]
     },
     "metadata": {},
     "output_type": "display_data"
    },
    {
     "data": {
      "text/html": [
       "<div class=\"map-html-embed-preview-31b789a4-3413-45f4-b0a2-672d612668d6\"></div>"
      ],
      "text/plain": [
       "<IPython.core.display.HTML object>"
      ]
     },
     "metadata": {},
     "output_type": "display_data"
    }
   ],
   "source": [
    "map_density = gis.map(\"Florida US\")\n",
    "map_density.add_layer(v_calculate_density)\n",
    "map_density"
   ]
  },
  {
   "cell_type": "markdown",
   "metadata": {
    "heading_collapsed": true
   },
   "source": [
    "### create_drive_time_areas"
   ]
  },
  {
   "cell_type": "code",
   "execution_count": 36,
   "metadata": {
    "hidden": true
   },
   "outputs": [
    {
     "name": "stdout",
     "output_type": "stream",
     "text": [
      "Total number of rows in the clinic dataset: 122\n",
      "User does not have permissions to access this resource.\n",
      "(Error Code: 403)\n"
     ]
    }
   ],
   "source": [
    "# Layer URLS for the Opioid Epidemic Clinics in Oakland County and Census Block Groups of Oakland County\n",
    "clinic_url = 'https://services8.arcgis.com/TWfU0bgvgUkCgHLa/arcgis/rest/services/Oakland_County_Licensed_Program_Listings/FeatureServer/0'\n",
    "clinic_layer = FeatureLayer(clinic_url, gis=gis)\n",
    "clinic_features = clinic_layer.query()\n",
    "print('Total number of rows in the clinic dataset: ' + str(len(clinic_features.features)))\n",
    "try:\n",
    "    # Generate service areas\n",
    "    result = create_drive_time_areas(clinic_layer,\n",
    "                                     break_values=[5, 10, 15, 20, 25], \n",
    "                                     output_name=\"DriveTimeToClinics_All_2\", \n",
    "                                     overlap_policy='Dissolve',\n",
    "                                     estimate=False)\n",
    "    result\n",
    "except Exception as ex:\n",
    "    print(str(ex))"
   ]
  },
  {
   "cell_type": "code",
   "execution_count": 49,
   "metadata": {
    "hidden": true
   },
   "outputs": [
    {
     "name": "stdout",
     "output_type": "stream",
     "text": [
      "https://services2.arcgis.com/j80Jz20at6Bi0thr/arcgis/rest/services/Half_Mile_Walking_Distances_from_Schools_(Your_Name)/FeatureServer/0\n"
     ]
    },
    {
     "data": {
      "text/plain": [
       "<FeatureLayer url:\"https://services1.arcgis.com/7S16A7PAFcmSmqJA/arcgis/rest/services/psud_schools_drivetime852491/FeatureServer/0\">"
      ]
     },
     "execution_count": 49,
     "metadata": {},
     "output_type": "execute_result"
    }
   ],
   "source": [
    "schools = gis.content.search('PUSD schools, owner:Learn_ArcGIS', 'Feature Layer',outside_org=True)[0]\n",
    "print(schools.layers[0].url)\n",
    "item_fs_cdta = gis.content.search('psud_schools_drivetime, owner:'+gis.users.me.username, 'Feature Layer')\n",
    "if len(item_fs_cdta)>0:\n",
    "    walk_dist_from_schools = item_fs_cdta[0].layers[0]\n",
    "else:\n",
    "    try:\n",
    "        walk_dist_from_schools = create_drive_time_areas(schools.layers[0],\n",
    "                                                         break_values=[0.5],\n",
    "                                                         break_units='Miles',\n",
    "                                                         travel_mode='Walking Distance',\n",
    "                                                         output_name='psud_schools_drivetime' + str(dt.datetime.now().microsecond)\n",
    "                                                        )\n",
    "        result\n",
    "    except Exception as ex:\n",
    "        print(str(ex))\n",
    "walk_dist_from_schools\n",
    "cdta_map = gis.map()\n",
    "cdta_map.add_layer(walk_dist_from_schools)\n",
    "cdta_map.zoom_to_layer(walk_dist_from_schools)\n",
    "cdta_map"
   ]
  },
  {
   "cell_type": "markdown",
   "metadata": {
    "heading_collapsed": true
   },
   "source": [
    "### find_hot_spots"
   ]
  },
  {
   "cell_type": "code",
   "execution_count": 51,
   "metadata": {
    "hidden": true
   },
   "outputs": [
    {
     "name": "stdout",
     "output_type": "stream",
     "text": [
      "https://services.arcgis.com/ue9rwulIoeLEI9bj/arcgis/rest/services/Puget_Sound_Traffic_Incidents/FeatureServer/0\n"
     ]
    },
    {
     "data": {
      "application/vnd.jupyter.widget-view+json": {
       "model_id": "5c5b5f585c7a4557a14bb7444e37e41f",
       "version_major": 2,
       "version_minor": 0
      },
      "text/plain": [
       "MapView(layout=Layout(height='400px', width='100%'))"
      ]
     },
     "metadata": {},
     "output_type": "display_data"
    },
    {
     "data": {
      "text/html": [
       "<div class=\"map-static-img-preview-6e48f552-e976-489f-b7bc-1e5cb7793383\"><img src=\"\"></img></div>"
      ],
      "text/plain": [
       "<IPython.core.display.HTML object>"
      ]
     },
     "metadata": {},
     "output_type": "display_data"
    },
    {
     "data": {
      "text/html": [
       "<div class=\"map-html-embed-preview-6e48f552-e976-489f-b7bc-1e5cb7793383\"></div>"
      ],
      "text/plain": [
       "<IPython.core.display.HTML object>"
      ]
     },
     "metadata": {},
     "output_type": "display_data"
    }
   ],
   "source": [
    "map1 = gis.map(\"Seattle, WA\")\n",
    "search_results = gis.content.search(\"title:Puget Sound Traffic Incidents\", item_type=\"Feature Service\", outside_org=True)\n",
    "incidents_feature_layer_collection = search_results[0]\n",
    "incidents_feature_layer = incidents_feature_layer_collection.layers[0]\n",
    "print(incidents_feature_layer.url)\n",
    "map1.add_layer(incidents_feature_layer)\n",
    "map1"
   ]
  },
  {
   "cell_type": "code",
   "execution_count": 54,
   "metadata": {
    "hidden": true,
    "scrolled": true
   },
   "outputs": [
    {
     "data": {
      "text/html": [
       "<div class=\"item_container\" style=\"height: auto; overflow: hidden; border: 1px solid #cfcfcf; border-radius: 2px; background: #f6fafa; line-height: 1.21429em; padding: 10px;\">\n",
       "                    <div class=\"item_left\" style=\"width: 210px; float: left;\">\n",
       "                       <a href='http://project-esri-co.maps.arcgis.com/home/item.html?id=620a3e1e696f4bbd8e40905ee3f7a1cc' target='_blank'>\n",
       "                        <img src='http://static.arcgis.com/images/desktopapp.png' class=\"itemThumbnail\">\n",
       "                       </a>\n",
       "                    </div>\n",
       "\n",
       "                    <div class=\"item_right\"     style=\"float: none; width: auto; overflow: hidden;\">\n",
       "                        <a href='http://project-esri-co.maps.arcgis.com/home/item.html?id=620a3e1e696f4bbd8e40905ee3f7a1cc' target='_blank'><b>Puget_Sound_Traffic_Stops_WR</b>\n",
       "                        </a>\n",
       "                        <br/><img src='http://project-esri-co.maps.arcgis.com/home/js/jsapi/esri/css/images/item_type_icons/featureshosted16.png' style=\"vertical-align:middle;\">Feature Layer Collection by wmoreno_project_esri_co\n",
       "                        <br/>Last Modified: November 13, 2023\n",
       "                        <br/>0 comments, 3 views\n",
       "                    </div>\n",
       "                </div>\n",
       "                "
      ],
      "text/plain": [
       "<Item title:\"Puget_Sound_Traffic_Stops_WR\" type:Feature Layer Collection owner:wmoreno_project_esri_co>"
      ]
     },
     "execution_count": 54,
     "metadata": {},
     "output_type": "execute_result"
    }
   ],
   "source": [
    "item_fs_cdta = gis.content.search('Puget_Sound_Traffic_Stops_WR, owner:'+gis.users.me.username, 'Feature Layer')\n",
    "if len(item_fs_cdta)>0:\n",
    "    v_find_hot_spots = item_fs_cdta[0]\n",
    "else:\n",
    "    v_find_hot_spots = find_hot_spots(incidents_feature_layer, output_name='Puget Sound Traffic Stops WR')\n",
    "v_find_hot_spots"
   ]
  },
  {
   "cell_type": "code",
   "execution_count": 55,
   "metadata": {
    "hidden": true,
    "scrolled": true
   },
   "outputs": [
    {
     "data": {
      "application/vnd.jupyter.widget-view+json": {
       "model_id": "e83eb03f00b24b96a53c031a9d7ca562",
       "version_major": 2,
       "version_minor": 0
      },
      "text/plain": [
       "MapView(layout=Layout(height='400px', width='100%'))"
      ]
     },
     "metadata": {},
     "output_type": "display_data"
    },
    {
     "data": {
      "text/html": [
       "<div class=\"map-static-img-preview-6b148da7-347d-4922-820e-5788e2e315e2\"><img src=\"\"></img></div>"
      ],
      "text/plain": [
       "<IPython.core.display.HTML object>"
      ]
     },
     "metadata": {},
     "output_type": "display_data"
    },
    {
     "data": {
      "text/html": [
       "<div class=\"map-html-embed-preview-6b148da7-347d-4922-820e-5788e2e315e2\"></div>"
      ],
      "text/plain": [
       "<IPython.core.display.HTML object>"
      ]
     },
     "metadata": {},
     "output_type": "display_data"
    }
   ],
   "source": [
    "hotspot_feature_layer = v_find_hot_spots.layers[0]\n",
    "fhs_map = gis.map(\"Seattle, WA\")\n",
    "fhs_map.add_layer(hotspot_feature_layer)\n",
    "fhs_map.zoom_to_layer(hotspot_feature_layer)\n",
    "fhs_map"
   ]
  },
  {
   "cell_type": "markdown",
   "metadata": {
    "heading_collapsed": true
   },
   "source": [
    "### find_hot_spots (SGC)"
   ]
  },
  {
   "cell_type": "code",
   "execution_count": 95,
   "metadata": {
    "hidden": true
   },
   "outputs": [
    {
     "name": "stdout",
     "output_type": "stream",
     "text": [
      "Layer: Direccion\n"
     ]
    },
    {
     "data": {
      "application/vnd.jupyter.widget-view+json": {
       "model_id": "6969f62dce0743828bc2c6611c169157",
       "version_major": 2,
       "version_minor": 0
      },
      "text/plain": [
       "MapView(layout=Layout(height='400px', width='100%'))"
      ]
     },
     "metadata": {},
     "output_type": "display_data"
    },
    {
     "data": {
      "text/html": [
       "<div class=\"map-static-img-preview-3c1daa59-bf34-480d-92f3-2282f059859a\"><img src=\"\"></img></div>"
      ],
      "text/plain": [
       "<IPython.core.display.HTML object>"
      ]
     },
     "metadata": {},
     "output_type": "display_data"
    },
    {
     "data": {
      "text/html": [
       "<div class=\"map-html-embed-preview-3c1daa59-bf34-480d-92f3-2282f059859a\"></div>"
      ],
      "text/plain": [
       "<IPython.core.display.HTML object>"
      ]
     },
     "metadata": {},
     "output_type": "display_data"
    }
   ],
   "source": [
    "print(\"Layer:\",lyr_direccion.properties.name)\n",
    "try:\n",
    "    v_find_hot_spots = find_hot_spots(lyr_direccion, output_name=\"wrm_find_hot_spots_direccion\", gis=gis)\n",
    "except Exception as ex:\n",
    "    print(str(ex))\n",
    "fhs_map_sgc = gis.map(\"Colombia\")\n",
    "fhs_map_sgc.add_layer(v_find_hot_spots)\n",
    "fhs_map_sgc.zoom_to_layer(v_find_hot_spots)\n",
    "fhs_map_sgc"
   ]
  },
  {
   "cell_type": "markdown",
   "metadata": {
    "heading_collapsed": true
   },
   "source": [
    "### create_buffers"
   ]
  },
  {
   "cell_type": "code",
   "execution_count": 58,
   "metadata": {
    "hidden": true,
    "scrolled": true
   },
   "outputs": [
    {
     "name": "stdout",
     "output_type": "stream",
     "text": [
      "https://services.arcgis.com/mBg08vgayOnqC7Si/arcgis/rest/services/Rios_principales/FeatureServer/0\n"
     ]
    },
    {
     "data": {
      "application/vnd.jupyter.widget-view+json": {
       "model_id": "bb02fd24d73b4162a18c04869d58b575",
       "version_major": 2,
       "version_minor": 0
      },
      "text/plain": [
       "MapView(layout=Layout(height='400px', width='100%'))"
      ]
     },
     "metadata": {},
     "output_type": "display_data"
    },
    {
     "data": {
      "text/html": [
       "<div class=\"map-static-img-preview-08405c36-1985-472b-a503-92bb19b6182a\"><img src=\"\"></img></div>"
      ],
      "text/plain": [
       "<IPython.core.display.HTML object>"
      ]
     },
     "metadata": {},
     "output_type": "display_data"
    },
    {
     "data": {
      "text/html": [
       "<div class=\"map-html-embed-preview-08405c36-1985-472b-a503-92bb19b6182a\"></div>"
      ],
      "text/plain": [
       "<IPython.core.display.HTML object>"
      ]
     },
     "metadata": {},
     "output_type": "display_data"
    }
   ],
   "source": [
    "itemId_rios = \"5ad86d68572540698a1d2f40131546c7\" #Red hídrica Colombia\n",
    "flc_rios = gis.content.get(itemId_rios)\n",
    "fl_rios = flc_rios.layers[0]\n",
    "print(fl_rios.url)\n",
    "rivers_map = gis.map(\"Colombia\")\n",
    "rivers_map.add_layer(fl_rios)\n",
    "rivers_map"
   ]
  },
  {
   "cell_type": "code",
   "execution_count": 60,
   "metadata": {
    "hidden": true
   },
   "outputs": [
    {
     "name": "stdout",
     "output_type": "stream",
     "text": [
      "User does not have permissions to access this resource.\n",
      "(Error Code: 403)\n"
     ]
    }
   ],
   "source": [
    "try:\n",
    "    create_buffers_fl = create_buffers(fl_rios, distances=[1], units='Kilometers')\n",
    "    print(type(create_buffers_fl))\n",
    "    rivers_map.add_layer(create_buffers_fl)\n",
    "except Exception as ex:\n",
    "    print(str(ex))"
   ]
  },
  {
   "cell_type": "markdown",
   "metadata": {
    "heading_collapsed": true
   },
   "source": [
    "### find_nearest"
   ]
  },
  {
   "cell_type": "code",
   "execution_count": 61,
   "metadata": {
    "hidden": true
   },
   "outputs": [
    {
     "name": "stdout",
     "output_type": "stream",
     "text": [
      "https://ags.esri.co/arcgis/rest/services/LivingAtlas/Centros_comerciales_Colombia/MapServer/0 https://services.arcgis.com/mBg08vgayOnqC7Si/arcgis/rest/services/Rios_principales/FeatureServer/0\n"
     ]
    },
    {
     "data": {
      "application/vnd.jupyter.widget-view+json": {
       "model_id": "f32b508290fd46d0acfef9db5f3bf06d",
       "version_major": 2,
       "version_minor": 0
      },
      "text/plain": [
       "MapView(layout=Layout(height='400px', width='100%'))"
      ]
     },
     "metadata": {},
     "output_type": "display_data"
    },
    {
     "data": {
      "text/html": [
       "<div class=\"map-static-img-preview-0c6dc1a3-c228-407c-8133-4c8f64964511\"><img src=\"\"></img></div>"
      ],
      "text/plain": [
       "<IPython.core.display.HTML object>"
      ]
     },
     "metadata": {},
     "output_type": "display_data"
    },
    {
     "data": {
      "text/html": [
       "<div class=\"map-html-embed-preview-0c6dc1a3-c228-407c-8133-4c8f64964511\"></div>"
      ],
      "text/plain": [
       "<IPython.core.display.HTML object>"
      ]
     },
     "metadata": {},
     "output_type": "display_data"
    }
   ],
   "source": [
    "CentrosComercialesColombia  = gis.content.get(\"53a92c4077cc431f93ef0b196d65db71\") #Centros Comerciales Colombia \n",
    "CentrosComerciales_fl = CentrosComercialesColombia.layers[0]\n",
    "print(CentrosComerciales_fl.url, fl_rios.url)\n",
    "item_fs_cdta = gis.content.search('find_nearest_cc2rios, owner:'+gis.users.me.username, 'Feature Layer')\n",
    "if len(item_fs_cdta)>0:\n",
    "    v_find_nearest = item_fs_cdta[0]\n",
    "else:\n",
    "    try:\n",
    "        v_find_nearest = find_nearest(CentrosComerciales_fl, fl_rios, output_name=\"find_nearest_cc2rios\")\n",
    "    except Exception as ex:\n",
    "        print(str(ex))\n",
    "fn_map = gis.map(\"Colombia\")\n",
    "fn_map.add_layer(v_find_nearest)\n",
    "fn_map"
   ]
  },
  {
   "cell_type": "markdown",
   "metadata": {
    "heading_collapsed": true
   },
   "source": [
    "### find_nearest (SGC)"
   ]
  },
  {
   "cell_type": "code",
   "execution_count": 106,
   "metadata": {
    "hidden": true
   },
   "outputs": [
    {
     "name": "stdout",
     "output_type": "stream",
     "text": [
      "Layer: Direccion\n"
     ]
    },
    {
     "data": {
      "application/vnd.jupyter.widget-view+json": {
       "model_id": "3eef4e97905a4f3285e1cfd101398e02",
       "version_major": 2,
       "version_minor": 0
      },
      "text/plain": [
       "MapView(layout=Layout(height='400px', width='100%'))"
      ]
     },
     "metadata": {},
     "output_type": "display_data"
    },
    {
     "data": {
      "text/html": [
       "<div class=\"map-static-img-preview-8f0984fb-4474-4602-b0bc-825751f4cb8c\"><img src=\"\"></img></div>"
      ],
      "text/plain": [
       "<IPython.core.display.HTML object>"
      ]
     },
     "metadata": {},
     "output_type": "display_data"
    },
    {
     "data": {
      "text/html": [
       "<div class=\"map-html-embed-preview-8f0984fb-4474-4602-b0bc-825751f4cb8c\"></div>"
      ],
      "text/plain": [
       "<IPython.core.display.HTML object>"
      ]
     },
     "metadata": {},
     "output_type": "display_data"
    }
   ],
   "source": [
    "try:\n",
    "    v_find_nearest = find_nearest(lyr_direccion, fcol_manzana, output_name=\"wrm_find_nearest_\"+lyr_direccion.properties.name, max_count=1, search_cutoff=100, search_cutoff_units=\"Meters\", gis=gis)\n",
    "except Exception as ex:\n",
    "    print(str(ex))\n",
    "fn_map_sgc = gis.map(\"Colombia\")\n",
    "fn_map_sgc.add_layer(v_find_nearest.layers[1])\n",
    "#fn_map_sgc.add_layer(lyr_direccion)\n",
    "fn_map_sgc.zoom_to_layer(v_find_nearest)\n",
    "fn_map_sgc"
   ]
  },
  {
   "cell_type": "markdown",
   "metadata": {
    "heading_collapsed": true
   },
   "source": [
    "### summarize_within"
   ]
  },
  {
   "cell_type": "code",
   "execution_count": 62,
   "metadata": {
    "hidden": true,
    "scrolled": true
   },
   "outputs": [
    {
     "name": "stdout",
     "output_type": "stream",
     "text": [
      "https://services.arcgis.com/P3ePLMYs2RVChkJx/arcgis/rest/services/COL_Boundaries_2018/FeatureServer/0\n",
      "User does not have permissions to access this resource.\n",
      "(Error Code: 403)\n"
     ]
    },
    {
     "ename": "NameError",
     "evalue": "name 'v_summarize_within' is not defined",
     "output_type": "error",
     "traceback": [
      "\u001b[1;31m---------------------------------------------------------------------------\u001b[0m",
      "\u001b[1;31mNameError\u001b[0m                                 Traceback (most recent call last)",
      "\u001b[1;32m~\\AppData\\Local\\Temp\\ipykernel_7888\\867468443.py\u001b[0m in \u001b[0;36m<cell line: 13>\u001b[1;34m()\u001b[0m\n\u001b[0;32m     11\u001b[0m         \u001b[0mprint\u001b[0m\u001b[1;33m(\u001b[0m\u001b[0mstr\u001b[0m\u001b[1;33m(\u001b[0m\u001b[0mex\u001b[0m\u001b[1;33m)\u001b[0m\u001b[1;33m)\u001b[0m\u001b[1;33m\u001b[0m\u001b[1;33m\u001b[0m\u001b[0m\n\u001b[0;32m     12\u001b[0m \u001b[0msw_map\u001b[0m \u001b[1;33m=\u001b[0m \u001b[0mgis\u001b[0m\u001b[1;33m.\u001b[0m\u001b[0mmap\u001b[0m\u001b[1;33m(\u001b[0m\u001b[1;34m\"Colombia\"\u001b[0m\u001b[1;33m)\u001b[0m\u001b[1;33m\u001b[0m\u001b[1;33m\u001b[0m\u001b[0m\n\u001b[1;32m---> 13\u001b[1;33m \u001b[0msw_map\u001b[0m\u001b[1;33m.\u001b[0m\u001b[0madd_layer\u001b[0m\u001b[1;33m(\u001b[0m\u001b[0mv_summarize_within\u001b[0m\u001b[1;33m)\u001b[0m\u001b[1;33m\u001b[0m\u001b[1;33m\u001b[0m\u001b[0m\n\u001b[0m\u001b[0;32m     14\u001b[0m \u001b[0msw_map\u001b[0m\u001b[1;33m\u001b[0m\u001b[1;33m\u001b[0m\u001b[0m\n",
      "\u001b[1;31mNameError\u001b[0m: name 'v_summarize_within' is not defined"
     ]
    }
   ],
   "source": [
    "deptos_col = gis.content.get(\"bfd081d13a0f44818a721504ca003462\")#Colombia Departamento Boundaries \n",
    "deptos_col_fl = deptos_col.layers[0]\n",
    "print(deptos_col_fl.url)\n",
    "item_fs_cdta = gis.content.search('summarize_within_dptosrios, owner:'+gis.users.me.username, 'Feature Layer')\n",
    "if len(item_fs_cdta)>0:\n",
    "    v_summarize_within = item_fs_cdta[0]\n",
    "else:\n",
    "    try:\n",
    "        v_summarize_within = summarize_within(deptos_col_fl, fl_rios, output_name=\"summarize_within_dptosrios\")\n",
    "    except Exception as ex:\n",
    "        print(str(ex))\n",
    "sw_map = gis.map(\"Colombia\")\n",
    "sw_map.add_layer(v_summarize_within)\n",
    "sw_map"
   ]
  },
  {
   "cell_type": "code",
   "execution_count": 63,
   "metadata": {
    "hidden": true
   },
   "outputs": [
    {
     "name": "stdout",
     "output_type": "stream",
     "text": [
      "https://services7.arcgis.com/JEwYeAy2cc8qOe3o/arcgis/rest/services/collisions/FeatureServer/0\n"
     ]
    },
    {
     "data": {
      "application/vnd.jupyter.widget-view+json": {
       "model_id": "2f95a6ebd4624015aacf517ffc5d60f7",
       "version_major": 2,
       "version_minor": 0
      },
      "text/plain": [
       "MapView(layout=Layout(height='400px', width='100%'))"
      ]
     },
     "metadata": {},
     "output_type": "display_data"
    },
    {
     "data": {
      "text/html": [
       "<div class=\"map-static-img-preview-073e44b9-f378-47c0-b26e-1dfc8a195770\"><img src=\"\"></img></div>"
      ],
      "text/plain": [
       "<IPython.core.display.HTML object>"
      ]
     },
     "metadata": {},
     "output_type": "display_data"
    },
    {
     "data": {
      "text/html": [
       "<div class=\"map-html-embed-preview-073e44b9-f378-47c0-b26e-1dfc8a195770\"></div>"
      ],
      "text/plain": [
       "<IPython.core.display.HTML object>"
      ]
     },
     "metadata": {},
     "output_type": "display_data"
    }
   ],
   "source": [
    "items_sw = gis.content.search('title:Traffic Collisions, owner:api_data_owner', 'feature layer', outside_org=True)\n",
    "collisions = items_sw[0].layers[0]\n",
    "print(collisions.url)\n",
    "item_fs_cdta = gis.content.search('accident_count_within_school_zone, owner:'+gis.users.me.username, 'Feature Layer')\n",
    "if len(item_fs_cdta)>0:\n",
    "    dangerous_areas = item_fs_cdta[0]\n",
    "else:\n",
    "    try:\n",
    "        dangerous_areas = summarize_within(walk_dist_from_schools.layers[0],\n",
    "                                           collisions,\n",
    "                                           output_name=\"accident_count_within_school_zone\" + str(dt.datetime.now().microsecond))\n",
    "    except Exception as ex:\n",
    "            print(str(ex))\n",
    "dangerous_areas\n",
    "sw_map = gis.map(\"Colombia\")\n",
    "sw_map.add_layer(dangerous_areas)\n",
    "sw_map.add_layer(collisions)\n",
    "sw_map.zoom_to_layer(dangerous_areas)\n",
    "sw_map"
   ]
  },
  {
   "cell_type": "code",
   "execution_count": 70,
   "metadata": {
    "hidden": true
   },
   "outputs": [
    {
     "name": "stdout",
     "output_type": "stream",
     "text": [
      "User does not have permissions to access this resource.\n",
      "(Error Code: 403)\n"
     ]
    },
    {
     "ename": "NameError",
     "evalue": "name 'collision_hot_spots' is not defined",
     "output_type": "error",
     "traceback": [
      "\u001b[1;31m---------------------------------------------------------------------------\u001b[0m",
      "\u001b[1;31mNameError\u001b[0m                                 Traceback (most recent call last)",
      "\u001b[1;32m~\\AppData\\Local\\Temp\\ipykernel_7888\\730229335.py\u001b[0m in \u001b[0;36m<cell line: 7>\u001b[1;34m()\u001b[0m\n\u001b[0;32m      5\u001b[0m \u001b[1;32mexcept\u001b[0m \u001b[0mException\u001b[0m \u001b[1;32mas\u001b[0m \u001b[0mex\u001b[0m\u001b[1;33m:\u001b[0m\u001b[1;33m\u001b[0m\u001b[1;33m\u001b[0m\u001b[0m\n\u001b[0;32m      6\u001b[0m         \u001b[0mprint\u001b[0m\u001b[1;33m(\u001b[0m\u001b[0mstr\u001b[0m\u001b[1;33m(\u001b[0m\u001b[0mex\u001b[0m\u001b[1;33m)\u001b[0m\u001b[1;33m)\u001b[0m\u001b[1;33m\u001b[0m\u001b[1;33m\u001b[0m\u001b[0m\n\u001b[1;32m----> 7\u001b[1;33m \u001b[0mcollision_hot_spots\u001b[0m\u001b[1;33m\u001b[0m\u001b[1;33m\u001b[0m\u001b[0m\n\u001b[0m\u001b[0;32m      8\u001b[0m \u001b[0mfhs_map\u001b[0m \u001b[1;33m=\u001b[0m \u001b[0mgis\u001b[0m\u001b[1;33m.\u001b[0m\u001b[0mmap\u001b[0m\u001b[1;33m(\u001b[0m\u001b[1;33m)\u001b[0m\u001b[1;33m\u001b[0m\u001b[1;33m\u001b[0m\u001b[0m\n\u001b[0;32m      9\u001b[0m \u001b[0mfhs_map\u001b[0m\u001b[1;33m.\u001b[0m\u001b[0madd_layer\u001b[0m\u001b[1;33m(\u001b[0m\u001b[0mcollision_hot_spots\u001b[0m\u001b[1;33m)\u001b[0m\u001b[1;33m\u001b[0m\u001b[1;33m\u001b[0m\u001b[0m\n",
      "\u001b[1;31mNameError\u001b[0m: name 'collision_hot_spots' is not defined"
     ]
    }
   ],
   "source": [
    "try:\n",
    "    collision_hot_spots = find_hot_spots(collisions,\n",
    "                                         output_name='collision_hexagon_hot_spots' + str(dt.datetime.now().microsecond),\n",
    "                                         shape_type='hexagon')\n",
    "except Exception as ex:\n",
    "        print(str(ex))\n",
    "collision_hot_spots\n",
    "fhs_map = gis.map()\n",
    "fhs_map.add_layer(collision_hot_spots)\n",
    "fhs_map.zoom_to_layer(collision_hot_spots)\n",
    "fhs_map"
   ]
  },
  {
   "cell_type": "markdown",
   "metadata": {
    "heading_collapsed": true
   },
   "source": [
    "### summarize_within (SGC)"
   ]
  },
  {
   "cell_type": "code",
   "execution_count": 83,
   "metadata": {
    "hidden": true
   },
   "outputs": [
    {
     "name": "stdout",
     "output_type": "stream",
     "text": [
      "https://instalacionsgcladm.esri.co/server/rest/services/SERVICIOS/FS_Conservacion_Garzon/FeatureServer/27 https://instalacionsgcladm.esri.co/server/rest/services/SERVICIOS/FS_Conservacion_Garzon/FeatureServer/10\n"
     ]
    },
    {
     "data": {
      "application/vnd.jupyter.widget-view+json": {
       "model_id": "54166c684cdc4b43a603deedeaf732fa",
       "version_major": 2,
       "version_minor": 0
      },
      "text/plain": [
       "MapView(layout=Layout(height='400px', width='100%'))"
      ]
     },
     "metadata": {},
     "output_type": "display_data"
    },
    {
     "data": {
      "text/html": [
       "<div class=\"map-static-img-preview-1593b0a8-65fc-424b-a906-e4c81c3ff782\"><img src=\"\"></img></div>"
      ],
      "text/plain": [
       "<IPython.core.display.HTML object>"
      ]
     },
     "metadata": {},
     "output_type": "display_data"
    },
    {
     "data": {
      "text/html": [
       "<div class=\"map-html-embed-preview-1593b0a8-65fc-424b-a906-e4c81c3ff782\"></div>"
      ],
      "text/plain": [
       "<IPython.core.display.HTML object>"
      ]
     },
     "metadata": {},
     "output_type": "display_data"
    }
   ],
   "source": [
    "layertable = \"(CC) Sector Urbano\"\n",
    "table = next(iter(filter(lambda x: x.properties.name.upper()==layertable.upper(), gisContentParcelService.layers)), None)\n",
    "print(table.url, lyr_direccion.url)\n",
    "try:\n",
    "    v_summarize_within = summarize_within(table, lyr_direccion, output_name=\"wrm_summarize_within\", gis=gis)\n",
    "except Exception as ex:\n",
    "    print(str(ex))\n",
    "sw_map_sgc = gis.map(\"Colombia\")\n",
    "sw_map_sgc.add_layer(v_summarize_within)\n",
    "sw_map_sgc.zoom_to_layer(v_summarize_within)\n",
    "sw_map_sgc"
   ]
  },
  {
   "cell_type": "markdown",
   "metadata": {
    "heading_collapsed": true
   },
   "source": [
    "### join_features"
   ]
  },
  {
   "cell_type": "code",
   "execution_count": 164,
   "metadata": {
    "hidden": true
   },
   "outputs": [
    {
     "name": "stdout",
     "output_type": "stream",
     "text": [
      "1000\n"
     ]
    },
    {
     "data": {
      "application/vnd.jupyter.widget-view+json": {
       "model_id": "faa7c8bf6b6b48e9943350a75646b28e",
       "version_major": 2,
       "version_minor": 0
      },
      "text/plain": [
       "MapView(layout=Layout(height='400px', width='100%'))"
      ]
     },
     "metadata": {},
     "output_type": "display_data"
    },
    {
     "data": {
      "text/html": [
       "<div class=\"map-static-img-preview-e195b652-6fd9-4480-b723-0dd7768b094d\"><img src=\"\"></img></div>"
      ],
      "text/plain": [
       "<IPython.core.display.HTML object>"
      ]
     },
     "metadata": {},
     "output_type": "display_data"
    },
    {
     "data": {
      "text/html": [
       "<div class=\"map-html-embed-preview-e195b652-6fd9-4480-b723-0dd7768b094d\"></div>"
      ],
      "text/plain": [
       "<IPython.core.display.HTML object>"
      ]
     },
     "metadata": {},
     "output_type": "display_data"
    }
   ],
   "source": [
    "requests_url = 'https://maps2.dcgis.dc.gov/dcgis/rest/services/DCGIS_DATA/ServiceRequests/MapServer/9'\n",
    "flayer = FeatureLayer(requests_url)\n",
    "fset = flayer.query(where=\"1=1\", return_all_records=False, result_record_count=10000)\n",
    "fcollect = FeatureCollection.from_featureset(fset)\n",
    "print(len(fset.features))\n",
    "neighborhood_url = 'https://maps2.dcgis.dc.gov/dcgis/rest/services/DCGIS_DATA/Administrative_Other_Boundaries_WebMercator/MapServer/17'\n",
    "flayer_neighborhood = FeatureLayer(neighborhood_url)\n",
    "try:\n",
    "    joined_features = join_features(fcollect,\n",
    "                                   neighborhood_url,\n",
    "                                   spatial_relationship='Intersects'\n",
    "                                   #output_name='wrm_join_features'\n",
    "                                  )\n",
    "except Exception as ex:\n",
    "    print(str(ex))\n",
    "jf_map = gis.map(\"Colombia\")\n",
    "jf_map.add_layer(flayer_neighborhood)\n",
    "jf_map.add_layer(joined_features)\n",
    "jf_map.zoom_to_layer(fcollect.query())\n",
    "jf_map"
   ]
  },
  {
   "cell_type": "code",
   "execution_count": 165,
   "metadata": {
    "hidden": true
   },
   "outputs": [
    {
     "data": {
      "text/plain": [
       "{'OBJECTID': 1,\n",
       " 'Join_Count': 1,\n",
       " 'TARGET_FID': 1,\n",
       " 'SERVICECODE': 'S0321',\n",
       " 'SERVICECODEDESCRIPTION': 'Recycling Collection - Missed',\n",
       " 'SERVICETYPECODEDESCRIPTION': 'SWMA- Solid Waste Management Admistration',\n",
       " 'ORGANIZATIONACRONYM': 'DPW',\n",
       " 'SERVICECALLCOUNT': 1,\n",
       " 'ADDDATE': 1532983686000,\n",
       " 'RESOLUTIONDATE': 1533057509000,\n",
       " 'SERVICEDUEDATE': 1533156480000,\n",
       " 'SERVICEORDERDATE': 1532983686000,\n",
       " 'INSPECTIONFLAG': '0',\n",
       " 'INSPECTIONDATE': None,\n",
       " 'INSPECTORNAME': None,\n",
       " 'SERVICEORDERSTATUS': 'CLOSED',\n",
       " 'STATUS_CODE': None,\n",
       " 'SERVICEREQUESTID': '18-00409155',\n",
       " 'PRIORITY': 'STANDARD',\n",
       " 'STREETADDRESS': '2920 PORTER STREET NW',\n",
       " 'XCOORD': 394794.67,\n",
       " 'YCOORD': 140973.55,\n",
       " 'LATITUDE': 38.93663303,\n",
       " 'LONGITUDE': -77.06003888,\n",
       " 'CITY': 'WASHINGTON',\n",
       " 'STATE': 'DC',\n",
       " 'ZIPCODE': 20008,\n",
       " 'MARADDRESSREPOSITORYID': 220953,\n",
       " 'WARD': '3',\n",
       " 'DETAILS': 'collected',\n",
       " 'GIS_ID': None,\n",
       " 'CREATOR': None,\n",
       " 'CREATED': None,\n",
       " 'EDITOR': None,\n",
       " 'EDITED': None,\n",
       " 'GLOBALID': '{9A67F2AA-CE04-22AA-E053-532F520A924B}',\n",
       " 'WEB_URL': 'http://planning.dc.gov/',\n",
       " 'NAME': 'Cluster 15',\n",
       " 'NBH_NAMES': 'Cleveland Park, Woodley Park, Massachusetts Avenue Heights, Woodland-Normanstone Terrace',\n",
       " 'TYPE': 'Original',\n",
       " 'CREATOR_1': None,\n",
       " 'CREATED_1': None,\n",
       " 'EDITOR_1': None,\n",
       " 'EDITED_1': None,\n",
       " 'GLOBALID_1_1': '{0B22F9A0-B7AB-4EE9-937F-E28D655137C4}'}"
      ]
     },
     "execution_count": 165,
     "metadata": {},
     "output_type": "execute_result"
    }
   ],
   "source": [
    "joined_features.query().features[0].attributes"
   ]
  },
  {
   "cell_type": "markdown",
   "metadata": {
    "heading_collapsed": true
   },
   "source": [
    "### overlay_layers"
   ]
  },
  {
   "cell_type": "code",
   "execution_count": 77,
   "metadata": {
    "hidden": true
   },
   "outputs": [
    {
     "data": {
      "application/vnd.jupyter.widget-view+json": {
       "model_id": "6252488cc5bb4c24a19a3ffa23cf299c",
       "version_major": 2,
       "version_minor": 0
      },
      "text/plain": [
       "MapView(layout=Layout(height='400px', width='100%'))"
      ]
     },
     "metadata": {},
     "output_type": "display_data"
    },
    {
     "data": {
      "text/html": [
       "<div class=\"map-static-img-preview-392498ed-71d6-467e-b85f-52cc5a771d13\"><img src=\"\"></img></div>"
      ],
      "text/plain": [
       "<IPython.core.display.HTML object>"
      ]
     },
     "metadata": {},
     "output_type": "display_data"
    },
    {
     "data": {
      "text/html": [
       "<div class=\"map-html-embed-preview-392498ed-71d6-467e-b85f-52cc5a771d13\"></div>"
      ],
      "text/plain": [
       "<IPython.core.display.HTML object>"
      ]
     },
     "metadata": {},
     "output_type": "display_data"
    }
   ],
   "source": [
    "try:\n",
    "    v_overlay_layers = overlay_layers(input_layer=fcol_terreno, overlay_layer=lyr_direccion, overlay_type='Intersect', gis=gis)\n",
    "except Exception as ex:\n",
    "    print(str(ex))\n",
    "ol_map = gis.map(\"Colombia\")\n",
    "ol_map.add_layer(fcol_terreno)\n",
    "ol_map.add_layer(v_overlay_layers)\n",
    "ol_map.zoom_to_layer(fcol_direccion.query())\n",
    "ol_map"
   ]
  },
  {
   "cell_type": "code",
   "execution_count": 78,
   "metadata": {
    "hidden": true
   },
   "outputs": [
    {
     "data": {
      "text/plain": [
       "{'objectid': 1,\n",
       " 'Join_Count': 1,\n",
       " 'TARGET_FID': 68641,\n",
       " 'departamento': '41',\n",
       " 'municipio': '41298',\n",
       " 'tipo_direccion': 'No_Estructurada',\n",
       " 'es_direccion_principal': 1,\n",
       " 'nombre_predio': 'C 4 1E 25',\n",
       " 'clase_via_principal': None,\n",
       " 'valor_via_principal': None,\n",
       " 'letra_via_principal': None,\n",
       " 'sector_ciudad': None,\n",
       " 'valor_via_generadora': None,\n",
       " 'letra_via_generadora': None,\n",
       " 'sector_predio': None,\n",
       " 'numero_predio': None,\n",
       " 'complemento': None,\n",
       " 'codigo_postal': None,\n",
       " 'lc_predio_guid': '{F0EC164A-59B8-419C-B7BA-9F7D175F62E2}',\n",
       " 'lc_construccion_guid': None,\n",
       " 'lc_terreno_guid': '{0B48308F-5489-4CDE-A429-70E123806F6B}',\n",
       " 'lc_unidadconstruccion_guid': None,\n",
       " 'lc_servidumbretransito_guid': None,\n",
       " 'extinteresado_guid': None,\n",
       " 'created_user': 'coordinadortecnico1',\n",
       " 'created_date': 1669157805000,\n",
       " 'last_edited_user': 'coordinadortecnico1',\n",
       " 'last_edited_date': 1669157805000,\n",
       " 'validationstatus': 2,\n",
       " 'extedificacionfisica_guid': None,\n",
       " 'extunidadedififisica_guid': None,\n",
       " 'name': '412980102000002980001000000000',\n",
       " 'createdbyrecord': '{D9B48612-5652-4A49-9881-044C87AB716C}',\n",
       " 'retiredbyrecord': None,\n",
       " 'statedarea': None,\n",
       " 'statedareaunit': None,\n",
       " 'calculatedarea': None,\n",
       " 'miscloseratio': None,\n",
       " 'misclosedistance': None,\n",
       " 'isseed': 0,\n",
       " 'created_user_1': 'SGC',\n",
       " 'created_date_1': 1646513690000,\n",
       " 'last_edited_user_1': 'SGC',\n",
       " 'last_edited_date_1': 1646515972000,\n",
       " 'area_terreno': 648,\n",
       " 'avaluo_terreno': 0,\n",
       " 'dimension': 'Dim2D',\n",
       " 'etiqueta': None,\n",
       " 'relacion_superficie': None,\n",
       " 'manzana_vereda_codigo': '41298010200000298',\n",
       " 'validationstatus_1': 2,\n",
       " 'Shape_Length': None,\n",
       " 'Shape_Area': None}"
      ]
     },
     "execution_count": 78,
     "metadata": {},
     "output_type": "execute_result"
    }
   ],
   "source": [
    "v_overlay_layers.query().features[0].attributes"
   ]
  },
  {
   "cell_type": "markdown",
   "metadata": {
    "heading_collapsed": true
   },
   "source": [
    "### merge_layers"
   ]
  },
  {
   "cell_type": "code",
   "execution_count": 9,
   "metadata": {
    "hidden": true
   },
   "outputs": [
    {
     "data": {
      "application/vnd.jupyter.widget-view+json": {
       "model_id": "09ac5028e9ed4d48b6c4fc27f523d907",
       "version_major": 2,
       "version_minor": 0
      },
      "text/plain": [
       "MapView(layout=Layout(height='400px', width='100%'))"
      ]
     },
     "metadata": {},
     "output_type": "display_data"
    },
    {
     "data": {
      "text/html": [
       "<div class=\"map-static-img-preview-c5a42aeb-10cf-4636-ac07-b9c4bc58a484\"><img src=\"\"></img></div>"
      ],
      "text/plain": [
       "<IPython.core.display.HTML object>"
      ]
     },
     "metadata": {},
     "output_type": "display_data"
    },
    {
     "data": {
      "text/html": [
       "<div class=\"map-html-embed-preview-c5a42aeb-10cf-4636-ac07-b9c4bc58a484\"></div>"
      ],
      "text/plain": [
       "<IPython.core.display.HTML object>"
      ]
     },
     "metadata": {},
     "output_type": "display_data"
    }
   ],
   "source": [
    "try:\n",
    "    v_merge_layers = merge_layers(input_layer=fcol_manzana, merge_layer=fcol_terreno, gis=gis)\n",
    "except Exception as ex:\n",
    "    print(str(ex))\n",
    "ml_map = gis.map(\"Colombia\")\n",
    "ml_map.add_layer(fcol_terreno)\n",
    "ml_map.add_layer(v_merge_layers)\n",
    "ml_map.zoom_to_layer(v_merge_layers.query())\n",
    "ml_map"
   ]
  },
  {
   "cell_type": "markdown",
   "metadata": {},
   "source": [
    "### plan_routes"
   ]
  },
  {
   "cell_type": "code",
   "execution_count": 152,
   "metadata": {},
   "outputs": [],
   "source": [
    "def generate_stops_layer():\n",
    "    fcol_manzana2 = FeatureCollection.from_featureset(lyr_manzana.query(where=f\"codigo like '412980102%'\", result_record_count=30, return_all_records=False))\n",
    "    value2 = [f.attributes[\"codigo\"] for f in fcol_manzana2.query().features]\n",
    "    values_query = \"'\" + \"', '\".join(value2) + \"'\"\n",
    "    len(value2)\n",
    "\n",
    "    predioTerreno = sgccat20lib.get_features_layertable_where(\n",
    "        gis,\n",
    "        \"{0}/{1}\".format(urlParcelService, \"58\"),\n",
    "        \"manzana_vereda_codigo in ({})\".format(values_query),\n",
    "        \"name,globalid,objectid\",\n",
    "        None,\n",
    "        [\"LC_Predio\"],\n",
    "        [\"objectid,numero_predial\"])\n",
    "    rel_predio = next(iter(filter(lambda x: x[\"name\"].upper()==\"LC_Predio\".upper(), predioTerreno[\"Relationships\"])), None)\n",
    "    predios_manzana=[]\n",
    "    objectids_predios = []\n",
    "    for r in rel_predio[\"features\"]:\n",
    "        if r[\"attributes\"][\"numero_predial\"][:17] not in predios_manzana:\n",
    "            predios_manzana.append(r[\"attributes\"][\"numero_predial\"][:17])\n",
    "            objectids_predios.append(r[\"attributes\"][\"objectid\"])\n",
    "    objectids_predio = \",\".join(map(str, objectids_predios))\n",
    "    where2 = f\"objectid in ({objectids_predio}) AND estado_predio='Activo'\"\n",
    "    print(where2)\n",
    "    predioCapa2 = sgccat20lib.get_features_layertable_where(\n",
    "        gis,\n",
    "        \"{0}/{1}\".format(urlParcelService, \"103\"),\n",
    "        where2,\n",
    "        \"numero_predial,globalid,objectid,condicion_predio\",\n",
    "        None,\n",
    "        [rel_direccion_name],\n",
    "        [\"objectid\"])\n",
    "    rel_direccion = next(iter(filter(lambda x: x[\"name\"].upper()==rel_direccion_name.upper(), predioCapa2[\"Relationships\"])), None)\n",
    "    objectids_direccion = \",\".join(map(str, rel_direccion[\"objectids\"])) if rel_direccion else \"1\"\n",
    "    fcol_direccion = FeatureCollection.from_featureset(lyr_direccion.query(where=f\"objectid in ({objectids_direccion})\"))\n",
    "    print(\"features fcol_direccion: %s; OIDs: %s\" %(len(fcol_direccion.query().features), objectids_direccion))\n",
    "    return fcol_direccion\n",
    "\n",
    "\n",
    "def re_order_stop_cities(fset, start_city, end_city):\n",
    "    \"\"\" Used to re-order the stops to the desired order\n",
    "    \"\"\"\n",
    "    stops_cities_flist = []\n",
    "    last_city = None\n",
    "    ea_first = next(iter(filter(lambda x: x.attributes['objectid']==start_city, fset)), None)\n",
    "    for ea in fset:\n",
    "        if ea.attributes['objectid'] == start_city:\n",
    "            ea.attributes['distancia'] = 0\n",
    "            stops_cities_flist.insert(0, ea)\n",
    "        elif ea.attributes['objectid'] == end_city:\n",
    "            ea.attributes['distancia'] = 100000\n",
    "            last_city = ea\n",
    "        else:\n",
    "            distancia = Geometry(ea_first.geometry).distance_to(Geometry(ea.geometry))\n",
    "            ea.attributes['distancia'] = distancia\n",
    "            stops_cities_flist.append(ea)\n",
    "    stops_cities_flist.append(last_city)\n",
    "    stops_cities_flist = sorted(stops_cities_flist, key=lambda x: x.attributes[\"distancia\"])\n",
    "    return FeatureSet(stops_cities_flist)"
   ]
  },
  {
   "cell_type": "code",
   "execution_count": 156,
   "metadata": {},
   "outputs": [
    {
     "name": "stdout",
     "output_type": "stream",
     "text": [
      "objectid in (44850,44911,29820,29825,29830,44960,45054,45068,45096,45098,45978,45108,29824,47647,47655,47666,47718,47719,30137,47803,47739,47819,47781,47808,47823,47883,47851,47837,47876,45078) AND estado_predio='Activo'\n",
      "features fcol_direccion: 30; OIDs: 53493,53497,53498,53503,53675,64690,64715,64763,64857,64871,64881,64899,64901,64911,65762,67354,67362,67373,67423,67424,67444,67485,67507,67512,67523,67527,67541,67555,67580,67587\n"
     ]
    },
    {
     "name": "stderr",
     "output_type": "stream",
     "text": [
      "Travel mode not set, using default travel mode\n",
      "Some orders could not be routed due to violated constraints.\n",
      "Partial solution generated.\n",
      "{\"messageCode\": \"AO_100115\", \"message\": \"Some stops were not assigned to any routes. Check the Violated Constraints field in the output unassigned stops layer for more information.\"}\n"
     ]
    },
    {
     "data": {
      "application/vnd.jupyter.widget-view+json": {
       "model_id": "fb9c0e715ef147f5b1ca142856abfc6b",
       "version_major": 2,
       "version_minor": 0
      },
      "text/plain": [
       "MapView(layout=Layout(height='400px', width='100%'))"
      ]
     },
     "metadata": {},
     "output_type": "display_data"
    },
    {
     "data": {
      "text/html": [
       "<div class=\"map-static-img-preview-a06ed9cc-bd10-4e72-b9b9-37ceadf0a47e\"><img src=\"\"></img></div>"
      ],
      "text/plain": [
       "<IPython.core.display.HTML object>"
      ]
     },
     "metadata": {},
     "output_type": "display_data"
    },
    {
     "data": {
      "text/html": [
       "<div class=\"map-html-embed-preview-a06ed9cc-bd10-4e72-b9b9-37ceadf0a47e\"></div>"
      ],
      "text/plain": [
       "<IPython.core.display.HTML object>"
      ]
     },
     "metadata": {},
     "output_type": "display_data"
    }
   ],
   "source": [
    "gis = GIS(profile=\"sgc20_desarrollo\")\n",
    "fcol_direccion = generate_stops_layer()\n",
    "start_city=67423\n",
    "end_city=67523\n",
    "#fcol_direccion = FeatureCollection.from_featureset(re_order_stop_cities(fcol_direccion.query(), start_city, end_city))\n",
    "gis = GIS(url='https://pythonapi.playground.esri.com/portal', username='arcgis_python', password='amazing_arcgis_123')\n",
    "current_time = dt.datetime.now()\n",
    "#Aleatorio:\n",
    "#fcol_start_layer = FeatureCollection.from_featureset(lyr_direccion.query(where=\"objectid in ({})\".format(fcol_direccion.query().features[0].attributes[\"objectid\"])))\n",
    "#El punto mas alejado:\n",
    "fcol_start_layer = FeatureCollection.from_featureset(lyr_direccion.query(where=\"objectid in ({})\".format(start_city)))\n",
    "v_plan_routes = None\n",
    "try:\n",
    "    v_plan_routes = plan_routes(stops_layer=fcol_direccion,\n",
    "                                route_count=1,\n",
    "                                max_stops_per_route=5,\n",
    "                                route_start_time=current_time,\n",
    "                                start_layer=fcol_start_layer,\n",
    "                                gis=gis)\n",
    "except Exception as ex:\n",
    "    print(str(ex))\n",
    "pr_map = gis.map(\"Colombia\")\n",
    "pr_map.add_layer(fcol_direccion.query())\n",
    "pr_map.add_layer(v_plan_routes[\"routes_layer\"])\n",
    "pr_map.add_layer(v_plan_routes[\"assigned_stops_layer\"])\n",
    "pr_map.add_layer(v_plan_routes[\"unassigned_stops_layer\"])\n",
    "pr_map.zoom_to_layer(v_plan_routes[\"routes_layer\"].query())\n",
    "pr_map"
   ]
  },
  {
   "cell_type": "code",
   "execution_count": 9,
   "metadata": {},
   "outputs": [],
   "source": [
    "gis = GIS(profile=\"sgc20_desarrollo\")"
   ]
  },
  {
   "cell_type": "code",
   "execution_count": 100,
   "metadata": {},
   "outputs": [
    {
     "data": {
      "text/plain": [
       "{'routes_layer': <FeatureCollection>,\n",
       " 'assigned_stops_layer': <FeatureCollection>,\n",
       " 'unassigned_stops_layer': <FeatureCollection>}"
      ]
     },
     "execution_count": 100,
     "metadata": {},
     "output_type": "execute_result"
    }
   ],
   "source": [
    "v_plan_routes"
   ]
  },
  {
   "cell_type": "markdown",
   "metadata": {},
   "source": [
    "### dissolve_boundaries"
   ]
  },
  {
   "cell_type": "code",
   "execution_count": 24,
   "metadata": {},
   "outputs": [
    {
     "name": "stderr",
     "output_type": "stream",
     "text": [
      "{\"messageCode\": \"AO_100027\", \"message\": \"DissolveBoundaries failed.\"}\n",
      "Failed to execute (DissolveBoundaries).\n",
      "Failed.\n"
     ]
    },
    {
     "ename": "Exception",
     "evalue": "Job failed.",
     "output_type": "error",
     "traceback": [
      "\u001b[1;31m---------------------------------------------------------------------------\u001b[0m",
      "\u001b[1;31mException\u001b[0m                                 Traceback (most recent call last)",
      "\u001b[1;32m~\\AppData\\Local\\Temp\\ipykernel_15236\\2438071267.py\u001b[0m in \u001b[0;36m<cell line: 2>\u001b[1;34m()\u001b[0m\n\u001b[0;32m      1\u001b[0m \u001b[1;31m# To dissolve boundaries of polygons with same state name. The dissolved polygons are summarized using population as summary field and standard deviation as summary type.\u001b[0m\u001b[1;33m\u001b[0m\u001b[1;33m\u001b[0m\u001b[0m\n\u001b[1;32m----> 2\u001b[1;33m diss_counties = dissolve_boundaries(input_layer=lyr_terreno,\n\u001b[0m\u001b[0;32m      3\u001b[0m                                     \u001b[0mdissolve_fields\u001b[0m\u001b[1;33m=\u001b[0m\u001b[1;33m[\u001b[0m\u001b[1;34m\"manzana_vereda_codigo\"\u001b[0m\u001b[1;33m]\u001b[0m\u001b[1;33m,\u001b[0m\u001b[1;33m\u001b[0m\u001b[1;33m\u001b[0m\u001b[0m\n\u001b[0;32m      4\u001b[0m                                     summary_fields=[\"avaluo_terreno\"])\n\u001b[0;32m      5\u001b[0m                                     \u001b[1;31m#output_name=\"DissolveBoundaries\")\u001b[0m\u001b[1;33m\u001b[0m\u001b[1;33m\u001b[0m\u001b[0m\n",
      "\u001b[1;32mC:\\Program Files\\ArcGIS\\Pro\\bin\\Python\\envs\\arcgispro-py3\\lib\\site-packages\\arcgis\\features\\manage_data.py\u001b[0m in \u001b[0;36mdissolve_boundaries\u001b[1;34m(input_layer, dissolve_fields, summary_fields, output_name, context, gis, estimate, multi_part_features, future)\u001b[0m\n\u001b[0;32m    268\u001b[0m         \u001b[0mfn\u001b[0m\u001b[1;33m=\u001b[0m\u001b[0mgis\u001b[0m\u001b[1;33m.\u001b[0m\u001b[0m_tools\u001b[0m\u001b[1;33m.\u001b[0m\u001b[0mfeatureanalysis\u001b[0m\u001b[1;33m.\u001b[0m\u001b[0m_tbx\u001b[0m\u001b[1;33m.\u001b[0m\u001b[0mdissolve_boundaries\u001b[0m\u001b[1;33m,\u001b[0m \u001b[1;33m**\u001b[0m\u001b[0mkwargs\u001b[0m\u001b[1;33m\u001b[0m\u001b[1;33m\u001b[0m\u001b[0m\n\u001b[0;32m    269\u001b[0m     )\n\u001b[1;32m--> 270\u001b[1;33m     \u001b[1;32mreturn\u001b[0m \u001b[0mgis\u001b[0m\u001b[1;33m.\u001b[0m\u001b[0m_tools\u001b[0m\u001b[1;33m.\u001b[0m\u001b[0mfeatureanalysis\u001b[0m\u001b[1;33m.\u001b[0m\u001b[0mdissolve_boundaries\u001b[0m\u001b[1;33m(\u001b[0m\u001b[1;33m**\u001b[0m\u001b[0mparams\u001b[0m\u001b[1;33m)\u001b[0m\u001b[1;33m\u001b[0m\u001b[1;33m\u001b[0m\u001b[0m\n\u001b[0m\u001b[0;32m    271\u001b[0m \u001b[1;33m\u001b[0m\u001b[0m\n\u001b[0;32m    272\u001b[0m \u001b[1;33m\u001b[0m\u001b[0m\n",
      "\u001b[1;32mC:\\Program Files\\ArcGIS\\Pro\\bin\\Python\\envs\\arcgispro-py3\\lib\\site-packages\\arcgis\\_impl\\tools.py\u001b[0m in \u001b[0;36mdissolve_boundaries\u001b[1;34m(self, input_layer, dissolve_fields, summary_fields, output_name, context, estimate, multi_part_features, future)\u001b[0m\n\u001b[0;32m   3281\u001b[0m         \u001b[1;32mif\u001b[0m \u001b[0mfuture\u001b[0m\u001b[1;33m:\u001b[0m\u001b[1;33m\u001b[0m\u001b[1;33m\u001b[0m\u001b[0m\n\u001b[0;32m   3282\u001b[0m             \u001b[1;32mreturn\u001b[0m \u001b[0mgpjob\u001b[0m\u001b[1;33m\u001b[0m\u001b[1;33m\u001b[0m\u001b[0m\n\u001b[1;32m-> 3283\u001b[1;33m         \u001b[1;32mreturn\u001b[0m \u001b[0mgpjob\u001b[0m\u001b[1;33m.\u001b[0m\u001b[0mresult\u001b[0m\u001b[1;33m(\u001b[0m\u001b[1;33m)\u001b[0m\u001b[1;33m\u001b[0m\u001b[1;33m\u001b[0m\u001b[0m\n\u001b[0m\u001b[0;32m   3284\u001b[0m \u001b[1;33m\u001b[0m\u001b[0m\n\u001b[0;32m   3285\u001b[0m     \u001b[1;31m# ----------------------------------------------------------------------\u001b[0m\u001b[1;33m\u001b[0m\u001b[1;33m\u001b[0m\u001b[0m\n",
      "\u001b[1;32mC:\\Program Files\\ArcGIS\\Pro\\bin\\Python\\envs\\arcgispro-py3\\lib\\site-packages\\arcgis\\geoprocessing\\_job.py\u001b[0m in \u001b[0;36mresult\u001b[1;34m(self)\u001b[0m\n\u001b[0;32m    229\u001b[0m             \u001b[1;32mreturn\u001b[0m \u001b[1;32mNone\u001b[0m\u001b[1;33m\u001b[0m\u001b[1;33m\u001b[0m\u001b[0m\n\u001b[0;32m    230\u001b[0m         \u001b[1;32mif\u001b[0m \u001b[0mself\u001b[0m\u001b[1;33m.\u001b[0m\u001b[0m_is_fa\u001b[0m\u001b[1;33m:\u001b[0m\u001b[1;33m\u001b[0m\u001b[1;33m\u001b[0m\u001b[0m\n\u001b[1;32m--> 231\u001b[1;33m             \u001b[1;32mreturn\u001b[0m \u001b[0mself\u001b[0m\u001b[1;33m.\u001b[0m\u001b[0m_process_fa\u001b[0m\u001b[1;33m(\u001b[0m\u001b[0mself\u001b[0m\u001b[1;33m.\u001b[0m\u001b[0m_future\u001b[0m\u001b[1;33m.\u001b[0m\u001b[0mresult\u001b[0m\u001b[1;33m(\u001b[0m\u001b[1;33m)\u001b[0m\u001b[1;33m)\u001b[0m\u001b[1;33m\u001b[0m\u001b[1;33m\u001b[0m\u001b[0m\n\u001b[0m\u001b[0;32m    232\u001b[0m         \u001b[1;32melif\u001b[0m \u001b[0mself\u001b[0m\u001b[1;33m.\u001b[0m\u001b[0m_is_ra\u001b[0m\u001b[1;33m:\u001b[0m\u001b[1;33m\u001b[0m\u001b[1;33m\u001b[0m\u001b[0m\n\u001b[0;32m    233\u001b[0m             \u001b[1;32mreturn\u001b[0m \u001b[0mself\u001b[0m\u001b[1;33m.\u001b[0m\u001b[0m_process_ra\u001b[0m\u001b[1;33m(\u001b[0m\u001b[0mself\u001b[0m\u001b[1;33m.\u001b[0m\u001b[0m_future\u001b[0m\u001b[1;33m.\u001b[0m\u001b[0mresult\u001b[0m\u001b[1;33m(\u001b[0m\u001b[1;33m)\u001b[0m\u001b[1;33m)\u001b[0m\u001b[1;33m\u001b[0m\u001b[1;33m\u001b[0m\u001b[0m\n",
      "\u001b[1;32mC:\\Program Files\\ArcGIS\\Pro\\bin\\Python\\envs\\arcgispro-py3\\lib\\concurrent\\futures\\_base.py\u001b[0m in \u001b[0;36mresult\u001b[1;34m(self, timeout)\u001b[0m\n\u001b[0;32m    444\u001b[0m                     \u001b[1;32mraise\u001b[0m \u001b[0mCancelledError\u001b[0m\u001b[1;33m(\u001b[0m\u001b[1;33m)\u001b[0m\u001b[1;33m\u001b[0m\u001b[1;33m\u001b[0m\u001b[0m\n\u001b[0;32m    445\u001b[0m                 \u001b[1;32melif\u001b[0m \u001b[0mself\u001b[0m\u001b[1;33m.\u001b[0m\u001b[0m_state\u001b[0m \u001b[1;33m==\u001b[0m \u001b[0mFINISHED\u001b[0m\u001b[1;33m:\u001b[0m\u001b[1;33m\u001b[0m\u001b[1;33m\u001b[0m\u001b[0m\n\u001b[1;32m--> 446\u001b[1;33m                     \u001b[1;32mreturn\u001b[0m \u001b[0mself\u001b[0m\u001b[1;33m.\u001b[0m\u001b[0m__get_result\u001b[0m\u001b[1;33m(\u001b[0m\u001b[1;33m)\u001b[0m\u001b[1;33m\u001b[0m\u001b[1;33m\u001b[0m\u001b[0m\n\u001b[0m\u001b[0;32m    447\u001b[0m                 \u001b[1;32melse\u001b[0m\u001b[1;33m:\u001b[0m\u001b[1;33m\u001b[0m\u001b[1;33m\u001b[0m\u001b[0m\n\u001b[0;32m    448\u001b[0m                     \u001b[1;32mraise\u001b[0m \u001b[0mTimeoutError\u001b[0m\u001b[1;33m(\u001b[0m\u001b[1;33m)\u001b[0m\u001b[1;33m\u001b[0m\u001b[1;33m\u001b[0m\u001b[0m\n",
      "\u001b[1;32mC:\\Program Files\\ArcGIS\\Pro\\bin\\Python\\envs\\arcgispro-py3\\lib\\concurrent\\futures\\_base.py\u001b[0m in \u001b[0;36m__get_result\u001b[1;34m(self)\u001b[0m\n\u001b[0;32m    389\u001b[0m         \u001b[1;32mif\u001b[0m \u001b[0mself\u001b[0m\u001b[1;33m.\u001b[0m\u001b[0m_exception\u001b[0m\u001b[1;33m:\u001b[0m\u001b[1;33m\u001b[0m\u001b[1;33m\u001b[0m\u001b[0m\n\u001b[0;32m    390\u001b[0m             \u001b[1;32mtry\u001b[0m\u001b[1;33m:\u001b[0m\u001b[1;33m\u001b[0m\u001b[1;33m\u001b[0m\u001b[0m\n\u001b[1;32m--> 391\u001b[1;33m                 \u001b[1;32mraise\u001b[0m \u001b[0mself\u001b[0m\u001b[1;33m.\u001b[0m\u001b[0m_exception\u001b[0m\u001b[1;33m\u001b[0m\u001b[1;33m\u001b[0m\u001b[0m\n\u001b[0m\u001b[0;32m    392\u001b[0m             \u001b[1;32mfinally\u001b[0m\u001b[1;33m:\u001b[0m\u001b[1;33m\u001b[0m\u001b[1;33m\u001b[0m\u001b[0m\n\u001b[0;32m    393\u001b[0m                 \u001b[1;31m# Break a reference cycle with the exception in self._exception\u001b[0m\u001b[1;33m\u001b[0m\u001b[1;33m\u001b[0m\u001b[0m\n",
      "\u001b[1;32mC:\\Program Files\\ArcGIS\\Pro\\bin\\Python\\envs\\arcgispro-py3\\lib\\concurrent\\futures\\thread.py\u001b[0m in \u001b[0;36mrun\u001b[1;34m(self)\u001b[0m\n\u001b[0;32m     56\u001b[0m \u001b[1;33m\u001b[0m\u001b[0m\n\u001b[0;32m     57\u001b[0m         \u001b[1;32mtry\u001b[0m\u001b[1;33m:\u001b[0m\u001b[1;33m\u001b[0m\u001b[1;33m\u001b[0m\u001b[0m\n\u001b[1;32m---> 58\u001b[1;33m             \u001b[0mresult\u001b[0m \u001b[1;33m=\u001b[0m \u001b[0mself\u001b[0m\u001b[1;33m.\u001b[0m\u001b[0mfn\u001b[0m\u001b[1;33m(\u001b[0m\u001b[1;33m*\u001b[0m\u001b[0mself\u001b[0m\u001b[1;33m.\u001b[0m\u001b[0margs\u001b[0m\u001b[1;33m,\u001b[0m \u001b[1;33m**\u001b[0m\u001b[0mself\u001b[0m\u001b[1;33m.\u001b[0m\u001b[0mkwargs\u001b[0m\u001b[1;33m)\u001b[0m\u001b[1;33m\u001b[0m\u001b[1;33m\u001b[0m\u001b[0m\n\u001b[0m\u001b[0;32m     59\u001b[0m         \u001b[1;32mexcept\u001b[0m \u001b[0mBaseException\u001b[0m \u001b[1;32mas\u001b[0m \u001b[0mexc\u001b[0m\u001b[1;33m:\u001b[0m\u001b[1;33m\u001b[0m\u001b[1;33m\u001b[0m\u001b[0m\n\u001b[0;32m     60\u001b[0m             \u001b[0mself\u001b[0m\u001b[1;33m.\u001b[0m\u001b[0mfuture\u001b[0m\u001b[1;33m.\u001b[0m\u001b[0mset_exception\u001b[0m\u001b[1;33m(\u001b[0m\u001b[0mexc\u001b[0m\u001b[1;33m)\u001b[0m\u001b[1;33m\u001b[0m\u001b[1;33m\u001b[0m\u001b[0m\n",
      "\u001b[1;32mC:\\Program Files\\ArcGIS\\Pro\\bin\\Python\\envs\\arcgispro-py3\\lib\\site-packages\\arcgis\\geoprocessing\\_support.py\u001b[0m in \u001b[0;36m_future_op\u001b[1;34m(gptool, task_url, job_info, job_id, param_db, return_values, return_messages)\u001b[0m\n\u001b[0;32m    320\u001b[0m ):\n\u001b[0;32m    321\u001b[0m \u001b[1;33m\u001b[0m\u001b[0m\n\u001b[1;32m--> 322\u001b[1;33m     \u001b[0mjob_info\u001b[0m \u001b[1;33m=\u001b[0m \u001b[0m_analysis_job_status\u001b[0m\u001b[1;33m(\u001b[0m\u001b[0mgptool\u001b[0m\u001b[1;33m,\u001b[0m \u001b[0mtask_url\u001b[0m\u001b[1;33m,\u001b[0m \u001b[0mjob_info\u001b[0m\u001b[1;33m)\u001b[0m\u001b[1;33m\u001b[0m\u001b[1;33m\u001b[0m\u001b[0m\n\u001b[0m\u001b[0;32m    323\u001b[0m     \u001b[0mresp\u001b[0m \u001b[1;33m=\u001b[0m \u001b[0m_analysis_job_results\u001b[0m\u001b[1;33m(\u001b[0m\u001b[0mgptool\u001b[0m\u001b[1;33m,\u001b[0m \u001b[0mtask_url\u001b[0m\u001b[1;33m,\u001b[0m \u001b[0mjob_info\u001b[0m\u001b[1;33m,\u001b[0m \u001b[0mjob_id\u001b[0m\u001b[1;33m)\u001b[0m\u001b[1;33m\u001b[0m\u001b[1;33m\u001b[0m\u001b[0m\n\u001b[0;32m    324\u001b[0m \u001b[1;33m\u001b[0m\u001b[0m\n",
      "\u001b[1;32mC:\\Program Files\\ArcGIS\\Pro\\bin\\Python\\envs\\arcgispro-py3\\lib\\site-packages\\arcgis\\geoprocessing\\_support.py\u001b[0m in \u001b[0;36m_analysis_job_status\u001b[1;34m(gptool, task_url, job_info)\u001b[0m\n\u001b[0;32m    245\u001b[0m \u001b[1;33m\u001b[0m\u001b[0m\n\u001b[0;32m    246\u001b[0m                     \u001b[1;32mif\u001b[0m \u001b[0mjob_response\u001b[0m\u001b[1;33m.\u001b[0m\u001b[0mget\u001b[0m\u001b[1;33m(\u001b[0m\u001b[1;34m\"jobStatus\"\u001b[0m\u001b[1;33m)\u001b[0m \u001b[1;33m==\u001b[0m \u001b[1;34m\"esriJobFailed\"\u001b[0m\u001b[1;33m:\u001b[0m\u001b[1;33m\u001b[0m\u001b[1;33m\u001b[0m\u001b[0m\n\u001b[1;32m--> 247\u001b[1;33m                         \u001b[1;32mraise\u001b[0m \u001b[0mException\u001b[0m\u001b[1;33m(\u001b[0m\u001b[1;34m\"Job failed.\"\u001b[0m\u001b[1;33m)\u001b[0m\u001b[1;33m\u001b[0m\u001b[1;33m\u001b[0m\u001b[0m\n\u001b[0m\u001b[0;32m    248\u001b[0m                     \u001b[1;32melif\u001b[0m \u001b[0mjob_response\u001b[0m\u001b[1;33m.\u001b[0m\u001b[0mget\u001b[0m\u001b[1;33m(\u001b[0m\u001b[1;34m\"jobStatus\"\u001b[0m\u001b[1;33m)\u001b[0m \u001b[1;33m==\u001b[0m \u001b[1;34m\"esriJobCancelled\"\u001b[0m\u001b[1;33m:\u001b[0m\u001b[1;33m\u001b[0m\u001b[1;33m\u001b[0m\u001b[0m\n\u001b[0;32m    249\u001b[0m                         \u001b[1;32mraise\u001b[0m \u001b[0mException\u001b[0m\u001b[1;33m(\u001b[0m\u001b[1;34m\"Job cancelled.\"\u001b[0m\u001b[1;33m)\u001b[0m\u001b[1;33m\u001b[0m\u001b[1;33m\u001b[0m\u001b[0m\n",
      "\u001b[1;31mException\u001b[0m: Job failed."
     ]
    }
   ],
   "source": [
    "# To dissolve boundaries of polygons with same state name. The dissolved polygons are summarized using population as summary field and standard deviation as summary type.\n",
    "try:\n",
    "    diss_counties = dissolve_boundaries(input_layer=lyr_terreno,\n",
    "                                        dissolve_fields=[\"manzana_vereda_codigo\"],\n",
    "                                        summary_fields=[\"avaluo_terreno\"])\n",
    "                                        #output_name=\"DissolveBoundaries\")\n",
    "except Exception as ex:\n",
    "    print(str(ex))\n",
    "db_map = gis.map(\"Colombia\")\n",
    "db_map.add_layer(diss_counties)\n",
    "db_map.zoom_to_layer(diss_counties)\n",
    "db_map"
   ]
  },
  {
   "cell_type": "markdown",
   "metadata": {},
   "source": [
    "### find_similar_locations"
   ]
  },
  {
   "cell_type": "code",
   "execution_count": null,
   "metadata": {},
   "outputs": [],
   "source": [
    "try:\n",
    "    top_4_most_similar_locations = find_similar_locations(input_layer=fcol_terreno,\n",
    "                                                          search_layer=lyr_terreno,\n",
    "                                                          analysis_fields=['avaluo_terreno'],\n",
    "                                                          #output_name = \"top 4 similar locations\",\n",
    "                                                          number_of_results=4)\n",
    "except Exception as ex:\n",
    "    print(str(ex))\n",
    "fsl_map = gis.map(\"Colombia\")\n",
    "fsl_map.add_layer(top_4_most_similar_locations)\n",
    "fsl_map.zoom_to_layer(top_4_most_similar_locations)\n",
    "fsl_map"
   ]
  },
  {
   "cell_type": "markdown",
   "metadata": {
    "heading_collapsed": true
   },
   "source": [
    "### choose_best_facilities"
   ]
  },
  {
   "cell_type": "code",
   "execution_count": 11,
   "metadata": {
    "hidden": true
   },
   "outputs": [
    {
     "ename": "Exception",
     "evalue": "You do not have permissions to access this resource or perform this operation.\n(Error Code: 403)",
     "output_type": "error",
     "traceback": [
      "\u001b[1;31m---------------------------------------------------------------------------\u001b[0m",
      "\u001b[1;31mException\u001b[0m                                 Traceback (most recent call last)",
      "\u001b[1;32m~\\AppData\\Local\\Temp\\ipykernel_18020\\3201764261.py\u001b[0m in \u001b[0;36m<cell line: 1>\u001b[1;34m()\u001b[0m\n\u001b[0;32m      1\u001b[0m \u001b[1;32mtry\u001b[0m\u001b[1;33m:\u001b[0m\u001b[1;33m\u001b[0m\u001b[1;33m\u001b[0m\u001b[0m\n\u001b[1;32m----> 2\u001b[1;33m     \u001b[0msf_item\u001b[0m \u001b[1;33m=\u001b[0m \u001b[0mgis\u001b[0m\u001b[1;33m.\u001b[0m\u001b[0mcontent\u001b[0m\u001b[1;33m.\u001b[0m\u001b[0mget\u001b[0m\u001b[1;33m(\u001b[0m\u001b[1;34m\"6e757aa31942469fb91dd84ad53b8485\"\u001b[0m\u001b[1;33m)\u001b[0m\u001b[1;33m\u001b[0m\u001b[1;33m\u001b[0m\u001b[0m\n\u001b[0m\u001b[0;32m      3\u001b[0m     \u001b[0mprint\u001b[0m\u001b[1;33m(\u001b[0m\u001b[0msf_item\u001b[0m\u001b[1;33m.\u001b[0m\u001b[0murl\u001b[0m\u001b[1;33m)\u001b[0m\u001b[1;33m\u001b[0m\u001b[1;33m\u001b[0m\u001b[0m\n\u001b[0;32m      4\u001b[0m     \u001b[0mdisplay\u001b[0m\u001b[1;33m(\u001b[0m\u001b[0msf_item\u001b[0m\u001b[1;33m)\u001b[0m\u001b[1;33m\u001b[0m\u001b[1;33m\u001b[0m\u001b[0m\n\u001b[0;32m      5\u001b[0m \u001b[1;32mexcept\u001b[0m \u001b[0mRuntimeError\u001b[0m \u001b[1;32mas\u001b[0m \u001b[0mre\u001b[0m\u001b[1;33m:\u001b[0m\u001b[1;33m\u001b[0m\u001b[1;33m\u001b[0m\u001b[0m\n",
      "\u001b[1;32mC:\\Program Files\\ArcGIS\\Pro\\bin\\Python\\envs\\arcgispro-py3\\lib\\site-packages\\arcgis\\gis\\__init__.py\u001b[0m in \u001b[0;36mget\u001b[1;34m(self, itemid)\u001b[0m\n\u001b[0;32m   6416\u001b[0m                 \u001b[1;32mreturn\u001b[0m \u001b[1;32mNone\u001b[0m\u001b[1;33m\u001b[0m\u001b[1;33m\u001b[0m\u001b[0m\n\u001b[0;32m   6417\u001b[0m             \u001b[1;32melse\u001b[0m\u001b[1;33m:\u001b[0m\u001b[1;33m\u001b[0m\u001b[1;33m\u001b[0m\u001b[0m\n\u001b[1;32m-> 6418\u001b[1;33m                 \u001b[1;32mraise\u001b[0m \u001b[0me\u001b[0m\u001b[1;33m\u001b[0m\u001b[1;33m\u001b[0m\u001b[0m\n\u001b[0m\u001b[0;32m   6419\u001b[0m \u001b[1;33m\u001b[0m\u001b[0m\n\u001b[0;32m   6420\u001b[0m         \u001b[1;32mif\u001b[0m \u001b[0mitem\u001b[0m \u001b[1;32mis\u001b[0m \u001b[1;32mnot\u001b[0m \u001b[1;32mNone\u001b[0m\u001b[1;33m:\u001b[0m\u001b[1;33m\u001b[0m\u001b[1;33m\u001b[0m\u001b[0m\n",
      "\u001b[1;32mC:\\Program Files\\ArcGIS\\Pro\\bin\\Python\\envs\\arcgispro-py3\\lib\\site-packages\\arcgis\\gis\\__init__.py\u001b[0m in \u001b[0;36mget\u001b[1;34m(self, itemid)\u001b[0m\n\u001b[0;32m   6406\u001b[0m         \"\"\"\n\u001b[0;32m   6407\u001b[0m         \u001b[1;32mtry\u001b[0m\u001b[1;33m:\u001b[0m\u001b[1;33m\u001b[0m\u001b[1;33m\u001b[0m\u001b[0m\n\u001b[1;32m-> 6408\u001b[1;33m             \u001b[0mitem\u001b[0m \u001b[1;33m=\u001b[0m \u001b[0mself\u001b[0m\u001b[1;33m.\u001b[0m\u001b[0m_portal\u001b[0m\u001b[1;33m.\u001b[0m\u001b[0mget_item\u001b[0m\u001b[1;33m(\u001b[0m\u001b[0mitemid\u001b[0m\u001b[1;33m)\u001b[0m\u001b[1;33m\u001b[0m\u001b[1;33m\u001b[0m\u001b[0m\n\u001b[0m\u001b[0;32m   6409\u001b[0m         \u001b[1;32mexcept\u001b[0m \u001b[0mRuntimeError\u001b[0m \u001b[1;32mas\u001b[0m \u001b[0mre\u001b[0m\u001b[1;33m:\u001b[0m\u001b[1;33m\u001b[0m\u001b[1;33m\u001b[0m\u001b[0m\n\u001b[0;32m   6410\u001b[0m             \u001b[1;32mif\u001b[0m \u001b[0mre\u001b[0m\u001b[1;33m.\u001b[0m\u001b[0margs\u001b[0m\u001b[1;33m[\u001b[0m\u001b[1;36m0\u001b[0m\u001b[1;33m]\u001b[0m\u001b[1;33m.\u001b[0m\u001b[0m__contains__\u001b[0m\u001b[1;33m(\u001b[0m\u001b[1;34m\"Item does not exist or is inaccessible\"\u001b[0m\u001b[1;33m)\u001b[0m\u001b[1;33m:\u001b[0m\u001b[1;33m\u001b[0m\u001b[1;33m\u001b[0m\u001b[0m\n",
      "\u001b[1;32mC:\\Program Files\\ArcGIS\\Pro\\bin\\Python\\envs\\arcgispro-py3\\lib\\site-packages\\arcgis\\gis\\_impl\\_portalpy.py\u001b[0m in \u001b[0;36mget_item\u001b[1;34m(self, itemid)\u001b[0m\n\u001b[0;32m   1425\u001b[0m             \u001b[1;33m==\u001b[0m\u001b[1;33m==\u001b[0m\u001b[1;33m==\u001b[0m\u001b[1;33m==\u001b[0m\u001b[1;33m==\u001b[0m\u001b[1;33m==\u001b[0m\u001b[1;33m==\u001b[0m\u001b[1;33m==\u001b[0m  \u001b[1;33m==\u001b[0m\u001b[1;33m==\u001b[0m\u001b[1;33m==\u001b[0m\u001b[1;33m==\u001b[0m\u001b[1;33m==\u001b[0m\u001b[1;33m==\u001b[0m\u001b[1;33m==\u001b[0m\u001b[1;33m==\u001b[0m\u001b[1;33m==\u001b[0m\u001b[1;33m==\u001b[0m\u001b[1;33m==\u001b[0m\u001b[1;33m==\u001b[0m\u001b[1;33m==\u001b[0m\u001b[1;33m==\u001b[0m\u001b[1;33m==\u001b[0m\u001b[1;33m==\u001b[0m\u001b[1;33m==\u001b[0m\u001b[1;33m==\u001b[0m\u001b[1;33m==\u001b[0m\u001b[1;33m==\u001b[0m\u001b[1;33m==\u001b[0m\u001b[1;33m==\u001b[0m\u001b[1;33m==\u001b[0m\u001b[1;33m==\u001b[0m\u001b[1;33m==\u001b[0m\u001b[1;33m==\u001b[0m\u001b[1;33m==\u001b[0m\u001b[1;33m==\u001b[0m\u001b[1;33m\u001b[0m\u001b[1;33m\u001b[0m\u001b[0m\n\u001b[0;32m   1426\u001b[0m         \"\"\"\n\u001b[1;32m-> 1427\u001b[1;33m         \u001b[1;32mreturn\u001b[0m \u001b[0mself\u001b[0m\u001b[1;33m.\u001b[0m\u001b[0mcon\u001b[0m\u001b[1;33m.\u001b[0m\u001b[0mpost\u001b[0m\u001b[1;33m(\u001b[0m\u001b[1;34m\"content/items/\"\u001b[0m \u001b[1;33m+\u001b[0m \u001b[0mitemid\u001b[0m\u001b[1;33m,\u001b[0m \u001b[0mself\u001b[0m\u001b[1;33m.\u001b[0m\u001b[0m_postdata\u001b[0m\u001b[1;33m(\u001b[0m\u001b[1;33m)\u001b[0m\u001b[1;33m)\u001b[0m\u001b[1;33m\u001b[0m\u001b[1;33m\u001b[0m\u001b[0m\n\u001b[0m\u001b[0;32m   1428\u001b[0m \u001b[1;33m\u001b[0m\u001b[0m\n\u001b[0;32m   1429\u001b[0m     def get_item_data(\n",
      "\u001b[1;32mC:\\Program Files\\ArcGIS\\Pro\\bin\\Python\\envs\\arcgispro-py3\\lib\\site-packages\\arcgis\\gis\\_impl\\_con\\_connection.py\u001b[0m in \u001b[0;36mpost\u001b[1;34m(self, path, params, files, **kwargs)\u001b[0m\n\u001b[0;32m   1526\u001b[0m         \u001b[1;32mif\u001b[0m \u001b[0mreturn_raw_response\u001b[0m\u001b[1;33m:\u001b[0m\u001b[1;33m\u001b[0m\u001b[1;33m\u001b[0m\u001b[0m\n\u001b[0;32m   1527\u001b[0m             \u001b[1;32mreturn\u001b[0m \u001b[0mresp\u001b[0m\u001b[1;33m\u001b[0m\u001b[1;33m\u001b[0m\u001b[0m\n\u001b[1;32m-> 1528\u001b[1;33m         return self._handle_response(\n\u001b[0m\u001b[0;32m   1529\u001b[0m             \u001b[0mresp\u001b[0m\u001b[1;33m=\u001b[0m\u001b[0mresp\u001b[0m\u001b[1;33m,\u001b[0m\u001b[1;33m\u001b[0m\u001b[1;33m\u001b[0m\u001b[0m\n\u001b[0;32m   1530\u001b[0m             \u001b[0mout_path\u001b[0m\u001b[1;33m=\u001b[0m\u001b[0mout_path\u001b[0m\u001b[1;33m,\u001b[0m\u001b[1;33m\u001b[0m\u001b[1;33m\u001b[0m\u001b[0m\n",
      "\u001b[1;32mC:\\Program Files\\ArcGIS\\Pro\\bin\\Python\\envs\\arcgispro-py3\\lib\\site-packages\\arcgis\\gis\\_impl\\_con\\_connection.py\u001b[0m in \u001b[0;36m_handle_response\u001b[1;34m(self, resp, file_name, out_path, try_json, force_bytes, ignore_error_key)\u001b[0m\n\u001b[0;32m   1006\u001b[0m                     \u001b[1;32mreturn\u001b[0m \u001b[0mdata\u001b[0m\u001b[1;33m\u001b[0m\u001b[1;33m\u001b[0m\u001b[0m\n\u001b[0;32m   1007\u001b[0m                 \u001b[0merrorcode\u001b[0m \u001b[1;33m=\u001b[0m \u001b[0mdata\u001b[0m\u001b[1;33m[\u001b[0m\u001b[1;34m\"error\"\u001b[0m\u001b[1;33m]\u001b[0m\u001b[1;33m[\u001b[0m\u001b[1;34m\"code\"\u001b[0m\u001b[1;33m]\u001b[0m \u001b[1;32mif\u001b[0m \u001b[1;34m\"code\"\u001b[0m \u001b[1;32min\u001b[0m \u001b[0mdata\u001b[0m\u001b[1;33m[\u001b[0m\u001b[1;34m\"error\"\u001b[0m\u001b[1;33m]\u001b[0m \u001b[1;32melse\u001b[0m \u001b[1;36m0\u001b[0m\u001b[1;33m\u001b[0m\u001b[1;33m\u001b[0m\u001b[0m\n\u001b[1;32m-> 1008\u001b[1;33m                 \u001b[0mself\u001b[0m\u001b[1;33m.\u001b[0m\u001b[0m_handle_json_error\u001b[0m\u001b[1;33m(\u001b[0m\u001b[0mdata\u001b[0m\u001b[1;33m[\u001b[0m\u001b[1;34m\"error\"\u001b[0m\u001b[1;33m]\u001b[0m\u001b[1;33m,\u001b[0m \u001b[0merrorcode\u001b[0m\u001b[1;33m)\u001b[0m\u001b[1;33m\u001b[0m\u001b[1;33m\u001b[0m\u001b[0m\n\u001b[0m\u001b[0;32m   1009\u001b[0m             \u001b[1;32mreturn\u001b[0m \u001b[0mdata\u001b[0m\u001b[1;33m\u001b[0m\u001b[1;33m\u001b[0m\u001b[0m\n\u001b[0;32m   1010\u001b[0m         \u001b[1;32melse\u001b[0m\u001b[1;33m:\u001b[0m\u001b[1;33m\u001b[0m\u001b[1;33m\u001b[0m\u001b[0m\n",
      "\u001b[1;32mC:\\Program Files\\ArcGIS\\Pro\\bin\\Python\\envs\\arcgispro-py3\\lib\\site-packages\\arcgis\\gis\\_impl\\_con\\_connection.py\u001b[0m in \u001b[0;36m_handle_json_error\u001b[1;34m(self, error, errorcode)\u001b[0m\n\u001b[0;32m   1029\u001b[0m \u001b[1;33m\u001b[0m\u001b[0m\n\u001b[0;32m   1030\u001b[0m         \u001b[0merrormessage\u001b[0m \u001b[1;33m=\u001b[0m \u001b[0merrormessage\u001b[0m \u001b[1;33m+\u001b[0m \u001b[1;34m\"\\n(Error Code: \"\u001b[0m \u001b[1;33m+\u001b[0m \u001b[0mstr\u001b[0m\u001b[1;33m(\u001b[0m\u001b[0merrorcode\u001b[0m\u001b[1;33m)\u001b[0m \u001b[1;33m+\u001b[0m \u001b[1;34m\")\"\u001b[0m\u001b[1;33m\u001b[0m\u001b[1;33m\u001b[0m\u001b[0m\n\u001b[1;32m-> 1031\u001b[1;33m         \u001b[1;32mraise\u001b[0m \u001b[0mException\u001b[0m\u001b[1;33m(\u001b[0m\u001b[0merrormessage\u001b[0m\u001b[1;33m)\u001b[0m\u001b[1;33m\u001b[0m\u001b[1;33m\u001b[0m\u001b[0m\n\u001b[0m\u001b[0;32m   1032\u001b[0m \u001b[1;33m\u001b[0m\u001b[0m\n\u001b[0;32m   1033\u001b[0m     def post_multipart(\n",
      "\u001b[1;31mException\u001b[0m: You do not have permissions to access this resource or perform this operation.\n(Error Code: 403)"
     ]
    }
   ],
   "source": [
    "try:\n",
    "    sf_item = gis.content.get(\"6e757aa31942469fb91dd84ad53b8485\")\n",
    "    print(sf_item.url)\n",
    "    display(sf_item)\n",
    "except RuntimeError as re:\n",
    "    print(\"You dont have access to the item.\")\n",
    "\n",
    "demand_points_fl = sf_item.layers[3]\n",
    "try:\n",
    "    demand_points = demand_points_fl.query(where=\"1=1\", as_df=False)\n",
    "    display(demand_points)\n",
    "except RuntimeError as re:\n",
    "    print(\"Query failed.\")\n",
    "    \n",
    "existing_fl = sf_item.layers[0]\n",
    "try:\n",
    "    required_facilities = existing_fl.query(where=\"1=1\", as_df=False)\n",
    "    display(required_facilities)\n",
    "except RuntimeError as re:\n",
    "    print(\"Query failed.\")\n",
    "\n",
    "candidate_fl = sf_item.layers[1]\n",
    "try:\n",
    "    candidate_facilities = candidate_fl.query(where=\"1=1\", as_df=False)\n",
    "    display(candidate_facilities)\n",
    "except RuntimeError as re:\n",
    "    print(\"Query failed.\")\n",
    "    \n",
    "%%time\n",
    "\n",
    "result3b = find_locations.choose_best_facilities(goal=\"MinimizeImpedance\",\n",
    "                                                 demand_locations_layer=demand_points_fl,\n",
    "                                                 travel_mode='Driving Distance',\n",
    "                                                 travel_direction=\"DemandToFacility\",\n",
    "                                                 required_facilities_layer=existing_fl,\n",
    "                                                 candidate_facilities_layer=candidate_fl,\n",
    "                                                 candidate_count=3,\n",
    "                                                 output_name=\"choose best facilities (5)\")"
   ]
  }
 ],
 "metadata": {
  "kernelspec": {
   "display_name": "Python 3 (ipykernel)",
   "language": "python",
   "name": "python3"
  },
  "language_info": {
   "codemirror_mode": {
    "name": "ipython",
    "version": 3
   },
   "file_extension": ".py",
   "mimetype": "text/x-python",
   "name": "python",
   "nbconvert_exporter": "python",
   "pygments_lexer": "ipython3",
   "version": "3.9.16"
  }
 },
 "nbformat": 4,
 "nbformat_minor": 2
}
