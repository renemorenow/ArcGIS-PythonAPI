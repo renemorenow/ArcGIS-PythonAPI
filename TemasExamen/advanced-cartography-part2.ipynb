{
 "cells": [
  {
   "cell_type": "markdown",
   "metadata": {},
   "source": [
    "# Advanced Cartography (Part 2)\n",
    "https://developers.arcgis.com/python/guide/advanced-cartography-part2/"
   ]
  },
  {
   "cell_type": "code",
   "execution_count": 1,
   "metadata": {},
   "outputs": [],
   "source": [
    "from arcgis.gis import GIS\n",
    "gis = GIS(url='https://pythonapi.playground.esri.com/portal', username='arcgis_python', password='amazing_arcgis_123')"
   ]
  },
  {
   "cell_type": "code",
   "execution_count": 2,
   "metadata": {},
   "outputs": [
    {
     "name": "stdout",
     "output_type": "stream",
     "text": [
      "https://pythonapi.playground.esri.com/portal arcgis_python\n"
     ]
    }
   ],
   "source": [
    "print(gis.url, gis.users.me.username)"
   ]
  },
  {
   "cell_type": "code",
   "execution_count": 4,
   "metadata": {},
   "outputs": [],
   "source": [
    "from arcgis.features import FeatureLayer"
   ]
  },
  {
   "cell_type": "markdown",
   "metadata": {
    "heading_collapsed": true
   },
   "source": [
    "## Section 2.1 Types (Unique symbols)"
   ]
  },
  {
   "cell_type": "code",
   "execution_count": 18,
   "metadata": {
    "hidden": true,
    "scrolled": true
   },
   "outputs": [
    {
     "name": "stdout",
     "output_type": "stream",
     "text": [
      "https://maps2.dcgis.dc.gov/dcgis/rest/services/DCGIS_DATA/Transportation_WebMercator/MapServer/163\n"
     ]
    },
    {
     "data": {
      "application/vnd.jupyter.widget-view+json": {
       "model_id": "b549d0bb11db4e7cade9635a528fd16a",
       "version_major": 2,
       "version_minor": 0
      },
      "text/plain": [
       "MapView(layout=Layout(height='400px', width='100%'))"
      ]
     },
     "metadata": {},
     "output_type": "display_data"
    },
    {
     "data": {
      "text/html": [
       "<div class=\"map-static-img-preview-a19e8a7c-3244-4fb9-9111-af40bad58a46\"><img src=\"\"></img></div>"
      ],
      "text/plain": [
       "<IPython.core.display.HTML object>"
      ]
     },
     "metadata": {},
     "output_type": "display_data"
    },
    {
     "data": {
      "text/html": [
       "<div class=\"map-html-embed-preview-a19e8a7c-3244-4fb9-9111-af40bad58a46\"></div>"
      ],
      "text/plain": [
       "<IPython.core.display.HTML object>"
      ]
     },
     "metadata": {},
     "output_type": "display_data"
    }
   ],
   "source": [
    "\"\"\"\n",
    "    # with category\n",
    "    # Unique symbols\n",
    "    # .../MapServer/58 points to the Map Service REST endpoint of different rail lines in the D. C.\n",
    "    # .../MapServer/51 points to the Map Service REST endpoint of the metro stops\n",
    "\"\"\"\n",
    "map6 = gis.map(\"D. C., USA\", 11)\n",
    "\n",
    "map_url = \"https://maps2.dcgis.dc.gov/dcgis/rest/services/DCGIS_DATA/Transportation_WebMercator/MapServer/\"\n",
    "map6_flayer = FeatureLayer(map_url+str(163), gis)\n",
    "print(map6_flayer.url)\n",
    "#map6.add_layer(map6_flayer)\n",
    "\n",
    "map6_flayer = FeatureLayer(map_url+str(47), gis)    \n",
    "map6.add_layer(map6_flayer)    \n",
    "\n",
    "map6"
   ]
  },
  {
   "cell_type": "markdown",
   "metadata": {},
   "source": [
    "## Section 2.2 Styled with 1 category/type and 1 numeric attribute"
   ]
  },
  {
   "cell_type": "code",
   "execution_count": 19,
   "metadata": {},
   "outputs": [
    {
     "data": {
      "application/vnd.jupyter.widget-view+json": {
       "model_id": "dfc83d667e974aa28c2498663bbf5bfa",
       "version_major": 2,
       "version_minor": 0
      },
      "text/plain": [
       "MapView(layout=Layout(height='400px', width='100%'))"
      ]
     },
     "metadata": {},
     "output_type": "display_data"
    },
    {
     "data": {
      "text/html": [
       "<div class=\"map-static-img-preview-c332cc10-61be-4089-839b-57c8c5f51ffb\"><img src=\"\"></img></div>"
      ],
      "text/plain": [
       "<IPython.core.display.HTML object>"
      ]
     },
     "metadata": {},
     "output_type": "display_data"
    },
    {
     "data": {
      "text/html": [
       "<div class=\"map-html-embed-preview-c332cc10-61be-4089-839b-57c8c5f51ffb\"></div>"
      ],
      "text/plain": [
       "<IPython.core.display.HTML object>"
      ]
     },
     "metadata": {},
     "output_type": "display_data"
    }
   ],
   "source": [
    "\"\"\"\n",
    "    # with category and 1 numeric attribute\n",
    "    # types and sizes\n",
    "    # The field used here represent a count attribute such as the number of people who have a graduate degree, and use a unique color for each value found in another field such as a county name.\n",
    "\"\"\"\n",
    "map7 = gis.map(\"New York City, USA\", 11)\n",
    "\n",
    "map7_renderer = {\"renderer\": \"autocast\", #This tells python to use JS autocasting\n",
    "                 \"type\": \"simple\"}\n",
    "\n",
    "map7_renderer[\"symbol\"] = {     \"color\": \"None\",\n",
    "                                \"outline\": {\n",
    "                                    \"color\": \"None\",\n",
    "                                    \"width\": 0.75,\n",
    "                                    \"type\": \"esriSLS\",\n",
    "                                    \"style\": \"esriSLSNull\"\n",
    "                                },\n",
    "                                \"type\": \"esriSFS\",\n",
    "                                \"style\": \"esriSFSSolid\"\n",
    "                            }\n",
    "\n",
    "map7_f1_layer = FeatureLayer(\"https://services.arcgis.com/V6ZHFr6zdgNZuVG0/arcgis/rest/services/Census_Counties_20m/FeatureServer/0\")\n",
    "map7.add_layer(map7_f1_layer,\n",
    "               { \"type\": \"FeatureLayer\",\n",
    "                 \"renderer\": map7_renderer\n",
    "                })\n",
    "\n",
    "map7_f2_layer = FeatureLayer(\"https://services.arcgis.com/V6ZHFr6zdgNZuVG0/arcgis/rest/services/NY Educational Attainment/FeatureServer/0\")\n",
    "map7.add_layer(map7_f2_layer,\n",
    "               { \"type\": \"FeatureLayer\",\n",
    "                 \"transparency\": 75\n",
    "                })\n",
    "\n",
    "map7"
   ]
  },
  {
   "cell_type": "markdown",
   "metadata": {},
   "source": [
    "# Part 3. Styled with date/time attribute(s)"
   ]
  },
  {
   "cell_type": "markdown",
   "metadata": {},
   "source": [
    "## Section 3.1 Styled with 1 date/time attribute"
   ]
  },
  {
   "cell_type": "code",
   "execution_count": 22,
   "metadata": {},
   "outputs": [
    {
     "data": {
      "application/vnd.jupyter.widget-view+json": {
       "model_id": "13d94195d595457bbf4dfc54207786bc",
       "version_major": 2,
       "version_minor": 0
      },
      "text/plain": [
       "MapView(layout=Layout(height='400px', width='100%'))"
      ]
     },
     "metadata": {},
     "output_type": "display_data"
    },
    {
     "data": {
      "text/html": [
       "<div class=\"map-static-img-preview-3d10dc81-16c5-46fc-b003-971e2fc2b820\"><img src=\"\"></img></div>"
      ],
      "text/plain": [
       "<IPython.core.display.HTML object>"
      ]
     },
     "metadata": {},
     "output_type": "display_data"
    },
    {
     "data": {
      "text/html": [
       "<div class=\"map-html-embed-preview-3d10dc81-16c5-46fc-b003-971e2fc2b820\"></div>"
      ],
      "text/plain": [
       "<IPython.core.display.HTML object>"
      ]
     },
     "metadata": {},
     "output_type": "display_data"
    }
   ],
   "source": [
    "\"\"\"\n",
    "    # 1 date/time attribute\n",
    "    # (a) Age (Color)\n",
    "    # The field used here represent which homes in a neighborhood were sold more than 15 years ago and which were sold more recently\n",
    "\"\"\"\n",
    "mapA = gis.map(\"Boulder, CO, USA\", 10)\n",
    "\n",
    "mapA_renderer = {\"renderer\": \"autocast\", #This tells python to use JS autocasting\n",
    "                 \"type\": \"classBreaks\",  \n",
    "                 \"minValue\":-9007199254740991}\n",
    "\n",
    "mapA_valueExpression = \"var startTime = $feature.SALEDATE;\\\n",
    "                        var endTime = 1464917820000;\\\n",
    "                        var retVal = null;\\\n",
    "                        if (startTime != null && endTime != null) {\\\n",
    "                            startTime = Date(startTime);\\\n",
    "                            endTime = Date(endTime);\\\n",
    "                            retVal = DateDiff(endTime, startTime, 'years');\\\n",
    "                        }\\\n",
    "                        return retVal;\"\n",
    "\n",
    "mapA_renderer[\"valueExpression\"] = mapA_valueExpression\n",
    "\n",
    "mapA_renderer[\"visualVariables\"] = [    {   \"type\": \"colorInfo\",\n",
    "                                            \"valueExpression\": mapA_valueExpression,\n",
    "                                            \"stops\": [  {   \"value\": 1,\n",
    "                                                            \"color\": [255,196,174,255],\n",
    "                                                            \"label\": \"< 1\"\n",
    "                                                        },\n",
    "                                                        {   \"value\": 4.5,\n",
    "                                                            \"color\": [249,129,108,255],\n",
    "                                                            \"label\": \"1 <= value < 4.5\"\n",
    "                                                        },  \n",
    "                                                        {   \"value\": 8,\n",
    "                                                            \"color\": [236,82,68,255],\n",
    "                                                            \"label\": \"4.5 <= value < 11.5\"\n",
    "                                                        },\n",
    "                                                        {   \"value\": 11.5,\n",
    "                                                            \"color\": [194,61,51,255],\n",
    "                                                            \"label\": \"11.5 <= value < 15\"\n",
    "                                                        },\n",
    "                                                        {   \"value\": 15,\n",
    "                                                            \"color\": [123,66,56,255],\n",
    "                                                            \"label\": \"> 15\"\n",
    "                                                        }],\n",
    "                                            \"legendOptions\": {\n",
    "                                                \"title\": \"Age, in years, from Sale Date to 6/2/2016\"\n",
    "                                            }\n",
    "                                        },\n",
    "                                        {\n",
    "                                            \"type\": \"sizeInfo\",\n",
    "                                            \"target\": \"outline\",\n",
    "                                            \"expression\": \"view.scale\",\n",
    "                                            \"stops\": [  {   \"size\": 1.5,\n",
    "                                                            \"value\": 713\n",
    "                                                        },\n",
    "                                                        {   \"size\": 0.75,\n",
    "                                                            \"value\": 2228\n",
    "                                                        },\n",
    "                                                        {   \"size\": 0.375,\n",
    "                                                            \"value\": 8911\n",
    "                                                        },\n",
    "                                                        {   \"size\": 0,\n",
    "                                                            \"value\": 17822\n",
    "                                                        }]\n",
    "                                        }]\n",
    "\n",
    "mapA_renderer[\"classBreakInfos\"] = [    {   \"symbol\": {\n",
    "                                                \"color\": [170,170,170,255],\n",
    "                                                \"outline\": {\n",
    "                                                    \"color\": [128,128,128,128],\n",
    "                                                    \"width\": 0.75,\n",
    "                                                    \"type\": \"esriSLS\",\n",
    "                                                    \"style\": \"esriSLSSolid\"\n",
    "                                                },\n",
    "                                                \"type\": \"esriSFS\",\n",
    "                                                \"style\": \"esriSFSSolid\"\n",
    "                                            },\n",
    "                                            \"classMaxValue\": 9007199254740991\n",
    "                                        }]\n",
    "\n",
    "mapA_flayer = FeatureLayer(\"https://services1.arcgis.com/vXSRPZbyyOmH9pek/arcgis/rest/services/Parcels/FeatureServer/0\")\n",
    "\n",
    "mapA.add_layer(mapA_flayer,\n",
    "               { \"type\": \"FeatureLayer\",\n",
    "                 \"renderer\": mapA_renderer})\n",
    "\n",
    "mapA"
   ]
  },
  {
   "cell_type": "markdown",
   "metadata": {},
   "source": [
    "### Section 3.2 Styled with 1 date/time attribute and 1 numeric attribute"
   ]
  },
  {
   "cell_type": "code",
   "execution_count": 24,
   "metadata": {},
   "outputs": [
    {
     "data": {
      "application/vnd.jupyter.widget-view+json": {
       "model_id": "5141a588495b49d2a291d13421acc65b",
       "version_major": 2,
       "version_minor": 0
      },
      "text/plain": [
       "MapView(layout=Layout(height='400px', width='100%'))"
      ]
     },
     "metadata": {},
     "output_type": "display_data"
    },
    {
     "data": {
      "text/html": [
       "<div class=\"map-static-img-preview-48960139-f549-41f9-86f4-4790e6939214\"><img src=\"\"></img></div>"
      ],
      "text/plain": [
       "<IPython.core.display.HTML object>"
      ]
     },
     "metadata": {},
     "output_type": "display_data"
    },
    {
     "data": {
      "text/html": [
       "<div class=\"map-html-embed-preview-48960139-f549-41f9-86f4-4790e6939214\"></div>"
      ],
      "text/plain": [
       "<IPython.core.display.HTML object>"
      ]
     },
     "metadata": {},
     "output_type": "display_data"
    }
   ],
   "source": [
    "\"\"\"\n",
    "    # 1 date/time attribute and and 1 numeric attribute\n",
    "    # (b) Color (Age) and Size\n",
    "    # The field used here represent when migrants went missing based on the date the incident was reported, and use proportional symbols to show how many migrants were found dead\n",
    "\"\"\"\n",
    "mapB = gis.map(\"Mediterranean Sea\", 6)\n",
    "mapB.basemap = mapB.basemaps[0]\n",
    "\n",
    "mapB_renderer = {\"renderer\": \"autocast\", #This tells python to use JS autocasting\n",
    "                 \"type\": \"classBreaks\",\n",
    "                 \"field\": \"DEAD\",  \n",
    "                 \"minValue\":-9007199254740991}\n",
    "\n",
    "mapB_valueExpression = \"var startTime = $feature.DATEREPORTED;\\\n",
    "                        var endTime = 1466053210029;\\\n",
    "                        var retVal = null;\\\n",
    "                        if (startTime != null && endTime != null) {\\\n",
    "                            startTime = Date(startTime);\\\n",
    "                            endTime = Date(endTime);\\\n",
    "                            retVal = DateDiff(endTime, startTime, 'months');\\\n",
    "                        }\\\n",
    "                        return retVal;\"\n",
    "\n",
    "mapB_renderer[\"visualVariables\"] = [    {   \"type\": \"colorInfo\",\n",
    "                                            \"valueExpression\": mapB_valueExpression,\n",
    "                                            \"stops\": [  {   \"value\": 6,\n",
    "                                                            \"color\": [188,230,249,255],\n",
    "                                                            \"label\": \"< 6\"\n",
    "                                                        },\n",
    "                                                        {   \"value\": 10.5,\n",
    "                                                            \"color\": [116,187,237,255],\n",
    "                                                            \"label\": \"6 ~ 10.5\"\n",
    "                                                        },\n",
    "                                                        {   \"value\": 15,\n",
    "                                                            \"color\": [77,150,206,255],\n",
    "                                                            \"label\": \"10.5 ~ 19.5\"\n",
    "                                                        },\n",
    "                                                        {   \"value\": 19.5,\n",
    "                                                            \"color\": [72,121,157,255],\n",
    "                                                            \"label\": \"19.5 ~ 24\"\n",
    "                                                        },\n",
    "                                                        {   \"value\": 24,\n",
    "                                                            \"color\": [64,77,84,255],\n",
    "                                                            \"label\": \"> 24\"\n",
    "                                                        }],\n",
    "                                            \"legendOptions\": {\"title\": \"Age, in months, from DATEREPORTED to 6/15/2016\"}\n",
    "                                        },\n",
    "                                        {   \"type\": \"transparencyInfo\",\n",
    "                                            \"field\": \"DATEREPORTED\",\n",
    "                                            \"stops\": [  {   \"value\": 1388563200000,\n",
    "                                                            \"transparency\": 70\n",
    "                                                        },\n",
    "                                                        {   \"value\": 1451635200000,\n",
    "                                                            \"transparency\": 0\n",
    "                                                        }]\n",
    "                                        },\n",
    "                                        {   \"type\": \"sizeInfo\",\n",
    "                                            \"field\": \"DEAD\",\n",
    "                                            \"valueUnit\": \"unknown\",\n",
    "                                            \"minSize\": 3,\n",
    "                                            \"maxSize\": 33.75,\n",
    "                                            \"minDataValue\": 0,\n",
    "                                            \"maxDataValue\": 200\n",
    "                                        }]\n",
    "\n",
    "mapB_renderer[\"classBreakInfos\"] = [    {   \"symbol\": {\n",
    "                                                \"color\": [227,139,79,255],\n",
    "                                                \"size\": 9,\n",
    "                                                \"angle\": 0,\n",
    "                                                \"xoffset\": 0,\n",
    "                                                \"yoffset\": 0,\n",
    "                                                \"type\": \"esriSMS\",\n",
    "                                                \"style\": \"esriSMSCircle\",\n",
    "                                                \"outline\": {\n",
    "                                                    \"color\": \"White\",\n",
    "                                                    \"width\": 0.75,\n",
    "                                                    \"type\": \"esriSLS\",\n",
    "                                                    \"style\": \"esriSLSNull\"\n",
    "                                                }\n",
    "                                            },\n",
    "                                            \"classMaxValue\": 9007199254740991\n",
    "                                        }]\n",
    "\n",
    "mapB_flayer = FeatureLayer(\"https://services1.arcgis.com/4yjifSiIG17X0gW4/arcgis/rest/services/Missing Migrants - Incident Reports/FeatureServer/0\")\n",
    "\n",
    "mapB.add_layer(mapB_flayer,\n",
    "               { \"type\": \"FeatureLayer\",\n",
    "                 \"renderer\": mapB_renderer})\n",
    "\n",
    "mapB"
   ]
  },
  {
   "cell_type": "markdown",
   "metadata": {},
   "source": [
    "### Section 3.3 Styled with 1 date/time attribute and 1 category/type attribute"
   ]
  },
  {
   "cell_type": "code",
   "execution_count": 25,
   "metadata": {},
   "outputs": [
    {
     "data": {
      "application/vnd.jupyter.widget-view+json": {
       "model_id": "bdca4a692dbf469780c779ca7c3aa338",
       "version_major": 2,
       "version_minor": 0
      },
      "text/plain": [
       "MapView(layout=Layout(height='400px', width='100%'))"
      ]
     },
     "metadata": {},
     "output_type": "display_data"
    },
    {
     "data": {
      "text/html": [
       "<div class=\"map-static-img-preview-549e6eab-44d3-4e0f-ad51-d41063334daf\"><img src=\"\"></img></div>"
      ],
      "text/plain": [
       "<IPython.core.display.HTML object>"
      ]
     },
     "metadata": {},
     "output_type": "display_data"
    },
    {
     "data": {
      "text/html": [
       "<div class=\"map-html-embed-preview-549e6eab-44d3-4e0f-ad51-d41063334daf\"></div>"
      ],
      "text/plain": [
       "<IPython.core.display.HTML object>"
      ]
     },
     "metadata": {},
     "output_type": "display_data"
    }
   ],
   "source": [
    "\"\"\"\n",
    "    # 1 date/time attribute and 1 category/type attribute\n",
    "    # (c) Types and Size (Age)\n",
    "    # The field used here represent if using Visa or American express for payment method\n",
    "\"\"\"\n",
    "mapC = gis.map(\"Beverley Hills, CA, USA\", 12)\n",
    "\n",
    "mapC_renderer = {\"renderer\": \"autocast\", #This tells python to use JS autocasting\n",
    "                 \"type\": \"uniqueValue\",  \n",
    "                 \"field1\":\"PAYMENT\",\n",
    "                 \"transparency\":20,\n",
    "                 \"minValue\":-9007199254740991}\n",
    "\n",
    "mapC_valueExpression = \"var startTime = $feature.Date;\\\n",
    "                        var endTime = 1466106730360;\\\n",
    "                        var retVal = null;\\\n",
    "                        if (startTime != null && endTime != null) {\\\n",
    "                          startTime = Date(startTime);\\\n",
    "                          endTime = Date(endTime);\\\n",
    "                          retVal = DateDiff(endTime, startTime, 'years');\\\n",
    "                        }\\\n",
    "                        return retVal;\"\n",
    "\n",
    "mapC_renderer[\"visualVariables\"] = [{   \"type\": \"transparencyInfo\",\n",
    "                                        \"field\": \"Date\",\n",
    "                                        \"stops\": [\n",
    "                                            {   \"value\": 1383597165692,\n",
    "                                                \"transparency\": 9.999999999999998\n",
    "                                            },\n",
    "                                            {   \"value\": 1383917219586,\n",
    "                                                \"transparency\": 85\n",
    "                                            }]\n",
    "                                    },\n",
    "                                    {   \"type\": \"sizeInfo\",\n",
    "                                        \"valueExpression\": mapC_valueExpression,\n",
    "                                        \"valueUnit\": \"unknown\",\n",
    "                                        \"legendOptions\": {\"title\": \"Age, in years, from Date to 6/16/2016\"},\n",
    "                                        \"minSize\": 6,\n",
    "                                        \"maxSize\": 30,\n",
    "                                        \"minDataValue\": 2.605007927448,\n",
    "                                        \"maxDataValue\": 2.62144628361238\n",
    "                                    }]\n",
    "\n",
    "mapC_renderer[\"uniqueValueInfos\"] = [{  \"value\": \"VI\",\n",
    "                                        \"symbol\": {\n",
    "                                            \"color\": [0,77,168,255],\n",
    "                                            \"size\": 6,\n",
    "                                            \"angle\": 0,\n",
    "                                            \"xoffset\": 0,\n",
    "                                            \"yoffset\": 0,\n",
    "                                            \"type\": \"esriSMS\",\n",
    "                                            \"style\": \"esriSMSCircle\",\n",
    "                                            \"outline\": {\n",
    "                                                \"color\": [190,210,255,88],\n",
    "                                                \"width\": 0.75,\n",
    "                                                \"type\": \"esriSLS\",\n",
    "                                                \"style\": \"esriSLSSolid\"\n",
    "                                            }\n",
    "                                        },\n",
    "                                        \"label\": \"Visa\"\n",
    "                                    },\n",
    "                                    {   \"value\": \"AX\",\n",
    "                                        \"symbol\": {\n",
    "                                            \"color\": [56,168,0,255],\n",
    "                                            \"size\": 6,\n",
    "                                            \"angle\": 0,\n",
    "                                            \"xoffset\": 0,\n",
    "                                            \"yoffset\": 0,\n",
    "                                            \"type\": \"esriSMS\",\n",
    "                                            \"style\": \"esriSMSCircle\",\n",
    "                                            \"outline\": {\n",
    "                                                \"color\": [163,255,115,82],\n",
    "                                                \"width\": 0.75,\n",
    "                                                \"type\": \"esriSLS\",\n",
    "                                                \"style\": \"esriSLSSolid\"\n",
    "                                            }\n",
    "                                        },\n",
    "                                        \"label\": \"Amex\"\n",
    "                                    }]\n",
    "\n",
    "mapC_flayer = FeatureLayer(\"http://services.arcgis.com/V6ZHFr6zdgNZuVG0/arcgis/rest/services/Visa versus Amex/FeatureServer/0\")\n",
    "\n",
    "mapC.add_layer(mapC_flayer,\n",
    "               { \"type\": \"FeatureLayer\",\n",
    "                 \"renderer\": mapC_renderer,\n",
    "                 \"field_name\":\"PAYMENT\"})\n",
    "\n",
    "mapC"
   ]
  }
 ],
 "metadata": {
  "kernelspec": {
   "display_name": "Python 3 (ipykernel)",
   "language": "python",
   "name": "python3"
  },
  "language_info": {
   "codemirror_mode": {
    "name": "ipython",
    "version": 3
   },
   "file_extension": ".py",
   "mimetype": "text/x-python",
   "name": "python",
   "nbconvert_exporter": "python",
   "pygments_lexer": "ipython3",
   "version": "3.9.16"
  }
 },
 "nbformat": 4,
 "nbformat_minor": 2
}
