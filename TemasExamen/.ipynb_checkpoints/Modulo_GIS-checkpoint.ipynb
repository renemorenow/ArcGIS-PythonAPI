{
 "cells": [
  {
   "cell_type": "markdown",
   "metadata": {},
   "source": [
    "# GIS Class:"
   ]
  },
  {
   "cell_type": "markdown",
   "metadata": {},
   "source": [
    "## Imports..."
   ]
  },
  {
   "cell_type": "code",
   "execution_count": 3,
   "metadata": {},
   "outputs": [],
   "source": [
    "from arcgis.gis import GIS"
   ]
  },
  {
   "cell_type": "markdown",
   "metadata": {},
   "source": [
    "## Ejercicios:"
   ]
  },
  {
   "cell_type": "code",
   "execution_count": 6,
   "metadata": {},
   "outputs": [
    {
     "ename": "AttributeError",
     "evalue": "module 'keyring.backends' has no attribute 'OS_X'",
     "output_type": "error",
     "traceback": [
      "\u001b[1;31m---------------------------------------------------------------------------\u001b[0m",
      "\u001b[1;31mAttributeError\u001b[0m                            Traceback (most recent call last)",
      "Input \u001b[1;32mIn [6]\u001b[0m, in \u001b[0;36m<cell line: 2>\u001b[1;34m()\u001b[0m\n\u001b[0;32m      1\u001b[0m \u001b[38;5;66;03m# gis = GIS(\"http://arcgis.com\", \"renemorenow\")\u001b[39;00m\n\u001b[1;32m----> 2\u001b[0m gis \u001b[38;5;241m=\u001b[39m \u001b[43mGIS\u001b[49m\u001b[43m(\u001b[49m\u001b[43mprofile\u001b[49m\u001b[38;5;241;43m=\u001b[39;49m\u001b[38;5;124;43m\"\u001b[39;49m\u001b[38;5;124;43msgc20_desarrollo\u001b[39;49m\u001b[38;5;124;43m\"\u001b[39;49m\u001b[43m)\u001b[49m\n\u001b[0;32m      3\u001b[0m gis\u001b[38;5;241m.\u001b[39murl\n",
      "File \u001b[1;32mC:\\Python\\Python39\\lib\\site-packages\\arcgis\\gis\\__init__.py:279\u001b[0m, in \u001b[0;36mGIS.__init__\u001b[1;34m(self, url, username, password, key_file, cert_file, verify_cert, set_active, client_id, profile, **kwargs)\u001b[0m\n\u001b[0;32m    276\u001b[0m     pm\u001b[38;5;241m.\u001b[39mupdate(profile, url\u001b[38;5;241m=\u001b[39murl, username\u001b[38;5;241m=\u001b[39musername, password\u001b[38;5;241m=\u001b[39mpassword,\n\u001b[0;32m    277\u001b[0m               key_file\u001b[38;5;241m=\u001b[39mkey_file, cert_file\u001b[38;5;241m=\u001b[39mcert_file, client_id\u001b[38;5;241m=\u001b[39mclient_id)\n\u001b[0;32m    278\u001b[0m \u001b[38;5;28;01mif\u001b[39;00m profile \u001b[38;5;129;01min\u001b[39;00m pm\u001b[38;5;241m.\u001b[39mlist(): \u001b[38;5;66;03m# check if the profile name was successfully added, if so, use the profile credentials\u001b[39;00m\n\u001b[1;32m--> 279\u001b[0m     url, username, password, key_file, cert_file, client_id \u001b[38;5;241m=\u001b[39m \u001b[43mpm\u001b[49m\u001b[38;5;241;43m.\u001b[39;49m\u001b[43m_retrieve\u001b[49m\u001b[43m(\u001b[49m\u001b[43mprofile\u001b[49m\u001b[43m)\u001b[49m\n\u001b[0;32m    280\u001b[0m \u001b[38;5;28;01melse\u001b[39;00m:\n\u001b[0;32m    281\u001b[0m     _log\u001b[38;5;241m.\u001b[39minfo(\u001b[38;5;124mf\u001b[39m\u001b[38;5;124m\"\u001b[39m\u001b[38;5;124mProfile \u001b[39m\u001b[38;5;132;01m{\u001b[39;00mprofile\u001b[38;5;132;01m}\u001b[39;00m\u001b[38;5;124m was not saved, using user provided credentials for the `GIS` object.\u001b[39m\u001b[38;5;124m\"\u001b[39m)\n",
      "File \u001b[1;32mC:\\Python\\Python39\\lib\\site-packages\\arcgis\\gis\\_impl\\_profile.py:385\u001b[0m, in \u001b[0;36mProfileManager._retrieve\u001b[1;34m(self, profile)\u001b[0m\n\u001b[0;32m    382\u001b[0m     \u001b[38;5;28;01mif\u001b[39;00m config\u001b[38;5;241m.\u001b[39mhas_option(profile,   \u001b[38;5;124m\"\u001b[39m\u001b[38;5;124mclient_id\u001b[39m\u001b[38;5;124m\"\u001b[39m):\n\u001b[0;32m    383\u001b[0m         client_id \u001b[38;5;241m=\u001b[39m config[profile][\u001b[38;5;124m\"\u001b[39m\u001b[38;5;124mclient_id\u001b[39m\u001b[38;5;124m\"\u001b[39m]\n\u001b[1;32m--> 385\u001b[0m     password \u001b[38;5;241m=\u001b[39m \u001b[38;5;28;43mself\u001b[39;49m\u001b[38;5;241;43m.\u001b[39;49m\u001b[43m_securely_get_password\u001b[49m\u001b[43m(\u001b[49m\u001b[43mprofile\u001b[49m\u001b[43m)\u001b[49m\n\u001b[0;32m    386\u001b[0m \u001b[38;5;28;01mreturn\u001b[39;00m url, username, password, key_file, cert_file, client_id\n",
      "File \u001b[1;32mC:\\Python\\Python39\\lib\\site-packages\\arcgis\\gis\\_impl\\_profile.py:86\u001b[0m, in \u001b[0;36mProfileManager._securely_get_password\u001b[1;34m(self, profile)\u001b[0m\n\u001b[0;32m     80\u001b[0m \u001b[38;5;124;03m\"\"\"Securely gets the profile specific password stored via keyring\u001b[39;00m\n\u001b[0;32m     81\u001b[0m \n\u001b[0;32m     82\u001b[0m \u001b[38;5;124;03mIf keyring is not properly set up system-wide OR if a password is not\u001b[39;00m\n\u001b[0;32m     83\u001b[0m \u001b[38;5;124;03mfound through keyring, log the respective warning and return 'None'\u001b[39;00m\n\u001b[0;32m     84\u001b[0m \u001b[38;5;124;03m\"\"\"\u001b[39;00m\n\u001b[0;32m     85\u001b[0m \u001b[38;5;28;01mimport\u001b[39;00m \u001b[38;5;21;01mkeyring\u001b[39;00m\n\u001b[1;32m---> 86\u001b[0m \u001b[38;5;28;01mif\u001b[39;00m \u001b[38;5;28;43mself\u001b[39;49m\u001b[38;5;241;43m.\u001b[39;49m\u001b[43m_current_keyring_is_recommended\u001b[49m\u001b[43m(\u001b[49m\u001b[43m)\u001b[49m:\n\u001b[0;32m     87\u001b[0m     \u001b[38;5;66;03m# password will be None if no password is found for the profile\u001b[39;00m\n\u001b[0;32m     88\u001b[0m     password \u001b[38;5;241m=\u001b[39m keyring\u001b[38;5;241m.\u001b[39mget_password(\n\u001b[0;32m     89\u001b[0m         \u001b[38;5;124m\"\u001b[39m\u001b[38;5;124marcgis_python_api_profile_passwords\u001b[39m\u001b[38;5;124m\"\u001b[39m, profile)\n\u001b[0;32m     90\u001b[0m \u001b[38;5;28;01melse\u001b[39;00m:\n",
      "File \u001b[1;32mC:\\Python\\Python39\\lib\\site-packages\\arcgis\\gis\\_impl\\_profile.py:126\u001b[0m, in \u001b[0;36mProfileManager._current_keyring_is_recommended\u001b[1;34m(self)\u001b[0m\n\u001b[0;32m    119\u001b[0m \u001b[38;5;124;03m\"\"\"The keyring project recommends 4 secure keyring backends. The\u001b[39;00m\n\u001b[0;32m    120\u001b[0m \u001b[38;5;124;03mdefaults on Windows/OSX should be the recommended backends, but Linux\u001b[39;00m\n\u001b[0;32m    121\u001b[0m \u001b[38;5;124;03mneeds some system-wide software installed and configured to securely\u001b[39;00m\n\u001b[0;32m    122\u001b[0m \u001b[38;5;124;03mfunction. Return if the current keyring is a supported, properly\u001b[39;00m\n\u001b[0;32m    123\u001b[0m \u001b[38;5;124;03mconfigured backend\u001b[39;00m\n\u001b[0;32m    124\u001b[0m \u001b[38;5;124;03m\"\"\"\u001b[39;00m\n\u001b[0;32m    125\u001b[0m \u001b[38;5;28;01mimport\u001b[39;00m \u001b[38;5;21;01mkeyring\u001b[39;00m\n\u001b[1;32m--> 126\u001b[0m supported_keyrings \u001b[38;5;241m=\u001b[39m [ \u001b[43mkeyring\u001b[49m\u001b[38;5;241;43m.\u001b[39;49m\u001b[43mbackends\u001b[49m\u001b[38;5;241;43m.\u001b[39;49m\u001b[43mOS_X\u001b[49m\u001b[38;5;241m.\u001b[39mKeyring,\n\u001b[0;32m    127\u001b[0m                        keyring\u001b[38;5;241m.\u001b[39mbackends\u001b[38;5;241m.\u001b[39mSecretService\u001b[38;5;241m.\u001b[39mKeyring,\n\u001b[0;32m    128\u001b[0m                        keyring\u001b[38;5;241m.\u001b[39mbackends\u001b[38;5;241m.\u001b[39mWindows\u001b[38;5;241m.\u001b[39mWinVaultKeyring,\n\u001b[0;32m    129\u001b[0m                        keyring\u001b[38;5;241m.\u001b[39mbackends\u001b[38;5;241m.\u001b[39mkwallet\u001b[38;5;241m.\u001b[39mDBusKeyring,\n\u001b[0;32m    130\u001b[0m                        keyring\u001b[38;5;241m.\u001b[39mbackends\u001b[38;5;241m.\u001b[39mchainer\u001b[38;5;241m.\u001b[39mChainerBackend ]\n\u001b[0;32m    131\u001b[0m current_keyring \u001b[38;5;241m=\u001b[39m \u001b[38;5;28mtype\u001b[39m(keyring\u001b[38;5;241m.\u001b[39mget_keyring())\n\u001b[0;32m    132\u001b[0m \u001b[38;5;28;01mreturn\u001b[39;00m current_keyring \u001b[38;5;129;01min\u001b[39;00m supported_keyrings\n",
      "\u001b[1;31mAttributeError\u001b[0m: module 'keyring.backends' has no attribute 'OS_X'"
     ]
    }
   ],
   "source": [
    "# gis = GIS(\"http://arcgis.com\", \"renemorenow\")\n",
    "gis = GIS(profile=\"sgc20_desarrollo\")\n",
    "gis.url"
   ]
  },
  {
   "cell_type": "code",
   "execution_count": 10,
   "metadata": {},
   "outputs": [
    {
     "data": {
      "text/plain": [
       "<API Key apiKey_desde_PythonApi>"
      ]
     },
     "execution_count": 10,
     "metadata": {},
     "output_type": "execute_result"
    }
   ],
   "source": [
    "apiKey = gis.api_keys\n",
    "akCreate = apiKey.create(\"apiKey_desde_PythonApi\", \"apiKey,PythonApi\", \"apiKey desde PythonApi\", [\"https://foo.com\", \"https://bar.com\"])\n",
    "akCreate"
   ]
  },
  {
   "cell_type": "code",
   "execution_count": 28,
   "metadata": {},
   "outputs": [],
   "source": [
    "apiCreada = gis.api_keys.get(\"apiKey_desde_PythonApi\")\n",
    "apiCreada"
   ]
  },
  {
   "cell_type": "code",
   "execution_count": 3,
   "metadata": {},
   "outputs": [
    {
     "ename": "AttributeError",
     "evalue": "'NoneType' object has no attribute 'keys'",
     "output_type": "error",
     "traceback": [
      "\u001b[1;31m---------------------------------------------------------------------------\u001b[0m",
      "\u001b[1;31mAttributeError\u001b[0m                            Traceback (most recent call last)",
      "\u001b[1;32m~\\AppData\\Local\\Temp\\ipykernel_2752\\1871290455.py\u001b[0m in \u001b[0;36m<module>\u001b[1;34m\u001b[0m\n\u001b[1;32m----> 1\u001b[1;33m \u001b[0mapiKeys\u001b[0m \u001b[1;33m=\u001b[0m \u001b[0mgis\u001b[0m\u001b[1;33m.\u001b[0m\u001b[0mapi_keys\u001b[0m\u001b[1;33m.\u001b[0m\u001b[0mkeys\u001b[0m\u001b[1;33m\u001b[0m\u001b[1;33m\u001b[0m\u001b[0m\n\u001b[0m\u001b[0;32m      2\u001b[0m \u001b[0mapiKeys\u001b[0m\u001b[1;33m\u001b[0m\u001b[1;33m\u001b[0m\u001b[0m\n",
      "\u001b[1;31mAttributeError\u001b[0m: 'NoneType' object has no attribute 'keys'"
     ]
    }
   ],
   "source": [
    "apiKeys = gis.api_keys.keys\n",
    "apiKeys"
   ]
  },
  {
   "cell_type": "code",
   "execution_count": 9,
   "metadata": {},
   "outputs": [],
   "source": [
    "gis.api_keys"
   ]
  },
  {
   "cell_type": "code",
   "execution_count": 40,
   "metadata": {},
   "outputs": [
    {
     "data": {
      "text/plain": [
       "<API Key apiKey_desde_PythonApi>"
      ]
     },
     "execution_count": 40,
     "metadata": {},
     "output_type": "execute_result"
    }
   ],
   "source": [
    "key1 = gis.api_keys.keys[0]\n",
    "key1"
   ]
  },
  {
   "cell_type": "code",
   "execution_count": 46,
   "metadata": {},
   "outputs": [
    {
     "data": {
      "text/plain": [
       "{'itemId': '459530a5235044aaa95c19c425992fca', 'client_id': 'KLmtBOa3UfJ0DqzC', 'client_secret': '2dc49cb306414b88b9230f99a1ecf749', 'appType': 'apikey', 'redirect_uris': [], 'registered': 1660020771000, 'modified': 1660020771000, 'apnsProdCert': None, 'apnsSandboxCert': None, 'gcmApiKey': None, 'httpReferrers': ['https://bar.com', 'https://foo.com'], 'privileges': [], 'isBeta': False, 'apiKey': 'AAPK06b31e97ed0045efafecf9fccc640e05PBaj8MlCRhYNDhmPn-ov2lpLhE386MQIKXMZ5BNu4L-DXAmnaNajZrv3dRMbyTQ9'}"
      ]
     },
     "execution_count": 46,
     "metadata": {},
     "output_type": "execute_result"
    }
   ],
   "source": [
    "key1.properties"
   ]
  },
  {
   "cell_type": "markdown",
   "metadata": {},
   "source": [
    "## update_properties"
   ]
  },
  {
   "cell_type": "code",
   "execution_count": null,
   "metadata": {},
   "outputs": [],
   "source": [
    "upd = {\"description\":\"uso de gis.update_properties\",\"access\":\"public\"}\n",
    "gis.update_properties(upd)"
   ]
  },
  {
   "cell_type": "markdown",
   "metadata": {},
   "source": [
    "## Groups:"
   ]
  },
  {
   "cell_type": "code",
   "execution_count": 52,
   "metadata": {},
   "outputs": [
    {
     "data": {
      "text/plain": [
       "[]"
      ]
     },
     "execution_count": 52,
     "metadata": {},
     "output_type": "execute_result"
    }
   ],
   "source": [
    "gM = gis.groups\n",
    "gM.search()"
   ]
  },
  {
   "cell_type": "code",
   "execution_count": 10,
   "metadata": {},
   "outputs": [
    {
     "name": "stdout",
     "output_type": "stream",
     "text": [
      "1660192070701.638\n",
      "unix_timestamp =>  1660192070000.0\n"
     ]
    }
   ],
   "source": [
    "#https://www.geeksforgeeks.org/how-to-convert-datetime-to-unix-timestamp-in-python/\n",
    "\n",
    "import time\n",
    "import datetime\n",
    " \n",
    "presentDate = datetime.datetime.now()\n",
    "unix_timestamp = datetime.datetime.timestamp(presentDate)*1000\n",
    "print(unix_timestamp)\n",
    "\n",
    "date_time = presentDate\n",
    "print(\"unix_timestamp => \",\n",
    "      (time.mktime(date_time.timetuple())*1000))"
   ]
  },
  {
   "cell_type": "code",
   "execution_count": 18,
   "metadata": {},
   "outputs": [
    {
     "data": {
      "text/plain": [
       "{'servers': [{'id': 'qr2qoxsfVCN5a2Id',\n",
       "   'name': 'https://arcgis.catasig.com.co:6443',\n",
       "   'adminUrl': 'https://enterprise.local:6443/arcgis',\n",
       "   'url': 'https://arcgis.catasig.com.co/server',\n",
       "   'isHosted': True,\n",
       "   'serverType': 'ArcGIS',\n",
       "   'serverRole': 'HOSTING_SERVER',\n",
       "   'serverFunction': ''}]}"
      ]
     },
     "execution_count": 18,
     "metadata": {},
     "output_type": "execute_result"
    }
   ],
   "source": [
    "#gis.datastore\n",
    "gis.servers"
   ]
  },
  {
   "cell_type": "code",
   "execution_count": 1,
   "metadata": {},
   "outputs": [],
   "source": [
    "from sgc import sgccat20lib"
   ]
  },
  {
   "cell_type": "code",
   "execution_count": 3,
   "metadata": {},
   "outputs": [
    {
     "data": {
      "text/plain": [
       "datetime.datetime(2022, 6, 14, 23, 27, tzinfo=<UTC>)"
      ]
     },
     "execution_count": 3,
     "metadata": {},
     "output_type": "execute_result"
    }
   ],
   "source": [
    "fecha = sgccat20lib.transformarFechaGdb(1655249220000)\n",
    "fecha"
   ]
  },
  {
   "cell_type": "code",
   "execution_count": 6,
   "metadata": {},
   "outputs": [
    {
     "name": "stdout",
     "output_type": "stream",
     "text": [
      "1655249220000.0\n"
     ]
    }
   ],
   "source": [
    "#https://www.geeksforgeeks.org/how-to-convert-datetime-to-unix-timestamp-in-python/\n",
    "\n",
    "import time\n",
    "import datetime\n",
    " \n",
    "presentDate = fecha\n",
    "unix_timestamp = datetime.datetime.timestamp(presentDate)*1000\n",
    "print(unix_timestamp)"
   ]
  },
  {
   "cell_type": "code",
   "execution_count": null,
   "metadata": {},
   "outputs": [],
   "source": [
    "map1 = gis.map(\"Garzon\",1000,\"2D\")\n",
    "map1"
   ]
  }
 ],
 "metadata": {
  "kernelspec": {
   "display_name": "Python 3 (ipykernel)",
   "language": "python",
   "name": "python3"
  },
  "language_info": {
   "codemirror_mode": {
    "name": "ipython",
    "version": 3
   },
   "file_extension": ".py",
   "mimetype": "text/x-python",
   "name": "python",
   "nbconvert_exporter": "python",
   "pygments_lexer": "ipython3",
   "version": "3.9.13"
  },
  "vscode": {
   "interpreter": {
    "hash": "6085f8b8ffd688a54e732bb2d8a1e7f06b731569fbfa9e59aa638e5a28281238"
   }
  }
 },
 "nbformat": 4,
 "nbformat_minor": 2
}
