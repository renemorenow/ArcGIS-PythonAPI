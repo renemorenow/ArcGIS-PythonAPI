{
 "cells": [
  {
   "cell_type": "markdown",
   "metadata": {},
   "source": [
    "# Symbology/ Visualization"
   ]
  },
  {
   "cell_type": "markdown",
   "metadata": {},
   "source": [
    "## Imports:"
   ]
  },
  {
   "cell_type": "code",
   "execution_count": null,
   "metadata": {},
   "outputs": [],
   "source": [
    "from arcgis.gis import *"
   ]
  },
  {
   "cell_type": "code",
   "execution_count": 1,
   "metadata": {},
   "outputs": [
    {
     "name": "stdout",
     "output_type": "stream",
     "text": [
      "https://pruebascatastro.esri.co/portal adminsgcv2\n"
     ]
    }
   ],
   "source": [
    "gis = GIS(profile=\"sgc20_pruebas\")\n",
    "print(gis.url, gis.users.me.username)"
   ]
  },
  {
   "cell_type": "markdown",
   "metadata": {},
   "source": [
    "## Ejercicios:"
   ]
  },
  {
   "cell_type": "code",
   "execution_count": 2,
   "metadata": {},
   "outputs": [
    {
     "data": {
      "application/vnd.jupyter.widget-view+json": {
       "model_id": "25cd1c5f3ea7486db18da3fca89fbb77",
       "version_major": 2,
       "version_minor": 0
      },
      "text/plain": [
       "MapView(layout=Layout(height='400px', width='100%'))"
      ]
     },
     "metadata": {},
     "output_type": "display_data"
    },
    {
     "data": {
      "text/html": [
       "<div class=\"map-static-img-preview-f76d136f-c4b3-4dbb-8758-8827c975d3be\"><img src=\"\"></img></div>"
      ],
      "text/plain": [
       "<IPython.core.display.HTML object>"
      ]
     },
     "metadata": {},
     "output_type": "display_data"
    },
    {
     "data": {
      "text/html": [
       "<div class=\"map-html-embed-preview-f76d136f-c4b3-4dbb-8758-8827c975d3be\"></div>"
      ],
      "text/plain": [
       "<IPython.core.display.HTML object>"
      ]
     },
     "metadata": {},
     "output_type": "display_data"
    }
   ],
   "source": [
    "map1 = gis.map('Colombia',13)\n",
    "map1"
   ]
  },
  {
   "cell_type": "code",
   "execution_count": 15,
   "metadata": {},
   "outputs": [
    {
     "data": {
      "text/plain": [
       "[<Item title:\"FS_Conservacion_Consulta_54001\" type:Feature Layer Collection owner:adminsgcv2>]"
      ]
     },
     "execution_count": 15,
     "metadata": {},
     "output_type": "execute_result"
    }
   ],
   "source": [
    "search_result = gis.content.search('title:FS_Conservacion_Consulta_54001 AND owner:adminsgcv2', \n",
    "                                  item_type = 'Feature Layer')\n",
    "search_result"
   ]
  },
  {
   "cell_type": "code",
   "execution_count": 17,
   "metadata": {},
   "outputs": [
    {
     "data": {
      "text/html": [
       "<div class=\"item_container\" style=\"height: auto; overflow: hidden; border: 1px solid #cfcfcf; border-radius: 2px; background: #f6fafa; line-height: 1.21429em; padding: 10px;\">\n",
       "                    <div class=\"item_left\" style=\"width: 210px; float: left;\">\n",
       "                       <a href='https://pruebascatastro.esri.co/portal/home/item.html?id=db0f21a1e70e42658d05517cc767821b' target='_blank'>\n",
       "                        <img src='data:image/png;base64,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' width='200' height='133' class=\"itemThumbnail\">\n",
       "                       </a>\n",
       "                    </div>\n",
       "\n",
       "                    <div class=\"item_right\"     style=\"float: none; width: auto; overflow: hidden;\">\n",
       "                        <a href='https://pruebascatastro.esri.co/portal/home/item.html?id=db0f21a1e70e42658d05517cc767821b' target='_blank'><b>FS_Conservacion_Consulta_54001</b>\n",
       "                        </a>\n",
       "                        <br/>Cucuta<img src='https://pruebascatastro.esri.co/portal/home/js/jsapi/esri/css/images/item_type_icons/featureshosted16.png' style=\"vertical-align:middle;\">Feature Layer Collection by adminsgcv2\n",
       "                        <br/>Last Modified: October 03, 2023\n",
       "                        <br/>0 comments, 21 views\n",
       "                    </div>\n",
       "                </div>\n",
       "                "
      ],
      "text/plain": [
       "<Item title:\"FS_Conservacion_Consulta_54001\" type:Feature Layer Collection owner:adminsgcv2>"
      ]
     },
     "execution_count": 17,
     "metadata": {},
     "output_type": "execute_result"
    }
   ],
   "source": [
    "search_result[0]"
   ]
  },
  {
   "cell_type": "code",
   "execution_count": 10,
   "metadata": {},
   "outputs": [
    {
     "data": {
      "text/plain": [
       "[<Item title:\"USA Freeway System\" type:Feature Layer Collection owner:esri_livingatlas>]"
      ]
     },
     "execution_count": 10,
     "metadata": {},
     "output_type": "execute_result"
    }
   ],
   "source": [
    "search_result = gis.content.search('title:USA freeway system', item_type='Feature Layer', outside_org=True)\n",
    "search_result"
   ]
  },
  {
   "cell_type": "code",
   "execution_count": 18,
   "metadata": {
    "scrolled": true
   },
   "outputs": [],
   "source": [
    "freeway_item = search_result[0]\n",
    "#map1.add_layer(freeway_item)"
   ]
  },
  {
   "cell_type": "code",
   "execution_count": 29,
   "metadata": {
    "scrolled": true
   },
   "outputs": [
    {
     "name": "stdout",
     "output_type": "stream",
     "text": [
      "https://pruebascatastro.esri.co/server/rest/services/SERVICIOS/FS_Conservacion_Consulta_54001/FeatureServer/48 (Avaluos) Zona Homogenea Geoeconomica Rural\n",
      "objectid\n"
     ]
    }
   ],
   "source": [
    "# Use the first layer available on the service.\n",
    "#freeway_feature_layer = freeway_item.layers[37]\n",
    "freeway_feature_layer = freeway_item.layers[29]\n",
    "\n",
    "# Print the layer's url and field names.\n",
    "print(freeway_feature_layer.url, freeway_feature_layer.properties[\"name\"])\n",
    "for field in freeway_feature_layer.properties['fields']:\n",
    "    print(field['name'])\n",
    "    break"
   ]
  },
  {
   "cell_type": "code",
   "execution_count": 34,
   "metadata": {},
   "outputs": [
    {
     "data": {
      "text/plain": [
       "{\n",
       "  \"currentVersion\": 10.91,\n",
       "  \"cimVersion\": \"2.9.0\",\n",
       "  \"id\": 48,\n",
       "  \"name\": \"(Avaluos) Zona Homogenea Geoeconomica Rural\",\n",
       "  \"type\": \"Feature Layer\",\n",
       "  \"parentLayer\": null,\n",
       "  \"defaultVisibility\": true,\n",
       "  \"minScale\": 0,\n",
       "  \"maxScale\": 0,\n",
       "  \"canScaleSymbols\": false,\n",
       "  \"geometryType\": \"esriGeometryPolygon\",\n",
       "  \"description\": \"File Geodatabase Feature Class - Polygon (C\\u00f3digo, C\\u00f3digo Zona Geoecon\\u00f3mica, Valor Hect\\u00e1rea, Subzona F\\u00edsica, Vigencia)\",\n",
       "  \"copyrightText\": \"IGAC\",\n",
       "  \"editFieldsInfo\": {\n",
       "    \"creationDateField\": \"created_date\",\n",
       "    \"creatorField\": \"created_user\",\n",
       "    \"editDateField\": \"last_edited_date\",\n",
       "    \"editorField\": \"last_edited_user\",\n",
       "    \"dateFieldsTimeReference\": {\n",
       "      \"timeZone\": \"UTC\",\n",
       "      \"respectsDaylightSaving\": false\n",
       "    }\n",
       "  },\n",
       "  \"ownershipBasedAccessControlForFeatures\": null,\n",
       "  \"syncCanReturnChanges\": true,\n",
       "  \"relationships\": [],\n",
       "  \"isDataVersioned\": true,\n",
       "  \"isDataArchived\": true,\n",
       "  \"infoInEstimates\": [\n",
       "    \"extent\",\n",
       "    \"count\"\n",
       "  ],\n",
       "  \"isDataBranchVersioned\": true,\n",
       "  \"isDataReplicaTracked\": false,\n",
       "  \"isCoGoEnabled\": false,\n",
       "  \"supportsRollbackOnFailureParameter\": false,\n",
       "  \"archivingInfo\": {\n",
       "    \"supportsQueryWithHistoricMoment\": true,\n",
       "    \"startArchivingMoment\": 1684926374000\n",
       "  },\n",
       "  \"supportsStatistics\": true,\n",
       "  \"supportsExceedsLimitStatistics\": true,\n",
       "  \"supportsAdvancedQueries\": true,\n",
       "  \"supportsValidateSQL\": true,\n",
       "  \"supportsCoordinatesQuantization\": true,\n",
       "  \"supportsQuantizationEditMode\": true,\n",
       "  \"supportsCalculate\": true,\n",
       "  \"supportsASyncCalculate\": true,\n",
       "  \"supportsDatumTransformation\": true,\n",
       "  \"advancedQueryCapabilities\": {\n",
       "    \"supportsPagination\": true,\n",
       "    \"supportsTrueCurve\": true,\n",
       "    \"supportsQueryWithDistance\": true,\n",
       "    \"supportsReturningQueryExtent\": true,\n",
       "    \"supportsStatistics\": true,\n",
       "    \"supportsPercentileStatistics\": true,\n",
       "    \"supportsHavingClause\": true,\n",
       "    \"supportsOrderBy\": true,\n",
       "    \"supportsDistinct\": true,\n",
       "    \"supportsCountDistinct\": true,\n",
       "    \"supportsQueryWithResultType\": true,\n",
       "    \"supportsReturningGeometryCentroid\": true,\n",
       "    \"supportsSqlExpression\": true,\n",
       "    \"supportsQueryWithDatumTransformation\": true,\n",
       "    \"supportsLod\": false,\n",
       "    \"supportsQueryWithLodSR\": false,\n",
       "    \"supportsQueryAnalytic\": false\n",
       "  },\n",
       "  \"advancedEditingCapabilities\": {\n",
       "    \"supportedSqlFormatsInCalculate\": [\n",
       "      \"standard\"\n",
       "    ],\n",
       "    \"supportsAsyncApplyEdits\": true\n",
       "  },\n",
       "  \"hasGeometryProperties\": true,\n",
       "  \"geometryProperties\": {\n",
       "    \"shapeAreaFieldName\": \"Shape__Area\",\n",
       "    \"shapeLengthFieldName\": \"Shape__Length\",\n",
       "    \"units\": \"esriMeters\"\n",
       "  },\n",
       "  \"hasMetadata\": true,\n",
       "  \"extent\": {\n",
       "    \"xmin\": 5043323.833300001,\n",
       "    \"ymin\": 2411731.5872000013,\n",
       "    \"xmax\": 5071905.170700001,\n",
       "    \"ymax\": 2489689.2631,\n",
       "    \"spatialReference\": {\n",
       "      \"wkid\": 9377,\n",
       "      \"latestWkid\": 9377,\n",
       "      \"xyTolerance\": 0.001,\n",
       "      \"zTolerance\": 0.001,\n",
       "      \"mTolerance\": 0.001,\n",
       "      \"falseX\": -618700,\n",
       "      \"falseY\": -8436100,\n",
       "      \"xyUnits\": 10000,\n",
       "      \"falseZ\": -100000,\n",
       "      \"zUnits\": 10000,\n",
       "      \"falseM\": -100000,\n",
       "      \"mUnits\": 10000\n",
       "    }\n",
       "  },\n",
       "  \"sourceSpatialReference\": {\n",
       "    \"wkid\": 9377,\n",
       "    \"latestWkid\": 9377,\n",
       "    \"xyTolerance\": 0.001,\n",
       "    \"zTolerance\": 0.001,\n",
       "    \"mTolerance\": 0.001,\n",
       "    \"falseX\": -400,\n",
       "    \"falseY\": -400,\n",
       "    \"xyUnits\": 999999999.9999999,\n",
       "    \"falseZ\": -100000,\n",
       "    \"zUnits\": 10000,\n",
       "    \"falseM\": 0,\n",
       "    \"mUnits\": 1\n",
       "  },\n",
       "  \"drawingInfo\": {\n",
       "    \"renderer\": {\n",
       "      \"type\": \"simple\",\n",
       "      \"symbol\": {\n",
       "        \"type\": \"esriSFS\",\n",
       "        \"style\": \"esriSFSSolid\",\n",
       "        \"color\": [\n",
       "          179,\n",
       "          252,\n",
       "          246,\n",
       "          255\n",
       "        ],\n",
       "        \"outline\": {\n",
       "          \"type\": \"esriSLS\",\n",
       "          \"style\": \"esriSLSSolid\",\n",
       "          \"color\": [\n",
       "            110,\n",
       "            110,\n",
       "            110,\n",
       "            255\n",
       "          ],\n",
       "          \"width\": 0.7\n",
       "        }\n",
       "      }\n",
       "    },\n",
       "    \"scaleSymbols\": true,\n",
       "    \"transparency\": 0,\n",
       "    \"labelingInfo\": null\n",
       "  },\n",
       "  \"hasM\": false,\n",
       "  \"hasZ\": false,\n",
       "  \"allowGeometryUpdates\": true,\n",
       "  \"allowTrueCurvesUpdates\": true,\n",
       "  \"onlyAllowTrueCurveUpdatesByTrueCurveClients\": true,\n",
       "  \"hasAttachments\": false,\n",
       "  \"supportsApplyEditsWithGlobalIds\": true,\n",
       "  \"supportsOidReservation\": true,\n",
       "  \"htmlPopupType\": \"esriServerHTMLPopupTypeAsHTMLText\",\n",
       "  \"objectIdField\": \"objectid\",\n",
       "  \"globalIdField\": \"globalid\",\n",
       "  \"displayField\": \"codigo\",\n",
       "  \"typeIdField\": \"\",\n",
       "  \"subtypeField\": \"\",\n",
       "  \"fields\": [\n",
       "    {\n",
       "      \"name\": \"objectid\",\n",
       "      \"type\": \"esriFieldTypeOID\",\n",
       "      \"alias\": \"OBJECTID\",\n",
       "      \"domain\": null,\n",
       "      \"editable\": false,\n",
       "      \"nullable\": false,\n",
       "      \"defaultValue\": null,\n",
       "      \"modelName\": \"OBJECTID\"\n",
       "    },\n",
       "    {\n",
       "      \"name\": \"codigo\",\n",
       "      \"type\": \"esriFieldTypeString\",\n",
       "      \"alias\": \"C\\u00f3digo\",\n",
       "      \"domain\": null,\n",
       "      \"editable\": true,\n",
       "      \"nullable\": true,\n",
       "      \"length\": 20,\n",
       "      \"defaultValue\": null,\n",
       "      \"modelName\": \"Identificador\"\n",
       "    },\n",
       "    {\n",
       "      \"name\": \"valor_hectarea\",\n",
       "      \"type\": \"esriFieldTypeDouble\",\n",
       "      \"alias\": \"Valor Hect\\u00e1rea\",\n",
       "      \"domain\": null,\n",
       "      \"editable\": true,\n",
       "      \"nullable\": true,\n",
       "      \"defaultValue\": null,\n",
       "      \"modelName\": \"Valor\"\n",
       "    },\n",
       "    {\n",
       "      \"name\": \"globalid\",\n",
       "      \"type\": \"esriFieldTypeGlobalID\",\n",
       "      \"alias\": \"GlobalID\",\n",
       "      \"domain\": null,\n",
       "      \"editable\": false,\n",
       "      \"nullable\": false,\n",
       "      \"length\": 38,\n",
       "      \"defaultValue\": null,\n",
       "      \"modelName\": \"GlobalID\"\n",
       "    },\n",
       "    {\n",
       "      \"name\": \"codigo_zona_geoeconomica\",\n",
       "      \"type\": \"esriFieldTypeString\",\n",
       "      \"alias\": \"C\\u00f3digo Zona Geoecon\\u00f3mica\",\n",
       "      \"domain\": null,\n",
       "      \"editable\": true,\n",
       "      \"nullable\": true,\n",
       "      \"length\": 20,\n",
       "      \"defaultValue\": null,\n",
       "      \"modelName\": \"Codigo_Zona_Geoeconomica\"\n",
       "    },\n",
       "    {\n",
       "      \"name\": \"subzona_fisica\",\n",
       "      \"type\": \"esriFieldTypeString\",\n",
       "      \"alias\": \"Subzona F\\u00edsica\",\n",
       "      \"domain\": null,\n",
       "      \"editable\": true,\n",
       "      \"nullable\": true,\n",
       "      \"length\": 255,\n",
       "      \"defaultValue\": null,\n",
       "      \"modelName\": \"Subzona_Fisica\"\n",
       "    },\n",
       "    {\n",
       "      \"name\": \"vigencia\",\n",
       "      \"type\": \"esriFieldTypeDate\",\n",
       "      \"alias\": \"Vigencia\",\n",
       "      \"domain\": null,\n",
       "      \"editable\": true,\n",
       "      \"nullable\": true,\n",
       "      \"length\": 8,\n",
       "      \"defaultValue\": null,\n",
       "      \"modelName\": \"Vigencia\"\n",
       "    },\n",
       "    {\n",
       "      \"name\": \"created_user\",\n",
       "      \"type\": \"esriFieldTypeString\",\n",
       "      \"alias\": \"created_user\",\n",
       "      \"domain\": null,\n",
       "      \"editable\": false,\n",
       "      \"nullable\": true,\n",
       "      \"length\": 255,\n",
       "      \"defaultValue\": null,\n",
       "      \"modelName\": \"created_user\"\n",
       "    },\n",
       "    {\n",
       "      \"name\": \"created_date\",\n",
       "      \"type\": \"esriFieldTypeDate\",\n",
       "      \"alias\": \"created_date\",\n",
       "      \"domain\": null,\n",
       "      \"editable\": false,\n",
       "      \"nullable\": true,\n",
       "      \"length\": 8,\n",
       "      \"defaultValue\": null,\n",
       "      \"modelName\": \"created_date\"\n",
       "    },\n",
       "    {\n",
       "      \"name\": \"last_edited_user\",\n",
       "      \"type\": \"esriFieldTypeString\",\n",
       "      \"alias\": \"last_edited_user\",\n",
       "      \"domain\": null,\n",
       "      \"editable\": false,\n",
       "      \"nullable\": true,\n",
       "      \"length\": 255,\n",
       "      \"defaultValue\": null,\n",
       "      \"modelName\": \"last_edited_user\"\n",
       "    },\n",
       "    {\n",
       "      \"name\": \"last_edited_date\",\n",
       "      \"type\": \"esriFieldTypeDate\",\n",
       "      \"alias\": \"last_edited_date\",\n",
       "      \"domain\": null,\n",
       "      \"editable\": false,\n",
       "      \"nullable\": true,\n",
       "      \"length\": 8,\n",
       "      \"defaultValue\": null,\n",
       "      \"modelName\": \"last_edited_date\"\n",
       "    },\n",
       "    {\n",
       "      \"name\": \"Shape__Area\",\n",
       "      \"type\": \"esriFieldTypeDouble\",\n",
       "      \"alias\": \"st_area(shape)\",\n",
       "      \"domain\": null,\n",
       "      \"editable\": false,\n",
       "      \"nullable\": false,\n",
       "      \"defaultValue\": null,\n",
       "      \"modelName\": \"st_area(shape)\"\n",
       "    },\n",
       "    {\n",
       "      \"name\": \"Shape__Length\",\n",
       "      \"type\": \"esriFieldTypeDouble\",\n",
       "      \"alias\": \"st_length(shape)\",\n",
       "      \"domain\": null,\n",
       "      \"editable\": false,\n",
       "      \"nullable\": false,\n",
       "      \"defaultValue\": null,\n",
       "      \"modelName\": \"st_length(shape)\"\n",
       "    }\n",
       "  ],\n",
       "  \"geometryField\": {\n",
       "    \"name\": \"shape\",\n",
       "    \"type\": \"esriFieldTypeGeometry\",\n",
       "    \"alias\": \"Shape\",\n",
       "    \"domain\": null,\n",
       "    \"editable\": true,\n",
       "    \"nullable\": true,\n",
       "    \"defaultValue\": null,\n",
       "    \"modelName\": \"Shape\"\n",
       "  },\n",
       "  \"indexes\": [\n",
       "    {\n",
       "      \"name\": \"r1049_sde_rowid_uk\",\n",
       "      \"fields\": \"objectid\",\n",
       "      \"isAscending\": true,\n",
       "      \"isUnique\": false,\n",
       "      \"description\": \"\"\n",
       "    },\n",
       "    {\n",
       "      \"name\": \"uuid_1049\",\n",
       "      \"fields\": \"globalid\",\n",
       "      \"isAscending\": true,\n",
       "      \"isUnique\": true,\n",
       "      \"description\": \"\"\n",
       "    },\n",
       "    {\n",
       "      \"name\": \"a347_ix1\",\n",
       "      \"fields\": \"shape\",\n",
       "      \"isAscending\": true,\n",
       "      \"isUnique\": true,\n",
       "      \"description\": \"\"\n",
       "    }\n",
       "  ],\n",
       "  \"datesInUnknownTimezone\": false,\n",
       "  \"dateFieldsTimeReference\": {\n",
       "    \"timeZone\": \"SA Pacific Standard Time\",\n",
       "    \"respectsDaylightSaving\": false\n",
       "  },\n",
       "  \"preferredTimeReference\": null,\n",
       "  \"types\": [],\n",
       "  \"templates\": [\n",
       "    {\n",
       "      \"name\": \"(Avaluos) Zona Homogenea Geoeconomica Rural\",\n",
       "      \"description\": \"\",\n",
       "      \"prototype\": {\n",
       "        \"attributes\": {\n",
       "          \"subzona_fisica\": null,\n",
       "          \"codigo\": null,\n",
       "          \"valor_hectarea\": null,\n",
       "          \"vigencia\": null,\n",
       "          \"codigo_zona_geoeconomica\": null\n",
       "        }\n",
       "      },\n",
       "      \"drawingTool\": \"esriFeatureEditToolPolygon\"\n",
       "    }\n",
       "  ],\n",
       "  \"maxRecordCount\": 10000,\n",
       "  \"supportedQueryFormats\": \"JSON, geoJSON, PBF\",\n",
       "  \"supportedExportFormats\": \"sqlite,filegdb\",\n",
       "  \"capabilities\": \"Query,ChangeTracking\",\n",
       "  \"useStandardizedQueries\": true,\n",
       "  \"supportedSpatialRelationships\": [\n",
       "    \"esriSpatialRelIntersects\",\n",
       "    \"esriSpatialRelContains\",\n",
       "    \"esriSpatialRelCrosses\",\n",
       "    \"esriSpatialRelEnvelopeIntersects\",\n",
       "    \"esriSpatialRelIndexIntersects\",\n",
       "    \"esriSpatialRelOverlaps\",\n",
       "    \"esriSpatialRelTouches\",\n",
       "    \"esriSpatialRelWithin\",\n",
       "    \"esriSpatialRelRelation\"\n",
       "  ],\n",
       "  \"standardMaxRecordCount\": 4000,\n",
       "  \"tileMaxRecordCount\": 4000,\n",
       "  \"standardMaxRecordCountNoGeometry\": 32000,\n",
       "  \"maxRecordCountFactor\": 1,\n",
       "  \"serviceItemId\": \"db0f21a1e70e42658d05517cc767821b\"\n",
       "}"
      ]
     },
     "execution_count": 34,
     "metadata": {},
     "output_type": "execute_result"
    }
   ],
   "source": [
    "freeway_feature_layer.properties"
   ]
  },
  {
   "cell_type": "code",
   "execution_count": 25,
   "metadata": {},
   "outputs": [],
   "source": [
    "map1.add_layer(freeway_feature_layer, {\"renderer\":\"ClassedSizeRenderer\", \"field_name\": \"area_terreno\", \"opacity\":0.75})\n",
    "# Change map's extent:\n",
    "extent = freeway_feature_layer.properties[\"extent\"]\n",
    "map1.extent = extent\n",
    "#map1.zoom = 13"
   ]
  },
  {
   "cell_type": "code",
   "execution_count": null,
   "metadata": {
    "scrolled": true
   },
   "outputs": [],
   "source": [
    "map1.add_layer(freeway_feature_layer, {\"renderer\":\"ClassedColorRenderer\", \"field_name\": \"area_terreno\", \"opacity\":0.75})\n",
    "# Change map's extent:\n",
    "extent = freeway_feature_layer.properties[\"extent\"]\n",
    "map1.extent = extent"
   ]
  },
  {
   "cell_type": "code",
   "execution_count": 26,
   "metadata": {},
   "outputs": [],
   "source": [
    "map1.add_layer(freeway_feature_layer, {\"renderer\":\"HeatmapRenderer\", \"opacity\":0.75})\n",
    "# Change map's extent:\n",
    "extent = freeway_feature_layer.properties[\"extent\"]\n",
    "map1.extent = extent"
   ]
  },
  {
   "cell_type": "code",
   "execution_count": 35,
   "metadata": {},
   "outputs": [
    {
     "data": {
      "text/plain": [
       "<FeatureLayer url:\"https://pruebascatastro.esri.co/server/rest/services/SERVICIOS/FS_Conservacion_Consulta_54001/FeatureServer/48\">"
      ]
     },
     "execution_count": 35,
     "metadata": {},
     "output_type": "execute_result"
    }
   ],
   "source": [
    "from arcgis.features import FeatureLayer\n",
    "fl = FeatureLayer(freeway_feature_layer.url, gis)\n",
    "fl"
   ]
  },
  {
   "cell_type": "code",
   "execution_count": 36,
   "metadata": {},
   "outputs": [
    {
     "data": {
      "text/plain": [
       "{\n",
       "  \"currentVersion\": 10.91,\n",
       "  \"cimVersion\": \"2.9.0\",\n",
       "  \"id\": 48,\n",
       "  \"name\": \"(Avaluos) Zona Homogenea Geoeconomica Rural\",\n",
       "  \"type\": \"Feature Layer\",\n",
       "  \"parentLayer\": null,\n",
       "  \"defaultVisibility\": true,\n",
       "  \"minScale\": 0,\n",
       "  \"maxScale\": 0,\n",
       "  \"canScaleSymbols\": false,\n",
       "  \"geometryType\": \"esriGeometryPolygon\",\n",
       "  \"description\": \"File Geodatabase Feature Class - Polygon (C\\u00f3digo, C\\u00f3digo Zona Geoecon\\u00f3mica, Valor Hect\\u00e1rea, Subzona F\\u00edsica, Vigencia)\",\n",
       "  \"copyrightText\": \"IGAC\",\n",
       "  \"editFieldsInfo\": {\n",
       "    \"creationDateField\": \"created_date\",\n",
       "    \"creatorField\": \"created_user\",\n",
       "    \"editDateField\": \"last_edited_date\",\n",
       "    \"editorField\": \"last_edited_user\",\n",
       "    \"dateFieldsTimeReference\": {\n",
       "      \"timeZone\": \"UTC\",\n",
       "      \"respectsDaylightSaving\": false\n",
       "    }\n",
       "  },\n",
       "  \"ownershipBasedAccessControlForFeatures\": null,\n",
       "  \"syncCanReturnChanges\": true,\n",
       "  \"relationships\": [],\n",
       "  \"isDataVersioned\": true,\n",
       "  \"isDataArchived\": true,\n",
       "  \"infoInEstimates\": [\n",
       "    \"extent\",\n",
       "    \"count\"\n",
       "  ],\n",
       "  \"isDataBranchVersioned\": true,\n",
       "  \"isDataReplicaTracked\": false,\n",
       "  \"isCoGoEnabled\": false,\n",
       "  \"supportsRollbackOnFailureParameter\": false,\n",
       "  \"archivingInfo\": {\n",
       "    \"supportsQueryWithHistoricMoment\": true,\n",
       "    \"startArchivingMoment\": 1684926374000\n",
       "  },\n",
       "  \"supportsStatistics\": true,\n",
       "  \"supportsExceedsLimitStatistics\": true,\n",
       "  \"supportsAdvancedQueries\": true,\n",
       "  \"supportsValidateSQL\": true,\n",
       "  \"supportsCoordinatesQuantization\": true,\n",
       "  \"supportsQuantizationEditMode\": true,\n",
       "  \"supportsCalculate\": true,\n",
       "  \"supportsASyncCalculate\": true,\n",
       "  \"supportsDatumTransformation\": true,\n",
       "  \"advancedQueryCapabilities\": {\n",
       "    \"supportsPagination\": true,\n",
       "    \"supportsTrueCurve\": true,\n",
       "    \"supportsQueryWithDistance\": true,\n",
       "    \"supportsReturningQueryExtent\": true,\n",
       "    \"supportsStatistics\": true,\n",
       "    \"supportsPercentileStatistics\": true,\n",
       "    \"supportsHavingClause\": true,\n",
       "    \"supportsOrderBy\": true,\n",
       "    \"supportsDistinct\": true,\n",
       "    \"supportsCountDistinct\": true,\n",
       "    \"supportsQueryWithResultType\": true,\n",
       "    \"supportsReturningGeometryCentroid\": true,\n",
       "    \"supportsSqlExpression\": true,\n",
       "    \"supportsQueryWithDatumTransformation\": true,\n",
       "    \"supportsLod\": false,\n",
       "    \"supportsQueryWithLodSR\": false,\n",
       "    \"supportsQueryAnalytic\": false\n",
       "  },\n",
       "  \"advancedEditingCapabilities\": {\n",
       "    \"supportedSqlFormatsInCalculate\": [\n",
       "      \"standard\"\n",
       "    ],\n",
       "    \"supportsAsyncApplyEdits\": true\n",
       "  },\n",
       "  \"hasGeometryProperties\": true,\n",
       "  \"geometryProperties\": {\n",
       "    \"shapeAreaFieldName\": \"Shape__Area\",\n",
       "    \"shapeLengthFieldName\": \"Shape__Length\",\n",
       "    \"units\": \"esriMeters\"\n",
       "  },\n",
       "  \"hasMetadata\": true,\n",
       "  \"extent\": {\n",
       "    \"xmin\": 5043323.833300001,\n",
       "    \"ymin\": 2411731.5872000013,\n",
       "    \"xmax\": 5071905.170700001,\n",
       "    \"ymax\": 2489689.2631,\n",
       "    \"spatialReference\": {\n",
       "      \"wkid\": 9377,\n",
       "      \"latestWkid\": 9377,\n",
       "      \"xyTolerance\": 0.001,\n",
       "      \"zTolerance\": 0.001,\n",
       "      \"mTolerance\": 0.001,\n",
       "      \"falseX\": -618700,\n",
       "      \"falseY\": -8436100,\n",
       "      \"xyUnits\": 10000,\n",
       "      \"falseZ\": -100000,\n",
       "      \"zUnits\": 10000,\n",
       "      \"falseM\": -100000,\n",
       "      \"mUnits\": 10000\n",
       "    }\n",
       "  },\n",
       "  \"sourceSpatialReference\": {\n",
       "    \"wkid\": 9377,\n",
       "    \"latestWkid\": 9377,\n",
       "    \"xyTolerance\": 0.001,\n",
       "    \"zTolerance\": 0.001,\n",
       "    \"mTolerance\": 0.001,\n",
       "    \"falseX\": -400,\n",
       "    \"falseY\": -400,\n",
       "    \"xyUnits\": 999999999.9999999,\n",
       "    \"falseZ\": -100000,\n",
       "    \"zUnits\": 10000,\n",
       "    \"falseM\": 0,\n",
       "    \"mUnits\": 1\n",
       "  },\n",
       "  \"drawingInfo\": {\n",
       "    \"renderer\": {\n",
       "      \"type\": \"simple\",\n",
       "      \"symbol\": {\n",
       "        \"type\": \"esriSFS\",\n",
       "        \"style\": \"esriSFSSolid\",\n",
       "        \"color\": [\n",
       "          179,\n",
       "          252,\n",
       "          246,\n",
       "          255\n",
       "        ],\n",
       "        \"outline\": {\n",
       "          \"type\": \"esriSLS\",\n",
       "          \"style\": \"esriSLSSolid\",\n",
       "          \"color\": [\n",
       "            110,\n",
       "            110,\n",
       "            110,\n",
       "            255\n",
       "          ],\n",
       "          \"width\": 0.7\n",
       "        }\n",
       "      }\n",
       "    },\n",
       "    \"scaleSymbols\": true,\n",
       "    \"transparency\": 0,\n",
       "    \"labelingInfo\": null\n",
       "  },\n",
       "  \"hasM\": false,\n",
       "  \"hasZ\": false,\n",
       "  \"allowGeometryUpdates\": true,\n",
       "  \"allowTrueCurvesUpdates\": true,\n",
       "  \"onlyAllowTrueCurveUpdatesByTrueCurveClients\": true,\n",
       "  \"hasAttachments\": false,\n",
       "  \"supportsApplyEditsWithGlobalIds\": true,\n",
       "  \"supportsOidReservation\": true,\n",
       "  \"htmlPopupType\": \"esriServerHTMLPopupTypeAsHTMLText\",\n",
       "  \"objectIdField\": \"objectid\",\n",
       "  \"globalIdField\": \"globalid\",\n",
       "  \"displayField\": \"codigo\",\n",
       "  \"typeIdField\": \"\",\n",
       "  \"subtypeField\": \"\",\n",
       "  \"fields\": [\n",
       "    {\n",
       "      \"name\": \"objectid\",\n",
       "      \"type\": \"esriFieldTypeOID\",\n",
       "      \"alias\": \"OBJECTID\",\n",
       "      \"domain\": null,\n",
       "      \"editable\": false,\n",
       "      \"nullable\": false,\n",
       "      \"defaultValue\": null,\n",
       "      \"modelName\": \"OBJECTID\"\n",
       "    },\n",
       "    {\n",
       "      \"name\": \"codigo\",\n",
       "      \"type\": \"esriFieldTypeString\",\n",
       "      \"alias\": \"C\\u00f3digo\",\n",
       "      \"domain\": null,\n",
       "      \"editable\": true,\n",
       "      \"nullable\": true,\n",
       "      \"length\": 20,\n",
       "      \"defaultValue\": null,\n",
       "      \"modelName\": \"Identificador\"\n",
       "    },\n",
       "    {\n",
       "      \"name\": \"valor_hectarea\",\n",
       "      \"type\": \"esriFieldTypeDouble\",\n",
       "      \"alias\": \"Valor Hect\\u00e1rea\",\n",
       "      \"domain\": null,\n",
       "      \"editable\": true,\n",
       "      \"nullable\": true,\n",
       "      \"defaultValue\": null,\n",
       "      \"modelName\": \"Valor\"\n",
       "    },\n",
       "    {\n",
       "      \"name\": \"globalid\",\n",
       "      \"type\": \"esriFieldTypeGlobalID\",\n",
       "      \"alias\": \"GlobalID\",\n",
       "      \"domain\": null,\n",
       "      \"editable\": false,\n",
       "      \"nullable\": false,\n",
       "      \"length\": 38,\n",
       "      \"defaultValue\": null,\n",
       "      \"modelName\": \"GlobalID\"\n",
       "    },\n",
       "    {\n",
       "      \"name\": \"codigo_zona_geoeconomica\",\n",
       "      \"type\": \"esriFieldTypeString\",\n",
       "      \"alias\": \"C\\u00f3digo Zona Geoecon\\u00f3mica\",\n",
       "      \"domain\": null,\n",
       "      \"editable\": true,\n",
       "      \"nullable\": true,\n",
       "      \"length\": 20,\n",
       "      \"defaultValue\": null,\n",
       "      \"modelName\": \"Codigo_Zona_Geoeconomica\"\n",
       "    },\n",
       "    {\n",
       "      \"name\": \"subzona_fisica\",\n",
       "      \"type\": \"esriFieldTypeString\",\n",
       "      \"alias\": \"Subzona F\\u00edsica\",\n",
       "      \"domain\": null,\n",
       "      \"editable\": true,\n",
       "      \"nullable\": true,\n",
       "      \"length\": 255,\n",
       "      \"defaultValue\": null,\n",
       "      \"modelName\": \"Subzona_Fisica\"\n",
       "    },\n",
       "    {\n",
       "      \"name\": \"vigencia\",\n",
       "      \"type\": \"esriFieldTypeDate\",\n",
       "      \"alias\": \"Vigencia\",\n",
       "      \"domain\": null,\n",
       "      \"editable\": true,\n",
       "      \"nullable\": true,\n",
       "      \"length\": 8,\n",
       "      \"defaultValue\": null,\n",
       "      \"modelName\": \"Vigencia\"\n",
       "    },\n",
       "    {\n",
       "      \"name\": \"created_user\",\n",
       "      \"type\": \"esriFieldTypeString\",\n",
       "      \"alias\": \"created_user\",\n",
       "      \"domain\": null,\n",
       "      \"editable\": false,\n",
       "      \"nullable\": true,\n",
       "      \"length\": 255,\n",
       "      \"defaultValue\": null,\n",
       "      \"modelName\": \"created_user\"\n",
       "    },\n",
       "    {\n",
       "      \"name\": \"created_date\",\n",
       "      \"type\": \"esriFieldTypeDate\",\n",
       "      \"alias\": \"created_date\",\n",
       "      \"domain\": null,\n",
       "      \"editable\": false,\n",
       "      \"nullable\": true,\n",
       "      \"length\": 8,\n",
       "      \"defaultValue\": null,\n",
       "      \"modelName\": \"created_date\"\n",
       "    },\n",
       "    {\n",
       "      \"name\": \"last_edited_user\",\n",
       "      \"type\": \"esriFieldTypeString\",\n",
       "      \"alias\": \"last_edited_user\",\n",
       "      \"domain\": null,\n",
       "      \"editable\": false,\n",
       "      \"nullable\": true,\n",
       "      \"length\": 255,\n",
       "      \"defaultValue\": null,\n",
       "      \"modelName\": \"last_edited_user\"\n",
       "    },\n",
       "    {\n",
       "      \"name\": \"last_edited_date\",\n",
       "      \"type\": \"esriFieldTypeDate\",\n",
       "      \"alias\": \"last_edited_date\",\n",
       "      \"domain\": null,\n",
       "      \"editable\": false,\n",
       "      \"nullable\": true,\n",
       "      \"length\": 8,\n",
       "      \"defaultValue\": null,\n",
       "      \"modelName\": \"last_edited_date\"\n",
       "    },\n",
       "    {\n",
       "      \"name\": \"Shape__Area\",\n",
       "      \"type\": \"esriFieldTypeDouble\",\n",
       "      \"alias\": \"st_area(shape)\",\n",
       "      \"domain\": null,\n",
       "      \"editable\": false,\n",
       "      \"nullable\": false,\n",
       "      \"defaultValue\": null,\n",
       "      \"modelName\": \"st_area(shape)\"\n",
       "    },\n",
       "    {\n",
       "      \"name\": \"Shape__Length\",\n",
       "      \"type\": \"esriFieldTypeDouble\",\n",
       "      \"alias\": \"st_length(shape)\",\n",
       "      \"domain\": null,\n",
       "      \"editable\": false,\n",
       "      \"nullable\": false,\n",
       "      \"defaultValue\": null,\n",
       "      \"modelName\": \"st_length(shape)\"\n",
       "    }\n",
       "  ],\n",
       "  \"geometryField\": {\n",
       "    \"name\": \"shape\",\n",
       "    \"type\": \"esriFieldTypeGeometry\",\n",
       "    \"alias\": \"Shape\",\n",
       "    \"domain\": null,\n",
       "    \"editable\": true,\n",
       "    \"nullable\": true,\n",
       "    \"defaultValue\": null,\n",
       "    \"modelName\": \"Shape\"\n",
       "  },\n",
       "  \"indexes\": [\n",
       "    {\n",
       "      \"name\": \"r1049_sde_rowid_uk\",\n",
       "      \"fields\": \"objectid\",\n",
       "      \"isAscending\": true,\n",
       "      \"isUnique\": false,\n",
       "      \"description\": \"\"\n",
       "    },\n",
       "    {\n",
       "      \"name\": \"uuid_1049\",\n",
       "      \"fields\": \"globalid\",\n",
       "      \"isAscending\": true,\n",
       "      \"isUnique\": true,\n",
       "      \"description\": \"\"\n",
       "    },\n",
       "    {\n",
       "      \"name\": \"a347_ix1\",\n",
       "      \"fields\": \"shape\",\n",
       "      \"isAscending\": true,\n",
       "      \"isUnique\": true,\n",
       "      \"description\": \"\"\n",
       "    }\n",
       "  ],\n",
       "  \"datesInUnknownTimezone\": false,\n",
       "  \"dateFieldsTimeReference\": {\n",
       "    \"timeZone\": \"SA Pacific Standard Time\",\n",
       "    \"respectsDaylightSaving\": false\n",
       "  },\n",
       "  \"preferredTimeReference\": null,\n",
       "  \"types\": [],\n",
       "  \"templates\": [\n",
       "    {\n",
       "      \"name\": \"(Avaluos) Zona Homogenea Geoeconomica Rural\",\n",
       "      \"description\": \"\",\n",
       "      \"prototype\": {\n",
       "        \"attributes\": {\n",
       "          \"subzona_fisica\": null,\n",
       "          \"codigo\": null,\n",
       "          \"valor_hectarea\": null,\n",
       "          \"vigencia\": null,\n",
       "          \"codigo_zona_geoeconomica\": null\n",
       "        }\n",
       "      },\n",
       "      \"drawingTool\": \"esriFeatureEditToolPolygon\"\n",
       "    }\n",
       "  ],\n",
       "  \"maxRecordCount\": 10000,\n",
       "  \"supportedQueryFormats\": \"JSON, geoJSON, PBF\",\n",
       "  \"supportedExportFormats\": \"sqlite,filegdb\",\n",
       "  \"capabilities\": \"Query,ChangeTracking\",\n",
       "  \"useStandardizedQueries\": true,\n",
       "  \"supportedSpatialRelationships\": [\n",
       "    \"esriSpatialRelIntersects\",\n",
       "    \"esriSpatialRelContains\",\n",
       "    \"esriSpatialRelCrosses\",\n",
       "    \"esriSpatialRelEnvelopeIntersects\",\n",
       "    \"esriSpatialRelIndexIntersects\",\n",
       "    \"esriSpatialRelOverlaps\",\n",
       "    \"esriSpatialRelTouches\",\n",
       "    \"esriSpatialRelWithin\",\n",
       "    \"esriSpatialRelRelation\"\n",
       "  ],\n",
       "  \"standardMaxRecordCount\": 4000,\n",
       "  \"tileMaxRecordCount\": 4000,\n",
       "  \"standardMaxRecordCountNoGeometry\": 32000,\n",
       "  \"maxRecordCountFactor\": 1,\n",
       "  \"serviceItemId\": \"db0f21a1e70e42658d05517cc767821b\"\n",
       "}"
      ]
     },
     "execution_count": 36,
     "metadata": {},
     "output_type": "execute_result"
    }
   ],
   "source": [
    "fl.properties"
   ]
  },
  {
   "cell_type": "code",
   "execution_count": 49,
   "metadata": {},
   "outputs": [],
   "source": [
    "qfl_sr_original = fl.query(\"1=1\",return_all_records=False, result_record_count=3)\n",
    "qfl_reprojected = fl.query(\"1=1\",return_all_records=False, result_record_count=3,out_sr=\"4326\")"
   ]
  },
  {
   "cell_type": "code",
   "execution_count": 50,
   "metadata": {},
   "outputs": [
    {
     "name": "stdout",
     "output_type": "stream",
     "text": [
      "{'wkid': 9377, 'latestWkid': 9377} {'wkid': 4326, 'latestWkid': 4326}\n"
     ]
    }
   ],
   "source": [
    "print(qfl_sr_original.features[0].geometry[\"spatialReference\"], qfl_reprojected.features[0].geometry[\"spatialReference\"])"
   ]
  },
  {
   "cell_type": "code",
   "execution_count": 51,
   "metadata": {},
   "outputs": [
    {
     "data": {
      "text/html": [
       "<div>\n",
       "<style scoped>\n",
       "    .dataframe tbody tr th:only-of-type {\n",
       "        vertical-align: middle;\n",
       "    }\n",
       "\n",
       "    .dataframe tbody tr th {\n",
       "        vertical-align: top;\n",
       "    }\n",
       "\n",
       "    .dataframe thead th {\n",
       "        text-align: right;\n",
       "    }\n",
       "</style>\n",
       "<table border=\"1\" class=\"dataframe\">\n",
       "  <thead>\n",
       "    <tr style=\"text-align: right;\">\n",
       "      <th></th>\n",
       "      <th>objectid</th>\n",
       "      <th>codigo</th>\n",
       "      <th>valor_hectarea</th>\n",
       "      <th>globalid</th>\n",
       "      <th>codigo_zona_geoeconomica</th>\n",
       "      <th>subzona_fisica</th>\n",
       "      <th>vigencia</th>\n",
       "      <th>created_user</th>\n",
       "      <th>created_date</th>\n",
       "      <th>last_edited_user</th>\n",
       "      <th>last_edited_date</th>\n",
       "      <th>Shape__Area</th>\n",
       "      <th>Shape__Length</th>\n",
       "      <th>SHAPE</th>\n",
       "    </tr>\n",
       "  </thead>\n",
       "  <tbody>\n",
       "    <tr>\n",
       "      <th>0</th>\n",
       "      <td>1</td>\n",
       "      <td>5400100</td>\n",
       "      <td>3700000.0</td>\n",
       "      <td>{92298CBB-1B63-4587-8D75-AA438AD5B08E}</td>\n",
       "      <td>20</td>\n",
       "      <td>0010</td>\n",
       "      <td>2013-01-01 05:00:00</td>\n",
       "      <td>JVARGAS</td>\n",
       "      <td>2023-04-26 22:32:39</td>\n",
       "      <td>JVARGAS</td>\n",
       "      <td>2023-04-26 22:32:39</td>\n",
       "      <td>345811.537565</td>\n",
       "      <td>5051.044499</td>\n",
       "      <td>{\"rings\": [[[5056789.404700001, 2488239.203700...</td>\n",
       "    </tr>\n",
       "    <tr>\n",
       "      <th>1</th>\n",
       "      <td>2</td>\n",
       "      <td>5400100</td>\n",
       "      <td>4800000.0</td>\n",
       "      <td>{AB10FBBC-EF9C-4873-A60A-9B60C7982277}</td>\n",
       "      <td>16</td>\n",
       "      <td>0022</td>\n",
       "      <td>2013-01-01 05:00:00</td>\n",
       "      <td>JVARGAS</td>\n",
       "      <td>2023-04-26 22:32:39</td>\n",
       "      <td>JVARGAS</td>\n",
       "      <td>2023-04-26 22:32:39</td>\n",
       "      <td>82734.547763</td>\n",
       "      <td>1340.918767</td>\n",
       "      <td>{\"rings\": [[[5058333.3091, 2485405.511499999],...</td>\n",
       "    </tr>\n",
       "    <tr>\n",
       "      <th>2</th>\n",
       "      <td>3</td>\n",
       "      <td>5400100</td>\n",
       "      <td>4600000.0</td>\n",
       "      <td>{FC281BDD-6D45-4913-B7AC-D6EB11A2D48B}</td>\n",
       "      <td>17</td>\n",
       "      <td>0022</td>\n",
       "      <td>2013-01-01 05:00:00</td>\n",
       "      <td>JVARGAS</td>\n",
       "      <td>2023-04-26 22:32:39</td>\n",
       "      <td>JVARGAS</td>\n",
       "      <td>2023-04-26 22:32:39</td>\n",
       "      <td>607229.690193</td>\n",
       "      <td>7847.432035</td>\n",
       "      <td>{\"rings\": [[[5060250.814100001, 2485541.896400...</td>\n",
       "    </tr>\n",
       "  </tbody>\n",
       "</table>\n",
       "</div>"
      ],
      "text/plain": [
       "   objectid   codigo  valor_hectarea                                globalid  \\\n",
       "0         1  5400100       3700000.0  {92298CBB-1B63-4587-8D75-AA438AD5B08E}   \n",
       "1         2  5400100       4800000.0  {AB10FBBC-EF9C-4873-A60A-9B60C7982277}   \n",
       "2         3  5400100       4600000.0  {FC281BDD-6D45-4913-B7AC-D6EB11A2D48B}   \n",
       "\n",
       "  codigo_zona_geoeconomica subzona_fisica            vigencia created_user  \\\n",
       "0                       20           0010 2013-01-01 05:00:00      JVARGAS   \n",
       "1                       16           0022 2013-01-01 05:00:00      JVARGAS   \n",
       "2                       17           0022 2013-01-01 05:00:00      JVARGAS   \n",
       "\n",
       "         created_date last_edited_user    last_edited_date    Shape__Area  \\\n",
       "0 2023-04-26 22:32:39          JVARGAS 2023-04-26 22:32:39  345811.537565   \n",
       "1 2023-04-26 22:32:39          JVARGAS 2023-04-26 22:32:39   82734.547763   \n",
       "2 2023-04-26 22:32:39          JVARGAS 2023-04-26 22:32:39  607229.690193   \n",
       "\n",
       "   Shape__Length                                              SHAPE  \n",
       "0    5051.044499  {\"rings\": [[[5056789.404700001, 2488239.203700...  \n",
       "1    1340.918767  {\"rings\": [[[5058333.3091, 2485405.511499999],...  \n",
       "2    7847.432035  {\"rings\": [[[5060250.814100001, 2485541.896400...  "
      ]
     },
     "execution_count": 51,
     "metadata": {},
     "output_type": "execute_result"
    }
   ],
   "source": [
    "qfl_sr_original.sdf"
   ]
  },
  {
   "cell_type": "code",
   "execution_count": null,
   "metadata": {
    "scrolled": true
   },
   "outputs": [],
   "source": [
    "map1.add_layer(fl, { \"type\": \"FeatureLayer\",\n",
    "                             \"renderer\":\"ClassedColorRenderer\",\n",
    "                             \"field_name\":\"avaluo_terreno\"})"
   ]
  },
  {
   "cell_type": "code",
   "execution_count": 123,
   "metadata": {},
   "outputs": [
    {
     "data": {
      "text/plain": [
       "[<FeatureLayer url:\"https://pruebascatastro.esri.co/server/rest/services/SERVICIOS/FS_Conservacion_Consulta_54001/FeatureServer/58\">]"
      ]
     },
     "execution_count": 123,
     "metadata": {},
     "output_type": "execute_result"
    }
   ],
   "source": [
    "map1.layers"
   ]
  },
  {
   "cell_type": "code",
   "execution_count": 126,
   "metadata": {},
   "outputs": [],
   "source": [
    "map1.add_layer(fl, { \"type\": \"FeatureLayer\",\n",
    "                             \"renderer\":\"autocast\",\n",
    "                             \"field_name\":\"avaluo_terreno\", \"type\": \"classBreaks\"})\n",
    "# Change map's extent:\n",
    "extent = freeway_feature_layer.properties[\"extent\"]\n",
    "map1.extent = extent"
   ]
  },
  {
   "cell_type": "code",
   "execution_count": 139,
   "metadata": {},
   "outputs": [
    {
     "data": {
      "text/plain": [
       "[<FeatureLayer url:\"https://pruebascatastro.esri.co/server/rest/services/SERVICIOS/FS_Conservacion_Consulta_54001/FeatureServer/58\">]"
      ]
     },
     "execution_count": 139,
     "metadata": {},
     "output_type": "execute_result"
    }
   ],
   "source": [
    "\"\"\"\n",
    "    # only 1 numeric attribute\n",
    "    # (a) to visualize with counts and amounts (color) + Customized class breaks\n",
    "    # field_name here represents \"The acres of total cropland as a percentage of land area in acres\"\n",
    "\"\"\"\n",
    "map2 = gis.map('Colombia',13)\n",
    "\n",
    "map2_renderer = {\"renderer\": \"autocast\", #This tells python to use JS autocasting\n",
    "                 \"type\": \"classBreaks\",  \n",
    "                 \"field\":\"avaluo_terreno\",\n",
    "                 \"minValue\":100000}\n",
    "\n",
    "map2_renderer[\"visualVariables\"] = [{   \"type\": \"colorInfo\",\n",
    "                                        \"field\": \"avaluo_terreno\",\n",
    "                                        \"stops\": [  {\n",
    "                                                        \"value\": 10,\n",
    "                                                        \"color\": [237,248,251,204],\n",
    "                                                        \"label\": \"< 10\"\n",
    "                                                    },\n",
    "                                                    {\n",
    "                                                        \"value\": 25,\n",
    "                                                        \"color\": [178,226,226,204],\n",
    "                                                        \"label\": \"10~39.5\"\n",
    "                                                    },\n",
    "                                                    {\n",
    "                                                        \"value\": 39.5,\n",
    "                                                        \"color\": [102,194,164,204],\n",
    "                                                        \"label\": \"39.5\"\n",
    "                                                    },\n",
    "                                                    {\n",
    "                                                        \"value\": 54,\n",
    "                                                        \"color\": [44,162,95,204],\n",
    "                                                        \"label\": \"39.5~68\"\n",
    "                                                    },\n",
    "                                                    {\n",
    "                                                        \"value\": 68,\n",
    "                                                        \"color\": [0,109,44,204],\n",
    "                                                        \"label\": \"> 68\"\n",
    "                                                    }]\n",
    "                                    }]\n",
    "\n",
    "map2_renderer[\"classBreakInfos\"] = [{   \"symbol\": {\n",
    "                                            \"color\": [170,170,170,204],\n",
    "                                            \"outline\": {\n",
    "                                                \"color\": [153,153,153,255],\n",
    "                                                \"width\": 0.375,\n",
    "                                                \"type\": \"esriSLS\",\n",
    "                                                \"style\": \"esriSLSSolid\"\n",
    "                                            },\n",
    "                                            \"type\": \"esriSFS\",\n",
    "                                            \"style\": \"esriSFSSolid\"\n",
    "                                        },\n",
    "                                        \"classMaxValue\": 9007199254740991\n",
    "                                    }]\n",
    "\n",
    "map2.add_layer(fl,\n",
    "               { \"type\": \"FeatureLayer\",\n",
    "                 \"renderer\": map2_renderer,\n",
    "                 \"field_name\":\"avaluo_terreno\",\n",
    "                 \"minValue\":100000,\n",
    "                 \"definitionExpression\": \"avaluo_terreno > 0.001\"})\n",
    "# Change map's extent:\n",
    "extent = freeway_feature_layer.properties[\"extent\"]\n",
    "map2.extent = extent\n",
    "map2.layers\n"
   ]
  },
  {
   "cell_type": "code",
   "execution_count": 140,
   "metadata": {},
   "outputs": [
    {
     "data": {
      "application/vnd.jupyter.widget-view+json": {
       "model_id": "6ea745a7ed3b4ae2a6f306909b82b499",
       "version_major": 2,
       "version_minor": 0
      },
      "text/plain": [
       "MapView(layout=Layout(height='400px', width='100%'))"
      ]
     },
     "metadata": {},
     "output_type": "display_data"
    },
    {
     "data": {
      "text/html": [
       "<div class=\"map-static-img-preview-7d5bed85-49bc-4a78-b1fd-152edbd03ded\"><img src=\"\"></img></div>"
      ],
      "text/plain": [
       "<IPython.core.display.HTML object>"
      ]
     },
     "metadata": {},
     "output_type": "display_data"
    },
    {
     "data": {
      "text/html": [
       "<div class=\"map-html-embed-preview-7d5bed85-49bc-4a78-b1fd-152edbd03ded\"></div>"
      ],
      "text/plain": [
       "<IPython.core.display.HTML object>"
      ]
     },
     "metadata": {},
     "output_type": "display_data"
    }
   ],
   "source": [
    "map2"
   ]
  },
  {
   "cell_type": "code",
   "execution_count": 156,
   "metadata": {},
   "outputs": [
    {
     "data": {
      "application/vnd.jupyter.widget-view+json": {
       "model_id": "32dbfe01985d432998c055dc4a772714",
       "version_major": 2,
       "version_minor": 0
      },
      "text/plain": [
       "MapView(layout=Layout(height='400px', width='100%'))"
      ]
     },
     "metadata": {},
     "output_type": "display_data"
    },
    {
     "data": {
      "text/html": [
       "<div class=\"map-static-img-preview-b8378501-8af3-4e90-93d4-bbc50354c901\"><img src=\"\"></img></div>"
      ],
      "text/plain": [
       "<IPython.core.display.HTML object>"
      ]
     },
     "metadata": {},
     "output_type": "display_data"
    },
    {
     "data": {
      "text/html": [
       "<div class=\"map-html-embed-preview-b8378501-8af3-4e90-93d4-bbc50354c901\"></div>"
      ],
      "text/plain": [
       "<IPython.core.display.HTML object>"
      ]
     },
     "metadata": {},
     "output_type": "display_data"
    }
   ],
   "source": [
    "\"\"\"\n",
    "    # only 1 numeric attribute\n",
    "    # (b) counts and amounts (size)\n",
    "    # The field used here represent the harvested acres of Upland Cotton\n",
    "\"\"\"\n",
    "map3 = gis.map('Colombia',13)\n",
    "\n",
    "map3_renderer = {\"renderer\": \"autocast\", #This tells python to use JS autocasting\n",
    "                 \"type\": \"classBreaks\",  \n",
    "                 \"field\":\"avaluo_terreno\",\n",
    "                 \"transparency\":20,\n",
    "                 \"minValue\":1000000}\n",
    "\n",
    "map3_renderer[\"visualVariables\"] = [{   \"type\": \"sizeInfo\",\n",
    "                                        \"field\": \"avaluo_terreno\",\n",
    "                                        \"valueUnit\": \"unknown\",\n",
    "                                        \"minSize\": {\n",
    "                                            \"type\": \"sizeInfo\",\n",
    "                                            \"expression\": \"view.scale\",\n",
    "                                            \"stops\": [{     \"value\": 1128,\n",
    "                                                            \"size\": 16\n",
    "                                                        },\n",
    "                                                        {   \"value\": 144447,\n",
    "                                                            \"size\": 16\n",
    "                                                        },\n",
    "                                                        {   \"value\": 18489298,\n",
    "                                                            \"size\": 4\n",
    "                                                        },\n",
    "                                                        {   \"value\": 147914382,\n",
    "                                                            \"size\": 4\n",
    "                                                        },\n",
    "                                                        {   \"value\": 591657528,\n",
    "                                                            \"size\": 2\n",
    "                                                        }]\n",
    "                                        },\n",
    "                                        \"maxSize\": {\n",
    "                                            \"type\": \"sizeInfo\",\n",
    "                                            \"expression\": \"view.scale\",\n",
    "                                            \"stops\": [{     \"value\": 1128,\n",
    "                                                            \"size\": 80\n",
    "                                                        },\n",
    "                                                        {   \"value\": 144447,\n",
    "                                                            \"size\": 80\n",
    "                                                        },\n",
    "                                                        {   \"value\": 18489298,\n",
    "                                                            \"size\": 50\n",
    "                                                        },\n",
    "                                                        {   \"value\": 147914382,\n",
    "                                                            \"size\": 50\n",
    "                                                        },\n",
    "                                                        {   \"value\": 591657528,\n",
    "                                                            \"size\": 25\n",
    "                                                        }]\n",
    "                                        },\n",
    "                                        \"minDataValue\": 0,\n",
    "                                        \"maxDataValue\": 15000000\n",
    "                                    },\n",
    "                                    {   \"type\": \"sizeInfo\",\n",
    "                                        \"target\": \"outline\",\n",
    "                                        \"expression\": \"view.scale\",\n",
    "                                        \"stops\": [{     \"size\": 2,\n",
    "                                                        \"value\": 1080478\n",
    "                                                    },\n",
    "                                                    {   \"size\": 1,\n",
    "                                                        \"value\": 6752990\n",
    "                                                    },\n",
    "                                                    {   \"size\": 1,\n",
    "                                                        \"value\": 27011958\n",
    "                                                    },\n",
    "                                                    {   \"size\": 0,\n",
    "                                                        \"value\": 54023916\n",
    "                                                    }]\n",
    "                                    }]\n",
    "\n",
    "map3_renderer[\"classBreakInfos\"] =     [{   \"symbol\": {\n",
    "                                                \"color\": [227,139,79,255],\n",
    "                                                \"size\": 9,\n",
    "                                                \"angle\": 0,\n",
    "                                                \"xoffset\": 0,\n",
    "                                                \"yoffset\": 0,\n",
    "                                                \"type\": \"esriSMS\",\n",
    "                                                \"style\": \"esriSMSCircle\",\n",
    "                                                \"outline\": {\n",
    "                                                    \"color\": [51,51,51,255],\n",
    "                                                    \"width\": 0.75,\n",
    "                                                    \"type\": \"esriSLS\",\n",
    "                                                    \"style\": \"esriSLSSolid\"\n",
    "                                                }\n",
    "                                            },\n",
    "                                            \"classMaxValue\": 9007199254740991\n",
    "                                        }]\n",
    "\n",
    "map3.add_layer(fl,\n",
    "               { \"type\": \"FeatureLayer\",\n",
    "                 \"renderer\":map3_renderer,\n",
    "                 \"field_name\":\"avaluo_terreno\"})\n",
    "\n",
    "lyr = Layer(freeway_feature_layer.url, gis)\n",
    "map3.zoom_to_layer(lyr)\n",
    "map3"
   ]
  },
  {
   "cell_type": "markdown",
   "metadata": {},
   "source": [
    "### Compare A to B"
   ]
  },
  {
   "cell_type": "code",
   "execution_count": 13,
   "metadata": {},
   "outputs": [
    {
     "name": "stderr",
     "output_type": "stream",
     "text": [
      "extent must be set to either a 2d list, spatially enabled data frame full_extent, or dict. Values specified must include xmin, ymin, xmax, ymax. Please see the API doc for more information\n"
     ]
    },
    {
     "data": {
      "application/vnd.jupyter.widget-view+json": {
       "model_id": "",
       "version_major": 2,
       "version_minor": 0
      },
      "text/plain": [
       "MapView(layout=Layout(height='400px', width='100%'))"
      ]
     },
     "metadata": {},
     "output_type": "display_data"
    },
    {
     "data": {
      "text/html": [
       "<div class=\"map-static-img-preview-edb20f6c-f799-4ca5-bf88-6f19179cc539\"><img src=\"\"></img></div>"
      ],
      "text/plain": [
       "<IPython.core.display.HTML object>"
      ]
     },
     "metadata": {},
     "output_type": "display_data"
    },
    {
     "data": {
      "text/html": [
       "<div class=\"map-html-embed-preview-edb20f6c-f799-4ca5-bf88-6f19179cc539\"></div>"
      ],
      "text/plain": [
       "<IPython.core.display.HTML object>"
      ]
     },
     "metadata": {},
     "output_type": "display_data"
    }
   ],
   "source": [
    "from arcgis.features import FeatureLayer\n",
    "map4 = gis.map('France',2)\n",
    "\n",
    "map4_renderer = {\"renderer\": \"autocast\", #This tells python to use JS autocasting\n",
    "                 \"type\": \"classBreaks\",  \n",
    "                 \"field\":\"POP2025\",\n",
    "                 \"transparency\":80,\n",
    "                 \"minValue\":-9007199254740991}\n",
    "\n",
    "map4_renderer[\"visualVariables\"] = [{   \"type\": \"colorInfo\",\n",
    "                                        \"field\": \"POP2025\",\n",
    "                                        \"normalizationField\": \"POP2015\",\n",
    "                                        \"stops\": [\n",
    "                                            {   \"value\": 1.12,\n",
    "                                                \"color\": [230,97,1,255],\n",
    "                                                \"label\": \"< 112%\"\n",
    "                                            },\n",
    "                                            {   \"value\": 1.1800000000000002,\n",
    "                                                \"color\": [253,184,99,255],\n",
    "                                                \"label\": \"112% ~ 124%\"\n",
    "                                            },\n",
    "                                            {   \"value\": 1.24,\n",
    "                                                \"color\": [247,247,247,255],\n",
    "                                                \"label\": \"124%\"\n",
    "                                            },\n",
    "                                            {   \"value\": 1.3,\n",
    "                                                \"color\": [178,171,210,255],\n",
    "                                                \"label\": \"124% ~ 136%\"\n",
    "                                            },\n",
    "                                            {   \"value\": 1.36,\n",
    "                                                \"color\": [94,60,153,255],\n",
    "                                                \"label\": \"> 136%\"\n",
    "                                            }]\n",
    "                                    }]\n",
    "\n",
    "map4_renderer[\"classBreakInfos\"] = [{   \"symbol\": {\n",
    "                                            \"color\": [170,170,170,255],\n",
    "                                            \"size\": 10.5,\n",
    "                                            \"angle\": 0,\n",
    "                                            \"xoffset\": 0,\n",
    "                                            \"yoffset\": 0,\n",
    "                                            \"type\": \"esriSMS\",\n",
    "                                            \"style\": \"esriSMSCircle\",\n",
    "                                            \"outline\": {\n",
    "                                                \"color\": [153,153,153,255],\n",
    "                                                \"width\": 0.375,\n",
    "                                                \"type\": \"esriSLS\",\n",
    "                                                \"style\": \"esriSLSSolid\"\n",
    "                                            }\n",
    "                                        },\n",
    "                                        \"classMaxValue\": 9007199254740991\n",
    "                                    }]\n",
    "\n",
    "world_flayer = FeatureLayer(\"https://services.arcgis.com/nGt4QxSblgDfeJn9/arcgis/rest/services/World_LargestUrbanAreas_fs/FeatureServer/0\")\n",
    "\n",
    "map4.add_layer(world_flayer,\n",
    "               { \"type\": \"FeatureLayer\",\n",
    "                 \"renderer\": map4_renderer,\n",
    "                 \"field_name\":\"POP2025\",\n",
    "                 \"normalizationType\": \"esriNormalizeByField\",\n",
    "                 \"normalizationField\": \"POP2015\"})\n",
    "map4.extent = world_flayer.properties.extent\n",
    "map4"
   ]
  },
  {
   "cell_type": "code",
   "execution_count": 16,
   "metadata": {},
   "outputs": [],
   "source": [
    "world_flayer2 = FeatureLayer(\"https://pruebascatastro.esri.co/server/rest/services/SERVICIOS/FS_Conservacion_Edicion_54001/FeatureServer/58\", gis)"
   ]
  },
  {
   "cell_type": "code",
   "execution_count": 34,
   "metadata": {},
   "outputs": [
    {
     "name": "stderr",
     "output_type": "stream",
     "text": [
      "extent must be set to either a 2d list, spatially enabled data frame full_extent, or dict. Values specified must include xmin, ymin, xmax, ymax. Please see the API doc for more information\n"
     ]
    },
    {
     "data": {
      "application/vnd.jupyter.widget-view+json": {
       "model_id": "85889fc3dff24d39a0c04147732bfa55",
       "version_major": 2,
       "version_minor": 0
      },
      "text/plain": [
       "MapView(layout=Layout(height='400px', width='100%'))"
      ]
     },
     "metadata": {},
     "output_type": "display_data"
    },
    {
     "data": {
      "text/html": [
       "<div class=\"map-static-img-preview-c8303b77-6699-40df-af24-aa9f820ed7e7\"><img src=\"\"></img></div>"
      ],
      "text/plain": [
       "<IPython.core.display.HTML object>"
      ]
     },
     "metadata": {},
     "output_type": "display_data"
    },
    {
     "data": {
      "text/html": [
       "<div class=\"map-html-embed-preview-c8303b77-6699-40df-af24-aa9f820ed7e7\"></div>"
      ],
      "text/plain": [
       "<IPython.core.display.HTML object>"
      ]
     },
     "metadata": {},
     "output_type": "display_data"
    }
   ],
   "source": [
    "map4a = gis.map('Cucuta Colombia',10)\n",
    "\n",
    "map4_renderer2 = {\"renderer\": \"autocast\", #This tells python to use JS autocasting\n",
    "                 \"type\": \"classBreaks\",  \n",
    "                 \"field\":\"avaluo_terreno\",\n",
    "                 \"transparency\":80,\n",
    "                 \"minValue\":-9007199254740991}\n",
    "\n",
    "map4_renderer2[\"visualVariables\"] = [{   \"type\": \"colorInfo\",\n",
    "                                        \"field\": \"avaluo_terreno\",\n",
    "                                        \"normalizationField\": \"area_terreno\",\n",
    "                                        \"stops\": [\n",
    "                                            {   \"value\": 1.12,\n",
    "                                                \"color\": [230,97,1,255],\n",
    "                                                \"label\": \"< 112%\"\n",
    "                                            },\n",
    "                                            {   \"value\": 1.1800000000000002,\n",
    "                                                \"color\": [253,184,99,255],\n",
    "                                                \"label\": \"112% ~ 124%\"\n",
    "                                            },\n",
    "                                            {   \"value\": 1.24,\n",
    "                                                \"color\": [247,247,247,255],\n",
    "                                                \"label\": \"124%\"\n",
    "                                            },\n",
    "                                            {   \"value\": 1.3,\n",
    "                                                \"color\": [178,171,210,255],\n",
    "                                                \"label\": \"124% ~ 136%\"\n",
    "                                            },\n",
    "                                            {   \"value\": 1.36,\n",
    "                                                \"color\": [94,60,153,255],\n",
    "                                                \"label\": \"> 136%\"\n",
    "                                            }]\n",
    "                                    }]\n",
    "\n",
    "map4_renderer2[\"classBreakInfos\"] = [{   \"symbol\": {\n",
    "                                            \"color\": [170,170,170,255],\n",
    "                                            \"size\": 10.5,\n",
    "                                            \"angle\": 0,\n",
    "                                            \"xoffset\": 0,\n",
    "                                            \"yoffset\": 0,\n",
    "                                            \"type\": \"esriSMS\",\n",
    "                                            \"style\": \"esriSMSCircle\",\n",
    "                                            \"outline\": {\n",
    "                                                \"color\": [153,153,153,255],\n",
    "                                                \"width\": 0.375,\n",
    "                                                \"type\": \"esriSLS\",\n",
    "                                                \"style\": \"esriSLSSolid\"\n",
    "                                            }\n",
    "                                        },\n",
    "                                        \"classMaxValue\": 9007199254740991\n",
    "                                    }]\n",
    "\n",
    "map4a.add_layer(world_flayer2,\n",
    "               { \"type\": \"FeatureLayer\",\n",
    "                 \"renderer\": map4_renderer2,\n",
    "                 \"field_name\":\"avaluo_terreno\",\n",
    "                 \"normalizationType\": \"esriNormalizeByField\",\n",
    "                 \"normalizationField\": \"area_terreno\"})\n",
    "map4a.extent = world_flayer2.properties.extent\n",
    "map4a.zoom_to_layer(world_flayer2)\n",
    "#map4a.basemap = 'dark-gray-vector'\n",
    "map4a"
   ]
  },
  {
   "cell_type": "markdown",
   "metadata": {},
   "source": [
    "### Ejercicio"
   ]
  },
  {
   "cell_type": "code",
   "execution_count": 41,
   "metadata": {},
   "outputs": [
    {
     "data": {
      "application/vnd.jupyter.widget-view+json": {
       "model_id": "3d9638bc5ed94ed9be26bc99c9870775",
       "version_major": 2,
       "version_minor": 0
      },
      "text/plain": [
       "MapView(layout=Layout(height='400px', width='100%'))"
      ]
     },
     "metadata": {},
     "output_type": "display_data"
    },
    {
     "data": {
      "text/html": [
       "<div class=\"map-static-img-preview-bd90bc57-3652-482d-af8a-809f388968b1\"><img src=\"\"></img></div>"
      ],
      "text/plain": [
       "<IPython.core.display.HTML object>"
      ]
     },
     "metadata": {},
     "output_type": "display_data"
    },
    {
     "data": {
      "text/html": [
       "<div class=\"map-html-embed-preview-bd90bc57-3652-482d-af8a-809f388968b1\"></div>"
      ],
      "text/plain": [
       "<IPython.core.display.HTML object>"
      ]
     },
     "metadata": {},
     "output_type": "display_data"
    }
   ],
   "source": [
    "map5 = gis.map(\"Cucuta Colombia\", 10)\n",
    "map5.add_layer({\"type\":\"FeatureLayer\", \n",
    "               \"url\":\"https://pruebascatastro.esri.co/server/rest/services/SERVICIOS/FS_Conservacion_Edicion_54001/FeatureServer/50\",\n",
    "               \"renderer\":\"UniqueValueRenderer\",\n",
    "               \"field_name\":\"servicio_publico\",\n",
    "               \"opacity\":0.1\n",
    "              })\n",
    "map5"
   ]
  },
  {
   "cell_type": "code",
   "execution_count": 48,
   "metadata": {},
   "outputs": [
    {
     "data": {
      "text/plain": [
       "[<Item title:\"FS_Avaluo_Asegurado_41298\" type:Feature Layer Collection owner:adminsgcv2>,\n",
       " <Item title:\"SGCLADM_OC\" type:Feature Layer Collection owner:adminsgcv2>,\n",
       " <Item title:\"Evidencias de pruebas catastro\" type:Feature Layer Collection owner:ejecutor_uno_cucuta>,\n",
       " <Item title:\"V_Assignments_Dispatchers_41298\" type:Feature Layer Collection owner:adminsgcv2>,\n",
       " <Item title:\"Trabajo de Campo Conservacion_41298\" type:Feature Layer Collection owner:adminsgcv2>,\n",
       " <Item title:\"V_Assignments_Workers_41298\" type:Feature Layer Collection owner:adminsgcv2>,\n",
       " <Item title:\"V_Assignments_Dispatchers_54001\" type:Feature Layer Collection owner:adminsgcv2>,\n",
       " <Item title:\"V_Assignments_Workers_54001\" type:Feature Layer Collection owner:adminsgcv2>,\n",
       " <Item title:\"FS_Conservacion_Consulta_41298\" type:Feature Layer Collection owner:adminsgcv2>,\n",
       " <Item title:\"FS_Conservacion_Edicion_41298\" type:Feature Layer Collection owner:adminsgcv2>,\n",
       " <Item title:\"relaciones_mm\" type:Table Layer owner:adminsgcv2>,\n",
       " <Item title:\"SGCLADM_OC_41298\" type:Feature Layer Collection owner:adminsgcv2>,\n",
       " <Item title:\"FS_Actualizacion_Consulta\" type:Feature Layer Collection owner:adminsgcv2>,\n",
       " <Item title:\"Prueba\" type:Feature Layer Collection owner:ejecutor_uno_cucuta>,\n",
       " <Item title:\"Trabajo de Campo Conservacion_54001\" type:Feature Layer Collection owner:adminsgcv2>,\n",
       " <Item title:\"V_Assignments_Dispatchers_Act\" type:Feature Layer Collection owner:adminsgcv2>,\n",
       " <Item title:\"SGCLADM_OC_ACT\" type:Feature Layer Collection owner:adminsgcv2>,\n",
       " <Item title:\"Trabajo de campo Actualizacion\" type:Feature Layer Collection owner:adminsgcv2>,\n",
       " <Item title:\"V_Assignments_Workers_Act\" type:Feature Layer Collection owner:adminsgcv2>,\n",
       " <Item title:\"oc_json_precargue\" type:Table Layer owner:adminsgcv2>,\n",
       " <Item title:\"SGCLADM_OC_54001\" type:Feature Layer Collection owner:adminsgcv2>,\n",
       " <Item title:\"equivalencias_lc_oc\" type:Table Layer owner:adminsgcv2>,\n",
       " <Item title:\"FS_Actualizacion_Edicion\" type:Feature Layer Collection owner:adminsgcv2>,\n",
       " <Item title:\"Evidencias pruebas catastro 1.1\" type:Feature Layer Collection owner:ejecutor_uno_cucuta>,\n",
       " <Item title:\"FS_Conservacion_Consulta_54001\" type:Feature Layer Collection owner:adminsgcv2>,\n",
       " <Item title:\"FS_Avaluo_Asegurado_54001\" type:Feature Layer Collection owner:adminsgcv2>,\n",
       " <Item title:\"ActualizacionCatastro20\" type:Feature Layer Collection owner:adminsgcv2>,\n",
       " <Item title:\"FS_Conservacion_Edicion_54001\" type:Feature Layer Collection owner:adminsgcv2>,\n",
       " <Item title:\"Configuracion\" type:Table Layer owner:adminsgcv2>]"
      ]
     },
     "execution_count": 48,
     "metadata": {},
     "output_type": "execute_result"
    }
   ],
   "source": [
    "fls = gis.content.search(\"*\", item_type=\"Feature Layer\", max_items=100)\n",
    "fls = [f for f in fls if f.type!=\"Feature Layer\"]\n",
    "fls"
   ]
  }
 ],
 "metadata": {
  "kernelspec": {
   "display_name": "Python 3 (ipykernel)",
   "language": "python",
   "name": "python3"
  },
  "language_info": {
   "codemirror_mode": {
    "name": "ipython",
    "version": 3
   },
   "file_extension": ".py",
   "mimetype": "text/x-python",
   "name": "python",
   "nbconvert_exporter": "python",
   "pygments_lexer": "ipython3",
   "version": "3.9.12"
  }
 },
 "nbformat": 4,
 "nbformat_minor": 2
}
