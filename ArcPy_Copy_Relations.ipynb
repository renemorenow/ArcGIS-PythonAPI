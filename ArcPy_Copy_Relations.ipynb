{
 "cells": [
  {
   "cell_type": "code",
   "execution_count": 1,
   "source": [
    "import arcpy\r\n",
    "import os"
   ],
   "outputs": [],
   "metadata": {}
  },
  {
   "cell_type": "code",
   "execution_count": 10,
   "source": [
    "fc_search_rel = \"Parcel_Fabric\"\r\n",
    "workspace = r'D:\\Dev\\Catastro\\SGC_Local\\SGC_v2\\sgcladm_202107231223.gdb/'+fc_search_rel\r\n",
    "# Generate the list of relationship classes\r\n",
    "rc_list = [c for c in arcpy.Describe(workspace).children if c.datatype == \"RelationshipClass\"]\r\n",
    "rc_list_gdb = [c.name for c in rc_list]\r\n",
    "print (\"Relaciones .gdb: \"+str(len(rc_list_gdb)))\r\n",
    "\r\n",
    "workspace = r'D:\\Dev\\Catastro\\SGC_Local\\SGC_v2\\Pos_sgcv2tmp-SGCV2.sde/'+fc_search_rel\r\n",
    "# Generate the list of relationship classes\r\n",
    "# rc_list = [c.name for c in arcpy.Describe(workspace).children if c.datatype == \"RelationshipClass\"]\r\n",
    "rc_list_sde = [c.name.split(\".\")[2] for c in arcpy.Describe(workspace).children if c.datatype == \"RelationshipClass\"]\r\n",
    "print (\"Relaciones .sde: \"+str(len(rc_list_sde)))\r\n",
    "\r\n",
    "rel_no_encontradas = [f for f in rc_list_gdb if f not in rc_list_sde]\r\n",
    "print(\"rel_no_encontradas: \"+str(rel_no_encontradas))"
   ],
   "outputs": [
    {
     "output_type": "stream",
     "name": "stdout",
     "text": [
      "Relaciones .gdb: 49\n",
      "Relaciones .sde: 48\n",
      "rel_no_encontradas: ['LC_UnidadConstruccion_COL_CarasLindero_Menos']\n"
     ]
    }
   ],
   "metadata": {}
  },
  {
   "cell_type": "code",
   "execution_count": 14,
   "source": [
    "workspace = r'D:\\Dev\\Catastro\\SGC_Local\\SGC_v2\\Pos_sgcv2tmp-SGCV2.sde'\r\n",
    "fc_parent = fc_search_rel+\"/\"\r\n",
    "for item in rc_list:\r\n",
    "    if item.name in rel_no_encontradas:\r\n",
    "        print(\"Creando relacion: \"+item.name)\r\n",
    "        cardinality = None\r\n",
    "        if item.cardinality==\"OneToOne\":\r\n",
    "            cardinality = \"ONE_TO_ONE\"\r\n",
    "        elif item.cardinality==\"OneToMany\":\r\n",
    "            cardinality = \"ONE_TO_MANY\"\r\n",
    "        else:\r\n",
    "            cardinality = \"MANY_TO_MANY\"\r\n",
    "        print(item.originClassNames, item.destinationClassNames, fc_parent+item.name,\r\n",
    "                                         \"SIMPLE\" if item.isComposite else \"COMPOSITE\",\r\n",
    "                                         item.forwardPathLabel, item.backwardPathLabel,\r\n",
    "                                         item.notification, cardinality, item.isAttributed,\r\n",
    "                                         item.originClassKeys[0][0], item.originClassKeys[1][0],\r\n",
    "                                         item.destinationClassKeys[0][0] if len(item.destinationClassKeys)>0 else 0,\r\n",
    "                                         item.destinationClassKeys[1][0] if len(item.destinationClassKeys)>0 else 0)\r\n",
    "\r\n",
    "        if len(item.destinationClassKeys) > 0:\r\n",
    "            arcpy.CreateRelationshipClass_management(item.originClassNames[0],\r\n",
    "                                                    item.destinationClassNames[0],\r\n",
    "                                                    fc_parent+item.name,\r\n",
    "                                                    \"SIMPLE\" if item.isComposite else \"COMPOSITE\",\r\n",
    "                                                    item.forwardPathLabel,\r\n",
    "                                                    item.backwardPathLabel,\r\n",
    "                                                    item.notification,\r\n",
    "                                                    cardinality,\r\n",
    "                                                    item.isAttributed,\r\n",
    "                                                    item.originClassKeys[0][0],\r\n",
    "                                                    item.originClassKeys[1][0],\r\n",
    "                                                    item.destinationClassKeys[0][0],\r\n",
    "                                                    item.destinationClassKeys[1][0])\r\n",
    "        else:\r\n",
    "            arcpy.CreateRelationshipClass_management(fc_parent+item.originClassNames[0],\r\n",
    "                                                    \"Levantamiento_Catastral/\"+item.destinationClassNames[0],\r\n",
    "                                                    fc_parent+item.name,\r\n",
    "                                                    \"SIMPLE\" if item.isComposite else \"COMPOSITE\",\r\n",
    "                                                    item.forwardPathLabel,\r\n",
    "                                                    item.backwardPathLabel,\r\n",
    "                                                    item.notification,\r\n",
    "                                                    cardinality,\r\n",
    "                                                    item.isAttributed,\r\n",
    "                                                    item.originClassKeys[0][0],\r\n",
    "                                                    item.originClassKeys[1][0])\r\n",
    "        \r\n",
    "        print(\"Relacion creada\")\r\n"
   ],
   "outputs": [
    {
     "output_type": "stream",
     "name": "stdout",
     "text": [
      "Creando relacion: LC_UnidadConstruccion_COL_CarasLindero_Menos\n",
      "['LC_UnidadConstruccion'] ['COL_CarasLindero'] Parcel_Fabric/LC_UnidadConstruccion_COL_CarasLindero_Menos COMPOSITE COL_CarasLindero LC_UnidadConstruccion None MANY_TO_MANY False GlobalID LC_UnidadConstruccion_GUID GlobalID LC_CarasLindero_GUID\n"
     ]
    },
    {
     "output_type": "error",
     "ename": "ExecuteError",
     "evalue": "Failed to execute. Parameters are not valid.\nERROR 000732: Origin Table: Dataset LC_UnidadConstruccion does not exist or is not supported\nERROR 000732: Destination Table: Dataset COL_CarasLindero does not exist or is not supported\nFailed to execute (CreateRelationshipClass).\n",
     "traceback": [
      "\u001b[1;31m---------------------------------------------------------------------------\u001b[0m",
      "\u001b[1;31mExecuteError\u001b[0m                              Traceback (most recent call last)",
      "\u001b[1;32m<ipython-input-14-85b18d2ab443>\u001b[0m in \u001b[0;36m<module>\u001b[1;34m\u001b[0m\n\u001b[0;32m     32\u001b[0m                                                     \u001b[0mitem\u001b[0m\u001b[1;33m.\u001b[0m\u001b[0moriginClassKeys\u001b[0m\u001b[1;33m[\u001b[0m\u001b[1;36m1\u001b[0m\u001b[1;33m]\u001b[0m\u001b[1;33m[\u001b[0m\u001b[1;36m0\u001b[0m\u001b[1;33m]\u001b[0m\u001b[1;33m,\u001b[0m\u001b[1;33m\u001b[0m\u001b[1;33m\u001b[0m\u001b[0m\n\u001b[0;32m     33\u001b[0m                                                     \u001b[0mitem\u001b[0m\u001b[1;33m.\u001b[0m\u001b[0mdestinationClassKeys\u001b[0m\u001b[1;33m[\u001b[0m\u001b[1;36m0\u001b[0m\u001b[1;33m]\u001b[0m\u001b[1;33m[\u001b[0m\u001b[1;36m0\u001b[0m\u001b[1;33m]\u001b[0m\u001b[1;33m,\u001b[0m\u001b[1;33m\u001b[0m\u001b[1;33m\u001b[0m\u001b[0m\n\u001b[1;32m---> 34\u001b[1;33m                                                     item.destinationClassKeys[1][0])\n\u001b[0m\u001b[0;32m     35\u001b[0m         \u001b[1;32melse\u001b[0m\u001b[1;33m:\u001b[0m\u001b[1;33m\u001b[0m\u001b[1;33m\u001b[0m\u001b[0m\n\u001b[0;32m     36\u001b[0m             arcpy.CreateRelationshipClass_management(item.originClassNames[0],\n",
      "\u001b[1;32mD:\\ProgramFiles\\ArcGIS\\Pro\\Resources\\ArcPy\\arcpy\\management.py\u001b[0m in \u001b[0;36mCreateRelationshipClass\u001b[1;34m(origin_table, destination_table, out_relationship_class, relationship_type, forward_label, backward_label, message_direction, cardinality, attributed, origin_primary_key, origin_foreign_key, destination_primary_key, destination_foreign_key)\u001b[0m\n\u001b[0;32m  20449\u001b[0m         \u001b[1;32mreturn\u001b[0m \u001b[0mretval\u001b[0m\u001b[1;33m\u001b[0m\u001b[1;33m\u001b[0m\u001b[0m\n\u001b[0;32m  20450\u001b[0m     \u001b[1;32mexcept\u001b[0m \u001b[0mException\u001b[0m \u001b[1;32mas\u001b[0m \u001b[0me\u001b[0m\u001b[1;33m:\u001b[0m\u001b[1;33m\u001b[0m\u001b[1;33m\u001b[0m\u001b[0m\n\u001b[1;32m> 20451\u001b[1;33m         \u001b[1;32mraise\u001b[0m \u001b[0me\u001b[0m\u001b[1;33m\u001b[0m\u001b[1;33m\u001b[0m\u001b[0m\n\u001b[0m\u001b[0;32m  20452\u001b[0m \u001b[1;33m\u001b[0m\u001b[0m\n\u001b[0;32m  20453\u001b[0m \u001b[1;33m@\u001b[0m\u001b[0mgptooldoc\u001b[0m\u001b[1;33m(\u001b[0m\u001b[1;34m'MigrateRelationshipClass_management'\u001b[0m\u001b[1;33m,\u001b[0m \u001b[1;32mNone\u001b[0m\u001b[1;33m)\u001b[0m\u001b[1;33m\u001b[0m\u001b[1;33m\u001b[0m\u001b[0m\n",
      "\u001b[1;32mD:\\ProgramFiles\\ArcGIS\\Pro\\Resources\\ArcPy\\arcpy\\management.py\u001b[0m in \u001b[0;36mCreateRelationshipClass\u001b[1;34m(origin_table, destination_table, out_relationship_class, relationship_type, forward_label, backward_label, message_direction, cardinality, attributed, origin_primary_key, origin_foreign_key, destination_primary_key, destination_foreign_key)\u001b[0m\n\u001b[0;32m  20446\u001b[0m     \u001b[1;32mfrom\u001b[0m \u001b[0marcpy\u001b[0m\u001b[1;33m.\u001b[0m\u001b[0marcobjects\u001b[0m\u001b[1;33m.\u001b[0m\u001b[0marcobjectconversion\u001b[0m \u001b[1;32mimport\u001b[0m \u001b[0mconvertArcObjectToPythonObject\u001b[0m\u001b[1;33m\u001b[0m\u001b[1;33m\u001b[0m\u001b[0m\n\u001b[0;32m  20447\u001b[0m     \u001b[1;32mtry\u001b[0m\u001b[1;33m:\u001b[0m\u001b[1;33m\u001b[0m\u001b[1;33m\u001b[0m\u001b[0m\n\u001b[1;32m> 20448\u001b[1;33m         \u001b[0mretval\u001b[0m \u001b[1;33m=\u001b[0m \u001b[0mconvertArcObjectToPythonObject\u001b[0m\u001b[1;33m(\u001b[0m\u001b[0mgp\u001b[0m\u001b[1;33m.\u001b[0m\u001b[0mCreateRelationshipClass_management\u001b[0m\u001b[1;33m(\u001b[0m\u001b[1;33m*\u001b[0m\u001b[0mgp_fixargs\u001b[0m\u001b[1;33m(\u001b[0m\u001b[1;33m(\u001b[0m\u001b[0morigin_table\u001b[0m\u001b[1;33m,\u001b[0m \u001b[0mdestination_table\u001b[0m\u001b[1;33m,\u001b[0m \u001b[0mout_relationship_class\u001b[0m\u001b[1;33m,\u001b[0m \u001b[0mrelationship_type\u001b[0m\u001b[1;33m,\u001b[0m \u001b[0mforward_label\u001b[0m\u001b[1;33m,\u001b[0m \u001b[0mbackward_label\u001b[0m\u001b[1;33m,\u001b[0m \u001b[0mmessage_direction\u001b[0m\u001b[1;33m,\u001b[0m \u001b[0mcardinality\u001b[0m\u001b[1;33m,\u001b[0m \u001b[0mattributed\u001b[0m\u001b[1;33m,\u001b[0m \u001b[0morigin_primary_key\u001b[0m\u001b[1;33m,\u001b[0m \u001b[0morigin_foreign_key\u001b[0m\u001b[1;33m,\u001b[0m \u001b[0mdestination_primary_key\u001b[0m\u001b[1;33m,\u001b[0m \u001b[0mdestination_foreign_key\u001b[0m\u001b[1;33m)\u001b[0m\u001b[1;33m,\u001b[0m \u001b[1;32mTrue\u001b[0m\u001b[1;33m)\u001b[0m\u001b[1;33m)\u001b[0m\u001b[1;33m)\u001b[0m\u001b[1;33m\u001b[0m\u001b[1;33m\u001b[0m\u001b[0m\n\u001b[0m\u001b[0;32m  20449\u001b[0m         \u001b[1;32mreturn\u001b[0m \u001b[0mretval\u001b[0m\u001b[1;33m\u001b[0m\u001b[1;33m\u001b[0m\u001b[0m\n\u001b[0;32m  20450\u001b[0m     \u001b[1;32mexcept\u001b[0m \u001b[0mException\u001b[0m \u001b[1;32mas\u001b[0m \u001b[0me\u001b[0m\u001b[1;33m:\u001b[0m\u001b[1;33m\u001b[0m\u001b[1;33m\u001b[0m\u001b[0m\n",
      "\u001b[1;32mD:\\ProgramFiles\\ArcGIS\\Pro\\Resources\\ArcPy\\arcpy\\geoprocessing\\_base.py\u001b[0m in \u001b[0;36m<lambda>\u001b[1;34m(*args)\u001b[0m\n\u001b[0;32m    509\u001b[0m         \u001b[0mval\u001b[0m \u001b[1;33m=\u001b[0m \u001b[0mgetattr\u001b[0m\u001b[1;33m(\u001b[0m\u001b[0mself\u001b[0m\u001b[1;33m.\u001b[0m\u001b[0m_gp\u001b[0m\u001b[1;33m,\u001b[0m \u001b[0mattr\u001b[0m\u001b[1;33m)\u001b[0m\u001b[1;33m\u001b[0m\u001b[1;33m\u001b[0m\u001b[0m\n\u001b[0;32m    510\u001b[0m         \u001b[1;32mif\u001b[0m \u001b[0mcallable\u001b[0m\u001b[1;33m(\u001b[0m\u001b[0mval\u001b[0m\u001b[1;33m)\u001b[0m\u001b[1;33m:\u001b[0m\u001b[1;33m\u001b[0m\u001b[1;33m\u001b[0m\u001b[0m\n\u001b[1;32m--> 511\u001b[1;33m             \u001b[1;32mreturn\u001b[0m \u001b[1;32mlambda\u001b[0m \u001b[1;33m*\u001b[0m\u001b[0margs\u001b[0m\u001b[1;33m:\u001b[0m \u001b[0mval\u001b[0m\u001b[1;33m(\u001b[0m\u001b[1;33m*\u001b[0m\u001b[0mgp_fixargs\u001b[0m\u001b[1;33m(\u001b[0m\u001b[0margs\u001b[0m\u001b[1;33m,\u001b[0m \u001b[1;32mTrue\u001b[0m\u001b[1;33m)\u001b[0m\u001b[1;33m)\u001b[0m\u001b[1;33m\u001b[0m\u001b[1;33m\u001b[0m\u001b[0m\n\u001b[0m\u001b[0;32m    512\u001b[0m         \u001b[1;32melse\u001b[0m\u001b[1;33m:\u001b[0m\u001b[1;33m\u001b[0m\u001b[1;33m\u001b[0m\u001b[0m\n\u001b[0;32m    513\u001b[0m             \u001b[1;32mreturn\u001b[0m \u001b[0mconvertArcObjectToPythonObject\u001b[0m\u001b[1;33m(\u001b[0m\u001b[0mval\u001b[0m\u001b[1;33m)\u001b[0m\u001b[1;33m\u001b[0m\u001b[1;33m\u001b[0m\u001b[0m\n",
      "\u001b[1;31mExecuteError\u001b[0m: Failed to execute. Parameters are not valid.\nERROR 000732: Origin Table: Dataset LC_UnidadConstruccion does not exist or is not supported\nERROR 000732: Destination Table: Dataset COL_CarasLindero does not exist or is not supported\nFailed to execute (CreateRelationshipClass).\n"
     ]
    }
   ],
   "metadata": {}
  },
  {
   "cell_type": "markdown",
   "source": [
    "# Verificar cantidades:"
   ],
   "metadata": {}
  },
  {
   "cell_type": "code",
   "execution_count": null,
   "source": [
    "workspace = r'D:\\Dev\\Catastro\\SGC_Local\\SGC_v2\\sgcladm_202107231223.gdb'\r\n",
    "# Generate the list of relationship classes\r\n",
    "rc_list = [c for c in arcpy.Describe(workspace).children if c.datatype == \"RelationshipClass\"]\r\n",
    "rc_list_gdb = [c.name for c in rc_list]\r\n",
    "print (\"Relaciones .gdb: \"+str(len(rc_list_gdb)))\r\n",
    "\r\n",
    "workspace = r'D:\\Dev\\Catastro\\SGC_Local\\SGC_v2\\Pos_sgcv2tmp-SGCV2.sde'\r\n",
    "# Generate the list of relationship classes\r\n",
    "# rc_list = [c.name for c in arcpy.Describe(workspace).children if c.datatype == \"RelationshipClass\"]\r\n",
    "rc_list_sde = [c.name.split(\".\")[2] for c in arcpy.Describe(workspace).children if c.datatype == \"RelationshipClass\"]\r\n",
    "print (\"Relaciones .sde: \"+str(len(rc_list_sde)))\r\n",
    "\r\n",
    "rel_no_encontradas = [f for f in rc_list_gdb if f not in rc_list_sde]\r\n",
    "print(\"rel_no_encontradas: \"+str(rel_no_encontradas))"
   ],
   "outputs": [],
   "metadata": {}
  }
 ],
 "metadata": {
  "orig_nbformat": 4,
  "language_info": {
   "name": "python",
   "version": "3.7.9",
   "mimetype": "text/x-python",
   "codemirror_mode": {
    "name": "ipython",
    "version": 3
   },
   "pygments_lexer": "ipython3",
   "nbconvert_exporter": "python",
   "file_extension": ".py"
  },
  "kernelspec": {
   "name": "python3",
   "display_name": "Python 3.7.9 64-bit ('arcgispro-py3-clone': conda)"
  },
  "interpreter": {
   "hash": "a1312de666e040bd4c5ef5978aa02a450c60ef1a294c5c6dce6460557dcf4675"
  }
 },
 "nbformat": 4,
 "nbformat_minor": 2
}