{
 "cells": [
  {
   "cell_type": "code",
   "execution_count": 56,
   "metadata": {},
   "outputs": [],
   "source": [
    "from arcgis.gis import GIS\n",
    "# Log into ArcGIS Online by making a GIS connection to ArcGIS Online using your developer account.\n",
    "gis = GIS(\"http://arcgis.com\", \"renemorenow\")"
   ]
  },
  {
   "cell_type": "code",
   "execution_count": 57,
   "metadata": {},
   "outputs": [
    {
     "data": {
      "text/plain": [
       "[<Item title:\"Parks and Open Space\" type:Feature Layer Collection owner:renemorenow>]"
      ]
     },
     "execution_count": 57,
     "metadata": {},
     "output_type": "execute_result"
    }
   ],
   "source": [
    "# Search for the Trailhead Feature Layer you created, as a challenge, from CSV data in the Import Data tutorial.\n",
    "query = 'title: \"Parks and Open Space*\" AND type: \"Feature Service\"'\n",
    "search_results = gis.content.search(query=query, max_items=100)\n",
    "search_results"
   ]
  },
  {
   "cell_type": "code",
   "execution_count": 58,
   "metadata": {},
   "outputs": [
    {
     "data": {
      "text/plain": [
       "'https://services3.arcgis.com/Bd3GqULNdzgCeQfi/arcgis/rest/services/Parks_and_Open_Space/FeatureServer'"
      ]
     },
     "execution_count": 58,
     "metadata": {},
     "output_type": "execute_result"
    }
   ],
   "source": [
    "# csv_data = search_results[0]\n",
    "csv_data = search_results[0]\n",
    "csv_data.url"
   ]
  },
  {
   "cell_type": "code",
   "execution_count": 59,
   "metadata": {},
   "outputs": [
    {
     "data": {
      "text/plain": [
       "'Parks_and_Open_Space'"
      ]
     },
     "execution_count": 59,
     "metadata": {},
     "output_type": "execute_result"
    }
   ],
   "source": [
    "# Retrieve the list of layers from the feature layer collection, and assign the Trailshead feature layer to a variable.\n",
    "feature_layers = csv_data.layers\n",
    "trailheads_layer = feature_layers[0]\n",
    "trailheads_layer.properties.name"
   ]
  },
  {
   "cell_type": "code",
   "execution_count": 60,
   "metadata": {},
   "outputs": [
    {
     "name": "stdout",
     "output_type": "stream",
     "text": [
      "Name: FID             \tType: int\n",
      "Name: UNIT_ID         \tType: int\n",
      "Name: PARK_NAME       \tType: nvarchar\n",
      "Name: PARK_LBL        \tType: nvarchar\n",
      "Name: ACCESS_TYP      \tType: nvarchar\n",
      "Name: RPT_ACRES       \tType: float\n",
      "Name: GIS_ACRES       \tType: float\n",
      "Name: AGNCY_NAME      \tType: nvarchar\n",
      "Name: AGNCY_LEV       \tType: nvarchar\n",
      "Name: AGNCY_TYP       \tType: nvarchar\n",
      "Name: AGNCY_WEB       \tType: nvarchar\n",
      "Name: MNG_AGENCY      \tType: nvarchar\n",
      "Name: COGP_TYP        \tType: nvarchar\n",
      "Name: NDS_AN_TYP      \tType: nvarchar\n",
      "Name: NEEDS_ANLZ      \tType: nvarchar\n",
      "Name: TKIT_SUM        \tType: nvarchar\n",
      "Name: AMEN_RPT        \tType: nvarchar\n",
      "Name: PRKINF_CND      \tType: nvarchar\n",
      "Name: AM_OPNSP        \tType: nvarchar\n",
      "Name: AM_TRLS         \tType: nvarchar\n",
      "Name: TRLS_MI         \tType: float\n",
      "Name: TENIS           \tType: float\n",
      "Name: BSKTB           \tType: float\n",
      "Name: BASEB           \tType: float\n",
      "Name: SOCCR           \tType: float\n",
      "Name: MPFLD           \tType: float\n",
      "Name: FITZN           \tType: float\n",
      "Name: SK8PK           \tType: float\n",
      "Name: PCNIC           \tType: float\n",
      "Name: PLGND           \tType: float\n",
      "Name: POOLS           \tType: float\n",
      "Name: SPPAD           \tType: float\n",
      "Name: DGPRK           \tType: float\n",
      "Name: GYM             \tType: float\n",
      "Name: COMCT           \tType: float\n",
      "Name: SNRCT           \tType: float\n",
      "Name: RSTRM           \tType: float\n",
      "Name: TOTAL_GOOD      \tType: int\n",
      "Name: TOTAL_FAIR      \tType: int\n",
      "Name: TOTAL_POOR      \tType: int\n",
      "Name: TYPE            \tType: nvarchar\n",
      "Name: Shape__Are      \tType: float\n",
      "Name: Shape__Len      \tType: float\n",
      "Name: Shape__Area     \tType: float\n",
      "Name: Shape__Length   \tType: float\n"
     ]
    }
   ],
   "source": [
    "# Print a list of the field names and types so you can populate the values in the step below\n",
    "for field in trailheads_layer.properties['fields']:\n",
    "   print('Name: {:16s}\\tType: {}'.format(field['name'], field['actualType']))"
   ]
  },
  {
   "cell_type": "code",
   "execution_count": 61,
   "metadata": {},
   "outputs": [],
   "source": [
    "# Write a callback function for the map widget's on_click method.\n",
    "from arcgis import geometry\n",
    "from arcgis import features\n",
    "\n",
    "def create_feature(_map, location):\n",
    "    try:\n",
    "        object_id = 1\n",
    "        point = geometry.Point(location)\n",
    "        feature = features.Feature(\n",
    "            geometry=point,\n",
    "            attributes={\n",
    "                'OBJECTID': object_id,\n",
    "                'PARK_NAME': 'My Park',\n",
    "                'TRL_NAME': 'Foobar Trail',\n",
    "                'ELEV_FT': '5000'\n",
    "            }\n",
    "        )\n",
    "\n",
    "        trailheads_layer.edit_features(adds=[feature])\n",
    "        _map.draw(point)\n",
    "\n",
    "    except Exception as e:\n",
    "        print(\"Couldn't create the feature. {}\".format(str(e)))"
   ]
  },
  {
   "cell_type": "code",
   "execution_count": 62,
   "metadata": {},
   "outputs": [],
   "source": [
    "# Pass the function create_feature as a parameter to the map widget's on_click() method. Run the cell and begin clicking locations on the map.\n",
    "m = gis.map()\n",
    "\n",
    "# wait for the map to load, and then add the following in a new cell\n",
    "m.center = [34.09042, -118.71511]           # `[latitude, longitude]`\n",
    "m.zoom = 11\n",
    "m.on_click(create_feature)"
   ]
  },
  {
   "cell_type": "code",
   "execution_count": 63,
   "metadata": {},
   "outputs": [],
   "source": [
    "m.clear_graphics()"
   ]
  },
  {
   "cell_type": "code",
   "execution_count": 64,
   "metadata": {},
   "outputs": [],
   "source": [
    "m.add_layer(trailheads_layer)"
   ]
  }
 ],
 "metadata": {
  "kernelspec": {
   "display_name": "Python 3.9.13 64-bit",
   "language": "python",
   "name": "python3"
  },
  "language_info": {
   "codemirror_mode": {
    "name": "ipython",
    "version": 3
   },
   "file_extension": ".py",
   "mimetype": "text/x-python",
   "name": "python",
   "nbconvert_exporter": "python",
   "pygments_lexer": "ipython3",
   "version": "3.9.13"
  },
  "vscode": {
   "interpreter": {
    "hash": "25034407fed5d681614dac11a1c0537e8cb49e3a8883c071303eea01322943d9"
   }
  }
 },
 "nbformat": 4,
 "nbformat_minor": 2
}
