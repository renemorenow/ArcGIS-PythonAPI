{
 "cells": [
  {
   "cell_type": "code",
   "execution_count": null,
   "metadata": {},
   "outputs": [],
   "source": [
    "from arcgis.gis import GIS\n",
    "import pandas as pd\n",
    "from arcgis.features import GeoAccessor, GeoSeriesAccessor\n",
    "\n",
    "# Define a function that creates a map of the n largest fires in a state\n",
    "def create_map_large_fires(s, b, n):\n",
    "    gis = GIS()\n",
    "    m = gis.map(s)\n",
    "    m.basemap = b\n",
    "\n",
    "    sedf = pd.DataFrame.spatial.from_featureclass(r'C:\\EsriTraining\\VisualPythonAPI\\FirePoints.gdb\\FirePoints_Full')\n",
    "    sedf.loc[sedf.State == s, :].nlargest(n, 'Acres').spatial.plot(map_widget=m)\n",
    "\n",
    "    return m"
   ]
  },
  {
   "cell_type": "code",
   "execution_count": null,
   "metadata": {},
   "outputs": [],
   "source": [
    "# Define variables and pass them into the custom function\n",
    "STATE = 'Arizona'\n",
    "BASEMAP = 'national-geographic'\n",
    "N_LARGEST = 5 # The largest n fires to show on the map (For example, 5 will show the 5 largest fires by acres burned) \n",
    "\n",
    "create_map_large_fires(STATE, BASEMAP, N_LARGEST)"
   ]
  }
 ],
 "metadata": {
  "kernelspec": {
   "display_name": "ArcGISPro",
   "language": "Python",
   "name": "python3"
  },
  "language_info": {
   "file_extension": ".py",
   "name": "python",
   "version": "3"
  }
 },
 "nbformat": 4,
 "nbformat_minor": 2
}
