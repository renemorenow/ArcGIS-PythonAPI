{
 "cells": [
  {
   "cell_type": "code",
   "execution_count": null,
   "metadata": {},
   "outputs": [],
   "source": [
    "from arcgis.gis import GIS\n",
    "from __________ import WebMap\n",
    "gis = GIS(\"https://arcgis.com\", \"username\", \"password\")"
   ]
  },
  {
   "cell_type": "markdown",
   "metadata": {},
   "source": [
    "# Create practice web maps"
   ]
  },
  {
   "cell_type": "code",
   "execution_count": null,
   "metadata": {},
   "outputs": [],
   "source": [
    "maps_to_copy = ['0e71c646b598465cb21da10450b77d13', 'e4e24b4a44aa4e4ca58620f8ee46d7a0' ,'e1c4fbcb634f4d28a972c0c4018c1592']\n",
    "\n",
    "for webmap in maps_to_copy:\n",
    "    wm_item = gis.content.get(webmap)\n",
    "    new_webmap = WebMap(wm_item)\n",
    "    webmap_properties = {'title': wm_item.title,\n",
    "                        'snippet': 'A web map to practice automation workflows',\n",
    "                        'tags':['automation', 'Esri Training']}\n",
    "    new_webmap.save(webmap_properties, folder='VisualPythonAPI')"
   ]
  },
  {
   "cell_type": "markdown",
   "metadata": {},
   "source": [
    "# List items in a content folder"
   ]
  },
  {
   "cell_type": "code",
   "execution_count": null,
   "metadata": {
    "scrolled": false
   },
   "outputs": [],
   "source": [
    "me = gis.users.me\n",
    "webmaps_to_change = me.items(folder='VisualPythonAPI')\n",
    "\n",
    "for webmap_item in webmaps_to_change:\n",
    "    print(webmap_item.title)"
   ]
  },
  {
   "cell_type": "markdown",
   "metadata": {},
   "source": [
    "# Standardize the basemap among multiple maps"
   ]
  },
  {
   "cell_type": "code",
   "execution_count": null,
   "metadata": {},
   "outputs": [],
   "source": [
    "for wm_item in __________:\n",
    "    webmap = WebMap(wm_item)\n",
    "    # Add code to set the basemap\n",
    "    webmap.update()"
   ]
  }
 ],
 "metadata": {
  "kernelspec": {
   "display_name": "ArcGISPro",
   "language": "Python",
   "name": "python3"
  },
  "language_info": {
   "file_extension": ".py",
   "name": "python",
   "version": "3"
  }
 },
 "nbformat": 4,
 "nbformat_minor": 2
}
