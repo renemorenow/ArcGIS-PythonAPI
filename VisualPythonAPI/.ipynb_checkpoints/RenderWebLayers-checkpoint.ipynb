{
 "cells": [
  {
   "cell_type": "code",
   "execution_count": null,
   "metadata": {},
   "outputs": [],
   "source": [
    "from arcgis import GIS\n",
    "gis = GIS(\"https://arcgis.com\", \"renemorenow\")"
   ]
  },
  {
   "cell_type": "code",
   "execution_count": 3,
   "metadata": {},
   "outputs": [],
   "source": [
    "search_result = gis.content.search('title:Historical Wildfires in the Four Corners States', \n",
    "                                   item_type = 'Feature Layer', outside_org=True)\n",
    "fire_points = search_result[0]\n",
    "# fire_points"
   ]
  },
  {
   "cell_type": "markdown",
   "metadata": {},
   "source": [
    "# Use Smart Mapping"
   ]
  },
  {
   "cell_type": "code",
   "execution_count": 4,
   "metadata": {},
   "outputs": [],
   "source": [
    "map1 = gis.map()\n",
    "map1.zoom = 5\n",
    "map1.center = [36.998972,-109.045167]\n",
    "map1.basemap = 'hybrid'\n",
    "map1.legend = True\n",
    "# map1"
   ]
  },
  {
   "cell_type": "code",
   "execution_count": 7,
   "metadata": {},
   "outputs": [
    {
     "data": {
      "application/vnd.jupyter.widget-view+json": {
       "model_id": "8fda92db1a30428295cffd145bb706c9",
       "version_major": 2,
       "version_minor": 0
      },
      "text/plain": [
       "MapView(layout=Layout(height='400px', width='100%'), legend=True)"
      ]
     },
     "metadata": {},
     "output_type": "display_data"
    },
    {
     "data": {
      "text/html": [
       "<div class=\"map-static-img-preview-78016707-bca5-4a89-874a-d0b86694e4fe\"><img src=\"\"></img></div>"
      ],
      "text/plain": [
       "<IPython.core.display.HTML object>"
      ]
     },
     "metadata": {},
     "output_type": "display_data"
    },
    {
     "data": {
      "text/html": [
       "<div class=\"map-html-embed-preview-78016707-bca5-4a89-874a-d0b86694e4fe\"></div>"
      ],
      "text/plain": [
       "<IPython.core.display.HTML object>"
      ]
     },
     "metadata": {},
     "output_type": "display_data"
    }
   ],
   "source": [
    "# Add the feature layer to map1, using Smart Mapping to create a \n",
    "# graduated color map based on the Precip_Depart attribute field\n",
    "map1.add_layer(fire_points, {\"renderer\":\"ClassedColorRenderer\", \"field_name\":\"Precip_Depart\"})\n",
    "map1"
   ]
  },
  {
   "cell_type": "markdown",
   "metadata": {},
   "source": [
    "# Use autocasting"
   ]
  },
  {
   "cell_type": "code",
   "execution_count": null,
   "metadata": {},
   "outputs": [],
   "source": [
    "map2 = gis.map()\n",
    "map2.zoom = 5\n",
    "map2.center = [36.998972,-109.045167]\n",
    "map2.basemap = 'gray'\n",
    "map2.legend = True\n",
    "map2"
   ]
  },
  {
   "cell_type": "code",
   "execution_count": null,
   "metadata": {},
   "outputs": [],
   "source": [
    "# Set up a custom renderer\n",
    "\n",
    "renderer = {\"renderer\": \"autocast\", #Tell python to use JS autocasting\n",
    "            \"type\": \"classBreaks\",  \n",
    "            \"field\":\"Acres\",\n",
    "            \"transparency\":25,\n",
    "            \"minValue\":-9007199254740991}\n",
    "\n",
    "renderer[\"visualVariables\"] = [{   \"type\": \"sizeInfo\",\n",
    "                                            \"field\": \"Acres\",\n",
    "                                            \"valueUnit\": \"unknown\",\n",
    "                                            \"minSize\": 3,\n",
    "                                            \"maxSize\": 30,\n",
    "                                            \"minDataValue\": 0,\n",
    "                                            \"maxDataValue\": 500000\n",
    "                                    },\n",
    "                               {   \"type\": \"colorInfo\",\n",
    "                                           \"field\": \"Precip_Depart\",\n",
    "                                           \"stops\": [  {   \"value\": -6,\n",
    "                                                            \"color\": [166,97,26,255],\n",
    "                                                            \"label\": \"< -6\"\n",
    "                                                        },\n",
    "                                                        {   \"value\": -3,\n",
    "                                                            \"color\": [223,194,125,255],\n",
    "                                                            \"label\": \"-3\"\n",
    "                                                        },\n",
    "                                                        {   \"value\": 0,\n",
    "                                                            \"color\": [245,245,245,255],\n",
    "                                                            \"label\": \"0\"\n",
    "                                                        },\n",
    "                                                        {   \"value\": 3,\n",
    "                                                            \"color\": [128,205,193,255],\n",
    "                                                            \"label\": \"3\"\n",
    "                                                        },\n",
    "                                                        {   \"value\": 6,\n",
    "                                                            \"color\": [1,133,113,255],\n",
    "                                                            \"label\": \"> 6\"\n",
    "                                                        }],\n",
    "                                            \"legendOptions\": {\"title\": \"Departure from average precipitation (inches)\"}\n",
    "                                    }]\n",
    "\n",
    "renderer[\"classBreakInfos\"] =     [{   \"symbol\": {\n",
    "                                                \"color\": [227,139,79,255],\n",
    "                                                \"size\": 2,\n",
    "                                                \"angle\": 0,\n",
    "                                                \"xoffset\": 0,\n",
    "                                                \"yoffset\": 0,\n",
    "                                                \"type\": \"esriSMS\",\n",
    "                                                \"style\": \"esriSMSCircle\",\n",
    "                                                \"outline\": {\n",
    "                                                    \"color\": [51,51,51,20],\n",
    "                                                    \"width\": 0.75,\n",
    "                                                    \"type\": \"esriSLS\",\n",
    "                                                    \"style\": \"esriSLSSolid\"\n",
    "                                                }\n",
    "                                            },\n",
    "                                            \"classMaxValue\": 9007199254740991\n",
    "                                        }]"
   ]
  },
  {
   "cell_type": "code",
   "execution_count": null,
   "metadata": {},
   "outputs": [],
   "source": [
    "# Add the feature layer to map2, using autocasting to render the data\n",
    "map2.add_layer(fire_points, { \"type\": \"FeatureLayer\", \"renderer\":renderer, \"field_name\":\"Acres\"})\n"
   ]
  }
 ],
 "metadata": {
  "kernelspec": {
   "display_name": "Python 3 (ipykernel)",
   "language": "python",
   "name": "python3"
  },
  "language_info": {
   "codemirror_mode": {
    "name": "ipython",
    "version": 3
   },
   "file_extension": ".py",
   "mimetype": "text/x-python",
   "name": "python",
   "nbconvert_exporter": "python",
   "pygments_lexer": "ipython3",
   "version": "3.9.13"
  },
  "vscode": {
   "interpreter": {
    "hash": "6085f8b8ffd688a54e732bb2d8a1e7f06b731569fbfa9e59aa638e5a28281238"
   }
  }
 },
 "nbformat": 4,
 "nbformat_minor": 2
}
