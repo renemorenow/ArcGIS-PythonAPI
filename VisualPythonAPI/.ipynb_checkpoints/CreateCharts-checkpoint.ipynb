{
 "cells": [
  {
   "cell_type": "markdown",
   "metadata": {},
   "source": [
    "## Import modules"
   ]
  },
  {
   "cell_type": "code",
   "execution_count": null,
   "metadata": {},
   "outputs": [],
   "source": [
    "import pandas as pd\n",
    "from arcgis.features import GeoAccessor, GeoSeriesAccessor\n",
    "import matplotlib.pyplot as plt\n",
    "\n",
    "# add the magic command to keep charts inline\n",
    "\n"
   ]
  },
  {
   "cell_type": "markdown",
   "metadata": {},
   "source": [
    "## Set the spatially enabled dataframe and filter data"
   ]
  },
  {
   "cell_type": "code",
   "execution_count": null,
   "metadata": {},
   "outputs": [],
   "source": [
    "sedf = pd.DataFrame.spatial.from_featureclass(r'C:\\EsriTraining\\VisualPythonAPI\\FirePoints.gdb\\FirePoints_Full')"
   ]
  },
  {
   "cell_type": "code",
   "execution_count": null,
   "metadata": {},
   "outputs": [],
   "source": [
    "# filter the sedf to contain only firetypes equal to 'Wildfire'\n",
    "wildfires_df = sedf[sedf[\"Fire_Type\"] == \"Wildfire\"]"
   ]
  },
  {
   "cell_type": "markdown",
   "metadata": {},
   "source": [
    "## Set-up chart properties"
   ]
  },
  {
   "cell_type": "code",
   "execution_count": null,
   "metadata": {},
   "outputs": [],
   "source": [
    "# set the chart index to the years present in the dataset column 'Ig_Date'\n",
    "# and sum wildfires by year\n",
    "wildfires_by_year = wildfires_df.set_index(\"Ig_Date\").groupby(pd.Grouper(freq=\"Y\")).sum()"
   ]
  },
  {
   "cell_type": "markdown",
   "metadata": {},
   "source": [
    "## Create a line chart"
   ]
  },
  {
   "cell_type": "code",
   "execution_count": null,
   "metadata": {},
   "outputs": [],
   "source": [
    "# plot the df colum Acres on the chart g2\n",
    "wildfires_by_year[\"Acres\"].plot()\n",
    "\n",
    "# add code to show the chart\n"
   ]
  },
  {
   "cell_type": "markdown",
   "metadata": {},
   "source": [
    "## Create an area chart"
   ]
  },
  {
   "cell_type": "code",
   "execution_count": null,
   "metadata": {},
   "outputs": [],
   "source": [
    "# plot acres as shaded area\n",
    "wildfires_by_year[\"Acres\"].plot.area()\n",
    "plt.show()"
   ]
  },
  {
   "cell_type": "markdown",
   "metadata": {},
   "source": [
    "## Create a histogram"
   ]
  },
  {
   "cell_type": "code",
   "execution_count": null,
   "metadata": {},
   "outputs": [],
   "source": [
    "# plot frequency of precipitation departure from normal as a histogram\n",
    "wildfires_df[\"Precip_Depart\"].plot(kind=    , # add code to set plot kind to histogram\n",
    "                                   bins=12)\n",
    "plt.show()"
   ]
  },
  {
   "cell_type": "markdown",
   "metadata": {},
   "source": [
    "## Create a scatter plot"
   ]
  },
  {
   "cell_type": "code",
   "execution_count": null,
   "metadata": {},
   "outputs": [],
   "source": [
    "# create a scatter plot comparing acres burned to precipitation departure\n",
    "sedf.plot.scatter() # add code for the x and y variables\n",
    "plt.show()"
   ]
  }
 ],
 "metadata": {
  "kernelspec": {
   "display_name": "Python 3 (ipykernel)",
   "language": "python",
   "name": "python3"
  },
  "language_info": {
   "codemirror_mode": {
    "name": "ipython",
    "version": 3
   },
   "file_extension": ".py",
   "mimetype": "text/x-python",
   "name": "python",
   "nbconvert_exporter": "python",
   "pygments_lexer": "ipython3",
   "version": "3.9.13"
  }
 },
 "nbformat": 4,
 "nbformat_minor": 2
}
